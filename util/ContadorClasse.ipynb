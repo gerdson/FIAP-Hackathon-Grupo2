{
 "cells": [
  {
   "cell_type": "code",
   "execution_count": 1,
   "metadata": {},
   "outputs": [],
   "source": [
    "import os\n",
    "\n",
    "def contar_classes_yolo(pasta_labels):\n",
    "    \"\"\"\n",
    "    Conta a quantidade de objetos por classe em arquivos de texto no formato YOLO.\n",
    "\n",
    "    Args:\n",
    "        pasta_labels (str): Caminho para a pasta contendo os arquivos .txt com as anotações YOLO.\n",
    "\n",
    "    Returns:\n",
    "        dict: Um dicionário onde as chaves são as classes (inteiros) e os valores são as contagens.\n",
    "    \"\"\"\n",
    "    contagem_classes = {}  # Dicionário para armazenar a contagem de cada classe\n",
    "\n",
    "    for arquivo_nome in os.listdir(pasta_labels):  # Itera sobre cada arquivo na pasta\n",
    "        if arquivo_nome.endswith(\".txt\"):  # Garante que estamos processando apenas arquivos de texto\n",
    "            caminho_arquivo = os.path.join(pasta_labels, arquivo_nome)\n",
    "            try:\n",
    "                with open(caminho_arquivo, \"r\") as arquivo:  # Abre o arquivo para leitura\n",
    "                    for linha in arquivo:  # Itera sobre cada linha do arquivo\n",
    "                        linha = linha.strip()  # Remove espaços em branco e quebras de linha\n",
    "                        if linha:  # Garante que não estamos processando linhas vazias\n",
    "                            classe_str = linha.split()[0]  # Pega o primeiro elemento da linha (a classe)\n",
    "                            classe = int(classe_str) # Converte a classe para inteiro\n",
    "\n",
    "                            if classe in contagem_classes:\n",
    "                                contagem_classes[classe] += 1  # Incrementa a contagem se a classe já existe\n",
    "                            else:\n",
    "                                contagem_classes[classe] = 1  # Adiciona a classe com contagem 1 se for a primeira vez\n",
    "            except FileNotFoundError:\n",
    "              print(f\"Arquivo não encontrado: {caminho_arquivo}\")\n",
    "            except Exception as e:\n",
    "                print(f\"Erro ao processar o arquivo {caminho_arquivo}: {e}\")\n",
    "\n",
    "    return contagem_classes  # Retorna o dicionário com as contagens"
   ]
  },
  {
   "cell_type": "code",
   "execution_count": 2,
   "metadata": {},
   "outputs": [
    {
     "name": "stdout",
     "output_type": "stream",
     "text": [
      "Contagem de objetos por classe:\n",
      "  Arma: 22388\n",
      "  Cortante: 27833\n"
     ]
    }
   ],
   "source": [
    "pasta_labels = \"/home/gerdson/projetos/detector_armas/datasets/facas_armas_tesouras/train/labels\"  # Substitua pelo caminho da sua pasta labels\n",
    "contagens = contar_classes_yolo(pasta_labels)\n",
    "\n",
    "if contagens:\n",
    "  print(\"Contagem de objetos por classe:\")\n",
    "  for classe, contagem in contagens.items():\n",
    "    if classe == 0:\n",
    "      print(f\"  Cortante: {contagem}\")\n",
    "    elif classe == 1:\n",
    "      print(f\"  Arma: {contagem}\")\n",
    "    else:\n",
    "      print(f\"  Classe {classe}: {contagem}\")\n",
    "else:\n",
    "  print(\"Nenhum arquivo de anotação encontrado ou erro ao processar.\")"
   ]
  },
  {
   "cell_type": "code",
   "execution_count": 4,
   "metadata": {},
   "outputs": [
    {
     "name": "stdout",
     "output_type": "stream",
     "text": [
      "Contagem de objetos por classe:\n",
      "  Cortante: 2932\n",
      "  Arma: 2549\n"
     ]
    }
   ],
   "source": [
    "pasta_labels = \"/home/gerdson/projetos/detector_armas/datasets/facas_armas_tesouras/valid/labels\"  # Substitua pelo caminho da sua pasta labels\n",
    "contagens = contar_classes_yolo(pasta_labels)\n",
    "\n",
    "if contagens:\n",
    "  print(\"Contagem de objetos por classe:\")\n",
    "  for classe, contagem in contagens.items():\n",
    "    if classe == 0:\n",
    "      print(f\"  Cortante: {contagem}\")\n",
    "    elif classe == 1:\n",
    "      print(f\"  Arma: {contagem}\")\n",
    "    else:\n",
    "      print(f\"  Classe {classe}: {contagem}\")\n",
    "else:\n",
    "  print(\"Nenhum arquivo de anotação encontrado ou erro ao processar.\")"
   ]
  }
 ],
 "metadata": {
  "kernelspec": {
   "display_name": "Python 3 (ipykernel)",
   "language": "python",
   "name": "python3"
  },
  "language_info": {
   "codemirror_mode": {
    "name": "ipython",
    "version": 3
   },
   "file_extension": ".py",
   "mimetype": "text/x-python",
   "name": "python",
   "nbconvert_exporter": "python",
   "pygments_lexer": "ipython3",
   "version": "3.12.8"
  }
 },
 "nbformat": 4,
 "nbformat_minor": 4
}
