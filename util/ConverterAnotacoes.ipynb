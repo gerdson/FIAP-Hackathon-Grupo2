{
 "cells": [
  {
   "cell_type": "code",
   "execution_count": 1,
   "metadata": {},
   "outputs": [],
   "source": [
    "import xml.etree.ElementTree as ET\n",
    "import os\n",
    "\n",
    "def converter_xml_para_yolo(caminho_xml, caminho_txt, classes):\n",
    "    \"\"\"\n",
    "    Converte um arquivo XML de anotação para o formato YOLO TXT.\n",
    "\n",
    "    Args:\n",
    "        caminho_xml (str): Caminho para o arquivo XML.\n",
    "        caminho_txt (str): Caminho para salvar o arquivo TXT.\n",
    "        classes (dict): Dicionário que mapeia o nome da classe para o índice numérico.\n",
    "    \"\"\"\n",
    "\n",
    "    tree = ET.parse(caminho_xml)\n",
    "    root = tree.getroot()\n",
    "\n",
    "    largura_img = int(root.find(\"size/width\").text)\n",
    "    altura_img = int(root.find(\"size/height\").text)\n",
    "\n",
    "    with open(caminho_txt, \"w\") as f:\n",
    "        for obj in root.findall(\"object\"):\n",
    "            nome_classe = obj.find(\"name\").text\n",
    "            if nome_classe not in classes:\n",
    "                continue  # Pula objetos que não estão no dicionário de classes\n",
    "\n",
    "            classe_id = classes[nome_classe]\n",
    "            xmin = int(obj.find(\"bndbox/xmin\").text)\n",
    "            ymin = int(obj.find(\"bndbox/ymin\").text)\n",
    "            xmax = int(obj.find(\"bndbox/xmax\").text)\n",
    "            ymax = int(obj.find(\"bndbox/ymax\").text)\n",
    "\n",
    "            x_centro = (xmin + xmax) / 2.0\n",
    "            y_centro = (ymin + ymax) / 2.0\n",
    "            largura = xmax - xmin\n",
    "            altura = ymax - ymin\n",
    "\n",
    "            x_centro_norm = x_centro / largura_img\n",
    "            y_centro_norm = y_centro / altura_img\n",
    "            largura_norm = largura / largura_img\n",
    "            altura_norm = altura / altura_img\n",
    "\n",
    "            f.write(f\"{classe_id} {x_centro_norm:.6f} {y_centro_norm:.6f} {largura_norm:.6f} {altura_norm:.6f}\\n\")\n"
   ]
  },
  {
   "cell_type": "code",
   "execution_count": 2,
   "metadata": {},
   "outputs": [
    {
     "name": "stdout",
     "output_type": "stream",
     "text": [
      "Conversão concluída!\n"
     ]
    }
   ],
   "source": [
    "caminho_pasta_xml = \"/mnt/d/Estudo/FIAP/Fase5/TechChallenge/OD-WeaponDetection-master/Knife_detection/annotations\"  # Substitua pelo caminho real\n",
    "caminho_pasta_txt = \"/mnt/d/Estudo/FIAP/Fase5/TechChallenge/OD-WeaponDetection-master/Knife_detection/labels\" # Substitua pelo caminho real\n",
    "\n",
    "# Defina o mapeamento de classes (ex: knife=0, gun=1 etc)\n",
    "classes = {\"knife\": 0}  # Adapte conforme suas classes\n",
    "\n",
    "# Garante que a pasta de saida dos txts exista\n",
    "os.makedirs(caminho_pasta_txt, exist_ok=True)\n",
    "\n",
    "\n",
    "for nome_arquivo_xml in os.listdir(caminho_pasta_xml):\n",
    "    if nome_arquivo_xml.endswith(\".xml\"):\n",
    "        caminho_xml = os.path.join(caminho_pasta_xml, nome_arquivo_xml)\n",
    "        nome_base = os.path.splitext(nome_arquivo_xml)[0]\n",
    "        caminho_txt = os.path.join(caminho_pasta_txt, nome_base + \".txt\")\n",
    "        converter_xml_para_yolo(caminho_xml, caminho_txt, classes)\n",
    "\n",
    "print(\"Conversão concluída!\")"
   ]
  },
  {
   "cell_type": "code",
   "execution_count": 3,
   "metadata": {},
   "outputs": [
    {
     "name": "stdout",
     "output_type": "stream",
     "text": [
      "Conversão concluída!\n"
     ]
    }
   ],
   "source": [
    "caminho_pasta_xml = \"/mnt/d/Estudo/FIAP/Fase5/TechChallenge/OD-WeaponDetection-master/Pistol detection/xmls\"  # Substitua pelo caminho real\n",
    "caminho_pasta_txt = \"/mnt/d/Estudo/FIAP/Fase5/TechChallenge/OD-WeaponDetection-master/Pistol detection/labels\" # Substitua pelo caminho real\n",
    "\n",
    "# Defina o mapeamento de classes (ex: knife=0, gun=1 etc)\n",
    "classes = {\"pistol\": 0}  # Adapte conforme suas classes\n",
    "\n",
    "# Garante que a pasta de saida dos txts exista\n",
    "os.makedirs(caminho_pasta_txt, exist_ok=True)\n",
    "\n",
    "\n",
    "for nome_arquivo_xml in os.listdir(caminho_pasta_xml):\n",
    "    if nome_arquivo_xml.endswith(\".xml\"):\n",
    "        caminho_xml = os.path.join(caminho_pasta_xml, nome_arquivo_xml)\n",
    "        nome_base = os.path.splitext(nome_arquivo_xml)[0]\n",
    "        caminho_txt = os.path.join(caminho_pasta_txt, nome_base + \".txt\")\n",
    "        converter_xml_para_yolo(caminho_xml, caminho_txt, classes)\n",
    "\n",
    "print(\"Conversão concluída!\")"
   ]
  }
 ],
 "metadata": {
  "kernelspec": {
   "display_name": "yolov11",
   "language": "python",
   "name": "python3"
  },
  "language_info": {
   "codemirror_mode": {
    "name": "ipython",
    "version": 3
   },
   "file_extension": ".py",
   "mimetype": "text/x-python",
   "name": "python",
   "nbconvert_exporter": "python",
   "pygments_lexer": "ipython3",
   "version": "3.12.8"
  }
 },
 "nbformat": 4,
 "nbformat_minor": 2
}
