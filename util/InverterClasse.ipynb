{
 "cells": [
  {
   "cell_type": "code",
   "execution_count": 1,
   "metadata": {},
   "outputs": [],
   "source": [
    "import os\n",
    "\n",
    "def inverter_classes_yolo(pasta_labels):\n",
    "    \"\"\"\n",
    "    Inverte as classes (0 e 1) em arquivos de texto no formato YOLO.\n",
    "    Assume que 0 representa arma e 1 representa faca. Inverte para 0 = faca e 1 = arma\n",
    "\n",
    "    Args:\n",
    "        pasta_labels (str): Caminho para a pasta contendo os arquivos .txt com as anotações YOLO.\n",
    "    \"\"\"\n",
    "    for arquivo_nome in os.listdir(pasta_labels):\n",
    "        if arquivo_nome.endswith(\".txt\"):\n",
    "            caminho_arquivo = os.path.join(pasta_labels, arquivo_nome)\n",
    "            linhas_modificadas = []  # Lista para armazenar as linhas modificadas\n",
    "            try:\n",
    "                with open(caminho_arquivo, \"r\") as arquivo:\n",
    "                    for linha in arquivo:\n",
    "                        linha = linha.strip()\n",
    "                        if linha:\n",
    "                            partes = linha.split()\n",
    "                            classe = int(partes[0])\n",
    "                            # Inverte a classe: 0 vira 1, 1 vira 0, e as outras mantém o mesmo\n",
    "                            if classe == 0:\n",
    "                                partes[0] = \"1\"\n",
    "                            elif classe == 1:\n",
    "                                partes[0] = \"0\"\n",
    "                            linha_modificada = \" \".join(partes)\n",
    "                            linhas_modificadas.append(linha_modificada)\n",
    "                        else:\n",
    "                           linhas_modificadas.append(\"\") # Mantém linhas vazias\n",
    "            except FileNotFoundError:\n",
    "              print(f\"Arquivo não encontrado: {caminho_arquivo}\")\n",
    "            except Exception as e:\n",
    "              print(f\"Erro ao processar o arquivo {caminho_arquivo}: {e}\")\n",
    "            # Escreve as linhas modificadas de volta no arquivo\n",
    "            try:\n",
    "                with open(caminho_arquivo, \"w\") as arquivo:\n",
    "                    arquivo.write(\"\\n\".join(linhas_modificadas))\n",
    "            except Exception as e:\n",
    "                print(f\"Erro ao salvar o arquivo {caminho_arquivo}: {e}\")"
   ]
  },
  {
   "cell_type": "code",
   "execution_count": 2,
   "metadata": {},
   "outputs": [
    {
     "name": "stdout",
     "output_type": "stream",
     "text": [
      "Classes invertidas nos arquivos de anotações.\n"
     ]
    }
   ],
   "source": [
    "pasta_labels = \"/mnt/d/Estudo/FIAP/Fase5/TechChallenge/gun-knife-thesis.v11-yolov5-augmented.yolov11/train/labels_invertido\"  # Substitua pelo caminho da sua pasta labels\n",
    "inverter_classes_yolo(pasta_labels)\n",
    "print(\"Classes invertidas nos arquivos de anotações.\")"
   ]
  },
  {
   "cell_type": "code",
   "execution_count": 4,
   "metadata": {},
   "outputs": [
    {
     "name": "stdout",
     "output_type": "stream",
     "text": [
      "Classes invertidas nos arquivos de anotações.\n"
     ]
    }
   ],
   "source": [
    "pasta_labels = \"/mnt/d/Estudo/FIAP/Fase5/TechChallenge/gun-knife-thesis.v11-yolov5-augmented.yolov11/valid/labels_invertido\"  # Substitua pelo caminho da sua pasta labels\n",
    "inverter_classes_yolo(pasta_labels)\n",
    "print(\"Classes invertidas nos arquivos de anotações.\")"
   ]
  }
 ],
 "metadata": {
  "kernelspec": {
   "display_name": "yolov11",
   "language": "python",
   "name": "python3"
  },
  "language_info": {
   "codemirror_mode": {
    "name": "ipython",
    "version": 3
   },
   "file_extension": ".py",
   "mimetype": "text/x-python",
   "name": "python",
   "nbconvert_exporter": "python",
   "pygments_lexer": "ipython3",
   "version": "3.12.8"
  }
 },
 "nbformat": 4,
 "nbformat_minor": 2
}
