{
 "cells": [
  {
   "cell_type": "code",
   "execution_count": 1,
   "metadata": {},
   "outputs": [],
   "source": [
    "import os\n",
    "\n",
    "def converter_classe_yolo(pasta_labels, classe_antiga, classe_nova):\n",
    "    \"\"\"\n",
    "    Converte uma classe específica em todos os arquivos de anotação YOLO dentro de um diretório.\n",
    "\n",
    "    Args:\n",
    "        pasta_labels (str): Caminho para a pasta contendo os arquivos .txt com as anotações YOLO.\n",
    "        classe_antiga (int): O valor da classe que será substituída.\n",
    "        classe_nova (int): O novo valor da classe.\n",
    "    \"\"\"\n",
    "    for arquivo_nome in os.listdir(pasta_labels):\n",
    "        if arquivo_nome.endswith(\".txt\"):\n",
    "            caminho_arquivo = os.path.join(pasta_labels, arquivo_nome)\n",
    "            linhas_modificadas = []\n",
    "            try:\n",
    "                with open(caminho_arquivo, \"r\") as arquivo:\n",
    "                    for linha in arquivo:\n",
    "                        linha = linha.strip()\n",
    "                        if linha:\n",
    "                            partes = linha.split()\n",
    "                            classe_atual = int(partes[0])\n",
    "                            if classe_atual == classe_antiga:\n",
    "                                partes[0] = str(classe_nova)\n",
    "                            linha_modificada = \" \".join(partes)\n",
    "                            linhas_modificadas.append(linha_modificada)\n",
    "                        else:\n",
    "                          linhas_modificadas.append(\"\") # Mantem linhas vazias\n",
    "            except FileNotFoundError:\n",
    "              print(f\"Arquivo não encontrado: {caminho_arquivo}\")\n",
    "            except Exception as e:\n",
    "              print(f\"Erro ao processar o arquivo {caminho_arquivo}: {e}\")\n",
    "\n",
    "            try:\n",
    "               with open(caminho_arquivo, \"w\") as arquivo:\n",
    "                   arquivo.write(\"\\n\".join(linhas_modificadas))\n",
    "            except Exception as e:\n",
    "              print(f\"Erro ao salvar o arquivo {caminho_arquivo}: {e}\")"
   ]
  },
  {
   "cell_type": "code",
   "execution_count": 2,
   "metadata": {},
   "outputs": [
    {
     "name": "stdout",
     "output_type": "stream",
     "text": [
      "Classe 2 convertida para 0 nos arquivos de anotações.\n"
     ]
    }
   ],
   "source": [
    "pasta_labels = \"/home/gerdson/projetos/detector_armas/datasets/facas_armas_tesouras/train/labels\"  # Substitua pelo caminho da sua pasta labels\n",
    "classe_antiga = 2        # Substitua pela classe que deseja converter\n",
    "classe_nova = 0        # Substitua pela nova classe\n",
    "converter_classe_yolo(pasta_labels, classe_antiga, classe_nova)\n",
    "print(f\"Classe {classe_antiga} convertida para {classe_nova} nos arquivos de anotações.\")"
   ]
  },
  {
   "cell_type": "code",
   "execution_count": 3,
   "metadata": {},
   "outputs": [
    {
     "name": "stdout",
     "output_type": "stream",
     "text": [
      "Classe 2 convertida para 0 nos arquivos de anotações.\n"
     ]
    }
   ],
   "source": [
    "pasta_labels = \"/home/gerdson/projetos/detector_armas/datasets/facas_armas_tesouras/valid/labels\"  # Substitua pelo caminho da sua pasta labels\n",
    "classe_antiga = 2        # Substitua pela classe que deseja converter\n",
    "classe_nova = 0        # Substitua pela nova classe\n",
    "converter_classe_yolo(pasta_labels, classe_antiga, classe_nova)\n",
    "print(f\"Classe {classe_antiga} convertida para {classe_nova} nos arquivos de anotações.\")"
   ]
  }
 ],
 "metadata": {
  "kernelspec": {
   "display_name": "Python 3 (ipykernel)",
   "language": "python",
   "name": "python3"
  },
  "language_info": {
   "codemirror_mode": {
    "name": "ipython",
    "version": 3
   },
   "file_extension": ".py",
   "mimetype": "text/x-python",
   "name": "python",
   "nbconvert_exporter": "python",
   "pygments_lexer": "ipython3",
   "version": "3.12.8"
  }
 },
 "nbformat": 4,
 "nbformat_minor": 4
}
