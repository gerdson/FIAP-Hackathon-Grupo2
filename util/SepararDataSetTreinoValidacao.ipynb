{
 "cells": [
  {
   "cell_type": "code",
   "execution_count": 3,
   "metadata": {},
   "outputs": [],
   "source": [
    "import os\n",
    "import shutil\n",
    "import random\n",
    "from sklearn.model_selection import train_test_split\n",
    "\n",
    "def split_dataset(dataset_path, output_path, validation_size=0.2, random_seed=42):\n",
    "    \"\"\"\n",
    "    Divide um dataset de imagens e anotações YOLO em conjuntos de treino e validação.\n",
    "\n",
    "    Args:\n",
    "        dataset_path (str): Caminho para a pasta principal do dataset (onde estão imagens e anotações).\n",
    "        output_path (str): Caminho para a pasta onde as subpastas 'train' e 'valid' serão criadas.\n",
    "        validation_size (float, opcional): Proporção do dataset a ser usada para validação (0.0 a 1.0). Padrão: 0.2.\n",
    "        random_seed (int, opcional): Semente aleatória para reproduzibilidade. Padrão: 42.\n",
    "    \"\"\"\n",
    "\n",
    "    random.seed(random_seed)\n",
    "    \n",
    "    images_dir = os.path.join(dataset_path, \"images\")\n",
    "    labels_dir = os.path.join(dataset_path, \"labels\")\n",
    "\n",
    "    if not os.path.exists(images_dir) or not os.path.exists(labels_dir):\n",
    "      raise ValueError(\"As pastas 'images' e 'labels' não foram encontradas no caminho do dataset.\")\n",
    "\n",
    "    \n",
    "    all_images = [f for f in os.listdir(images_dir) if os.path.isfile(os.path.join(images_dir, f))]\n",
    "\n",
    "    # Garante que as imagens e anotações tem o mesmo nome, se não, ele para\n",
    "    for img_name in all_images:\n",
    "      label_name = os.path.splitext(img_name)[0] + '.txt'\n",
    "      if not os.path.exists(os.path.join(labels_dir, label_name)):\n",
    "        raise ValueError(f\"A anotação {label_name} não foi encontrada para a imagem {img_name}.\")\n",
    "\n",
    "    \n",
    "    # Separa as imagens para treino e validacao\n",
    "    train_images, val_images = train_test_split(all_images, test_size=validation_size, random_state=random_seed)\n",
    "    \n",
    "\n",
    "    # Cria os diretórios de saída, se não existirem\n",
    "    os.makedirs(os.path.join(output_path, \"train\", \"images\"), exist_ok=True)\n",
    "    os.makedirs(os.path.join(output_path, \"train\", \"labels\"), exist_ok=True)\n",
    "    os.makedirs(os.path.join(output_path, \"valid\", \"images\"), exist_ok=True)\n",
    "    os.makedirs(os.path.join(output_path, \"valid\", \"labels\"), exist_ok=True)\n",
    "\n",
    "    # Copia as imagens e as anotações para suas pastas de treino e validação\n",
    "    for img_name in train_images:\n",
    "        shutil.copy(os.path.join(images_dir, img_name), os.path.join(output_path, \"train\", \"images\"))\n",
    "        label_name = os.path.splitext(img_name)[0] + '.txt'\n",
    "        shutil.copy(os.path.join(labels_dir, label_name), os.path.join(output_path, \"train\", \"labels\"))\n",
    "    \n",
    "    for img_name in val_images:\n",
    "        shutil.copy(os.path.join(images_dir, img_name), os.path.join(output_path, \"valid\", \"images\"))\n",
    "        label_name = os.path.splitext(img_name)[0] + '.txt'\n",
    "        shutil.copy(os.path.join(labels_dir, label_name), os.path.join(output_path, \"valid\", \"labels\"))\n",
    "\n",
    "    print(f\"Dataset dividido com sucesso! As pastas 'train' e 'valid' foram criadas em: {output_path}\")"
   ]
  },
  {
   "cell_type": "code",
   "execution_count": 4,
   "metadata": {},
   "outputs": [
    {
     "name": "stdout",
     "output_type": "stream",
     "text": [
      "Dataset dividido com sucesso! As pastas 'train' e 'valid' foram criadas em: /home/gerdson/projetos/datasets/frames_videos_renomeados_separados\n"
     ]
    }
   ],
   "source": [
    "# Define os caminhos do seu dataset\n",
    "dataset_path = \"/home/gerdson/projetos/datasets/frames_videos_renomeados\"  # Caminho para a pasta principal do seu dataset (que deve ter subpastas 'images' e 'labels')\n",
    "output_path = \"/home/gerdson/projetos/datasets/frames_videos_renomeados_separados\"  # Caminho para onde as pastas 'train' e 'val' serão criadas\n",
    "validation_size = 0.2 # Porcentagem do dataset para validação\n",
    "    \n",
    "# Exemplo de uso\n",
    "try:\n",
    "    split_dataset(dataset_path, output_path, validation_size)\n",
    "except ValueError as e:\n",
    "    print(f\"Erro: {e}\")"
   ]
  }
 ],
 "metadata": {
  "kernelspec": {
   "display_name": "streamlit2",
   "language": "python",
   "name": "python3"
  },
  "language_info": {
   "codemirror_mode": {
    "name": "ipython",
    "version": 3
   },
   "file_extension": ".py",
   "mimetype": "text/x-python",
   "name": "python",
   "nbconvert_exporter": "python",
   "pygments_lexer": "ipython3",
   "version": "3.12.8"
  }
 },
 "nbformat": 4,
 "nbformat_minor": 2
}
