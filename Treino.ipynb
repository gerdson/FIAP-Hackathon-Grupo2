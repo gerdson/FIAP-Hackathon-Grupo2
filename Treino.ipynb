{
 "cells": [
  {
   "cell_type": "markdown",
   "metadata": {},
   "source": [
    "# Configs"
   ]
  },
  {
   "cell_type": "code",
   "execution_count": 1,
   "metadata": {},
   "outputs": [
    {
     "data": {
      "text/plain": [
       "{'settings_version': '0.0.6',\n",
       " 'datasets_dir': '/home/gerdson/projetos/FIAP-Hackathon-Grupo2/datasets',\n",
       " 'weights_dir': '/home/gerdson/projetos/FIAP-Hackathon-Grupo2/weights',\n",
       " 'runs_dir': '/home/gerdson/projetos/FIAP-Hackathon-Grupo2/runs',\n",
       " 'uuid': '765bacf433b23056de58d9ce6fef2008d6ad1b127e866ab4c974826f73d3d1e8',\n",
       " 'sync': True,\n",
       " 'api_key': '',\n",
       " 'openai_api_key': '',\n",
       " 'clearml': True,\n",
       " 'comet': True,\n",
       " 'dvc': True,\n",
       " 'hub': True,\n",
       " 'mlflow': True,\n",
       " 'neptune': True,\n",
       " 'raytune': True,\n",
       " 'tensorboard': True,\n",
       " 'wandb': False,\n",
       " 'vscode_msg': True}"
      ]
     },
     "execution_count": 1,
     "metadata": {},
     "output_type": "execute_result"
    }
   ],
   "source": [
    "from ultralytics import YOLO, settings\n",
    "settings"
   ]
  },
  {
   "cell_type": "code",
   "execution_count": 2,
   "metadata": {},
   "outputs": [
    {
     "data": {
      "text/plain": [
       "{'settings_version': '0.0.6',\n",
       " 'datasets_dir': '/home/gerdson/projetos/FIAP-Hackathon-Grupo2/datasets',\n",
       " 'weights_dir': '/home/gerdson/projetos/FIAP-Hackathon-Grupo2/weights',\n",
       " 'runs_dir': '/home/gerdson/projetos/FIAP-Hackathon-Grupo2/runs',\n",
       " 'uuid': '765bacf433b23056de58d9ce6fef2008d6ad1b127e866ab4c974826f73d3d1e8',\n",
       " 'sync': True,\n",
       " 'api_key': '',\n",
       " 'openai_api_key': '',\n",
       " 'clearml': True,\n",
       " 'comet': True,\n",
       " 'dvc': True,\n",
       " 'hub': True,\n",
       " 'mlflow': True,\n",
       " 'neptune': True,\n",
       " 'raytune': True,\n",
       " 'tensorboard': True,\n",
       " 'wandb': False,\n",
       " 'vscode_msg': True}"
      ]
     },
     "execution_count": 2,
     "metadata": {},
     "output_type": "execute_result"
    }
   ],
   "source": [
    "settings.update({'datasets_dir': '/home/gerdson/projetos/FIAP-Hackathon-Grupo2/datasets'})\n",
    "settings.update({'weights_dir': '/home/gerdson/projetos/FIAP-Hackathon-Grupo2/weights'})\n",
    "settings.update({'runs_dir': '/home/gerdson/projetos/FIAP-Hackathon-Grupo2/runs'})\n",
    "settings"
   ]
  },
  {
   "cell_type": "markdown",
   "metadata": {},
   "source": [
    "# Treinamento"
   ]
  },
  {
   "cell_type": "code",
   "execution_count": 6,
   "metadata": {},
   "outputs": [
    {
     "name": "stdout",
     "output_type": "stream",
     "text": [
      "Downloading https://github.com/ultralytics/assets/releases/download/v8.3.0/yolo11m.pt to 'yolo11m.pt'...\n"
     ]
    },
    {
     "name": "stderr",
     "output_type": "stream",
     "text": [
      "100%|██████████| 38.8M/38.8M [00:01<00:00, 33.9MB/s]\n"
     ]
    }
   ],
   "source": [
    "#model = YOLO('yolov8m-worldv2')\n",
    "model = YOLO('yolo11m')"
   ]
  },
  {
   "cell_type": "code",
   "execution_count": 7,
   "metadata": {},
   "outputs": [
    {
     "name": "stdout",
     "output_type": "stream",
     "text": [
      "PyTorch: GPU está disponível!\n",
      "GPU: NVIDIA GeForce RTX 4090\n"
     ]
    },
    {
     "data": {
      "text/plain": [
       "True"
      ]
     },
     "execution_count": 7,
     "metadata": {},
     "output_type": "execute_result"
    }
   ],
   "source": [
    "import torch\n",
    "\n",
    "def check_gpu_pytorch():\n",
    "    \"\"\"Verifica se a GPU está disponível para PyTorch.\"\"\"\n",
    "    if torch.cuda.is_available():\n",
    "        print(\"PyTorch: GPU está disponível!\")\n",
    "        gpu_index = torch.cuda.current_device()\n",
    "        gpu_name = torch.cuda.get_device_name(gpu_index)\n",
    "        print(f\"GPU: {gpu_name}\")\n",
    "        return True\n",
    "    else:\n",
    "        print(\"PyTorch: GPU não está disponível.\")\n",
    "        return False\n",
    "    \n",
    "check_gpu_pytorch()"
   ]
  },
  {
   "cell_type": "code",
   "execution_count": 10,
   "metadata": {},
   "outputs": [],
   "source": [
    "#config = './config.yaml'\n",
    "#model.train(data=config, epochs=10, batch=64)"
   ]
  },
  {
   "cell_type": "code",
   "execution_count": 8,
   "metadata": {},
   "outputs": [
    {
     "name": "stdout",
     "output_type": "stream",
     "text": [
      "New https://pypi.org/project/ultralytics/8.3.73 available 😃 Update with 'pip install -U ultralytics'\n",
      "Ultralytics 8.3.70 🚀 Python-3.12.8 torch-2.6.0+cu124 CUDA:0 (NVIDIA GeForce RTX 4090, 24069MiB)\n",
      "\u001b[34m\u001b[1mengine/trainer: \u001b[0mtask=detect, mode=train, model=yolo11m.pt, data=./config.yaml, epochs=30, time=None, patience=8, batch=32, imgsz=640, save=True, save_period=-1, cache=False, device=None, workers=8, project=None, name=train, exist_ok=False, pretrained=True, optimizer=AdamW, verbose=True, seed=0, deterministic=True, single_cls=False, rect=False, cos_lr=False, close_mosaic=10, resume=False, amp=True, fraction=1.0, profile=False, freeze=None, multi_scale=False, overlap_mask=True, mask_ratio=4, dropout=0.0, val=True, split=val, save_json=False, save_hybrid=False, conf=None, iou=0.7, max_det=300, half=False, dnn=False, plots=True, source=None, vid_stride=1, stream_buffer=False, visualize=False, augment=False, agnostic_nms=False, classes=None, retina_masks=False, embed=None, show=False, save_frames=False, save_txt=False, save_conf=False, save_crop=False, show_labels=True, show_conf=True, show_boxes=True, line_width=None, format=torchscript, keras=False, optimize=False, int8=False, dynamic=False, simplify=True, opset=None, workspace=None, nms=False, lr0=0.001, lrf=0.01, momentum=0.937, weight_decay=0.0005, warmup_epochs=3.0, warmup_momentum=0.8, warmup_bias_lr=0.1, box=7.5, cls=0.5, dfl=1.5, pose=12.0, kobj=1.0, nbs=64, hsv_h=0.015, hsv_s=0.3, hsv_v=0.3, degrees=0.3, translate=0.1, scale=0.5, shear=0.0, perspective=0.0, flipud=0.0, fliplr=0.5, bgr=0.0, mosaic=1.0, mixup=0.0, copy_paste=0.0, copy_paste_mode=flip, auto_augment=randaugment, erasing=0.4, crop_fraction=1.0, cfg=None, tracker=botsort.yaml, save_dir=/home/gerdson/projetos/FIAP-Hackathon-Grupo2/runs/detect/train\n",
      "Overriding model.yaml nc=80 with nc=1\n",
      "\n",
      "                   from  n    params  module                                       arguments                     \n",
      "  0                  -1  1      1856  ultralytics.nn.modules.conv.Conv             [3, 64, 3, 2]                 \n",
      "  1                  -1  1     73984  ultralytics.nn.modules.conv.Conv             [64, 128, 3, 2]               \n",
      "  2                  -1  1    111872  ultralytics.nn.modules.block.C3k2            [128, 256, 1, True, 0.25]     \n",
      "  3                  -1  1    590336  ultralytics.nn.modules.conv.Conv             [256, 256, 3, 2]              \n",
      "  4                  -1  1    444928  ultralytics.nn.modules.block.C3k2            [256, 512, 1, True, 0.25]     \n",
      "  5                  -1  1   2360320  ultralytics.nn.modules.conv.Conv             [512, 512, 3, 2]              \n",
      "  6                  -1  1   1380352  ultralytics.nn.modules.block.C3k2            [512, 512, 1, True]           \n",
      "  7                  -1  1   2360320  ultralytics.nn.modules.conv.Conv             [512, 512, 3, 2]              \n",
      "  8                  -1  1   1380352  ultralytics.nn.modules.block.C3k2            [512, 512, 1, True]           \n",
      "  9                  -1  1    656896  ultralytics.nn.modules.block.SPPF            [512, 512, 5]                 \n",
      " 10                  -1  1    990976  ultralytics.nn.modules.block.C2PSA           [512, 512, 1]                 \n",
      " 11                  -1  1         0  torch.nn.modules.upsampling.Upsample         [None, 2, 'nearest']          \n",
      " 12             [-1, 6]  1         0  ultralytics.nn.modules.conv.Concat           [1]                           \n",
      " 13                  -1  1   1642496  ultralytics.nn.modules.block.C3k2            [1024, 512, 1, True]          \n",
      " 14                  -1  1         0  torch.nn.modules.upsampling.Upsample         [None, 2, 'nearest']          \n",
      " 15             [-1, 4]  1         0  ultralytics.nn.modules.conv.Concat           [1]                           \n",
      " 16                  -1  1    542720  ultralytics.nn.modules.block.C3k2            [1024, 256, 1, True]          \n",
      " 17                  -1  1    590336  ultralytics.nn.modules.conv.Conv             [256, 256, 3, 2]              \n",
      " 18            [-1, 13]  1         0  ultralytics.nn.modules.conv.Concat           [1]                           \n",
      " 19                  -1  1   1511424  ultralytics.nn.modules.block.C3k2            [768, 512, 1, True]           \n",
      " 20                  -1  1   2360320  ultralytics.nn.modules.conv.Conv             [512, 512, 3, 2]              \n",
      " 21            [-1, 10]  1         0  ultralytics.nn.modules.conv.Concat           [1]                           \n",
      " 22                  -1  1   1642496  ultralytics.nn.modules.block.C3k2            [1024, 512, 1, True]          \n",
      " 23        [16, 19, 22]  1   1411795  ultralytics.nn.modules.head.Detect           [1, [256, 512, 512]]          \n",
      "YOLO11m summary: 409 layers, 20,053,779 parameters, 20,053,763 gradients, 68.2 GFLOPs\n",
      "\n",
      "Transferred 643/649 items from pretrained weights\n",
      "Freezing layer 'model.23.dfl.conv.weight'\n",
      "\u001b[34m\u001b[1mAMP: \u001b[0mrunning Automatic Mixed Precision (AMP) checks...\n",
      "Downloading https://github.com/ultralytics/assets/releases/download/v8.3.0/yolo11n.pt to 'yolo11n.pt'...\n"
     ]
    },
    {
     "name": "stderr",
     "output_type": "stream",
     "text": [
      "100%|██████████| 5.35M/5.35M [00:03<00:00, 1.69MB/s]\n"
     ]
    },
    {
     "name": "stdout",
     "output_type": "stream",
     "text": [
      "\u001b[34m\u001b[1mAMP: \u001b[0mchecks passed ✅\n"
     ]
    },
    {
     "name": "stderr",
     "output_type": "stream",
     "text": [
      "\u001b[34m\u001b[1mtrain: \u001b[0mScanning /home/gerdson/projetos/FIAP-Hackathon-Grupo2/datasets/cortantes/train/labels.cache... 19413 images, 254 backgrounds, 0 corrupt: 100%|██████████| 19413/19413 [00:00<?, ?it/s]\n"
     ]
    },
    {
     "name": "stdout",
     "output_type": "stream",
     "text": [
      "WARNING ⚠️ Box and segment counts should be equal, but got len(segments) = 3, len(boxes) = 27925. To resolve this only boxes will be used and all segments will be removed. To avoid this please supply either a detect or segment dataset, not a detect-segment mixed dataset.\n"
     ]
    },
    {
     "name": "stderr",
     "output_type": "stream",
     "text": [
      "\u001b[34m\u001b[1mval: \u001b[0mScanning /home/gerdson/projetos/FIAP-Hackathon-Grupo2/datasets/cortantes/valid/labels.cache... 2617 images, 75 backgrounds, 0 corrupt: 100%|██████████| 2617/2617 [00:00<?, ?it/s]\n"
     ]
    },
    {
     "name": "stdout",
     "output_type": "stream",
     "text": [
      "Plotting labels to /home/gerdson/projetos/FIAP-Hackathon-Grupo2/runs/detect/train/labels.jpg... \n",
      "\u001b[34m\u001b[1moptimizer:\u001b[0m AdamW(lr=0.001, momentum=0.937) with parameter groups 106 weight(decay=0.0), 113 weight(decay=0.0005), 112 bias(decay=0.0)\n",
      "Image sizes 640 train, 640 val\n",
      "Using 8 dataloader workers\n",
      "Logging results to \u001b[1m/home/gerdson/projetos/FIAP-Hackathon-Grupo2/runs/detect/train\u001b[0m\n",
      "Starting training for 30 epochs...\n",
      "\n",
      "      Epoch    GPU_mem   box_loss   cls_loss   dfl_loss  Instances       Size\n"
     ]
    },
    {
     "name": "stderr",
     "output_type": "stream",
     "text": [
      "       1/30      16.7G      1.458      1.815      1.563         57        640: 100%|██████████| 607/607 [02:33<00:00,  3.96it/s]\n",
      "                 Class     Images  Instances      Box(P          R      mAP50  mAP50-95): 100%|██████████| 41/41 [00:10<00:00,  3.85it/s]\n"
     ]
    },
    {
     "name": "stdout",
     "output_type": "stream",
     "text": [
      "                   all       2617       2956      0.307      0.376       0.25      0.111\n",
      "\n",
      "      Epoch    GPU_mem   box_loss   cls_loss   dfl_loss  Instances       Size\n"
     ]
    },
    {
     "name": "stderr",
     "output_type": "stream",
     "text": [
      "       2/30      17.3G       1.46      1.819      1.602         48        640: 100%|██████████| 607/607 [02:21<00:00,  4.28it/s]\n",
      "                 Class     Images  Instances      Box(P          R      mAP50  mAP50-95): 100%|██████████| 41/41 [00:09<00:00,  4.49it/s]\n"
     ]
    },
    {
     "name": "stdout",
     "output_type": "stream",
     "text": [
      "                   all       2617       2956      0.606      0.542      0.564      0.286\n",
      "\n",
      "      Epoch    GPU_mem   box_loss   cls_loss   dfl_loss  Instances       Size\n"
     ]
    },
    {
     "name": "stderr",
     "output_type": "stream",
     "text": [
      "       3/30      17.3G      1.372      1.649      1.539         62        640: 100%|██████████| 607/607 [02:20<00:00,  4.33it/s]\n",
      "                 Class     Images  Instances      Box(P          R      mAP50  mAP50-95): 100%|██████████| 41/41 [00:09<00:00,  4.51it/s]\n"
     ]
    },
    {
     "name": "stdout",
     "output_type": "stream",
     "text": [
      "                   all       2617       2956      0.617      0.511      0.554      0.275\n",
      "\n",
      "      Epoch    GPU_mem   box_loss   cls_loss   dfl_loss  Instances       Size\n"
     ]
    },
    {
     "name": "stderr",
     "output_type": "stream",
     "text": [
      "       4/30      17.3G       1.31      1.545      1.493         51        640: 100%|██████████| 607/607 [02:19<00:00,  4.35it/s]\n",
      "                 Class     Images  Instances      Box(P          R      mAP50  mAP50-95): 100%|██████████| 41/41 [00:09<00:00,  4.52it/s]\n"
     ]
    },
    {
     "name": "stdout",
     "output_type": "stream",
     "text": [
      "                   all       2617       2956      0.689      0.634      0.667      0.355\n",
      "\n",
      "      Epoch    GPU_mem   box_loss   cls_loss   dfl_loss  Instances       Size\n"
     ]
    },
    {
     "name": "stderr",
     "output_type": "stream",
     "text": [
      "       5/30      17.3G      1.248      1.401      1.434         40        640: 100%|██████████| 607/607 [02:18<00:00,  4.37it/s]\n",
      "                 Class     Images  Instances      Box(P          R      mAP50  mAP50-95): 100%|██████████| 41/41 [00:09<00:00,  4.49it/s]"
     ]
    },
    {
     "name": "stdout",
     "output_type": "stream",
     "text": [
      "                   all       2617       2956       0.75      0.701      0.761      0.421\n"
     ]
    },
    {
     "name": "stderr",
     "output_type": "stream",
     "text": [
      "\n"
     ]
    },
    {
     "name": "stdout",
     "output_type": "stream",
     "text": [
      "\n",
      "      Epoch    GPU_mem   box_loss   cls_loss   dfl_loss  Instances       Size\n"
     ]
    },
    {
     "name": "stderr",
     "output_type": "stream",
     "text": [
      "       6/30      17.3G      1.211      1.327      1.414         50        640: 100%|██████████| 607/607 [02:20<00:00,  4.33it/s]\n",
      "                 Class     Images  Instances      Box(P          R      mAP50  mAP50-95): 100%|██████████| 41/41 [00:09<00:00,  4.53it/s]\n"
     ]
    },
    {
     "name": "stdout",
     "output_type": "stream",
     "text": [
      "                   all       2617       2956       0.79      0.731      0.793      0.469\n",
      "\n",
      "      Epoch    GPU_mem   box_loss   cls_loss   dfl_loss  Instances       Size\n"
     ]
    },
    {
     "name": "stderr",
     "output_type": "stream",
     "text": [
      "       7/30      17.3G      1.179      1.262      1.391         47        640: 100%|██████████| 607/607 [02:20<00:00,  4.32it/s]\n",
      "                 Class     Images  Instances      Box(P          R      mAP50  mAP50-95): 100%|██████████| 41/41 [00:09<00:00,  4.46it/s]\n"
     ]
    },
    {
     "name": "stdout",
     "output_type": "stream",
     "text": [
      "                   all       2617       2956      0.847      0.786      0.857      0.519\n",
      "\n",
      "      Epoch    GPU_mem   box_loss   cls_loss   dfl_loss  Instances       Size\n"
     ]
    },
    {
     "name": "stderr",
     "output_type": "stream",
     "text": [
      "       8/30      17.3G      1.145      1.188      1.364         42        640: 100%|██████████| 607/607 [02:20<00:00,  4.32it/s]\n",
      "                 Class     Images  Instances      Box(P          R      mAP50  mAP50-95): 100%|██████████| 41/41 [00:09<00:00,  4.44it/s]\n"
     ]
    },
    {
     "name": "stdout",
     "output_type": "stream",
     "text": [
      "                   all       2617       2956      0.855      0.812       0.86      0.532\n",
      "\n",
      "      Epoch    GPU_mem   box_loss   cls_loss   dfl_loss  Instances       Size\n"
     ]
    },
    {
     "name": "stderr",
     "output_type": "stream",
     "text": [
      "       9/30      17.3G      1.128      1.156      1.347         51        640: 100%|██████████| 607/607 [02:20<00:00,  4.33it/s]\n",
      "                 Class     Images  Instances      Box(P          R      mAP50  mAP50-95): 100%|██████████| 41/41 [00:09<00:00,  4.54it/s]\n"
     ]
    },
    {
     "name": "stdout",
     "output_type": "stream",
     "text": [
      "                   all       2617       2956      0.874      0.821       0.89      0.571\n",
      "\n",
      "      Epoch    GPU_mem   box_loss   cls_loss   dfl_loss  Instances       Size\n"
     ]
    },
    {
     "name": "stderr",
     "output_type": "stream",
     "text": [
      "      10/30      17.3G      1.103      1.118      1.331         75        640: 100%|██████████| 607/607 [02:20<00:00,  4.33it/s]\n",
      "                 Class     Images  Instances      Box(P          R      mAP50  mAP50-95): 100%|██████████| 41/41 [00:09<00:00,  4.54it/s]\n"
     ]
    },
    {
     "name": "stdout",
     "output_type": "stream",
     "text": [
      "                   all       2617       2956       0.89      0.843        0.9      0.576\n",
      "\n",
      "      Epoch    GPU_mem   box_loss   cls_loss   dfl_loss  Instances       Size\n"
     ]
    },
    {
     "name": "stderr",
     "output_type": "stream",
     "text": [
      "      11/30      17.3G      1.076       1.07      1.312         55        640: 100%|██████████| 607/607 [02:19<00:00,  4.36it/s]\n",
      "                 Class     Images  Instances      Box(P          R      mAP50  mAP50-95): 100%|██████████| 41/41 [00:08<00:00,  4.58it/s]"
     ]
    },
    {
     "name": "stdout",
     "output_type": "stream",
     "text": [
      "                   all       2617       2956      0.901      0.842      0.909      0.584\n"
     ]
    },
    {
     "name": "stderr",
     "output_type": "stream",
     "text": [
      "\n"
     ]
    },
    {
     "name": "stdout",
     "output_type": "stream",
     "text": [
      "\n",
      "      Epoch    GPU_mem   box_loss   cls_loss   dfl_loss  Instances       Size\n"
     ]
    },
    {
     "name": "stderr",
     "output_type": "stream",
     "text": [
      "      12/30      17.3G      1.058      1.033      1.296         41        640: 100%|██████████| 607/607 [02:18<00:00,  4.38it/s]\n",
      "                 Class     Images  Instances      Box(P          R      mAP50  mAP50-95): 100%|██████████| 41/41 [00:08<00:00,  4.62it/s]\n"
     ]
    },
    {
     "name": "stdout",
     "output_type": "stream",
     "text": [
      "                   all       2617       2956      0.896      0.853       0.92      0.604\n",
      "\n",
      "      Epoch    GPU_mem   box_loss   cls_loss   dfl_loss  Instances       Size\n"
     ]
    },
    {
     "name": "stderr",
     "output_type": "stream",
     "text": [
      "      13/30      17.3G      1.052      1.022      1.296         64        640: 100%|██████████| 607/607 [02:18<00:00,  4.38it/s]\n",
      "                 Class     Images  Instances      Box(P          R      mAP50  mAP50-95): 100%|██████████| 41/41 [00:09<00:00,  4.36it/s]\n"
     ]
    },
    {
     "name": "stdout",
     "output_type": "stream",
     "text": [
      "                   all       2617       2956      0.904      0.875      0.928      0.626\n",
      "\n",
      "      Epoch    GPU_mem   box_loss   cls_loss   dfl_loss  Instances       Size\n"
     ]
    },
    {
     "name": "stderr",
     "output_type": "stream",
     "text": [
      "      14/30      17.2G      1.034     0.9902      1.281         42        640: 100%|██████████| 607/607 [02:19<00:00,  4.36it/s]\n",
      "                 Class     Images  Instances      Box(P          R      mAP50  mAP50-95): 100%|██████████| 41/41 [00:08<00:00,  4.58it/s]\n"
     ]
    },
    {
     "name": "stdout",
     "output_type": "stream",
     "text": [
      "                   all       2617       2956      0.905      0.874      0.926       0.63\n",
      "\n",
      "      Epoch    GPU_mem   box_loss   cls_loss   dfl_loss  Instances       Size\n"
     ]
    },
    {
     "name": "stderr",
     "output_type": "stream",
     "text": [
      "      15/30      17.3G      1.015     0.9588      1.269         78        640: 100%|██████████| 607/607 [02:20<00:00,  4.33it/s]\n",
      "                 Class     Images  Instances      Box(P          R      mAP50  mAP50-95): 100%|██████████| 41/41 [00:08<00:00,  4.57it/s]\n"
     ]
    },
    {
     "name": "stdout",
     "output_type": "stream",
     "text": [
      "                   all       2617       2956      0.924      0.883      0.936      0.637\n",
      "\n",
      "      Epoch    GPU_mem   box_loss   cls_loss   dfl_loss  Instances       Size\n"
     ]
    },
    {
     "name": "stderr",
     "output_type": "stream",
     "text": [
      "      16/30      17.3G     0.9987     0.9391      1.256         50        640: 100%|██████████| 607/607 [02:20<00:00,  4.32it/s]\n",
      "                 Class     Images  Instances      Box(P          R      mAP50  mAP50-95): 100%|██████████| 41/41 [00:09<00:00,  4.48it/s]\n"
     ]
    },
    {
     "name": "stdout",
     "output_type": "stream",
     "text": [
      "                   all       2617       2956      0.913      0.906      0.944      0.648\n",
      "\n",
      "      Epoch    GPU_mem   box_loss   cls_loss   dfl_loss  Instances       Size\n"
     ]
    },
    {
     "name": "stderr",
     "output_type": "stream",
     "text": [
      "      17/30      17.3G     0.9924     0.9133      1.246         53        640: 100%|██████████| 607/607 [02:20<00:00,  4.33it/s]\n",
      "                 Class     Images  Instances      Box(P          R      mAP50  mAP50-95): 100%|██████████| 41/41 [00:09<00:00,  4.56it/s]"
     ]
    },
    {
     "name": "stdout",
     "output_type": "stream",
     "text": [
      "                   all       2617       2956      0.922      0.903      0.948      0.661\n"
     ]
    },
    {
     "name": "stderr",
     "output_type": "stream",
     "text": [
      "\n"
     ]
    },
    {
     "name": "stdout",
     "output_type": "stream",
     "text": [
      "\n",
      "      Epoch    GPU_mem   box_loss   cls_loss   dfl_loss  Instances       Size\n"
     ]
    },
    {
     "name": "stderr",
     "output_type": "stream",
     "text": [
      "      18/30      17.2G     0.9718     0.8936      1.237         59        640: 100%|██████████| 607/607 [02:20<00:00,  4.32it/s]\n",
      "                 Class     Images  Instances      Box(P          R      mAP50  mAP50-95): 100%|██████████| 41/41 [00:09<00:00,  4.53it/s]\n"
     ]
    },
    {
     "name": "stdout",
     "output_type": "stream",
     "text": [
      "                   all       2617       2956      0.925      0.906      0.948      0.665\n",
      "\n",
      "      Epoch    GPU_mem   box_loss   cls_loss   dfl_loss  Instances       Size\n"
     ]
    },
    {
     "name": "stderr",
     "output_type": "stream",
     "text": [
      "      19/30      17.3G     0.9599     0.8692       1.23         60        640: 100%|██████████| 607/607 [02:20<00:00,  4.32it/s]\n",
      "                 Class     Images  Instances      Box(P          R      mAP50  mAP50-95): 100%|██████████| 41/41 [00:09<00:00,  4.55it/s]\n"
     ]
    },
    {
     "name": "stdout",
     "output_type": "stream",
     "text": [
      "                   all       2617       2956      0.923      0.918      0.949      0.669\n",
      "\n",
      "      Epoch    GPU_mem   box_loss   cls_loss   dfl_loss  Instances       Size\n"
     ]
    },
    {
     "name": "stderr",
     "output_type": "stream",
     "text": [
      "      20/30      17.2G     0.9494     0.8579      1.221         50        640: 100%|██████████| 607/607 [02:20<00:00,  4.32it/s]\n",
      "                 Class     Images  Instances      Box(P          R      mAP50  mAP50-95): 100%|██████████| 41/41 [00:08<00:00,  4.56it/s]\n"
     ]
    },
    {
     "name": "stdout",
     "output_type": "stream",
     "text": [
      "                   all       2617       2956      0.924      0.915      0.953      0.676\n",
      "Closing dataloader mosaic\n",
      "\n",
      "      Epoch    GPU_mem   box_loss   cls_loss   dfl_loss  Instances       Size\n"
     ]
    },
    {
     "name": "stderr",
     "output_type": "stream",
     "text": [
      "      21/30      17.3G      0.929     0.7065       1.21         21        640: 100%|██████████| 607/607 [02:20<00:00,  4.33it/s]\n",
      "                 Class     Images  Instances      Box(P          R      mAP50  mAP50-95): 100%|██████████| 41/41 [00:09<00:00,  4.40it/s]\n"
     ]
    },
    {
     "name": "stdout",
     "output_type": "stream",
     "text": [
      "                   all       2617       2956       0.94       0.92      0.958      0.694\n",
      "\n",
      "      Epoch    GPU_mem   box_loss   cls_loss   dfl_loss  Instances       Size\n"
     ]
    },
    {
     "name": "stderr",
     "output_type": "stream",
     "text": [
      "      22/30      17.2G     0.9102     0.6792      1.197         24        640: 100%|██████████| 607/607 [02:18<00:00,  4.38it/s]\n",
      "                 Class     Images  Instances      Box(P          R      mAP50  mAP50-95): 100%|██████████| 41/41 [00:08<00:00,  4.60it/s]"
     ]
    },
    {
     "name": "stdout",
     "output_type": "stream",
     "text": [
      "                   all       2617       2956      0.936      0.929       0.96      0.698\n"
     ]
    },
    {
     "name": "stderr",
     "output_type": "stream",
     "text": [
      "\n"
     ]
    },
    {
     "name": "stdout",
     "output_type": "stream",
     "text": [
      "\n",
      "      Epoch    GPU_mem   box_loss   cls_loss   dfl_loss  Instances       Size\n"
     ]
    },
    {
     "name": "stderr",
     "output_type": "stream",
     "text": [
      "      23/30      17.3G     0.8927     0.6558      1.185         24        640: 100%|██████████| 607/607 [02:18<00:00,  4.38it/s]\n",
      "                 Class     Images  Instances      Box(P          R      mAP50  mAP50-95): 100%|██████████| 41/41 [00:08<00:00,  4.59it/s]"
     ]
    },
    {
     "name": "stdout",
     "output_type": "stream",
     "text": [
      "                   all       2617       2956      0.942      0.926       0.96      0.707\n"
     ]
    },
    {
     "name": "stderr",
     "output_type": "stream",
     "text": [
      "\n"
     ]
    },
    {
     "name": "stdout",
     "output_type": "stream",
     "text": [
      "\n",
      "      Epoch    GPU_mem   box_loss   cls_loss   dfl_loss  Instances       Size\n"
     ]
    },
    {
     "name": "stderr",
     "output_type": "stream",
     "text": [
      "      24/30      17.2G     0.8726     0.6377      1.171         32        640: 100%|██████████| 607/607 [02:20<00:00,  4.33it/s]\n",
      "                 Class     Images  Instances      Box(P          R      mAP50  mAP50-95): 100%|██████████| 41/41 [00:09<00:00,  4.55it/s]"
     ]
    },
    {
     "name": "stdout",
     "output_type": "stream",
     "text": [
      "                   all       2617       2956      0.946      0.938      0.966      0.714\n"
     ]
    },
    {
     "name": "stderr",
     "output_type": "stream",
     "text": [
      "\n"
     ]
    },
    {
     "name": "stdout",
     "output_type": "stream",
     "text": [
      "\n",
      "      Epoch    GPU_mem   box_loss   cls_loss   dfl_loss  Instances       Size\n"
     ]
    },
    {
     "name": "stderr",
     "output_type": "stream",
     "text": [
      "      25/30      17.3G     0.8518     0.6178      1.154         29        640: 100%|██████████| 607/607 [02:19<00:00,  4.37it/s]\n",
      "                 Class     Images  Instances      Box(P          R      mAP50  mAP50-95): 100%|██████████| 41/41 [00:08<00:00,  4.67it/s]"
     ]
    },
    {
     "name": "stdout",
     "output_type": "stream",
     "text": [
      "                   all       2617       2956      0.954      0.942      0.966      0.716\n"
     ]
    },
    {
     "name": "stderr",
     "output_type": "stream",
     "text": [
      "\n"
     ]
    },
    {
     "name": "stdout",
     "output_type": "stream",
     "text": [
      "\n",
      "      Epoch    GPU_mem   box_loss   cls_loss   dfl_loss  Instances       Size\n"
     ]
    },
    {
     "name": "stderr",
     "output_type": "stream",
     "text": [
      "      26/30      17.2G     0.8358     0.5927      1.146         31        640: 100%|██████████| 607/607 [02:19<00:00,  4.34it/s]\n",
      "                 Class     Images  Instances      Box(P          R      mAP50  mAP50-95): 100%|██████████| 41/41 [00:08<00:00,  4.59it/s]"
     ]
    },
    {
     "name": "stdout",
     "output_type": "stream",
     "text": [
      "                   all       2617       2956       0.95      0.937      0.966      0.721\n"
     ]
    },
    {
     "name": "stderr",
     "output_type": "stream",
     "text": [
      "\n"
     ]
    },
    {
     "name": "stdout",
     "output_type": "stream",
     "text": [
      "\n",
      "      Epoch    GPU_mem   box_loss   cls_loss   dfl_loss  Instances       Size\n"
     ]
    },
    {
     "name": "stderr",
     "output_type": "stream",
     "text": [
      "      27/30      17.3G     0.8202     0.5801      1.136         24        640: 100%|██████████| 607/607 [02:20<00:00,  4.33it/s]\n",
      "                 Class     Images  Instances      Box(P          R      mAP50  mAP50-95): 100%|██████████| 41/41 [00:09<00:00,  4.48it/s]"
     ]
    },
    {
     "name": "stdout",
     "output_type": "stream",
     "text": [
      "                   all       2617       2956      0.953      0.934      0.966      0.722\n"
     ]
    },
    {
     "name": "stderr",
     "output_type": "stream",
     "text": [
      "\n"
     ]
    },
    {
     "name": "stdout",
     "output_type": "stream",
     "text": [
      "\n",
      "      Epoch    GPU_mem   box_loss   cls_loss   dfl_loss  Instances       Size\n"
     ]
    },
    {
     "name": "stderr",
     "output_type": "stream",
     "text": [
      "      28/30      17.2G      0.799     0.5585      1.124         35        640: 100%|██████████| 607/607 [02:20<00:00,  4.33it/s]\n",
      "                 Class     Images  Instances      Box(P          R      mAP50  mAP50-95): 100%|██████████| 41/41 [00:09<00:00,  4.55it/s]"
     ]
    },
    {
     "name": "stdout",
     "output_type": "stream",
     "text": [
      "                   all       2617       2956      0.953      0.941      0.968       0.73\n"
     ]
    },
    {
     "name": "stderr",
     "output_type": "stream",
     "text": [
      "\n"
     ]
    },
    {
     "name": "stdout",
     "output_type": "stream",
     "text": [
      "\n",
      "      Epoch    GPU_mem   box_loss   cls_loss   dfl_loss  Instances       Size\n"
     ]
    },
    {
     "name": "stderr",
     "output_type": "stream",
     "text": [
      "      29/30      17.3G     0.7853     0.5423      1.112         32        640: 100%|██████████| 607/607 [02:20<00:00,  4.32it/s]\n",
      "                 Class     Images  Instances      Box(P          R      mAP50  mAP50-95): 100%|██████████| 41/41 [00:09<00:00,  4.48it/s]"
     ]
    },
    {
     "name": "stdout",
     "output_type": "stream",
     "text": [
      "                   all       2617       2956      0.953      0.941      0.968      0.733\n"
     ]
    },
    {
     "name": "stderr",
     "output_type": "stream",
     "text": [
      "\n"
     ]
    },
    {
     "name": "stdout",
     "output_type": "stream",
     "text": [
      "\n",
      "      Epoch    GPU_mem   box_loss   cls_loss   dfl_loss  Instances       Size\n"
     ]
    },
    {
     "name": "stderr",
     "output_type": "stream",
     "text": [
      "      30/30      17.2G     0.7705     0.5317      1.103         30        640: 100%|██████████| 607/607 [02:19<00:00,  4.36it/s]\n",
      "                 Class     Images  Instances      Box(P          R      mAP50  mAP50-95): 100%|██████████| 41/41 [00:08<00:00,  4.64it/s]"
     ]
    },
    {
     "name": "stdout",
     "output_type": "stream",
     "text": [
      "                   all       2617       2956      0.956      0.944      0.968      0.734\n"
     ]
    },
    {
     "name": "stderr",
     "output_type": "stream",
     "text": [
      "\n"
     ]
    },
    {
     "name": "stdout",
     "output_type": "stream",
     "text": [
      "\n",
      "30 epochs completed in 1.261 hours.\n",
      "Optimizer stripped from /home/gerdson/projetos/FIAP-Hackathon-Grupo2/runs/detect/train/weights/last.pt, 40.5MB\n",
      "Optimizer stripped from /home/gerdson/projetos/FIAP-Hackathon-Grupo2/runs/detect/train/weights/best.pt, 40.5MB\n",
      "\n",
      "Validating /home/gerdson/projetos/FIAP-Hackathon-Grupo2/runs/detect/train/weights/best.pt...\n",
      "Ultralytics 8.3.70 🚀 Python-3.12.8 torch-2.6.0+cu124 CUDA:0 (NVIDIA GeForce RTX 4090, 24069MiB)\n",
      "YOLO11m summary (fused): 303 layers, 20,030,803 parameters, 0 gradients, 67.6 GFLOPs\n"
     ]
    },
    {
     "name": "stderr",
     "output_type": "stream",
     "text": [
      "                 Class     Images  Instances      Box(P          R      mAP50  mAP50-95): 100%|██████████| 41/41 [00:09<00:00,  4.14it/s]\n"
     ]
    },
    {
     "name": "stdout",
     "output_type": "stream",
     "text": [
      "                   all       2617       2956      0.955      0.944      0.968      0.734\n",
      "Speed: 0.1ms preprocess, 1.7ms inference, 0.0ms loss, 0.5ms postprocess per image\n",
      "Results saved to \u001b[1m/home/gerdson/projetos/FIAP-Hackathon-Grupo2/runs/detect/train\u001b[0m\n"
     ]
    },
    {
     "data": {
      "text/plain": [
       "ultralytics.utils.metrics.DetMetrics object with attributes:\n",
       "\n",
       "ap_class_index: array([0])\n",
       "box: ultralytics.utils.metrics.Metric object\n",
       "confusion_matrix: <ultralytics.utils.metrics.ConfusionMatrix object at 0x77fef5c54b30>\n",
       "curves: ['Precision-Recall(B)', 'F1-Confidence(B)', 'Precision-Confidence(B)', 'Recall-Confidence(B)']\n",
       "curves_results: [[array([          0,    0.001001,    0.002002,    0.003003,    0.004004,    0.005005,    0.006006,    0.007007,    0.008008,    0.009009,     0.01001,    0.011011,    0.012012,    0.013013,    0.014014,    0.015015,    0.016016,    0.017017,    0.018018,    0.019019,     0.02002,    0.021021,    0.022022,    0.023023,\n",
       "          0.024024,    0.025025,    0.026026,    0.027027,    0.028028,    0.029029,     0.03003,    0.031031,    0.032032,    0.033033,    0.034034,    0.035035,    0.036036,    0.037037,    0.038038,    0.039039,     0.04004,    0.041041,    0.042042,    0.043043,    0.044044,    0.045045,    0.046046,    0.047047,\n",
       "          0.048048,    0.049049,     0.05005,    0.051051,    0.052052,    0.053053,    0.054054,    0.055055,    0.056056,    0.057057,    0.058058,    0.059059,     0.06006,    0.061061,    0.062062,    0.063063,    0.064064,    0.065065,    0.066066,    0.067067,    0.068068,    0.069069,     0.07007,    0.071071,\n",
       "          0.072072,    0.073073,    0.074074,    0.075075,    0.076076,    0.077077,    0.078078,    0.079079,     0.08008,    0.081081,    0.082082,    0.083083,    0.084084,    0.085085,    0.086086,    0.087087,    0.088088,    0.089089,     0.09009,    0.091091,    0.092092,    0.093093,    0.094094,    0.095095,\n",
       "          0.096096,    0.097097,    0.098098,    0.099099,      0.1001,      0.1011,      0.1021,      0.1031,      0.1041,     0.10511,     0.10611,     0.10711,     0.10811,     0.10911,     0.11011,     0.11111,     0.11211,     0.11311,     0.11411,     0.11512,     0.11612,     0.11712,     0.11812,     0.11912,\n",
       "           0.12012,     0.12112,     0.12212,     0.12312,     0.12412,     0.12513,     0.12613,     0.12713,     0.12813,     0.12913,     0.13013,     0.13113,     0.13213,     0.13313,     0.13413,     0.13514,     0.13614,     0.13714,     0.13814,     0.13914,     0.14014,     0.14114,     0.14214,     0.14314,\n",
       "           0.14414,     0.14515,     0.14615,     0.14715,     0.14815,     0.14915,     0.15015,     0.15115,     0.15215,     0.15315,     0.15415,     0.15516,     0.15616,     0.15716,     0.15816,     0.15916,     0.16016,     0.16116,     0.16216,     0.16316,     0.16416,     0.16517,     0.16617,     0.16717,\n",
       "           0.16817,     0.16917,     0.17017,     0.17117,     0.17217,     0.17317,     0.17417,     0.17518,     0.17618,     0.17718,     0.17818,     0.17918,     0.18018,     0.18118,     0.18218,     0.18318,     0.18418,     0.18519,     0.18619,     0.18719,     0.18819,     0.18919,     0.19019,     0.19119,\n",
       "           0.19219,     0.19319,     0.19419,      0.1952,      0.1962,      0.1972,      0.1982,      0.1992,      0.2002,      0.2012,      0.2022,      0.2032,      0.2042,     0.20521,     0.20621,     0.20721,     0.20821,     0.20921,     0.21021,     0.21121,     0.21221,     0.21321,     0.21421,     0.21522,\n",
       "           0.21622,     0.21722,     0.21822,     0.21922,     0.22022,     0.22122,     0.22222,     0.22322,     0.22422,     0.22523,     0.22623,     0.22723,     0.22823,     0.22923,     0.23023,     0.23123,     0.23223,     0.23323,     0.23423,     0.23524,     0.23624,     0.23724,     0.23824,     0.23924,\n",
       "           0.24024,     0.24124,     0.24224,     0.24324,     0.24424,     0.24525,     0.24625,     0.24725,     0.24825,     0.24925,     0.25025,     0.25125,     0.25225,     0.25325,     0.25425,     0.25526,     0.25626,     0.25726,     0.25826,     0.25926,     0.26026,     0.26126,     0.26226,     0.26326,\n",
       "           0.26426,     0.26527,     0.26627,     0.26727,     0.26827,     0.26927,     0.27027,     0.27127,     0.27227,     0.27327,     0.27427,     0.27528,     0.27628,     0.27728,     0.27828,     0.27928,     0.28028,     0.28128,     0.28228,     0.28328,     0.28428,     0.28529,     0.28629,     0.28729,\n",
       "           0.28829,     0.28929,     0.29029,     0.29129,     0.29229,     0.29329,     0.29429,      0.2953,      0.2963,      0.2973,      0.2983,      0.2993,      0.3003,      0.3013,      0.3023,      0.3033,      0.3043,     0.30531,     0.30631,     0.30731,     0.30831,     0.30931,     0.31031,     0.31131,\n",
       "           0.31231,     0.31331,     0.31431,     0.31532,     0.31632,     0.31732,     0.31832,     0.31932,     0.32032,     0.32132,     0.32232,     0.32332,     0.32432,     0.32533,     0.32633,     0.32733,     0.32833,     0.32933,     0.33033,     0.33133,     0.33233,     0.33333,     0.33433,     0.33534,\n",
       "           0.33634,     0.33734,     0.33834,     0.33934,     0.34034,     0.34134,     0.34234,     0.34334,     0.34434,     0.34535,     0.34635,     0.34735,     0.34835,     0.34935,     0.35035,     0.35135,     0.35235,     0.35335,     0.35435,     0.35536,     0.35636,     0.35736,     0.35836,     0.35936,\n",
       "           0.36036,     0.36136,     0.36236,     0.36336,     0.36436,     0.36537,     0.36637,     0.36737,     0.36837,     0.36937,     0.37037,     0.37137,     0.37237,     0.37337,     0.37437,     0.37538,     0.37638,     0.37738,     0.37838,     0.37938,     0.38038,     0.38138,     0.38238,     0.38338,\n",
       "           0.38438,     0.38539,     0.38639,     0.38739,     0.38839,     0.38939,     0.39039,     0.39139,     0.39239,     0.39339,     0.39439,      0.3954,      0.3964,      0.3974,      0.3984,      0.3994,      0.4004,      0.4014,      0.4024,      0.4034,      0.4044,     0.40541,     0.40641,     0.40741,\n",
       "           0.40841,     0.40941,     0.41041,     0.41141,     0.41241,     0.41341,     0.41441,     0.41542,     0.41642,     0.41742,     0.41842,     0.41942,     0.42042,     0.42142,     0.42242,     0.42342,     0.42442,     0.42543,     0.42643,     0.42743,     0.42843,     0.42943,     0.43043,     0.43143,\n",
       "           0.43243,     0.43343,     0.43443,     0.43544,     0.43644,     0.43744,     0.43844,     0.43944,     0.44044,     0.44144,     0.44244,     0.44344,     0.44444,     0.44545,     0.44645,     0.44745,     0.44845,     0.44945,     0.45045,     0.45145,     0.45245,     0.45345,     0.45445,     0.45546,\n",
       "           0.45646,     0.45746,     0.45846,     0.45946,     0.46046,     0.46146,     0.46246,     0.46346,     0.46446,     0.46547,     0.46647,     0.46747,     0.46847,     0.46947,     0.47047,     0.47147,     0.47247,     0.47347,     0.47447,     0.47548,     0.47648,     0.47748,     0.47848,     0.47948,\n",
       "           0.48048,     0.48148,     0.48248,     0.48348,     0.48448,     0.48549,     0.48649,     0.48749,     0.48849,     0.48949,     0.49049,     0.49149,     0.49249,     0.49349,     0.49449,      0.4955,      0.4965,      0.4975,      0.4985,      0.4995,      0.5005,      0.5015,      0.5025,      0.5035,\n",
       "            0.5045,     0.50551,     0.50651,     0.50751,     0.50851,     0.50951,     0.51051,     0.51151,     0.51251,     0.51351,     0.51451,     0.51552,     0.51652,     0.51752,     0.51852,     0.51952,     0.52052,     0.52152,     0.52252,     0.52352,     0.52452,     0.52553,     0.52653,     0.52753,\n",
       "           0.52853,     0.52953,     0.53053,     0.53153,     0.53253,     0.53353,     0.53453,     0.53554,     0.53654,     0.53754,     0.53854,     0.53954,     0.54054,     0.54154,     0.54254,     0.54354,     0.54454,     0.54555,     0.54655,     0.54755,     0.54855,     0.54955,     0.55055,     0.55155,\n",
       "           0.55255,     0.55355,     0.55455,     0.55556,     0.55656,     0.55756,     0.55856,     0.55956,     0.56056,     0.56156,     0.56256,     0.56356,     0.56456,     0.56557,     0.56657,     0.56757,     0.56857,     0.56957,     0.57057,     0.57157,     0.57257,     0.57357,     0.57457,     0.57558,\n",
       "           0.57658,     0.57758,     0.57858,     0.57958,     0.58058,     0.58158,     0.58258,     0.58358,     0.58458,     0.58559,     0.58659,     0.58759,     0.58859,     0.58959,     0.59059,     0.59159,     0.59259,     0.59359,     0.59459,      0.5956,      0.5966,      0.5976,      0.5986,      0.5996,\n",
       "            0.6006,      0.6016,      0.6026,      0.6036,      0.6046,     0.60561,     0.60661,     0.60761,     0.60861,     0.60961,     0.61061,     0.61161,     0.61261,     0.61361,     0.61461,     0.61562,     0.61662,     0.61762,     0.61862,     0.61962,     0.62062,     0.62162,     0.62262,     0.62362,\n",
       "           0.62462,     0.62563,     0.62663,     0.62763,     0.62863,     0.62963,     0.63063,     0.63163,     0.63263,     0.63363,     0.63463,     0.63564,     0.63664,     0.63764,     0.63864,     0.63964,     0.64064,     0.64164,     0.64264,     0.64364,     0.64464,     0.64565,     0.64665,     0.64765,\n",
       "           0.64865,     0.64965,     0.65065,     0.65165,     0.65265,     0.65365,     0.65465,     0.65566,     0.65666,     0.65766,     0.65866,     0.65966,     0.66066,     0.66166,     0.66266,     0.66366,     0.66466,     0.66567,     0.66667,     0.66767,     0.66867,     0.66967,     0.67067,     0.67167,\n",
       "           0.67267,     0.67367,     0.67467,     0.67568,     0.67668,     0.67768,     0.67868,     0.67968,     0.68068,     0.68168,     0.68268,     0.68368,     0.68468,     0.68569,     0.68669,     0.68769,     0.68869,     0.68969,     0.69069,     0.69169,     0.69269,     0.69369,     0.69469,      0.6957,\n",
       "            0.6967,      0.6977,      0.6987,      0.6997,      0.7007,      0.7017,      0.7027,      0.7037,      0.7047,     0.70571,     0.70671,     0.70771,     0.70871,     0.70971,     0.71071,     0.71171,     0.71271,     0.71371,     0.71471,     0.71572,     0.71672,     0.71772,     0.71872,     0.71972,\n",
       "           0.72072,     0.72172,     0.72272,     0.72372,     0.72472,     0.72573,     0.72673,     0.72773,     0.72873,     0.72973,     0.73073,     0.73173,     0.73273,     0.73373,     0.73473,     0.73574,     0.73674,     0.73774,     0.73874,     0.73974,     0.74074,     0.74174,     0.74274,     0.74374,\n",
       "           0.74474,     0.74575,     0.74675,     0.74775,     0.74875,     0.74975,     0.75075,     0.75175,     0.75275,     0.75375,     0.75475,     0.75576,     0.75676,     0.75776,     0.75876,     0.75976,     0.76076,     0.76176,     0.76276,     0.76376,     0.76476,     0.76577,     0.76677,     0.76777,\n",
       "           0.76877,     0.76977,     0.77077,     0.77177,     0.77277,     0.77377,     0.77477,     0.77578,     0.77678,     0.77778,     0.77878,     0.77978,     0.78078,     0.78178,     0.78278,     0.78378,     0.78478,     0.78579,     0.78679,     0.78779,     0.78879,     0.78979,     0.79079,     0.79179,\n",
       "           0.79279,     0.79379,     0.79479,      0.7958,      0.7968,      0.7978,      0.7988,      0.7998,      0.8008,      0.8018,      0.8028,      0.8038,      0.8048,     0.80581,     0.80681,     0.80781,     0.80881,     0.80981,     0.81081,     0.81181,     0.81281,     0.81381,     0.81481,     0.81582,\n",
       "           0.81682,     0.81782,     0.81882,     0.81982,     0.82082,     0.82182,     0.82282,     0.82382,     0.82482,     0.82583,     0.82683,     0.82783,     0.82883,     0.82983,     0.83083,     0.83183,     0.83283,     0.83383,     0.83483,     0.83584,     0.83684,     0.83784,     0.83884,     0.83984,\n",
       "           0.84084,     0.84184,     0.84284,     0.84384,     0.84484,     0.84585,     0.84685,     0.84785,     0.84885,     0.84985,     0.85085,     0.85185,     0.85285,     0.85385,     0.85485,     0.85586,     0.85686,     0.85786,     0.85886,     0.85986,     0.86086,     0.86186,     0.86286,     0.86386,\n",
       "           0.86486,     0.86587,     0.86687,     0.86787,     0.86887,     0.86987,     0.87087,     0.87187,     0.87287,     0.87387,     0.87487,     0.87588,     0.87688,     0.87788,     0.87888,     0.87988,     0.88088,     0.88188,     0.88288,     0.88388,     0.88488,     0.88589,     0.88689,     0.88789,\n",
       "           0.88889,     0.88989,     0.89089,     0.89189,     0.89289,     0.89389,     0.89489,      0.8959,      0.8969,      0.8979,      0.8989,      0.8999,      0.9009,      0.9019,      0.9029,      0.9039,      0.9049,     0.90591,     0.90691,     0.90791,     0.90891,     0.90991,     0.91091,     0.91191,\n",
       "           0.91291,     0.91391,     0.91491,     0.91592,     0.91692,     0.91792,     0.91892,     0.91992,     0.92092,     0.92192,     0.92292,     0.92392,     0.92492,     0.92593,     0.92693,     0.92793,     0.92893,     0.92993,     0.93093,     0.93193,     0.93293,     0.93393,     0.93493,     0.93594,\n",
       "           0.93694,     0.93794,     0.93894,     0.93994,     0.94094,     0.94194,     0.94294,     0.94394,     0.94494,     0.94595,     0.94695,     0.94795,     0.94895,     0.94995,     0.95095,     0.95195,     0.95295,     0.95395,     0.95495,     0.95596,     0.95696,     0.95796,     0.95896,     0.95996,\n",
       "           0.96096,     0.96196,     0.96296,     0.96396,     0.96496,     0.96597,     0.96697,     0.96797,     0.96897,     0.96997,     0.97097,     0.97197,     0.97297,     0.97397,     0.97497,     0.97598,     0.97698,     0.97798,     0.97898,     0.97998,     0.98098,     0.98198,     0.98298,     0.98398,\n",
       "           0.98498,     0.98599,     0.98699,     0.98799,     0.98899,     0.98999,     0.99099,     0.99199,     0.99299,     0.99399,     0.99499,       0.996,       0.997,       0.998,       0.999,           1]), array([[          1,           1,           1,           1,           1,           1,           1,           1,           1,           1,           1,           1,           1,           1,           1,           1,           1,           1,           1,           1,           1,           1,           1,\n",
       "                  1,           1,           1,           1,           1,           1,           1,           1,           1,           1,           1,           1,           1,           1,           1,           1,           1,           1,           1,           1,           1,           1,           1,\n",
       "                  1,           1,           1,           1,           1,           1,           1,           1,           1,           1,           1,           1,           1,           1,           1,           1,           1,           1,           1,           1,           1,           1,           1,\n",
       "                  1,           1,           1,           1,           1,           1,           1,           1,           1,           1,           1,           1,           1,           1,           1,           1,     0.99618,     0.99618,     0.99618,     0.99618,     0.99464,     0.99464,     0.99464,\n",
       "            0.99464,     0.99464,     0.99464,     0.99464,     0.99464,     0.99464,     0.99464,     0.99464,     0.99464,     0.99464,     0.99464,     0.99464,     0.99464,     0.99464,     0.99464,     0.99464,     0.99464,     0.99464,     0.99464,     0.99464,     0.99464,     0.99464,     0.99464,\n",
       "            0.99464,     0.99464,     0.99464,     0.99464,     0.99464,     0.99464,     0.99464,     0.99464,     0.99464,     0.99464,     0.99464,     0.99327,     0.99327,     0.99327,     0.99327,     0.99327,     0.99327,     0.99327,     0.99327,     0.99327,     0.99327,     0.99327,     0.99327,\n",
       "            0.99327,     0.99327,     0.99327,     0.99327,     0.99327,     0.99327,     0.99327,     0.99327,     0.99327,     0.99327,     0.99327,     0.99327,     0.99237,     0.99237,     0.99237,     0.99237,     0.99237,     0.99237,     0.99237,     0.99237,     0.99237,     0.99237,     0.99237,\n",
       "            0.99237,     0.99237,     0.99237,     0.99237,     0.99237,     0.99237,     0.99237,     0.99237,     0.99237,     0.99237,     0.99237,     0.99237,     0.99237,     0.99237,     0.99237,     0.99237,     0.99237,     0.99237,     0.99237,     0.99237,     0.99237,     0.99237,     0.99237,\n",
       "            0.99237,     0.99237,     0.99237,     0.99237,     0.99237,     0.99237,     0.99237,     0.99237,     0.99237,     0.99237,     0.99237,     0.99237,     0.99237,     0.99237,     0.99237,     0.99237,     0.99237,     0.99237,     0.99237,     0.99237,     0.99237,     0.99237,     0.99237,\n",
       "            0.99237,     0.99237,     0.99237,     0.99237,     0.99237,     0.99237,     0.99237,     0.99237,     0.99237,     0.99237,     0.99237,     0.99237,     0.99237,     0.99169,     0.99169,     0.99169,     0.99169,     0.99169,     0.99169,     0.99169,     0.99169,     0.99169,     0.99169,\n",
       "            0.99169,     0.99169,     0.99169,     0.99169,     0.99169,     0.99169,     0.99169,     0.99169,     0.99169,     0.99169,     0.99169,     0.99169,     0.99044,     0.99044,     0.99044,     0.99044,      0.9904,      0.9904,      0.9904,      0.9904,      0.9904,      0.9904,      0.9904,\n",
       "             0.9904,      0.9904,      0.9904,      0.9904,      0.9904,      0.9904,      0.9904,      0.9904,      0.9904,      0.9904,      0.9904,      0.9904,      0.9904,      0.9904,      0.9904,      0.9904,      0.9904,      0.9904,      0.9904,      0.9904,      0.9904,      0.9904,      0.9904,\n",
       "             0.9904,      0.9904,      0.9904,     0.98967,     0.98967,     0.98967,     0.98967,     0.98967,     0.98967,     0.98967,     0.98967,     0.98967,     0.98967,     0.98967,     0.98967,     0.98967,     0.98967,     0.98967,     0.98967,     0.98967,     0.98967,     0.98967,     0.98967,\n",
       "            0.98967,     0.98967,     0.98967,     0.98967,     0.98967,     0.98967,     0.98967,     0.98967,     0.98967,     0.98967,     0.98967,     0.98967,     0.98967,     0.98967,     0.98967,     0.98967,     0.98967,     0.98967,     0.98967,     0.98967,     0.98967,     0.98967,     0.98967,\n",
       "            0.98967,     0.98967,     0.98927,     0.98927,     0.98927,     0.98927,     0.98927,     0.98927,     0.98927,     0.98927,     0.98927,     0.98927,     0.98927,     0.98927,     0.98927,     0.98927,     0.98927,     0.98927,     0.98927,     0.98927,     0.98927,     0.98927,     0.98927,\n",
       "            0.98927,     0.98927,     0.98927,     0.98927,     0.98927,     0.98927,     0.98927,     0.98927,     0.98927,     0.98927,     0.98927,     0.98927,     0.98927,     0.98927,     0.98927,     0.98927,     0.98927,     0.98927,     0.98927,     0.98927,     0.98927,     0.98927,     0.98927,\n",
       "            0.98927,     0.98927,     0.98927,     0.98927,     0.98927,     0.98927,     0.98927,     0.98927,     0.98927,     0.98927,     0.98927,     0.98927,     0.98927,     0.98927,     0.98927,     0.98927,     0.98927,     0.98927,     0.98927,     0.98927,     0.98927,     0.98927,     0.98927,\n",
       "            0.98927,     0.98927,     0.98927,     0.98927,     0.98927,     0.98927,     0.98927,     0.98927,     0.98927,     0.98927,     0.98927,     0.98927,     0.98927,     0.98927,     0.98927,     0.98911,     0.98911,     0.98911,     0.98911,     0.98911,     0.98911,     0.98911,     0.98911,\n",
       "            0.98911,     0.98911,     0.98911,     0.98911,     0.98911,     0.98911,     0.98911,     0.98911,     0.98911,     0.98911,     0.98911,     0.98911,     0.98911,     0.98911,     0.98911,     0.98911,     0.98855,     0.98855,     0.98855,     0.98855,     0.98855,     0.98855,     0.98855,\n",
       "            0.98855,     0.98855,     0.98855,     0.98855,     0.98855,     0.98855,     0.98855,     0.98855,     0.98855,     0.98855,     0.98855,     0.98855,     0.98855,     0.98855,     0.98855,     0.98855,     0.98855,     0.98855,     0.98855,     0.98855,     0.98855,     0.98855,     0.98855,\n",
       "            0.98855,     0.98855,     0.98855,     0.98855,     0.98855,     0.98855,     0.98855,     0.98855,     0.98855,     0.98855,     0.98855,     0.98855,     0.98855,     0.98855,     0.98855,     0.98855,     0.98855,     0.98855,     0.98855,     0.98855,     0.98855,     0.98855,     0.98855,\n",
       "            0.98855,     0.98855,     0.98855,     0.98855,     0.98855,     0.98855,     0.98855,     0.98855,     0.98855,     0.98855,     0.98855,     0.98855,     0.98855,     0.98855,     0.98855,     0.98855,     0.98855,     0.98855,     0.98855,     0.98855,     0.98855,     0.98855,     0.98855,\n",
       "            0.98855,     0.98855,     0.98855,     0.98855,     0.98855,     0.98855,     0.98855,     0.98855,     0.98855,     0.98855,     0.98855,     0.98855,     0.98855,     0.98855,     0.98855,     0.98855,     0.98855,     0.98855,     0.98855,     0.98855,     0.98804,     0.98804,     0.98804,\n",
       "            0.98804,     0.98804,     0.98762,     0.98762,     0.98762,     0.98762,     0.98762,     0.98762,     0.98762,     0.98762,     0.98762,     0.98721,     0.98721,     0.98721,     0.98721,     0.98721,     0.98721,     0.98721,     0.98721,     0.98671,     0.98671,     0.98671,     0.98671,\n",
       "            0.98671,     0.98629,     0.98629,     0.98629,     0.98629,     0.98629,     0.98629,     0.98629,     0.98626,     0.98626,     0.98626,     0.98626,     0.98626,     0.98626,     0.98626,     0.98626,     0.98626,     0.98626,     0.98626,     0.98626,     0.98626,     0.98626,     0.98626,\n",
       "            0.98626,     0.98626,     0.98626,     0.98626,     0.98626,     0.98626,     0.98626,     0.98626,     0.98626,     0.98626,     0.98626,     0.98626,     0.98626,     0.98626,     0.98626,     0.98626,     0.98626,     0.98626,     0.98626,     0.98626,     0.98626,     0.98626,     0.98626,\n",
       "            0.98626,     0.98626,     0.98626,     0.98626,     0.98626,     0.98626,     0.98626,     0.98626,     0.98626,     0.98626,     0.98626,     0.98626,     0.98626,     0.98626,     0.98626,     0.98626,     0.98626,     0.98626,     0.98626,     0.98626,     0.98626,     0.98626,     0.98626,\n",
       "            0.98626,     0.98626,     0.98626,     0.98626,     0.98626,     0.98626,     0.98626,     0.98626,     0.98626,     0.98626,     0.98626,     0.98626,     0.98626,     0.98626,     0.98626,     0.98626,     0.98626,     0.98626,     0.98626,     0.98626,     0.98626,     0.98626,     0.98626,\n",
       "            0.98626,     0.98626,     0.98626,     0.98626,     0.98626,     0.98626,     0.98626,     0.98626,     0.98626,     0.98626,     0.98626,     0.98626,     0.98626,     0.98626,     0.98626,     0.98626,     0.98626,     0.98626,     0.98626,     0.98626,     0.98626,     0.98626,     0.98626,\n",
       "            0.98626,     0.98626,     0.98626,     0.98626,     0.98626,     0.98626,     0.98626,     0.98626,     0.98626,     0.98626,     0.98626,     0.98626,     0.98626,     0.98626,     0.98626,     0.98626,     0.98626,     0.98626,     0.98626,     0.98626,     0.98626,     0.98626,     0.98626,\n",
       "            0.98626,     0.98626,     0.98626,     0.98626,     0.98626,     0.98626,     0.98626,     0.98626,     0.98626,     0.98626,     0.98626,     0.98626,     0.98626,     0.98626,     0.98582,     0.98547,     0.98547,     0.98547,     0.98547,     0.98547,     0.98547,     0.98541,     0.98541,\n",
       "            0.98541,     0.98541,     0.98541,     0.98541,     0.98541,     0.98541,     0.98541,     0.98541,     0.98541,     0.98541,     0.98541,     0.98541,     0.98541,     0.98541,     0.98541,     0.98541,     0.98541,     0.98541,     0.98499,     0.98499,      0.9847,      0.9847,      0.9847,\n",
       "             0.9847,      0.9847,      0.9847,      0.9847,     0.98434,     0.98434,     0.98434,     0.98434,     0.98391,     0.98368,     0.98368,     0.98368,     0.98368,     0.98368,     0.98368,     0.98368,     0.98368,     0.98368,     0.98341,     0.98341,     0.98341,     0.98341,     0.98341,\n",
       "            0.98341,     0.98341,     0.98341,     0.98237,     0.98237,     0.98237,     0.98237,     0.98237,     0.98237,     0.98237,     0.98237,     0.98237,     0.98237,     0.98237,     0.98209,     0.98209,     0.98209,     0.98209,     0.98209,     0.98209,     0.98193,     0.98193,     0.98193,\n",
       "            0.98193,     0.98193,     0.98193,     0.98193,     0.98193,     0.98193,     0.98193,     0.98193,     0.98185,     0.98185,     0.98185,     0.98185,     0.98185,     0.98185,     0.98185,     0.98185,     0.98185,     0.98185,     0.98185,     0.98185,     0.98185,     0.98185,     0.98185,\n",
       "            0.98149,     0.98149,     0.98123,     0.98123,     0.98123,     0.98123,     0.98123,     0.98123,     0.98089,     0.98089,     0.98089,     0.98052,     0.98022,     0.98022,     0.98022,     0.98022,     0.97998,     0.97998,     0.97998,     0.97998,     0.97998,     0.97998,     0.97975,\n",
       "            0.97975,     0.97975,     0.97975,     0.97975,     0.97975,     0.97975,      0.9795,      0.9795,      0.9795,      0.9795,      0.9795,      0.9795,     0.97917,     0.97917,     0.97884,     0.97884,     0.97884,     0.97809,     0.97809,     0.97809,     0.97809,     0.97809,     0.97809,\n",
       "            0.97809,     0.97809,     0.97809,     0.97809,     0.97809,     0.97809,     0.97809,     0.97809,     0.97809,     0.97789,     0.97789,     0.97789,     0.97789,     0.97789,     0.97789,     0.97789,     0.97758,     0.97758,     0.97758,     0.97703,     0.97703,     0.97703,     0.97703,\n",
       "            0.97703,     0.97703,     0.97703,     0.97671,     0.97671,     0.97641,     0.97641,     0.97641,     0.97621,     0.97621,     0.97621,     0.97621,     0.97621,     0.97621,     0.97553,     0.97553,     0.97449,     0.97419,     0.97419,     0.97391,     0.97391,     0.97391,      0.9734,\n",
       "             0.9734,      0.9734,      0.9734,      0.9734,      0.9734,      0.9734,     0.97306,     0.97275,     0.97253,     0.97253,     0.97253,     0.97253,     0.97253,      0.9722,     0.97155,     0.97121,     0.97055,     0.97023,     0.96973,     0.96973,     0.96973,     0.96973,     0.96973,\n",
       "            0.96973,     0.96873,     0.96807,     0.96778,     0.96644,     0.96412,     0.96412,     0.96353,     0.96353,     0.96321,      0.9626,     0.96228,     0.96201,     0.96174,     0.96174,     0.96078,     0.95956,     0.95956,     0.95956,     0.95927,     0.95767,     0.95675,     0.95643,\n",
       "            0.95419,     0.95358,     0.95267,     0.95044,      0.9492,     0.94744,     0.94744,     0.94744,      0.9443,     0.94277,     0.93937,     0.93881,     0.93175,     0.92754,     0.92489,     0.92165,     0.91702,      0.9168,     0.91594,     0.90755,     0.90304,     0.89492,     0.88889,\n",
       "            0.87458,     0.86335,     0.83674,     0.81223,     0.76724,     0.74264,     0.72123,      0.7045,      0.6932,     0.68236,     0.64278,     0.62346,     0.59967,     0.57039,     0.53525,     0.48782,      0.4466,     0.39692,     0.38105,     0.34034,     0.29557,     0.27283,     0.25009,\n",
       "            0.22736,     0.20462,     0.18189,     0.15915,     0.13642,     0.11368,    0.090943,    0.068208,    0.045472,    0.022736,           0]]), 'Recall', 'Precision'], [array([          0,    0.001001,    0.002002,    0.003003,    0.004004,    0.005005,    0.006006,    0.007007,    0.008008,    0.009009,     0.01001,    0.011011,    0.012012,    0.013013,    0.014014,    0.015015,    0.016016,    0.017017,    0.018018,    0.019019,     0.02002,    0.021021,    0.022022,    0.023023,\n",
       "          0.024024,    0.025025,    0.026026,    0.027027,    0.028028,    0.029029,     0.03003,    0.031031,    0.032032,    0.033033,    0.034034,    0.035035,    0.036036,    0.037037,    0.038038,    0.039039,     0.04004,    0.041041,    0.042042,    0.043043,    0.044044,    0.045045,    0.046046,    0.047047,\n",
       "          0.048048,    0.049049,     0.05005,    0.051051,    0.052052,    0.053053,    0.054054,    0.055055,    0.056056,    0.057057,    0.058058,    0.059059,     0.06006,    0.061061,    0.062062,    0.063063,    0.064064,    0.065065,    0.066066,    0.067067,    0.068068,    0.069069,     0.07007,    0.071071,\n",
       "          0.072072,    0.073073,    0.074074,    0.075075,    0.076076,    0.077077,    0.078078,    0.079079,     0.08008,    0.081081,    0.082082,    0.083083,    0.084084,    0.085085,    0.086086,    0.087087,    0.088088,    0.089089,     0.09009,    0.091091,    0.092092,    0.093093,    0.094094,    0.095095,\n",
       "          0.096096,    0.097097,    0.098098,    0.099099,      0.1001,      0.1011,      0.1021,      0.1031,      0.1041,     0.10511,     0.10611,     0.10711,     0.10811,     0.10911,     0.11011,     0.11111,     0.11211,     0.11311,     0.11411,     0.11512,     0.11612,     0.11712,     0.11812,     0.11912,\n",
       "           0.12012,     0.12112,     0.12212,     0.12312,     0.12412,     0.12513,     0.12613,     0.12713,     0.12813,     0.12913,     0.13013,     0.13113,     0.13213,     0.13313,     0.13413,     0.13514,     0.13614,     0.13714,     0.13814,     0.13914,     0.14014,     0.14114,     0.14214,     0.14314,\n",
       "           0.14414,     0.14515,     0.14615,     0.14715,     0.14815,     0.14915,     0.15015,     0.15115,     0.15215,     0.15315,     0.15415,     0.15516,     0.15616,     0.15716,     0.15816,     0.15916,     0.16016,     0.16116,     0.16216,     0.16316,     0.16416,     0.16517,     0.16617,     0.16717,\n",
       "           0.16817,     0.16917,     0.17017,     0.17117,     0.17217,     0.17317,     0.17417,     0.17518,     0.17618,     0.17718,     0.17818,     0.17918,     0.18018,     0.18118,     0.18218,     0.18318,     0.18418,     0.18519,     0.18619,     0.18719,     0.18819,     0.18919,     0.19019,     0.19119,\n",
       "           0.19219,     0.19319,     0.19419,      0.1952,      0.1962,      0.1972,      0.1982,      0.1992,      0.2002,      0.2012,      0.2022,      0.2032,      0.2042,     0.20521,     0.20621,     0.20721,     0.20821,     0.20921,     0.21021,     0.21121,     0.21221,     0.21321,     0.21421,     0.21522,\n",
       "           0.21622,     0.21722,     0.21822,     0.21922,     0.22022,     0.22122,     0.22222,     0.22322,     0.22422,     0.22523,     0.22623,     0.22723,     0.22823,     0.22923,     0.23023,     0.23123,     0.23223,     0.23323,     0.23423,     0.23524,     0.23624,     0.23724,     0.23824,     0.23924,\n",
       "           0.24024,     0.24124,     0.24224,     0.24324,     0.24424,     0.24525,     0.24625,     0.24725,     0.24825,     0.24925,     0.25025,     0.25125,     0.25225,     0.25325,     0.25425,     0.25526,     0.25626,     0.25726,     0.25826,     0.25926,     0.26026,     0.26126,     0.26226,     0.26326,\n",
       "           0.26426,     0.26527,     0.26627,     0.26727,     0.26827,     0.26927,     0.27027,     0.27127,     0.27227,     0.27327,     0.27427,     0.27528,     0.27628,     0.27728,     0.27828,     0.27928,     0.28028,     0.28128,     0.28228,     0.28328,     0.28428,     0.28529,     0.28629,     0.28729,\n",
       "           0.28829,     0.28929,     0.29029,     0.29129,     0.29229,     0.29329,     0.29429,      0.2953,      0.2963,      0.2973,      0.2983,      0.2993,      0.3003,      0.3013,      0.3023,      0.3033,      0.3043,     0.30531,     0.30631,     0.30731,     0.30831,     0.30931,     0.31031,     0.31131,\n",
       "           0.31231,     0.31331,     0.31431,     0.31532,     0.31632,     0.31732,     0.31832,     0.31932,     0.32032,     0.32132,     0.32232,     0.32332,     0.32432,     0.32533,     0.32633,     0.32733,     0.32833,     0.32933,     0.33033,     0.33133,     0.33233,     0.33333,     0.33433,     0.33534,\n",
       "           0.33634,     0.33734,     0.33834,     0.33934,     0.34034,     0.34134,     0.34234,     0.34334,     0.34434,     0.34535,     0.34635,     0.34735,     0.34835,     0.34935,     0.35035,     0.35135,     0.35235,     0.35335,     0.35435,     0.35536,     0.35636,     0.35736,     0.35836,     0.35936,\n",
       "           0.36036,     0.36136,     0.36236,     0.36336,     0.36436,     0.36537,     0.36637,     0.36737,     0.36837,     0.36937,     0.37037,     0.37137,     0.37237,     0.37337,     0.37437,     0.37538,     0.37638,     0.37738,     0.37838,     0.37938,     0.38038,     0.38138,     0.38238,     0.38338,\n",
       "           0.38438,     0.38539,     0.38639,     0.38739,     0.38839,     0.38939,     0.39039,     0.39139,     0.39239,     0.39339,     0.39439,      0.3954,      0.3964,      0.3974,      0.3984,      0.3994,      0.4004,      0.4014,      0.4024,      0.4034,      0.4044,     0.40541,     0.40641,     0.40741,\n",
       "           0.40841,     0.40941,     0.41041,     0.41141,     0.41241,     0.41341,     0.41441,     0.41542,     0.41642,     0.41742,     0.41842,     0.41942,     0.42042,     0.42142,     0.42242,     0.42342,     0.42442,     0.42543,     0.42643,     0.42743,     0.42843,     0.42943,     0.43043,     0.43143,\n",
       "           0.43243,     0.43343,     0.43443,     0.43544,     0.43644,     0.43744,     0.43844,     0.43944,     0.44044,     0.44144,     0.44244,     0.44344,     0.44444,     0.44545,     0.44645,     0.44745,     0.44845,     0.44945,     0.45045,     0.45145,     0.45245,     0.45345,     0.45445,     0.45546,\n",
       "           0.45646,     0.45746,     0.45846,     0.45946,     0.46046,     0.46146,     0.46246,     0.46346,     0.46446,     0.46547,     0.46647,     0.46747,     0.46847,     0.46947,     0.47047,     0.47147,     0.47247,     0.47347,     0.47447,     0.47548,     0.47648,     0.47748,     0.47848,     0.47948,\n",
       "           0.48048,     0.48148,     0.48248,     0.48348,     0.48448,     0.48549,     0.48649,     0.48749,     0.48849,     0.48949,     0.49049,     0.49149,     0.49249,     0.49349,     0.49449,      0.4955,      0.4965,      0.4975,      0.4985,      0.4995,      0.5005,      0.5015,      0.5025,      0.5035,\n",
       "            0.5045,     0.50551,     0.50651,     0.50751,     0.50851,     0.50951,     0.51051,     0.51151,     0.51251,     0.51351,     0.51451,     0.51552,     0.51652,     0.51752,     0.51852,     0.51952,     0.52052,     0.52152,     0.52252,     0.52352,     0.52452,     0.52553,     0.52653,     0.52753,\n",
       "           0.52853,     0.52953,     0.53053,     0.53153,     0.53253,     0.53353,     0.53453,     0.53554,     0.53654,     0.53754,     0.53854,     0.53954,     0.54054,     0.54154,     0.54254,     0.54354,     0.54454,     0.54555,     0.54655,     0.54755,     0.54855,     0.54955,     0.55055,     0.55155,\n",
       "           0.55255,     0.55355,     0.55455,     0.55556,     0.55656,     0.55756,     0.55856,     0.55956,     0.56056,     0.56156,     0.56256,     0.56356,     0.56456,     0.56557,     0.56657,     0.56757,     0.56857,     0.56957,     0.57057,     0.57157,     0.57257,     0.57357,     0.57457,     0.57558,\n",
       "           0.57658,     0.57758,     0.57858,     0.57958,     0.58058,     0.58158,     0.58258,     0.58358,     0.58458,     0.58559,     0.58659,     0.58759,     0.58859,     0.58959,     0.59059,     0.59159,     0.59259,     0.59359,     0.59459,      0.5956,      0.5966,      0.5976,      0.5986,      0.5996,\n",
       "            0.6006,      0.6016,      0.6026,      0.6036,      0.6046,     0.60561,     0.60661,     0.60761,     0.60861,     0.60961,     0.61061,     0.61161,     0.61261,     0.61361,     0.61461,     0.61562,     0.61662,     0.61762,     0.61862,     0.61962,     0.62062,     0.62162,     0.62262,     0.62362,\n",
       "           0.62462,     0.62563,     0.62663,     0.62763,     0.62863,     0.62963,     0.63063,     0.63163,     0.63263,     0.63363,     0.63463,     0.63564,     0.63664,     0.63764,     0.63864,     0.63964,     0.64064,     0.64164,     0.64264,     0.64364,     0.64464,     0.64565,     0.64665,     0.64765,\n",
       "           0.64865,     0.64965,     0.65065,     0.65165,     0.65265,     0.65365,     0.65465,     0.65566,     0.65666,     0.65766,     0.65866,     0.65966,     0.66066,     0.66166,     0.66266,     0.66366,     0.66466,     0.66567,     0.66667,     0.66767,     0.66867,     0.66967,     0.67067,     0.67167,\n",
       "           0.67267,     0.67367,     0.67467,     0.67568,     0.67668,     0.67768,     0.67868,     0.67968,     0.68068,     0.68168,     0.68268,     0.68368,     0.68468,     0.68569,     0.68669,     0.68769,     0.68869,     0.68969,     0.69069,     0.69169,     0.69269,     0.69369,     0.69469,      0.6957,\n",
       "            0.6967,      0.6977,      0.6987,      0.6997,      0.7007,      0.7017,      0.7027,      0.7037,      0.7047,     0.70571,     0.70671,     0.70771,     0.70871,     0.70971,     0.71071,     0.71171,     0.71271,     0.71371,     0.71471,     0.71572,     0.71672,     0.71772,     0.71872,     0.71972,\n",
       "           0.72072,     0.72172,     0.72272,     0.72372,     0.72472,     0.72573,     0.72673,     0.72773,     0.72873,     0.72973,     0.73073,     0.73173,     0.73273,     0.73373,     0.73473,     0.73574,     0.73674,     0.73774,     0.73874,     0.73974,     0.74074,     0.74174,     0.74274,     0.74374,\n",
       "           0.74474,     0.74575,     0.74675,     0.74775,     0.74875,     0.74975,     0.75075,     0.75175,     0.75275,     0.75375,     0.75475,     0.75576,     0.75676,     0.75776,     0.75876,     0.75976,     0.76076,     0.76176,     0.76276,     0.76376,     0.76476,     0.76577,     0.76677,     0.76777,\n",
       "           0.76877,     0.76977,     0.77077,     0.77177,     0.77277,     0.77377,     0.77477,     0.77578,     0.77678,     0.77778,     0.77878,     0.77978,     0.78078,     0.78178,     0.78278,     0.78378,     0.78478,     0.78579,     0.78679,     0.78779,     0.78879,     0.78979,     0.79079,     0.79179,\n",
       "           0.79279,     0.79379,     0.79479,      0.7958,      0.7968,      0.7978,      0.7988,      0.7998,      0.8008,      0.8018,      0.8028,      0.8038,      0.8048,     0.80581,     0.80681,     0.80781,     0.80881,     0.80981,     0.81081,     0.81181,     0.81281,     0.81381,     0.81481,     0.81582,\n",
       "           0.81682,     0.81782,     0.81882,     0.81982,     0.82082,     0.82182,     0.82282,     0.82382,     0.82482,     0.82583,     0.82683,     0.82783,     0.82883,     0.82983,     0.83083,     0.83183,     0.83283,     0.83383,     0.83483,     0.83584,     0.83684,     0.83784,     0.83884,     0.83984,\n",
       "           0.84084,     0.84184,     0.84284,     0.84384,     0.84484,     0.84585,     0.84685,     0.84785,     0.84885,     0.84985,     0.85085,     0.85185,     0.85285,     0.85385,     0.85485,     0.85586,     0.85686,     0.85786,     0.85886,     0.85986,     0.86086,     0.86186,     0.86286,     0.86386,\n",
       "           0.86486,     0.86587,     0.86687,     0.86787,     0.86887,     0.86987,     0.87087,     0.87187,     0.87287,     0.87387,     0.87487,     0.87588,     0.87688,     0.87788,     0.87888,     0.87988,     0.88088,     0.88188,     0.88288,     0.88388,     0.88488,     0.88589,     0.88689,     0.88789,\n",
       "           0.88889,     0.88989,     0.89089,     0.89189,     0.89289,     0.89389,     0.89489,      0.8959,      0.8969,      0.8979,      0.8989,      0.8999,      0.9009,      0.9019,      0.9029,      0.9039,      0.9049,     0.90591,     0.90691,     0.90791,     0.90891,     0.90991,     0.91091,     0.91191,\n",
       "           0.91291,     0.91391,     0.91491,     0.91592,     0.91692,     0.91792,     0.91892,     0.91992,     0.92092,     0.92192,     0.92292,     0.92392,     0.92492,     0.92593,     0.92693,     0.92793,     0.92893,     0.92993,     0.93093,     0.93193,     0.93293,     0.93393,     0.93493,     0.93594,\n",
       "           0.93694,     0.93794,     0.93894,     0.93994,     0.94094,     0.94194,     0.94294,     0.94394,     0.94494,     0.94595,     0.94695,     0.94795,     0.94895,     0.94995,     0.95095,     0.95195,     0.95295,     0.95395,     0.95495,     0.95596,     0.95696,     0.95796,     0.95896,     0.95996,\n",
       "           0.96096,     0.96196,     0.96296,     0.96396,     0.96496,     0.96597,     0.96697,     0.96797,     0.96897,     0.96997,     0.97097,     0.97197,     0.97297,     0.97397,     0.97497,     0.97598,     0.97698,     0.97798,     0.97898,     0.97998,     0.98098,     0.98198,     0.98298,     0.98398,\n",
       "           0.98498,     0.98599,     0.98699,     0.98799,     0.98899,     0.98999,     0.99099,     0.99199,     0.99299,     0.99399,     0.99499,       0.996,       0.997,       0.998,       0.999,           1]), array([[    0.47752,     0.47752,     0.57053,     0.62212,     0.65633,     0.68237,     0.70376,     0.72191,      0.7375,     0.74748,     0.75866,     0.76661,     0.77539,     0.78194,     0.78865,     0.79417,     0.80066,     0.80433,     0.80897,     0.81347,     0.81767,     0.82238,     0.82581,\n",
       "             0.8285,      0.8313,     0.83359,     0.83635,     0.83931,     0.84206,     0.84461,     0.84725,     0.84938,     0.85165,      0.8534,     0.85613,     0.85855,      0.8593,     0.86115,     0.86378,     0.86532,     0.86669,     0.86868,      0.8697,     0.87161,     0.87339,     0.87457,\n",
       "            0.87629,     0.87691,     0.87814,     0.87889,     0.88023,     0.88123,      0.8818,     0.88304,     0.88422,     0.88546,     0.88643,     0.88744,     0.88847,     0.88997,     0.89083,     0.89189,     0.89287,     0.89383,     0.89428,     0.89496,     0.89613,     0.89698,      0.8981,\n",
       "            0.89888,     0.89957,     0.90024,     0.90087,     0.90154,     0.90243,     0.90363,     0.90453,     0.90519,     0.90548,       0.906,     0.90632,     0.90688,     0.90774,     0.90803,     0.90881,     0.90929,     0.90955,     0.90993,     0.91011,     0.91086,     0.91161,     0.91236,\n",
       "             0.9132,     0.91359,     0.91396,      0.9143,     0.91469,     0.91502,     0.91548,     0.91618,      0.9171,     0.91731,     0.91743,      0.9175,     0.91781,     0.91851,      0.9184,     0.91859,     0.91876,      0.9193,     0.91986,     0.92042,     0.92069,     0.92086,     0.92107,\n",
       "            0.92116,     0.92152,     0.92161,     0.92183,     0.92203,     0.92227,     0.92267,     0.92263,     0.92347,     0.92392,     0.92457,     0.92489,     0.92501,     0.92522,     0.92576,     0.92597,     0.92632,     0.92681,     0.92683,     0.92683,     0.92691,     0.92705,     0.92713,\n",
       "             0.9272,     0.92761,     0.92826,     0.92866,     0.92857,     0.92866,     0.92929,     0.92975,      0.9301,     0.93035,     0.93023,      0.9305,     0.93067,     0.93082,     0.93088,     0.93093,     0.93126,     0.93156,      0.9317,     0.93186,     0.93207,      0.9322,     0.93231,\n",
       "            0.93238,     0.93247,     0.93246,     0.93276,     0.93294,     0.93307,     0.93314,     0.93337,     0.93346,     0.93362,     0.93374,     0.93384,     0.93393,     0.93399,     0.93405,     0.93409,     0.93393,     0.93418,     0.93447,     0.93445,     0.93435,     0.93441,     0.93446,\n",
       "            0.93485,     0.93505,     0.93535,       0.936,     0.93592,     0.93629,     0.93669,     0.93704,     0.93721,     0.93755,     0.93772,     0.93778,     0.93785,     0.93831,     0.93836,     0.93842,     0.93828,     0.93875,     0.93868,     0.93862,     0.93847,      0.9383,     0.93834,\n",
       "              0.938,     0.93791,     0.93779,     0.93771,     0.93781,     0.93825,     0.93836,     0.93882,     0.93918,     0.93969,     0.93982,     0.93971,     0.93976,     0.93964,     0.93976,     0.94027,     0.94041,     0.94049,     0.94061,     0.94088,     0.94095,     0.94105,     0.94115,\n",
       "            0.94147,     0.94141,     0.94153,     0.94165,     0.94163,     0.94176,     0.94187,     0.94189,     0.94199,     0.94226,     0.94254,     0.94269,     0.94275,      0.9428,     0.94286,     0.94291,     0.94296,     0.94295,     0.94291,     0.94287,     0.94283,     0.94282,     0.94287,\n",
       "            0.94293,     0.94304,     0.94319,     0.94324,      0.9433,     0.94341,     0.94368,     0.94366,     0.94387,     0.94403,     0.94408,     0.94414,     0.94451,     0.94462,      0.9448,     0.94501,     0.94531,     0.94542,     0.94553,     0.94567,     0.94598,     0.94595,     0.94602,\n",
       "            0.94615,     0.94626,     0.94631,     0.94636,     0.94626,     0.94633,      0.9464,     0.94645,      0.9465,     0.94666,     0.94674,      0.9468,     0.94673,     0.94649,     0.94658,     0.94653,     0.94649,     0.94658,     0.94679,     0.94696,     0.94705,     0.94709,     0.94711,\n",
       "            0.94714,     0.94717,     0.94719,     0.94722,     0.94747,      0.9476,     0.94781,      0.9477,     0.94764,     0.94783,     0.94792,       0.948,     0.94807,     0.94796,     0.94811,     0.94803,     0.94796,     0.94813,     0.94819,     0.94825,     0.94828,     0.94861,     0.94923,\n",
       "            0.94929,     0.94935,     0.94898,     0.94881,     0.94871,     0.94845,      0.9484,     0.94834,     0.94829,      0.9481,     0.94805,       0.948,     0.94794,     0.94786,     0.94777,     0.94793,     0.94796,       0.948,     0.94804,     0.94807,     0.94815,     0.94857,     0.94865,\n",
       "            0.94867,     0.94868,     0.94865,     0.94862,     0.94859,     0.94856,     0.94854,     0.94851,     0.94857,     0.94863,     0.94871,      0.9488,     0.94871,     0.94867,      0.9487,     0.94873,     0.94876,     0.94879,     0.94879,     0.94873,     0.94866,     0.94866,     0.94871,\n",
       "            0.94875,      0.9488,     0.94883,     0.94886,     0.94889,     0.94892,     0.94895,     0.94901,     0.94909,      0.9493,     0.94934,     0.94938,     0.94941,     0.94949,     0.94959,     0.94956,     0.94953,      0.9495,     0.94946,     0.94943,     0.94929,     0.94935,     0.94941,\n",
       "            0.94944,     0.94948,     0.94951,     0.94955,     0.94954,     0.94948,     0.94942,     0.94935,     0.94926,     0.94926,     0.94935,     0.94932,     0.94926,      0.9492,     0.94903,     0.94916,     0.94908,     0.94901,     0.94905,     0.94909,     0.94913,     0.94914,     0.94907,\n",
       "              0.949,     0.94908,     0.94941,      0.9495,     0.94956,     0.94961,     0.94949,     0.94957,     0.94963,     0.94963,     0.94967,     0.94972,     0.94974,     0.94965,      0.9497,     0.94936,     0.94926,     0.94925,     0.94935,     0.94933,      0.9493,     0.94927,     0.94924,\n",
       "            0.94922,     0.94919,      0.9493,     0.94947,     0.94919,     0.94921,      0.9493,     0.94945,     0.94962,     0.94959,     0.94957,     0.94955,     0.94953,     0.94951,     0.94949,     0.94947,     0.94947,      0.9496,      0.9495,      0.9495,     0.94957,     0.94951,     0.94945,\n",
       "            0.94933,     0.94921,     0.94915,     0.94908,     0.94908,     0.94911,     0.94915,     0.94918,     0.94921,     0.94909,     0.94883,     0.94878,     0.94874,     0.94869,     0.94853,     0.94811,     0.94807,     0.94804,       0.948,     0.94796,     0.94795,     0.94828,     0.94843,\n",
       "            0.94837,     0.94831,     0.94824,     0.94815,     0.94809,     0.94817,     0.94819,      0.9481,     0.94826,     0.94832,     0.94817,     0.94808,       0.948,     0.94795,     0.94791,     0.94786,     0.94752,      0.9476,     0.94761,     0.94755,     0.94748,     0.94722,     0.94713,\n",
       "            0.94698,     0.94679,     0.94685,     0.94684,     0.94667,     0.94663,      0.9466,     0.94656,     0.94652,     0.94646,      0.9464,     0.94634,     0.94623,     0.94632,     0.94612,      0.9462,     0.94609,      0.9459,     0.94572,     0.94536,      0.9453,     0.94524,     0.94503,\n",
       "            0.94511,     0.94511,     0.94495,     0.94485,     0.94476,     0.94467,     0.94467,     0.94484,     0.94501,     0.94513,     0.94522,     0.94534,     0.94543,     0.94549,     0.94555,     0.94527,     0.94531,     0.94529,     0.94546,     0.94557,     0.94565,     0.94554,     0.94517,\n",
       "            0.94508,     0.94502,     0.94495,     0.94495,     0.94463,     0.94463,     0.94475,      0.9448,     0.94486,     0.94457,     0.94465,     0.94473,     0.94482,     0.94473,     0.94477,     0.94434,     0.94397,     0.94378,     0.94348,     0.94338,     0.94321,      0.9431,     0.94301,\n",
       "            0.94265,     0.94228,     0.94172,     0.94168,     0.94158,      0.9413,     0.94126,     0.94099,     0.94101,     0.94115,     0.94073,     0.94054,     0.94035,     0.94041,      0.9403,     0.94028,     0.94033,     0.94037,     0.94041,     0.93989,     0.93951,     0.93905,     0.93897,\n",
       "            0.93866,     0.93833,     0.93823,      0.9379,     0.93786,     0.93795,     0.93787,      0.9373,     0.93728,     0.93707,     0.93714,     0.93678,     0.93602,     0.93546,     0.93489,      0.9347,     0.93451,     0.93432,     0.93359,     0.93348,     0.93353,     0.93359,     0.93321,\n",
       "            0.93302,     0.93283,     0.93245,      0.9321,     0.93221,     0.93219,     0.93209,     0.93193,     0.93155,     0.93135,     0.93113,     0.93085,     0.93082,     0.93075,     0.93073,     0.93038,     0.93021,     0.93008,     0.93024,     0.92964,     0.92926,     0.92888,     0.92866,\n",
       "            0.92839,     0.92807,     0.92797,     0.92704,     0.92685,     0.92634,     0.92576,     0.92546,     0.92554,     0.92547,     0.92505,     0.92466,     0.92463,     0.92443,     0.92356,     0.92279,      0.9224,     0.92201,     0.92188,      0.9218,     0.92171,     0.92112,      0.9207,\n",
       "             0.9206,     0.92066,     0.92018,     0.91969,     0.91949,     0.91939,     0.91919,     0.91858,      0.9179,     0.91782,      0.9173,     0.91695,     0.91685,     0.91602,     0.91544,     0.91551,     0.91558,     0.91548,     0.91528,     0.91489,     0.91382,     0.91372,     0.91316,\n",
       "            0.91252,     0.91192,     0.91113,     0.91044,     0.90984,     0.90897,     0.90835,     0.90775,     0.90685,     0.90693,     0.90585,     0.90522,     0.90508,      0.9047,     0.90453,     0.90374,     0.90366,     0.90351,     0.90245,     0.90164,     0.90029,     0.89928,     0.89841,\n",
       "            0.89776,     0.89735,      0.8968,      0.8957,     0.89486,     0.89405,     0.89309,     0.89267,     0.89154,     0.89128,     0.89098,     0.88991,     0.88853,     0.88787,     0.88718,     0.88496,     0.88463,     0.88451,     0.88437,     0.88303,     0.88212,     0.88125,     0.88104,\n",
       "            0.87988,     0.87916,      0.8783,     0.87777,     0.87577,     0.87465,     0.87413,     0.87391,     0.87253,     0.87186,     0.87114,     0.87018,     0.86928,     0.86885,     0.86798,     0.86684,     0.86594,     0.86491,     0.86397,      0.8635,     0.86179,     0.86069,     0.85858,\n",
       "            0.85883,      0.8579,     0.85692,     0.85549,     0.85503,     0.85345,     0.85209,     0.85179,     0.84836,     0.84781,     0.84734,     0.84639,     0.84508,     0.84326,     0.84228,     0.83982,     0.83808,     0.83669,     0.83398,     0.83259,     0.82732,     0.82516,     0.82366,\n",
       "            0.82152,     0.82002,     0.81777,     0.81626,     0.81493,     0.81296,     0.81184,     0.81105,     0.80802,     0.80533,     0.80105,     0.79955,     0.79668,     0.79518,     0.79056,     0.78697,     0.78478,     0.78217,     0.77829,     0.77377,     0.77122,     0.76817,     0.76729,\n",
       "            0.76406,     0.75947,     0.75734,     0.75422,     0.75205,     0.74818,     0.74403,     0.74182,     0.73968,     0.73821,     0.73569,     0.73246,     0.72769,      0.7262,      0.7217,     0.71634,     0.71522,     0.71147,     0.70741,     0.70504,      0.7019,     0.69806,     0.69296,\n",
       "            0.69117,     0.68668,      0.6845,     0.67834,      0.6768,     0.66944,     0.66555,     0.65891,      0.6548,     0.64788,     0.64558,     0.64278,     0.63623,     0.63245,     0.62752,     0.62306,      0.6176,     0.61214,      0.6085,     0.60325,     0.59891,     0.59458,     0.58755,\n",
       "            0.58146,     0.57524,     0.57441,     0.56993,     0.56508,     0.55949,     0.55351,     0.54925,     0.54461,     0.53539,      0.5303,     0.52516,     0.52003,     0.51665,     0.50768,      0.5039,     0.49935,     0.49172,     0.48538,     0.47954,     0.47436,     0.46335,     0.45934,\n",
       "            0.45209,     0.44883,     0.44229,     0.43746,     0.43177,     0.42383,     0.41834,      0.4077,     0.40424,     0.39775,     0.39175,     0.38878,     0.37861,     0.37592,     0.36649,     0.36105,     0.34787,     0.34229,     0.33575,      0.3249,      0.3206,     0.31628,     0.30517,\n",
       "            0.29784,      0.2934,     0.27849,     0.26797,     0.26082,     0.25218,     0.24901,     0.24275,     0.23958,      0.2343,     0.23058,     0.22365,     0.21781,     0.20915,     0.20259,     0.19433,     0.18878,     0.18207,     0.17869,      0.1651,     0.16113,     0.15538,     0.14961,\n",
       "             0.1391,     0.13378,     0.12962,     0.12365,     0.11765,     0.11462,     0.10856,     0.10489,     0.10181,      0.0998,    0.095025,    0.091304,    0.085711,    0.080085,    0.074426,    0.069364,    0.064909,    0.061705,    0.060401,    0.055905,    0.052671,    0.048814,    0.046171,\n",
       "            0.04232,    0.040926,    0.036991,    0.031074,    0.028415,    0.027543,    0.026209,    0.022892,    0.019034,    0.017007,    0.012975,    0.010936,   0.0098304,   0.0071302,   0.0061395,   0.0040864,   0.0036024,   0.0030238,   0.0020167,   0.0017859,   0.0015551,   0.0012684,           0,\n",
       "                  0,           0,           0,           0,           0,           0,           0,           0,           0,           0,           0,           0,           0,           0,           0,           0,           0,           0,           0,           0,           0,           0,           0,\n",
       "                  0,           0,           0,           0,           0,           0,           0,           0,           0,           0,           0]]), 'Confidence', 'F1'], [array([          0,    0.001001,    0.002002,    0.003003,    0.004004,    0.005005,    0.006006,    0.007007,    0.008008,    0.009009,     0.01001,    0.011011,    0.012012,    0.013013,    0.014014,    0.015015,    0.016016,    0.017017,    0.018018,    0.019019,     0.02002,    0.021021,    0.022022,    0.023023,\n",
       "          0.024024,    0.025025,    0.026026,    0.027027,    0.028028,    0.029029,     0.03003,    0.031031,    0.032032,    0.033033,    0.034034,    0.035035,    0.036036,    0.037037,    0.038038,    0.039039,     0.04004,    0.041041,    0.042042,    0.043043,    0.044044,    0.045045,    0.046046,    0.047047,\n",
       "          0.048048,    0.049049,     0.05005,    0.051051,    0.052052,    0.053053,    0.054054,    0.055055,    0.056056,    0.057057,    0.058058,    0.059059,     0.06006,    0.061061,    0.062062,    0.063063,    0.064064,    0.065065,    0.066066,    0.067067,    0.068068,    0.069069,     0.07007,    0.071071,\n",
       "          0.072072,    0.073073,    0.074074,    0.075075,    0.076076,    0.077077,    0.078078,    0.079079,     0.08008,    0.081081,    0.082082,    0.083083,    0.084084,    0.085085,    0.086086,    0.087087,    0.088088,    0.089089,     0.09009,    0.091091,    0.092092,    0.093093,    0.094094,    0.095095,\n",
       "          0.096096,    0.097097,    0.098098,    0.099099,      0.1001,      0.1011,      0.1021,      0.1031,      0.1041,     0.10511,     0.10611,     0.10711,     0.10811,     0.10911,     0.11011,     0.11111,     0.11211,     0.11311,     0.11411,     0.11512,     0.11612,     0.11712,     0.11812,     0.11912,\n",
       "           0.12012,     0.12112,     0.12212,     0.12312,     0.12412,     0.12513,     0.12613,     0.12713,     0.12813,     0.12913,     0.13013,     0.13113,     0.13213,     0.13313,     0.13413,     0.13514,     0.13614,     0.13714,     0.13814,     0.13914,     0.14014,     0.14114,     0.14214,     0.14314,\n",
       "           0.14414,     0.14515,     0.14615,     0.14715,     0.14815,     0.14915,     0.15015,     0.15115,     0.15215,     0.15315,     0.15415,     0.15516,     0.15616,     0.15716,     0.15816,     0.15916,     0.16016,     0.16116,     0.16216,     0.16316,     0.16416,     0.16517,     0.16617,     0.16717,\n",
       "           0.16817,     0.16917,     0.17017,     0.17117,     0.17217,     0.17317,     0.17417,     0.17518,     0.17618,     0.17718,     0.17818,     0.17918,     0.18018,     0.18118,     0.18218,     0.18318,     0.18418,     0.18519,     0.18619,     0.18719,     0.18819,     0.18919,     0.19019,     0.19119,\n",
       "           0.19219,     0.19319,     0.19419,      0.1952,      0.1962,      0.1972,      0.1982,      0.1992,      0.2002,      0.2012,      0.2022,      0.2032,      0.2042,     0.20521,     0.20621,     0.20721,     0.20821,     0.20921,     0.21021,     0.21121,     0.21221,     0.21321,     0.21421,     0.21522,\n",
       "           0.21622,     0.21722,     0.21822,     0.21922,     0.22022,     0.22122,     0.22222,     0.22322,     0.22422,     0.22523,     0.22623,     0.22723,     0.22823,     0.22923,     0.23023,     0.23123,     0.23223,     0.23323,     0.23423,     0.23524,     0.23624,     0.23724,     0.23824,     0.23924,\n",
       "           0.24024,     0.24124,     0.24224,     0.24324,     0.24424,     0.24525,     0.24625,     0.24725,     0.24825,     0.24925,     0.25025,     0.25125,     0.25225,     0.25325,     0.25425,     0.25526,     0.25626,     0.25726,     0.25826,     0.25926,     0.26026,     0.26126,     0.26226,     0.26326,\n",
       "           0.26426,     0.26527,     0.26627,     0.26727,     0.26827,     0.26927,     0.27027,     0.27127,     0.27227,     0.27327,     0.27427,     0.27528,     0.27628,     0.27728,     0.27828,     0.27928,     0.28028,     0.28128,     0.28228,     0.28328,     0.28428,     0.28529,     0.28629,     0.28729,\n",
       "           0.28829,     0.28929,     0.29029,     0.29129,     0.29229,     0.29329,     0.29429,      0.2953,      0.2963,      0.2973,      0.2983,      0.2993,      0.3003,      0.3013,      0.3023,      0.3033,      0.3043,     0.30531,     0.30631,     0.30731,     0.30831,     0.30931,     0.31031,     0.31131,\n",
       "           0.31231,     0.31331,     0.31431,     0.31532,     0.31632,     0.31732,     0.31832,     0.31932,     0.32032,     0.32132,     0.32232,     0.32332,     0.32432,     0.32533,     0.32633,     0.32733,     0.32833,     0.32933,     0.33033,     0.33133,     0.33233,     0.33333,     0.33433,     0.33534,\n",
       "           0.33634,     0.33734,     0.33834,     0.33934,     0.34034,     0.34134,     0.34234,     0.34334,     0.34434,     0.34535,     0.34635,     0.34735,     0.34835,     0.34935,     0.35035,     0.35135,     0.35235,     0.35335,     0.35435,     0.35536,     0.35636,     0.35736,     0.35836,     0.35936,\n",
       "           0.36036,     0.36136,     0.36236,     0.36336,     0.36436,     0.36537,     0.36637,     0.36737,     0.36837,     0.36937,     0.37037,     0.37137,     0.37237,     0.37337,     0.37437,     0.37538,     0.37638,     0.37738,     0.37838,     0.37938,     0.38038,     0.38138,     0.38238,     0.38338,\n",
       "           0.38438,     0.38539,     0.38639,     0.38739,     0.38839,     0.38939,     0.39039,     0.39139,     0.39239,     0.39339,     0.39439,      0.3954,      0.3964,      0.3974,      0.3984,      0.3994,      0.4004,      0.4014,      0.4024,      0.4034,      0.4044,     0.40541,     0.40641,     0.40741,\n",
       "           0.40841,     0.40941,     0.41041,     0.41141,     0.41241,     0.41341,     0.41441,     0.41542,     0.41642,     0.41742,     0.41842,     0.41942,     0.42042,     0.42142,     0.42242,     0.42342,     0.42442,     0.42543,     0.42643,     0.42743,     0.42843,     0.42943,     0.43043,     0.43143,\n",
       "           0.43243,     0.43343,     0.43443,     0.43544,     0.43644,     0.43744,     0.43844,     0.43944,     0.44044,     0.44144,     0.44244,     0.44344,     0.44444,     0.44545,     0.44645,     0.44745,     0.44845,     0.44945,     0.45045,     0.45145,     0.45245,     0.45345,     0.45445,     0.45546,\n",
       "           0.45646,     0.45746,     0.45846,     0.45946,     0.46046,     0.46146,     0.46246,     0.46346,     0.46446,     0.46547,     0.46647,     0.46747,     0.46847,     0.46947,     0.47047,     0.47147,     0.47247,     0.47347,     0.47447,     0.47548,     0.47648,     0.47748,     0.47848,     0.47948,\n",
       "           0.48048,     0.48148,     0.48248,     0.48348,     0.48448,     0.48549,     0.48649,     0.48749,     0.48849,     0.48949,     0.49049,     0.49149,     0.49249,     0.49349,     0.49449,      0.4955,      0.4965,      0.4975,      0.4985,      0.4995,      0.5005,      0.5015,      0.5025,      0.5035,\n",
       "            0.5045,     0.50551,     0.50651,     0.50751,     0.50851,     0.50951,     0.51051,     0.51151,     0.51251,     0.51351,     0.51451,     0.51552,     0.51652,     0.51752,     0.51852,     0.51952,     0.52052,     0.52152,     0.52252,     0.52352,     0.52452,     0.52553,     0.52653,     0.52753,\n",
       "           0.52853,     0.52953,     0.53053,     0.53153,     0.53253,     0.53353,     0.53453,     0.53554,     0.53654,     0.53754,     0.53854,     0.53954,     0.54054,     0.54154,     0.54254,     0.54354,     0.54454,     0.54555,     0.54655,     0.54755,     0.54855,     0.54955,     0.55055,     0.55155,\n",
       "           0.55255,     0.55355,     0.55455,     0.55556,     0.55656,     0.55756,     0.55856,     0.55956,     0.56056,     0.56156,     0.56256,     0.56356,     0.56456,     0.56557,     0.56657,     0.56757,     0.56857,     0.56957,     0.57057,     0.57157,     0.57257,     0.57357,     0.57457,     0.57558,\n",
       "           0.57658,     0.57758,     0.57858,     0.57958,     0.58058,     0.58158,     0.58258,     0.58358,     0.58458,     0.58559,     0.58659,     0.58759,     0.58859,     0.58959,     0.59059,     0.59159,     0.59259,     0.59359,     0.59459,      0.5956,      0.5966,      0.5976,      0.5986,      0.5996,\n",
       "            0.6006,      0.6016,      0.6026,      0.6036,      0.6046,     0.60561,     0.60661,     0.60761,     0.60861,     0.60961,     0.61061,     0.61161,     0.61261,     0.61361,     0.61461,     0.61562,     0.61662,     0.61762,     0.61862,     0.61962,     0.62062,     0.62162,     0.62262,     0.62362,\n",
       "           0.62462,     0.62563,     0.62663,     0.62763,     0.62863,     0.62963,     0.63063,     0.63163,     0.63263,     0.63363,     0.63463,     0.63564,     0.63664,     0.63764,     0.63864,     0.63964,     0.64064,     0.64164,     0.64264,     0.64364,     0.64464,     0.64565,     0.64665,     0.64765,\n",
       "           0.64865,     0.64965,     0.65065,     0.65165,     0.65265,     0.65365,     0.65465,     0.65566,     0.65666,     0.65766,     0.65866,     0.65966,     0.66066,     0.66166,     0.66266,     0.66366,     0.66466,     0.66567,     0.66667,     0.66767,     0.66867,     0.66967,     0.67067,     0.67167,\n",
       "           0.67267,     0.67367,     0.67467,     0.67568,     0.67668,     0.67768,     0.67868,     0.67968,     0.68068,     0.68168,     0.68268,     0.68368,     0.68468,     0.68569,     0.68669,     0.68769,     0.68869,     0.68969,     0.69069,     0.69169,     0.69269,     0.69369,     0.69469,      0.6957,\n",
       "            0.6967,      0.6977,      0.6987,      0.6997,      0.7007,      0.7017,      0.7027,      0.7037,      0.7047,     0.70571,     0.70671,     0.70771,     0.70871,     0.70971,     0.71071,     0.71171,     0.71271,     0.71371,     0.71471,     0.71572,     0.71672,     0.71772,     0.71872,     0.71972,\n",
       "           0.72072,     0.72172,     0.72272,     0.72372,     0.72472,     0.72573,     0.72673,     0.72773,     0.72873,     0.72973,     0.73073,     0.73173,     0.73273,     0.73373,     0.73473,     0.73574,     0.73674,     0.73774,     0.73874,     0.73974,     0.74074,     0.74174,     0.74274,     0.74374,\n",
       "           0.74474,     0.74575,     0.74675,     0.74775,     0.74875,     0.74975,     0.75075,     0.75175,     0.75275,     0.75375,     0.75475,     0.75576,     0.75676,     0.75776,     0.75876,     0.75976,     0.76076,     0.76176,     0.76276,     0.76376,     0.76476,     0.76577,     0.76677,     0.76777,\n",
       "           0.76877,     0.76977,     0.77077,     0.77177,     0.77277,     0.77377,     0.77477,     0.77578,     0.77678,     0.77778,     0.77878,     0.77978,     0.78078,     0.78178,     0.78278,     0.78378,     0.78478,     0.78579,     0.78679,     0.78779,     0.78879,     0.78979,     0.79079,     0.79179,\n",
       "           0.79279,     0.79379,     0.79479,      0.7958,      0.7968,      0.7978,      0.7988,      0.7998,      0.8008,      0.8018,      0.8028,      0.8038,      0.8048,     0.80581,     0.80681,     0.80781,     0.80881,     0.80981,     0.81081,     0.81181,     0.81281,     0.81381,     0.81481,     0.81582,\n",
       "           0.81682,     0.81782,     0.81882,     0.81982,     0.82082,     0.82182,     0.82282,     0.82382,     0.82482,     0.82583,     0.82683,     0.82783,     0.82883,     0.82983,     0.83083,     0.83183,     0.83283,     0.83383,     0.83483,     0.83584,     0.83684,     0.83784,     0.83884,     0.83984,\n",
       "           0.84084,     0.84184,     0.84284,     0.84384,     0.84484,     0.84585,     0.84685,     0.84785,     0.84885,     0.84985,     0.85085,     0.85185,     0.85285,     0.85385,     0.85485,     0.85586,     0.85686,     0.85786,     0.85886,     0.85986,     0.86086,     0.86186,     0.86286,     0.86386,\n",
       "           0.86486,     0.86587,     0.86687,     0.86787,     0.86887,     0.86987,     0.87087,     0.87187,     0.87287,     0.87387,     0.87487,     0.87588,     0.87688,     0.87788,     0.87888,     0.87988,     0.88088,     0.88188,     0.88288,     0.88388,     0.88488,     0.88589,     0.88689,     0.88789,\n",
       "           0.88889,     0.88989,     0.89089,     0.89189,     0.89289,     0.89389,     0.89489,      0.8959,      0.8969,      0.8979,      0.8989,      0.8999,      0.9009,      0.9019,      0.9029,      0.9039,      0.9049,     0.90591,     0.90691,     0.90791,     0.90891,     0.90991,     0.91091,     0.91191,\n",
       "           0.91291,     0.91391,     0.91491,     0.91592,     0.91692,     0.91792,     0.91892,     0.91992,     0.92092,     0.92192,     0.92292,     0.92392,     0.92492,     0.92593,     0.92693,     0.92793,     0.92893,     0.92993,     0.93093,     0.93193,     0.93293,     0.93393,     0.93493,     0.93594,\n",
       "           0.93694,     0.93794,     0.93894,     0.93994,     0.94094,     0.94194,     0.94294,     0.94394,     0.94494,     0.94595,     0.94695,     0.94795,     0.94895,     0.94995,     0.95095,     0.95195,     0.95295,     0.95395,     0.95495,     0.95596,     0.95696,     0.95796,     0.95896,     0.95996,\n",
       "           0.96096,     0.96196,     0.96296,     0.96396,     0.96496,     0.96597,     0.96697,     0.96797,     0.96897,     0.96997,     0.97097,     0.97197,     0.97297,     0.97397,     0.97497,     0.97598,     0.97698,     0.97798,     0.97898,     0.97998,     0.98098,     0.98198,     0.98298,     0.98398,\n",
       "           0.98498,     0.98599,     0.98699,     0.98799,     0.98899,     0.98999,     0.99099,     0.99199,     0.99299,     0.99399,     0.99499,       0.996,       0.997,       0.998,       0.999,           1]), array([[    0.31503,     0.31503,     0.40176,     0.45511,     0.49294,     0.52311,     0.54899,     0.57152,     0.59144,     0.60464,     0.61954,     0.63078,     0.64277,     0.65196,     0.66149,      0.6693,     0.67856,     0.68419,     0.69111,     0.69788,      0.7046,     0.71163,     0.71697,\n",
       "            0.72122,     0.72567,     0.72915,     0.73339,     0.73827,     0.74263,     0.74699,     0.75112,     0.75448,     0.75806,     0.76106,     0.76542,     0.76949,     0.77071,      0.7739,     0.77816,     0.78066,      0.7829,     0.78615,     0.78782,     0.79096,      0.7939,     0.79608,\n",
       "            0.79893,     0.79997,     0.80202,     0.80327,     0.80551,     0.80718,     0.80814,     0.81022,     0.81221,     0.81456,      0.8162,     0.81814,      0.8199,      0.8227,     0.82417,       0.826,     0.82768,     0.82932,      0.8301,     0.83128,      0.8333,     0.83477,     0.83697,\n",
       "            0.83832,     0.83952,     0.84094,     0.84205,     0.84321,     0.84477,     0.84688,     0.84872,     0.84988,      0.8504,     0.85131,     0.85188,     0.85286,     0.85438,      0.8549,     0.85628,     0.85714,     0.85761,     0.85827,     0.85859,     0.85993,     0.86127,     0.86261,\n",
       "            0.86438,     0.86508,     0.86575,     0.86635,     0.86721,     0.86792,     0.86902,     0.87029,     0.87195,     0.87233,     0.87255,     0.87267,     0.87323,     0.87449,     0.87458,     0.87492,     0.87524,     0.87621,     0.87723,     0.87825,     0.87874,     0.87932,     0.87971,\n",
       "            0.87988,     0.88053,     0.88069,      0.8811,     0.88147,      0.8819,     0.88264,     0.88284,     0.88438,      0.8852,     0.88641,     0.88699,     0.88722,     0.88759,     0.88859,     0.88927,     0.88991,     0.89083,     0.89105,     0.89115,      0.8913,     0.89184,     0.89198,\n",
       "            0.89211,     0.89288,     0.89408,     0.89483,     0.89495,     0.89512,     0.89628,     0.89714,      0.8978,     0.89827,     0.89824,     0.89883,     0.89916,     0.89943,     0.89953,     0.89964,     0.90025,     0.90082,     0.90108,     0.90138,     0.90177,     0.90231,     0.90252,\n",
       "            0.90264,     0.90282,     0.90302,     0.90366,     0.90399,     0.90423,     0.90437,     0.90481,     0.90497,     0.90527,      0.9055,     0.90569,     0.90585,     0.90597,     0.90607,     0.90617,     0.90614,     0.90662,     0.90728,     0.90754,     0.90784,     0.90795,     0.90806,\n",
       "             0.9088,     0.90917,     0.90974,     0.91098,     0.91111,     0.91182,     0.91258,     0.91325,     0.91357,     0.91421,     0.91453,     0.91465,     0.91478,     0.91565,     0.91576,     0.91586,     0.91592,      0.9168,     0.91679,     0.91678,     0.91676,     0.91673,     0.91694,\n",
       "            0.91696,     0.91694,     0.91693,     0.91698,     0.91717,     0.91809,     0.91853,      0.9194,      0.9201,     0.92109,     0.92134,     0.92161,     0.92184,     0.92193,     0.92215,     0.92313,     0.92341,     0.92355,     0.92378,      0.9243,     0.92445,     0.92465,     0.92515,\n",
       "            0.92577,     0.92597,     0.92621,     0.92643,     0.92664,     0.92696,     0.92717,     0.92753,     0.92774,     0.92825,      0.9288,     0.92909,      0.9292,      0.9293,     0.92941,     0.92951,     0.92962,     0.92965,     0.92964,     0.92964,     0.92963,     0.92966,     0.92976,\n",
       "            0.92987,     0.93008,     0.93037,     0.93054,     0.93092,     0.93113,     0.93164,     0.93194,     0.93235,     0.93266,     0.93276,     0.93287,      0.9336,     0.93381,     0.93416,     0.93457,     0.93517,     0.93538,     0.93559,     0.93587,     0.93666,     0.93673,     0.93688,\n",
       "            0.93713,     0.93734,     0.93744,     0.93753,     0.93757,     0.93781,     0.93795,     0.93805,     0.93815,     0.93845,     0.93861,     0.93874,      0.9388,     0.93877,     0.93895,     0.93918,     0.93936,     0.93961,     0.94002,     0.94036,     0.94055,     0.94094,     0.94099,\n",
       "            0.94104,      0.9411,     0.94115,     0.94121,      0.9417,     0.94196,     0.94277,     0.94276,     0.94302,      0.9434,     0.94359,     0.94375,     0.94387,       0.944,     0.94429,     0.94429,     0.94428,     0.94467,     0.94479,     0.94491,     0.94528,     0.94596,     0.94718,\n",
       "             0.9473,     0.94742,      0.9474,     0.94738,     0.94737,     0.94735,     0.94734,     0.94734,     0.94733,     0.94731,     0.94731,      0.9473,      0.9473,     0.94729,     0.94728,     0.94761,     0.94769,     0.94776,     0.94783,      0.9479,     0.94807,      0.9489,     0.94906,\n",
       "            0.94951,     0.94981,     0.94981,     0.94981,      0.9498,      0.9498,      0.9498,      0.9498,     0.94992,     0.95004,     0.95019,     0.95038,     0.95043,     0.95047,     0.95053,     0.95059,     0.95065,     0.95071,     0.95075,     0.95074,     0.95073,     0.95079,     0.95088,\n",
       "            0.95096,     0.95105,     0.95111,     0.95117,     0.95123,     0.95129,     0.95135,     0.95148,     0.95165,     0.95207,     0.95215,     0.95222,      0.9523,     0.95244,     0.95267,     0.95267,     0.95267,     0.95266,     0.95266,     0.95266,     0.95272,     0.95285,     0.95297,\n",
       "            0.95304,     0.95311,     0.95318,     0.95325,     0.95329,     0.95328,     0.95328,     0.95327,     0.95326,     0.95335,     0.95354,     0.95358,     0.95357,     0.95357,     0.95355,     0.95385,     0.95387,     0.95388,     0.95396,     0.95405,     0.95413,     0.95419,     0.95418,\n",
       "            0.95417,     0.95438,     0.95504,     0.95523,     0.95534,     0.95545,     0.95547,     0.95572,     0.95611,     0.95618,     0.95627,     0.95636,     0.95643,     0.95642,     0.95674,     0.95671,     0.95671,      0.9568,     0.95703,     0.95703,     0.95702,     0.95702,     0.95702,\n",
       "            0.95702,     0.95702,     0.95726,      0.9576,     0.95765,     0.95778,     0.95795,     0.95826,     0.95863,     0.95863,     0.95863,     0.95863,     0.95863,     0.95863,     0.95862,     0.95862,     0.95865,     0.95895,     0.95894,     0.95907,     0.95927,     0.95926,     0.95926,\n",
       "            0.95925,     0.95924,     0.95923,     0.95923,     0.95927,     0.95933,      0.9594,     0.95947,     0.95954,     0.95955,     0.95953,     0.95952,     0.95952,     0.95952,      0.9595,     0.95947,     0.95947,     0.95947,     0.95946,     0.95946,     0.95978,     0.96046,     0.96078,\n",
       "            0.96077,     0.96077,     0.96076,     0.96076,     0.96078,     0.96095,     0.96108,     0.96116,      0.9615,     0.96173,     0.96172,     0.96172,     0.96171,     0.96171,      0.9617,      0.9617,     0.96175,     0.96193,     0.96201,       0.962,       0.962,     0.96198,     0.96197,\n",
       "            0.96196,     0.96195,     0.96218,     0.96251,     0.96259,     0.96258,     0.96258,     0.96258,     0.96257,     0.96257,     0.96257,     0.96256,     0.96271,     0.96288,      0.9632,     0.96337,     0.96352,     0.96351,     0.96349,     0.96347,     0.96347,     0.96346,     0.96348,\n",
       "            0.96365,     0.96411,      0.9641,     0.96409,     0.96408,     0.96408,      0.9642,     0.96455,      0.9649,     0.96517,     0.96535,     0.96561,     0.96616,     0.96628,      0.9664,     0.96642,     0.96664,     0.96698,     0.96733,     0.96756,     0.96773,     0.96777,     0.96774,\n",
       "            0.96774,     0.96773,     0.96773,     0.96806,     0.96804,     0.96819,     0.96844,     0.96855,     0.96867,      0.9688,     0.96898,     0.96915,     0.96933,     0.96939,     0.96961,      0.9697,     0.96968,     0.96967,     0.96965,     0.96964,     0.96963,     0.96963,     0.96962,\n",
       "             0.9696,     0.96958,     0.96955,     0.96987,     0.97021,      0.9702,     0.97053,     0.97052,     0.97072,     0.97142,     0.97152,     0.97151,      0.9715,     0.97175,     0.97218,     0.97225,     0.97234,     0.97243,     0.97252,      0.9725,     0.97248,     0.97246,     0.97246,\n",
       "            0.97244,     0.97242,     0.97242,      0.9724,     0.97249,     0.97267,     0.97274,     0.97271,     0.97305,     0.97314,     0.97329,     0.97337,     0.97334,     0.97331,     0.97328,     0.97327,     0.97326,     0.97325,      0.9735,     0.97366,     0.97378,     0.97391,     0.97389,\n",
       "            0.97388,     0.97387,     0.97385,     0.97386,      0.9741,     0.97419,     0.97418,     0.97417,     0.97415,     0.97414,     0.97448,     0.97447,     0.97482,     0.97495,     0.97531,     0.97551,      0.9755,     0.97549,     0.97585,     0.97618,     0.97616,     0.97615,     0.97614,\n",
       "            0.97612,     0.97611,      0.9761,     0.97606,     0.97605,     0.97638,     0.97636,      0.9764,     0.97658,      0.9767,     0.97668,     0.97667,     0.97703,     0.97702,     0.97698,     0.97694,     0.97692,     0.97691,      0.9769,      0.9769,     0.97689,     0.97687,     0.97685,\n",
       "            0.97721,     0.97747,     0.97755,     0.97753,     0.97789,     0.97788,     0.97787,     0.97785,     0.97782,     0.97781,     0.97779,     0.97778,     0.97777,     0.97773,     0.97772,     0.97787,     0.97802,     0.97808,     0.97807,     0.97805,     0.97801,       0.978,     0.97798,\n",
       "            0.97795,     0.97793,     0.97789,     0.97786,     0.97784,      0.9778,     0.97777,     0.97774,      0.9777,     0.97858,     0.97879,     0.97914,     0.97914,     0.97912,     0.97935,     0.97946,     0.97946,     0.97945,     0.97941,     0.97938,      0.9797,     0.97966,     0.97963,\n",
       "             0.9796,     0.97958,     0.97995,      0.9799,     0.97987,     0.97984,     0.98019,     0.98017,     0.98013,     0.98051,      0.9805,     0.98085,     0.98119,     0.98117,     0.98114,     0.98146,     0.98154,     0.98184,     0.98183,     0.98179,     0.98175,     0.98172,     0.98171,\n",
       "            0.98167,     0.98164,     0.98161,     0.98159,     0.98152,     0.98189,     0.98187,     0.98186,     0.98181,     0.98179,     0.98176,     0.98172,     0.98169,     0.98198,     0.98206,     0.98202,     0.98198,     0.98236,     0.98233,     0.98231,     0.98225,     0.98221,     0.98234,\n",
       "            0.98299,     0.98338,     0.98335,      0.9833,     0.98329,     0.98366,     0.98362,     0.98361,      0.9835,     0.98367,     0.98433,      0.9843,     0.98461,     0.98464,     0.98461,     0.98498,     0.98537,     0.98533,     0.98525,     0.98521,     0.98505,     0.98544,     0.98539,\n",
       "            0.98626,     0.98621,     0.98615,     0.98611,     0.98607,     0.98601,     0.98598,     0.98596,     0.98587,     0.98579,     0.98567,     0.98562,     0.98554,     0.98549,     0.98535,     0.98525,     0.98568,      0.9856,     0.98548,     0.98535,     0.98527,     0.98518,     0.98515,\n",
       "            0.98505,      0.9849,     0.98484,     0.98474,     0.98467,     0.98454,     0.98441,     0.98433,     0.98426,     0.98532,     0.98524,     0.98514,     0.98498,     0.98494,     0.98536,     0.98577,     0.98574,     0.98621,     0.98668,     0.98661,     0.98712,     0.98722,     0.98748,\n",
       "            0.98743,     0.98793,      0.9885,     0.98835,     0.98831,     0.98811,     0.98801,     0.98783,     0.98839,     0.98821,     0.98815,     0.98807,     0.98789,     0.98779,     0.98836,     0.98824,     0.98809,     0.98794,     0.98784,     0.98769,     0.98909,     0.98898,      0.9888,\n",
       "            0.98863,     0.98872,     0.98925,     0.98913,       0.989,     0.98885,     0.98869,     0.98857,     0.98843,     0.98906,     0.98892,     0.98877,     0.98862,     0.98853,     0.98825,     0.98814,       0.988,     0.98876,     0.98959,     0.98942,     0.98927,     0.98894,     0.98882,\n",
       "            0.98859,     0.98848,     0.98827,     0.98927,     0.99029,     0.99006,      0.9899,     0.98957,     0.98946,     0.98924,     0.99039,     0.99167,      0.9914,     0.99132,     0.99105,     0.99089,     0.99204,     0.99189,      0.9917,     0.99137,     0.99123,     0.99109,     0.99071,\n",
       "            0.99044,     0.99027,     0.98967,     0.99134,     0.99107,     0.99302,     0.99292,     0.99271,     0.99261,     0.99242,     0.99228,     0.99201,      0.9945,     0.99424,     0.99404,     0.99376,     0.99355,     0.99329,     0.99316,     0.99254,     0.99616,     0.99989,           1,\n",
       "                  1,           1,           1,           1,           1,           1,           1,           1,           1,           1,           1,           1,           1,           1,           1,           1,           1,           1,           1,           1,           1,           1,           1,\n",
       "                  1,           1,           1,           1,           1,           1,           1,           1,           1,           1,           1,           1,           1,           1,           1,           1,           1,           1,           1,           1,           1,           1,           1,\n",
       "                  1,           1,           1,           1,           1,           1,           1,           1,           1,           1,           1,           1,           1,           1,           1,           1,           1,           1,           1,           1,           1,           1,           1,\n",
       "                  1,           1,           1,           1,           1,           1,           1,           1,           1,           1,           1]]), 'Confidence', 'Precision'], [array([          0,    0.001001,    0.002002,    0.003003,    0.004004,    0.005005,    0.006006,    0.007007,    0.008008,    0.009009,     0.01001,    0.011011,    0.012012,    0.013013,    0.014014,    0.015015,    0.016016,    0.017017,    0.018018,    0.019019,     0.02002,    0.021021,    0.022022,    0.023023,\n",
       "          0.024024,    0.025025,    0.026026,    0.027027,    0.028028,    0.029029,     0.03003,    0.031031,    0.032032,    0.033033,    0.034034,    0.035035,    0.036036,    0.037037,    0.038038,    0.039039,     0.04004,    0.041041,    0.042042,    0.043043,    0.044044,    0.045045,    0.046046,    0.047047,\n",
       "          0.048048,    0.049049,     0.05005,    0.051051,    0.052052,    0.053053,    0.054054,    0.055055,    0.056056,    0.057057,    0.058058,    0.059059,     0.06006,    0.061061,    0.062062,    0.063063,    0.064064,    0.065065,    0.066066,    0.067067,    0.068068,    0.069069,     0.07007,    0.071071,\n",
       "          0.072072,    0.073073,    0.074074,    0.075075,    0.076076,    0.077077,    0.078078,    0.079079,     0.08008,    0.081081,    0.082082,    0.083083,    0.084084,    0.085085,    0.086086,    0.087087,    0.088088,    0.089089,     0.09009,    0.091091,    0.092092,    0.093093,    0.094094,    0.095095,\n",
       "          0.096096,    0.097097,    0.098098,    0.099099,      0.1001,      0.1011,      0.1021,      0.1031,      0.1041,     0.10511,     0.10611,     0.10711,     0.10811,     0.10911,     0.11011,     0.11111,     0.11211,     0.11311,     0.11411,     0.11512,     0.11612,     0.11712,     0.11812,     0.11912,\n",
       "           0.12012,     0.12112,     0.12212,     0.12312,     0.12412,     0.12513,     0.12613,     0.12713,     0.12813,     0.12913,     0.13013,     0.13113,     0.13213,     0.13313,     0.13413,     0.13514,     0.13614,     0.13714,     0.13814,     0.13914,     0.14014,     0.14114,     0.14214,     0.14314,\n",
       "           0.14414,     0.14515,     0.14615,     0.14715,     0.14815,     0.14915,     0.15015,     0.15115,     0.15215,     0.15315,     0.15415,     0.15516,     0.15616,     0.15716,     0.15816,     0.15916,     0.16016,     0.16116,     0.16216,     0.16316,     0.16416,     0.16517,     0.16617,     0.16717,\n",
       "           0.16817,     0.16917,     0.17017,     0.17117,     0.17217,     0.17317,     0.17417,     0.17518,     0.17618,     0.17718,     0.17818,     0.17918,     0.18018,     0.18118,     0.18218,     0.18318,     0.18418,     0.18519,     0.18619,     0.18719,     0.18819,     0.18919,     0.19019,     0.19119,\n",
       "           0.19219,     0.19319,     0.19419,      0.1952,      0.1962,      0.1972,      0.1982,      0.1992,      0.2002,      0.2012,      0.2022,      0.2032,      0.2042,     0.20521,     0.20621,     0.20721,     0.20821,     0.20921,     0.21021,     0.21121,     0.21221,     0.21321,     0.21421,     0.21522,\n",
       "           0.21622,     0.21722,     0.21822,     0.21922,     0.22022,     0.22122,     0.22222,     0.22322,     0.22422,     0.22523,     0.22623,     0.22723,     0.22823,     0.22923,     0.23023,     0.23123,     0.23223,     0.23323,     0.23423,     0.23524,     0.23624,     0.23724,     0.23824,     0.23924,\n",
       "           0.24024,     0.24124,     0.24224,     0.24324,     0.24424,     0.24525,     0.24625,     0.24725,     0.24825,     0.24925,     0.25025,     0.25125,     0.25225,     0.25325,     0.25425,     0.25526,     0.25626,     0.25726,     0.25826,     0.25926,     0.26026,     0.26126,     0.26226,     0.26326,\n",
       "           0.26426,     0.26527,     0.26627,     0.26727,     0.26827,     0.26927,     0.27027,     0.27127,     0.27227,     0.27327,     0.27427,     0.27528,     0.27628,     0.27728,     0.27828,     0.27928,     0.28028,     0.28128,     0.28228,     0.28328,     0.28428,     0.28529,     0.28629,     0.28729,\n",
       "           0.28829,     0.28929,     0.29029,     0.29129,     0.29229,     0.29329,     0.29429,      0.2953,      0.2963,      0.2973,      0.2983,      0.2993,      0.3003,      0.3013,      0.3023,      0.3033,      0.3043,     0.30531,     0.30631,     0.30731,     0.30831,     0.30931,     0.31031,     0.31131,\n",
       "           0.31231,     0.31331,     0.31431,     0.31532,     0.31632,     0.31732,     0.31832,     0.31932,     0.32032,     0.32132,     0.32232,     0.32332,     0.32432,     0.32533,     0.32633,     0.32733,     0.32833,     0.32933,     0.33033,     0.33133,     0.33233,     0.33333,     0.33433,     0.33534,\n",
       "           0.33634,     0.33734,     0.33834,     0.33934,     0.34034,     0.34134,     0.34234,     0.34334,     0.34434,     0.34535,     0.34635,     0.34735,     0.34835,     0.34935,     0.35035,     0.35135,     0.35235,     0.35335,     0.35435,     0.35536,     0.35636,     0.35736,     0.35836,     0.35936,\n",
       "           0.36036,     0.36136,     0.36236,     0.36336,     0.36436,     0.36537,     0.36637,     0.36737,     0.36837,     0.36937,     0.37037,     0.37137,     0.37237,     0.37337,     0.37437,     0.37538,     0.37638,     0.37738,     0.37838,     0.37938,     0.38038,     0.38138,     0.38238,     0.38338,\n",
       "           0.38438,     0.38539,     0.38639,     0.38739,     0.38839,     0.38939,     0.39039,     0.39139,     0.39239,     0.39339,     0.39439,      0.3954,      0.3964,      0.3974,      0.3984,      0.3994,      0.4004,      0.4014,      0.4024,      0.4034,      0.4044,     0.40541,     0.40641,     0.40741,\n",
       "           0.40841,     0.40941,     0.41041,     0.41141,     0.41241,     0.41341,     0.41441,     0.41542,     0.41642,     0.41742,     0.41842,     0.41942,     0.42042,     0.42142,     0.42242,     0.42342,     0.42442,     0.42543,     0.42643,     0.42743,     0.42843,     0.42943,     0.43043,     0.43143,\n",
       "           0.43243,     0.43343,     0.43443,     0.43544,     0.43644,     0.43744,     0.43844,     0.43944,     0.44044,     0.44144,     0.44244,     0.44344,     0.44444,     0.44545,     0.44645,     0.44745,     0.44845,     0.44945,     0.45045,     0.45145,     0.45245,     0.45345,     0.45445,     0.45546,\n",
       "           0.45646,     0.45746,     0.45846,     0.45946,     0.46046,     0.46146,     0.46246,     0.46346,     0.46446,     0.46547,     0.46647,     0.46747,     0.46847,     0.46947,     0.47047,     0.47147,     0.47247,     0.47347,     0.47447,     0.47548,     0.47648,     0.47748,     0.47848,     0.47948,\n",
       "           0.48048,     0.48148,     0.48248,     0.48348,     0.48448,     0.48549,     0.48649,     0.48749,     0.48849,     0.48949,     0.49049,     0.49149,     0.49249,     0.49349,     0.49449,      0.4955,      0.4965,      0.4975,      0.4985,      0.4995,      0.5005,      0.5015,      0.5025,      0.5035,\n",
       "            0.5045,     0.50551,     0.50651,     0.50751,     0.50851,     0.50951,     0.51051,     0.51151,     0.51251,     0.51351,     0.51451,     0.51552,     0.51652,     0.51752,     0.51852,     0.51952,     0.52052,     0.52152,     0.52252,     0.52352,     0.52452,     0.52553,     0.52653,     0.52753,\n",
       "           0.52853,     0.52953,     0.53053,     0.53153,     0.53253,     0.53353,     0.53453,     0.53554,     0.53654,     0.53754,     0.53854,     0.53954,     0.54054,     0.54154,     0.54254,     0.54354,     0.54454,     0.54555,     0.54655,     0.54755,     0.54855,     0.54955,     0.55055,     0.55155,\n",
       "           0.55255,     0.55355,     0.55455,     0.55556,     0.55656,     0.55756,     0.55856,     0.55956,     0.56056,     0.56156,     0.56256,     0.56356,     0.56456,     0.56557,     0.56657,     0.56757,     0.56857,     0.56957,     0.57057,     0.57157,     0.57257,     0.57357,     0.57457,     0.57558,\n",
       "           0.57658,     0.57758,     0.57858,     0.57958,     0.58058,     0.58158,     0.58258,     0.58358,     0.58458,     0.58559,     0.58659,     0.58759,     0.58859,     0.58959,     0.59059,     0.59159,     0.59259,     0.59359,     0.59459,      0.5956,      0.5966,      0.5976,      0.5986,      0.5996,\n",
       "            0.6006,      0.6016,      0.6026,      0.6036,      0.6046,     0.60561,     0.60661,     0.60761,     0.60861,     0.60961,     0.61061,     0.61161,     0.61261,     0.61361,     0.61461,     0.61562,     0.61662,     0.61762,     0.61862,     0.61962,     0.62062,     0.62162,     0.62262,     0.62362,\n",
       "           0.62462,     0.62563,     0.62663,     0.62763,     0.62863,     0.62963,     0.63063,     0.63163,     0.63263,     0.63363,     0.63463,     0.63564,     0.63664,     0.63764,     0.63864,     0.63964,     0.64064,     0.64164,     0.64264,     0.64364,     0.64464,     0.64565,     0.64665,     0.64765,\n",
       "           0.64865,     0.64965,     0.65065,     0.65165,     0.65265,     0.65365,     0.65465,     0.65566,     0.65666,     0.65766,     0.65866,     0.65966,     0.66066,     0.66166,     0.66266,     0.66366,     0.66466,     0.66567,     0.66667,     0.66767,     0.66867,     0.66967,     0.67067,     0.67167,\n",
       "           0.67267,     0.67367,     0.67467,     0.67568,     0.67668,     0.67768,     0.67868,     0.67968,     0.68068,     0.68168,     0.68268,     0.68368,     0.68468,     0.68569,     0.68669,     0.68769,     0.68869,     0.68969,     0.69069,     0.69169,     0.69269,     0.69369,     0.69469,      0.6957,\n",
       "            0.6967,      0.6977,      0.6987,      0.6997,      0.7007,      0.7017,      0.7027,      0.7037,      0.7047,     0.70571,     0.70671,     0.70771,     0.70871,     0.70971,     0.71071,     0.71171,     0.71271,     0.71371,     0.71471,     0.71572,     0.71672,     0.71772,     0.71872,     0.71972,\n",
       "           0.72072,     0.72172,     0.72272,     0.72372,     0.72472,     0.72573,     0.72673,     0.72773,     0.72873,     0.72973,     0.73073,     0.73173,     0.73273,     0.73373,     0.73473,     0.73574,     0.73674,     0.73774,     0.73874,     0.73974,     0.74074,     0.74174,     0.74274,     0.74374,\n",
       "           0.74474,     0.74575,     0.74675,     0.74775,     0.74875,     0.74975,     0.75075,     0.75175,     0.75275,     0.75375,     0.75475,     0.75576,     0.75676,     0.75776,     0.75876,     0.75976,     0.76076,     0.76176,     0.76276,     0.76376,     0.76476,     0.76577,     0.76677,     0.76777,\n",
       "           0.76877,     0.76977,     0.77077,     0.77177,     0.77277,     0.77377,     0.77477,     0.77578,     0.77678,     0.77778,     0.77878,     0.77978,     0.78078,     0.78178,     0.78278,     0.78378,     0.78478,     0.78579,     0.78679,     0.78779,     0.78879,     0.78979,     0.79079,     0.79179,\n",
       "           0.79279,     0.79379,     0.79479,      0.7958,      0.7968,      0.7978,      0.7988,      0.7998,      0.8008,      0.8018,      0.8028,      0.8038,      0.8048,     0.80581,     0.80681,     0.80781,     0.80881,     0.80981,     0.81081,     0.81181,     0.81281,     0.81381,     0.81481,     0.81582,\n",
       "           0.81682,     0.81782,     0.81882,     0.81982,     0.82082,     0.82182,     0.82282,     0.82382,     0.82482,     0.82583,     0.82683,     0.82783,     0.82883,     0.82983,     0.83083,     0.83183,     0.83283,     0.83383,     0.83483,     0.83584,     0.83684,     0.83784,     0.83884,     0.83984,\n",
       "           0.84084,     0.84184,     0.84284,     0.84384,     0.84484,     0.84585,     0.84685,     0.84785,     0.84885,     0.84985,     0.85085,     0.85185,     0.85285,     0.85385,     0.85485,     0.85586,     0.85686,     0.85786,     0.85886,     0.85986,     0.86086,     0.86186,     0.86286,     0.86386,\n",
       "           0.86486,     0.86587,     0.86687,     0.86787,     0.86887,     0.86987,     0.87087,     0.87187,     0.87287,     0.87387,     0.87487,     0.87588,     0.87688,     0.87788,     0.87888,     0.87988,     0.88088,     0.88188,     0.88288,     0.88388,     0.88488,     0.88589,     0.88689,     0.88789,\n",
       "           0.88889,     0.88989,     0.89089,     0.89189,     0.89289,     0.89389,     0.89489,      0.8959,      0.8969,      0.8979,      0.8989,      0.8999,      0.9009,      0.9019,      0.9029,      0.9039,      0.9049,     0.90591,     0.90691,     0.90791,     0.90891,     0.90991,     0.91091,     0.91191,\n",
       "           0.91291,     0.91391,     0.91491,     0.91592,     0.91692,     0.91792,     0.91892,     0.91992,     0.92092,     0.92192,     0.92292,     0.92392,     0.92492,     0.92593,     0.92693,     0.92793,     0.92893,     0.92993,     0.93093,     0.93193,     0.93293,     0.93393,     0.93493,     0.93594,\n",
       "           0.93694,     0.93794,     0.93894,     0.93994,     0.94094,     0.94194,     0.94294,     0.94394,     0.94494,     0.94595,     0.94695,     0.94795,     0.94895,     0.94995,     0.95095,     0.95195,     0.95295,     0.95395,     0.95495,     0.95596,     0.95696,     0.95796,     0.95896,     0.95996,\n",
       "           0.96096,     0.96196,     0.96296,     0.96396,     0.96496,     0.96597,     0.96697,     0.96797,     0.96897,     0.96997,     0.97097,     0.97197,     0.97297,     0.97397,     0.97497,     0.97598,     0.97698,     0.97798,     0.97898,     0.97998,     0.98098,     0.98198,     0.98298,     0.98398,\n",
       "           0.98498,     0.98599,     0.98699,     0.98799,     0.98899,     0.98999,     0.99099,     0.99199,     0.99299,     0.99399,     0.99499,       0.996,       0.997,       0.998,       0.999,           1]), array([[    0.98613,     0.98613,     0.98376,     0.98275,     0.98173,     0.98106,     0.98004,      0.9797,     0.97936,     0.97869,     0.97835,       0.977,     0.97697,     0.97666,     0.97632,     0.97632,     0.97632,     0.97564,      0.9753,     0.97497,     0.97395,     0.97395,     0.97361,\n",
       "            0.97327,     0.97294,     0.97294,     0.97294,     0.97239,     0.97223,     0.97158,     0.97158,     0.97158,     0.97158,     0.97124,     0.97124,     0.97091,     0.97091,     0.97057,     0.97057,     0.97057,     0.97057,     0.97057,     0.97057,     0.97057,     0.97057,     0.97023,\n",
       "            0.97023,     0.97023,     0.97023,     0.97023,     0.97023,     0.97023,     0.97023,     0.97023,     0.97023,     0.96989,     0.96989,     0.96955,     0.96955,     0.96922,     0.96922,     0.96922,     0.96922,     0.96922,     0.96922,     0.96922,     0.96922,     0.96922,     0.96888,\n",
       "            0.96888,     0.96888,     0.96854,     0.96854,     0.96854,     0.96854,     0.96854,      0.9682,      0.9682,      0.9682,      0.9682,      0.9682,      0.9682,      0.9682,      0.9682,      0.9682,      0.9682,      0.9682,      0.9682,      0.9682,      0.9682,      0.9682,      0.9682,\n",
       "            0.96786,     0.96786,     0.96786,     0.96786,     0.96766,     0.96752,     0.96719,     0.96719,     0.96719,     0.96719,     0.96719,     0.96719,     0.96719,     0.96719,     0.96685,     0.96685,     0.96685,     0.96685,     0.96685,     0.96685,     0.96685,     0.96651,     0.96651,\n",
       "            0.96651,     0.96651,     0.96651,     0.96651,     0.96651,     0.96651,     0.96651,     0.96618,     0.96617,     0.96617,     0.96617,     0.96617,     0.96617,     0.96617,     0.96617,     0.96583,     0.96583,     0.96583,     0.96561,     0.96549,     0.96549,     0.96516,     0.96516,\n",
       "            0.96516,     0.96516,     0.96516,     0.96516,     0.96482,     0.96482,     0.96482,     0.96482,     0.96482,     0.96481,     0.96457,     0.96448,     0.96448,     0.96448,     0.96448,     0.96448,     0.96448,     0.96448,     0.96448,     0.96448,     0.96448,     0.96414,     0.96414,\n",
       "            0.96414,     0.96414,     0.96389,      0.9638,      0.9638,      0.9638,      0.9638,      0.9638,      0.9638,      0.9638,      0.9638,      0.9638,      0.9638,      0.9638,      0.9638,     0.96379,     0.96349,     0.96346,     0.96334,     0.96301,     0.96245,     0.96245,     0.96245,\n",
       "            0.96245,     0.96245,     0.96245,     0.96243,     0.96211,     0.96211,     0.96211,     0.96211,     0.96211,     0.96211,     0.96211,     0.96211,     0.96211,     0.96211,     0.96211,     0.96211,     0.96177,     0.96177,     0.96165,     0.96153,     0.96123,     0.96091,     0.96076,\n",
       "            0.96003,     0.95986,     0.95962,      0.9594,      0.9594,     0.95932,     0.95907,     0.95907,     0.95907,     0.95907,     0.95907,     0.95853,     0.95839,     0.95805,     0.95805,     0.95805,     0.95805,     0.95805,     0.95805,     0.95805,     0.95805,     0.95805,     0.95771,\n",
       "            0.95771,     0.95737,     0.95737,     0.95737,     0.95711,     0.95704,     0.95704,      0.9567,      0.9567,      0.9567,      0.9567,      0.9567,      0.9567,      0.9567,      0.9567,      0.9567,      0.9567,     0.95665,     0.95657,     0.95649,     0.95642,     0.95636,     0.95636,\n",
       "            0.95636,     0.95636,     0.95636,     0.95629,     0.95602,     0.95602,     0.95602,     0.95568,     0.95568,     0.95568,     0.95568,     0.95568,     0.95568,     0.95568,     0.95568,     0.95568,     0.95568,     0.95568,     0.95568,     0.95568,     0.95549,     0.95535,     0.95535,\n",
       "            0.95535,     0.95535,     0.95535,     0.95535,     0.95512,     0.95501,     0.95501,     0.95501,     0.95501,     0.95501,     0.95501,     0.95501,      0.9548,     0.95434,     0.95433,     0.95399,     0.95374,     0.95365,     0.95365,     0.95365,     0.95365,     0.95332,     0.95332,\n",
       "            0.95332,     0.95332,     0.95332,     0.95332,     0.95332,     0.95332,      0.9529,      0.9527,      0.9523,      0.9523,      0.9523,      0.9523,      0.9523,     0.95196,     0.95195,     0.95181,     0.95167,     0.95162,     0.95162,     0.95162,     0.95129,     0.95129,     0.95129,\n",
       "            0.95129,     0.95129,     0.95057,     0.95024,     0.95005,     0.94955,     0.94945,     0.94935,     0.94925,     0.94889,     0.94879,     0.94869,     0.94859,     0.94843,     0.94826,     0.94824,     0.94824,     0.94824,     0.94824,     0.94824,     0.94824,     0.94824,     0.94824,\n",
       "            0.94784,     0.94754,     0.94749,     0.94744,     0.94738,     0.94733,     0.94728,     0.94723,     0.94723,     0.94723,     0.94723,     0.94723,     0.94699,     0.94689,     0.94689,     0.94689,     0.94689,     0.94689,     0.94685,     0.94672,     0.94659,     0.94655,     0.94655,\n",
       "            0.94655,     0.94655,     0.94655,     0.94655,     0.94655,     0.94655,     0.94655,     0.94655,     0.94655,     0.94655,     0.94655,     0.94655,     0.94655,     0.94655,     0.94653,     0.94647,     0.94641,     0.94635,     0.94629,     0.94623,     0.94587,     0.94587,     0.94587,\n",
       "            0.94587,     0.94587,     0.94587,     0.94587,     0.94583,     0.94571,      0.9456,     0.94546,     0.94528,      0.9452,      0.9452,      0.9451,     0.94499,     0.94487,     0.94456,     0.94452,     0.94434,     0.94418,     0.94418,     0.94418,     0.94418,     0.94414,     0.94402,\n",
       "            0.94389,     0.94384,     0.94384,     0.94384,     0.94384,     0.94384,     0.94359,      0.9435,     0.94323,     0.94317,     0.94317,     0.94317,     0.94314,     0.94297,     0.94276,     0.94211,     0.94194,     0.94181,      0.9418,     0.94175,     0.94169,     0.94164,     0.94159,\n",
       "            0.94154,     0.94149,     0.94147,     0.94147,     0.94087,      0.9408,      0.9408,      0.9408,     0.94077,     0.94073,     0.94069,     0.94065,     0.94061,     0.94057,     0.94053,      0.9405,     0.94046,     0.94044,     0.94024,     0.94012,     0.94007,     0.93996,     0.93984,\n",
       "            0.93961,     0.93938,     0.93927,     0.93915,     0.93911,     0.93911,     0.93911,     0.93911,     0.93911,     0.93886,     0.93837,     0.93828,     0.93819,     0.93811,      0.9378,     0.93702,     0.93695,     0.93688,     0.93681,     0.93674,      0.9364,      0.9364,     0.93639,\n",
       "            0.93628,     0.93616,     0.93604,     0.93587,     0.93572,     0.93572,     0.93564,     0.93539,     0.93539,     0.93528,     0.93499,     0.93482,     0.93468,     0.93459,      0.9345,     0.93442,     0.93369,     0.93369,     0.93363,     0.93352,      0.9334,     0.93291,     0.93274,\n",
       "            0.93246,     0.93211,       0.932,     0.93166,     0.93127,     0.93121,     0.93114,     0.93107,       0.931,     0.93089,     0.93077,     0.93066,     0.93031,     0.93031,     0.92963,     0.92963,     0.92928,     0.92893,     0.92858,     0.92793,     0.92781,      0.9277,     0.92727,\n",
       "            0.92727,     0.92684,     0.92654,     0.92637,     0.92619,     0.92602,     0.92591,     0.92591,     0.92591,     0.92591,     0.92591,     0.92591,     0.92558,     0.92558,     0.92558,     0.92503,      0.9249,     0.92456,     0.92456,     0.92456,     0.92456,      0.9243,     0.92362,\n",
       "            0.92345,     0.92334,     0.92322,     0.92291,     0.92232,     0.92219,     0.92219,     0.92219,     0.92219,     0.92152,     0.92152,     0.92152,     0.92152,      0.9213,     0.92118,     0.92027,     0.91958,     0.91924,     0.91868,     0.91851,      0.9182,     0.91799,     0.91782,\n",
       "            0.91716,     0.91647,     0.91545,     0.91509,     0.91458,     0.91407,     0.91371,     0.91321,     0.91306,     0.91272,     0.91183,     0.91148,     0.91113,     0.91103,     0.91044,     0.91035,     0.91035,     0.91035,     0.91035,     0.90938,      0.9087,     0.90786,     0.90772,\n",
       "            0.90715,     0.90655,     0.90637,     0.90577,     0.90562,     0.90562,     0.90541,     0.90438,     0.90404,     0.90359,     0.90359,     0.90283,     0.90147,     0.90044,     0.89942,     0.89907,     0.89873,     0.89838,     0.89682,     0.89648,     0.89648,     0.89648,      0.8958,\n",
       "            0.89545,     0.89511,     0.89442,     0.89378,     0.89378,     0.89366,     0.89349,     0.89319,     0.89251,     0.89216,     0.89148,     0.89096,     0.89062,     0.89039,     0.89005,     0.88924,     0.88894,     0.88871,      0.8887,     0.88734,     0.88666,     0.88597,     0.88559,\n",
       "            0.88511,     0.88453,     0.88436,     0.88272,     0.88237,     0.88118,     0.88015,     0.87957,     0.87957,     0.87934,      0.8786,     0.87791,     0.87757,     0.87722,     0.87569,     0.87433,     0.87364,     0.87296,     0.87272,     0.87259,     0.87242,      0.8714,     0.87066,\n",
       "             0.8702,     0.87009,     0.86917,     0.86831,     0.86768,      0.8675,     0.86716,     0.86608,      0.8649,     0.86476,     0.86386,     0.86325,     0.86308,     0.86163,     0.86062,     0.86062,     0.86062,     0.86041,     0.86007,     0.85938,     0.85755,     0.85737,      0.8564,\n",
       "            0.85529,     0.85427,      0.8529,     0.85171,     0.85069,     0.84919,     0.84813,     0.84711,     0.84558,     0.84506,     0.84303,     0.84167,     0.84144,      0.8408,     0.84032,     0.83888,     0.83875,      0.8385,      0.8367,     0.83534,     0.83279,     0.83109,     0.82962,\n",
       "            0.82854,     0.82785,     0.82666,     0.82482,     0.82343,     0.82207,      0.8202,     0.81951,     0.81764,     0.81694,     0.81644,     0.81441,     0.81186,     0.81078,     0.80964,     0.80574,     0.80514,     0.80474,     0.80451,     0.80233,     0.80085,     0.79944,     0.79909,\n",
       "            0.79722,     0.79605,     0.79467,     0.79381,     0.79059,     0.78854,      0.7877,     0.78735,     0.78514,     0.78407,     0.78293,      0.7814,     0.77996,     0.77909,     0.77765,     0.77585,     0.77442,     0.77255,     0.77106,     0.77033,     0.76765,     0.76592,     0.76252,\n",
       "            0.76252,     0.76081,     0.75929,     0.75708,     0.75636,     0.75368,     0.75159,     0.75113,     0.74587,     0.74493,     0.74383,     0.74238,     0.74019,     0.73738,      0.7359,     0.73195,      0.7291,     0.72702,     0.72297,     0.72092,     0.71313,     0.70973,     0.70753,\n",
       "            0.70394,     0.70176,      0.6985,     0.69633,      0.6944,     0.69158,     0.68997,     0.68885,     0.68453,     0.68072,     0.67468,     0.67258,     0.66856,     0.66648,     0.66007,     0.65513,     0.65191,     0.64834,     0.64309,     0.63699,     0.63358,      0.6295,     0.62834,\n",
       "            0.62406,     0.61801,     0.61523,     0.61115,     0.60834,     0.60334,     0.59801,     0.59518,     0.59246,      0.5902,     0.58701,     0.58294,     0.57698,     0.57512,     0.56935,     0.56258,      0.5612,     0.55645,     0.55136,      0.5485,     0.54456,     0.53992,     0.53376,\n",
       "            0.53165,     0.52622,      0.5235,     0.51638,     0.51461,     0.50619,     0.50178,     0.49432,     0.48957,     0.48192,     0.47938,     0.47632,      0.4692,     0.46512,     0.45969,     0.45494,     0.44917,     0.44346,     0.43967,     0.43424,     0.42948,     0.42507,     0.41795,\n",
       "            0.41184,     0.40562,      0.4047,     0.40029,     0.39554,     0.39011,     0.38434,     0.38026,     0.37585,     0.36704,     0.36228,     0.35753,     0.35281,     0.34971,     0.34158,     0.33818,      0.3341,     0.32723,     0.32155,     0.31646,     0.31198,     0.30256,     0.29916,\n",
       "            0.29305,     0.29033,      0.2849,     0.28082,     0.27607,     0.26962,     0.26521,     0.25673,     0.25401,     0.24892,     0.24417,     0.24178,     0.23398,     0.23194,     0.22482,     0.22074,     0.21091,     0.20684,     0.20208,     0.19428,     0.19122,     0.18816,     0.18036,\n",
       "            0.17527,     0.17221,     0.16204,     0.15492,     0.15017,     0.14443,     0.14236,     0.13828,     0.13623,     0.13283,     0.13045,     0.12603,      0.1223,     0.11687,     0.11279,      0.1077,      0.1043,     0.10022,    0.098175,    0.090039,    0.087654,    0.084235,    0.080854,\n",
       "           0.074748,    0.071686,    0.069301,    0.065901,    0.062501,    0.060793,    0.057393,    0.055346,    0.053638,    0.052521,    0.049883,    0.047836,    0.044774,    0.041713,    0.038651,    0.035928,    0.033543,    0.031835,    0.031141,    0.028756,    0.027048,    0.025017,    0.023631,\n",
       "           0.021618,    0.020891,    0.018844,    0.015782,    0.014412,    0.013964,    0.013279,    0.011579,   0.0096084,   0.0085766,   0.0065299,   0.0054981,   0.0049395,   0.0035778,   0.0030792,   0.0020474,   0.0018045,   0.0015142,   0.0010094,  0.00089377,  0.00077818,   0.0006346,           0,\n",
       "                  0,           0,           0,           0,           0,           0,           0,           0,           0,           0,           0,           0,           0,           0,           0,           0,           0,           0,           0,           0,           0,           0,           0,\n",
       "                  0,           0,           0,           0,           0,           0,           0,           0,           0,           0,           0]]), 'Confidence', 'Recall']]\n",
       "fitness: np.float64(0.7576487189839141)\n",
       "keys: ['metrics/precision(B)', 'metrics/recall(B)', 'metrics/mAP50(B)', 'metrics/mAP50-95(B)']\n",
       "maps: array([    0.73428])\n",
       "names: {0: 'cortante'}\n",
       "plot: True\n",
       "results_dict: {'metrics/precision(B)': np.float64(0.955467852758924), 'metrics/recall(B)': np.float64(0.9435857542251318), 'metrics/mAP50(B)': np.float64(0.9679510609924286), 'metrics/mAP50-95(B)': np.float64(0.7342817920940792), 'fitness': np.float64(0.7576487189839141)}\n",
       "save_dir: PosixPath('/home/gerdson/projetos/FIAP-Hackathon-Grupo2/runs/detect/train')\n",
       "speed: {'preprocess': 0.06708353587038698, 'inference': 1.6802249175244084, 'loss': 0.00010021415246913211, 'postprocess': 0.5304253096793689}\n",
       "task: 'detect'"
      ]
     },
     "execution_count": 8,
     "metadata": {},
     "output_type": "execute_result"
    }
   ],
   "source": [
    "config = './config.yaml'\n",
    "model.train(data=config,\n",
    "            epochs=30,\n",
    "            patience=8,\n",
    "            batch=32,  # number of images per batch (-1 for AutoBatch)\n",
    "            optimizer=\"AdamW\",\n",
    "            lr0=0.001,\n",
    "            imgsz=640,\n",
    "            workers=8,\n",
    "            pretrained=True,\n",
    "            resume=False,  # resume training from last checkpoint\n",
    "            single_cls=False,  # Whether all classes will be the same (just one class)\n",
    "            # project='runs/detect',  # Default = /home/{user}/Documents/ultralytics/runs\n",
    "            box=7.5,  # More recall, better IoU, less precission, \n",
    "            cls=0.5,  # Bbox class better\n",
    "            dfl=1.5,  # Distribution Focal Loss. Better bbox boundaries\n",
    "            val=True,\n",
    "            # Augmentations\n",
    "            degrees=0.3,\n",
    "            hsv_s=0.3,\n",
    "            hsv_v=0.3,\n",
    "            scale=0.5,\n",
    "            fliplr=0.5\n",
    "            )"
   ]
  },
  {
   "cell_type": "markdown",
   "metadata": {},
   "source": [
    "# Inferência"
   ]
  },
  {
   "cell_type": "code",
   "execution_count": 9,
   "metadata": {},
   "outputs": [],
   "source": [
    "model = YOLO('runs/detect/train/weights/best.pt')"
   ]
  },
  {
   "cell_type": "markdown",
   "metadata": {},
   "source": [
    "## Imagem"
   ]
  },
  {
   "cell_type": "code",
   "execution_count": 10,
   "metadata": {},
   "outputs": [
    {
     "name": "stdout",
     "output_type": "stream",
     "text": [
      "\n",
      "image 1/1 /home/gerdson/projetos/FIAP-Hackathon-Grupo2/assets/faca.png: 640x640 2 cortantes, 7.4ms\n",
      "Speed: 1.7ms preprocess, 7.4ms inference, 1.4ms postprocess per image at shape (1, 3, 640, 640)\n",
      "Results saved to \u001b[1m/home/gerdson/projetos/FIAP-Hackathon-Grupo2/runs/detect/predict\u001b[0m\n",
      "1 label saved to /home/gerdson/projetos/FIAP-Hackathon-Grupo2/runs/detect/predict/labels\n"
     ]
    }
   ],
   "source": [
    "results_img = model.predict(source='assets/faca.png',  # image or video; single value or a list; URL, PIL (RGB), CV2 (BGR), ...\n",
    "                        conf=0.25,\n",
    "                        iou=0.7,  # Non-Maximum Supression (NMS)\n",
    "                        imgsz=640,\n",
    "                        show=False,\n",
    "                        save=True,\n",
    "                        save_txt=True,  # Save bbox coordenation\n",
    "                        save_conf=True,  # save_txt must be True\n",
    "                        save_crop=True,\n",
    "                        # project='runs/detect',\n",
    "                        stream=False  # Do inference now (False) or after (True)\n",
    "                        )"
   ]
  },
  {
   "cell_type": "code",
   "execution_count": 11,
   "metadata": {},
   "outputs": [
    {
     "data": {
      "text/plain": [
       "[ultralytics.engine.results.Results object with attributes:\n",
       " \n",
       " boxes: ultralytics.engine.results.Boxes object\n",
       " keypoints: None\n",
       " masks: None\n",
       " names: {0: 'cortante'}\n",
       " obb: None\n",
       " orig_img: array([[[216, 196, 192],\n",
       "         [216, 196, 192],\n",
       "         [216, 196, 192],\n",
       "         ...,\n",
       "         [194, 171, 166],\n",
       "         [194, 171, 166],\n",
       "         [194, 171, 166]],\n",
       " \n",
       "        [[216, 196, 192],\n",
       "         [216, 196, 192],\n",
       "         [216, 196, 192],\n",
       "         ...,\n",
       "         [194, 171, 166],\n",
       "         [194, 171, 166],\n",
       "         [194, 171, 166]],\n",
       " \n",
       "        [[216, 196, 192],\n",
       "         [216, 196, 192],\n",
       "         [216, 196, 192],\n",
       "         ...,\n",
       "         [194, 171, 166],\n",
       "         [194, 171, 166],\n",
       "         [194, 171, 166]],\n",
       " \n",
       "        ...,\n",
       " \n",
       "        [[221, 200, 198],\n",
       "         [221, 200, 198],\n",
       "         [221, 200, 198],\n",
       "         ...,\n",
       "         [197, 178, 171],\n",
       "         [197, 178, 171],\n",
       "         [197, 178, 171]],\n",
       " \n",
       "        [[221, 201, 196],\n",
       "         [221, 201, 196],\n",
       "         [221, 201, 196],\n",
       "         ...,\n",
       "         [197, 178, 171],\n",
       "         [197, 178, 171],\n",
       "         [197, 178, 171]],\n",
       " \n",
       "        [[221, 201, 196],\n",
       "         [221, 201, 196],\n",
       "         [221, 201, 196],\n",
       "         ...,\n",
       "         [197, 178, 171],\n",
       "         [197, 178, 171],\n",
       "         [197, 178, 171]]], dtype=uint8)\n",
       " orig_shape: (1000, 1000)\n",
       " path: '/home/gerdson/projetos/FIAP-Hackathon-Grupo2/assets/faca.png'\n",
       " probs: None\n",
       " save_dir: '/home/gerdson/projetos/FIAP-Hackathon-Grupo2/runs/detect/predict'\n",
       " speed: {'preprocess': 1.7266273498535156, 'inference': 7.408618927001953, 'postprocess': 1.416921615600586}]"
      ]
     },
     "execution_count": 11,
     "metadata": {},
     "output_type": "execute_result"
    }
   ],
   "source": [
    "results_img"
   ]
  },
  {
   "cell_type": "code",
   "execution_count": 12,
   "metadata": {},
   "outputs": [
    {
     "data": {
      "text/plain": [
       "ultralytics.engine.results.Boxes object with attributes:\n",
       "\n",
       "cls: tensor([0., 0.], device='cuda:0')\n",
       "conf: tensor([0.8821, 0.6556], device='cuda:0')\n",
       "data: tensor([[1.5771e+02, 3.7715e+02, 8.7924e+02, 8.5245e+02, 8.8213e-01, 0.0000e+00],\n",
       "        [1.5715e+02, 3.7932e+02, 6.4533e+02, 7.2979e+02, 6.5564e-01, 0.0000e+00]], device='cuda:0')\n",
       "id: None\n",
       "is_track: False\n",
       "orig_shape: (1000, 1000)\n",
       "shape: torch.Size([2, 6])\n",
       "xywh: tensor([[518.4789, 614.8033, 721.5303, 475.3033],\n",
       "        [401.2429, 554.5574, 488.1837, 350.4742]], device='cuda:0')\n",
       "xywhn: tensor([[0.5185, 0.6148, 0.7215, 0.4753],\n",
       "        [0.4012, 0.5546, 0.4882, 0.3505]], device='cuda:0')\n",
       "xyxy: tensor([[157.7137, 377.1517, 879.2440, 852.4550],\n",
       "        [157.1511, 379.3203, 645.3348, 729.7945]], device='cuda:0')\n",
       "xyxyn: tensor([[0.1577, 0.3772, 0.8792, 0.8525],\n",
       "        [0.1572, 0.3793, 0.6453, 0.7298]], device='cuda:0')"
      ]
     },
     "execution_count": 12,
     "metadata": {},
     "output_type": "execute_result"
    }
   ],
   "source": [
    "results_img[0].boxes"
   ]
  },
  {
   "cell_type": "markdown",
   "metadata": {},
   "source": [
    "## Vídeo"
   ]
  },
  {
   "cell_type": "markdown",
   "metadata": {},
   "source": [
    "- \"stream=False\": realiza inferência no vídeo completo e armazena todos os resultados em uma lista. Quanto maior o vídeo, maior o consumo de memória RAM para armazenar todos os resultados\n",
    "- \"stream=True\": cria um \"generator\". O que permite executar frame por frame em um loop, podendo inclusive fazer outras operações em tempo real, sem precisar aguardar que todo o vídeo seja processado. Assim como reduzir a utilização de memória RAM, já que os resultados do frame anterior podem ser eliminados."
   ]
  },
  {
   "cell_type": "code",
   "execution_count": 13,
   "metadata": {},
   "outputs": [],
   "source": [
    "# CAUTION: High memory consumption if \"stream=False\"\n",
    "results_video = model.predict(source='assets/video2.mp4',  # image or video; single value or a list; URL, PIL (RGB), CV2 (BGR), ...\n",
    "                        conf=0.25,\n",
    "                        iou=0.7,\n",
    "                        imgsz=640,\n",
    "                        show=False,\n",
    "                        save=True,\n",
    "                        save_txt=False,  # Save bbox coordination\n",
    "                        save_conf=False,  # save_txt must be True\n",
    "                        save_crop=False,\n",
    "                        # project='runs/detect',\n",
    "                        stream=True  # Do inference now (False) or after (True)\n",
    "                        )"
   ]
  },
  {
   "cell_type": "code",
   "execution_count": 14,
   "metadata": {},
   "outputs": [
    {
     "data": {
      "text/plain": [
       "<generator object BasePredictor.stream_inference at 0x77fe66b63d00>"
      ]
     },
     "execution_count": 14,
     "metadata": {},
     "output_type": "execute_result"
    }
   ],
   "source": [
    "results_video"
   ]
  },
  {
   "cell_type": "code",
   "execution_count": 15,
   "metadata": {},
   "outputs": [
    {
     "name": "stdout",
     "output_type": "stream",
     "text": [
      "\n",
      "video 1/1 (frame 1/39) /home/gerdson/projetos/FIAP-Hackathon-Grupo2/assets/video2.mp4: 384x640 1 cortante, 47.0ms\n",
      "video 1/1 (frame 2/39) /home/gerdson/projetos/FIAP-Hackathon-Grupo2/assets/video2.mp4: 384x640 1 cortante, 6.7ms\n",
      "video 1/1 (frame 3/39) /home/gerdson/projetos/FIAP-Hackathon-Grupo2/assets/video2.mp4: 384x640 1 cortante, 6.8ms\n",
      "video 1/1 (frame 4/39) /home/gerdson/projetos/FIAP-Hackathon-Grupo2/assets/video2.mp4: 384x640 (no detections), 6.7ms\n",
      "video 1/1 (frame 5/39) /home/gerdson/projetos/FIAP-Hackathon-Grupo2/assets/video2.mp4: 384x640 (no detections), 6.5ms\n",
      "video 1/1 (frame 6/39) /home/gerdson/projetos/FIAP-Hackathon-Grupo2/assets/video2.mp4: 384x640 (no detections), 6.4ms\n",
      "video 1/1 (frame 7/39) /home/gerdson/projetos/FIAP-Hackathon-Grupo2/assets/video2.mp4: 384x640 (no detections), 6.4ms\n",
      "video 1/1 (frame 8/39) /home/gerdson/projetos/FIAP-Hackathon-Grupo2/assets/video2.mp4: 384x640 (no detections), 6.4ms\n",
      "video 1/1 (frame 9/39) /home/gerdson/projetos/FIAP-Hackathon-Grupo2/assets/video2.mp4: 384x640 (no detections), 6.4ms\n",
      "video 1/1 (frame 10/39) /home/gerdson/projetos/FIAP-Hackathon-Grupo2/assets/video2.mp4: 384x640 (no detections), 7.2ms\n",
      "video 1/1 (frame 11/39) /home/gerdson/projetos/FIAP-Hackathon-Grupo2/assets/video2.mp4: 384x640 1 cortante, 9.1ms\n",
      "video 1/1 (frame 12/39) /home/gerdson/projetos/FIAP-Hackathon-Grupo2/assets/video2.mp4: 384x640 (no detections), 7.7ms\n",
      "video 1/1 (frame 13/39) /home/gerdson/projetos/FIAP-Hackathon-Grupo2/assets/video2.mp4: 384x640 (no detections), 6.5ms\n",
      "video 1/1 (frame 14/39) /home/gerdson/projetos/FIAP-Hackathon-Grupo2/assets/video2.mp4: 384x640 (no detections), 6.4ms\n",
      "video 1/1 (frame 15/39) /home/gerdson/projetos/FIAP-Hackathon-Grupo2/assets/video2.mp4: 384x640 (no detections), 6.3ms\n",
      "video 1/1 (frame 16/39) /home/gerdson/projetos/FIAP-Hackathon-Grupo2/assets/video2.mp4: 384x640 (no detections), 6.3ms\n",
      "video 1/1 (frame 17/39) /home/gerdson/projetos/FIAP-Hackathon-Grupo2/assets/video2.mp4: 384x640 (no detections), 6.3ms\n",
      "video 1/1 (frame 18/39) /home/gerdson/projetos/FIAP-Hackathon-Grupo2/assets/video2.mp4: 384x640 (no detections), 6.3ms\n",
      "video 1/1 (frame 19/39) /home/gerdson/projetos/FIAP-Hackathon-Grupo2/assets/video2.mp4: 384x640 (no detections), 6.3ms\n",
      "video 1/1 (frame 20/39) /home/gerdson/projetos/FIAP-Hackathon-Grupo2/assets/video2.mp4: 384x640 (no detections), 6.3ms\n",
      "video 1/1 (frame 21/39) /home/gerdson/projetos/FIAP-Hackathon-Grupo2/assets/video2.mp4: 384x640 (no detections), 6.3ms\n",
      "video 1/1 (frame 22/39) /home/gerdson/projetos/FIAP-Hackathon-Grupo2/assets/video2.mp4: 384x640 (no detections), 6.3ms\n",
      "video 1/1 (frame 23/39) /home/gerdson/projetos/FIAP-Hackathon-Grupo2/assets/video2.mp4: 384x640 (no detections), 6.3ms\n",
      "video 1/1 (frame 24/39) /home/gerdson/projetos/FIAP-Hackathon-Grupo2/assets/video2.mp4: 384x640 (no detections), 6.7ms\n",
      "video 1/1 (frame 25/39) /home/gerdson/projetos/FIAP-Hackathon-Grupo2/assets/video2.mp4: 384x640 (no detections), 6.3ms\n",
      "video 1/1 (frame 26/39) /home/gerdson/projetos/FIAP-Hackathon-Grupo2/assets/video2.mp4: 384x640 (no detections), 6.7ms\n",
      "video 1/1 (frame 27/39) /home/gerdson/projetos/FIAP-Hackathon-Grupo2/assets/video2.mp4: 384x640 (no detections), 6.5ms\n",
      "video 1/1 (frame 28/39) /home/gerdson/projetos/FIAP-Hackathon-Grupo2/assets/video2.mp4: 384x640 (no detections), 6.9ms\n",
      "video 1/1 (frame 29/39) /home/gerdson/projetos/FIAP-Hackathon-Grupo2/assets/video2.mp4: 384x640 (no detections), 6.9ms\n",
      "video 1/1 (frame 30/39) /home/gerdson/projetos/FIAP-Hackathon-Grupo2/assets/video2.mp4: 384x640 (no detections), 7.1ms\n",
      "video 1/1 (frame 31/39) /home/gerdson/projetos/FIAP-Hackathon-Grupo2/assets/video2.mp4: 384x640 (no detections), 6.6ms\n",
      "video 1/1 (frame 32/39) /home/gerdson/projetos/FIAP-Hackathon-Grupo2/assets/video2.mp4: 384x640 (no detections), 7.0ms\n",
      "video 1/1 (frame 33/39) /home/gerdson/projetos/FIAP-Hackathon-Grupo2/assets/video2.mp4: 384x640 (no detections), 7.3ms\n",
      "video 1/1 (frame 34/39) /home/gerdson/projetos/FIAP-Hackathon-Grupo2/assets/video2.mp4: 384x640 (no detections), 6.5ms\n",
      "video 1/1 (frame 35/39) /home/gerdson/projetos/FIAP-Hackathon-Grupo2/assets/video2.mp4: 384x640 (no detections), 6.6ms\n",
      "video 1/1 (frame 36/39) /home/gerdson/projetos/FIAP-Hackathon-Grupo2/assets/video2.mp4: 384x640 (no detections), 6.5ms\n",
      "video 1/1 (frame 37/39) /home/gerdson/projetos/FIAP-Hackathon-Grupo2/assets/video2.mp4: 384x640 (no detections), 6.5ms\n",
      "video 1/1 (frame 38/39) /home/gerdson/projetos/FIAP-Hackathon-Grupo2/assets/video2.mp4: 384x640 1 cortante, 8.1ms\n",
      "video 1/1 (frame 39/39) /home/gerdson/projetos/FIAP-Hackathon-Grupo2/assets/video2.mp4: 384x640 1 cortante, 6.3ms\n",
      "Speed: 1.1ms preprocess, 7.7ms inference, 0.4ms postprocess per image at shape (1, 3, 384, 640)\n",
      "Results saved to \u001b[1m/home/gerdson/projetos/FIAP-Hackathon-Grupo2/runs/detect/predict\u001b[0m\n"
     ]
    }
   ],
   "source": [
    "for result in results_video:\n",
    "    # Do something with results...\n",
    "    pass\n",
    "    # boxes = result.boxes  # Boxes object for bbox outputs\n",
    "    # masks = result.masks  # Masks object for segmentation masks outputs\n",
    "    # keypoints = result.keypoints  # Keypoints object for pose outputs\n",
    "    # probs = result.probs  # Probs object for classification outputs"
   ]
  }
 ],
 "metadata": {
  "accelerator": "GPU",
  "colab": {
   "gpuType": "A100",
   "machine_shape": "hm",
   "provenance": []
  },
  "kernelspec": {
   "display_name": "streamlit2",
   "language": "python",
   "name": "python3"
  },
  "language_info": {
   "codemirror_mode": {
    "name": "ipython",
    "version": 3
   },
   "file_extension": ".py",
   "mimetype": "text/x-python",
   "name": "python",
   "nbconvert_exporter": "python",
   "pygments_lexer": "ipython3",
   "version": "3.12.8"
  }
 },
 "nbformat": 4,
 "nbformat_minor": 4
}
