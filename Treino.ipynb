{
 "cells": [
  {
   "cell_type": "code",
   "execution_count": 1,
   "metadata": {},
   "outputs": [
    {
     "data": {
      "text/plain": [
       "{'settings_version': '0.0.6',\n",
       " 'datasets_dir': '/home/gerdson/projetos/FIAP-Hackathon-Grupo2/datasets',\n",
       " 'weights_dir': '/home/gerdson/projetos/FIAP-Hackathon-Grupo2/weights',\n",
       " 'runs_dir': '/home/gerdson/projetos/FIAP-Hackathon-Grupo2/runs',\n",
       " 'uuid': '765bacf433b23056de58d9ce6fef2008d6ad1b127e866ab4c974826f73d3d1e8',\n",
       " 'sync': True,\n",
       " 'api_key': '',\n",
       " 'openai_api_key': '',\n",
       " 'clearml': True,\n",
       " 'comet': True,\n",
       " 'dvc': True,\n",
       " 'hub': True,\n",
       " 'mlflow': True,\n",
       " 'neptune': True,\n",
       " 'raytune': True,\n",
       " 'tensorboard': True,\n",
       " 'wandb': False,\n",
       " 'vscode_msg': True}"
      ]
     },
     "execution_count": 1,
     "metadata": {},
     "output_type": "execute_result"
    }
   ],
   "source": [
    "from ultralytics import YOLO, settings\n",
    "settings"
   ]
  },
  {
   "cell_type": "code",
   "execution_count": 2,
   "metadata": {},
   "outputs": [
    {
     "data": {
      "text/plain": [
       "{'settings_version': '0.0.6',\n",
       " 'datasets_dir': '/home/gerdson/projetos/FIAP-Hackathon-Grupo2/datasets',\n",
       " 'weights_dir': '/home/gerdson/projetos/FIAP-Hackathon-Grupo2/weights',\n",
       " 'runs_dir': '/home/gerdson/projetos/FIAP-Hackathon-Grupo2/runs',\n",
       " 'uuid': '765bacf433b23056de58d9ce6fef2008d6ad1b127e866ab4c974826f73d3d1e8',\n",
       " 'sync': True,\n",
       " 'api_key': '',\n",
       " 'openai_api_key': '',\n",
       " 'clearml': True,\n",
       " 'comet': True,\n",
       " 'dvc': True,\n",
       " 'hub': True,\n",
       " 'mlflow': True,\n",
       " 'neptune': True,\n",
       " 'raytune': True,\n",
       " 'tensorboard': True,\n",
       " 'wandb': False,\n",
       " 'vscode_msg': True}"
      ]
     },
     "execution_count": 2,
     "metadata": {},
     "output_type": "execute_result"
    }
   ],
   "source": [
    "settings.update({'datasets_dir': '/home/gerdson/projetos/FIAP-Hackathon-Grupo2/datasets'})\n",
    "settings.update({'weights_dir': '/home/gerdson/projetos/FIAP-Hackathon-Grupo2/weights'})\n",
    "settings.update({'runs_dir': '/home/gerdson/projetos/FIAP-Hackathon-Grupo2/runs'})\n",
    "settings"
   ]
  },
  {
   "cell_type": "code",
   "execution_count": 3,
   "metadata": {},
   "outputs": [
    {
     "name": "stdout",
     "output_type": "stream",
     "text": [
      "Downloading https://github.com/ultralytics/assets/releases/download/v8.3.0/yolo11n.pt to 'yolo11n.pt'...\n"
     ]
    },
    {
     "name": "stderr",
     "output_type": "stream",
     "text": [
      "100%|██████████| 5.35M/5.35M [00:00<00:00, 13.2MB/s]\n"
     ]
    }
   ],
   "source": [
    "model = YOLO('yolo11n')"
   ]
  },
  {
   "cell_type": "code",
   "execution_count": 4,
   "metadata": {},
   "outputs": [
    {
     "name": "stdout",
     "output_type": "stream",
     "text": [
      "PyTorch: GPU está disponível!\n",
      "GPU: NVIDIA GeForce RTX 4090\n"
     ]
    },
    {
     "data": {
      "text/plain": [
       "True"
      ]
     },
     "execution_count": 4,
     "metadata": {},
     "output_type": "execute_result"
    }
   ],
   "source": [
    "import torch\n",
    "\n",
    "def check_gpu_pytorch():\n",
    "    \"\"\"Verifica se a GPU está disponível para PyTorch.\"\"\"\n",
    "    if torch.cuda.is_available():\n",
    "        print(\"PyTorch: GPU está disponível!\")\n",
    "        gpu_index = torch.cuda.current_device()\n",
    "        gpu_name = torch.cuda.get_device_name(gpu_index)\n",
    "        print(f\"GPU: {gpu_name}\")\n",
    "        return True\n",
    "    else:\n",
    "        print(\"PyTorch: GPU não está disponível.\")\n",
    "        return False\n",
    "    \n",
    "check_gpu_pytorch()"
   ]
  },
  {
   "cell_type": "code",
   "execution_count": null,
   "metadata": {},
   "outputs": [],
   "source": [
    "#config = './config.yaml'\n",
    "#model.train(data=config, epochs=10, batch=64)"
   ]
  },
  {
   "cell_type": "code",
   "execution_count": 5,
   "metadata": {},
   "outputs": [
    {
     "name": "stdout",
     "output_type": "stream",
     "text": [
      "Ultralytics 8.3.70 🚀 Python-3.12.8 torch-2.6.0+cu124 CUDA:0 (NVIDIA GeForce RTX 4090, 24069MiB)\n",
      "\u001b[34m\u001b[1mengine/trainer: \u001b[0mtask=detect, mode=train, model=yolo11n.pt, data=./config.yaml, epochs=30, time=None, patience=8, batch=64, imgsz=640, save=True, save_period=-1, cache=False, device=None, workers=8, project=None, name=train, exist_ok=False, pretrained=True, optimizer=AdamW, verbose=True, seed=0, deterministic=True, single_cls=False, rect=False, cos_lr=False, close_mosaic=10, resume=False, amp=True, fraction=1.0, profile=False, freeze=None, multi_scale=False, overlap_mask=True, mask_ratio=4, dropout=0.0, val=True, split=val, save_json=False, save_hybrid=False, conf=None, iou=0.7, max_det=300, half=False, dnn=False, plots=True, source=None, vid_stride=1, stream_buffer=False, visualize=False, augment=False, agnostic_nms=False, classes=None, retina_masks=False, embed=None, show=False, save_frames=False, save_txt=False, save_conf=False, save_crop=False, show_labels=True, show_conf=True, show_boxes=True, line_width=None, format=torchscript, keras=False, optimize=False, int8=False, dynamic=False, simplify=True, opset=None, workspace=None, nms=False, lr0=0.001, lrf=0.01, momentum=0.937, weight_decay=0.0005, warmup_epochs=3.0, warmup_momentum=0.8, warmup_bias_lr=0.1, box=7.5, cls=0.5, dfl=1.5, pose=12.0, kobj=1.0, nbs=64, hsv_h=0.015, hsv_s=0.3, hsv_v=0.3, degrees=0.3, translate=0.1, scale=0.5, shear=0.0, perspective=0.0, flipud=0.0, fliplr=0.5, bgr=0.0, mosaic=1.0, mixup=0.0, copy_paste=0.0, copy_paste_mode=flip, auto_augment=randaugment, erasing=0.4, crop_fraction=1.0, cfg=None, tracker=botsort.yaml, save_dir=/home/gerdson/projetos/FIAP-Hackathon-Grupo2/runs/detect/train\n",
      "Overriding model.yaml nc=80 with nc=2\n",
      "\n",
      "                   from  n    params  module                                       arguments                     \n",
      "  0                  -1  1       464  ultralytics.nn.modules.conv.Conv             [3, 16, 3, 2]                 \n",
      "  1                  -1  1      4672  ultralytics.nn.modules.conv.Conv             [16, 32, 3, 2]                \n",
      "  2                  -1  1      6640  ultralytics.nn.modules.block.C3k2            [32, 64, 1, False, 0.25]      \n",
      "  3                  -1  1     36992  ultralytics.nn.modules.conv.Conv             [64, 64, 3, 2]                \n",
      "  4                  -1  1     26080  ultralytics.nn.modules.block.C3k2            [64, 128, 1, False, 0.25]     \n",
      "  5                  -1  1    147712  ultralytics.nn.modules.conv.Conv             [128, 128, 3, 2]              \n",
      "  6                  -1  1     87040  ultralytics.nn.modules.block.C3k2            [128, 128, 1, True]           \n",
      "  7                  -1  1    295424  ultralytics.nn.modules.conv.Conv             [128, 256, 3, 2]              \n",
      "  8                  -1  1    346112  ultralytics.nn.modules.block.C3k2            [256, 256, 1, True]           \n",
      "  9                  -1  1    164608  ultralytics.nn.modules.block.SPPF            [256, 256, 5]                 \n",
      " 10                  -1  1    249728  ultralytics.nn.modules.block.C2PSA           [256, 256, 1]                 \n",
      " 11                  -1  1         0  torch.nn.modules.upsampling.Upsample         [None, 2, 'nearest']          \n",
      " 12             [-1, 6]  1         0  ultralytics.nn.modules.conv.Concat           [1]                           \n",
      " 13                  -1  1    111296  ultralytics.nn.modules.block.C3k2            [384, 128, 1, False]          \n",
      " 14                  -1  1         0  torch.nn.modules.upsampling.Upsample         [None, 2, 'nearest']          \n",
      " 15             [-1, 4]  1         0  ultralytics.nn.modules.conv.Concat           [1]                           \n",
      " 16                  -1  1     32096  ultralytics.nn.modules.block.C3k2            [256, 64, 1, False]           \n",
      " 17                  -1  1     36992  ultralytics.nn.modules.conv.Conv             [64, 64, 3, 2]                \n",
      " 18            [-1, 13]  1         0  ultralytics.nn.modules.conv.Concat           [1]                           \n",
      " 19                  -1  1     86720  ultralytics.nn.modules.block.C3k2            [192, 128, 1, False]          \n",
      " 20                  -1  1    147712  ultralytics.nn.modules.conv.Conv             [128, 128, 3, 2]              \n",
      " 21            [-1, 10]  1         0  ultralytics.nn.modules.conv.Concat           [1]                           \n",
      " 22                  -1  1    378880  ultralytics.nn.modules.block.C3k2            [384, 256, 1, True]           \n",
      " 23        [16, 19, 22]  1    431062  ultralytics.nn.modules.head.Detect           [2, [64, 128, 256]]           \n",
      "YOLO11n summary: 319 layers, 2,590,230 parameters, 2,590,214 gradients, 6.4 GFLOPs\n",
      "\n",
      "Transferred 448/499 items from pretrained weights\n",
      "Freezing layer 'model.23.dfl.conv.weight'\n",
      "\u001b[34m\u001b[1mAMP: \u001b[0mrunning Automatic Mixed Precision (AMP) checks...\n",
      "\u001b[34m\u001b[1mAMP: \u001b[0mchecks passed ✅\n"
     ]
    },
    {
     "name": "stderr",
     "output_type": "stream",
     "text": [
      "\u001b[34m\u001b[1mtrain: \u001b[0mScanning /home/gerdson/projetos/FIAP-Hackathon-Grupo2/datasets/cortantes_armas/train/labels.cache... 27823 images, 232 backgrounds, 0 corrupt: 100%|██████████| 27823/27823 [00:00<?, ?it/s]"
     ]
    },
    {
     "name": "stdout",
     "output_type": "stream",
     "text": [
      "WARNING ⚠️ Box and segment counts should be equal, but got len(segments) = 3, len(boxes) = 50221. To resolve this only boxes will be used and all segments will be removed. To avoid this please supply either a detect or segment dataset, not a detect-segment mixed dataset.\n"
     ]
    },
    {
     "name": "stderr",
     "output_type": "stream",
     "text": [
      "\n",
      "\u001b[34m\u001b[1mval: \u001b[0mScanning /home/gerdson/projetos/FIAP-Hackathon-Grupo2/datasets/cortantes_armas/valid/labels.cache... 4606 images, 65 backgrounds, 0 corrupt: 100%|██████████| 4606/4606 [00:00<?, ?it/s]\n"
     ]
    },
    {
     "name": "stdout",
     "output_type": "stream",
     "text": [
      "Plotting labels to /home/gerdson/projetos/FIAP-Hackathon-Grupo2/runs/detect/train/labels.jpg... \n",
      "\u001b[34m\u001b[1moptimizer:\u001b[0m AdamW(lr=0.001, momentum=0.937) with parameter groups 81 weight(decay=0.0), 88 weight(decay=0.0005), 87 bias(decay=0.0)\n",
      "Image sizes 640 train, 640 val\n",
      "Using 8 dataloader workers\n",
      "Logging results to \u001b[1m/home/gerdson/projetos/FIAP-Hackathon-Grupo2/runs/detect/train\u001b[0m\n",
      "Starting training for 30 epochs...\n",
      "\n",
      "      Epoch    GPU_mem   box_loss   cls_loss   dfl_loss  Instances       Size\n"
     ]
    },
    {
     "name": "stderr",
     "output_type": "stream",
     "text": [
      "       1/30      9.77G      1.298       1.94      1.429        121        640: 100%|██████████| 435/435 [01:08<00:00,  6.36it/s]\n",
      "                 Class     Images  Instances      Box(P          R      mAP50  mAP50-95): 100%|██████████| 36/36 [00:10<00:00,  3.58it/s]"
     ]
    },
    {
     "name": "stdout",
     "output_type": "stream",
     "text": [
      "                   all       4606       5481      0.582      0.404      0.448      0.239\n"
     ]
    },
    {
     "name": "stderr",
     "output_type": "stream",
     "text": [
      "\n"
     ]
    },
    {
     "name": "stdout",
     "output_type": "stream",
     "text": [
      "\n",
      "      Epoch    GPU_mem   box_loss   cls_loss   dfl_loss  Instances       Size\n"
     ]
    },
    {
     "name": "stderr",
     "output_type": "stream",
     "text": [
      "       2/30      8.93G      1.259      1.615      1.397        158        640: 100%|██████████| 435/435 [01:06<00:00,  6.56it/s]\n",
      "                 Class     Images  Instances      Box(P          R      mAP50  mAP50-95): 100%|██████████| 36/36 [00:09<00:00,  3.85it/s]\n"
     ]
    },
    {
     "name": "stdout",
     "output_type": "stream",
     "text": [
      "                   all       4606       5481      0.553      0.433      0.457      0.247\n",
      "\n",
      "      Epoch    GPU_mem   box_loss   cls_loss   dfl_loss  Instances       Size\n"
     ]
    },
    {
     "name": "stderr",
     "output_type": "stream",
     "text": [
      "       3/30      9.29G      1.239      1.548      1.392        153        640: 100%|██████████| 435/435 [01:05<00:00,  6.61it/s]\n",
      "                 Class     Images  Instances      Box(P          R      mAP50  mAP50-95): 100%|██████████| 36/36 [00:09<00:00,  3.98it/s]"
     ]
    },
    {
     "name": "stdout",
     "output_type": "stream",
     "text": [
      "                   all       4606       5481      0.473      0.382      0.376      0.189\n"
     ]
    },
    {
     "name": "stderr",
     "output_type": "stream",
     "text": [
      "\n"
     ]
    },
    {
     "name": "stdout",
     "output_type": "stream",
     "text": [
      "\n",
      "      Epoch    GPU_mem   box_loss   cls_loss   dfl_loss  Instances       Size\n"
     ]
    },
    {
     "name": "stderr",
     "output_type": "stream",
     "text": [
      "       4/30      8.97G      1.201      1.449      1.361        156        640: 100%|██████████| 435/435 [01:06<00:00,  6.57it/s]\n",
      "                 Class     Images  Instances      Box(P          R      mAP50  mAP50-95): 100%|██████████| 36/36 [00:08<00:00,  4.00it/s]"
     ]
    },
    {
     "name": "stdout",
     "output_type": "stream",
     "text": [
      "                   all       4606       5481      0.691      0.577      0.649      0.379\n"
     ]
    },
    {
     "name": "stderr",
     "output_type": "stream",
     "text": [
      "\n"
     ]
    },
    {
     "name": "stdout",
     "output_type": "stream",
     "text": [
      "\n",
      "      Epoch    GPU_mem   box_loss   cls_loss   dfl_loss  Instances       Size\n"
     ]
    },
    {
     "name": "stderr",
     "output_type": "stream",
     "text": [
      "       5/30      8.94G      1.149      1.341      1.327        140        640: 100%|██████████| 435/435 [01:05<00:00,  6.60it/s]\n",
      "                 Class     Images  Instances      Box(P          R      mAP50  mAP50-95): 100%|██████████| 36/36 [00:08<00:00,  4.01it/s]"
     ]
    },
    {
     "name": "stdout",
     "output_type": "stream",
     "text": [
      "                   all       4606       5481      0.707      0.564      0.645      0.365\n"
     ]
    },
    {
     "name": "stderr",
     "output_type": "stream",
     "text": [
      "\n"
     ]
    },
    {
     "name": "stdout",
     "output_type": "stream",
     "text": [
      "\n",
      "      Epoch    GPU_mem   box_loss   cls_loss   dfl_loss  Instances       Size\n"
     ]
    },
    {
     "name": "stderr",
     "output_type": "stream",
     "text": [
      "       6/30      9.21G      1.115      1.263      1.301        157        640: 100%|██████████| 435/435 [01:06<00:00,  6.58it/s]\n",
      "                 Class     Images  Instances      Box(P          R      mAP50  mAP50-95): 100%|██████████| 36/36 [00:09<00:00,  3.77it/s]"
     ]
    },
    {
     "name": "stdout",
     "output_type": "stream",
     "text": [
      "                   all       4606       5481      0.801      0.661      0.762      0.463\n"
     ]
    },
    {
     "name": "stderr",
     "output_type": "stream",
     "text": [
      "\n"
     ]
    },
    {
     "name": "stdout",
     "output_type": "stream",
     "text": [
      "\n",
      "      Epoch    GPU_mem   box_loss   cls_loss   dfl_loss  Instances       Size\n"
     ]
    },
    {
     "name": "stderr",
     "output_type": "stream",
     "text": [
      "       7/30      8.91G      1.096      1.216      1.285        147        640: 100%|██████████| 435/435 [01:05<00:00,  6.65it/s]\n",
      "                 Class     Images  Instances      Box(P          R      mAP50  mAP50-95): 100%|██████████| 36/36 [00:09<00:00,  3.82it/s]"
     ]
    },
    {
     "name": "stdout",
     "output_type": "stream",
     "text": [
      "                   all       4606       5481      0.783        0.7      0.773      0.477\n"
     ]
    },
    {
     "name": "stderr",
     "output_type": "stream",
     "text": [
      "\n"
     ]
    },
    {
     "name": "stdout",
     "output_type": "stream",
     "text": [
      "\n",
      "      Epoch    GPU_mem   box_loss   cls_loss   dfl_loss  Instances       Size\n"
     ]
    },
    {
     "name": "stderr",
     "output_type": "stream",
     "text": [
      "       8/30      8.91G      1.072      1.164      1.268        147        640: 100%|██████████| 435/435 [01:06<00:00,  6.58it/s]\n",
      "                 Class     Images  Instances      Box(P          R      mAP50  mAP50-95): 100%|██████████| 36/36 [00:09<00:00,  3.85it/s]"
     ]
    },
    {
     "name": "stdout",
     "output_type": "stream",
     "text": [
      "                   all       4606       5481      0.808      0.728      0.808      0.514\n"
     ]
    },
    {
     "name": "stderr",
     "output_type": "stream",
     "text": [
      "\n"
     ]
    },
    {
     "name": "stdout",
     "output_type": "stream",
     "text": [
      "\n",
      "      Epoch    GPU_mem   box_loss   cls_loss   dfl_loss  Instances       Size\n"
     ]
    },
    {
     "name": "stderr",
     "output_type": "stream",
     "text": [
      "       9/30      8.92G       1.06      1.129      1.258        164        640: 100%|██████████| 435/435 [01:05<00:00,  6.62it/s]\n",
      "                 Class     Images  Instances      Box(P          R      mAP50  mAP50-95): 100%|██████████| 36/36 [00:09<00:00,  3.77it/s]"
     ]
    },
    {
     "name": "stdout",
     "output_type": "stream",
     "text": [
      "                   all       4606       5481      0.832      0.744      0.821      0.525\n"
     ]
    },
    {
     "name": "stderr",
     "output_type": "stream",
     "text": [
      "\n"
     ]
    },
    {
     "name": "stdout",
     "output_type": "stream",
     "text": [
      "\n",
      "      Epoch    GPU_mem   box_loss   cls_loss   dfl_loss  Instances       Size\n"
     ]
    },
    {
     "name": "stderr",
     "output_type": "stream",
     "text": [
      "      10/30      9.21G      1.043      1.102      1.248        151        640: 100%|██████████| 435/435 [01:05<00:00,  6.59it/s]\n",
      "                 Class     Images  Instances      Box(P          R      mAP50  mAP50-95): 100%|██████████| 36/36 [00:10<00:00,  3.54it/s]"
     ]
    },
    {
     "name": "stdout",
     "output_type": "stream",
     "text": [
      "                   all       4606       5481      0.863      0.778       0.86      0.567\n"
     ]
    },
    {
     "name": "stderr",
     "output_type": "stream",
     "text": [
      "\n"
     ]
    },
    {
     "name": "stdout",
     "output_type": "stream",
     "text": [
      "\n",
      "      Epoch    GPU_mem   box_loss   cls_loss   dfl_loss  Instances       Size\n"
     ]
    },
    {
     "name": "stderr",
     "output_type": "stream",
     "text": [
      "      11/30      9.14G      1.025      1.073      1.236        153        640: 100%|██████████| 435/435 [01:05<00:00,  6.60it/s]\n",
      "                 Class     Images  Instances      Box(P          R      mAP50  mAP50-95): 100%|██████████| 36/36 [00:08<00:00,  4.01it/s]"
     ]
    },
    {
     "name": "stdout",
     "output_type": "stream",
     "text": [
      "                   all       4606       5481      0.863      0.783      0.867      0.568\n"
     ]
    },
    {
     "name": "stderr",
     "output_type": "stream",
     "text": [
      "\n"
     ]
    },
    {
     "name": "stdout",
     "output_type": "stream",
     "text": [
      "\n",
      "      Epoch    GPU_mem   box_loss   cls_loss   dfl_loss  Instances       Size\n"
     ]
    },
    {
     "name": "stderr",
     "output_type": "stream",
     "text": [
      "      12/30      9.29G      1.018      1.051      1.227        162        640: 100%|██████████| 435/435 [01:06<00:00,  6.51it/s]\n",
      "                 Class     Images  Instances      Box(P          R      mAP50  mAP50-95): 100%|██████████| 36/36 [00:08<00:00,  4.05it/s]"
     ]
    },
    {
     "name": "stdout",
     "output_type": "stream",
     "text": [
      "                   all       4606       5481       0.88      0.784       0.87      0.576\n"
     ]
    },
    {
     "name": "stderr",
     "output_type": "stream",
     "text": [
      "\n"
     ]
    },
    {
     "name": "stdout",
     "output_type": "stream",
     "text": [
      "\n",
      "      Epoch    GPU_mem   box_loss   cls_loss   dfl_loss  Instances       Size\n"
     ]
    },
    {
     "name": "stderr",
     "output_type": "stream",
     "text": [
      "      13/30      8.89G      1.006      1.031       1.22        163        640: 100%|██████████| 435/435 [01:06<00:00,  6.58it/s]\n",
      "                 Class     Images  Instances      Box(P          R      mAP50  mAP50-95): 100%|██████████| 36/36 [00:09<00:00,  3.77it/s]"
     ]
    },
    {
     "name": "stdout",
     "output_type": "stream",
     "text": [
      "                   all       4606       5481      0.878      0.808      0.887      0.593\n"
     ]
    },
    {
     "name": "stderr",
     "output_type": "stream",
     "text": [
      "\n"
     ]
    },
    {
     "name": "stdout",
     "output_type": "stream",
     "text": [
      "\n",
      "      Epoch    GPU_mem   box_loss   cls_loss   dfl_loss  Instances       Size\n"
     ]
    },
    {
     "name": "stderr",
     "output_type": "stream",
     "text": [
      "      14/30      8.95G     0.9923      1.005      1.213        128        640: 100%|██████████| 435/435 [01:07<00:00,  6.45it/s]\n",
      "                 Class     Images  Instances      Box(P          R      mAP50  mAP50-95): 100%|██████████| 36/36 [00:09<00:00,  3.90it/s]"
     ]
    },
    {
     "name": "stdout",
     "output_type": "stream",
     "text": [
      "                   all       4606       5481       0.89      0.826      0.899      0.607\n"
     ]
    },
    {
     "name": "stderr",
     "output_type": "stream",
     "text": [
      "\n"
     ]
    },
    {
     "name": "stdout",
     "output_type": "stream",
     "text": [
      "\n",
      "      Epoch    GPU_mem   box_loss   cls_loss   dfl_loss  Instances       Size\n"
     ]
    },
    {
     "name": "stderr",
     "output_type": "stream",
     "text": [
      "      15/30      8.92G     0.9848     0.9866      1.204        123        640: 100%|██████████| 435/435 [01:05<00:00,  6.62it/s]\n",
      "                 Class     Images  Instances      Box(P          R      mAP50  mAP50-95): 100%|██████████| 36/36 [00:09<00:00,  3.64it/s]"
     ]
    },
    {
     "name": "stdout",
     "output_type": "stream",
     "text": [
      "                   all       4606       5481      0.879      0.837      0.902      0.612\n"
     ]
    },
    {
     "name": "stderr",
     "output_type": "stream",
     "text": [
      "\n"
     ]
    },
    {
     "name": "stdout",
     "output_type": "stream",
     "text": [
      "\n",
      "      Epoch    GPU_mem   box_loss   cls_loss   dfl_loss  Instances       Size\n"
     ]
    },
    {
     "name": "stderr",
     "output_type": "stream",
     "text": [
      "      16/30      8.85G     0.9747     0.9694      1.199        137        640: 100%|██████████| 435/435 [01:05<00:00,  6.65it/s]\n",
      "                 Class     Images  Instances      Box(P          R      mAP50  mAP50-95): 100%|██████████| 36/36 [00:09<00:00,  3.76it/s]"
     ]
    },
    {
     "name": "stdout",
     "output_type": "stream",
     "text": [
      "                   all       4606       5481      0.904      0.839       0.91      0.627\n"
     ]
    },
    {
     "name": "stderr",
     "output_type": "stream",
     "text": [
      "\n"
     ]
    },
    {
     "name": "stdout",
     "output_type": "stream",
     "text": [
      "\n",
      "      Epoch    GPU_mem   box_loss   cls_loss   dfl_loss  Instances       Size\n"
     ]
    },
    {
     "name": "stderr",
     "output_type": "stream",
     "text": [
      "      17/30      8.89G     0.9671     0.9536      1.192        146        640: 100%|██████████| 435/435 [01:09<00:00,  6.30it/s]\n",
      "                 Class     Images  Instances      Box(P          R      mAP50  mAP50-95): 100%|██████████| 36/36 [00:10<00:00,  3.55it/s]"
     ]
    },
    {
     "name": "stdout",
     "output_type": "stream",
     "text": [
      "                   all       4606       5481      0.904      0.851      0.916      0.633\n"
     ]
    },
    {
     "name": "stderr",
     "output_type": "stream",
     "text": [
      "\n"
     ]
    },
    {
     "name": "stdout",
     "output_type": "stream",
     "text": [
      "\n",
      "      Epoch    GPU_mem   box_loss   cls_loss   dfl_loss  Instances       Size\n"
     ]
    },
    {
     "name": "stderr",
     "output_type": "stream",
     "text": [
      "      18/30      8.97G     0.9553     0.9284      1.183        146        640: 100%|██████████| 435/435 [01:07<00:00,  6.47it/s]\n",
      "                 Class     Images  Instances      Box(P          R      mAP50  mAP50-95): 100%|██████████| 36/36 [00:09<00:00,  3.84it/s]"
     ]
    },
    {
     "name": "stdout",
     "output_type": "stream",
     "text": [
      "                   all       4606       5481      0.899      0.851      0.916      0.639\n"
     ]
    },
    {
     "name": "stderr",
     "output_type": "stream",
     "text": [
      "\n"
     ]
    },
    {
     "name": "stdout",
     "output_type": "stream",
     "text": [
      "\n",
      "      Epoch    GPU_mem   box_loss   cls_loss   dfl_loss  Instances       Size\n"
     ]
    },
    {
     "name": "stderr",
     "output_type": "stream",
     "text": [
      "      19/30      8.93G      0.943     0.9143      1.178        165        640: 100%|██████████| 435/435 [01:06<00:00,  6.59it/s]\n",
      "                 Class     Images  Instances      Box(P          R      mAP50  mAP50-95): 100%|██████████| 36/36 [00:10<00:00,  3.35it/s]"
     ]
    },
    {
     "name": "stdout",
     "output_type": "stream",
     "text": [
      "                   all       4606       5481      0.903      0.863      0.923      0.647\n"
     ]
    },
    {
     "name": "stderr",
     "output_type": "stream",
     "text": [
      "\n"
     ]
    },
    {
     "name": "stdout",
     "output_type": "stream",
     "text": [
      "\n",
      "      Epoch    GPU_mem   box_loss   cls_loss   dfl_loss  Instances       Size\n"
     ]
    },
    {
     "name": "stderr",
     "output_type": "stream",
     "text": [
      "      20/30      8.84G     0.9339     0.8996      1.168        179        640: 100%|██████████| 435/435 [01:12<00:00,  5.99it/s]\n",
      "                 Class     Images  Instances      Box(P          R      mAP50  mAP50-95): 100%|██████████| 36/36 [00:10<00:00,  3.29it/s]"
     ]
    },
    {
     "name": "stdout",
     "output_type": "stream",
     "text": [
      "                   all       4606       5481      0.914       0.87      0.929      0.654\n"
     ]
    },
    {
     "name": "stderr",
     "output_type": "stream",
     "text": [
      "\n"
     ]
    },
    {
     "name": "stdout",
     "output_type": "stream",
     "text": [
      "Closing dataloader mosaic\n",
      "\n",
      "      Epoch    GPU_mem   box_loss   cls_loss   dfl_loss  Instances       Size\n"
     ]
    },
    {
     "name": "stderr",
     "output_type": "stream",
     "text": [
      "      21/30       9.2G     0.9331     0.7569      1.167         79        640: 100%|██████████| 435/435 [01:05<00:00,  6.66it/s]\n",
      "                 Class     Images  Instances      Box(P          R      mAP50  mAP50-95): 100%|██████████| 36/36 [00:08<00:00,  4.10it/s]"
     ]
    },
    {
     "name": "stdout",
     "output_type": "stream",
     "text": [
      "                   all       4606       5481      0.919      0.872       0.93       0.66\n"
     ]
    },
    {
     "name": "stderr",
     "output_type": "stream",
     "text": [
      "\n"
     ]
    },
    {
     "name": "stdout",
     "output_type": "stream",
     "text": [
      "\n",
      "      Epoch    GPU_mem   box_loss   cls_loss   dfl_loss  Instances       Size\n"
     ]
    },
    {
     "name": "stderr",
     "output_type": "stream",
     "text": [
      "      22/30      8.83G     0.9195     0.7328      1.156         81        640: 100%|██████████| 435/435 [01:04<00:00,  6.74it/s]\n",
      "                 Class     Images  Instances      Box(P          R      mAP50  mAP50-95): 100%|██████████| 36/36 [00:08<00:00,  4.04it/s]"
     ]
    },
    {
     "name": "stdout",
     "output_type": "stream",
     "text": [
      "                   all       4606       5481      0.914      0.883      0.935      0.663\n"
     ]
    },
    {
     "name": "stderr",
     "output_type": "stream",
     "text": [
      "\n"
     ]
    },
    {
     "name": "stdout",
     "output_type": "stream",
     "text": [
      "\n",
      "      Epoch    GPU_mem   box_loss   cls_loss   dfl_loss  Instances       Size\n"
     ]
    },
    {
     "name": "stderr",
     "output_type": "stream",
     "text": [
      "      23/30      8.84G     0.9029     0.7128      1.147         76        640: 100%|██████████| 435/435 [01:04<00:00,  6.73it/s]\n",
      "                 Class     Images  Instances      Box(P          R      mAP50  mAP50-95): 100%|██████████| 36/36 [00:09<00:00,  3.88it/s]"
     ]
    },
    {
     "name": "stdout",
     "output_type": "stream",
     "text": [
      "                   all       4606       5481      0.924       0.88      0.937       0.67\n"
     ]
    },
    {
     "name": "stderr",
     "output_type": "stream",
     "text": [
      "\n"
     ]
    },
    {
     "name": "stdout",
     "output_type": "stream",
     "text": [
      "\n",
      "      Epoch    GPU_mem   box_loss   cls_loss   dfl_loss  Instances       Size\n"
     ]
    },
    {
     "name": "stderr",
     "output_type": "stream",
     "text": [
      "      24/30      8.78G     0.8926     0.6971      1.138         72        640: 100%|██████████| 435/435 [01:04<00:00,  6.74it/s]\n",
      "                 Class     Images  Instances      Box(P          R      mAP50  mAP50-95): 100%|██████████| 36/36 [00:08<00:00,  4.13it/s]"
     ]
    },
    {
     "name": "stdout",
     "output_type": "stream",
     "text": [
      "                   all       4606       5481      0.919      0.882      0.937      0.672\n"
     ]
    },
    {
     "name": "stderr",
     "output_type": "stream",
     "text": [
      "\n"
     ]
    },
    {
     "name": "stdout",
     "output_type": "stream",
     "text": [
      "\n",
      "      Epoch    GPU_mem   box_loss   cls_loss   dfl_loss  Instances       Size\n"
     ]
    },
    {
     "name": "stderr",
     "output_type": "stream",
     "text": [
      "      25/30      8.84G     0.8829      0.677      1.131         79        640: 100%|██████████| 435/435 [01:05<00:00,  6.68it/s]\n",
      "                 Class     Images  Instances      Box(P          R      mAP50  mAP50-95): 100%|██████████| 36/36 [00:08<00:00,  4.11it/s]"
     ]
    },
    {
     "name": "stdout",
     "output_type": "stream",
     "text": [
      "                   all       4606       5481       0.93      0.884       0.94      0.677\n"
     ]
    },
    {
     "name": "stderr",
     "output_type": "stream",
     "text": [
      "\n"
     ]
    },
    {
     "name": "stdout",
     "output_type": "stream",
     "text": [
      "\n",
      "      Epoch    GPU_mem   box_loss   cls_loss   dfl_loss  Instances       Size\n"
     ]
    },
    {
     "name": "stderr",
     "output_type": "stream",
     "text": [
      "      26/30      8.89G     0.8675     0.6624      1.123         81        640: 100%|██████████| 435/435 [01:04<00:00,  6.72it/s]\n",
      "                 Class     Images  Instances      Box(P          R      mAP50  mAP50-95): 100%|██████████| 36/36 [00:08<00:00,  4.09it/s]"
     ]
    },
    {
     "name": "stdout",
     "output_type": "stream",
     "text": [
      "                   all       4606       5481      0.929      0.887       0.94      0.678\n"
     ]
    },
    {
     "name": "stderr",
     "output_type": "stream",
     "text": [
      "\n"
     ]
    },
    {
     "name": "stdout",
     "output_type": "stream",
     "text": [
      "\n",
      "      Epoch    GPU_mem   box_loss   cls_loss   dfl_loss  Instances       Size\n"
     ]
    },
    {
     "name": "stderr",
     "output_type": "stream",
     "text": [
      "      27/30      8.83G     0.8592     0.6508      1.118         85        640: 100%|██████████| 435/435 [01:04<00:00,  6.73it/s]\n",
      "                 Class     Images  Instances      Box(P          R      mAP50  mAP50-95): 100%|██████████| 36/36 [00:08<00:00,  4.10it/s]"
     ]
    },
    {
     "name": "stdout",
     "output_type": "stream",
     "text": [
      "                   all       4606       5481       0.93      0.885      0.941      0.681\n"
     ]
    },
    {
     "name": "stderr",
     "output_type": "stream",
     "text": [
      "\n"
     ]
    },
    {
     "name": "stdout",
     "output_type": "stream",
     "text": [
      "\n",
      "      Epoch    GPU_mem   box_loss   cls_loss   dfl_loss  Instances       Size\n"
     ]
    },
    {
     "name": "stderr",
     "output_type": "stream",
     "text": [
      "      28/30      9.05G     0.8476     0.6367       1.11         67        640: 100%|██████████| 435/435 [01:04<00:00,  6.69it/s]\n",
      "                 Class     Images  Instances      Box(P          R      mAP50  mAP50-95): 100%|██████████| 36/36 [00:08<00:00,  4.09it/s]"
     ]
    },
    {
     "name": "stdout",
     "output_type": "stream",
     "text": [
      "                   all       4606       5481      0.931      0.886      0.941      0.682\n"
     ]
    },
    {
     "name": "stderr",
     "output_type": "stream",
     "text": [
      "\n"
     ]
    },
    {
     "name": "stdout",
     "output_type": "stream",
     "text": [
      "\n",
      "      Epoch    GPU_mem   box_loss   cls_loss   dfl_loss  Instances       Size\n"
     ]
    },
    {
     "name": "stderr",
     "output_type": "stream",
     "text": [
      "      29/30      9.02G     0.8374     0.6235      1.105         85        640: 100%|██████████| 435/435 [01:05<00:00,  6.67it/s]\n",
      "                 Class     Images  Instances      Box(P          R      mAP50  mAP50-95): 100%|██████████| 36/36 [00:08<00:00,  4.13it/s]"
     ]
    },
    {
     "name": "stdout",
     "output_type": "stream",
     "text": [
      "                   all       4606       5481      0.933      0.893      0.942      0.684\n"
     ]
    },
    {
     "name": "stderr",
     "output_type": "stream",
     "text": [
      "\n"
     ]
    },
    {
     "name": "stdout",
     "output_type": "stream",
     "text": [
      "\n",
      "      Epoch    GPU_mem   box_loss   cls_loss   dfl_loss  Instances       Size\n"
     ]
    },
    {
     "name": "stderr",
     "output_type": "stream",
     "text": [
      "      30/30      8.78G     0.8266     0.6122      1.098         78        640: 100%|██████████| 435/435 [01:04<00:00,  6.71it/s]\n",
      "                 Class     Images  Instances      Box(P          R      mAP50  mAP50-95): 100%|██████████| 36/36 [00:08<00:00,  4.13it/s]"
     ]
    },
    {
     "name": "stdout",
     "output_type": "stream",
     "text": [
      "                   all       4606       5481      0.933      0.891      0.942      0.685\n"
     ]
    },
    {
     "name": "stderr",
     "output_type": "stream",
     "text": [
      "\n"
     ]
    },
    {
     "name": "stdout",
     "output_type": "stream",
     "text": [
      "\n",
      "30 epochs completed in 0.634 hours.\n",
      "Optimizer stripped from /home/gerdson/projetos/FIAP-Hackathon-Grupo2/runs/detect/train/weights/last.pt, 5.5MB\n",
      "Optimizer stripped from /home/gerdson/projetos/FIAP-Hackathon-Grupo2/runs/detect/train/weights/best.pt, 5.5MB\n",
      "\n",
      "Validating /home/gerdson/projetos/FIAP-Hackathon-Grupo2/runs/detect/train/weights/best.pt...\n",
      "Ultralytics 8.3.70 🚀 Python-3.12.8 torch-2.6.0+cu124 CUDA:0 (NVIDIA GeForce RTX 4090, 24069MiB)\n",
      "YOLO11n summary (fused): 238 layers, 2,582,542 parameters, 0 gradients, 6.3 GFLOPs\n"
     ]
    },
    {
     "name": "stderr",
     "output_type": "stream",
     "text": [
      "                 Class     Images  Instances      Box(P          R      mAP50  mAP50-95): 100%|██████████| 36/36 [00:10<00:00,  3.40it/s]\n"
     ]
    },
    {
     "name": "stdout",
     "output_type": "stream",
     "text": [
      "                   all       4606       5481      0.933      0.891      0.942      0.685\n",
      "              cortante       2532       2932      0.945      0.935      0.961      0.699\n",
      "                  arma       2009       2549      0.921      0.848      0.923      0.671\n",
      "Speed: 0.1ms preprocess, 0.4ms inference, 0.0ms loss, 0.5ms postprocess per image\n",
      "Results saved to \u001b[1m/home/gerdson/projetos/FIAP-Hackathon-Grupo2/runs/detect/train\u001b[0m\n"
     ]
    },
    {
     "data": {
      "text/plain": [
       "ultralytics.utils.metrics.DetMetrics object with attributes:\n",
       "\n",
       "ap_class_index: array([0, 1])\n",
       "box: ultralytics.utils.metrics.Metric object\n",
       "confusion_matrix: <ultralytics.utils.metrics.ConfusionMatrix object at 0x7853640467b0>\n",
       "curves: ['Precision-Recall(B)', 'F1-Confidence(B)', 'Precision-Confidence(B)', 'Recall-Confidence(B)']\n",
       "curves_results: [[array([          0,    0.001001,    0.002002,    0.003003,    0.004004,    0.005005,    0.006006,    0.007007,    0.008008,    0.009009,     0.01001,    0.011011,    0.012012,    0.013013,    0.014014,    0.015015,    0.016016,    0.017017,    0.018018,    0.019019,     0.02002,    0.021021,    0.022022,    0.023023,\n",
       "          0.024024,    0.025025,    0.026026,    0.027027,    0.028028,    0.029029,     0.03003,    0.031031,    0.032032,    0.033033,    0.034034,    0.035035,    0.036036,    0.037037,    0.038038,    0.039039,     0.04004,    0.041041,    0.042042,    0.043043,    0.044044,    0.045045,    0.046046,    0.047047,\n",
       "          0.048048,    0.049049,     0.05005,    0.051051,    0.052052,    0.053053,    0.054054,    0.055055,    0.056056,    0.057057,    0.058058,    0.059059,     0.06006,    0.061061,    0.062062,    0.063063,    0.064064,    0.065065,    0.066066,    0.067067,    0.068068,    0.069069,     0.07007,    0.071071,\n",
       "          0.072072,    0.073073,    0.074074,    0.075075,    0.076076,    0.077077,    0.078078,    0.079079,     0.08008,    0.081081,    0.082082,    0.083083,    0.084084,    0.085085,    0.086086,    0.087087,    0.088088,    0.089089,     0.09009,    0.091091,    0.092092,    0.093093,    0.094094,    0.095095,\n",
       "          0.096096,    0.097097,    0.098098,    0.099099,      0.1001,      0.1011,      0.1021,      0.1031,      0.1041,     0.10511,     0.10611,     0.10711,     0.10811,     0.10911,     0.11011,     0.11111,     0.11211,     0.11311,     0.11411,     0.11512,     0.11612,     0.11712,     0.11812,     0.11912,\n",
       "           0.12012,     0.12112,     0.12212,     0.12312,     0.12412,     0.12513,     0.12613,     0.12713,     0.12813,     0.12913,     0.13013,     0.13113,     0.13213,     0.13313,     0.13413,     0.13514,     0.13614,     0.13714,     0.13814,     0.13914,     0.14014,     0.14114,     0.14214,     0.14314,\n",
       "           0.14414,     0.14515,     0.14615,     0.14715,     0.14815,     0.14915,     0.15015,     0.15115,     0.15215,     0.15315,     0.15415,     0.15516,     0.15616,     0.15716,     0.15816,     0.15916,     0.16016,     0.16116,     0.16216,     0.16316,     0.16416,     0.16517,     0.16617,     0.16717,\n",
       "           0.16817,     0.16917,     0.17017,     0.17117,     0.17217,     0.17317,     0.17417,     0.17518,     0.17618,     0.17718,     0.17818,     0.17918,     0.18018,     0.18118,     0.18218,     0.18318,     0.18418,     0.18519,     0.18619,     0.18719,     0.18819,     0.18919,     0.19019,     0.19119,\n",
       "           0.19219,     0.19319,     0.19419,      0.1952,      0.1962,      0.1972,      0.1982,      0.1992,      0.2002,      0.2012,      0.2022,      0.2032,      0.2042,     0.20521,     0.20621,     0.20721,     0.20821,     0.20921,     0.21021,     0.21121,     0.21221,     0.21321,     0.21421,     0.21522,\n",
       "           0.21622,     0.21722,     0.21822,     0.21922,     0.22022,     0.22122,     0.22222,     0.22322,     0.22422,     0.22523,     0.22623,     0.22723,     0.22823,     0.22923,     0.23023,     0.23123,     0.23223,     0.23323,     0.23423,     0.23524,     0.23624,     0.23724,     0.23824,     0.23924,\n",
       "           0.24024,     0.24124,     0.24224,     0.24324,     0.24424,     0.24525,     0.24625,     0.24725,     0.24825,     0.24925,     0.25025,     0.25125,     0.25225,     0.25325,     0.25425,     0.25526,     0.25626,     0.25726,     0.25826,     0.25926,     0.26026,     0.26126,     0.26226,     0.26326,\n",
       "           0.26426,     0.26527,     0.26627,     0.26727,     0.26827,     0.26927,     0.27027,     0.27127,     0.27227,     0.27327,     0.27427,     0.27528,     0.27628,     0.27728,     0.27828,     0.27928,     0.28028,     0.28128,     0.28228,     0.28328,     0.28428,     0.28529,     0.28629,     0.28729,\n",
       "           0.28829,     0.28929,     0.29029,     0.29129,     0.29229,     0.29329,     0.29429,      0.2953,      0.2963,      0.2973,      0.2983,      0.2993,      0.3003,      0.3013,      0.3023,      0.3033,      0.3043,     0.30531,     0.30631,     0.30731,     0.30831,     0.30931,     0.31031,     0.31131,\n",
       "           0.31231,     0.31331,     0.31431,     0.31532,     0.31632,     0.31732,     0.31832,     0.31932,     0.32032,     0.32132,     0.32232,     0.32332,     0.32432,     0.32533,     0.32633,     0.32733,     0.32833,     0.32933,     0.33033,     0.33133,     0.33233,     0.33333,     0.33433,     0.33534,\n",
       "           0.33634,     0.33734,     0.33834,     0.33934,     0.34034,     0.34134,     0.34234,     0.34334,     0.34434,     0.34535,     0.34635,     0.34735,     0.34835,     0.34935,     0.35035,     0.35135,     0.35235,     0.35335,     0.35435,     0.35536,     0.35636,     0.35736,     0.35836,     0.35936,\n",
       "           0.36036,     0.36136,     0.36236,     0.36336,     0.36436,     0.36537,     0.36637,     0.36737,     0.36837,     0.36937,     0.37037,     0.37137,     0.37237,     0.37337,     0.37437,     0.37538,     0.37638,     0.37738,     0.37838,     0.37938,     0.38038,     0.38138,     0.38238,     0.38338,\n",
       "           0.38438,     0.38539,     0.38639,     0.38739,     0.38839,     0.38939,     0.39039,     0.39139,     0.39239,     0.39339,     0.39439,      0.3954,      0.3964,      0.3974,      0.3984,      0.3994,      0.4004,      0.4014,      0.4024,      0.4034,      0.4044,     0.40541,     0.40641,     0.40741,\n",
       "           0.40841,     0.40941,     0.41041,     0.41141,     0.41241,     0.41341,     0.41441,     0.41542,     0.41642,     0.41742,     0.41842,     0.41942,     0.42042,     0.42142,     0.42242,     0.42342,     0.42442,     0.42543,     0.42643,     0.42743,     0.42843,     0.42943,     0.43043,     0.43143,\n",
       "           0.43243,     0.43343,     0.43443,     0.43544,     0.43644,     0.43744,     0.43844,     0.43944,     0.44044,     0.44144,     0.44244,     0.44344,     0.44444,     0.44545,     0.44645,     0.44745,     0.44845,     0.44945,     0.45045,     0.45145,     0.45245,     0.45345,     0.45445,     0.45546,\n",
       "           0.45646,     0.45746,     0.45846,     0.45946,     0.46046,     0.46146,     0.46246,     0.46346,     0.46446,     0.46547,     0.46647,     0.46747,     0.46847,     0.46947,     0.47047,     0.47147,     0.47247,     0.47347,     0.47447,     0.47548,     0.47648,     0.47748,     0.47848,     0.47948,\n",
       "           0.48048,     0.48148,     0.48248,     0.48348,     0.48448,     0.48549,     0.48649,     0.48749,     0.48849,     0.48949,     0.49049,     0.49149,     0.49249,     0.49349,     0.49449,      0.4955,      0.4965,      0.4975,      0.4985,      0.4995,      0.5005,      0.5015,      0.5025,      0.5035,\n",
       "            0.5045,     0.50551,     0.50651,     0.50751,     0.50851,     0.50951,     0.51051,     0.51151,     0.51251,     0.51351,     0.51451,     0.51552,     0.51652,     0.51752,     0.51852,     0.51952,     0.52052,     0.52152,     0.52252,     0.52352,     0.52452,     0.52553,     0.52653,     0.52753,\n",
       "           0.52853,     0.52953,     0.53053,     0.53153,     0.53253,     0.53353,     0.53453,     0.53554,     0.53654,     0.53754,     0.53854,     0.53954,     0.54054,     0.54154,     0.54254,     0.54354,     0.54454,     0.54555,     0.54655,     0.54755,     0.54855,     0.54955,     0.55055,     0.55155,\n",
       "           0.55255,     0.55355,     0.55455,     0.55556,     0.55656,     0.55756,     0.55856,     0.55956,     0.56056,     0.56156,     0.56256,     0.56356,     0.56456,     0.56557,     0.56657,     0.56757,     0.56857,     0.56957,     0.57057,     0.57157,     0.57257,     0.57357,     0.57457,     0.57558,\n",
       "           0.57658,     0.57758,     0.57858,     0.57958,     0.58058,     0.58158,     0.58258,     0.58358,     0.58458,     0.58559,     0.58659,     0.58759,     0.58859,     0.58959,     0.59059,     0.59159,     0.59259,     0.59359,     0.59459,      0.5956,      0.5966,      0.5976,      0.5986,      0.5996,\n",
       "            0.6006,      0.6016,      0.6026,      0.6036,      0.6046,     0.60561,     0.60661,     0.60761,     0.60861,     0.60961,     0.61061,     0.61161,     0.61261,     0.61361,     0.61461,     0.61562,     0.61662,     0.61762,     0.61862,     0.61962,     0.62062,     0.62162,     0.62262,     0.62362,\n",
       "           0.62462,     0.62563,     0.62663,     0.62763,     0.62863,     0.62963,     0.63063,     0.63163,     0.63263,     0.63363,     0.63463,     0.63564,     0.63664,     0.63764,     0.63864,     0.63964,     0.64064,     0.64164,     0.64264,     0.64364,     0.64464,     0.64565,     0.64665,     0.64765,\n",
       "           0.64865,     0.64965,     0.65065,     0.65165,     0.65265,     0.65365,     0.65465,     0.65566,     0.65666,     0.65766,     0.65866,     0.65966,     0.66066,     0.66166,     0.66266,     0.66366,     0.66466,     0.66567,     0.66667,     0.66767,     0.66867,     0.66967,     0.67067,     0.67167,\n",
       "           0.67267,     0.67367,     0.67467,     0.67568,     0.67668,     0.67768,     0.67868,     0.67968,     0.68068,     0.68168,     0.68268,     0.68368,     0.68468,     0.68569,     0.68669,     0.68769,     0.68869,     0.68969,     0.69069,     0.69169,     0.69269,     0.69369,     0.69469,      0.6957,\n",
       "            0.6967,      0.6977,      0.6987,      0.6997,      0.7007,      0.7017,      0.7027,      0.7037,      0.7047,     0.70571,     0.70671,     0.70771,     0.70871,     0.70971,     0.71071,     0.71171,     0.71271,     0.71371,     0.71471,     0.71572,     0.71672,     0.71772,     0.71872,     0.71972,\n",
       "           0.72072,     0.72172,     0.72272,     0.72372,     0.72472,     0.72573,     0.72673,     0.72773,     0.72873,     0.72973,     0.73073,     0.73173,     0.73273,     0.73373,     0.73473,     0.73574,     0.73674,     0.73774,     0.73874,     0.73974,     0.74074,     0.74174,     0.74274,     0.74374,\n",
       "           0.74474,     0.74575,     0.74675,     0.74775,     0.74875,     0.74975,     0.75075,     0.75175,     0.75275,     0.75375,     0.75475,     0.75576,     0.75676,     0.75776,     0.75876,     0.75976,     0.76076,     0.76176,     0.76276,     0.76376,     0.76476,     0.76577,     0.76677,     0.76777,\n",
       "           0.76877,     0.76977,     0.77077,     0.77177,     0.77277,     0.77377,     0.77477,     0.77578,     0.77678,     0.77778,     0.77878,     0.77978,     0.78078,     0.78178,     0.78278,     0.78378,     0.78478,     0.78579,     0.78679,     0.78779,     0.78879,     0.78979,     0.79079,     0.79179,\n",
       "           0.79279,     0.79379,     0.79479,      0.7958,      0.7968,      0.7978,      0.7988,      0.7998,      0.8008,      0.8018,      0.8028,      0.8038,      0.8048,     0.80581,     0.80681,     0.80781,     0.80881,     0.80981,     0.81081,     0.81181,     0.81281,     0.81381,     0.81481,     0.81582,\n",
       "           0.81682,     0.81782,     0.81882,     0.81982,     0.82082,     0.82182,     0.82282,     0.82382,     0.82482,     0.82583,     0.82683,     0.82783,     0.82883,     0.82983,     0.83083,     0.83183,     0.83283,     0.83383,     0.83483,     0.83584,     0.83684,     0.83784,     0.83884,     0.83984,\n",
       "           0.84084,     0.84184,     0.84284,     0.84384,     0.84484,     0.84585,     0.84685,     0.84785,     0.84885,     0.84985,     0.85085,     0.85185,     0.85285,     0.85385,     0.85485,     0.85586,     0.85686,     0.85786,     0.85886,     0.85986,     0.86086,     0.86186,     0.86286,     0.86386,\n",
       "           0.86486,     0.86587,     0.86687,     0.86787,     0.86887,     0.86987,     0.87087,     0.87187,     0.87287,     0.87387,     0.87487,     0.87588,     0.87688,     0.87788,     0.87888,     0.87988,     0.88088,     0.88188,     0.88288,     0.88388,     0.88488,     0.88589,     0.88689,     0.88789,\n",
       "           0.88889,     0.88989,     0.89089,     0.89189,     0.89289,     0.89389,     0.89489,      0.8959,      0.8969,      0.8979,      0.8989,      0.8999,      0.9009,      0.9019,      0.9029,      0.9039,      0.9049,     0.90591,     0.90691,     0.90791,     0.90891,     0.90991,     0.91091,     0.91191,\n",
       "           0.91291,     0.91391,     0.91491,     0.91592,     0.91692,     0.91792,     0.91892,     0.91992,     0.92092,     0.92192,     0.92292,     0.92392,     0.92492,     0.92593,     0.92693,     0.92793,     0.92893,     0.92993,     0.93093,     0.93193,     0.93293,     0.93393,     0.93493,     0.93594,\n",
       "           0.93694,     0.93794,     0.93894,     0.93994,     0.94094,     0.94194,     0.94294,     0.94394,     0.94494,     0.94595,     0.94695,     0.94795,     0.94895,     0.94995,     0.95095,     0.95195,     0.95295,     0.95395,     0.95495,     0.95596,     0.95696,     0.95796,     0.95896,     0.95996,\n",
       "           0.96096,     0.96196,     0.96296,     0.96396,     0.96496,     0.96597,     0.96697,     0.96797,     0.96897,     0.96997,     0.97097,     0.97197,     0.97297,     0.97397,     0.97497,     0.97598,     0.97698,     0.97798,     0.97898,     0.97998,     0.98098,     0.98198,     0.98298,     0.98398,\n",
       "           0.98498,     0.98599,     0.98699,     0.98799,     0.98899,     0.98999,     0.99099,     0.99199,     0.99299,     0.99399,     0.99499,       0.996,       0.997,       0.998,       0.999,           1]), array([[          1,           1,           1, ...,     0.03083,    0.015415,           0],\n",
       "       [          1,           1,           1, ...,   0.0087218,   0.0043609,           0]]), 'Recall', 'Precision'], [array([          0,    0.001001,    0.002002,    0.003003,    0.004004,    0.005005,    0.006006,    0.007007,    0.008008,    0.009009,     0.01001,    0.011011,    0.012012,    0.013013,    0.014014,    0.015015,    0.016016,    0.017017,    0.018018,    0.019019,     0.02002,    0.021021,    0.022022,    0.023023,\n",
       "          0.024024,    0.025025,    0.026026,    0.027027,    0.028028,    0.029029,     0.03003,    0.031031,    0.032032,    0.033033,    0.034034,    0.035035,    0.036036,    0.037037,    0.038038,    0.039039,     0.04004,    0.041041,    0.042042,    0.043043,    0.044044,    0.045045,    0.046046,    0.047047,\n",
       "          0.048048,    0.049049,     0.05005,    0.051051,    0.052052,    0.053053,    0.054054,    0.055055,    0.056056,    0.057057,    0.058058,    0.059059,     0.06006,    0.061061,    0.062062,    0.063063,    0.064064,    0.065065,    0.066066,    0.067067,    0.068068,    0.069069,     0.07007,    0.071071,\n",
       "          0.072072,    0.073073,    0.074074,    0.075075,    0.076076,    0.077077,    0.078078,    0.079079,     0.08008,    0.081081,    0.082082,    0.083083,    0.084084,    0.085085,    0.086086,    0.087087,    0.088088,    0.089089,     0.09009,    0.091091,    0.092092,    0.093093,    0.094094,    0.095095,\n",
       "          0.096096,    0.097097,    0.098098,    0.099099,      0.1001,      0.1011,      0.1021,      0.1031,      0.1041,     0.10511,     0.10611,     0.10711,     0.10811,     0.10911,     0.11011,     0.11111,     0.11211,     0.11311,     0.11411,     0.11512,     0.11612,     0.11712,     0.11812,     0.11912,\n",
       "           0.12012,     0.12112,     0.12212,     0.12312,     0.12412,     0.12513,     0.12613,     0.12713,     0.12813,     0.12913,     0.13013,     0.13113,     0.13213,     0.13313,     0.13413,     0.13514,     0.13614,     0.13714,     0.13814,     0.13914,     0.14014,     0.14114,     0.14214,     0.14314,\n",
       "           0.14414,     0.14515,     0.14615,     0.14715,     0.14815,     0.14915,     0.15015,     0.15115,     0.15215,     0.15315,     0.15415,     0.15516,     0.15616,     0.15716,     0.15816,     0.15916,     0.16016,     0.16116,     0.16216,     0.16316,     0.16416,     0.16517,     0.16617,     0.16717,\n",
       "           0.16817,     0.16917,     0.17017,     0.17117,     0.17217,     0.17317,     0.17417,     0.17518,     0.17618,     0.17718,     0.17818,     0.17918,     0.18018,     0.18118,     0.18218,     0.18318,     0.18418,     0.18519,     0.18619,     0.18719,     0.18819,     0.18919,     0.19019,     0.19119,\n",
       "           0.19219,     0.19319,     0.19419,      0.1952,      0.1962,      0.1972,      0.1982,      0.1992,      0.2002,      0.2012,      0.2022,      0.2032,      0.2042,     0.20521,     0.20621,     0.20721,     0.20821,     0.20921,     0.21021,     0.21121,     0.21221,     0.21321,     0.21421,     0.21522,\n",
       "           0.21622,     0.21722,     0.21822,     0.21922,     0.22022,     0.22122,     0.22222,     0.22322,     0.22422,     0.22523,     0.22623,     0.22723,     0.22823,     0.22923,     0.23023,     0.23123,     0.23223,     0.23323,     0.23423,     0.23524,     0.23624,     0.23724,     0.23824,     0.23924,\n",
       "           0.24024,     0.24124,     0.24224,     0.24324,     0.24424,     0.24525,     0.24625,     0.24725,     0.24825,     0.24925,     0.25025,     0.25125,     0.25225,     0.25325,     0.25425,     0.25526,     0.25626,     0.25726,     0.25826,     0.25926,     0.26026,     0.26126,     0.26226,     0.26326,\n",
       "           0.26426,     0.26527,     0.26627,     0.26727,     0.26827,     0.26927,     0.27027,     0.27127,     0.27227,     0.27327,     0.27427,     0.27528,     0.27628,     0.27728,     0.27828,     0.27928,     0.28028,     0.28128,     0.28228,     0.28328,     0.28428,     0.28529,     0.28629,     0.28729,\n",
       "           0.28829,     0.28929,     0.29029,     0.29129,     0.29229,     0.29329,     0.29429,      0.2953,      0.2963,      0.2973,      0.2983,      0.2993,      0.3003,      0.3013,      0.3023,      0.3033,      0.3043,     0.30531,     0.30631,     0.30731,     0.30831,     0.30931,     0.31031,     0.31131,\n",
       "           0.31231,     0.31331,     0.31431,     0.31532,     0.31632,     0.31732,     0.31832,     0.31932,     0.32032,     0.32132,     0.32232,     0.32332,     0.32432,     0.32533,     0.32633,     0.32733,     0.32833,     0.32933,     0.33033,     0.33133,     0.33233,     0.33333,     0.33433,     0.33534,\n",
       "           0.33634,     0.33734,     0.33834,     0.33934,     0.34034,     0.34134,     0.34234,     0.34334,     0.34434,     0.34535,     0.34635,     0.34735,     0.34835,     0.34935,     0.35035,     0.35135,     0.35235,     0.35335,     0.35435,     0.35536,     0.35636,     0.35736,     0.35836,     0.35936,\n",
       "           0.36036,     0.36136,     0.36236,     0.36336,     0.36436,     0.36537,     0.36637,     0.36737,     0.36837,     0.36937,     0.37037,     0.37137,     0.37237,     0.37337,     0.37437,     0.37538,     0.37638,     0.37738,     0.37838,     0.37938,     0.38038,     0.38138,     0.38238,     0.38338,\n",
       "           0.38438,     0.38539,     0.38639,     0.38739,     0.38839,     0.38939,     0.39039,     0.39139,     0.39239,     0.39339,     0.39439,      0.3954,      0.3964,      0.3974,      0.3984,      0.3994,      0.4004,      0.4014,      0.4024,      0.4034,      0.4044,     0.40541,     0.40641,     0.40741,\n",
       "           0.40841,     0.40941,     0.41041,     0.41141,     0.41241,     0.41341,     0.41441,     0.41542,     0.41642,     0.41742,     0.41842,     0.41942,     0.42042,     0.42142,     0.42242,     0.42342,     0.42442,     0.42543,     0.42643,     0.42743,     0.42843,     0.42943,     0.43043,     0.43143,\n",
       "           0.43243,     0.43343,     0.43443,     0.43544,     0.43644,     0.43744,     0.43844,     0.43944,     0.44044,     0.44144,     0.44244,     0.44344,     0.44444,     0.44545,     0.44645,     0.44745,     0.44845,     0.44945,     0.45045,     0.45145,     0.45245,     0.45345,     0.45445,     0.45546,\n",
       "           0.45646,     0.45746,     0.45846,     0.45946,     0.46046,     0.46146,     0.46246,     0.46346,     0.46446,     0.46547,     0.46647,     0.46747,     0.46847,     0.46947,     0.47047,     0.47147,     0.47247,     0.47347,     0.47447,     0.47548,     0.47648,     0.47748,     0.47848,     0.47948,\n",
       "           0.48048,     0.48148,     0.48248,     0.48348,     0.48448,     0.48549,     0.48649,     0.48749,     0.48849,     0.48949,     0.49049,     0.49149,     0.49249,     0.49349,     0.49449,      0.4955,      0.4965,      0.4975,      0.4985,      0.4995,      0.5005,      0.5015,      0.5025,      0.5035,\n",
       "            0.5045,     0.50551,     0.50651,     0.50751,     0.50851,     0.50951,     0.51051,     0.51151,     0.51251,     0.51351,     0.51451,     0.51552,     0.51652,     0.51752,     0.51852,     0.51952,     0.52052,     0.52152,     0.52252,     0.52352,     0.52452,     0.52553,     0.52653,     0.52753,\n",
       "           0.52853,     0.52953,     0.53053,     0.53153,     0.53253,     0.53353,     0.53453,     0.53554,     0.53654,     0.53754,     0.53854,     0.53954,     0.54054,     0.54154,     0.54254,     0.54354,     0.54454,     0.54555,     0.54655,     0.54755,     0.54855,     0.54955,     0.55055,     0.55155,\n",
       "           0.55255,     0.55355,     0.55455,     0.55556,     0.55656,     0.55756,     0.55856,     0.55956,     0.56056,     0.56156,     0.56256,     0.56356,     0.56456,     0.56557,     0.56657,     0.56757,     0.56857,     0.56957,     0.57057,     0.57157,     0.57257,     0.57357,     0.57457,     0.57558,\n",
       "           0.57658,     0.57758,     0.57858,     0.57958,     0.58058,     0.58158,     0.58258,     0.58358,     0.58458,     0.58559,     0.58659,     0.58759,     0.58859,     0.58959,     0.59059,     0.59159,     0.59259,     0.59359,     0.59459,      0.5956,      0.5966,      0.5976,      0.5986,      0.5996,\n",
       "            0.6006,      0.6016,      0.6026,      0.6036,      0.6046,     0.60561,     0.60661,     0.60761,     0.60861,     0.60961,     0.61061,     0.61161,     0.61261,     0.61361,     0.61461,     0.61562,     0.61662,     0.61762,     0.61862,     0.61962,     0.62062,     0.62162,     0.62262,     0.62362,\n",
       "           0.62462,     0.62563,     0.62663,     0.62763,     0.62863,     0.62963,     0.63063,     0.63163,     0.63263,     0.63363,     0.63463,     0.63564,     0.63664,     0.63764,     0.63864,     0.63964,     0.64064,     0.64164,     0.64264,     0.64364,     0.64464,     0.64565,     0.64665,     0.64765,\n",
       "           0.64865,     0.64965,     0.65065,     0.65165,     0.65265,     0.65365,     0.65465,     0.65566,     0.65666,     0.65766,     0.65866,     0.65966,     0.66066,     0.66166,     0.66266,     0.66366,     0.66466,     0.66567,     0.66667,     0.66767,     0.66867,     0.66967,     0.67067,     0.67167,\n",
       "           0.67267,     0.67367,     0.67467,     0.67568,     0.67668,     0.67768,     0.67868,     0.67968,     0.68068,     0.68168,     0.68268,     0.68368,     0.68468,     0.68569,     0.68669,     0.68769,     0.68869,     0.68969,     0.69069,     0.69169,     0.69269,     0.69369,     0.69469,      0.6957,\n",
       "            0.6967,      0.6977,      0.6987,      0.6997,      0.7007,      0.7017,      0.7027,      0.7037,      0.7047,     0.70571,     0.70671,     0.70771,     0.70871,     0.70971,     0.71071,     0.71171,     0.71271,     0.71371,     0.71471,     0.71572,     0.71672,     0.71772,     0.71872,     0.71972,\n",
       "           0.72072,     0.72172,     0.72272,     0.72372,     0.72472,     0.72573,     0.72673,     0.72773,     0.72873,     0.72973,     0.73073,     0.73173,     0.73273,     0.73373,     0.73473,     0.73574,     0.73674,     0.73774,     0.73874,     0.73974,     0.74074,     0.74174,     0.74274,     0.74374,\n",
       "           0.74474,     0.74575,     0.74675,     0.74775,     0.74875,     0.74975,     0.75075,     0.75175,     0.75275,     0.75375,     0.75475,     0.75576,     0.75676,     0.75776,     0.75876,     0.75976,     0.76076,     0.76176,     0.76276,     0.76376,     0.76476,     0.76577,     0.76677,     0.76777,\n",
       "           0.76877,     0.76977,     0.77077,     0.77177,     0.77277,     0.77377,     0.77477,     0.77578,     0.77678,     0.77778,     0.77878,     0.77978,     0.78078,     0.78178,     0.78278,     0.78378,     0.78478,     0.78579,     0.78679,     0.78779,     0.78879,     0.78979,     0.79079,     0.79179,\n",
       "           0.79279,     0.79379,     0.79479,      0.7958,      0.7968,      0.7978,      0.7988,      0.7998,      0.8008,      0.8018,      0.8028,      0.8038,      0.8048,     0.80581,     0.80681,     0.80781,     0.80881,     0.80981,     0.81081,     0.81181,     0.81281,     0.81381,     0.81481,     0.81582,\n",
       "           0.81682,     0.81782,     0.81882,     0.81982,     0.82082,     0.82182,     0.82282,     0.82382,     0.82482,     0.82583,     0.82683,     0.82783,     0.82883,     0.82983,     0.83083,     0.83183,     0.83283,     0.83383,     0.83483,     0.83584,     0.83684,     0.83784,     0.83884,     0.83984,\n",
       "           0.84084,     0.84184,     0.84284,     0.84384,     0.84484,     0.84585,     0.84685,     0.84785,     0.84885,     0.84985,     0.85085,     0.85185,     0.85285,     0.85385,     0.85485,     0.85586,     0.85686,     0.85786,     0.85886,     0.85986,     0.86086,     0.86186,     0.86286,     0.86386,\n",
       "           0.86486,     0.86587,     0.86687,     0.86787,     0.86887,     0.86987,     0.87087,     0.87187,     0.87287,     0.87387,     0.87487,     0.87588,     0.87688,     0.87788,     0.87888,     0.87988,     0.88088,     0.88188,     0.88288,     0.88388,     0.88488,     0.88589,     0.88689,     0.88789,\n",
       "           0.88889,     0.88989,     0.89089,     0.89189,     0.89289,     0.89389,     0.89489,      0.8959,      0.8969,      0.8979,      0.8989,      0.8999,      0.9009,      0.9019,      0.9029,      0.9039,      0.9049,     0.90591,     0.90691,     0.90791,     0.90891,     0.90991,     0.91091,     0.91191,\n",
       "           0.91291,     0.91391,     0.91491,     0.91592,     0.91692,     0.91792,     0.91892,     0.91992,     0.92092,     0.92192,     0.92292,     0.92392,     0.92492,     0.92593,     0.92693,     0.92793,     0.92893,     0.92993,     0.93093,     0.93193,     0.93293,     0.93393,     0.93493,     0.93594,\n",
       "           0.93694,     0.93794,     0.93894,     0.93994,     0.94094,     0.94194,     0.94294,     0.94394,     0.94494,     0.94595,     0.94695,     0.94795,     0.94895,     0.94995,     0.95095,     0.95195,     0.95295,     0.95395,     0.95495,     0.95596,     0.95696,     0.95796,     0.95896,     0.95996,\n",
       "           0.96096,     0.96196,     0.96296,     0.96396,     0.96496,     0.96597,     0.96697,     0.96797,     0.96897,     0.96997,     0.97097,     0.97197,     0.97297,     0.97397,     0.97497,     0.97598,     0.97698,     0.97798,     0.97898,     0.97998,     0.98098,     0.98198,     0.98298,     0.98398,\n",
       "           0.98498,     0.98599,     0.98699,     0.98799,     0.98899,     0.98999,     0.99099,     0.99199,     0.99299,     0.99399,     0.99499,       0.996,       0.997,       0.998,       0.999,           1]), array([[    0.35349,     0.35349,     0.44533, ...,           0,           0,           0],\n",
       "       [    0.18281,     0.18281,     0.25628, ...,           0,           0,           0]]), 'Confidence', 'F1'], [array([          0,    0.001001,    0.002002,    0.003003,    0.004004,    0.005005,    0.006006,    0.007007,    0.008008,    0.009009,     0.01001,    0.011011,    0.012012,    0.013013,    0.014014,    0.015015,    0.016016,    0.017017,    0.018018,    0.019019,     0.02002,    0.021021,    0.022022,    0.023023,\n",
       "          0.024024,    0.025025,    0.026026,    0.027027,    0.028028,    0.029029,     0.03003,    0.031031,    0.032032,    0.033033,    0.034034,    0.035035,    0.036036,    0.037037,    0.038038,    0.039039,     0.04004,    0.041041,    0.042042,    0.043043,    0.044044,    0.045045,    0.046046,    0.047047,\n",
       "          0.048048,    0.049049,     0.05005,    0.051051,    0.052052,    0.053053,    0.054054,    0.055055,    0.056056,    0.057057,    0.058058,    0.059059,     0.06006,    0.061061,    0.062062,    0.063063,    0.064064,    0.065065,    0.066066,    0.067067,    0.068068,    0.069069,     0.07007,    0.071071,\n",
       "          0.072072,    0.073073,    0.074074,    0.075075,    0.076076,    0.077077,    0.078078,    0.079079,     0.08008,    0.081081,    0.082082,    0.083083,    0.084084,    0.085085,    0.086086,    0.087087,    0.088088,    0.089089,     0.09009,    0.091091,    0.092092,    0.093093,    0.094094,    0.095095,\n",
       "          0.096096,    0.097097,    0.098098,    0.099099,      0.1001,      0.1011,      0.1021,      0.1031,      0.1041,     0.10511,     0.10611,     0.10711,     0.10811,     0.10911,     0.11011,     0.11111,     0.11211,     0.11311,     0.11411,     0.11512,     0.11612,     0.11712,     0.11812,     0.11912,\n",
       "           0.12012,     0.12112,     0.12212,     0.12312,     0.12412,     0.12513,     0.12613,     0.12713,     0.12813,     0.12913,     0.13013,     0.13113,     0.13213,     0.13313,     0.13413,     0.13514,     0.13614,     0.13714,     0.13814,     0.13914,     0.14014,     0.14114,     0.14214,     0.14314,\n",
       "           0.14414,     0.14515,     0.14615,     0.14715,     0.14815,     0.14915,     0.15015,     0.15115,     0.15215,     0.15315,     0.15415,     0.15516,     0.15616,     0.15716,     0.15816,     0.15916,     0.16016,     0.16116,     0.16216,     0.16316,     0.16416,     0.16517,     0.16617,     0.16717,\n",
       "           0.16817,     0.16917,     0.17017,     0.17117,     0.17217,     0.17317,     0.17417,     0.17518,     0.17618,     0.17718,     0.17818,     0.17918,     0.18018,     0.18118,     0.18218,     0.18318,     0.18418,     0.18519,     0.18619,     0.18719,     0.18819,     0.18919,     0.19019,     0.19119,\n",
       "           0.19219,     0.19319,     0.19419,      0.1952,      0.1962,      0.1972,      0.1982,      0.1992,      0.2002,      0.2012,      0.2022,      0.2032,      0.2042,     0.20521,     0.20621,     0.20721,     0.20821,     0.20921,     0.21021,     0.21121,     0.21221,     0.21321,     0.21421,     0.21522,\n",
       "           0.21622,     0.21722,     0.21822,     0.21922,     0.22022,     0.22122,     0.22222,     0.22322,     0.22422,     0.22523,     0.22623,     0.22723,     0.22823,     0.22923,     0.23023,     0.23123,     0.23223,     0.23323,     0.23423,     0.23524,     0.23624,     0.23724,     0.23824,     0.23924,\n",
       "           0.24024,     0.24124,     0.24224,     0.24324,     0.24424,     0.24525,     0.24625,     0.24725,     0.24825,     0.24925,     0.25025,     0.25125,     0.25225,     0.25325,     0.25425,     0.25526,     0.25626,     0.25726,     0.25826,     0.25926,     0.26026,     0.26126,     0.26226,     0.26326,\n",
       "           0.26426,     0.26527,     0.26627,     0.26727,     0.26827,     0.26927,     0.27027,     0.27127,     0.27227,     0.27327,     0.27427,     0.27528,     0.27628,     0.27728,     0.27828,     0.27928,     0.28028,     0.28128,     0.28228,     0.28328,     0.28428,     0.28529,     0.28629,     0.28729,\n",
       "           0.28829,     0.28929,     0.29029,     0.29129,     0.29229,     0.29329,     0.29429,      0.2953,      0.2963,      0.2973,      0.2983,      0.2993,      0.3003,      0.3013,      0.3023,      0.3033,      0.3043,     0.30531,     0.30631,     0.30731,     0.30831,     0.30931,     0.31031,     0.31131,\n",
       "           0.31231,     0.31331,     0.31431,     0.31532,     0.31632,     0.31732,     0.31832,     0.31932,     0.32032,     0.32132,     0.32232,     0.32332,     0.32432,     0.32533,     0.32633,     0.32733,     0.32833,     0.32933,     0.33033,     0.33133,     0.33233,     0.33333,     0.33433,     0.33534,\n",
       "           0.33634,     0.33734,     0.33834,     0.33934,     0.34034,     0.34134,     0.34234,     0.34334,     0.34434,     0.34535,     0.34635,     0.34735,     0.34835,     0.34935,     0.35035,     0.35135,     0.35235,     0.35335,     0.35435,     0.35536,     0.35636,     0.35736,     0.35836,     0.35936,\n",
       "           0.36036,     0.36136,     0.36236,     0.36336,     0.36436,     0.36537,     0.36637,     0.36737,     0.36837,     0.36937,     0.37037,     0.37137,     0.37237,     0.37337,     0.37437,     0.37538,     0.37638,     0.37738,     0.37838,     0.37938,     0.38038,     0.38138,     0.38238,     0.38338,\n",
       "           0.38438,     0.38539,     0.38639,     0.38739,     0.38839,     0.38939,     0.39039,     0.39139,     0.39239,     0.39339,     0.39439,      0.3954,      0.3964,      0.3974,      0.3984,      0.3994,      0.4004,      0.4014,      0.4024,      0.4034,      0.4044,     0.40541,     0.40641,     0.40741,\n",
       "           0.40841,     0.40941,     0.41041,     0.41141,     0.41241,     0.41341,     0.41441,     0.41542,     0.41642,     0.41742,     0.41842,     0.41942,     0.42042,     0.42142,     0.42242,     0.42342,     0.42442,     0.42543,     0.42643,     0.42743,     0.42843,     0.42943,     0.43043,     0.43143,\n",
       "           0.43243,     0.43343,     0.43443,     0.43544,     0.43644,     0.43744,     0.43844,     0.43944,     0.44044,     0.44144,     0.44244,     0.44344,     0.44444,     0.44545,     0.44645,     0.44745,     0.44845,     0.44945,     0.45045,     0.45145,     0.45245,     0.45345,     0.45445,     0.45546,\n",
       "           0.45646,     0.45746,     0.45846,     0.45946,     0.46046,     0.46146,     0.46246,     0.46346,     0.46446,     0.46547,     0.46647,     0.46747,     0.46847,     0.46947,     0.47047,     0.47147,     0.47247,     0.47347,     0.47447,     0.47548,     0.47648,     0.47748,     0.47848,     0.47948,\n",
       "           0.48048,     0.48148,     0.48248,     0.48348,     0.48448,     0.48549,     0.48649,     0.48749,     0.48849,     0.48949,     0.49049,     0.49149,     0.49249,     0.49349,     0.49449,      0.4955,      0.4965,      0.4975,      0.4985,      0.4995,      0.5005,      0.5015,      0.5025,      0.5035,\n",
       "            0.5045,     0.50551,     0.50651,     0.50751,     0.50851,     0.50951,     0.51051,     0.51151,     0.51251,     0.51351,     0.51451,     0.51552,     0.51652,     0.51752,     0.51852,     0.51952,     0.52052,     0.52152,     0.52252,     0.52352,     0.52452,     0.52553,     0.52653,     0.52753,\n",
       "           0.52853,     0.52953,     0.53053,     0.53153,     0.53253,     0.53353,     0.53453,     0.53554,     0.53654,     0.53754,     0.53854,     0.53954,     0.54054,     0.54154,     0.54254,     0.54354,     0.54454,     0.54555,     0.54655,     0.54755,     0.54855,     0.54955,     0.55055,     0.55155,\n",
       "           0.55255,     0.55355,     0.55455,     0.55556,     0.55656,     0.55756,     0.55856,     0.55956,     0.56056,     0.56156,     0.56256,     0.56356,     0.56456,     0.56557,     0.56657,     0.56757,     0.56857,     0.56957,     0.57057,     0.57157,     0.57257,     0.57357,     0.57457,     0.57558,\n",
       "           0.57658,     0.57758,     0.57858,     0.57958,     0.58058,     0.58158,     0.58258,     0.58358,     0.58458,     0.58559,     0.58659,     0.58759,     0.58859,     0.58959,     0.59059,     0.59159,     0.59259,     0.59359,     0.59459,      0.5956,      0.5966,      0.5976,      0.5986,      0.5996,\n",
       "            0.6006,      0.6016,      0.6026,      0.6036,      0.6046,     0.60561,     0.60661,     0.60761,     0.60861,     0.60961,     0.61061,     0.61161,     0.61261,     0.61361,     0.61461,     0.61562,     0.61662,     0.61762,     0.61862,     0.61962,     0.62062,     0.62162,     0.62262,     0.62362,\n",
       "           0.62462,     0.62563,     0.62663,     0.62763,     0.62863,     0.62963,     0.63063,     0.63163,     0.63263,     0.63363,     0.63463,     0.63564,     0.63664,     0.63764,     0.63864,     0.63964,     0.64064,     0.64164,     0.64264,     0.64364,     0.64464,     0.64565,     0.64665,     0.64765,\n",
       "           0.64865,     0.64965,     0.65065,     0.65165,     0.65265,     0.65365,     0.65465,     0.65566,     0.65666,     0.65766,     0.65866,     0.65966,     0.66066,     0.66166,     0.66266,     0.66366,     0.66466,     0.66567,     0.66667,     0.66767,     0.66867,     0.66967,     0.67067,     0.67167,\n",
       "           0.67267,     0.67367,     0.67467,     0.67568,     0.67668,     0.67768,     0.67868,     0.67968,     0.68068,     0.68168,     0.68268,     0.68368,     0.68468,     0.68569,     0.68669,     0.68769,     0.68869,     0.68969,     0.69069,     0.69169,     0.69269,     0.69369,     0.69469,      0.6957,\n",
       "            0.6967,      0.6977,      0.6987,      0.6997,      0.7007,      0.7017,      0.7027,      0.7037,      0.7047,     0.70571,     0.70671,     0.70771,     0.70871,     0.70971,     0.71071,     0.71171,     0.71271,     0.71371,     0.71471,     0.71572,     0.71672,     0.71772,     0.71872,     0.71972,\n",
       "           0.72072,     0.72172,     0.72272,     0.72372,     0.72472,     0.72573,     0.72673,     0.72773,     0.72873,     0.72973,     0.73073,     0.73173,     0.73273,     0.73373,     0.73473,     0.73574,     0.73674,     0.73774,     0.73874,     0.73974,     0.74074,     0.74174,     0.74274,     0.74374,\n",
       "           0.74474,     0.74575,     0.74675,     0.74775,     0.74875,     0.74975,     0.75075,     0.75175,     0.75275,     0.75375,     0.75475,     0.75576,     0.75676,     0.75776,     0.75876,     0.75976,     0.76076,     0.76176,     0.76276,     0.76376,     0.76476,     0.76577,     0.76677,     0.76777,\n",
       "           0.76877,     0.76977,     0.77077,     0.77177,     0.77277,     0.77377,     0.77477,     0.77578,     0.77678,     0.77778,     0.77878,     0.77978,     0.78078,     0.78178,     0.78278,     0.78378,     0.78478,     0.78579,     0.78679,     0.78779,     0.78879,     0.78979,     0.79079,     0.79179,\n",
       "           0.79279,     0.79379,     0.79479,      0.7958,      0.7968,      0.7978,      0.7988,      0.7998,      0.8008,      0.8018,      0.8028,      0.8038,      0.8048,     0.80581,     0.80681,     0.80781,     0.80881,     0.80981,     0.81081,     0.81181,     0.81281,     0.81381,     0.81481,     0.81582,\n",
       "           0.81682,     0.81782,     0.81882,     0.81982,     0.82082,     0.82182,     0.82282,     0.82382,     0.82482,     0.82583,     0.82683,     0.82783,     0.82883,     0.82983,     0.83083,     0.83183,     0.83283,     0.83383,     0.83483,     0.83584,     0.83684,     0.83784,     0.83884,     0.83984,\n",
       "           0.84084,     0.84184,     0.84284,     0.84384,     0.84484,     0.84585,     0.84685,     0.84785,     0.84885,     0.84985,     0.85085,     0.85185,     0.85285,     0.85385,     0.85485,     0.85586,     0.85686,     0.85786,     0.85886,     0.85986,     0.86086,     0.86186,     0.86286,     0.86386,\n",
       "           0.86486,     0.86587,     0.86687,     0.86787,     0.86887,     0.86987,     0.87087,     0.87187,     0.87287,     0.87387,     0.87487,     0.87588,     0.87688,     0.87788,     0.87888,     0.87988,     0.88088,     0.88188,     0.88288,     0.88388,     0.88488,     0.88589,     0.88689,     0.88789,\n",
       "           0.88889,     0.88989,     0.89089,     0.89189,     0.89289,     0.89389,     0.89489,      0.8959,      0.8969,      0.8979,      0.8989,      0.8999,      0.9009,      0.9019,      0.9029,      0.9039,      0.9049,     0.90591,     0.90691,     0.90791,     0.90891,     0.90991,     0.91091,     0.91191,\n",
       "           0.91291,     0.91391,     0.91491,     0.91592,     0.91692,     0.91792,     0.91892,     0.91992,     0.92092,     0.92192,     0.92292,     0.92392,     0.92492,     0.92593,     0.92693,     0.92793,     0.92893,     0.92993,     0.93093,     0.93193,     0.93293,     0.93393,     0.93493,     0.93594,\n",
       "           0.93694,     0.93794,     0.93894,     0.93994,     0.94094,     0.94194,     0.94294,     0.94394,     0.94494,     0.94595,     0.94695,     0.94795,     0.94895,     0.94995,     0.95095,     0.95195,     0.95295,     0.95395,     0.95495,     0.95596,     0.95696,     0.95796,     0.95896,     0.95996,\n",
       "           0.96096,     0.96196,     0.96296,     0.96396,     0.96496,     0.96597,     0.96697,     0.96797,     0.96897,     0.96997,     0.97097,     0.97197,     0.97297,     0.97397,     0.97497,     0.97598,     0.97698,     0.97798,     0.97898,     0.97998,     0.98098,     0.98198,     0.98298,     0.98398,\n",
       "           0.98498,     0.98599,     0.98699,     0.98799,     0.98899,     0.98999,     0.99099,     0.99199,     0.99299,     0.99399,     0.99499,       0.996,       0.997,       0.998,       0.999,           1]), array([[    0.21534,     0.21534,     0.28782, ...,           1,           1,           1],\n",
       "       [    0.10084,     0.10084,      0.1476, ...,           1,           1,           1]]), 'Confidence', 'Precision'], [array([          0,    0.001001,    0.002002,    0.003003,    0.004004,    0.005005,    0.006006,    0.007007,    0.008008,    0.009009,     0.01001,    0.011011,    0.012012,    0.013013,    0.014014,    0.015015,    0.016016,    0.017017,    0.018018,    0.019019,     0.02002,    0.021021,    0.022022,    0.023023,\n",
       "          0.024024,    0.025025,    0.026026,    0.027027,    0.028028,    0.029029,     0.03003,    0.031031,    0.032032,    0.033033,    0.034034,    0.035035,    0.036036,    0.037037,    0.038038,    0.039039,     0.04004,    0.041041,    0.042042,    0.043043,    0.044044,    0.045045,    0.046046,    0.047047,\n",
       "          0.048048,    0.049049,     0.05005,    0.051051,    0.052052,    0.053053,    0.054054,    0.055055,    0.056056,    0.057057,    0.058058,    0.059059,     0.06006,    0.061061,    0.062062,    0.063063,    0.064064,    0.065065,    0.066066,    0.067067,    0.068068,    0.069069,     0.07007,    0.071071,\n",
       "          0.072072,    0.073073,    0.074074,    0.075075,    0.076076,    0.077077,    0.078078,    0.079079,     0.08008,    0.081081,    0.082082,    0.083083,    0.084084,    0.085085,    0.086086,    0.087087,    0.088088,    0.089089,     0.09009,    0.091091,    0.092092,    0.093093,    0.094094,    0.095095,\n",
       "          0.096096,    0.097097,    0.098098,    0.099099,      0.1001,      0.1011,      0.1021,      0.1031,      0.1041,     0.10511,     0.10611,     0.10711,     0.10811,     0.10911,     0.11011,     0.11111,     0.11211,     0.11311,     0.11411,     0.11512,     0.11612,     0.11712,     0.11812,     0.11912,\n",
       "           0.12012,     0.12112,     0.12212,     0.12312,     0.12412,     0.12513,     0.12613,     0.12713,     0.12813,     0.12913,     0.13013,     0.13113,     0.13213,     0.13313,     0.13413,     0.13514,     0.13614,     0.13714,     0.13814,     0.13914,     0.14014,     0.14114,     0.14214,     0.14314,\n",
       "           0.14414,     0.14515,     0.14615,     0.14715,     0.14815,     0.14915,     0.15015,     0.15115,     0.15215,     0.15315,     0.15415,     0.15516,     0.15616,     0.15716,     0.15816,     0.15916,     0.16016,     0.16116,     0.16216,     0.16316,     0.16416,     0.16517,     0.16617,     0.16717,\n",
       "           0.16817,     0.16917,     0.17017,     0.17117,     0.17217,     0.17317,     0.17417,     0.17518,     0.17618,     0.17718,     0.17818,     0.17918,     0.18018,     0.18118,     0.18218,     0.18318,     0.18418,     0.18519,     0.18619,     0.18719,     0.18819,     0.18919,     0.19019,     0.19119,\n",
       "           0.19219,     0.19319,     0.19419,      0.1952,      0.1962,      0.1972,      0.1982,      0.1992,      0.2002,      0.2012,      0.2022,      0.2032,      0.2042,     0.20521,     0.20621,     0.20721,     0.20821,     0.20921,     0.21021,     0.21121,     0.21221,     0.21321,     0.21421,     0.21522,\n",
       "           0.21622,     0.21722,     0.21822,     0.21922,     0.22022,     0.22122,     0.22222,     0.22322,     0.22422,     0.22523,     0.22623,     0.22723,     0.22823,     0.22923,     0.23023,     0.23123,     0.23223,     0.23323,     0.23423,     0.23524,     0.23624,     0.23724,     0.23824,     0.23924,\n",
       "           0.24024,     0.24124,     0.24224,     0.24324,     0.24424,     0.24525,     0.24625,     0.24725,     0.24825,     0.24925,     0.25025,     0.25125,     0.25225,     0.25325,     0.25425,     0.25526,     0.25626,     0.25726,     0.25826,     0.25926,     0.26026,     0.26126,     0.26226,     0.26326,\n",
       "           0.26426,     0.26527,     0.26627,     0.26727,     0.26827,     0.26927,     0.27027,     0.27127,     0.27227,     0.27327,     0.27427,     0.27528,     0.27628,     0.27728,     0.27828,     0.27928,     0.28028,     0.28128,     0.28228,     0.28328,     0.28428,     0.28529,     0.28629,     0.28729,\n",
       "           0.28829,     0.28929,     0.29029,     0.29129,     0.29229,     0.29329,     0.29429,      0.2953,      0.2963,      0.2973,      0.2983,      0.2993,      0.3003,      0.3013,      0.3023,      0.3033,      0.3043,     0.30531,     0.30631,     0.30731,     0.30831,     0.30931,     0.31031,     0.31131,\n",
       "           0.31231,     0.31331,     0.31431,     0.31532,     0.31632,     0.31732,     0.31832,     0.31932,     0.32032,     0.32132,     0.32232,     0.32332,     0.32432,     0.32533,     0.32633,     0.32733,     0.32833,     0.32933,     0.33033,     0.33133,     0.33233,     0.33333,     0.33433,     0.33534,\n",
       "           0.33634,     0.33734,     0.33834,     0.33934,     0.34034,     0.34134,     0.34234,     0.34334,     0.34434,     0.34535,     0.34635,     0.34735,     0.34835,     0.34935,     0.35035,     0.35135,     0.35235,     0.35335,     0.35435,     0.35536,     0.35636,     0.35736,     0.35836,     0.35936,\n",
       "           0.36036,     0.36136,     0.36236,     0.36336,     0.36436,     0.36537,     0.36637,     0.36737,     0.36837,     0.36937,     0.37037,     0.37137,     0.37237,     0.37337,     0.37437,     0.37538,     0.37638,     0.37738,     0.37838,     0.37938,     0.38038,     0.38138,     0.38238,     0.38338,\n",
       "           0.38438,     0.38539,     0.38639,     0.38739,     0.38839,     0.38939,     0.39039,     0.39139,     0.39239,     0.39339,     0.39439,      0.3954,      0.3964,      0.3974,      0.3984,      0.3994,      0.4004,      0.4014,      0.4024,      0.4034,      0.4044,     0.40541,     0.40641,     0.40741,\n",
       "           0.40841,     0.40941,     0.41041,     0.41141,     0.41241,     0.41341,     0.41441,     0.41542,     0.41642,     0.41742,     0.41842,     0.41942,     0.42042,     0.42142,     0.42242,     0.42342,     0.42442,     0.42543,     0.42643,     0.42743,     0.42843,     0.42943,     0.43043,     0.43143,\n",
       "           0.43243,     0.43343,     0.43443,     0.43544,     0.43644,     0.43744,     0.43844,     0.43944,     0.44044,     0.44144,     0.44244,     0.44344,     0.44444,     0.44545,     0.44645,     0.44745,     0.44845,     0.44945,     0.45045,     0.45145,     0.45245,     0.45345,     0.45445,     0.45546,\n",
       "           0.45646,     0.45746,     0.45846,     0.45946,     0.46046,     0.46146,     0.46246,     0.46346,     0.46446,     0.46547,     0.46647,     0.46747,     0.46847,     0.46947,     0.47047,     0.47147,     0.47247,     0.47347,     0.47447,     0.47548,     0.47648,     0.47748,     0.47848,     0.47948,\n",
       "           0.48048,     0.48148,     0.48248,     0.48348,     0.48448,     0.48549,     0.48649,     0.48749,     0.48849,     0.48949,     0.49049,     0.49149,     0.49249,     0.49349,     0.49449,      0.4955,      0.4965,      0.4975,      0.4985,      0.4995,      0.5005,      0.5015,      0.5025,      0.5035,\n",
       "            0.5045,     0.50551,     0.50651,     0.50751,     0.50851,     0.50951,     0.51051,     0.51151,     0.51251,     0.51351,     0.51451,     0.51552,     0.51652,     0.51752,     0.51852,     0.51952,     0.52052,     0.52152,     0.52252,     0.52352,     0.52452,     0.52553,     0.52653,     0.52753,\n",
       "           0.52853,     0.52953,     0.53053,     0.53153,     0.53253,     0.53353,     0.53453,     0.53554,     0.53654,     0.53754,     0.53854,     0.53954,     0.54054,     0.54154,     0.54254,     0.54354,     0.54454,     0.54555,     0.54655,     0.54755,     0.54855,     0.54955,     0.55055,     0.55155,\n",
       "           0.55255,     0.55355,     0.55455,     0.55556,     0.55656,     0.55756,     0.55856,     0.55956,     0.56056,     0.56156,     0.56256,     0.56356,     0.56456,     0.56557,     0.56657,     0.56757,     0.56857,     0.56957,     0.57057,     0.57157,     0.57257,     0.57357,     0.57457,     0.57558,\n",
       "           0.57658,     0.57758,     0.57858,     0.57958,     0.58058,     0.58158,     0.58258,     0.58358,     0.58458,     0.58559,     0.58659,     0.58759,     0.58859,     0.58959,     0.59059,     0.59159,     0.59259,     0.59359,     0.59459,      0.5956,      0.5966,      0.5976,      0.5986,      0.5996,\n",
       "            0.6006,      0.6016,      0.6026,      0.6036,      0.6046,     0.60561,     0.60661,     0.60761,     0.60861,     0.60961,     0.61061,     0.61161,     0.61261,     0.61361,     0.61461,     0.61562,     0.61662,     0.61762,     0.61862,     0.61962,     0.62062,     0.62162,     0.62262,     0.62362,\n",
       "           0.62462,     0.62563,     0.62663,     0.62763,     0.62863,     0.62963,     0.63063,     0.63163,     0.63263,     0.63363,     0.63463,     0.63564,     0.63664,     0.63764,     0.63864,     0.63964,     0.64064,     0.64164,     0.64264,     0.64364,     0.64464,     0.64565,     0.64665,     0.64765,\n",
       "           0.64865,     0.64965,     0.65065,     0.65165,     0.65265,     0.65365,     0.65465,     0.65566,     0.65666,     0.65766,     0.65866,     0.65966,     0.66066,     0.66166,     0.66266,     0.66366,     0.66466,     0.66567,     0.66667,     0.66767,     0.66867,     0.66967,     0.67067,     0.67167,\n",
       "           0.67267,     0.67367,     0.67467,     0.67568,     0.67668,     0.67768,     0.67868,     0.67968,     0.68068,     0.68168,     0.68268,     0.68368,     0.68468,     0.68569,     0.68669,     0.68769,     0.68869,     0.68969,     0.69069,     0.69169,     0.69269,     0.69369,     0.69469,      0.6957,\n",
       "            0.6967,      0.6977,      0.6987,      0.6997,      0.7007,      0.7017,      0.7027,      0.7037,      0.7047,     0.70571,     0.70671,     0.70771,     0.70871,     0.70971,     0.71071,     0.71171,     0.71271,     0.71371,     0.71471,     0.71572,     0.71672,     0.71772,     0.71872,     0.71972,\n",
       "           0.72072,     0.72172,     0.72272,     0.72372,     0.72472,     0.72573,     0.72673,     0.72773,     0.72873,     0.72973,     0.73073,     0.73173,     0.73273,     0.73373,     0.73473,     0.73574,     0.73674,     0.73774,     0.73874,     0.73974,     0.74074,     0.74174,     0.74274,     0.74374,\n",
       "           0.74474,     0.74575,     0.74675,     0.74775,     0.74875,     0.74975,     0.75075,     0.75175,     0.75275,     0.75375,     0.75475,     0.75576,     0.75676,     0.75776,     0.75876,     0.75976,     0.76076,     0.76176,     0.76276,     0.76376,     0.76476,     0.76577,     0.76677,     0.76777,\n",
       "           0.76877,     0.76977,     0.77077,     0.77177,     0.77277,     0.77377,     0.77477,     0.77578,     0.77678,     0.77778,     0.77878,     0.77978,     0.78078,     0.78178,     0.78278,     0.78378,     0.78478,     0.78579,     0.78679,     0.78779,     0.78879,     0.78979,     0.79079,     0.79179,\n",
       "           0.79279,     0.79379,     0.79479,      0.7958,      0.7968,      0.7978,      0.7988,      0.7998,      0.8008,      0.8018,      0.8028,      0.8038,      0.8048,     0.80581,     0.80681,     0.80781,     0.80881,     0.80981,     0.81081,     0.81181,     0.81281,     0.81381,     0.81481,     0.81582,\n",
       "           0.81682,     0.81782,     0.81882,     0.81982,     0.82082,     0.82182,     0.82282,     0.82382,     0.82482,     0.82583,     0.82683,     0.82783,     0.82883,     0.82983,     0.83083,     0.83183,     0.83283,     0.83383,     0.83483,     0.83584,     0.83684,     0.83784,     0.83884,     0.83984,\n",
       "           0.84084,     0.84184,     0.84284,     0.84384,     0.84484,     0.84585,     0.84685,     0.84785,     0.84885,     0.84985,     0.85085,     0.85185,     0.85285,     0.85385,     0.85485,     0.85586,     0.85686,     0.85786,     0.85886,     0.85986,     0.86086,     0.86186,     0.86286,     0.86386,\n",
       "           0.86486,     0.86587,     0.86687,     0.86787,     0.86887,     0.86987,     0.87087,     0.87187,     0.87287,     0.87387,     0.87487,     0.87588,     0.87688,     0.87788,     0.87888,     0.87988,     0.88088,     0.88188,     0.88288,     0.88388,     0.88488,     0.88589,     0.88689,     0.88789,\n",
       "           0.88889,     0.88989,     0.89089,     0.89189,     0.89289,     0.89389,     0.89489,      0.8959,      0.8969,      0.8979,      0.8989,      0.8999,      0.9009,      0.9019,      0.9029,      0.9039,      0.9049,     0.90591,     0.90691,     0.90791,     0.90891,     0.90991,     0.91091,     0.91191,\n",
       "           0.91291,     0.91391,     0.91491,     0.91592,     0.91692,     0.91792,     0.91892,     0.91992,     0.92092,     0.92192,     0.92292,     0.92392,     0.92492,     0.92593,     0.92693,     0.92793,     0.92893,     0.92993,     0.93093,     0.93193,     0.93293,     0.93393,     0.93493,     0.93594,\n",
       "           0.93694,     0.93794,     0.93894,     0.93994,     0.94094,     0.94194,     0.94294,     0.94394,     0.94494,     0.94595,     0.94695,     0.94795,     0.94895,     0.94995,     0.95095,     0.95195,     0.95295,     0.95395,     0.95495,     0.95596,     0.95696,     0.95796,     0.95896,     0.95996,\n",
       "           0.96096,     0.96196,     0.96296,     0.96396,     0.96496,     0.96597,     0.96697,     0.96797,     0.96897,     0.96997,     0.97097,     0.97197,     0.97297,     0.97397,     0.97497,     0.97598,     0.97698,     0.97798,     0.97898,     0.97998,     0.98098,     0.98198,     0.98298,     0.98398,\n",
       "           0.98498,     0.98599,     0.98699,     0.98799,     0.98899,     0.98999,     0.99099,     0.99199,     0.99299,     0.99399,     0.99499,       0.996,       0.997,       0.998,       0.999,           1]), array([[    0.98602,     0.98602,     0.98363, ...,           0,           0,           0],\n",
       "       [    0.97685,     0.97685,     0.97215, ...,           0,           0,           0]]), 'Confidence', 'Recall']]\n",
       "fitness: np.float64(0.7105682798017187)\n",
       "keys: ['metrics/precision(B)', 'metrics/recall(B)', 'metrics/mAP50(B)', 'metrics/mAP50-95(B)']\n",
       "maps: array([    0.69891,     0.67074])\n",
       "names: {0: 'cortante', 1: 'arma'}\n",
       "plot: True\n",
       "results_dict: {'metrics/precision(B)': np.float64(0.9329347216516202), 'metrics/recall(B)': np.float64(0.8914906308388331), 'metrics/mAP50(B)': np.float64(0.9422535348959891), 'metrics/mAP50-95(B)': np.float64(0.684825473680133), 'fitness': np.float64(0.7105682798017187)}\n",
       "save_dir: PosixPath('/home/gerdson/projetos/FIAP-Hackathon-Grupo2/runs/detect/train')\n",
       "speed: {'preprocess': 0.06773448021475047, 'inference': 0.3639152657711346, 'loss': 4.881214070620353e-05, 'postprocess': 0.4664924007056332}\n",
       "task: 'detect'"
      ]
     },
     "execution_count": 5,
     "metadata": {},
     "output_type": "execute_result"
    }
   ],
   "source": [
    "config = './config.yaml'\n",
    "model.train(data=config,\n",
    "            epochs=30,\n",
    "            patience=8,\n",
    "            batch=64,  # number of images per batch (-1 for AutoBatch)\n",
    "            optimizer=\"AdamW\",\n",
    "            lr0=0.001,\n",
    "            imgsz=640,\n",
    "            workers=8,\n",
    "            pretrained=True,\n",
    "            resume=False,  # resume training from last checkpoint\n",
    "            single_cls=False,  # Whether all classes will be the same (just one class)\n",
    "            # project='runs/detect',  # Default = /home/{user}/Documents/ultralytics/runs\n",
    "            box=7.5,  # More recall, better IoU, less precission, \n",
    "            cls=0.5,  # Bbox class better\n",
    "            dfl=1.5,  # Distribution Focal Loss. Better bbox boundaries\n",
    "            val=True,\n",
    "            # Augmentations\n",
    "            degrees=0.3,\n",
    "            hsv_s=0.3,\n",
    "            hsv_v=0.3,\n",
    "            scale=0.5,\n",
    "            fliplr=0.5\n",
    "            )"
   ]
  },
  {
   "cell_type": "markdown",
   "metadata": {},
   "source": [
    "# Inferência"
   ]
  },
  {
   "cell_type": "code",
   "execution_count": 6,
   "metadata": {},
   "outputs": [],
   "source": [
    "model = YOLO('runs/detect/train/weights/best.pt')"
   ]
  },
  {
   "cell_type": "markdown",
   "metadata": {},
   "source": [
    "## Imagem"
   ]
  },
  {
   "cell_type": "code",
   "execution_count": 7,
   "metadata": {},
   "outputs": [
    {
     "name": "stdout",
     "output_type": "stream",
     "text": [
      "\n",
      "image 1/1 /home/gerdson/projetos/FIAP-Hackathon-Grupo2/assets/faca.png: 640x640 1 cortante, 5.3ms\n",
      "Speed: 1.3ms preprocess, 5.3ms inference, 0.8ms postprocess per image at shape (1, 3, 640, 640)\n",
      "Results saved to \u001b[1m/home/gerdson/projetos/FIAP-Hackathon-Grupo2/runs/detect/predict\u001b[0m\n",
      "1 label saved to /home/gerdson/projetos/FIAP-Hackathon-Grupo2/runs/detect/predict/labels\n"
     ]
    }
   ],
   "source": [
    "results_img = model.predict(source='assets/faca.png',  # image or video; single value or a list; URL, PIL (RGB), CV2 (BGR), ...\n",
    "                        conf=0.25,\n",
    "                        iou=0.7,  # Non-Maximum Supression (NMS)\n",
    "                        imgsz=640,\n",
    "                        show=False,\n",
    "                        save=True,\n",
    "                        save_txt=True,  # Save bbox coordenation\n",
    "                        save_conf=True,  # save_txt must be True\n",
    "                        save_crop=True,\n",
    "                        # project='runs/detect',\n",
    "                        stream=False  # Do inference now (False) or after (True)\n",
    "                        )"
   ]
  },
  {
   "cell_type": "code",
   "execution_count": 8,
   "metadata": {},
   "outputs": [
    {
     "data": {
      "text/plain": [
       "[ultralytics.engine.results.Results object with attributes:\n",
       " \n",
       " boxes: ultralytics.engine.results.Boxes object\n",
       " keypoints: None\n",
       " masks: None\n",
       " names: {0: 'cortante', 1: 'arma'}\n",
       " obb: None\n",
       " orig_img: array([[[216, 196, 192],\n",
       "         [216, 196, 192],\n",
       "         [216, 196, 192],\n",
       "         ...,\n",
       "         [194, 171, 166],\n",
       "         [194, 171, 166],\n",
       "         [194, 171, 166]],\n",
       " \n",
       "        [[216, 196, 192],\n",
       "         [216, 196, 192],\n",
       "         [216, 196, 192],\n",
       "         ...,\n",
       "         [194, 171, 166],\n",
       "         [194, 171, 166],\n",
       "         [194, 171, 166]],\n",
       " \n",
       "        [[216, 196, 192],\n",
       "         [216, 196, 192],\n",
       "         [216, 196, 192],\n",
       "         ...,\n",
       "         [194, 171, 166],\n",
       "         [194, 171, 166],\n",
       "         [194, 171, 166]],\n",
       " \n",
       "        ...,\n",
       " \n",
       "        [[221, 200, 198],\n",
       "         [221, 200, 198],\n",
       "         [221, 200, 198],\n",
       "         ...,\n",
       "         [197, 178, 171],\n",
       "         [197, 178, 171],\n",
       "         [197, 178, 171]],\n",
       " \n",
       "        [[221, 201, 196],\n",
       "         [221, 201, 196],\n",
       "         [221, 201, 196],\n",
       "         ...,\n",
       "         [197, 178, 171],\n",
       "         [197, 178, 171],\n",
       "         [197, 178, 171]],\n",
       " \n",
       "        [[221, 201, 196],\n",
       "         [221, 201, 196],\n",
       "         [221, 201, 196],\n",
       "         ...,\n",
       "         [197, 178, 171],\n",
       "         [197, 178, 171],\n",
       "         [197, 178, 171]]], dtype=uint8)\n",
       " orig_shape: (1000, 1000)\n",
       " path: '/home/gerdson/projetos/FIAP-Hackathon-Grupo2/assets/faca.png'\n",
       " probs: None\n",
       " save_dir: '/home/gerdson/projetos/FIAP-Hackathon-Grupo2/runs/detect/predict'\n",
       " speed: {'preprocess': 1.2941360473632812, 'inference': 5.343198776245117, 'postprocess': 0.7674694061279297}]"
      ]
     },
     "execution_count": 8,
     "metadata": {},
     "output_type": "execute_result"
    }
   ],
   "source": [
    "results_img"
   ]
  },
  {
   "cell_type": "code",
   "execution_count": 9,
   "metadata": {},
   "outputs": [
    {
     "data": {
      "text/plain": [
       "ultralytics.engine.results.Boxes object with attributes:\n",
       "\n",
       "cls: tensor([0.], device='cuda:0')\n",
       "conf: tensor([0.8969], device='cuda:0')\n",
       "data: tensor([[160.5914, 384.7915, 880.8394, 862.0668,   0.8969,   0.0000]], device='cuda:0')\n",
       "id: None\n",
       "is_track: False\n",
       "orig_shape: (1000, 1000)\n",
       "shape: torch.Size([1, 6])\n",
       "xywh: tensor([[520.7154, 623.4291, 720.2479, 477.2753]], device='cuda:0')\n",
       "xywhn: tensor([[0.5207, 0.6234, 0.7202, 0.4773]], device='cuda:0')\n",
       "xyxy: tensor([[160.5914, 384.7915, 880.8394, 862.0668]], device='cuda:0')\n",
       "xyxyn: tensor([[0.1606, 0.3848, 0.8808, 0.8621]], device='cuda:0')"
      ]
     },
     "execution_count": 9,
     "metadata": {},
     "output_type": "execute_result"
    }
   ],
   "source": [
    "results_img[0].boxes"
   ]
  },
  {
   "cell_type": "markdown",
   "metadata": {},
   "source": [
    "## Vídeo"
   ]
  },
  {
   "cell_type": "markdown",
   "metadata": {},
   "source": [
    "- \"stream=False\": realiza inferência no vídeo completo e armazena todos os resultados em uma lista. Quanto maior o vídeo, maior o consumo de memória RAM para armazenar todos os resultados\n",
    "- \"stream=True\": cria um \"generator\". O que permite executar frame por frame em um loop, podendo inclusive fazer outras operações em tempo real, sem precisar aguardar que todo o vídeo seja processado. Assim como reduzir a utilização de memória RAM, já que os resultados do frame anterior podem ser eliminados."
   ]
  },
  {
   "cell_type": "code",
   "execution_count": 10,
   "metadata": {},
   "outputs": [],
   "source": [
    "# CAUTION: High memory consumption if \"stream=False\"\n",
    "results_video = model.predict(source='assets/video.mp4',  # image or video; single value or a list; URL, PIL (RGB), CV2 (BGR), ...\n",
    "                        conf=0.25,\n",
    "                        iou=0.7,\n",
    "                        imgsz=640,\n",
    "                        show=False,\n",
    "                        save=True,\n",
    "                        save_txt=False,  # Save bbox coordination\n",
    "                        save_conf=False,  # save_txt must be True\n",
    "                        save_crop=False,\n",
    "                        # project='runs/detect',\n",
    "                        stream=True  # Do inference now (False) or after (True)\n",
    "                        )"
   ]
  },
  {
   "cell_type": "code",
   "execution_count": 11,
   "metadata": {},
   "outputs": [
    {
     "data": {
      "text/plain": [
       "<generator object BasePredictor.stream_inference at 0x78536579bd00>"
      ]
     },
     "execution_count": 11,
     "metadata": {},
     "output_type": "execute_result"
    }
   ],
   "source": [
    "results_video"
   ]
  },
  {
   "cell_type": "code",
   "execution_count": 12,
   "metadata": {},
   "outputs": [
    {
     "name": "stdout",
     "output_type": "stream",
     "text": [
      "\n",
      "video 1/1 (frame 1/1264) /home/gerdson/projetos/FIAP-Hackathon-Grupo2/assets/video.mp4: 384x640 (no detections), 40.8ms\n",
      "video 1/1 (frame 2/1264) /home/gerdson/projetos/FIAP-Hackathon-Grupo2/assets/video.mp4: 384x640 (no detections), 5.3ms\n",
      "video 1/1 (frame 3/1264) /home/gerdson/projetos/FIAP-Hackathon-Grupo2/assets/video.mp4: 384x640 (no detections), 5.4ms\n",
      "video 1/1 (frame 4/1264) /home/gerdson/projetos/FIAP-Hackathon-Grupo2/assets/video.mp4: 384x640 (no detections), 5.2ms\n",
      "video 1/1 (frame 5/1264) /home/gerdson/projetos/FIAP-Hackathon-Grupo2/assets/video.mp4: 384x640 (no detections), 5.4ms\n",
      "video 1/1 (frame 6/1264) /home/gerdson/projetos/FIAP-Hackathon-Grupo2/assets/video.mp4: 384x640 (no detections), 5.4ms\n",
      "video 1/1 (frame 7/1264) /home/gerdson/projetos/FIAP-Hackathon-Grupo2/assets/video.mp4: 384x640 (no detections), 5.3ms\n",
      "video 1/1 (frame 8/1264) /home/gerdson/projetos/FIAP-Hackathon-Grupo2/assets/video.mp4: 384x640 (no detections), 5.2ms\n",
      "video 1/1 (frame 9/1264) /home/gerdson/projetos/FIAP-Hackathon-Grupo2/assets/video.mp4: 384x640 (no detections), 5.9ms\n",
      "video 1/1 (frame 10/1264) /home/gerdson/projetos/FIAP-Hackathon-Grupo2/assets/video.mp4: 384x640 (no detections), 6.4ms\n",
      "video 1/1 (frame 11/1264) /home/gerdson/projetos/FIAP-Hackathon-Grupo2/assets/video.mp4: 384x640 (no detections), 6.0ms\n",
      "video 1/1 (frame 12/1264) /home/gerdson/projetos/FIAP-Hackathon-Grupo2/assets/video.mp4: 384x640 (no detections), 6.2ms\n",
      "video 1/1 (frame 13/1264) /home/gerdson/projetos/FIAP-Hackathon-Grupo2/assets/video.mp4: 384x640 (no detections), 6.5ms\n",
      "video 1/1 (frame 14/1264) /home/gerdson/projetos/FIAP-Hackathon-Grupo2/assets/video.mp4: 384x640 (no detections), 6.0ms\n",
      "video 1/1 (frame 15/1264) /home/gerdson/projetos/FIAP-Hackathon-Grupo2/assets/video.mp4: 384x640 (no detections), 6.1ms\n",
      "video 1/1 (frame 16/1264) /home/gerdson/projetos/FIAP-Hackathon-Grupo2/assets/video.mp4: 384x640 (no detections), 6.0ms\n",
      "video 1/1 (frame 17/1264) /home/gerdson/projetos/FIAP-Hackathon-Grupo2/assets/video.mp4: 384x640 (no detections), 5.4ms\n",
      "video 1/1 (frame 18/1264) /home/gerdson/projetos/FIAP-Hackathon-Grupo2/assets/video.mp4: 384x640 (no detections), 5.5ms\n",
      "video 1/1 (frame 19/1264) /home/gerdson/projetos/FIAP-Hackathon-Grupo2/assets/video.mp4: 384x640 (no detections), 5.8ms\n",
      "video 1/1 (frame 20/1264) /home/gerdson/projetos/FIAP-Hackathon-Grupo2/assets/video.mp4: 384x640 (no detections), 5.2ms\n",
      "video 1/1 (frame 21/1264) /home/gerdson/projetos/FIAP-Hackathon-Grupo2/assets/video.mp4: 384x640 (no detections), 5.6ms\n",
      "video 1/1 (frame 22/1264) /home/gerdson/projetos/FIAP-Hackathon-Grupo2/assets/video.mp4: 384x640 (no detections), 5.5ms\n",
      "video 1/1 (frame 23/1264) /home/gerdson/projetos/FIAP-Hackathon-Grupo2/assets/video.mp4: 384x640 (no detections), 5.4ms\n",
      "video 1/1 (frame 24/1264) /home/gerdson/projetos/FIAP-Hackathon-Grupo2/assets/video.mp4: 384x640 (no detections), 5.3ms\n",
      "video 1/1 (frame 25/1264) /home/gerdson/projetos/FIAP-Hackathon-Grupo2/assets/video.mp4: 384x640 (no detections), 5.3ms\n",
      "video 1/1 (frame 26/1264) /home/gerdson/projetos/FIAP-Hackathon-Grupo2/assets/video.mp4: 384x640 (no detections), 5.5ms\n",
      "video 1/1 (frame 27/1264) /home/gerdson/projetos/FIAP-Hackathon-Grupo2/assets/video.mp4: 384x640 (no detections), 5.2ms\n",
      "video 1/1 (frame 28/1264) /home/gerdson/projetos/FIAP-Hackathon-Grupo2/assets/video.mp4: 384x640 (no detections), 5.7ms\n",
      "video 1/1 (frame 29/1264) /home/gerdson/projetos/FIAP-Hackathon-Grupo2/assets/video.mp4: 384x640 (no detections), 5.8ms\n",
      "video 1/1 (frame 30/1264) /home/gerdson/projetos/FIAP-Hackathon-Grupo2/assets/video.mp4: 384x640 (no detections), 6.0ms\n",
      "video 1/1 (frame 31/1264) /home/gerdson/projetos/FIAP-Hackathon-Grupo2/assets/video.mp4: 384x640 (no detections), 5.7ms\n",
      "video 1/1 (frame 32/1264) /home/gerdson/projetos/FIAP-Hackathon-Grupo2/assets/video.mp4: 384x640 (no detections), 5.6ms\n",
      "video 1/1 (frame 33/1264) /home/gerdson/projetos/FIAP-Hackathon-Grupo2/assets/video.mp4: 384x640 (no detections), 5.5ms\n",
      "video 1/1 (frame 34/1264) /home/gerdson/projetos/FIAP-Hackathon-Grupo2/assets/video.mp4: 384x640 (no detections), 5.4ms\n",
      "video 1/1 (frame 35/1264) /home/gerdson/projetos/FIAP-Hackathon-Grupo2/assets/video.mp4: 384x640 (no detections), 5.5ms\n",
      "video 1/1 (frame 36/1264) /home/gerdson/projetos/FIAP-Hackathon-Grupo2/assets/video.mp4: 384x640 (no detections), 5.6ms\n",
      "video 1/1 (frame 37/1264) /home/gerdson/projetos/FIAP-Hackathon-Grupo2/assets/video.mp4: 384x640 (no detections), 5.3ms\n",
      "video 1/1 (frame 38/1264) /home/gerdson/projetos/FIAP-Hackathon-Grupo2/assets/video.mp4: 384x640 (no detections), 5.2ms\n",
      "video 1/1 (frame 39/1264) /home/gerdson/projetos/FIAP-Hackathon-Grupo2/assets/video.mp4: 384x640 (no detections), 5.5ms\n",
      "video 1/1 (frame 40/1264) /home/gerdson/projetos/FIAP-Hackathon-Grupo2/assets/video.mp4: 384x640 (no detections), 5.2ms\n",
      "video 1/1 (frame 41/1264) /home/gerdson/projetos/FIAP-Hackathon-Grupo2/assets/video.mp4: 384x640 (no detections), 5.4ms\n",
      "video 1/1 (frame 42/1264) /home/gerdson/projetos/FIAP-Hackathon-Grupo2/assets/video.mp4: 384x640 (no detections), 5.3ms\n",
      "video 1/1 (frame 43/1264) /home/gerdson/projetos/FIAP-Hackathon-Grupo2/assets/video.mp4: 384x640 (no detections), 5.5ms\n",
      "video 1/1 (frame 44/1264) /home/gerdson/projetos/FIAP-Hackathon-Grupo2/assets/video.mp4: 384x640 (no detections), 5.3ms\n",
      "video 1/1 (frame 45/1264) /home/gerdson/projetos/FIAP-Hackathon-Grupo2/assets/video.mp4: 384x640 (no detections), 5.2ms\n",
      "video 1/1 (frame 46/1264) /home/gerdson/projetos/FIAP-Hackathon-Grupo2/assets/video.mp4: 384x640 (no detections), 5.5ms\n",
      "video 1/1 (frame 47/1264) /home/gerdson/projetos/FIAP-Hackathon-Grupo2/assets/video.mp4: 384x640 (no detections), 5.4ms\n",
      "video 1/1 (frame 48/1264) /home/gerdson/projetos/FIAP-Hackathon-Grupo2/assets/video.mp4: 384x640 (no detections), 5.3ms\n",
      "video 1/1 (frame 49/1264) /home/gerdson/projetos/FIAP-Hackathon-Grupo2/assets/video.mp4: 384x640 (no detections), 5.4ms\n",
      "video 1/1 (frame 50/1264) /home/gerdson/projetos/FIAP-Hackathon-Grupo2/assets/video.mp4: 384x640 (no detections), 5.5ms\n",
      "video 1/1 (frame 51/1264) /home/gerdson/projetos/FIAP-Hackathon-Grupo2/assets/video.mp4: 384x640 (no detections), 5.3ms\n",
      "video 1/1 (frame 52/1264) /home/gerdson/projetos/FIAP-Hackathon-Grupo2/assets/video.mp4: 384x640 (no detections), 5.3ms\n",
      "video 1/1 (frame 53/1264) /home/gerdson/projetos/FIAP-Hackathon-Grupo2/assets/video.mp4: 384x640 (no detections), 5.3ms\n",
      "video 1/1 (frame 54/1264) /home/gerdson/projetos/FIAP-Hackathon-Grupo2/assets/video.mp4: 384x640 (no detections), 5.5ms\n",
      "video 1/1 (frame 55/1264) /home/gerdson/projetos/FIAP-Hackathon-Grupo2/assets/video.mp4: 384x640 (no detections), 5.3ms\n",
      "video 1/1 (frame 56/1264) /home/gerdson/projetos/FIAP-Hackathon-Grupo2/assets/video.mp4: 384x640 (no detections), 5.5ms\n",
      "video 1/1 (frame 57/1264) /home/gerdson/projetos/FIAP-Hackathon-Grupo2/assets/video.mp4: 384x640 (no detections), 5.3ms\n",
      "video 1/1 (frame 58/1264) /home/gerdson/projetos/FIAP-Hackathon-Grupo2/assets/video.mp4: 384x640 (no detections), 5.3ms\n",
      "video 1/1 (frame 59/1264) /home/gerdson/projetos/FIAP-Hackathon-Grupo2/assets/video.mp4: 384x640 (no detections), 5.3ms\n",
      "video 1/1 (frame 60/1264) /home/gerdson/projetos/FIAP-Hackathon-Grupo2/assets/video.mp4: 384x640 (no detections), 5.6ms\n",
      "video 1/1 (frame 61/1264) /home/gerdson/projetos/FIAP-Hackathon-Grupo2/assets/video.mp4: 384x640 (no detections), 5.7ms\n",
      "video 1/1 (frame 62/1264) /home/gerdson/projetos/FIAP-Hackathon-Grupo2/assets/video.mp4: 384x640 (no detections), 5.8ms\n",
      "video 1/1 (frame 63/1264) /home/gerdson/projetos/FIAP-Hackathon-Grupo2/assets/video.mp4: 384x640 (no detections), 6.2ms\n",
      "video 1/1 (frame 64/1264) /home/gerdson/projetos/FIAP-Hackathon-Grupo2/assets/video.mp4: 384x640 (no detections), 5.7ms\n",
      "video 1/1 (frame 65/1264) /home/gerdson/projetos/FIAP-Hackathon-Grupo2/assets/video.mp4: 384x640 (no detections), 5.2ms\n",
      "video 1/1 (frame 66/1264) /home/gerdson/projetos/FIAP-Hackathon-Grupo2/assets/video.mp4: 384x640 (no detections), 5.4ms\n",
      "video 1/1 (frame 67/1264) /home/gerdson/projetos/FIAP-Hackathon-Grupo2/assets/video.mp4: 384x640 (no detections), 5.2ms\n",
      "video 1/1 (frame 68/1264) /home/gerdson/projetos/FIAP-Hackathon-Grupo2/assets/video.mp4: 384x640 (no detections), 5.2ms\n",
      "video 1/1 (frame 69/1264) /home/gerdson/projetos/FIAP-Hackathon-Grupo2/assets/video.mp4: 384x640 (no detections), 5.2ms\n",
      "video 1/1 (frame 70/1264) /home/gerdson/projetos/FIAP-Hackathon-Grupo2/assets/video.mp4: 384x640 (no detections), 5.5ms\n",
      "video 1/1 (frame 71/1264) /home/gerdson/projetos/FIAP-Hackathon-Grupo2/assets/video.mp4: 384x640 (no detections), 5.2ms\n",
      "video 1/1 (frame 72/1264) /home/gerdson/projetos/FIAP-Hackathon-Grupo2/assets/video.mp4: 384x640 (no detections), 5.4ms\n",
      "video 1/1 (frame 73/1264) /home/gerdson/projetos/FIAP-Hackathon-Grupo2/assets/video.mp4: 384x640 (no detections), 5.3ms\n",
      "video 1/1 (frame 74/1264) /home/gerdson/projetos/FIAP-Hackathon-Grupo2/assets/video.mp4: 384x640 (no detections), 5.3ms\n",
      "video 1/1 (frame 75/1264) /home/gerdson/projetos/FIAP-Hackathon-Grupo2/assets/video.mp4: 384x640 (no detections), 5.3ms\n",
      "video 1/1 (frame 76/1264) /home/gerdson/projetos/FIAP-Hackathon-Grupo2/assets/video.mp4: 384x640 (no detections), 5.5ms\n",
      "video 1/1 (frame 77/1264) /home/gerdson/projetos/FIAP-Hackathon-Grupo2/assets/video.mp4: 384x640 (no detections), 5.3ms\n",
      "video 1/1 (frame 78/1264) /home/gerdson/projetos/FIAP-Hackathon-Grupo2/assets/video.mp4: 384x640 (no detections), 5.2ms\n",
      "video 1/1 (frame 79/1264) /home/gerdson/projetos/FIAP-Hackathon-Grupo2/assets/video.mp4: 384x640 (no detections), 5.4ms\n",
      "video 1/1 (frame 80/1264) /home/gerdson/projetos/FIAP-Hackathon-Grupo2/assets/video.mp4: 384x640 (no detections), 5.2ms\n",
      "video 1/1 (frame 81/1264) /home/gerdson/projetos/FIAP-Hackathon-Grupo2/assets/video.mp4: 384x640 1 arma, 5.3ms\n",
      "video 1/1 (frame 82/1264) /home/gerdson/projetos/FIAP-Hackathon-Grupo2/assets/video.mp4: 384x640 (no detections), 5.4ms\n",
      "video 1/1 (frame 83/1264) /home/gerdson/projetos/FIAP-Hackathon-Grupo2/assets/video.mp4: 384x640 (no detections), 5.2ms\n",
      "video 1/1 (frame 84/1264) /home/gerdson/projetos/FIAP-Hackathon-Grupo2/assets/video.mp4: 384x640 (no detections), 5.3ms\n",
      "video 1/1 (frame 85/1264) /home/gerdson/projetos/FIAP-Hackathon-Grupo2/assets/video.mp4: 384x640 (no detections), 5.4ms\n",
      "video 1/1 (frame 86/1264) /home/gerdson/projetos/FIAP-Hackathon-Grupo2/assets/video.mp4: 384x640 (no detections), 5.2ms\n",
      "video 1/1 (frame 87/1264) /home/gerdson/projetos/FIAP-Hackathon-Grupo2/assets/video.mp4: 384x640 (no detections), 5.2ms\n",
      "video 1/1 (frame 88/1264) /home/gerdson/projetos/FIAP-Hackathon-Grupo2/assets/video.mp4: 384x640 (no detections), 5.2ms\n",
      "video 1/1 (frame 89/1264) /home/gerdson/projetos/FIAP-Hackathon-Grupo2/assets/video.mp4: 384x640 (no detections), 5.2ms\n",
      "video 1/1 (frame 90/1264) /home/gerdson/projetos/FIAP-Hackathon-Grupo2/assets/video.mp4: 384x640 (no detections), 5.2ms\n",
      "video 1/1 (frame 91/1264) /home/gerdson/projetos/FIAP-Hackathon-Grupo2/assets/video.mp4: 384x640 (no detections), 5.2ms\n",
      "video 1/1 (frame 92/1264) /home/gerdson/projetos/FIAP-Hackathon-Grupo2/assets/video.mp4: 384x640 (no detections), 5.2ms\n",
      "video 1/1 (frame 93/1264) /home/gerdson/projetos/FIAP-Hackathon-Grupo2/assets/video.mp4: 384x640 (no detections), 5.2ms\n",
      "video 1/1 (frame 94/1264) /home/gerdson/projetos/FIAP-Hackathon-Grupo2/assets/video.mp4: 384x640 (no detections), 5.2ms\n",
      "video 1/1 (frame 95/1264) /home/gerdson/projetos/FIAP-Hackathon-Grupo2/assets/video.mp4: 384x640 (no detections), 5.1ms\n",
      "video 1/1 (frame 96/1264) /home/gerdson/projetos/FIAP-Hackathon-Grupo2/assets/video.mp4: 384x640 (no detections), 5.2ms\n",
      "video 1/1 (frame 97/1264) /home/gerdson/projetos/FIAP-Hackathon-Grupo2/assets/video.mp4: 384x640 (no detections), 7.8ms\n",
      "video 1/1 (frame 98/1264) /home/gerdson/projetos/FIAP-Hackathon-Grupo2/assets/video.mp4: 384x640 (no detections), 5.6ms\n",
      "video 1/1 (frame 99/1264) /home/gerdson/projetos/FIAP-Hackathon-Grupo2/assets/video.mp4: 384x640 (no detections), 5.3ms\n",
      "video 1/1 (frame 100/1264) /home/gerdson/projetos/FIAP-Hackathon-Grupo2/assets/video.mp4: 384x640 (no detections), 5.3ms\n",
      "video 1/1 (frame 101/1264) /home/gerdson/projetos/FIAP-Hackathon-Grupo2/assets/video.mp4: 384x640 (no detections), 5.2ms\n",
      "video 1/1 (frame 102/1264) /home/gerdson/projetos/FIAP-Hackathon-Grupo2/assets/video.mp4: 384x640 (no detections), 5.1ms\n",
      "video 1/1 (frame 103/1264) /home/gerdson/projetos/FIAP-Hackathon-Grupo2/assets/video.mp4: 384x640 (no detections), 5.1ms\n",
      "video 1/1 (frame 104/1264) /home/gerdson/projetos/FIAP-Hackathon-Grupo2/assets/video.mp4: 384x640 (no detections), 5.3ms\n",
      "video 1/1 (frame 105/1264) /home/gerdson/projetos/FIAP-Hackathon-Grupo2/assets/video.mp4: 384x640 (no detections), 5.3ms\n",
      "video 1/1 (frame 106/1264) /home/gerdson/projetos/FIAP-Hackathon-Grupo2/assets/video.mp4: 384x640 (no detections), 5.2ms\n",
      "video 1/1 (frame 107/1264) /home/gerdson/projetos/FIAP-Hackathon-Grupo2/assets/video.mp4: 384x640 (no detections), 5.3ms\n",
      "video 1/1 (frame 108/1264) /home/gerdson/projetos/FIAP-Hackathon-Grupo2/assets/video.mp4: 384x640 (no detections), 7.0ms\n",
      "video 1/1 (frame 109/1264) /home/gerdson/projetos/FIAP-Hackathon-Grupo2/assets/video.mp4: 384x640 (no detections), 5.1ms\n",
      "video 1/1 (frame 110/1264) /home/gerdson/projetos/FIAP-Hackathon-Grupo2/assets/video.mp4: 384x640 (no detections), 5.3ms\n",
      "video 1/1 (frame 111/1264) /home/gerdson/projetos/FIAP-Hackathon-Grupo2/assets/video.mp4: 384x640 (no detections), 5.2ms\n",
      "video 1/1 (frame 112/1264) /home/gerdson/projetos/FIAP-Hackathon-Grupo2/assets/video.mp4: 384x640 (no detections), 5.3ms\n",
      "video 1/1 (frame 113/1264) /home/gerdson/projetos/FIAP-Hackathon-Grupo2/assets/video.mp4: 384x640 (no detections), 5.5ms\n",
      "video 1/1 (frame 114/1264) /home/gerdson/projetos/FIAP-Hackathon-Grupo2/assets/video.mp4: 384x640 (no detections), 5.3ms\n",
      "video 1/1 (frame 115/1264) /home/gerdson/projetos/FIAP-Hackathon-Grupo2/assets/video.mp4: 384x640 1 arma, 5.6ms\n",
      "video 1/1 (frame 116/1264) /home/gerdson/projetos/FIAP-Hackathon-Grupo2/assets/video.mp4: 384x640 (no detections), 5.4ms\n",
      "video 1/1 (frame 117/1264) /home/gerdson/projetos/FIAP-Hackathon-Grupo2/assets/video.mp4: 384x640 (no detections), 5.2ms\n",
      "video 1/1 (frame 118/1264) /home/gerdson/projetos/FIAP-Hackathon-Grupo2/assets/video.mp4: 384x640 (no detections), 5.2ms\n",
      "video 1/1 (frame 119/1264) /home/gerdson/projetos/FIAP-Hackathon-Grupo2/assets/video.mp4: 384x640 (no detections), 5.2ms\n",
      "video 1/1 (frame 120/1264) /home/gerdson/projetos/FIAP-Hackathon-Grupo2/assets/video.mp4: 384x640 (no detections), 5.3ms\n",
      "video 1/1 (frame 121/1264) /home/gerdson/projetos/FIAP-Hackathon-Grupo2/assets/video.mp4: 384x640 (no detections), 5.2ms\n",
      "video 1/1 (frame 122/1264) /home/gerdson/projetos/FIAP-Hackathon-Grupo2/assets/video.mp4: 384x640 (no detections), 5.2ms\n",
      "video 1/1 (frame 123/1264) /home/gerdson/projetos/FIAP-Hackathon-Grupo2/assets/video.mp4: 384x640 (no detections), 5.2ms\n",
      "video 1/1 (frame 124/1264) /home/gerdson/projetos/FIAP-Hackathon-Grupo2/assets/video.mp4: 384x640 (no detections), 6.8ms\n",
      "video 1/1 (frame 125/1264) /home/gerdson/projetos/FIAP-Hackathon-Grupo2/assets/video.mp4: 384x640 (no detections), 5.4ms\n",
      "video 1/1 (frame 126/1264) /home/gerdson/projetos/FIAP-Hackathon-Grupo2/assets/video.mp4: 384x640 (no detections), 5.3ms\n",
      "video 1/1 (frame 127/1264) /home/gerdson/projetos/FIAP-Hackathon-Grupo2/assets/video.mp4: 384x640 (no detections), 5.2ms\n",
      "video 1/1 (frame 128/1264) /home/gerdson/projetos/FIAP-Hackathon-Grupo2/assets/video.mp4: 384x640 (no detections), 5.2ms\n",
      "video 1/1 (frame 129/1264) /home/gerdson/projetos/FIAP-Hackathon-Grupo2/assets/video.mp4: 384x640 (no detections), 5.1ms\n",
      "video 1/1 (frame 130/1264) /home/gerdson/projetos/FIAP-Hackathon-Grupo2/assets/video.mp4: 384x640 (no detections), 5.1ms\n",
      "video 1/1 (frame 131/1264) /home/gerdson/projetos/FIAP-Hackathon-Grupo2/assets/video.mp4: 384x640 (no detections), 5.1ms\n",
      "video 1/1 (frame 132/1264) /home/gerdson/projetos/FIAP-Hackathon-Grupo2/assets/video.mp4: 384x640 (no detections), 5.1ms\n",
      "video 1/1 (frame 133/1264) /home/gerdson/projetos/FIAP-Hackathon-Grupo2/assets/video.mp4: 384x640 (no detections), 5.1ms\n",
      "video 1/1 (frame 134/1264) /home/gerdson/projetos/FIAP-Hackathon-Grupo2/assets/video.mp4: 384x640 (no detections), 5.1ms\n",
      "video 1/1 (frame 135/1264) /home/gerdson/projetos/FIAP-Hackathon-Grupo2/assets/video.mp4: 384x640 (no detections), 5.1ms\n",
      "video 1/1 (frame 136/1264) /home/gerdson/projetos/FIAP-Hackathon-Grupo2/assets/video.mp4: 384x640 (no detections), 5.1ms\n",
      "video 1/1 (frame 137/1264) /home/gerdson/projetos/FIAP-Hackathon-Grupo2/assets/video.mp4: 384x640 (no detections), 5.1ms\n",
      "video 1/1 (frame 138/1264) /home/gerdson/projetos/FIAP-Hackathon-Grupo2/assets/video.mp4: 384x640 (no detections), 5.1ms\n",
      "video 1/1 (frame 139/1264) /home/gerdson/projetos/FIAP-Hackathon-Grupo2/assets/video.mp4: 384x640 (no detections), 5.1ms\n",
      "video 1/1 (frame 140/1264) /home/gerdson/projetos/FIAP-Hackathon-Grupo2/assets/video.mp4: 384x640 (no detections), 5.2ms\n",
      "video 1/1 (frame 141/1264) /home/gerdson/projetos/FIAP-Hackathon-Grupo2/assets/video.mp4: 384x640 (no detections), 5.3ms\n",
      "video 1/1 (frame 142/1264) /home/gerdson/projetos/FIAP-Hackathon-Grupo2/assets/video.mp4: 384x640 (no detections), 5.2ms\n",
      "video 1/1 (frame 143/1264) /home/gerdson/projetos/FIAP-Hackathon-Grupo2/assets/video.mp4: 384x640 (no detections), 5.1ms\n",
      "video 1/1 (frame 144/1264) /home/gerdson/projetos/FIAP-Hackathon-Grupo2/assets/video.mp4: 384x640 (no detections), 5.1ms\n",
      "video 1/1 (frame 145/1264) /home/gerdson/projetos/FIAP-Hackathon-Grupo2/assets/video.mp4: 384x640 (no detections), 5.1ms\n",
      "video 1/1 (frame 146/1264) /home/gerdson/projetos/FIAP-Hackathon-Grupo2/assets/video.mp4: 384x640 (no detections), 5.1ms\n",
      "video 1/1 (frame 147/1264) /home/gerdson/projetos/FIAP-Hackathon-Grupo2/assets/video.mp4: 384x640 (no detections), 5.2ms\n",
      "video 1/1 (frame 148/1264) /home/gerdson/projetos/FIAP-Hackathon-Grupo2/assets/video.mp4: 384x640 (no detections), 5.3ms\n",
      "video 1/1 (frame 149/1264) /home/gerdson/projetos/FIAP-Hackathon-Grupo2/assets/video.mp4: 384x640 (no detections), 5.2ms\n",
      "video 1/1 (frame 150/1264) /home/gerdson/projetos/FIAP-Hackathon-Grupo2/assets/video.mp4: 384x640 (no detections), 5.2ms\n",
      "video 1/1 (frame 151/1264) /home/gerdson/projetos/FIAP-Hackathon-Grupo2/assets/video.mp4: 384x640 (no detections), 5.2ms\n",
      "video 1/1 (frame 152/1264) /home/gerdson/projetos/FIAP-Hackathon-Grupo2/assets/video.mp4: 384x640 (no detections), 5.3ms\n",
      "video 1/1 (frame 153/1264) /home/gerdson/projetos/FIAP-Hackathon-Grupo2/assets/video.mp4: 384x640 (no detections), 5.1ms\n",
      "video 1/1 (frame 154/1264) /home/gerdson/projetos/FIAP-Hackathon-Grupo2/assets/video.mp4: 384x640 (no detections), 5.2ms\n",
      "video 1/1 (frame 155/1264) /home/gerdson/projetos/FIAP-Hackathon-Grupo2/assets/video.mp4: 384x640 (no detections), 5.2ms\n",
      "video 1/1 (frame 156/1264) /home/gerdson/projetos/FIAP-Hackathon-Grupo2/assets/video.mp4: 384x640 (no detections), 5.6ms\n",
      "video 1/1 (frame 157/1264) /home/gerdson/projetos/FIAP-Hackathon-Grupo2/assets/video.mp4: 384x640 (no detections), 5.2ms\n",
      "video 1/1 (frame 158/1264) /home/gerdson/projetos/FIAP-Hackathon-Grupo2/assets/video.mp4: 384x640 (no detections), 5.2ms\n",
      "video 1/1 (frame 159/1264) /home/gerdson/projetos/FIAP-Hackathon-Grupo2/assets/video.mp4: 384x640 (no detections), 5.1ms\n",
      "video 1/1 (frame 160/1264) /home/gerdson/projetos/FIAP-Hackathon-Grupo2/assets/video.mp4: 384x640 (no detections), 5.2ms\n",
      "video 1/1 (frame 161/1264) /home/gerdson/projetos/FIAP-Hackathon-Grupo2/assets/video.mp4: 384x640 (no detections), 5.2ms\n",
      "video 1/1 (frame 162/1264) /home/gerdson/projetos/FIAP-Hackathon-Grupo2/assets/video.mp4: 384x640 (no detections), 5.2ms\n",
      "video 1/1 (frame 163/1264) /home/gerdson/projetos/FIAP-Hackathon-Grupo2/assets/video.mp4: 384x640 (no detections), 5.2ms\n",
      "video 1/1 (frame 164/1264) /home/gerdson/projetos/FIAP-Hackathon-Grupo2/assets/video.mp4: 384x640 (no detections), 5.2ms\n",
      "video 1/1 (frame 165/1264) /home/gerdson/projetos/FIAP-Hackathon-Grupo2/assets/video.mp4: 384x640 (no detections), 5.4ms\n",
      "video 1/1 (frame 166/1264) /home/gerdson/projetos/FIAP-Hackathon-Grupo2/assets/video.mp4: 384x640 (no detections), 5.2ms\n",
      "video 1/1 (frame 167/1264) /home/gerdson/projetos/FIAP-Hackathon-Grupo2/assets/video.mp4: 384x640 1 cortante, 5.2ms\n",
      "video 1/1 (frame 168/1264) /home/gerdson/projetos/FIAP-Hackathon-Grupo2/assets/video.mp4: 384x640 1 cortante, 5.5ms\n",
      "video 1/1 (frame 169/1264) /home/gerdson/projetos/FIAP-Hackathon-Grupo2/assets/video.mp4: 384x640 1 cortante, 6.3ms\n",
      "video 1/1 (frame 170/1264) /home/gerdson/projetos/FIAP-Hackathon-Grupo2/assets/video.mp4: 384x640 1 cortante, 5.3ms\n",
      "video 1/1 (frame 171/1264) /home/gerdson/projetos/FIAP-Hackathon-Grupo2/assets/video.mp4: 384x640 1 cortante, 5.8ms\n",
      "video 1/1 (frame 172/1264) /home/gerdson/projetos/FIAP-Hackathon-Grupo2/assets/video.mp4: 384x640 1 cortante, 5.3ms\n",
      "video 1/1 (frame 173/1264) /home/gerdson/projetos/FIAP-Hackathon-Grupo2/assets/video.mp4: 384x640 1 cortante, 5.3ms\n",
      "video 1/1 (frame 174/1264) /home/gerdson/projetos/FIAP-Hackathon-Grupo2/assets/video.mp4: 384x640 1 cortante, 6.0ms\n",
      "video 1/1 (frame 175/1264) /home/gerdson/projetos/FIAP-Hackathon-Grupo2/assets/video.mp4: 384x640 1 cortante, 5.3ms\n",
      "video 1/1 (frame 176/1264) /home/gerdson/projetos/FIAP-Hackathon-Grupo2/assets/video.mp4: 384x640 1 cortante, 5.3ms\n",
      "video 1/1 (frame 177/1264) /home/gerdson/projetos/FIAP-Hackathon-Grupo2/assets/video.mp4: 384x640 2 cortantes, 6.3ms\n",
      "video 1/1 (frame 178/1264) /home/gerdson/projetos/FIAP-Hackathon-Grupo2/assets/video.mp4: 384x640 1 cortante, 5.2ms\n",
      "video 1/1 (frame 179/1264) /home/gerdson/projetos/FIAP-Hackathon-Grupo2/assets/video.mp4: 384x640 1 cortante, 5.2ms\n",
      "video 1/1 (frame 180/1264) /home/gerdson/projetos/FIAP-Hackathon-Grupo2/assets/video.mp4: 384x640 1 cortante, 6.7ms\n",
      "video 1/1 (frame 181/1264) /home/gerdson/projetos/FIAP-Hackathon-Grupo2/assets/video.mp4: 384x640 1 cortante, 5.3ms\n",
      "video 1/1 (frame 182/1264) /home/gerdson/projetos/FIAP-Hackathon-Grupo2/assets/video.mp4: 384x640 1 cortante, 5.3ms\n",
      "video 1/1 (frame 183/1264) /home/gerdson/projetos/FIAP-Hackathon-Grupo2/assets/video.mp4: 384x640 1 cortante, 6.6ms\n",
      "video 1/1 (frame 184/1264) /home/gerdson/projetos/FIAP-Hackathon-Grupo2/assets/video.mp4: 384x640 1 cortante, 5.3ms\n",
      "video 1/1 (frame 185/1264) /home/gerdson/projetos/FIAP-Hackathon-Grupo2/assets/video.mp4: 384x640 1 cortante, 5.2ms\n",
      "video 1/1 (frame 186/1264) /home/gerdson/projetos/FIAP-Hackathon-Grupo2/assets/video.mp4: 384x640 1 cortante, 6.6ms\n",
      "video 1/1 (frame 187/1264) /home/gerdson/projetos/FIAP-Hackathon-Grupo2/assets/video.mp4: 384x640 1 cortante, 5.2ms\n",
      "video 1/1 (frame 188/1264) /home/gerdson/projetos/FIAP-Hackathon-Grupo2/assets/video.mp4: 384x640 1 cortante, 5.2ms\n",
      "video 1/1 (frame 189/1264) /home/gerdson/projetos/FIAP-Hackathon-Grupo2/assets/video.mp4: 384x640 1 cortante, 6.7ms\n",
      "video 1/1 (frame 190/1264) /home/gerdson/projetos/FIAP-Hackathon-Grupo2/assets/video.mp4: 384x640 1 cortante, 5.3ms\n",
      "video 1/1 (frame 191/1264) /home/gerdson/projetos/FIAP-Hackathon-Grupo2/assets/video.mp4: 384x640 1 cortante, 5.2ms\n",
      "video 1/1 (frame 192/1264) /home/gerdson/projetos/FIAP-Hackathon-Grupo2/assets/video.mp4: 384x640 1 cortante, 6.5ms\n",
      "video 1/1 (frame 193/1264) /home/gerdson/projetos/FIAP-Hackathon-Grupo2/assets/video.mp4: 384x640 1 cortante, 5.3ms\n",
      "video 1/1 (frame 194/1264) /home/gerdson/projetos/FIAP-Hackathon-Grupo2/assets/video.mp4: 384x640 1 cortante, 5.2ms\n",
      "video 1/1 (frame 195/1264) /home/gerdson/projetos/FIAP-Hackathon-Grupo2/assets/video.mp4: 384x640 1 cortante, 6.5ms\n",
      "video 1/1 (frame 196/1264) /home/gerdson/projetos/FIAP-Hackathon-Grupo2/assets/video.mp4: 384x640 1 cortante, 5.3ms\n",
      "video 1/1 (frame 197/1264) /home/gerdson/projetos/FIAP-Hackathon-Grupo2/assets/video.mp4: 384x640 1 cortante, 5.2ms\n",
      "video 1/1 (frame 198/1264) /home/gerdson/projetos/FIAP-Hackathon-Grupo2/assets/video.mp4: 384x640 1 cortante, 6.6ms\n",
      "video 1/1 (frame 199/1264) /home/gerdson/projetos/FIAP-Hackathon-Grupo2/assets/video.mp4: 384x640 1 cortante, 5.3ms\n",
      "video 1/1 (frame 200/1264) /home/gerdson/projetos/FIAP-Hackathon-Grupo2/assets/video.mp4: 384x640 1 cortante, 5.3ms\n",
      "video 1/1 (frame 201/1264) /home/gerdson/projetos/FIAP-Hackathon-Grupo2/assets/video.mp4: 384x640 1 cortante, 6.9ms\n",
      "video 1/1 (frame 202/1264) /home/gerdson/projetos/FIAP-Hackathon-Grupo2/assets/video.mp4: 384x640 1 cortante, 5.3ms\n",
      "video 1/1 (frame 203/1264) /home/gerdson/projetos/FIAP-Hackathon-Grupo2/assets/video.mp4: 384x640 1 cortante, 5.3ms\n",
      "video 1/1 (frame 204/1264) /home/gerdson/projetos/FIAP-Hackathon-Grupo2/assets/video.mp4: 384x640 1 cortante, 5.6ms\n",
      "video 1/1 (frame 205/1264) /home/gerdson/projetos/FIAP-Hackathon-Grupo2/assets/video.mp4: 384x640 1 cortante, 5.2ms\n",
      "video 1/1 (frame 206/1264) /home/gerdson/projetos/FIAP-Hackathon-Grupo2/assets/video.mp4: 384x640 1 cortante, 5.9ms\n",
      "video 1/1 (frame 207/1264) /home/gerdson/projetos/FIAP-Hackathon-Grupo2/assets/video.mp4: 384x640 1 cortante, 5.4ms\n",
      "video 1/1 (frame 208/1264) /home/gerdson/projetos/FIAP-Hackathon-Grupo2/assets/video.mp4: 384x640 1 cortante, 5.3ms\n",
      "video 1/1 (frame 209/1264) /home/gerdson/projetos/FIAP-Hackathon-Grupo2/assets/video.mp4: 384x640 1 cortante, 6.4ms\n",
      "video 1/1 (frame 210/1264) /home/gerdson/projetos/FIAP-Hackathon-Grupo2/assets/video.mp4: 384x640 1 cortante, 5.4ms\n",
      "video 1/1 (frame 211/1264) /home/gerdson/projetos/FIAP-Hackathon-Grupo2/assets/video.mp4: 384x640 1 cortante, 5.3ms\n",
      "video 1/1 (frame 212/1264) /home/gerdson/projetos/FIAP-Hackathon-Grupo2/assets/video.mp4: 384x640 1 cortante, 5.2ms\n",
      "video 1/1 (frame 213/1264) /home/gerdson/projetos/FIAP-Hackathon-Grupo2/assets/video.mp4: 384x640 1 cortante, 5.3ms\n",
      "video 1/1 (frame 214/1264) /home/gerdson/projetos/FIAP-Hackathon-Grupo2/assets/video.mp4: 384x640 (no detections), 5.2ms\n",
      "video 1/1 (frame 215/1264) /home/gerdson/projetos/FIAP-Hackathon-Grupo2/assets/video.mp4: 384x640 2 cortantes, 5.2ms\n",
      "video 1/1 (frame 216/1264) /home/gerdson/projetos/FIAP-Hackathon-Grupo2/assets/video.mp4: 384x640 2 cortantes, 5.3ms\n",
      "video 1/1 (frame 217/1264) /home/gerdson/projetos/FIAP-Hackathon-Grupo2/assets/video.mp4: 384x640 1 cortante, 5.3ms\n",
      "video 1/1 (frame 218/1264) /home/gerdson/projetos/FIAP-Hackathon-Grupo2/assets/video.mp4: 384x640 1 cortante, 5.3ms\n",
      "video 1/1 (frame 219/1264) /home/gerdson/projetos/FIAP-Hackathon-Grupo2/assets/video.mp4: 384x640 1 cortante, 5.2ms\n",
      "video 1/1 (frame 220/1264) /home/gerdson/projetos/FIAP-Hackathon-Grupo2/assets/video.mp4: 384x640 1 cortante, 5.3ms\n",
      "video 1/1 (frame 221/1264) /home/gerdson/projetos/FIAP-Hackathon-Grupo2/assets/video.mp4: 384x640 1 cortante, 5.3ms\n",
      "video 1/1 (frame 222/1264) /home/gerdson/projetos/FIAP-Hackathon-Grupo2/assets/video.mp4: 384x640 1 cortante, 5.2ms\n",
      "video 1/1 (frame 223/1264) /home/gerdson/projetos/FIAP-Hackathon-Grupo2/assets/video.mp4: 384x640 1 cortante, 5.3ms\n",
      "video 1/1 (frame 224/1264) /home/gerdson/projetos/FIAP-Hackathon-Grupo2/assets/video.mp4: 384x640 1 cortante, 5.3ms\n",
      "video 1/1 (frame 225/1264) /home/gerdson/projetos/FIAP-Hackathon-Grupo2/assets/video.mp4: 384x640 1 cortante, 5.3ms\n",
      "video 1/1 (frame 226/1264) /home/gerdson/projetos/FIAP-Hackathon-Grupo2/assets/video.mp4: 384x640 1 cortante, 5.3ms\n",
      "video 1/1 (frame 227/1264) /home/gerdson/projetos/FIAP-Hackathon-Grupo2/assets/video.mp4: 384x640 1 cortante, 5.3ms\n",
      "video 1/1 (frame 228/1264) /home/gerdson/projetos/FIAP-Hackathon-Grupo2/assets/video.mp4: 384x640 1 cortante, 5.3ms\n",
      "video 1/1 (frame 229/1264) /home/gerdson/projetos/FIAP-Hackathon-Grupo2/assets/video.mp4: 384x640 1 cortante, 5.3ms\n",
      "video 1/1 (frame 230/1264) /home/gerdson/projetos/FIAP-Hackathon-Grupo2/assets/video.mp4: 384x640 (no detections), 5.3ms\n",
      "video 1/1 (frame 231/1264) /home/gerdson/projetos/FIAP-Hackathon-Grupo2/assets/video.mp4: 384x640 1 cortante, 5.2ms\n",
      "video 1/1 (frame 232/1264) /home/gerdson/projetos/FIAP-Hackathon-Grupo2/assets/video.mp4: 384x640 1 cortante, 5.3ms\n",
      "video 1/1 (frame 233/1264) /home/gerdson/projetos/FIAP-Hackathon-Grupo2/assets/video.mp4: 384x640 1 cortante, 5.3ms\n",
      "video 1/1 (frame 234/1264) /home/gerdson/projetos/FIAP-Hackathon-Grupo2/assets/video.mp4: 384x640 1 cortante, 5.3ms\n",
      "video 1/1 (frame 235/1264) /home/gerdson/projetos/FIAP-Hackathon-Grupo2/assets/video.mp4: 384x640 1 cortante, 5.3ms\n",
      "video 1/1 (frame 236/1264) /home/gerdson/projetos/FIAP-Hackathon-Grupo2/assets/video.mp4: 384x640 1 cortante, 5.3ms\n",
      "video 1/1 (frame 237/1264) /home/gerdson/projetos/FIAP-Hackathon-Grupo2/assets/video.mp4: 384x640 1 cortante, 5.7ms\n",
      "video 1/1 (frame 238/1264) /home/gerdson/projetos/FIAP-Hackathon-Grupo2/assets/video.mp4: 384x640 1 cortante, 5.1ms\n",
      "video 1/1 (frame 239/1264) /home/gerdson/projetos/FIAP-Hackathon-Grupo2/assets/video.mp4: 384x640 1 cortante, 6.5ms\n",
      "video 1/1 (frame 240/1264) /home/gerdson/projetos/FIAP-Hackathon-Grupo2/assets/video.mp4: 384x640 1 cortante, 5.7ms\n",
      "video 1/1 (frame 241/1264) /home/gerdson/projetos/FIAP-Hackathon-Grupo2/assets/video.mp4: 384x640 1 cortante, 5.4ms\n",
      "video 1/1 (frame 242/1264) /home/gerdson/projetos/FIAP-Hackathon-Grupo2/assets/video.mp4: 384x640 1 cortante, 6.4ms\n",
      "video 1/1 (frame 243/1264) /home/gerdson/projetos/FIAP-Hackathon-Grupo2/assets/video.mp4: 384x640 1 cortante, 5.9ms\n",
      "video 1/1 (frame 244/1264) /home/gerdson/projetos/FIAP-Hackathon-Grupo2/assets/video.mp4: 384x640 1 cortante, 5.1ms\n",
      "video 1/1 (frame 245/1264) /home/gerdson/projetos/FIAP-Hackathon-Grupo2/assets/video.mp4: 384x640 1 cortante, 5.4ms\n",
      "video 1/1 (frame 246/1264) /home/gerdson/projetos/FIAP-Hackathon-Grupo2/assets/video.mp4: 384x640 1 cortante, 5.2ms\n",
      "video 1/1 (frame 247/1264) /home/gerdson/projetos/FIAP-Hackathon-Grupo2/assets/video.mp4: 384x640 1 cortante, 5.2ms\n",
      "video 1/1 (frame 248/1264) /home/gerdson/projetos/FIAP-Hackathon-Grupo2/assets/video.mp4: 384x640 1 cortante, 6.1ms\n",
      "video 1/1 (frame 249/1264) /home/gerdson/projetos/FIAP-Hackathon-Grupo2/assets/video.mp4: 384x640 1 cortante, 6.4ms\n",
      "video 1/1 (frame 250/1264) /home/gerdson/projetos/FIAP-Hackathon-Grupo2/assets/video.mp4: 384x640 1 cortante, 5.2ms\n",
      "video 1/1 (frame 251/1264) /home/gerdson/projetos/FIAP-Hackathon-Grupo2/assets/video.mp4: 384x640 1 cortante, 6.3ms\n",
      "video 1/1 (frame 252/1264) /home/gerdson/projetos/FIAP-Hackathon-Grupo2/assets/video.mp4: 384x640 1 cortante, 5.4ms\n",
      "video 1/1 (frame 253/1264) /home/gerdson/projetos/FIAP-Hackathon-Grupo2/assets/video.mp4: 384x640 1 cortante, 5.2ms\n",
      "video 1/1 (frame 254/1264) /home/gerdson/projetos/FIAP-Hackathon-Grupo2/assets/video.mp4: 384x640 1 cortante, 5.3ms\n",
      "video 1/1 (frame 255/1264) /home/gerdson/projetos/FIAP-Hackathon-Grupo2/assets/video.mp4: 384x640 1 cortante, 5.1ms\n",
      "video 1/1 (frame 256/1264) /home/gerdson/projetos/FIAP-Hackathon-Grupo2/assets/video.mp4: 384x640 1 cortante, 5.1ms\n",
      "video 1/1 (frame 257/1264) /home/gerdson/projetos/FIAP-Hackathon-Grupo2/assets/video.mp4: 384x640 1 cortante, 5.2ms\n",
      "video 1/1 (frame 258/1264) /home/gerdson/projetos/FIAP-Hackathon-Grupo2/assets/video.mp4: 384x640 1 cortante, 6.4ms\n",
      "video 1/1 (frame 259/1264) /home/gerdson/projetos/FIAP-Hackathon-Grupo2/assets/video.mp4: 384x640 1 cortante, 5.5ms\n",
      "video 1/1 (frame 260/1264) /home/gerdson/projetos/FIAP-Hackathon-Grupo2/assets/video.mp4: 384x640 1 cortante, 5.6ms\n",
      "video 1/1 (frame 261/1264) /home/gerdson/projetos/FIAP-Hackathon-Grupo2/assets/video.mp4: 384x640 (no detections), 5.6ms\n",
      "video 1/1 (frame 262/1264) /home/gerdson/projetos/FIAP-Hackathon-Grupo2/assets/video.mp4: 384x640 (no detections), 5.5ms\n",
      "video 1/1 (frame 263/1264) /home/gerdson/projetos/FIAP-Hackathon-Grupo2/assets/video.mp4: 384x640 1 cortante, 5.2ms\n",
      "video 1/1 (frame 264/1264) /home/gerdson/projetos/FIAP-Hackathon-Grupo2/assets/video.mp4: 384x640 (no detections), 5.3ms\n",
      "video 1/1 (frame 265/1264) /home/gerdson/projetos/FIAP-Hackathon-Grupo2/assets/video.mp4: 384x640 (no detections), 5.8ms\n",
      "video 1/1 (frame 266/1264) /home/gerdson/projetos/FIAP-Hackathon-Grupo2/assets/video.mp4: 384x640 (no detections), 5.2ms\n",
      "video 1/1 (frame 267/1264) /home/gerdson/projetos/FIAP-Hackathon-Grupo2/assets/video.mp4: 384x640 (no detections), 5.3ms\n",
      "video 1/1 (frame 268/1264) /home/gerdson/projetos/FIAP-Hackathon-Grupo2/assets/video.mp4: 384x640 (no detections), 7.9ms\n",
      "video 1/1 (frame 269/1264) /home/gerdson/projetos/FIAP-Hackathon-Grupo2/assets/video.mp4: 384x640 (no detections), 5.9ms\n",
      "video 1/1 (frame 270/1264) /home/gerdson/projetos/FIAP-Hackathon-Grupo2/assets/video.mp4: 384x640 1 cortante, 5.4ms\n",
      "video 1/1 (frame 271/1264) /home/gerdson/projetos/FIAP-Hackathon-Grupo2/assets/video.mp4: 384x640 1 cortante, 5.8ms\n",
      "video 1/1 (frame 272/1264) /home/gerdson/projetos/FIAP-Hackathon-Grupo2/assets/video.mp4: 384x640 (no detections), 5.6ms\n",
      "video 1/1 (frame 273/1264) /home/gerdson/projetos/FIAP-Hackathon-Grupo2/assets/video.mp4: 384x640 1 cortante, 6.8ms\n",
      "video 1/1 (frame 274/1264) /home/gerdson/projetos/FIAP-Hackathon-Grupo2/assets/video.mp4: 384x640 (no detections), 5.4ms\n",
      "video 1/1 (frame 275/1264) /home/gerdson/projetos/FIAP-Hackathon-Grupo2/assets/video.mp4: 384x640 (no detections), 5.7ms\n",
      "video 1/1 (frame 276/1264) /home/gerdson/projetos/FIAP-Hackathon-Grupo2/assets/video.mp4: 384x640 (no detections), 6.4ms\n",
      "video 1/1 (frame 277/1264) /home/gerdson/projetos/FIAP-Hackathon-Grupo2/assets/video.mp4: 384x640 (no detections), 6.4ms\n",
      "video 1/1 (frame 278/1264) /home/gerdson/projetos/FIAP-Hackathon-Grupo2/assets/video.mp4: 384x640 (no detections), 5.7ms\n",
      "video 1/1 (frame 279/1264) /home/gerdson/projetos/FIAP-Hackathon-Grupo2/assets/video.mp4: 384x640 (no detections), 5.3ms\n",
      "video 1/1 (frame 280/1264) /home/gerdson/projetos/FIAP-Hackathon-Grupo2/assets/video.mp4: 384x640 1 cortante, 5.4ms\n",
      "video 1/1 (frame 281/1264) /home/gerdson/projetos/FIAP-Hackathon-Grupo2/assets/video.mp4: 384x640 1 cortante, 5.3ms\n",
      "video 1/1 (frame 282/1264) /home/gerdson/projetos/FIAP-Hackathon-Grupo2/assets/video.mp4: 384x640 1 cortante, 6.3ms\n",
      "video 1/1 (frame 283/1264) /home/gerdson/projetos/FIAP-Hackathon-Grupo2/assets/video.mp4: 384x640 1 cortante, 5.2ms\n",
      "video 1/1 (frame 284/1264) /home/gerdson/projetos/FIAP-Hackathon-Grupo2/assets/video.mp4: 384x640 (no detections), 5.2ms\n",
      "video 1/1 (frame 285/1264) /home/gerdson/projetos/FIAP-Hackathon-Grupo2/assets/video.mp4: 384x640 1 cortante, 5.2ms\n",
      "video 1/1 (frame 286/1264) /home/gerdson/projetos/FIAP-Hackathon-Grupo2/assets/video.mp4: 384x640 1 cortante, 5.5ms\n",
      "video 1/1 (frame 287/1264) /home/gerdson/projetos/FIAP-Hackathon-Grupo2/assets/video.mp4: 384x640 1 cortante, 5.3ms\n",
      "video 1/1 (frame 288/1264) /home/gerdson/projetos/FIAP-Hackathon-Grupo2/assets/video.mp4: 384x640 (no detections), 5.1ms\n",
      "video 1/1 (frame 289/1264) /home/gerdson/projetos/FIAP-Hackathon-Grupo2/assets/video.mp4: 384x640 (no detections), 5.1ms\n",
      "video 1/1 (frame 290/1264) /home/gerdson/projetos/FIAP-Hackathon-Grupo2/assets/video.mp4: 384x640 1 cortante, 5.2ms\n",
      "video 1/1 (frame 291/1264) /home/gerdson/projetos/FIAP-Hackathon-Grupo2/assets/video.mp4: 384x640 1 cortante, 5.1ms\n",
      "video 1/1 (frame 292/1264) /home/gerdson/projetos/FIAP-Hackathon-Grupo2/assets/video.mp4: 384x640 (no detections), 5.1ms\n",
      "video 1/1 (frame 293/1264) /home/gerdson/projetos/FIAP-Hackathon-Grupo2/assets/video.mp4: 384x640 (no detections), 5.1ms\n",
      "video 1/1 (frame 294/1264) /home/gerdson/projetos/FIAP-Hackathon-Grupo2/assets/video.mp4: 384x640 (no detections), 5.4ms\n",
      "video 1/1 (frame 295/1264) /home/gerdson/projetos/FIAP-Hackathon-Grupo2/assets/video.mp4: 384x640 (no detections), 5.2ms\n",
      "video 1/1 (frame 296/1264) /home/gerdson/projetos/FIAP-Hackathon-Grupo2/assets/video.mp4: 384x640 (no detections), 5.3ms\n",
      "video 1/1 (frame 297/1264) /home/gerdson/projetos/FIAP-Hackathon-Grupo2/assets/video.mp4: 384x640 (no detections), 5.2ms\n",
      "video 1/1 (frame 298/1264) /home/gerdson/projetos/FIAP-Hackathon-Grupo2/assets/video.mp4: 384x640 (no detections), 5.1ms\n",
      "video 1/1 (frame 299/1264) /home/gerdson/projetos/FIAP-Hackathon-Grupo2/assets/video.mp4: 384x640 1 cortante, 5.1ms\n",
      "video 1/1 (frame 300/1264) /home/gerdson/projetos/FIAP-Hackathon-Grupo2/assets/video.mp4: 384x640 1 cortante, 5.2ms\n",
      "video 1/1 (frame 301/1264) /home/gerdson/projetos/FIAP-Hackathon-Grupo2/assets/video.mp4: 384x640 1 cortante, 5.1ms\n",
      "video 1/1 (frame 302/1264) /home/gerdson/projetos/FIAP-Hackathon-Grupo2/assets/video.mp4: 384x640 (no detections), 5.3ms\n",
      "video 1/1 (frame 303/1264) /home/gerdson/projetos/FIAP-Hackathon-Grupo2/assets/video.mp4: 384x640 (no detections), 5.1ms\n",
      "video 1/1 (frame 304/1264) /home/gerdson/projetos/FIAP-Hackathon-Grupo2/assets/video.mp4: 384x640 (no detections), 5.1ms\n",
      "video 1/1 (frame 305/1264) /home/gerdson/projetos/FIAP-Hackathon-Grupo2/assets/video.mp4: 384x640 1 cortante, 5.2ms\n",
      "video 1/1 (frame 306/1264) /home/gerdson/projetos/FIAP-Hackathon-Grupo2/assets/video.mp4: 384x640 1 cortante, 5.2ms\n",
      "video 1/1 (frame 307/1264) /home/gerdson/projetos/FIAP-Hackathon-Grupo2/assets/video.mp4: 384x640 (no detections), 5.2ms\n",
      "video 1/1 (frame 308/1264) /home/gerdson/projetos/FIAP-Hackathon-Grupo2/assets/video.mp4: 384x640 1 cortante, 5.2ms\n",
      "video 1/1 (frame 309/1264) /home/gerdson/projetos/FIAP-Hackathon-Grupo2/assets/video.mp4: 384x640 (no detections), 5.1ms\n",
      "video 1/1 (frame 310/1264) /home/gerdson/projetos/FIAP-Hackathon-Grupo2/assets/video.mp4: 384x640 (no detections), 5.2ms\n",
      "video 1/1 (frame 311/1264) /home/gerdson/projetos/FIAP-Hackathon-Grupo2/assets/video.mp4: 384x640 (no detections), 5.2ms\n",
      "video 1/1 (frame 312/1264) /home/gerdson/projetos/FIAP-Hackathon-Grupo2/assets/video.mp4: 384x640 (no detections), 5.1ms\n",
      "video 1/1 (frame 313/1264) /home/gerdson/projetos/FIAP-Hackathon-Grupo2/assets/video.mp4: 384x640 (no detections), 5.1ms\n",
      "video 1/1 (frame 314/1264) /home/gerdson/projetos/FIAP-Hackathon-Grupo2/assets/video.mp4: 384x640 (no detections), 5.2ms\n",
      "video 1/1 (frame 315/1264) /home/gerdson/projetos/FIAP-Hackathon-Grupo2/assets/video.mp4: 384x640 (no detections), 5.2ms\n",
      "video 1/1 (frame 316/1264) /home/gerdson/projetos/FIAP-Hackathon-Grupo2/assets/video.mp4: 384x640 (no detections), 5.1ms\n",
      "video 1/1 (frame 317/1264) /home/gerdson/projetos/FIAP-Hackathon-Grupo2/assets/video.mp4: 384x640 (no detections), 5.3ms\n",
      "video 1/1 (frame 318/1264) /home/gerdson/projetos/FIAP-Hackathon-Grupo2/assets/video.mp4: 384x640 (no detections), 5.2ms\n",
      "video 1/1 (frame 319/1264) /home/gerdson/projetos/FIAP-Hackathon-Grupo2/assets/video.mp4: 384x640 (no detections), 5.1ms\n",
      "video 1/1 (frame 320/1264) /home/gerdson/projetos/FIAP-Hackathon-Grupo2/assets/video.mp4: 384x640 (no detections), 5.1ms\n",
      "video 1/1 (frame 321/1264) /home/gerdson/projetos/FIAP-Hackathon-Grupo2/assets/video.mp4: 384x640 (no detections), 5.2ms\n",
      "video 1/1 (frame 322/1264) /home/gerdson/projetos/FIAP-Hackathon-Grupo2/assets/video.mp4: 384x640 1 cortante, 5.2ms\n",
      "video 1/1 (frame 323/1264) /home/gerdson/projetos/FIAP-Hackathon-Grupo2/assets/video.mp4: 384x640 1 cortante, 5.3ms\n",
      "video 1/1 (frame 324/1264) /home/gerdson/projetos/FIAP-Hackathon-Grupo2/assets/video.mp4: 384x640 (no detections), 5.2ms\n",
      "video 1/1 (frame 325/1264) /home/gerdson/projetos/FIAP-Hackathon-Grupo2/assets/video.mp4: 384x640 (no detections), 5.1ms\n",
      "video 1/1 (frame 326/1264) /home/gerdson/projetos/FIAP-Hackathon-Grupo2/assets/video.mp4: 384x640 (no detections), 5.2ms\n",
      "video 1/1 (frame 327/1264) /home/gerdson/projetos/FIAP-Hackathon-Grupo2/assets/video.mp4: 384x640 (no detections), 5.3ms\n",
      "video 1/1 (frame 328/1264) /home/gerdson/projetos/FIAP-Hackathon-Grupo2/assets/video.mp4: 384x640 (no detections), 5.6ms\n",
      "video 1/1 (frame 329/1264) /home/gerdson/projetos/FIAP-Hackathon-Grupo2/assets/video.mp4: 384x640 (no detections), 5.1ms\n",
      "video 1/1 (frame 330/1264) /home/gerdson/projetos/FIAP-Hackathon-Grupo2/assets/video.mp4: 384x640 1 cortante, 5.2ms\n",
      "video 1/1 (frame 331/1264) /home/gerdson/projetos/FIAP-Hackathon-Grupo2/assets/video.mp4: 384x640 1 cortante, 5.3ms\n",
      "video 1/1 (frame 332/1264) /home/gerdson/projetos/FIAP-Hackathon-Grupo2/assets/video.mp4: 384x640 (no detections), 5.2ms\n",
      "video 1/1 (frame 333/1264) /home/gerdson/projetos/FIAP-Hackathon-Grupo2/assets/video.mp4: 384x640 (no detections), 5.1ms\n",
      "video 1/1 (frame 334/1264) /home/gerdson/projetos/FIAP-Hackathon-Grupo2/assets/video.mp4: 384x640 (no detections), 5.2ms\n",
      "video 1/1 (frame 335/1264) /home/gerdson/projetos/FIAP-Hackathon-Grupo2/assets/video.mp4: 384x640 (no detections), 5.1ms\n",
      "video 1/1 (frame 336/1264) /home/gerdson/projetos/FIAP-Hackathon-Grupo2/assets/video.mp4: 384x640 (no detections), 5.5ms\n",
      "video 1/1 (frame 337/1264) /home/gerdson/projetos/FIAP-Hackathon-Grupo2/assets/video.mp4: 384x640 (no detections), 5.3ms\n",
      "video 1/1 (frame 338/1264) /home/gerdson/projetos/FIAP-Hackathon-Grupo2/assets/video.mp4: 384x640 (no detections), 5.2ms\n",
      "video 1/1 (frame 339/1264) /home/gerdson/projetos/FIAP-Hackathon-Grupo2/assets/video.mp4: 384x640 (no detections), 5.1ms\n",
      "video 1/1 (frame 340/1264) /home/gerdson/projetos/FIAP-Hackathon-Grupo2/assets/video.mp4: 384x640 1 cortante, 5.1ms\n",
      "video 1/1 (frame 341/1264) /home/gerdson/projetos/FIAP-Hackathon-Grupo2/assets/video.mp4: 384x640 1 cortante, 5.1ms\n",
      "video 1/1 (frame 342/1264) /home/gerdson/projetos/FIAP-Hackathon-Grupo2/assets/video.mp4: 384x640 (no detections), 5.5ms\n",
      "video 1/1 (frame 343/1264) /home/gerdson/projetos/FIAP-Hackathon-Grupo2/assets/video.mp4: 384x640 (no detections), 5.3ms\n",
      "video 1/1 (frame 344/1264) /home/gerdson/projetos/FIAP-Hackathon-Grupo2/assets/video.mp4: 384x640 (no detections), 5.2ms\n",
      "video 1/1 (frame 345/1264) /home/gerdson/projetos/FIAP-Hackathon-Grupo2/assets/video.mp4: 384x640 (no detections), 5.1ms\n",
      "video 1/1 (frame 346/1264) /home/gerdson/projetos/FIAP-Hackathon-Grupo2/assets/video.mp4: 384x640 (no detections), 5.1ms\n",
      "video 1/1 (frame 347/1264) /home/gerdson/projetos/FIAP-Hackathon-Grupo2/assets/video.mp4: 384x640 (no detections), 5.1ms\n",
      "video 1/1 (frame 348/1264) /home/gerdson/projetos/FIAP-Hackathon-Grupo2/assets/video.mp4: 384x640 (no detections), 5.1ms\n",
      "video 1/1 (frame 349/1264) /home/gerdson/projetos/FIAP-Hackathon-Grupo2/assets/video.mp4: 384x640 (no detections), 5.1ms\n",
      "video 1/1 (frame 350/1264) /home/gerdson/projetos/FIAP-Hackathon-Grupo2/assets/video.mp4: 384x640 (no detections), 5.2ms\n",
      "video 1/1 (frame 351/1264) /home/gerdson/projetos/FIAP-Hackathon-Grupo2/assets/video.mp4: 384x640 (no detections), 5.2ms\n",
      "video 1/1 (frame 352/1264) /home/gerdson/projetos/FIAP-Hackathon-Grupo2/assets/video.mp4: 384x640 (no detections), 5.2ms\n",
      "video 1/1 (frame 353/1264) /home/gerdson/projetos/FIAP-Hackathon-Grupo2/assets/video.mp4: 384x640 (no detections), 5.2ms\n",
      "video 1/1 (frame 354/1264) /home/gerdson/projetos/FIAP-Hackathon-Grupo2/assets/video.mp4: 384x640 (no detections), 5.1ms\n",
      "video 1/1 (frame 355/1264) /home/gerdson/projetos/FIAP-Hackathon-Grupo2/assets/video.mp4: 384x640 (no detections), 5.1ms\n",
      "video 1/1 (frame 356/1264) /home/gerdson/projetos/FIAP-Hackathon-Grupo2/assets/video.mp4: 384x640 (no detections), 5.1ms\n",
      "video 1/1 (frame 357/1264) /home/gerdson/projetos/FIAP-Hackathon-Grupo2/assets/video.mp4: 384x640 (no detections), 5.2ms\n",
      "video 1/1 (frame 358/1264) /home/gerdson/projetos/FIAP-Hackathon-Grupo2/assets/video.mp4: 384x640 (no detections), 5.6ms\n",
      "video 1/1 (frame 359/1264) /home/gerdson/projetos/FIAP-Hackathon-Grupo2/assets/video.mp4: 384x640 (no detections), 5.2ms\n",
      "video 1/1 (frame 360/1264) /home/gerdson/projetos/FIAP-Hackathon-Grupo2/assets/video.mp4: 384x640 (no detections), 5.1ms\n",
      "video 1/1 (frame 361/1264) /home/gerdson/projetos/FIAP-Hackathon-Grupo2/assets/video.mp4: 384x640 (no detections), 5.1ms\n",
      "video 1/1 (frame 362/1264) /home/gerdson/projetos/FIAP-Hackathon-Grupo2/assets/video.mp4: 384x640 (no detections), 5.1ms\n",
      "video 1/1 (frame 363/1264) /home/gerdson/projetos/FIAP-Hackathon-Grupo2/assets/video.mp4: 384x640 (no detections), 5.3ms\n",
      "video 1/1 (frame 364/1264) /home/gerdson/projetos/FIAP-Hackathon-Grupo2/assets/video.mp4: 384x640 (no detections), 5.8ms\n",
      "video 1/1 (frame 365/1264) /home/gerdson/projetos/FIAP-Hackathon-Grupo2/assets/video.mp4: 384x640 (no detections), 5.2ms\n",
      "video 1/1 (frame 366/1264) /home/gerdson/projetos/FIAP-Hackathon-Grupo2/assets/video.mp4: 384x640 (no detections), 5.2ms\n",
      "video 1/1 (frame 367/1264) /home/gerdson/projetos/FIAP-Hackathon-Grupo2/assets/video.mp4: 384x640 (no detections), 5.1ms\n",
      "video 1/1 (frame 368/1264) /home/gerdson/projetos/FIAP-Hackathon-Grupo2/assets/video.mp4: 384x640 (no detections), 5.1ms\n",
      "video 1/1 (frame 369/1264) /home/gerdson/projetos/FIAP-Hackathon-Grupo2/assets/video.mp4: 384x640 (no detections), 5.2ms\n",
      "video 1/1 (frame 370/1264) /home/gerdson/projetos/FIAP-Hackathon-Grupo2/assets/video.mp4: 384x640 (no detections), 5.2ms\n",
      "video 1/1 (frame 371/1264) /home/gerdson/projetos/FIAP-Hackathon-Grupo2/assets/video.mp4: 384x640 (no detections), 5.3ms\n",
      "video 1/1 (frame 372/1264) /home/gerdson/projetos/FIAP-Hackathon-Grupo2/assets/video.mp4: 384x640 (no detections), 5.1ms\n",
      "video 1/1 (frame 373/1264) /home/gerdson/projetos/FIAP-Hackathon-Grupo2/assets/video.mp4: 384x640 (no detections), 5.1ms\n",
      "video 1/1 (frame 374/1264) /home/gerdson/projetos/FIAP-Hackathon-Grupo2/assets/video.mp4: 384x640 (no detections), 5.1ms\n",
      "video 1/1 (frame 375/1264) /home/gerdson/projetos/FIAP-Hackathon-Grupo2/assets/video.mp4: 384x640 (no detections), 5.1ms\n",
      "video 1/1 (frame 376/1264) /home/gerdson/projetos/FIAP-Hackathon-Grupo2/assets/video.mp4: 384x640 (no detections), 5.5ms\n",
      "video 1/1 (frame 377/1264) /home/gerdson/projetos/FIAP-Hackathon-Grupo2/assets/video.mp4: 384x640 (no detections), 5.4ms\n",
      "video 1/1 (frame 378/1264) /home/gerdson/projetos/FIAP-Hackathon-Grupo2/assets/video.mp4: 384x640 (no detections), 5.2ms\n",
      "video 1/1 (frame 379/1264) /home/gerdson/projetos/FIAP-Hackathon-Grupo2/assets/video.mp4: 384x640 (no detections), 5.1ms\n",
      "video 1/1 (frame 380/1264) /home/gerdson/projetos/FIAP-Hackathon-Grupo2/assets/video.mp4: 384x640 (no detections), 5.1ms\n",
      "video 1/1 (frame 381/1264) /home/gerdson/projetos/FIAP-Hackathon-Grupo2/assets/video.mp4: 384x640 (no detections), 5.1ms\n",
      "video 1/1 (frame 382/1264) /home/gerdson/projetos/FIAP-Hackathon-Grupo2/assets/video.mp4: 384x640 (no detections), 5.4ms\n",
      "video 1/1 (frame 383/1264) /home/gerdson/projetos/FIAP-Hackathon-Grupo2/assets/video.mp4: 384x640 (no detections), 5.3ms\n",
      "video 1/1 (frame 384/1264) /home/gerdson/projetos/FIAP-Hackathon-Grupo2/assets/video.mp4: 384x640 (no detections), 5.2ms\n",
      "video 1/1 (frame 385/1264) /home/gerdson/projetos/FIAP-Hackathon-Grupo2/assets/video.mp4: 384x640 (no detections), 5.1ms\n",
      "video 1/1 (frame 386/1264) /home/gerdson/projetos/FIAP-Hackathon-Grupo2/assets/video.mp4: 384x640 (no detections), 5.1ms\n",
      "video 1/1 (frame 387/1264) /home/gerdson/projetos/FIAP-Hackathon-Grupo2/assets/video.mp4: 384x640 (no detections), 5.1ms\n",
      "video 1/1 (frame 388/1264) /home/gerdson/projetos/FIAP-Hackathon-Grupo2/assets/video.mp4: 384x640 (no detections), 5.2ms\n",
      "video 1/1 (frame 389/1264) /home/gerdson/projetos/FIAP-Hackathon-Grupo2/assets/video.mp4: 384x640 (no detections), 5.2ms\n",
      "video 1/1 (frame 390/1264) /home/gerdson/projetos/FIAP-Hackathon-Grupo2/assets/video.mp4: 384x640 (no detections), 5.1ms\n",
      "video 1/1 (frame 391/1264) /home/gerdson/projetos/FIAP-Hackathon-Grupo2/assets/video.mp4: 384x640 (no detections), 5.1ms\n",
      "video 1/1 (frame 392/1264) /home/gerdson/projetos/FIAP-Hackathon-Grupo2/assets/video.mp4: 384x640 (no detections), 5.1ms\n",
      "video 1/1 (frame 393/1264) /home/gerdson/projetos/FIAP-Hackathon-Grupo2/assets/video.mp4: 384x640 (no detections), 5.1ms\n",
      "video 1/1 (frame 394/1264) /home/gerdson/projetos/FIAP-Hackathon-Grupo2/assets/video.mp4: 384x640 (no detections), 5.1ms\n",
      "video 1/1 (frame 395/1264) /home/gerdson/projetos/FIAP-Hackathon-Grupo2/assets/video.mp4: 384x640 (no detections), 5.2ms\n",
      "video 1/1 (frame 396/1264) /home/gerdson/projetos/FIAP-Hackathon-Grupo2/assets/video.mp4: 384x640 (no detections), 5.1ms\n",
      "video 1/1 (frame 397/1264) /home/gerdson/projetos/FIAP-Hackathon-Grupo2/assets/video.mp4: 384x640 (no detections), 5.1ms\n",
      "video 1/1 (frame 398/1264) /home/gerdson/projetos/FIAP-Hackathon-Grupo2/assets/video.mp4: 384x640 (no detections), 5.1ms\n",
      "video 1/1 (frame 399/1264) /home/gerdson/projetos/FIAP-Hackathon-Grupo2/assets/video.mp4: 384x640 (no detections), 5.1ms\n",
      "video 1/1 (frame 400/1264) /home/gerdson/projetos/FIAP-Hackathon-Grupo2/assets/video.mp4: 384x640 (no detections), 5.1ms\n",
      "video 1/1 (frame 401/1264) /home/gerdson/projetos/FIAP-Hackathon-Grupo2/assets/video.mp4: 384x640 (no detections), 5.2ms\n",
      "video 1/1 (frame 402/1264) /home/gerdson/projetos/FIAP-Hackathon-Grupo2/assets/video.mp4: 384x640 (no detections), 5.2ms\n",
      "video 1/1 (frame 403/1264) /home/gerdson/projetos/FIAP-Hackathon-Grupo2/assets/video.mp4: 384x640 (no detections), 5.1ms\n",
      "video 1/1 (frame 404/1264) /home/gerdson/projetos/FIAP-Hackathon-Grupo2/assets/video.mp4: 384x640 (no detections), 5.1ms\n",
      "video 1/1 (frame 405/1264) /home/gerdson/projetos/FIAP-Hackathon-Grupo2/assets/video.mp4: 384x640 (no detections), 5.1ms\n",
      "video 1/1 (frame 406/1264) /home/gerdson/projetos/FIAP-Hackathon-Grupo2/assets/video.mp4: 384x640 (no detections), 5.1ms\n",
      "video 1/1 (frame 407/1264) /home/gerdson/projetos/FIAP-Hackathon-Grupo2/assets/video.mp4: 384x640 (no detections), 5.1ms\n",
      "video 1/1 (frame 408/1264) /home/gerdson/projetos/FIAP-Hackathon-Grupo2/assets/video.mp4: 384x640 (no detections), 5.2ms\n",
      "video 1/1 (frame 409/1264) /home/gerdson/projetos/FIAP-Hackathon-Grupo2/assets/video.mp4: 384x640 (no detections), 5.2ms\n",
      "video 1/1 (frame 410/1264) /home/gerdson/projetos/FIAP-Hackathon-Grupo2/assets/video.mp4: 384x640 (no detections), 5.1ms\n",
      "video 1/1 (frame 411/1264) /home/gerdson/projetos/FIAP-Hackathon-Grupo2/assets/video.mp4: 384x640 (no detections), 5.1ms\n",
      "video 1/1 (frame 412/1264) /home/gerdson/projetos/FIAP-Hackathon-Grupo2/assets/video.mp4: 384x640 (no detections), 5.1ms\n",
      "video 1/1 (frame 413/1264) /home/gerdson/projetos/FIAP-Hackathon-Grupo2/assets/video.mp4: 384x640 (no detections), 5.3ms\n",
      "video 1/1 (frame 414/1264) /home/gerdson/projetos/FIAP-Hackathon-Grupo2/assets/video.mp4: 384x640 (no detections), 5.2ms\n",
      "video 1/1 (frame 415/1264) /home/gerdson/projetos/FIAP-Hackathon-Grupo2/assets/video.mp4: 384x640 (no detections), 5.2ms\n",
      "video 1/1 (frame 416/1264) /home/gerdson/projetos/FIAP-Hackathon-Grupo2/assets/video.mp4: 384x640 (no detections), 5.2ms\n",
      "video 1/1 (frame 417/1264) /home/gerdson/projetos/FIAP-Hackathon-Grupo2/assets/video.mp4: 384x640 (no detections), 5.4ms\n",
      "video 1/1 (frame 418/1264) /home/gerdson/projetos/FIAP-Hackathon-Grupo2/assets/video.mp4: 384x640 (no detections), 5.2ms\n",
      "video 1/1 (frame 419/1264) /home/gerdson/projetos/FIAP-Hackathon-Grupo2/assets/video.mp4: 384x640 (no detections), 5.2ms\n",
      "video 1/1 (frame 420/1264) /home/gerdson/projetos/FIAP-Hackathon-Grupo2/assets/video.mp4: 384x640 (no detections), 5.2ms\n",
      "video 1/1 (frame 421/1264) /home/gerdson/projetos/FIAP-Hackathon-Grupo2/assets/video.mp4: 384x640 (no detections), 5.4ms\n",
      "video 1/1 (frame 422/1264) /home/gerdson/projetos/FIAP-Hackathon-Grupo2/assets/video.mp4: 384x640 (no detections), 5.2ms\n",
      "video 1/1 (frame 423/1264) /home/gerdson/projetos/FIAP-Hackathon-Grupo2/assets/video.mp4: 384x640 (no detections), 5.2ms\n",
      "video 1/1 (frame 424/1264) /home/gerdson/projetos/FIAP-Hackathon-Grupo2/assets/video.mp4: 384x640 (no detections), 7.0ms\n",
      "video 1/1 (frame 425/1264) /home/gerdson/projetos/FIAP-Hackathon-Grupo2/assets/video.mp4: 384x640 (no detections), 5.3ms\n",
      "video 1/1 (frame 426/1264) /home/gerdson/projetos/FIAP-Hackathon-Grupo2/assets/video.mp4: 384x640 (no detections), 5.8ms\n",
      "video 1/1 (frame 427/1264) /home/gerdson/projetos/FIAP-Hackathon-Grupo2/assets/video.mp4: 384x640 (no detections), 5.7ms\n",
      "video 1/1 (frame 428/1264) /home/gerdson/projetos/FIAP-Hackathon-Grupo2/assets/video.mp4: 384x640 (no detections), 5.4ms\n",
      "video 1/1 (frame 429/1264) /home/gerdson/projetos/FIAP-Hackathon-Grupo2/assets/video.mp4: 384x640 (no detections), 5.4ms\n",
      "video 1/1 (frame 430/1264) /home/gerdson/projetos/FIAP-Hackathon-Grupo2/assets/video.mp4: 384x640 (no detections), 5.4ms\n",
      "video 1/1 (frame 431/1264) /home/gerdson/projetos/FIAP-Hackathon-Grupo2/assets/video.mp4: 384x640 (no detections), 5.3ms\n",
      "video 1/1 (frame 432/1264) /home/gerdson/projetos/FIAP-Hackathon-Grupo2/assets/video.mp4: 384x640 (no detections), 5.3ms\n",
      "video 1/1 (frame 433/1264) /home/gerdson/projetos/FIAP-Hackathon-Grupo2/assets/video.mp4: 384x640 (no detections), 5.4ms\n",
      "video 1/1 (frame 434/1264) /home/gerdson/projetos/FIAP-Hackathon-Grupo2/assets/video.mp4: 384x640 (no detections), 5.2ms\n",
      "video 1/1 (frame 435/1264) /home/gerdson/projetos/FIAP-Hackathon-Grupo2/assets/video.mp4: 384x640 (no detections), 5.3ms\n",
      "video 1/1 (frame 436/1264) /home/gerdson/projetos/FIAP-Hackathon-Grupo2/assets/video.mp4: 384x640 (no detections), 5.2ms\n",
      "video 1/1 (frame 437/1264) /home/gerdson/projetos/FIAP-Hackathon-Grupo2/assets/video.mp4: 384x640 (no detections), 5.3ms\n",
      "video 1/1 (frame 438/1264) /home/gerdson/projetos/FIAP-Hackathon-Grupo2/assets/video.mp4: 384x640 (no detections), 5.2ms\n",
      "video 1/1 (frame 439/1264) /home/gerdson/projetos/FIAP-Hackathon-Grupo2/assets/video.mp4: 384x640 (no detections), 5.2ms\n",
      "video 1/1 (frame 440/1264) /home/gerdson/projetos/FIAP-Hackathon-Grupo2/assets/video.mp4: 384x640 (no detections), 5.2ms\n",
      "video 1/1 (frame 441/1264) /home/gerdson/projetos/FIAP-Hackathon-Grupo2/assets/video.mp4: 384x640 (no detections), 5.2ms\n",
      "video 1/1 (frame 442/1264) /home/gerdson/projetos/FIAP-Hackathon-Grupo2/assets/video.mp4: 384x640 (no detections), 5.2ms\n",
      "video 1/1 (frame 443/1264) /home/gerdson/projetos/FIAP-Hackathon-Grupo2/assets/video.mp4: 384x640 (no detections), 5.2ms\n",
      "video 1/1 (frame 444/1264) /home/gerdson/projetos/FIAP-Hackathon-Grupo2/assets/video.mp4: 384x640 (no detections), 5.2ms\n",
      "video 1/1 (frame 445/1264) /home/gerdson/projetos/FIAP-Hackathon-Grupo2/assets/video.mp4: 384x640 (no detections), 5.2ms\n",
      "video 1/1 (frame 446/1264) /home/gerdson/projetos/FIAP-Hackathon-Grupo2/assets/video.mp4: 384x640 (no detections), 5.4ms\n",
      "video 1/1 (frame 447/1264) /home/gerdson/projetos/FIAP-Hackathon-Grupo2/assets/video.mp4: 384x640 (no detections), 5.2ms\n",
      "video 1/1 (frame 448/1264) /home/gerdson/projetos/FIAP-Hackathon-Grupo2/assets/video.mp4: 384x640 (no detections), 5.2ms\n",
      "video 1/1 (frame 449/1264) /home/gerdson/projetos/FIAP-Hackathon-Grupo2/assets/video.mp4: 384x640 (no detections), 5.2ms\n",
      "video 1/1 (frame 450/1264) /home/gerdson/projetos/FIAP-Hackathon-Grupo2/assets/video.mp4: 384x640 (no detections), 5.2ms\n",
      "video 1/1 (frame 451/1264) /home/gerdson/projetos/FIAP-Hackathon-Grupo2/assets/video.mp4: 384x640 (no detections), 5.4ms\n",
      "video 1/1 (frame 452/1264) /home/gerdson/projetos/FIAP-Hackathon-Grupo2/assets/video.mp4: 384x640 (no detections), 5.2ms\n",
      "video 1/1 (frame 453/1264) /home/gerdson/projetos/FIAP-Hackathon-Grupo2/assets/video.mp4: 384x640 (no detections), 5.2ms\n",
      "video 1/1 (frame 454/1264) /home/gerdson/projetos/FIAP-Hackathon-Grupo2/assets/video.mp4: 384x640 (no detections), 5.2ms\n",
      "video 1/1 (frame 455/1264) /home/gerdson/projetos/FIAP-Hackathon-Grupo2/assets/video.mp4: 384x640 (no detections), 5.2ms\n",
      "video 1/1 (frame 456/1264) /home/gerdson/projetos/FIAP-Hackathon-Grupo2/assets/video.mp4: 384x640 1 cortante, 5.2ms\n",
      "video 1/1 (frame 457/1264) /home/gerdson/projetos/FIAP-Hackathon-Grupo2/assets/video.mp4: 384x640 1 cortante, 5.2ms\n",
      "video 1/1 (frame 458/1264) /home/gerdson/projetos/FIAP-Hackathon-Grupo2/assets/video.mp4: 384x640 1 cortante, 5.5ms\n",
      "video 1/1 (frame 459/1264) /home/gerdson/projetos/FIAP-Hackathon-Grupo2/assets/video.mp4: 384x640 1 cortante, 5.2ms\n",
      "video 1/1 (frame 460/1264) /home/gerdson/projetos/FIAP-Hackathon-Grupo2/assets/video.mp4: 384x640 1 cortante, 5.2ms\n",
      "video 1/1 (frame 461/1264) /home/gerdson/projetos/FIAP-Hackathon-Grupo2/assets/video.mp4: 384x640 (no detections), 5.2ms\n",
      "video 1/1 (frame 462/1264) /home/gerdson/projetos/FIAP-Hackathon-Grupo2/assets/video.mp4: 384x640 1 cortante, 5.2ms\n",
      "video 1/1 (frame 463/1264) /home/gerdson/projetos/FIAP-Hackathon-Grupo2/assets/video.mp4: 384x640 1 cortante, 5.2ms\n",
      "video 1/1 (frame 464/1264) /home/gerdson/projetos/FIAP-Hackathon-Grupo2/assets/video.mp4: 384x640 1 cortante, 5.2ms\n",
      "video 1/1 (frame 465/1264) /home/gerdson/projetos/FIAP-Hackathon-Grupo2/assets/video.mp4: 384x640 1 cortante, 5.2ms\n",
      "video 1/1 (frame 466/1264) /home/gerdson/projetos/FIAP-Hackathon-Grupo2/assets/video.mp4: 384x640 (no detections), 5.2ms\n",
      "video 1/1 (frame 467/1264) /home/gerdson/projetos/FIAP-Hackathon-Grupo2/assets/video.mp4: 384x640 (no detections), 6.8ms\n",
      "video 1/1 (frame 468/1264) /home/gerdson/projetos/FIAP-Hackathon-Grupo2/assets/video.mp4: 384x640 1 cortante, 5.1ms\n",
      "video 1/1 (frame 469/1264) /home/gerdson/projetos/FIAP-Hackathon-Grupo2/assets/video.mp4: 384x640 1 cortante, 5.2ms\n",
      "video 1/1 (frame 470/1264) /home/gerdson/projetos/FIAP-Hackathon-Grupo2/assets/video.mp4: 384x640 2 cortantes, 5.2ms\n",
      "video 1/1 (frame 471/1264) /home/gerdson/projetos/FIAP-Hackathon-Grupo2/assets/video.mp4: 384x640 1 cortante, 5.2ms\n",
      "video 1/1 (frame 472/1264) /home/gerdson/projetos/FIAP-Hackathon-Grupo2/assets/video.mp4: 384x640 (no detections), 5.3ms\n",
      "video 1/1 (frame 473/1264) /home/gerdson/projetos/FIAP-Hackathon-Grupo2/assets/video.mp4: 384x640 (no detections), 5.1ms\n",
      "video 1/1 (frame 474/1264) /home/gerdson/projetos/FIAP-Hackathon-Grupo2/assets/video.mp4: 384x640 (no detections), 5.1ms\n",
      "video 1/1 (frame 475/1264) /home/gerdson/projetos/FIAP-Hackathon-Grupo2/assets/video.mp4: 384x640 (no detections), 5.2ms\n",
      "video 1/1 (frame 476/1264) /home/gerdson/projetos/FIAP-Hackathon-Grupo2/assets/video.mp4: 384x640 (no detections), 5.2ms\n",
      "video 1/1 (frame 477/1264) /home/gerdson/projetos/FIAP-Hackathon-Grupo2/assets/video.mp4: 384x640 (no detections), 5.3ms\n",
      "video 1/1 (frame 478/1264) /home/gerdson/projetos/FIAP-Hackathon-Grupo2/assets/video.mp4: 384x640 (no detections), 5.2ms\n",
      "video 1/1 (frame 479/1264) /home/gerdson/projetos/FIAP-Hackathon-Grupo2/assets/video.mp4: 384x640 (no detections), 5.2ms\n",
      "video 1/1 (frame 480/1264) /home/gerdson/projetos/FIAP-Hackathon-Grupo2/assets/video.mp4: 384x640 (no detections), 5.2ms\n",
      "video 1/1 (frame 481/1264) /home/gerdson/projetos/FIAP-Hackathon-Grupo2/assets/video.mp4: 384x640 (no detections), 5.1ms\n",
      "video 1/1 (frame 482/1264) /home/gerdson/projetos/FIAP-Hackathon-Grupo2/assets/video.mp4: 384x640 1 cortante, 5.1ms\n",
      "video 1/1 (frame 483/1264) /home/gerdson/projetos/FIAP-Hackathon-Grupo2/assets/video.mp4: 384x640 (no detections), 5.1ms\n",
      "video 1/1 (frame 484/1264) /home/gerdson/projetos/FIAP-Hackathon-Grupo2/assets/video.mp4: 384x640 (no detections), 5.2ms\n",
      "video 1/1 (frame 485/1264) /home/gerdson/projetos/FIAP-Hackathon-Grupo2/assets/video.mp4: 384x640 1 arma, 5.1ms\n",
      "video 1/1 (frame 486/1264) /home/gerdson/projetos/FIAP-Hackathon-Grupo2/assets/video.mp4: 384x640 1 cortante, 5.1ms\n",
      "video 1/1 (frame 487/1264) /home/gerdson/projetos/FIAP-Hackathon-Grupo2/assets/video.mp4: 384x640 1 cortante, 5.2ms\n",
      "video 1/1 (frame 488/1264) /home/gerdson/projetos/FIAP-Hackathon-Grupo2/assets/video.mp4: 384x640 (no detections), 7.3ms\n",
      "video 1/1 (frame 489/1264) /home/gerdson/projetos/FIAP-Hackathon-Grupo2/assets/video.mp4: 384x640 (no detections), 5.2ms\n",
      "video 1/1 (frame 490/1264) /home/gerdson/projetos/FIAP-Hackathon-Grupo2/assets/video.mp4: 384x640 1 cortante, 5.3ms\n",
      "video 1/1 (frame 491/1264) /home/gerdson/projetos/FIAP-Hackathon-Grupo2/assets/video.mp4: 384x640 1 cortante, 5.1ms\n",
      "video 1/1 (frame 492/1264) /home/gerdson/projetos/FIAP-Hackathon-Grupo2/assets/video.mp4: 384x640 1 cortante, 5.1ms\n",
      "video 1/1 (frame 493/1264) /home/gerdson/projetos/FIAP-Hackathon-Grupo2/assets/video.mp4: 384x640 1 cortante, 5.1ms\n",
      "video 1/1 (frame 494/1264) /home/gerdson/projetos/FIAP-Hackathon-Grupo2/assets/video.mp4: 384x640 1 cortante, 5.1ms\n",
      "video 1/1 (frame 495/1264) /home/gerdson/projetos/FIAP-Hackathon-Grupo2/assets/video.mp4: 384x640 1 cortante, 5.1ms\n",
      "video 1/1 (frame 496/1264) /home/gerdson/projetos/FIAP-Hackathon-Grupo2/assets/video.mp4: 384x640 1 cortante, 5.1ms\n",
      "video 1/1 (frame 497/1264) /home/gerdson/projetos/FIAP-Hackathon-Grupo2/assets/video.mp4: 384x640 1 cortante, 5.1ms\n",
      "video 1/1 (frame 498/1264) /home/gerdson/projetos/FIAP-Hackathon-Grupo2/assets/video.mp4: 384x640 1 cortante, 7.4ms\n",
      "video 1/1 (frame 499/1264) /home/gerdson/projetos/FIAP-Hackathon-Grupo2/assets/video.mp4: 384x640 1 cortante, 5.1ms\n",
      "video 1/1 (frame 500/1264) /home/gerdson/projetos/FIAP-Hackathon-Grupo2/assets/video.mp4: 384x640 1 cortante, 5.1ms\n",
      "video 1/1 (frame 501/1264) /home/gerdson/projetos/FIAP-Hackathon-Grupo2/assets/video.mp4: 384x640 (no detections), 5.2ms\n",
      "video 1/1 (frame 502/1264) /home/gerdson/projetos/FIAP-Hackathon-Grupo2/assets/video.mp4: 384x640 (no detections), 5.4ms\n",
      "video 1/1 (frame 503/1264) /home/gerdson/projetos/FIAP-Hackathon-Grupo2/assets/video.mp4: 384x640 (no detections), 5.5ms\n",
      "video 1/1 (frame 504/1264) /home/gerdson/projetos/FIAP-Hackathon-Grupo2/assets/video.mp4: 384x640 (no detections), 5.7ms\n",
      "video 1/1 (frame 505/1264) /home/gerdson/projetos/FIAP-Hackathon-Grupo2/assets/video.mp4: 384x640 (no detections), 5.7ms\n",
      "video 1/1 (frame 506/1264) /home/gerdson/projetos/FIAP-Hackathon-Grupo2/assets/video.mp4: 384x640 (no detections), 5.5ms\n",
      "video 1/1 (frame 507/1264) /home/gerdson/projetos/FIAP-Hackathon-Grupo2/assets/video.mp4: 384x640 (no detections), 5.3ms\n",
      "video 1/1 (frame 508/1264) /home/gerdson/projetos/FIAP-Hackathon-Grupo2/assets/video.mp4: 384x640 1 cortante, 5.3ms\n",
      "video 1/1 (frame 509/1264) /home/gerdson/projetos/FIAP-Hackathon-Grupo2/assets/video.mp4: 384x640 1 cortante, 5.2ms\n",
      "video 1/1 (frame 510/1264) /home/gerdson/projetos/FIAP-Hackathon-Grupo2/assets/video.mp4: 384x640 (no detections), 5.2ms\n",
      "video 1/1 (frame 511/1264) /home/gerdson/projetos/FIAP-Hackathon-Grupo2/assets/video.mp4: 384x640 (no detections), 5.2ms\n",
      "video 1/1 (frame 512/1264) /home/gerdson/projetos/FIAP-Hackathon-Grupo2/assets/video.mp4: 384x640 1 arma, 5.1ms\n",
      "video 1/1 (frame 513/1264) /home/gerdson/projetos/FIAP-Hackathon-Grupo2/assets/video.mp4: 384x640 (no detections), 5.3ms\n",
      "video 1/1 (frame 514/1264) /home/gerdson/projetos/FIAP-Hackathon-Grupo2/assets/video.mp4: 384x640 (no detections), 6.6ms\n",
      "video 1/1 (frame 515/1264) /home/gerdson/projetos/FIAP-Hackathon-Grupo2/assets/video.mp4: 384x640 (no detections), 5.1ms\n",
      "video 1/1 (frame 516/1264) /home/gerdson/projetos/FIAP-Hackathon-Grupo2/assets/video.mp4: 384x640 1 arma, 5.1ms\n",
      "video 1/1 (frame 517/1264) /home/gerdson/projetos/FIAP-Hackathon-Grupo2/assets/video.mp4: 384x640 1 arma, 5.2ms\n",
      "video 1/1 (frame 518/1264) /home/gerdson/projetos/FIAP-Hackathon-Grupo2/assets/video.mp4: 384x640 (no detections), 5.1ms\n",
      "video 1/1 (frame 519/1264) /home/gerdson/projetos/FIAP-Hackathon-Grupo2/assets/video.mp4: 384x640 (no detections), 5.1ms\n",
      "video 1/1 (frame 520/1264) /home/gerdson/projetos/FIAP-Hackathon-Grupo2/assets/video.mp4: 384x640 (no detections), 7.2ms\n",
      "video 1/1 (frame 521/1264) /home/gerdson/projetos/FIAP-Hackathon-Grupo2/assets/video.mp4: 384x640 1 cortante, 5.2ms\n",
      "video 1/1 (frame 522/1264) /home/gerdson/projetos/FIAP-Hackathon-Grupo2/assets/video.mp4: 384x640 (no detections), 5.2ms\n",
      "video 1/1 (frame 523/1264) /home/gerdson/projetos/FIAP-Hackathon-Grupo2/assets/video.mp4: 384x640 (no detections), 5.2ms\n",
      "video 1/1 (frame 524/1264) /home/gerdson/projetos/FIAP-Hackathon-Grupo2/assets/video.mp4: 384x640 (no detections), 5.3ms\n",
      "video 1/1 (frame 525/1264) /home/gerdson/projetos/FIAP-Hackathon-Grupo2/assets/video.mp4: 384x640 (no detections), 5.3ms\n",
      "video 1/1 (frame 526/1264) /home/gerdson/projetos/FIAP-Hackathon-Grupo2/assets/video.mp4: 384x640 (no detections), 5.2ms\n",
      "video 1/1 (frame 527/1264) /home/gerdson/projetos/FIAP-Hackathon-Grupo2/assets/video.mp4: 384x640 (no detections), 5.2ms\n",
      "video 1/1 (frame 528/1264) /home/gerdson/projetos/FIAP-Hackathon-Grupo2/assets/video.mp4: 384x640 (no detections), 5.2ms\n",
      "video 1/1 (frame 529/1264) /home/gerdson/projetos/FIAP-Hackathon-Grupo2/assets/video.mp4: 384x640 (no detections), 5.3ms\n",
      "video 1/1 (frame 530/1264) /home/gerdson/projetos/FIAP-Hackathon-Grupo2/assets/video.mp4: 384x640 (no detections), 7.7ms\n",
      "video 1/1 (frame 531/1264) /home/gerdson/projetos/FIAP-Hackathon-Grupo2/assets/video.mp4: 384x640 (no detections), 5.6ms\n",
      "video 1/1 (frame 532/1264) /home/gerdson/projetos/FIAP-Hackathon-Grupo2/assets/video.mp4: 384x640 (no detections), 5.3ms\n",
      "video 1/1 (frame 533/1264) /home/gerdson/projetos/FIAP-Hackathon-Grupo2/assets/video.mp4: 384x640 (no detections), 5.3ms\n",
      "video 1/1 (frame 534/1264) /home/gerdson/projetos/FIAP-Hackathon-Grupo2/assets/video.mp4: 384x640 (no detections), 5.2ms\n",
      "video 1/1 (frame 535/1264) /home/gerdson/projetos/FIAP-Hackathon-Grupo2/assets/video.mp4: 384x640 (no detections), 5.1ms\n",
      "video 1/1 (frame 536/1264) /home/gerdson/projetos/FIAP-Hackathon-Grupo2/assets/video.mp4: 384x640 (no detections), 5.9ms\n",
      "video 1/1 (frame 537/1264) /home/gerdson/projetos/FIAP-Hackathon-Grupo2/assets/video.mp4: 384x640 (no detections), 5.1ms\n",
      "video 1/1 (frame 538/1264) /home/gerdson/projetos/FIAP-Hackathon-Grupo2/assets/video.mp4: 384x640 (no detections), 5.1ms\n",
      "video 1/1 (frame 539/1264) /home/gerdson/projetos/FIAP-Hackathon-Grupo2/assets/video.mp4: 384x640 (no detections), 5.1ms\n",
      "video 1/1 (frame 540/1264) /home/gerdson/projetos/FIAP-Hackathon-Grupo2/assets/video.mp4: 384x640 (no detections), 5.2ms\n",
      "video 1/1 (frame 541/1264) /home/gerdson/projetos/FIAP-Hackathon-Grupo2/assets/video.mp4: 384x640 (no detections), 5.1ms\n",
      "video 1/1 (frame 542/1264) /home/gerdson/projetos/FIAP-Hackathon-Grupo2/assets/video.mp4: 384x640 (no detections), 5.1ms\n",
      "video 1/1 (frame 543/1264) /home/gerdson/projetos/FIAP-Hackathon-Grupo2/assets/video.mp4: 384x640 (no detections), 5.1ms\n",
      "video 1/1 (frame 544/1264) /home/gerdson/projetos/FIAP-Hackathon-Grupo2/assets/video.mp4: 384x640 (no detections), 5.1ms\n",
      "video 1/1 (frame 545/1264) /home/gerdson/projetos/FIAP-Hackathon-Grupo2/assets/video.mp4: 384x640 (no detections), 5.3ms\n",
      "video 1/1 (frame 546/1264) /home/gerdson/projetos/FIAP-Hackathon-Grupo2/assets/video.mp4: 384x640 (no detections), 5.2ms\n",
      "video 1/1 (frame 547/1264) /home/gerdson/projetos/FIAP-Hackathon-Grupo2/assets/video.mp4: 384x640 (no detections), 5.2ms\n",
      "video 1/1 (frame 548/1264) /home/gerdson/projetos/FIAP-Hackathon-Grupo2/assets/video.mp4: 384x640 (no detections), 5.1ms\n",
      "video 1/1 (frame 549/1264) /home/gerdson/projetos/FIAP-Hackathon-Grupo2/assets/video.mp4: 384x640 (no detections), 7.0ms\n",
      "video 1/1 (frame 550/1264) /home/gerdson/projetos/FIAP-Hackathon-Grupo2/assets/video.mp4: 384x640 (no detections), 5.2ms\n",
      "video 1/1 (frame 551/1264) /home/gerdson/projetos/FIAP-Hackathon-Grupo2/assets/video.mp4: 384x640 (no detections), 5.1ms\n",
      "video 1/1 (frame 552/1264) /home/gerdson/projetos/FIAP-Hackathon-Grupo2/assets/video.mp4: 384x640 (no detections), 5.1ms\n",
      "video 1/1 (frame 553/1264) /home/gerdson/projetos/FIAP-Hackathon-Grupo2/assets/video.mp4: 384x640 (no detections), 5.1ms\n",
      "video 1/1 (frame 554/1264) /home/gerdson/projetos/FIAP-Hackathon-Grupo2/assets/video.mp4: 384x640 (no detections), 5.1ms\n",
      "video 1/1 (frame 555/1264) /home/gerdson/projetos/FIAP-Hackathon-Grupo2/assets/video.mp4: 384x640 (no detections), 5.1ms\n",
      "video 1/1 (frame 556/1264) /home/gerdson/projetos/FIAP-Hackathon-Grupo2/assets/video.mp4: 384x640 (no detections), 5.1ms\n",
      "video 1/1 (frame 557/1264) /home/gerdson/projetos/FIAP-Hackathon-Grupo2/assets/video.mp4: 384x640 (no detections), 5.1ms\n",
      "video 1/1 (frame 558/1264) /home/gerdson/projetos/FIAP-Hackathon-Grupo2/assets/video.mp4: 384x640 (no detections), 5.1ms\n",
      "video 1/1 (frame 559/1264) /home/gerdson/projetos/FIAP-Hackathon-Grupo2/assets/video.mp4: 384x640 (no detections), 5.3ms\n",
      "video 1/1 (frame 560/1264) /home/gerdson/projetos/FIAP-Hackathon-Grupo2/assets/video.mp4: 384x640 (no detections), 5.4ms\n",
      "video 1/1 (frame 561/1264) /home/gerdson/projetos/FIAP-Hackathon-Grupo2/assets/video.mp4: 384x640 (no detections), 5.6ms\n",
      "video 1/1 (frame 562/1264) /home/gerdson/projetos/FIAP-Hackathon-Grupo2/assets/video.mp4: 384x640 (no detections), 5.2ms\n",
      "video 1/1 (frame 563/1264) /home/gerdson/projetos/FIAP-Hackathon-Grupo2/assets/video.mp4: 384x640 (no detections), 5.1ms\n",
      "video 1/1 (frame 564/1264) /home/gerdson/projetos/FIAP-Hackathon-Grupo2/assets/video.mp4: 384x640 1 cortante, 5.2ms\n",
      "video 1/1 (frame 565/1264) /home/gerdson/projetos/FIAP-Hackathon-Grupo2/assets/video.mp4: 384x640 1 cortante, 5.7ms\n",
      "video 1/1 (frame 566/1264) /home/gerdson/projetos/FIAP-Hackathon-Grupo2/assets/video.mp4: 384x640 1 cortante, 5.1ms\n",
      "video 1/1 (frame 567/1264) /home/gerdson/projetos/FIAP-Hackathon-Grupo2/assets/video.mp4: 384x640 1 cortante, 5.1ms\n",
      "video 1/1 (frame 568/1264) /home/gerdson/projetos/FIAP-Hackathon-Grupo2/assets/video.mp4: 384x640 1 cortante, 5.1ms\n",
      "video 1/1 (frame 569/1264) /home/gerdson/projetos/FIAP-Hackathon-Grupo2/assets/video.mp4: 384x640 (no detections), 5.3ms\n",
      "video 1/1 (frame 570/1264) /home/gerdson/projetos/FIAP-Hackathon-Grupo2/assets/video.mp4: 384x640 (no detections), 5.1ms\n",
      "video 1/1 (frame 571/1264) /home/gerdson/projetos/FIAP-Hackathon-Grupo2/assets/video.mp4: 384x640 (no detections), 5.1ms\n",
      "video 1/1 (frame 572/1264) /home/gerdson/projetos/FIAP-Hackathon-Grupo2/assets/video.mp4: 384x640 (no detections), 5.1ms\n",
      "video 1/1 (frame 573/1264) /home/gerdson/projetos/FIAP-Hackathon-Grupo2/assets/video.mp4: 384x640 (no detections), 5.1ms\n",
      "video 1/1 (frame 574/1264) /home/gerdson/projetos/FIAP-Hackathon-Grupo2/assets/video.mp4: 384x640 (no detections), 5.3ms\n",
      "video 1/1 (frame 575/1264) /home/gerdson/projetos/FIAP-Hackathon-Grupo2/assets/video.mp4: 384x640 1 cortante, 5.2ms\n",
      "video 1/1 (frame 576/1264) /home/gerdson/projetos/FIAP-Hackathon-Grupo2/assets/video.mp4: 384x640 1 cortante, 5.2ms\n",
      "video 1/1 (frame 577/1264) /home/gerdson/projetos/FIAP-Hackathon-Grupo2/assets/video.mp4: 384x640 1 cortante, 5.3ms\n",
      "video 1/1 (frame 578/1264) /home/gerdson/projetos/FIAP-Hackathon-Grupo2/assets/video.mp4: 384x640 1 cortante, 5.2ms\n",
      "video 1/1 (frame 579/1264) /home/gerdson/projetos/FIAP-Hackathon-Grupo2/assets/video.mp4: 384x640 1 cortante, 5.1ms\n",
      "video 1/1 (frame 580/1264) /home/gerdson/projetos/FIAP-Hackathon-Grupo2/assets/video.mp4: 384x640 1 cortante, 5.3ms\n",
      "video 1/1 (frame 581/1264) /home/gerdson/projetos/FIAP-Hackathon-Grupo2/assets/video.mp4: 384x640 1 cortante, 7.1ms\n",
      "video 1/1 (frame 582/1264) /home/gerdson/projetos/FIAP-Hackathon-Grupo2/assets/video.mp4: 384x640 1 cortante, 5.2ms\n",
      "video 1/1 (frame 583/1264) /home/gerdson/projetos/FIAP-Hackathon-Grupo2/assets/video.mp4: 384x640 1 cortante, 5.2ms\n",
      "video 1/1 (frame 584/1264) /home/gerdson/projetos/FIAP-Hackathon-Grupo2/assets/video.mp4: 384x640 1 cortante, 5.3ms\n",
      "video 1/1 (frame 585/1264) /home/gerdson/projetos/FIAP-Hackathon-Grupo2/assets/video.mp4: 384x640 1 cortante, 5.3ms\n",
      "video 1/1 (frame 586/1264) /home/gerdson/projetos/FIAP-Hackathon-Grupo2/assets/video.mp4: 384x640 1 cortante, 5.2ms\n",
      "video 1/1 (frame 587/1264) /home/gerdson/projetos/FIAP-Hackathon-Grupo2/assets/video.mp4: 384x640 1 cortante, 5.2ms\n",
      "video 1/1 (frame 588/1264) /home/gerdson/projetos/FIAP-Hackathon-Grupo2/assets/video.mp4: 384x640 1 cortante, 5.3ms\n",
      "video 1/1 (frame 589/1264) /home/gerdson/projetos/FIAP-Hackathon-Grupo2/assets/video.mp4: 384x640 1 cortante, 5.2ms\n",
      "video 1/1 (frame 590/1264) /home/gerdson/projetos/FIAP-Hackathon-Grupo2/assets/video.mp4: 384x640 1 cortante, 5.3ms\n",
      "video 1/1 (frame 591/1264) /home/gerdson/projetos/FIAP-Hackathon-Grupo2/assets/video.mp4: 384x640 1 cortante, 5.2ms\n",
      "video 1/1 (frame 592/1264) /home/gerdson/projetos/FIAP-Hackathon-Grupo2/assets/video.mp4: 384x640 1 cortante, 5.1ms\n",
      "video 1/1 (frame 593/1264) /home/gerdson/projetos/FIAP-Hackathon-Grupo2/assets/video.mp4: 384x640 1 cortante, 5.3ms\n",
      "video 1/1 (frame 594/1264) /home/gerdson/projetos/FIAP-Hackathon-Grupo2/assets/video.mp4: 384x640 1 cortante, 5.1ms\n",
      "video 1/1 (frame 595/1264) /home/gerdson/projetos/FIAP-Hackathon-Grupo2/assets/video.mp4: 384x640 1 cortante, 5.1ms\n",
      "video 1/1 (frame 596/1264) /home/gerdson/projetos/FIAP-Hackathon-Grupo2/assets/video.mp4: 384x640 1 cortante, 6.5ms\n",
      "video 1/1 (frame 597/1264) /home/gerdson/projetos/FIAP-Hackathon-Grupo2/assets/video.mp4: 384x640 1 cortante, 6.7ms\n",
      "video 1/1 (frame 598/1264) /home/gerdson/projetos/FIAP-Hackathon-Grupo2/assets/video.mp4: 384x640 (no detections), 5.3ms\n",
      "video 1/1 (frame 599/1264) /home/gerdson/projetos/FIAP-Hackathon-Grupo2/assets/video.mp4: 384x640 (no detections), 5.1ms\n",
      "video 1/1 (frame 600/1264) /home/gerdson/projetos/FIAP-Hackathon-Grupo2/assets/video.mp4: 384x640 (no detections), 5.2ms\n",
      "video 1/1 (frame 601/1264) /home/gerdson/projetos/FIAP-Hackathon-Grupo2/assets/video.mp4: 384x640 (no detections), 5.3ms\n",
      "video 1/1 (frame 602/1264) /home/gerdson/projetos/FIAP-Hackathon-Grupo2/assets/video.mp4: 384x640 (no detections), 5.2ms\n",
      "video 1/1 (frame 603/1264) /home/gerdson/projetos/FIAP-Hackathon-Grupo2/assets/video.mp4: 384x640 (no detections), 5.2ms\n",
      "video 1/1 (frame 604/1264) /home/gerdson/projetos/FIAP-Hackathon-Grupo2/assets/video.mp4: 384x640 (no detections), 5.3ms\n",
      "video 1/1 (frame 605/1264) /home/gerdson/projetos/FIAP-Hackathon-Grupo2/assets/video.mp4: 384x640 (no detections), 5.1ms\n",
      "video 1/1 (frame 606/1264) /home/gerdson/projetos/FIAP-Hackathon-Grupo2/assets/video.mp4: 384x640 1 cortante, 5.2ms\n",
      "video 1/1 (frame 607/1264) /home/gerdson/projetos/FIAP-Hackathon-Grupo2/assets/video.mp4: 384x640 (no detections), 5.3ms\n",
      "video 1/1 (frame 608/1264) /home/gerdson/projetos/FIAP-Hackathon-Grupo2/assets/video.mp4: 384x640 (no detections), 5.3ms\n",
      "video 1/1 (frame 609/1264) /home/gerdson/projetos/FIAP-Hackathon-Grupo2/assets/video.mp4: 384x640 (no detections), 5.2ms\n",
      "video 1/1 (frame 610/1264) /home/gerdson/projetos/FIAP-Hackathon-Grupo2/assets/video.mp4: 384x640 (no detections), 5.5ms\n",
      "video 1/1 (frame 611/1264) /home/gerdson/projetos/FIAP-Hackathon-Grupo2/assets/video.mp4: 384x640 (no detections), 5.2ms\n",
      "video 1/1 (frame 612/1264) /home/gerdson/projetos/FIAP-Hackathon-Grupo2/assets/video.mp4: 384x640 1 cortante, 5.2ms\n",
      "video 1/1 (frame 613/1264) /home/gerdson/projetos/FIAP-Hackathon-Grupo2/assets/video.mp4: 384x640 1 cortante, 5.1ms\n",
      "video 1/1 (frame 614/1264) /home/gerdson/projetos/FIAP-Hackathon-Grupo2/assets/video.mp4: 384x640 1 cortante, 5.1ms\n",
      "video 1/1 (frame 615/1264) /home/gerdson/projetos/FIAP-Hackathon-Grupo2/assets/video.mp4: 384x640 1 cortante, 5.3ms\n",
      "video 1/1 (frame 616/1264) /home/gerdson/projetos/FIAP-Hackathon-Grupo2/assets/video.mp4: 384x640 1 cortante, 5.1ms\n",
      "video 1/1 (frame 617/1264) /home/gerdson/projetos/FIAP-Hackathon-Grupo2/assets/video.mp4: 384x640 (no detections), 5.2ms\n",
      "video 1/1 (frame 618/1264) /home/gerdson/projetos/FIAP-Hackathon-Grupo2/assets/video.mp4: 384x640 (no detections), 5.1ms\n",
      "video 1/1 (frame 619/1264) /home/gerdson/projetos/FIAP-Hackathon-Grupo2/assets/video.mp4: 384x640 1 cortante, 5.1ms\n",
      "video 1/1 (frame 620/1264) /home/gerdson/projetos/FIAP-Hackathon-Grupo2/assets/video.mp4: 384x640 1 cortante, 5.3ms\n",
      "video 1/1 (frame 621/1264) /home/gerdson/projetos/FIAP-Hackathon-Grupo2/assets/video.mp4: 384x640 1 cortante, 5.1ms\n",
      "video 1/1 (frame 622/1264) /home/gerdson/projetos/FIAP-Hackathon-Grupo2/assets/video.mp4: 384x640 1 cortante, 5.2ms\n",
      "video 1/1 (frame 623/1264) /home/gerdson/projetos/FIAP-Hackathon-Grupo2/assets/video.mp4: 384x640 1 cortante, 5.3ms\n",
      "video 1/1 (frame 624/1264) /home/gerdson/projetos/FIAP-Hackathon-Grupo2/assets/video.mp4: 384x640 (no detections), 5.2ms\n",
      "video 1/1 (frame 625/1264) /home/gerdson/projetos/FIAP-Hackathon-Grupo2/assets/video.mp4: 384x640 1 cortante, 5.3ms\n",
      "video 1/1 (frame 626/1264) /home/gerdson/projetos/FIAP-Hackathon-Grupo2/assets/video.mp4: 384x640 1 cortante, 5.2ms\n",
      "video 1/1 (frame 627/1264) /home/gerdson/projetos/FIAP-Hackathon-Grupo2/assets/video.mp4: 384x640 1 cortante, 5.1ms\n",
      "video 1/1 (frame 628/1264) /home/gerdson/projetos/FIAP-Hackathon-Grupo2/assets/video.mp4: 384x640 1 cortante, 5.3ms\n",
      "video 1/1 (frame 629/1264) /home/gerdson/projetos/FIAP-Hackathon-Grupo2/assets/video.mp4: 384x640 1 cortante, 6.8ms\n",
      "video 1/1 (frame 630/1264) /home/gerdson/projetos/FIAP-Hackathon-Grupo2/assets/video.mp4: 384x640 1 cortante, 5.1ms\n",
      "video 1/1 (frame 631/1264) /home/gerdson/projetos/FIAP-Hackathon-Grupo2/assets/video.mp4: 384x640 1 cortante, 5.3ms\n",
      "video 1/1 (frame 632/1264) /home/gerdson/projetos/FIAP-Hackathon-Grupo2/assets/video.mp4: 384x640 1 cortante, 5.3ms\n",
      "video 1/1 (frame 633/1264) /home/gerdson/projetos/FIAP-Hackathon-Grupo2/assets/video.mp4: 384x640 1 cortante, 5.2ms\n",
      "video 1/1 (frame 634/1264) /home/gerdson/projetos/FIAP-Hackathon-Grupo2/assets/video.mp4: 384x640 1 cortante, 5.1ms\n",
      "video 1/1 (frame 635/1264) /home/gerdson/projetos/FIAP-Hackathon-Grupo2/assets/video.mp4: 384x640 1 cortante, 5.3ms\n",
      "video 1/1 (frame 636/1264) /home/gerdson/projetos/FIAP-Hackathon-Grupo2/assets/video.mp4: 384x640 1 cortante, 5.1ms\n",
      "video 1/1 (frame 637/1264) /home/gerdson/projetos/FIAP-Hackathon-Grupo2/assets/video.mp4: 384x640 1 cortante, 5.3ms\n",
      "video 1/1 (frame 638/1264) /home/gerdson/projetos/FIAP-Hackathon-Grupo2/assets/video.mp4: 384x640 1 cortante, 5.1ms\n",
      "video 1/1 (frame 639/1264) /home/gerdson/projetos/FIAP-Hackathon-Grupo2/assets/video.mp4: 384x640 (no detections), 5.1ms\n",
      "video 1/1 (frame 640/1264) /home/gerdson/projetos/FIAP-Hackathon-Grupo2/assets/video.mp4: 384x640 (no detections), 5.2ms\n",
      "video 1/1 (frame 641/1264) /home/gerdson/projetos/FIAP-Hackathon-Grupo2/assets/video.mp4: 384x640 (no detections), 5.3ms\n",
      "video 1/1 (frame 642/1264) /home/gerdson/projetos/FIAP-Hackathon-Grupo2/assets/video.mp4: 384x640 (no detections), 5.2ms\n",
      "video 1/1 (frame 643/1264) /home/gerdson/projetos/FIAP-Hackathon-Grupo2/assets/video.mp4: 384x640 (no detections), 5.2ms\n",
      "video 1/1 (frame 644/1264) /home/gerdson/projetos/FIAP-Hackathon-Grupo2/assets/video.mp4: 384x640 (no detections), 5.7ms\n",
      "video 1/1 (frame 645/1264) /home/gerdson/projetos/FIAP-Hackathon-Grupo2/assets/video.mp4: 384x640 1 cortante, 6.7ms\n",
      "video 1/1 (frame 646/1264) /home/gerdson/projetos/FIAP-Hackathon-Grupo2/assets/video.mp4: 384x640 1 cortante, 5.2ms\n",
      "video 1/1 (frame 647/1264) /home/gerdson/projetos/FIAP-Hackathon-Grupo2/assets/video.mp4: 384x640 1 cortante, 5.2ms\n",
      "video 1/1 (frame 648/1264) /home/gerdson/projetos/FIAP-Hackathon-Grupo2/assets/video.mp4: 384x640 1 cortante, 5.2ms\n",
      "video 1/1 (frame 649/1264) /home/gerdson/projetos/FIAP-Hackathon-Grupo2/assets/video.mp4: 384x640 (no detections), 5.1ms\n",
      "video 1/1 (frame 650/1264) /home/gerdson/projetos/FIAP-Hackathon-Grupo2/assets/video.mp4: 384x640 1 cortante, 5.8ms\n",
      "video 1/1 (frame 651/1264) /home/gerdson/projetos/FIAP-Hackathon-Grupo2/assets/video.mp4: 384x640 1 cortante, 5.2ms\n",
      "video 1/1 (frame 652/1264) /home/gerdson/projetos/FIAP-Hackathon-Grupo2/assets/video.mp4: 384x640 1 cortante, 5.3ms\n",
      "video 1/1 (frame 653/1264) /home/gerdson/projetos/FIAP-Hackathon-Grupo2/assets/video.mp4: 384x640 1 cortante, 5.1ms\n",
      "video 1/1 (frame 654/1264) /home/gerdson/projetos/FIAP-Hackathon-Grupo2/assets/video.mp4: 384x640 1 cortante, 5.3ms\n",
      "video 1/1 (frame 655/1264) /home/gerdson/projetos/FIAP-Hackathon-Grupo2/assets/video.mp4: 384x640 (no detections), 5.2ms\n",
      "video 1/1 (frame 656/1264) /home/gerdson/projetos/FIAP-Hackathon-Grupo2/assets/video.mp4: 384x640 (no detections), 5.2ms\n",
      "video 1/1 (frame 657/1264) /home/gerdson/projetos/FIAP-Hackathon-Grupo2/assets/video.mp4: 384x640 1 cortante, 5.3ms\n",
      "video 1/1 (frame 658/1264) /home/gerdson/projetos/FIAP-Hackathon-Grupo2/assets/video.mp4: 384x640 1 cortante, 5.2ms\n",
      "video 1/1 (frame 659/1264) /home/gerdson/projetos/FIAP-Hackathon-Grupo2/assets/video.mp4: 384x640 1 cortante, 5.2ms\n",
      "video 1/1 (frame 660/1264) /home/gerdson/projetos/FIAP-Hackathon-Grupo2/assets/video.mp4: 384x640 2 cortantes, 5.8ms\n",
      "video 1/1 (frame 661/1264) /home/gerdson/projetos/FIAP-Hackathon-Grupo2/assets/video.mp4: 384x640 1 cortante, 7.7ms\n",
      "video 1/1 (frame 662/1264) /home/gerdson/projetos/FIAP-Hackathon-Grupo2/assets/video.mp4: 384x640 1 cortante, 5.3ms\n",
      "video 1/1 (frame 663/1264) /home/gerdson/projetos/FIAP-Hackathon-Grupo2/assets/video.mp4: 384x640 1 cortante, 5.1ms\n",
      "video 1/1 (frame 664/1264) /home/gerdson/projetos/FIAP-Hackathon-Grupo2/assets/video.mp4: 384x640 1 cortante, 5.4ms\n",
      "video 1/1 (frame 665/1264) /home/gerdson/projetos/FIAP-Hackathon-Grupo2/assets/video.mp4: 384x640 1 cortante, 5.2ms\n",
      "video 1/1 (frame 666/1264) /home/gerdson/projetos/FIAP-Hackathon-Grupo2/assets/video.mp4: 384x640 1 cortante, 5.4ms\n",
      "video 1/1 (frame 667/1264) /home/gerdson/projetos/FIAP-Hackathon-Grupo2/assets/video.mp4: 384x640 1 cortante, 5.2ms\n",
      "video 1/1 (frame 668/1264) /home/gerdson/projetos/FIAP-Hackathon-Grupo2/assets/video.mp4: 384x640 1 cortante, 5.1ms\n",
      "video 1/1 (frame 669/1264) /home/gerdson/projetos/FIAP-Hackathon-Grupo2/assets/video.mp4: 384x640 2 cortantes, 5.5ms\n",
      "video 1/1 (frame 670/1264) /home/gerdson/projetos/FIAP-Hackathon-Grupo2/assets/video.mp4: 384x640 1 cortante, 5.2ms\n",
      "video 1/1 (frame 671/1264) /home/gerdson/projetos/FIAP-Hackathon-Grupo2/assets/video.mp4: 384x640 1 cortante, 5.2ms\n",
      "video 1/1 (frame 672/1264) /home/gerdson/projetos/FIAP-Hackathon-Grupo2/assets/video.mp4: 384x640 1 cortante, 5.5ms\n",
      "video 1/1 (frame 673/1264) /home/gerdson/projetos/FIAP-Hackathon-Grupo2/assets/video.mp4: 384x640 1 cortante, 5.2ms\n",
      "video 1/1 (frame 674/1264) /home/gerdson/projetos/FIAP-Hackathon-Grupo2/assets/video.mp4: 384x640 (no detections), 5.3ms\n",
      "video 1/1 (frame 675/1264) /home/gerdson/projetos/FIAP-Hackathon-Grupo2/assets/video.mp4: 384x640 1 cortante, 5.2ms\n",
      "video 1/1 (frame 676/1264) /home/gerdson/projetos/FIAP-Hackathon-Grupo2/assets/video.mp4: 384x640 (no detections), 5.3ms\n",
      "video 1/1 (frame 677/1264) /home/gerdson/projetos/FIAP-Hackathon-Grupo2/assets/video.mp4: 384x640 (no detections), 7.1ms\n",
      "video 1/1 (frame 678/1264) /home/gerdson/projetos/FIAP-Hackathon-Grupo2/assets/video.mp4: 384x640 (no detections), 5.2ms\n",
      "video 1/1 (frame 679/1264) /home/gerdson/projetos/FIAP-Hackathon-Grupo2/assets/video.mp4: 384x640 (no detections), 5.1ms\n",
      "video 1/1 (frame 680/1264) /home/gerdson/projetos/FIAP-Hackathon-Grupo2/assets/video.mp4: 384x640 (no detections), 5.2ms\n",
      "video 1/1 (frame 681/1264) /home/gerdson/projetos/FIAP-Hackathon-Grupo2/assets/video.mp4: 384x640 (no detections), 5.1ms\n",
      "video 1/1 (frame 682/1264) /home/gerdson/projetos/FIAP-Hackathon-Grupo2/assets/video.mp4: 384x640 1 cortante, 5.2ms\n",
      "video 1/1 (frame 683/1264) /home/gerdson/projetos/FIAP-Hackathon-Grupo2/assets/video.mp4: 384x640 1 cortante, 5.1ms\n",
      "video 1/1 (frame 684/1264) /home/gerdson/projetos/FIAP-Hackathon-Grupo2/assets/video.mp4: 384x640 (no detections), 5.1ms\n",
      "video 1/1 (frame 685/1264) /home/gerdson/projetos/FIAP-Hackathon-Grupo2/assets/video.mp4: 384x640 (no detections), 5.2ms\n",
      "video 1/1 (frame 686/1264) /home/gerdson/projetos/FIAP-Hackathon-Grupo2/assets/video.mp4: 384x640 (no detections), 5.3ms\n",
      "video 1/1 (frame 687/1264) /home/gerdson/projetos/FIAP-Hackathon-Grupo2/assets/video.mp4: 384x640 (no detections), 5.1ms\n",
      "video 1/1 (frame 688/1264) /home/gerdson/projetos/FIAP-Hackathon-Grupo2/assets/video.mp4: 384x640 (no detections), 5.2ms\n",
      "video 1/1 (frame 689/1264) /home/gerdson/projetos/FIAP-Hackathon-Grupo2/assets/video.mp4: 384x640 (no detections), 5.2ms\n",
      "video 1/1 (frame 690/1264) /home/gerdson/projetos/FIAP-Hackathon-Grupo2/assets/video.mp4: 384x640 (no detections), 5.2ms\n",
      "video 1/1 (frame 691/1264) /home/gerdson/projetos/FIAP-Hackathon-Grupo2/assets/video.mp4: 384x640 (no detections), 5.2ms\n",
      "video 1/1 (frame 692/1264) /home/gerdson/projetos/FIAP-Hackathon-Grupo2/assets/video.mp4: 384x640 1 cortante, 5.1ms\n",
      "video 1/1 (frame 693/1264) /home/gerdson/projetos/FIAP-Hackathon-Grupo2/assets/video.mp4: 384x640 1 cortante, 6.7ms\n",
      "video 1/1 (frame 694/1264) /home/gerdson/projetos/FIAP-Hackathon-Grupo2/assets/video.mp4: 384x640 (no detections), 5.1ms\n",
      "video 1/1 (frame 695/1264) /home/gerdson/projetos/FIAP-Hackathon-Grupo2/assets/video.mp4: 384x640 (no detections), 5.1ms\n",
      "video 1/1 (frame 696/1264) /home/gerdson/projetos/FIAP-Hackathon-Grupo2/assets/video.mp4: 384x640 (no detections), 5.2ms\n",
      "video 1/1 (frame 697/1264) /home/gerdson/projetos/FIAP-Hackathon-Grupo2/assets/video.mp4: 384x640 (no detections), 5.3ms\n",
      "video 1/1 (frame 698/1264) /home/gerdson/projetos/FIAP-Hackathon-Grupo2/assets/video.mp4: 384x640 (no detections), 5.2ms\n",
      "video 1/1 (frame 699/1264) /home/gerdson/projetos/FIAP-Hackathon-Grupo2/assets/video.mp4: 384x640 (no detections), 5.2ms\n",
      "video 1/1 (frame 700/1264) /home/gerdson/projetos/FIAP-Hackathon-Grupo2/assets/video.mp4: 384x640 (no detections), 5.3ms\n",
      "video 1/1 (frame 701/1264) /home/gerdson/projetos/FIAP-Hackathon-Grupo2/assets/video.mp4: 384x640 (no detections), 5.2ms\n",
      "video 1/1 (frame 702/1264) /home/gerdson/projetos/FIAP-Hackathon-Grupo2/assets/video.mp4: 384x640 (no detections), 5.1ms\n",
      "video 1/1 (frame 703/1264) /home/gerdson/projetos/FIAP-Hackathon-Grupo2/assets/video.mp4: 384x640 (no detections), 5.3ms\n",
      "video 1/1 (frame 704/1264) /home/gerdson/projetos/FIAP-Hackathon-Grupo2/assets/video.mp4: 384x640 (no detections), 5.2ms\n",
      "video 1/1 (frame 705/1264) /home/gerdson/projetos/FIAP-Hackathon-Grupo2/assets/video.mp4: 384x640 (no detections), 5.1ms\n",
      "video 1/1 (frame 706/1264) /home/gerdson/projetos/FIAP-Hackathon-Grupo2/assets/video.mp4: 384x640 (no detections), 5.2ms\n",
      "video 1/1 (frame 707/1264) /home/gerdson/projetos/FIAP-Hackathon-Grupo2/assets/video.mp4: 384x640 (no detections), 5.3ms\n",
      "video 1/1 (frame 708/1264) /home/gerdson/projetos/FIAP-Hackathon-Grupo2/assets/video.mp4: 384x640 (no detections), 5.2ms\n",
      "video 1/1 (frame 709/1264) /home/gerdson/projetos/FIAP-Hackathon-Grupo2/assets/video.mp4: 384x640 (no detections), 5.1ms\n",
      "video 1/1 (frame 710/1264) /home/gerdson/projetos/FIAP-Hackathon-Grupo2/assets/video.mp4: 384x640 (no detections), 5.1ms\n",
      "video 1/1 (frame 711/1264) /home/gerdson/projetos/FIAP-Hackathon-Grupo2/assets/video.mp4: 384x640 (no detections), 5.2ms\n",
      "video 1/1 (frame 712/1264) /home/gerdson/projetos/FIAP-Hackathon-Grupo2/assets/video.mp4: 384x640 (no detections), 5.2ms\n",
      "video 1/1 (frame 713/1264) /home/gerdson/projetos/FIAP-Hackathon-Grupo2/assets/video.mp4: 384x640 (no detections), 5.2ms\n",
      "video 1/1 (frame 714/1264) /home/gerdson/projetos/FIAP-Hackathon-Grupo2/assets/video.mp4: 384x640 (no detections), 5.1ms\n",
      "video 1/1 (frame 715/1264) /home/gerdson/projetos/FIAP-Hackathon-Grupo2/assets/video.mp4: 384x640 (no detections), 5.2ms\n",
      "video 1/1 (frame 716/1264) /home/gerdson/projetos/FIAP-Hackathon-Grupo2/assets/video.mp4: 384x640 (no detections), 5.2ms\n",
      "video 1/1 (frame 717/1264) /home/gerdson/projetos/FIAP-Hackathon-Grupo2/assets/video.mp4: 384x640 (no detections), 5.2ms\n",
      "video 1/1 (frame 718/1264) /home/gerdson/projetos/FIAP-Hackathon-Grupo2/assets/video.mp4: 384x640 (no detections), 5.6ms\n",
      "video 1/1 (frame 719/1264) /home/gerdson/projetos/FIAP-Hackathon-Grupo2/assets/video.mp4: 384x640 (no detections), 5.5ms\n",
      "video 1/1 (frame 720/1264) /home/gerdson/projetos/FIAP-Hackathon-Grupo2/assets/video.mp4: 384x640 (no detections), 5.3ms\n",
      "video 1/1 (frame 721/1264) /home/gerdson/projetos/FIAP-Hackathon-Grupo2/assets/video.mp4: 384x640 (no detections), 5.5ms\n",
      "video 1/1 (frame 722/1264) /home/gerdson/projetos/FIAP-Hackathon-Grupo2/assets/video.mp4: 384x640 (no detections), 5.2ms\n",
      "video 1/1 (frame 723/1264) /home/gerdson/projetos/FIAP-Hackathon-Grupo2/assets/video.mp4: 384x640 (no detections), 5.2ms\n",
      "video 1/1 (frame 724/1264) /home/gerdson/projetos/FIAP-Hackathon-Grupo2/assets/video.mp4: 384x640 (no detections), 5.4ms\n",
      "video 1/1 (frame 725/1264) /home/gerdson/projetos/FIAP-Hackathon-Grupo2/assets/video.mp4: 384x640 1 cortante, 5.4ms\n",
      "video 1/1 (frame 726/1264) /home/gerdson/projetos/FIAP-Hackathon-Grupo2/assets/video.mp4: 384x640 1 cortante, 5.1ms\n",
      "video 1/1 (frame 727/1264) /home/gerdson/projetos/FIAP-Hackathon-Grupo2/assets/video.mp4: 384x640 1 cortante, 5.2ms\n",
      "video 1/1 (frame 728/1264) /home/gerdson/projetos/FIAP-Hackathon-Grupo2/assets/video.mp4: 384x640 1 cortante, 5.2ms\n",
      "video 1/1 (frame 729/1264) /home/gerdson/projetos/FIAP-Hackathon-Grupo2/assets/video.mp4: 384x640 (no detections), 5.5ms\n",
      "video 1/1 (frame 730/1264) /home/gerdson/projetos/FIAP-Hackathon-Grupo2/assets/video.mp4: 384x640 (no detections), 5.4ms\n",
      "video 1/1 (frame 731/1264) /home/gerdson/projetos/FIAP-Hackathon-Grupo2/assets/video.mp4: 384x640 1 cortante, 5.1ms\n",
      "video 1/1 (frame 732/1264) /home/gerdson/projetos/FIAP-Hackathon-Grupo2/assets/video.mp4: 384x640 1 cortante, 5.2ms\n",
      "video 1/1 (frame 733/1264) /home/gerdson/projetos/FIAP-Hackathon-Grupo2/assets/video.mp4: 384x640 1 cortante, 5.1ms\n",
      "video 1/1 (frame 734/1264) /home/gerdson/projetos/FIAP-Hackathon-Grupo2/assets/video.mp4: 384x640 1 cortante, 5.4ms\n",
      "video 1/1 (frame 735/1264) /home/gerdson/projetos/FIAP-Hackathon-Grupo2/assets/video.mp4: 384x640 1 cortante, 5.1ms\n",
      "video 1/1 (frame 736/1264) /home/gerdson/projetos/FIAP-Hackathon-Grupo2/assets/video.mp4: 384x640 1 cortante, 5.2ms\n",
      "video 1/1 (frame 737/1264) /home/gerdson/projetos/FIAP-Hackathon-Grupo2/assets/video.mp4: 384x640 1 cortante, 5.1ms\n",
      "video 1/1 (frame 738/1264) /home/gerdson/projetos/FIAP-Hackathon-Grupo2/assets/video.mp4: 384x640 1 cortante, 6.5ms\n",
      "video 1/1 (frame 739/1264) /home/gerdson/projetos/FIAP-Hackathon-Grupo2/assets/video.mp4: 384x640 1 cortante, 5.2ms\n",
      "video 1/1 (frame 740/1264) /home/gerdson/projetos/FIAP-Hackathon-Grupo2/assets/video.mp4: 384x640 1 cortante, 5.2ms\n",
      "video 1/1 (frame 741/1264) /home/gerdson/projetos/FIAP-Hackathon-Grupo2/assets/video.mp4: 384x640 1 cortante, 5.1ms\n",
      "video 1/1 (frame 742/1264) /home/gerdson/projetos/FIAP-Hackathon-Grupo2/assets/video.mp4: 384x640 1 cortante, 5.3ms\n",
      "video 1/1 (frame 743/1264) /home/gerdson/projetos/FIAP-Hackathon-Grupo2/assets/video.mp4: 384x640 1 cortante, 5.1ms\n",
      "video 1/1 (frame 744/1264) /home/gerdson/projetos/FIAP-Hackathon-Grupo2/assets/video.mp4: 384x640 1 cortante, 5.2ms\n",
      "video 1/1 (frame 745/1264) /home/gerdson/projetos/FIAP-Hackathon-Grupo2/assets/video.mp4: 384x640 1 cortante, 5.2ms\n",
      "video 1/1 (frame 746/1264) /home/gerdson/projetos/FIAP-Hackathon-Grupo2/assets/video.mp4: 384x640 1 cortante, 5.1ms\n",
      "video 1/1 (frame 747/1264) /home/gerdson/projetos/FIAP-Hackathon-Grupo2/assets/video.mp4: 384x640 1 cortante, 5.4ms\n",
      "video 1/1 (frame 748/1264) /home/gerdson/projetos/FIAP-Hackathon-Grupo2/assets/video.mp4: 384x640 (no detections), 5.2ms\n",
      "video 1/1 (frame 749/1264) /home/gerdson/projetos/FIAP-Hackathon-Grupo2/assets/video.mp4: 384x640 1 cortante, 5.1ms\n",
      "video 1/1 (frame 750/1264) /home/gerdson/projetos/FIAP-Hackathon-Grupo2/assets/video.mp4: 384x640 1 cortante, 5.1ms\n",
      "video 1/1 (frame 751/1264) /home/gerdson/projetos/FIAP-Hackathon-Grupo2/assets/video.mp4: 384x640 1 cortante, 5.1ms\n",
      "video 1/1 (frame 752/1264) /home/gerdson/projetos/FIAP-Hackathon-Grupo2/assets/video.mp4: 384x640 1 cortante, 5.4ms\n",
      "video 1/1 (frame 753/1264) /home/gerdson/projetos/FIAP-Hackathon-Grupo2/assets/video.mp4: 384x640 1 cortante, 5.1ms\n",
      "video 1/1 (frame 754/1264) /home/gerdson/projetos/FIAP-Hackathon-Grupo2/assets/video.mp4: 384x640 1 cortante, 5.6ms\n",
      "video 1/1 (frame 755/1264) /home/gerdson/projetos/FIAP-Hackathon-Grupo2/assets/video.mp4: 384x640 1 cortante, 5.1ms\n",
      "video 1/1 (frame 756/1264) /home/gerdson/projetos/FIAP-Hackathon-Grupo2/assets/video.mp4: 384x640 1 cortante, 5.5ms\n",
      "video 1/1 (frame 757/1264) /home/gerdson/projetos/FIAP-Hackathon-Grupo2/assets/video.mp4: 384x640 1 cortante, 5.3ms\n",
      "video 1/1 (frame 758/1264) /home/gerdson/projetos/FIAP-Hackathon-Grupo2/assets/video.mp4: 384x640 1 cortante, 5.2ms\n",
      "video 1/1 (frame 759/1264) /home/gerdson/projetos/FIAP-Hackathon-Grupo2/assets/video.mp4: 384x640 (no detections), 5.2ms\n",
      "video 1/1 (frame 760/1264) /home/gerdson/projetos/FIAP-Hackathon-Grupo2/assets/video.mp4: 384x640 (no detections), 5.5ms\n",
      "video 1/1 (frame 761/1264) /home/gerdson/projetos/FIAP-Hackathon-Grupo2/assets/video.mp4: 384x640 (no detections), 5.4ms\n",
      "video 1/1 (frame 762/1264) /home/gerdson/projetos/FIAP-Hackathon-Grupo2/assets/video.mp4: 384x640 1 cortante, 5.1ms\n",
      "video 1/1 (frame 763/1264) /home/gerdson/projetos/FIAP-Hackathon-Grupo2/assets/video.mp4: 384x640 1 cortante, 5.1ms\n",
      "video 1/1 (frame 764/1264) /home/gerdson/projetos/FIAP-Hackathon-Grupo2/assets/video.mp4: 384x640 (no detections), 5.1ms\n",
      "video 1/1 (frame 765/1264) /home/gerdson/projetos/FIAP-Hackathon-Grupo2/assets/video.mp4: 384x640 1 cortante, 5.1ms\n",
      "video 1/1 (frame 766/1264) /home/gerdson/projetos/FIAP-Hackathon-Grupo2/assets/video.mp4: 384x640 1 cortante, 5.4ms\n",
      "video 1/1 (frame 767/1264) /home/gerdson/projetos/FIAP-Hackathon-Grupo2/assets/video.mp4: 384x640 (no detections), 5.1ms\n",
      "video 1/1 (frame 768/1264) /home/gerdson/projetos/FIAP-Hackathon-Grupo2/assets/video.mp4: 384x640 (no detections), 5.2ms\n",
      "video 1/1 (frame 769/1264) /home/gerdson/projetos/FIAP-Hackathon-Grupo2/assets/video.mp4: 384x640 (no detections), 5.2ms\n",
      "video 1/1 (frame 770/1264) /home/gerdson/projetos/FIAP-Hackathon-Grupo2/assets/video.mp4: 384x640 (no detections), 6.8ms\n",
      "video 1/1 (frame 771/1264) /home/gerdson/projetos/FIAP-Hackathon-Grupo2/assets/video.mp4: 384x640 1 cortante, 5.2ms\n",
      "video 1/1 (frame 772/1264) /home/gerdson/projetos/FIAP-Hackathon-Grupo2/assets/video.mp4: 384x640 (no detections), 5.2ms\n",
      "video 1/1 (frame 773/1264) /home/gerdson/projetos/FIAP-Hackathon-Grupo2/assets/video.mp4: 384x640 1 cortante, 5.1ms\n",
      "video 1/1 (frame 774/1264) /home/gerdson/projetos/FIAP-Hackathon-Grupo2/assets/video.mp4: 384x640 1 cortante, 5.1ms\n",
      "video 1/1 (frame 775/1264) /home/gerdson/projetos/FIAP-Hackathon-Grupo2/assets/video.mp4: 384x640 1 cortante, 5.3ms\n",
      "video 1/1 (frame 776/1264) /home/gerdson/projetos/FIAP-Hackathon-Grupo2/assets/video.mp4: 384x640 (no detections), 5.3ms\n",
      "video 1/1 (frame 777/1264) /home/gerdson/projetos/FIAP-Hackathon-Grupo2/assets/video.mp4: 384x640 (no detections), 5.1ms\n",
      "video 1/1 (frame 778/1264) /home/gerdson/projetos/FIAP-Hackathon-Grupo2/assets/video.mp4: 384x640 (no detections), 5.1ms\n",
      "video 1/1 (frame 779/1264) /home/gerdson/projetos/FIAP-Hackathon-Grupo2/assets/video.mp4: 384x640 (no detections), 5.1ms\n",
      "video 1/1 (frame 780/1264) /home/gerdson/projetos/FIAP-Hackathon-Grupo2/assets/video.mp4: 384x640 (no detections), 5.1ms\n",
      "video 1/1 (frame 781/1264) /home/gerdson/projetos/FIAP-Hackathon-Grupo2/assets/video.mp4: 384x640 (no detections), 5.3ms\n",
      "video 1/1 (frame 782/1264) /home/gerdson/projetos/FIAP-Hackathon-Grupo2/assets/video.mp4: 384x640 (no detections), 5.1ms\n",
      "video 1/1 (frame 783/1264) /home/gerdson/projetos/FIAP-Hackathon-Grupo2/assets/video.mp4: 384x640 (no detections), 5.1ms\n",
      "video 1/1 (frame 784/1264) /home/gerdson/projetos/FIAP-Hackathon-Grupo2/assets/video.mp4: 384x640 (no detections), 7.3ms\n",
      "video 1/1 (frame 785/1264) /home/gerdson/projetos/FIAP-Hackathon-Grupo2/assets/video.mp4: 384x640 (no detections), 6.4ms\n",
      "video 1/1 (frame 786/1264) /home/gerdson/projetos/FIAP-Hackathon-Grupo2/assets/video.mp4: 384x640 (no detections), 7.1ms\n",
      "video 1/1 (frame 787/1264) /home/gerdson/projetos/FIAP-Hackathon-Grupo2/assets/video.mp4: 384x640 (no detections), 5.2ms\n",
      "video 1/1 (frame 788/1264) /home/gerdson/projetos/FIAP-Hackathon-Grupo2/assets/video.mp4: 384x640 (no detections), 5.1ms\n",
      "video 1/1 (frame 789/1264) /home/gerdson/projetos/FIAP-Hackathon-Grupo2/assets/video.mp4: 384x640 (no detections), 5.1ms\n",
      "video 1/1 (frame 790/1264) /home/gerdson/projetos/FIAP-Hackathon-Grupo2/assets/video.mp4: 384x640 (no detections), 5.2ms\n",
      "video 1/1 (frame 791/1264) /home/gerdson/projetos/FIAP-Hackathon-Grupo2/assets/video.mp4: 384x640 (no detections), 5.1ms\n",
      "video 1/1 (frame 792/1264) /home/gerdson/projetos/FIAP-Hackathon-Grupo2/assets/video.mp4: 384x640 (no detections), 5.2ms\n",
      "video 1/1 (frame 793/1264) /home/gerdson/projetos/FIAP-Hackathon-Grupo2/assets/video.mp4: 384x640 (no detections), 5.2ms\n",
      "video 1/1 (frame 794/1264) /home/gerdson/projetos/FIAP-Hackathon-Grupo2/assets/video.mp4: 384x640 (no detections), 5.1ms\n",
      "video 1/1 (frame 795/1264) /home/gerdson/projetos/FIAP-Hackathon-Grupo2/assets/video.mp4: 384x640 1 cortante, 5.3ms\n",
      "video 1/1 (frame 796/1264) /home/gerdson/projetos/FIAP-Hackathon-Grupo2/assets/video.mp4: 384x640 (no detections), 5.2ms\n",
      "video 1/1 (frame 797/1264) /home/gerdson/projetos/FIAP-Hackathon-Grupo2/assets/video.mp4: 384x640 1 cortante, 5.1ms\n",
      "video 1/1 (frame 798/1264) /home/gerdson/projetos/FIAP-Hackathon-Grupo2/assets/video.mp4: 384x640 1 cortante, 5.1ms\n",
      "video 1/1 (frame 799/1264) /home/gerdson/projetos/FIAP-Hackathon-Grupo2/assets/video.mp4: 384x640 1 cortante, 5.1ms\n",
      "video 1/1 (frame 800/1264) /home/gerdson/projetos/FIAP-Hackathon-Grupo2/assets/video.mp4: 384x640 1 cortante, 5.1ms\n",
      "video 1/1 (frame 801/1264) /home/gerdson/projetos/FIAP-Hackathon-Grupo2/assets/video.mp4: 384x640 1 cortante, 5.1ms\n",
      "video 1/1 (frame 802/1264) /home/gerdson/projetos/FIAP-Hackathon-Grupo2/assets/video.mp4: 384x640 1 cortante, 7.3ms\n",
      "video 1/1 (frame 803/1264) /home/gerdson/projetos/FIAP-Hackathon-Grupo2/assets/video.mp4: 384x640 (no detections), 5.1ms\n",
      "video 1/1 (frame 804/1264) /home/gerdson/projetos/FIAP-Hackathon-Grupo2/assets/video.mp4: 384x640 1 cortante, 5.1ms\n",
      "video 1/1 (frame 805/1264) /home/gerdson/projetos/FIAP-Hackathon-Grupo2/assets/video.mp4: 384x640 1 cortante, 5.1ms\n",
      "video 1/1 (frame 806/1264) /home/gerdson/projetos/FIAP-Hackathon-Grupo2/assets/video.mp4: 384x640 (no detections), 5.1ms\n",
      "video 1/1 (frame 807/1264) /home/gerdson/projetos/FIAP-Hackathon-Grupo2/assets/video.mp4: 384x640 1 cortante, 5.1ms\n",
      "video 1/1 (frame 808/1264) /home/gerdson/projetos/FIAP-Hackathon-Grupo2/assets/video.mp4: 384x640 1 cortante, 5.1ms\n",
      "video 1/1 (frame 809/1264) /home/gerdson/projetos/FIAP-Hackathon-Grupo2/assets/video.mp4: 384x640 1 cortante, 5.1ms\n",
      "video 1/1 (frame 810/1264) /home/gerdson/projetos/FIAP-Hackathon-Grupo2/assets/video.mp4: 384x640 1 cortante, 5.1ms\n",
      "video 1/1 (frame 811/1264) /home/gerdson/projetos/FIAP-Hackathon-Grupo2/assets/video.mp4: 384x640 1 cortante, 5.1ms\n",
      "video 1/1 (frame 812/1264) /home/gerdson/projetos/FIAP-Hackathon-Grupo2/assets/video.mp4: 384x640 1 cortante, 5.1ms\n",
      "video 1/1 (frame 813/1264) /home/gerdson/projetos/FIAP-Hackathon-Grupo2/assets/video.mp4: 384x640 1 cortante, 5.5ms\n",
      "video 1/1 (frame 814/1264) /home/gerdson/projetos/FIAP-Hackathon-Grupo2/assets/video.mp4: 384x640 1 cortante, 5.5ms\n",
      "video 1/1 (frame 815/1264) /home/gerdson/projetos/FIAP-Hackathon-Grupo2/assets/video.mp4: 384x640 1 cortante, 5.1ms\n",
      "video 1/1 (frame 816/1264) /home/gerdson/projetos/FIAP-Hackathon-Grupo2/assets/video.mp4: 384x640 1 cortante, 5.1ms\n",
      "video 1/1 (frame 817/1264) /home/gerdson/projetos/FIAP-Hackathon-Grupo2/assets/video.mp4: 384x640 (no detections), 5.5ms\n",
      "video 1/1 (frame 818/1264) /home/gerdson/projetos/FIAP-Hackathon-Grupo2/assets/video.mp4: 384x640 (no detections), 6.9ms\n",
      "video 1/1 (frame 819/1264) /home/gerdson/projetos/FIAP-Hackathon-Grupo2/assets/video.mp4: 384x640 (no detections), 5.2ms\n",
      "video 1/1 (frame 820/1264) /home/gerdson/projetos/FIAP-Hackathon-Grupo2/assets/video.mp4: 384x640 (no detections), 5.2ms\n",
      "video 1/1 (frame 821/1264) /home/gerdson/projetos/FIAP-Hackathon-Grupo2/assets/video.mp4: 384x640 1 cortante, 5.6ms\n",
      "video 1/1 (frame 822/1264) /home/gerdson/projetos/FIAP-Hackathon-Grupo2/assets/video.mp4: 384x640 (no detections), 5.6ms\n",
      "video 1/1 (frame 823/1264) /home/gerdson/projetos/FIAP-Hackathon-Grupo2/assets/video.mp4: 384x640 (no detections), 5.2ms\n",
      "video 1/1 (frame 824/1264) /home/gerdson/projetos/FIAP-Hackathon-Grupo2/assets/video.mp4: 384x640 (no detections), 5.5ms\n",
      "video 1/1 (frame 825/1264) /home/gerdson/projetos/FIAP-Hackathon-Grupo2/assets/video.mp4: 384x640 (no detections), 5.5ms\n",
      "video 1/1 (frame 826/1264) /home/gerdson/projetos/FIAP-Hackathon-Grupo2/assets/video.mp4: 384x640 (no detections), 5.6ms\n",
      "video 1/1 (frame 827/1264) /home/gerdson/projetos/FIAP-Hackathon-Grupo2/assets/video.mp4: 384x640 (no detections), 5.2ms\n",
      "video 1/1 (frame 828/1264) /home/gerdson/projetos/FIAP-Hackathon-Grupo2/assets/video.mp4: 384x640 (no detections), 5.4ms\n",
      "video 1/1 (frame 829/1264) /home/gerdson/projetos/FIAP-Hackathon-Grupo2/assets/video.mp4: 384x640 (no detections), 5.4ms\n",
      "video 1/1 (frame 830/1264) /home/gerdson/projetos/FIAP-Hackathon-Grupo2/assets/video.mp4: 384x640 (no detections), 5.6ms\n",
      "video 1/1 (frame 831/1264) /home/gerdson/projetos/FIAP-Hackathon-Grupo2/assets/video.mp4: 384x640 (no detections), 5.7ms\n",
      "video 1/1 (frame 832/1264) /home/gerdson/projetos/FIAP-Hackathon-Grupo2/assets/video.mp4: 384x640 (no detections), 5.2ms\n",
      "video 1/1 (frame 833/1264) /home/gerdson/projetos/FIAP-Hackathon-Grupo2/assets/video.mp4: 384x640 (no detections), 5.2ms\n",
      "video 1/1 (frame 834/1264) /home/gerdson/projetos/FIAP-Hackathon-Grupo2/assets/video.mp4: 384x640 (no detections), 7.5ms\n",
      "video 1/1 (frame 835/1264) /home/gerdson/projetos/FIAP-Hackathon-Grupo2/assets/video.mp4: 384x640 (no detections), 5.2ms\n",
      "video 1/1 (frame 836/1264) /home/gerdson/projetos/FIAP-Hackathon-Grupo2/assets/video.mp4: 384x640 1 cortante, 5.2ms\n",
      "video 1/1 (frame 837/1264) /home/gerdson/projetos/FIAP-Hackathon-Grupo2/assets/video.mp4: 384x640 1 cortante, 5.1ms\n",
      "video 1/1 (frame 838/1264) /home/gerdson/projetos/FIAP-Hackathon-Grupo2/assets/video.mp4: 384x640 1 cortante, 5.1ms\n",
      "video 1/1 (frame 839/1264) /home/gerdson/projetos/FIAP-Hackathon-Grupo2/assets/video.mp4: 384x640 (no detections), 5.1ms\n",
      "video 1/1 (frame 840/1264) /home/gerdson/projetos/FIAP-Hackathon-Grupo2/assets/video.mp4: 384x640 (no detections), 5.1ms\n",
      "video 1/1 (frame 841/1264) /home/gerdson/projetos/FIAP-Hackathon-Grupo2/assets/video.mp4: 384x640 1 cortante, 5.2ms\n",
      "video 1/1 (frame 842/1264) /home/gerdson/projetos/FIAP-Hackathon-Grupo2/assets/video.mp4: 384x640 (no detections), 5.3ms\n",
      "video 1/1 (frame 843/1264) /home/gerdson/projetos/FIAP-Hackathon-Grupo2/assets/video.mp4: 384x640 1 cortante, 5.2ms\n",
      "video 1/1 (frame 844/1264) /home/gerdson/projetos/FIAP-Hackathon-Grupo2/assets/video.mp4: 384x640 1 cortante, 5.7ms\n",
      "video 1/1 (frame 845/1264) /home/gerdson/projetos/FIAP-Hackathon-Grupo2/assets/video.mp4: 384x640 1 cortante, 5.2ms\n",
      "video 1/1 (frame 846/1264) /home/gerdson/projetos/FIAP-Hackathon-Grupo2/assets/video.mp4: 384x640 1 cortante, 5.2ms\n",
      "video 1/1 (frame 847/1264) /home/gerdson/projetos/FIAP-Hackathon-Grupo2/assets/video.mp4: 384x640 1 cortante, 5.4ms\n",
      "video 1/1 (frame 848/1264) /home/gerdson/projetos/FIAP-Hackathon-Grupo2/assets/video.mp4: 384x640 1 cortante, 5.6ms\n",
      "video 1/1 (frame 849/1264) /home/gerdson/projetos/FIAP-Hackathon-Grupo2/assets/video.mp4: 384x640 1 cortante, 5.2ms\n",
      "video 1/1 (frame 850/1264) /home/gerdson/projetos/FIAP-Hackathon-Grupo2/assets/video.mp4: 384x640 1 cortante, 7.3ms\n",
      "video 1/1 (frame 851/1264) /home/gerdson/projetos/FIAP-Hackathon-Grupo2/assets/video.mp4: 384x640 1 cortante, 5.5ms\n",
      "video 1/1 (frame 852/1264) /home/gerdson/projetos/FIAP-Hackathon-Grupo2/assets/video.mp4: 384x640 1 cortante, 5.5ms\n",
      "video 1/1 (frame 853/1264) /home/gerdson/projetos/FIAP-Hackathon-Grupo2/assets/video.mp4: 384x640 1 cortante, 5.3ms\n",
      "video 1/1 (frame 854/1264) /home/gerdson/projetos/FIAP-Hackathon-Grupo2/assets/video.mp4: 384x640 1 cortante, 5.1ms\n",
      "video 1/1 (frame 855/1264) /home/gerdson/projetos/FIAP-Hackathon-Grupo2/assets/video.mp4: 384x640 1 cortante, 5.2ms\n",
      "video 1/1 (frame 856/1264) /home/gerdson/projetos/FIAP-Hackathon-Grupo2/assets/video.mp4: 384x640 1 cortante, 5.2ms\n",
      "video 1/1 (frame 857/1264) /home/gerdson/projetos/FIAP-Hackathon-Grupo2/assets/video.mp4: 384x640 1 cortante, 5.2ms\n",
      "video 1/1 (frame 858/1264) /home/gerdson/projetos/FIAP-Hackathon-Grupo2/assets/video.mp4: 384x640 1 cortante, 5.2ms\n",
      "video 1/1 (frame 859/1264) /home/gerdson/projetos/FIAP-Hackathon-Grupo2/assets/video.mp4: 384x640 1 cortante, 5.2ms\n",
      "video 1/1 (frame 860/1264) /home/gerdson/projetos/FIAP-Hackathon-Grupo2/assets/video.mp4: 384x640 1 cortante, 5.1ms\n",
      "video 1/1 (frame 861/1264) /home/gerdson/projetos/FIAP-Hackathon-Grupo2/assets/video.mp4: 384x640 1 cortante, 5.1ms\n",
      "video 1/1 (frame 862/1264) /home/gerdson/projetos/FIAP-Hackathon-Grupo2/assets/video.mp4: 384x640 1 cortante, 5.1ms\n",
      "video 1/1 (frame 863/1264) /home/gerdson/projetos/FIAP-Hackathon-Grupo2/assets/video.mp4: 384x640 1 cortante, 5.2ms\n",
      "video 1/1 (frame 864/1264) /home/gerdson/projetos/FIAP-Hackathon-Grupo2/assets/video.mp4: 384x640 1 cortante, 5.2ms\n",
      "video 1/1 (frame 865/1264) /home/gerdson/projetos/FIAP-Hackathon-Grupo2/assets/video.mp4: 384x640 1 cortante, 5.3ms\n",
      "video 1/1 (frame 866/1264) /home/gerdson/projetos/FIAP-Hackathon-Grupo2/assets/video.mp4: 384x640 1 cortante, 5.2ms\n",
      "video 1/1 (frame 867/1264) /home/gerdson/projetos/FIAP-Hackathon-Grupo2/assets/video.mp4: 384x640 1 cortante, 5.2ms\n",
      "video 1/1 (frame 868/1264) /home/gerdson/projetos/FIAP-Hackathon-Grupo2/assets/video.mp4: 384x640 1 cortante, 5.2ms\n",
      "video 1/1 (frame 869/1264) /home/gerdson/projetos/FIAP-Hackathon-Grupo2/assets/video.mp4: 384x640 1 cortante, 5.1ms\n",
      "video 1/1 (frame 870/1264) /home/gerdson/projetos/FIAP-Hackathon-Grupo2/assets/video.mp4: 384x640 1 cortante, 5.2ms\n",
      "video 1/1 (frame 871/1264) /home/gerdson/projetos/FIAP-Hackathon-Grupo2/assets/video.mp4: 384x640 1 cortante, 5.2ms\n",
      "video 1/1 (frame 872/1264) /home/gerdson/projetos/FIAP-Hackathon-Grupo2/assets/video.mp4: 384x640 1 cortante, 5.3ms\n",
      "video 1/1 (frame 873/1264) /home/gerdson/projetos/FIAP-Hackathon-Grupo2/assets/video.mp4: 384x640 1 cortante, 5.2ms\n",
      "video 1/1 (frame 874/1264) /home/gerdson/projetos/FIAP-Hackathon-Grupo2/assets/video.mp4: 384x640 1 cortante, 5.1ms\n",
      "video 1/1 (frame 875/1264) /home/gerdson/projetos/FIAP-Hackathon-Grupo2/assets/video.mp4: 384x640 1 cortante, 5.1ms\n",
      "video 1/1 (frame 876/1264) /home/gerdson/projetos/FIAP-Hackathon-Grupo2/assets/video.mp4: 384x640 1 cortante, 5.1ms\n",
      "video 1/1 (frame 877/1264) /home/gerdson/projetos/FIAP-Hackathon-Grupo2/assets/video.mp4: 384x640 (no detections), 5.4ms\n",
      "video 1/1 (frame 878/1264) /home/gerdson/projetos/FIAP-Hackathon-Grupo2/assets/video.mp4: 384x640 (no detections), 5.2ms\n",
      "video 1/1 (frame 879/1264) /home/gerdson/projetos/FIAP-Hackathon-Grupo2/assets/video.mp4: 384x640 (no detections), 5.4ms\n",
      "video 1/1 (frame 880/1264) /home/gerdson/projetos/FIAP-Hackathon-Grupo2/assets/video.mp4: 384x640 (no detections), 5.1ms\n",
      "video 1/1 (frame 881/1264) /home/gerdson/projetos/FIAP-Hackathon-Grupo2/assets/video.mp4: 384x640 1 cortante, 5.1ms\n",
      "video 1/1 (frame 882/1264) /home/gerdson/projetos/FIAP-Hackathon-Grupo2/assets/video.mp4: 384x640 (no detections), 5.3ms\n",
      "video 1/1 (frame 883/1264) /home/gerdson/projetos/FIAP-Hackathon-Grupo2/assets/video.mp4: 384x640 (no detections), 5.2ms\n",
      "video 1/1 (frame 884/1264) /home/gerdson/projetos/FIAP-Hackathon-Grupo2/assets/video.mp4: 384x640 1 arma, 5.1ms\n",
      "video 1/1 (frame 885/1264) /home/gerdson/projetos/FIAP-Hackathon-Grupo2/assets/video.mp4: 384x640 (no detections), 5.4ms\n",
      "video 1/1 (frame 886/1264) /home/gerdson/projetos/FIAP-Hackathon-Grupo2/assets/video.mp4: 384x640 (no detections), 5.4ms\n",
      "video 1/1 (frame 887/1264) /home/gerdson/projetos/FIAP-Hackathon-Grupo2/assets/video.mp4: 384x640 (no detections), 5.4ms\n",
      "video 1/1 (frame 888/1264) /home/gerdson/projetos/FIAP-Hackathon-Grupo2/assets/video.mp4: 384x640 1 arma, 5.1ms\n",
      "video 1/1 (frame 889/1264) /home/gerdson/projetos/FIAP-Hackathon-Grupo2/assets/video.mp4: 384x640 1 arma, 5.2ms\n",
      "video 1/1 (frame 890/1264) /home/gerdson/projetos/FIAP-Hackathon-Grupo2/assets/video.mp4: 384x640 (no detections), 5.1ms\n",
      "video 1/1 (frame 891/1264) /home/gerdson/projetos/FIAP-Hackathon-Grupo2/assets/video.mp4: 384x640 (no detections), 5.1ms\n",
      "video 1/1 (frame 892/1264) /home/gerdson/projetos/FIAP-Hackathon-Grupo2/assets/video.mp4: 384x640 1 arma, 5.1ms\n",
      "video 1/1 (frame 893/1264) /home/gerdson/projetos/FIAP-Hackathon-Grupo2/assets/video.mp4: 384x640 (no detections), 5.4ms\n",
      "video 1/1 (frame 894/1264) /home/gerdson/projetos/FIAP-Hackathon-Grupo2/assets/video.mp4: 384x640 (no detections), 5.4ms\n",
      "video 1/1 (frame 895/1264) /home/gerdson/projetos/FIAP-Hackathon-Grupo2/assets/video.mp4: 384x640 (no detections), 5.4ms\n",
      "video 1/1 (frame 896/1264) /home/gerdson/projetos/FIAP-Hackathon-Grupo2/assets/video.mp4: 384x640 (no detections), 5.2ms\n",
      "video 1/1 (frame 897/1264) /home/gerdson/projetos/FIAP-Hackathon-Grupo2/assets/video.mp4: 384x640 (no detections), 5.1ms\n",
      "video 1/1 (frame 898/1264) /home/gerdson/projetos/FIAP-Hackathon-Grupo2/assets/video.mp4: 384x640 1 arma, 5.1ms\n",
      "video 1/1 (frame 899/1264) /home/gerdson/projetos/FIAP-Hackathon-Grupo2/assets/video.mp4: 384x640 (no detections), 5.2ms\n",
      "video 1/1 (frame 900/1264) /home/gerdson/projetos/FIAP-Hackathon-Grupo2/assets/video.mp4: 384x640 (no detections), 5.2ms\n",
      "video 1/1 (frame 901/1264) /home/gerdson/projetos/FIAP-Hackathon-Grupo2/assets/video.mp4: 384x640 (no detections), 5.1ms\n",
      "video 1/1 (frame 902/1264) /home/gerdson/projetos/FIAP-Hackathon-Grupo2/assets/video.mp4: 384x640 (no detections), 5.1ms\n",
      "video 1/1 (frame 903/1264) /home/gerdson/projetos/FIAP-Hackathon-Grupo2/assets/video.mp4: 384x640 (no detections), 5.1ms\n",
      "video 1/1 (frame 904/1264) /home/gerdson/projetos/FIAP-Hackathon-Grupo2/assets/video.mp4: 384x640 (no detections), 5.2ms\n",
      "video 1/1 (frame 905/1264) /home/gerdson/projetos/FIAP-Hackathon-Grupo2/assets/video.mp4: 384x640 (no detections), 5.2ms\n",
      "video 1/1 (frame 906/1264) /home/gerdson/projetos/FIAP-Hackathon-Grupo2/assets/video.mp4: 384x640 (no detections), 5.2ms\n",
      "video 1/1 (frame 907/1264) /home/gerdson/projetos/FIAP-Hackathon-Grupo2/assets/video.mp4: 384x640 (no detections), 5.1ms\n",
      "video 1/1 (frame 908/1264) /home/gerdson/projetos/FIAP-Hackathon-Grupo2/assets/video.mp4: 384x640 (no detections), 5.1ms\n",
      "video 1/1 (frame 909/1264) /home/gerdson/projetos/FIAP-Hackathon-Grupo2/assets/video.mp4: 384x640 (no detections), 5.0ms\n",
      "video 1/1 (frame 910/1264) /home/gerdson/projetos/FIAP-Hackathon-Grupo2/assets/video.mp4: 384x640 (no detections), 5.1ms\n",
      "video 1/1 (frame 911/1264) /home/gerdson/projetos/FIAP-Hackathon-Grupo2/assets/video.mp4: 384x640 (no detections), 5.1ms\n",
      "video 1/1 (frame 912/1264) /home/gerdson/projetos/FIAP-Hackathon-Grupo2/assets/video.mp4: 384x640 (no detections), 7.4ms\n",
      "video 1/1 (frame 913/1264) /home/gerdson/projetos/FIAP-Hackathon-Grupo2/assets/video.mp4: 384x640 (no detections), 6.1ms\n",
      "video 1/1 (frame 914/1264) /home/gerdson/projetos/FIAP-Hackathon-Grupo2/assets/video.mp4: 384x640 (no detections), 5.2ms\n",
      "video 1/1 (frame 915/1264) /home/gerdson/projetos/FIAP-Hackathon-Grupo2/assets/video.mp4: 384x640 (no detections), 5.3ms\n",
      "video 1/1 (frame 916/1264) /home/gerdson/projetos/FIAP-Hackathon-Grupo2/assets/video.mp4: 384x640 (no detections), 5.3ms\n",
      "video 1/1 (frame 917/1264) /home/gerdson/projetos/FIAP-Hackathon-Grupo2/assets/video.mp4: 384x640 (no detections), 5.2ms\n",
      "video 1/1 (frame 918/1264) /home/gerdson/projetos/FIAP-Hackathon-Grupo2/assets/video.mp4: 384x640 (no detections), 5.1ms\n",
      "video 1/1 (frame 919/1264) /home/gerdson/projetos/FIAP-Hackathon-Grupo2/assets/video.mp4: 384x640 (no detections), 5.1ms\n",
      "video 1/1 (frame 920/1264) /home/gerdson/projetos/FIAP-Hackathon-Grupo2/assets/video.mp4: 384x640 (no detections), 5.3ms\n",
      "video 1/1 (frame 921/1264) /home/gerdson/projetos/FIAP-Hackathon-Grupo2/assets/video.mp4: 384x640 (no detections), 5.3ms\n",
      "video 1/1 (frame 922/1264) /home/gerdson/projetos/FIAP-Hackathon-Grupo2/assets/video.mp4: 384x640 (no detections), 5.3ms\n",
      "video 1/1 (frame 923/1264) /home/gerdson/projetos/FIAP-Hackathon-Grupo2/assets/video.mp4: 384x640 (no detections), 5.1ms\n",
      "video 1/1 (frame 924/1264) /home/gerdson/projetos/FIAP-Hackathon-Grupo2/assets/video.mp4: 384x640 (no detections), 5.1ms\n",
      "video 1/1 (frame 925/1264) /home/gerdson/projetos/FIAP-Hackathon-Grupo2/assets/video.mp4: 384x640 (no detections), 5.1ms\n",
      "video 1/1 (frame 926/1264) /home/gerdson/projetos/FIAP-Hackathon-Grupo2/assets/video.mp4: 384x640 (no detections), 5.1ms\n",
      "video 1/1 (frame 927/1264) /home/gerdson/projetos/FIAP-Hackathon-Grupo2/assets/video.mp4: 384x640 (no detections), 5.1ms\n",
      "video 1/1 (frame 928/1264) /home/gerdson/projetos/FIAP-Hackathon-Grupo2/assets/video.mp4: 384x640 (no detections), 5.1ms\n",
      "video 1/1 (frame 929/1264) /home/gerdson/projetos/FIAP-Hackathon-Grupo2/assets/video.mp4: 384x640 (no detections), 5.1ms\n",
      "video 1/1 (frame 930/1264) /home/gerdson/projetos/FIAP-Hackathon-Grupo2/assets/video.mp4: 384x640 (no detections), 5.1ms\n",
      "video 1/1 (frame 931/1264) /home/gerdson/projetos/FIAP-Hackathon-Grupo2/assets/video.mp4: 384x640 (no detections), 5.3ms\n",
      "video 1/1 (frame 932/1264) /home/gerdson/projetos/FIAP-Hackathon-Grupo2/assets/video.mp4: 384x640 (no detections), 5.4ms\n",
      "video 1/1 (frame 933/1264) /home/gerdson/projetos/FIAP-Hackathon-Grupo2/assets/video.mp4: 384x640 (no detections), 5.3ms\n",
      "video 1/1 (frame 934/1264) /home/gerdson/projetos/FIAP-Hackathon-Grupo2/assets/video.mp4: 384x640 (no detections), 5.3ms\n",
      "video 1/1 (frame 935/1264) /home/gerdson/projetos/FIAP-Hackathon-Grupo2/assets/video.mp4: 384x640 (no detections), 5.1ms\n",
      "video 1/1 (frame 936/1264) /home/gerdson/projetos/FIAP-Hackathon-Grupo2/assets/video.mp4: 384x640 (no detections), 5.2ms\n",
      "video 1/1 (frame 937/1264) /home/gerdson/projetos/FIAP-Hackathon-Grupo2/assets/video.mp4: 384x640 (no detections), 5.1ms\n",
      "video 1/1 (frame 938/1264) /home/gerdson/projetos/FIAP-Hackathon-Grupo2/assets/video.mp4: 384x640 (no detections), 5.2ms\n",
      "video 1/1 (frame 939/1264) /home/gerdson/projetos/FIAP-Hackathon-Grupo2/assets/video.mp4: 384x640 (no detections), 5.1ms\n",
      "video 1/1 (frame 940/1264) /home/gerdson/projetos/FIAP-Hackathon-Grupo2/assets/video.mp4: 384x640 (no detections), 5.1ms\n",
      "video 1/1 (frame 941/1264) /home/gerdson/projetos/FIAP-Hackathon-Grupo2/assets/video.mp4: 384x640 (no detections), 5.1ms\n",
      "video 1/1 (frame 942/1264) /home/gerdson/projetos/FIAP-Hackathon-Grupo2/assets/video.mp4: 384x640 (no detections), 5.1ms\n",
      "video 1/1 (frame 943/1264) /home/gerdson/projetos/FIAP-Hackathon-Grupo2/assets/video.mp4: 384x640 (no detections), 5.5ms\n",
      "video 1/1 (frame 944/1264) /home/gerdson/projetos/FIAP-Hackathon-Grupo2/assets/video.mp4: 384x640 (no detections), 5.3ms\n",
      "video 1/1 (frame 945/1264) /home/gerdson/projetos/FIAP-Hackathon-Grupo2/assets/video.mp4: 384x640 (no detections), 5.3ms\n",
      "video 1/1 (frame 946/1264) /home/gerdson/projetos/FIAP-Hackathon-Grupo2/assets/video.mp4: 384x640 (no detections), 5.3ms\n",
      "video 1/1 (frame 947/1264) /home/gerdson/projetos/FIAP-Hackathon-Grupo2/assets/video.mp4: 384x640 (no detections), 5.2ms\n",
      "video 1/1 (frame 948/1264) /home/gerdson/projetos/FIAP-Hackathon-Grupo2/assets/video.mp4: 384x640 (no detections), 5.1ms\n",
      "video 1/1 (frame 949/1264) /home/gerdson/projetos/FIAP-Hackathon-Grupo2/assets/video.mp4: 384x640 (no detections), 5.1ms\n",
      "video 1/1 (frame 950/1264) /home/gerdson/projetos/FIAP-Hackathon-Grupo2/assets/video.mp4: 384x640 (no detections), 5.1ms\n",
      "video 1/1 (frame 951/1264) /home/gerdson/projetos/FIAP-Hackathon-Grupo2/assets/video.mp4: 384x640 (no detections), 5.1ms\n",
      "video 1/1 (frame 952/1264) /home/gerdson/projetos/FIAP-Hackathon-Grupo2/assets/video.mp4: 384x640 (no detections), 5.1ms\n",
      "video 1/1 (frame 953/1264) /home/gerdson/projetos/FIAP-Hackathon-Grupo2/assets/video.mp4: 384x640 (no detections), 5.2ms\n",
      "video 1/1 (frame 954/1264) /home/gerdson/projetos/FIAP-Hackathon-Grupo2/assets/video.mp4: 384x640 (no detections), 5.2ms\n",
      "video 1/1 (frame 955/1264) /home/gerdson/projetos/FIAP-Hackathon-Grupo2/assets/video.mp4: 384x640 (no detections), 5.3ms\n",
      "video 1/1 (frame 956/1264) /home/gerdson/projetos/FIAP-Hackathon-Grupo2/assets/video.mp4: 384x640 (no detections), 5.4ms\n",
      "video 1/1 (frame 957/1264) /home/gerdson/projetos/FIAP-Hackathon-Grupo2/assets/video.mp4: 384x640 (no detections), 5.2ms\n",
      "video 1/1 (frame 958/1264) /home/gerdson/projetos/FIAP-Hackathon-Grupo2/assets/video.mp4: 384x640 (no detections), 5.1ms\n",
      "video 1/1 (frame 959/1264) /home/gerdson/projetos/FIAP-Hackathon-Grupo2/assets/video.mp4: 384x640 (no detections), 5.1ms\n",
      "video 1/1 (frame 960/1264) /home/gerdson/projetos/FIAP-Hackathon-Grupo2/assets/video.mp4: 384x640 (no detections), 5.1ms\n",
      "video 1/1 (frame 961/1264) /home/gerdson/projetos/FIAP-Hackathon-Grupo2/assets/video.mp4: 384x640 (no detections), 5.1ms\n",
      "video 1/1 (frame 962/1264) /home/gerdson/projetos/FIAP-Hackathon-Grupo2/assets/video.mp4: 384x640 (no detections), 5.3ms\n",
      "video 1/1 (frame 963/1264) /home/gerdson/projetos/FIAP-Hackathon-Grupo2/assets/video.mp4: 384x640 (no detections), 5.1ms\n",
      "video 1/1 (frame 964/1264) /home/gerdson/projetos/FIAP-Hackathon-Grupo2/assets/video.mp4: 384x640 (no detections), 5.1ms\n",
      "video 1/1 (frame 965/1264) /home/gerdson/projetos/FIAP-Hackathon-Grupo2/assets/video.mp4: 384x640 (no detections), 5.2ms\n",
      "video 1/1 (frame 966/1264) /home/gerdson/projetos/FIAP-Hackathon-Grupo2/assets/video.mp4: 384x640 (no detections), 5.1ms\n",
      "video 1/1 (frame 967/1264) /home/gerdson/projetos/FIAP-Hackathon-Grupo2/assets/video.mp4: 384x640 (no detections), 5.1ms\n",
      "video 1/1 (frame 968/1264) /home/gerdson/projetos/FIAP-Hackathon-Grupo2/assets/video.mp4: 384x640 (no detections), 5.1ms\n",
      "video 1/1 (frame 969/1264) /home/gerdson/projetos/FIAP-Hackathon-Grupo2/assets/video.mp4: 384x640 (no detections), 5.1ms\n",
      "video 1/1 (frame 970/1264) /home/gerdson/projetos/FIAP-Hackathon-Grupo2/assets/video.mp4: 384x640 (no detections), 5.1ms\n",
      "video 1/1 (frame 971/1264) /home/gerdson/projetos/FIAP-Hackathon-Grupo2/assets/video.mp4: 384x640 (no detections), 5.1ms\n",
      "video 1/1 (frame 972/1264) /home/gerdson/projetos/FIAP-Hackathon-Grupo2/assets/video.mp4: 384x640 (no detections), 5.1ms\n",
      "video 1/1 (frame 973/1264) /home/gerdson/projetos/FIAP-Hackathon-Grupo2/assets/video.mp4: 384x640 (no detections), 5.1ms\n",
      "video 1/1 (frame 974/1264) /home/gerdson/projetos/FIAP-Hackathon-Grupo2/assets/video.mp4: 384x640 (no detections), 5.1ms\n",
      "video 1/1 (frame 975/1264) /home/gerdson/projetos/FIAP-Hackathon-Grupo2/assets/video.mp4: 384x640 (no detections), 5.1ms\n",
      "video 1/1 (frame 976/1264) /home/gerdson/projetos/FIAP-Hackathon-Grupo2/assets/video.mp4: 384x640 (no detections), 5.1ms\n",
      "video 1/1 (frame 977/1264) /home/gerdson/projetos/FIAP-Hackathon-Grupo2/assets/video.mp4: 384x640 (no detections), 5.5ms\n",
      "video 1/1 (frame 978/1264) /home/gerdson/projetos/FIAP-Hackathon-Grupo2/assets/video.mp4: 384x640 (no detections), 5.1ms\n",
      "video 1/1 (frame 979/1264) /home/gerdson/projetos/FIAP-Hackathon-Grupo2/assets/video.mp4: 384x640 (no detections), 5.1ms\n",
      "video 1/1 (frame 980/1264) /home/gerdson/projetos/FIAP-Hackathon-Grupo2/assets/video.mp4: 384x640 (no detections), 5.1ms\n",
      "video 1/1 (frame 981/1264) /home/gerdson/projetos/FIAP-Hackathon-Grupo2/assets/video.mp4: 384x640 (no detections), 5.1ms\n",
      "video 1/1 (frame 982/1264) /home/gerdson/projetos/FIAP-Hackathon-Grupo2/assets/video.mp4: 384x640 (no detections), 5.1ms\n",
      "video 1/1 (frame 983/1264) /home/gerdson/projetos/FIAP-Hackathon-Grupo2/assets/video.mp4: 384x640 (no detections), 5.1ms\n",
      "video 1/1 (frame 984/1264) /home/gerdson/projetos/FIAP-Hackathon-Grupo2/assets/video.mp4: 384x640 (no detections), 5.1ms\n",
      "video 1/1 (frame 985/1264) /home/gerdson/projetos/FIAP-Hackathon-Grupo2/assets/video.mp4: 384x640 (no detections), 5.1ms\n",
      "video 1/1 (frame 986/1264) /home/gerdson/projetos/FIAP-Hackathon-Grupo2/assets/video.mp4: 384x640 (no detections), 5.1ms\n",
      "video 1/1 (frame 987/1264) /home/gerdson/projetos/FIAP-Hackathon-Grupo2/assets/video.mp4: 384x640 (no detections), 5.1ms\n",
      "video 1/1 (frame 988/1264) /home/gerdson/projetos/FIAP-Hackathon-Grupo2/assets/video.mp4: 384x640 (no detections), 5.1ms\n",
      "video 1/1 (frame 989/1264) /home/gerdson/projetos/FIAP-Hackathon-Grupo2/assets/video.mp4: 384x640 (no detections), 5.5ms\n",
      "video 1/1 (frame 990/1264) /home/gerdson/projetos/FIAP-Hackathon-Grupo2/assets/video.mp4: 384x640 (no detections), 5.1ms\n",
      "video 1/1 (frame 991/1264) /home/gerdson/projetos/FIAP-Hackathon-Grupo2/assets/video.mp4: 384x640 (no detections), 5.1ms\n",
      "video 1/1 (frame 992/1264) /home/gerdson/projetos/FIAP-Hackathon-Grupo2/assets/video.mp4: 384x640 (no detections), 5.3ms\n",
      "video 1/1 (frame 993/1264) /home/gerdson/projetos/FIAP-Hackathon-Grupo2/assets/video.mp4: 384x640 (no detections), 5.2ms\n",
      "video 1/1 (frame 994/1264) /home/gerdson/projetos/FIAP-Hackathon-Grupo2/assets/video.mp4: 384x640 (no detections), 5.1ms\n",
      "video 1/1 (frame 995/1264) /home/gerdson/projetos/FIAP-Hackathon-Grupo2/assets/video.mp4: 384x640 (no detections), 5.2ms\n",
      "video 1/1 (frame 996/1264) /home/gerdson/projetos/FIAP-Hackathon-Grupo2/assets/video.mp4: 384x640 (no detections), 5.1ms\n",
      "video 1/1 (frame 997/1264) /home/gerdson/projetos/FIAP-Hackathon-Grupo2/assets/video.mp4: 384x640 (no detections), 5.1ms\n",
      "video 1/1 (frame 998/1264) /home/gerdson/projetos/FIAP-Hackathon-Grupo2/assets/video.mp4: 384x640 (no detections), 5.1ms\n",
      "video 1/1 (frame 999/1264) /home/gerdson/projetos/FIAP-Hackathon-Grupo2/assets/video.mp4: 384x640 (no detections), 5.2ms\n",
      "video 1/1 (frame 1000/1264) /home/gerdson/projetos/FIAP-Hackathon-Grupo2/assets/video.mp4: 384x640 (no detections), 5.1ms\n",
      "video 1/1 (frame 1001/1264) /home/gerdson/projetos/FIAP-Hackathon-Grupo2/assets/video.mp4: 384x640 (no detections), 5.1ms\n",
      "video 1/1 (frame 1002/1264) /home/gerdson/projetos/FIAP-Hackathon-Grupo2/assets/video.mp4: 384x640 (no detections), 5.1ms\n",
      "video 1/1 (frame 1003/1264) /home/gerdson/projetos/FIAP-Hackathon-Grupo2/assets/video.mp4: 384x640 (no detections), 5.1ms\n",
      "video 1/1 (frame 1004/1264) /home/gerdson/projetos/FIAP-Hackathon-Grupo2/assets/video.mp4: 384x640 (no detections), 5.1ms\n",
      "video 1/1 (frame 1005/1264) /home/gerdson/projetos/FIAP-Hackathon-Grupo2/assets/video.mp4: 384x640 (no detections), 5.1ms\n",
      "video 1/1 (frame 1006/1264) /home/gerdson/projetos/FIAP-Hackathon-Grupo2/assets/video.mp4: 384x640 (no detections), 5.1ms\n",
      "video 1/1 (frame 1007/1264) /home/gerdson/projetos/FIAP-Hackathon-Grupo2/assets/video.mp4: 384x640 (no detections), 5.3ms\n",
      "video 1/1 (frame 1008/1264) /home/gerdson/projetos/FIAP-Hackathon-Grupo2/assets/video.mp4: 384x640 (no detections), 5.2ms\n",
      "video 1/1 (frame 1009/1264) /home/gerdson/projetos/FIAP-Hackathon-Grupo2/assets/video.mp4: 384x640 (no detections), 5.3ms\n",
      "video 1/1 (frame 1010/1264) /home/gerdson/projetos/FIAP-Hackathon-Grupo2/assets/video.mp4: 384x640 (no detections), 5.1ms\n",
      "video 1/1 (frame 1011/1264) /home/gerdson/projetos/FIAP-Hackathon-Grupo2/assets/video.mp4: 384x640 (no detections), 5.1ms\n",
      "video 1/1 (frame 1012/1264) /home/gerdson/projetos/FIAP-Hackathon-Grupo2/assets/video.mp4: 384x640 (no detections), 5.1ms\n",
      "video 1/1 (frame 1013/1264) /home/gerdson/projetos/FIAP-Hackathon-Grupo2/assets/video.mp4: 384x640 (no detections), 5.2ms\n",
      "video 1/1 (frame 1014/1264) /home/gerdson/projetos/FIAP-Hackathon-Grupo2/assets/video.mp4: 384x640 (no detections), 5.1ms\n",
      "video 1/1 (frame 1015/1264) /home/gerdson/projetos/FIAP-Hackathon-Grupo2/assets/video.mp4: 384x640 (no detections), 5.1ms\n",
      "video 1/1 (frame 1016/1264) /home/gerdson/projetos/FIAP-Hackathon-Grupo2/assets/video.mp4: 384x640 (no detections), 5.1ms\n",
      "video 1/1 (frame 1017/1264) /home/gerdson/projetos/FIAP-Hackathon-Grupo2/assets/video.mp4: 384x640 (no detections), 5.1ms\n",
      "video 1/1 (frame 1018/1264) /home/gerdson/projetos/FIAP-Hackathon-Grupo2/assets/video.mp4: 384x640 (no detections), 5.1ms\n",
      "video 1/1 (frame 1019/1264) /home/gerdson/projetos/FIAP-Hackathon-Grupo2/assets/video.mp4: 384x640 (no detections), 5.3ms\n",
      "video 1/1 (frame 1020/1264) /home/gerdson/projetos/FIAP-Hackathon-Grupo2/assets/video.mp4: 384x640 (no detections), 5.2ms\n",
      "video 1/1 (frame 1021/1264) /home/gerdson/projetos/FIAP-Hackathon-Grupo2/assets/video.mp4: 384x640 (no detections), 5.4ms\n",
      "video 1/1 (frame 1022/1264) /home/gerdson/projetos/FIAP-Hackathon-Grupo2/assets/video.mp4: 384x640 2 armas, 5.3ms\n",
      "video 1/1 (frame 1023/1264) /home/gerdson/projetos/FIAP-Hackathon-Grupo2/assets/video.mp4: 384x640 2 armas, 5.2ms\n",
      "video 1/1 (frame 1024/1264) /home/gerdson/projetos/FIAP-Hackathon-Grupo2/assets/video.mp4: 384x640 2 armas, 5.2ms\n",
      "video 1/1 (frame 1025/1264) /home/gerdson/projetos/FIAP-Hackathon-Grupo2/assets/video.mp4: 384x640 2 armas, 5.2ms\n",
      "video 1/1 (frame 1026/1264) /home/gerdson/projetos/FIAP-Hackathon-Grupo2/assets/video.mp4: 384x640 2 armas, 5.2ms\n",
      "video 1/1 (frame 1027/1264) /home/gerdson/projetos/FIAP-Hackathon-Grupo2/assets/video.mp4: 384x640 2 armas, 5.2ms\n",
      "video 1/1 (frame 1028/1264) /home/gerdson/projetos/FIAP-Hackathon-Grupo2/assets/video.mp4: 384x640 2 armas, 5.2ms\n",
      "video 1/1 (frame 1029/1264) /home/gerdson/projetos/FIAP-Hackathon-Grupo2/assets/video.mp4: 384x640 2 armas, 5.2ms\n",
      "video 1/1 (frame 1030/1264) /home/gerdson/projetos/FIAP-Hackathon-Grupo2/assets/video.mp4: 384x640 2 armas, 5.3ms\n",
      "video 1/1 (frame 1031/1264) /home/gerdson/projetos/FIAP-Hackathon-Grupo2/assets/video.mp4: 384x640 2 armas, 5.2ms\n",
      "video 1/1 (frame 1032/1264) /home/gerdson/projetos/FIAP-Hackathon-Grupo2/assets/video.mp4: 384x640 2 armas, 5.1ms\n",
      "video 1/1 (frame 1033/1264) /home/gerdson/projetos/FIAP-Hackathon-Grupo2/assets/video.mp4: 384x640 2 armas, 5.1ms\n",
      "video 1/1 (frame 1034/1264) /home/gerdson/projetos/FIAP-Hackathon-Grupo2/assets/video.mp4: 384x640 2 armas, 5.1ms\n",
      "video 1/1 (frame 1035/1264) /home/gerdson/projetos/FIAP-Hackathon-Grupo2/assets/video.mp4: 384x640 2 armas, 5.2ms\n",
      "video 1/1 (frame 1036/1264) /home/gerdson/projetos/FIAP-Hackathon-Grupo2/assets/video.mp4: 384x640 1 arma, 5.3ms\n",
      "video 1/1 (frame 1037/1264) /home/gerdson/projetos/FIAP-Hackathon-Grupo2/assets/video.mp4: 384x640 1 arma, 5.2ms\n",
      "video 1/1 (frame 1038/1264) /home/gerdson/projetos/FIAP-Hackathon-Grupo2/assets/video.mp4: 384x640 1 arma, 5.2ms\n",
      "video 1/1 (frame 1039/1264) /home/gerdson/projetos/FIAP-Hackathon-Grupo2/assets/video.mp4: 384x640 1 arma, 5.1ms\n",
      "video 1/1 (frame 1040/1264) /home/gerdson/projetos/FIAP-Hackathon-Grupo2/assets/video.mp4: 384x640 1 arma, 5.8ms\n",
      "video 1/1 (frame 1041/1264) /home/gerdson/projetos/FIAP-Hackathon-Grupo2/assets/video.mp4: 384x640 1 arma, 6.2ms\n",
      "video 1/1 (frame 1042/1264) /home/gerdson/projetos/FIAP-Hackathon-Grupo2/assets/video.mp4: 384x640 1 arma, 5.3ms\n",
      "video 1/1 (frame 1043/1264) /home/gerdson/projetos/FIAP-Hackathon-Grupo2/assets/video.mp4: 384x640 1 arma, 5.3ms\n",
      "video 1/1 (frame 1044/1264) /home/gerdson/projetos/FIAP-Hackathon-Grupo2/assets/video.mp4: 384x640 1 arma, 5.3ms\n",
      "video 1/1 (frame 1045/1264) /home/gerdson/projetos/FIAP-Hackathon-Grupo2/assets/video.mp4: 384x640 1 arma, 5.3ms\n",
      "video 1/1 (frame 1046/1264) /home/gerdson/projetos/FIAP-Hackathon-Grupo2/assets/video.mp4: 384x640 1 arma, 5.5ms\n",
      "video 1/1 (frame 1047/1264) /home/gerdson/projetos/FIAP-Hackathon-Grupo2/assets/video.mp4: 384x640 1 arma, 5.3ms\n",
      "video 1/1 (frame 1048/1264) /home/gerdson/projetos/FIAP-Hackathon-Grupo2/assets/video.mp4: 384x640 1 arma, 5.2ms\n",
      "video 1/1 (frame 1049/1264) /home/gerdson/projetos/FIAP-Hackathon-Grupo2/assets/video.mp4: 384x640 1 arma, 6.8ms\n",
      "video 1/1 (frame 1050/1264) /home/gerdson/projetos/FIAP-Hackathon-Grupo2/assets/video.mp4: 384x640 1 arma, 5.3ms\n",
      "video 1/1 (frame 1051/1264) /home/gerdson/projetos/FIAP-Hackathon-Grupo2/assets/video.mp4: 384x640 1 arma, 5.5ms\n",
      "video 1/1 (frame 1052/1264) /home/gerdson/projetos/FIAP-Hackathon-Grupo2/assets/video.mp4: 384x640 1 arma, 5.1ms\n",
      "video 1/1 (frame 1053/1264) /home/gerdson/projetos/FIAP-Hackathon-Grupo2/assets/video.mp4: 384x640 1 arma, 5.5ms\n",
      "video 1/1 (frame 1054/1264) /home/gerdson/projetos/FIAP-Hackathon-Grupo2/assets/video.mp4: 384x640 1 arma, 5.2ms\n",
      "video 1/1 (frame 1055/1264) /home/gerdson/projetos/FIAP-Hackathon-Grupo2/assets/video.mp4: 384x640 1 arma, 5.2ms\n",
      "video 1/1 (frame 1056/1264) /home/gerdson/projetos/FIAP-Hackathon-Grupo2/assets/video.mp4: 384x640 1 arma, 5.1ms\n",
      "video 1/1 (frame 1057/1264) /home/gerdson/projetos/FIAP-Hackathon-Grupo2/assets/video.mp4: 384x640 1 arma, 5.1ms\n",
      "video 1/1 (frame 1058/1264) /home/gerdson/projetos/FIAP-Hackathon-Grupo2/assets/video.mp4: 384x640 1 arma, 5.6ms\n",
      "video 1/1 (frame 1059/1264) /home/gerdson/projetos/FIAP-Hackathon-Grupo2/assets/video.mp4: 384x640 1 arma, 5.1ms\n",
      "video 1/1 (frame 1060/1264) /home/gerdson/projetos/FIAP-Hackathon-Grupo2/assets/video.mp4: 384x640 1 arma, 7.3ms\n",
      "video 1/1 (frame 1061/1264) /home/gerdson/projetos/FIAP-Hackathon-Grupo2/assets/video.mp4: 384x640 1 arma, 5.1ms\n",
      "video 1/1 (frame 1062/1264) /home/gerdson/projetos/FIAP-Hackathon-Grupo2/assets/video.mp4: 384x640 1 arma, 5.2ms\n",
      "video 1/1 (frame 1063/1264) /home/gerdson/projetos/FIAP-Hackathon-Grupo2/assets/video.mp4: 384x640 1 arma, 5.1ms\n",
      "video 1/1 (frame 1064/1264) /home/gerdson/projetos/FIAP-Hackathon-Grupo2/assets/video.mp4: 384x640 1 arma, 5.3ms\n",
      "video 1/1 (frame 1065/1264) /home/gerdson/projetos/FIAP-Hackathon-Grupo2/assets/video.mp4: 384x640 1 arma, 7.0ms\n",
      "video 1/1 (frame 1066/1264) /home/gerdson/projetos/FIAP-Hackathon-Grupo2/assets/video.mp4: 384x640 1 arma, 5.2ms\n",
      "video 1/1 (frame 1067/1264) /home/gerdson/projetos/FIAP-Hackathon-Grupo2/assets/video.mp4: 384x640 1 arma, 5.5ms\n",
      "video 1/1 (frame 1068/1264) /home/gerdson/projetos/FIAP-Hackathon-Grupo2/assets/video.mp4: 384x640 1 arma, 5.2ms\n",
      "video 1/1 (frame 1069/1264) /home/gerdson/projetos/FIAP-Hackathon-Grupo2/assets/video.mp4: 384x640 1 arma, 5.5ms\n",
      "video 1/1 (frame 1070/1264) /home/gerdson/projetos/FIAP-Hackathon-Grupo2/assets/video.mp4: 384x640 2 armas, 5.1ms\n",
      "video 1/1 (frame 1071/1264) /home/gerdson/projetos/FIAP-Hackathon-Grupo2/assets/video.mp4: 384x640 2 armas, 5.1ms\n",
      "video 1/1 (frame 1072/1264) /home/gerdson/projetos/FIAP-Hackathon-Grupo2/assets/video.mp4: 384x640 2 armas, 5.1ms\n",
      "video 1/1 (frame 1073/1264) /home/gerdson/projetos/FIAP-Hackathon-Grupo2/assets/video.mp4: 384x640 1 arma, 5.1ms\n",
      "video 1/1 (frame 1074/1264) /home/gerdson/projetos/FIAP-Hackathon-Grupo2/assets/video.mp4: 384x640 1 arma, 5.1ms\n",
      "video 1/1 (frame 1075/1264) /home/gerdson/projetos/FIAP-Hackathon-Grupo2/assets/video.mp4: 384x640 1 arma, 5.1ms\n",
      "video 1/1 (frame 1076/1264) /home/gerdson/projetos/FIAP-Hackathon-Grupo2/assets/video.mp4: 384x640 1 arma, 6.6ms\n",
      "video 1/1 (frame 1077/1264) /home/gerdson/projetos/FIAP-Hackathon-Grupo2/assets/video.mp4: 384x640 1 arma, 5.1ms\n",
      "video 1/1 (frame 1078/1264) /home/gerdson/projetos/FIAP-Hackathon-Grupo2/assets/video.mp4: 384x640 2 armas, 6.2ms\n",
      "video 1/1 (frame 1079/1264) /home/gerdson/projetos/FIAP-Hackathon-Grupo2/assets/video.mp4: 384x640 2 armas, 5.2ms\n",
      "video 1/1 (frame 1080/1264) /home/gerdson/projetos/FIAP-Hackathon-Grupo2/assets/video.mp4: 384x640 2 armas, 5.2ms\n",
      "video 1/1 (frame 1081/1264) /home/gerdson/projetos/FIAP-Hackathon-Grupo2/assets/video.mp4: 384x640 1 arma, 7.1ms\n",
      "video 1/1 (frame 1082/1264) /home/gerdson/projetos/FIAP-Hackathon-Grupo2/assets/video.mp4: 384x640 2 armas, 5.2ms\n",
      "video 1/1 (frame 1083/1264) /home/gerdson/projetos/FIAP-Hackathon-Grupo2/assets/video.mp4: 384x640 2 armas, 5.5ms\n",
      "video 1/1 (frame 1084/1264) /home/gerdson/projetos/FIAP-Hackathon-Grupo2/assets/video.mp4: 384x640 2 armas, 5.2ms\n",
      "video 1/1 (frame 1085/1264) /home/gerdson/projetos/FIAP-Hackathon-Grupo2/assets/video.mp4: 384x640 2 armas, 5.5ms\n",
      "video 1/1 (frame 1086/1264) /home/gerdson/projetos/FIAP-Hackathon-Grupo2/assets/video.mp4: 384x640 2 armas, 5.2ms\n",
      "video 1/1 (frame 1087/1264) /home/gerdson/projetos/FIAP-Hackathon-Grupo2/assets/video.mp4: 384x640 2 armas, 5.4ms\n",
      "video 1/1 (frame 1088/1264) /home/gerdson/projetos/FIAP-Hackathon-Grupo2/assets/video.mp4: 384x640 2 armas, 5.2ms\n",
      "video 1/1 (frame 1089/1264) /home/gerdson/projetos/FIAP-Hackathon-Grupo2/assets/video.mp4: 384x640 2 armas, 5.4ms\n",
      "video 1/1 (frame 1090/1264) /home/gerdson/projetos/FIAP-Hackathon-Grupo2/assets/video.mp4: 384x640 2 armas, 5.1ms\n",
      "video 1/1 (frame 1091/1264) /home/gerdson/projetos/FIAP-Hackathon-Grupo2/assets/video.mp4: 384x640 2 armas, 5.2ms\n",
      "video 1/1 (frame 1092/1264) /home/gerdson/projetos/FIAP-Hackathon-Grupo2/assets/video.mp4: 384x640 2 armas, 6.6ms\n",
      "video 1/1 (frame 1093/1264) /home/gerdson/projetos/FIAP-Hackathon-Grupo2/assets/video.mp4: 384x640 2 armas, 5.2ms\n",
      "video 1/1 (frame 1094/1264) /home/gerdson/projetos/FIAP-Hackathon-Grupo2/assets/video.mp4: 384x640 2 armas, 5.5ms\n",
      "video 1/1 (frame 1095/1264) /home/gerdson/projetos/FIAP-Hackathon-Grupo2/assets/video.mp4: 384x640 1 arma, 5.1ms\n",
      "video 1/1 (frame 1096/1264) /home/gerdson/projetos/FIAP-Hackathon-Grupo2/assets/video.mp4: 384x640 2 armas, 5.4ms\n",
      "video 1/1 (frame 1097/1264) /home/gerdson/projetos/FIAP-Hackathon-Grupo2/assets/video.mp4: 384x640 2 armas, 7.1ms\n",
      "video 1/1 (frame 1098/1264) /home/gerdson/projetos/FIAP-Hackathon-Grupo2/assets/video.mp4: 384x640 2 armas, 5.7ms\n",
      "video 1/1 (frame 1099/1264) /home/gerdson/projetos/FIAP-Hackathon-Grupo2/assets/video.mp4: 384x640 2 armas, 5.3ms\n",
      "video 1/1 (frame 1100/1264) /home/gerdson/projetos/FIAP-Hackathon-Grupo2/assets/video.mp4: 384x640 2 armas, 5.7ms\n",
      "video 1/1 (frame 1101/1264) /home/gerdson/projetos/FIAP-Hackathon-Grupo2/assets/video.mp4: 384x640 2 armas, 5.2ms\n",
      "video 1/1 (frame 1102/1264) /home/gerdson/projetos/FIAP-Hackathon-Grupo2/assets/video.mp4: 384x640 2 armas, 5.3ms\n",
      "video 1/1 (frame 1103/1264) /home/gerdson/projetos/FIAP-Hackathon-Grupo2/assets/video.mp4: 384x640 2 armas, 5.3ms\n",
      "video 1/1 (frame 1104/1264) /home/gerdson/projetos/FIAP-Hackathon-Grupo2/assets/video.mp4: 384x640 2 armas, 5.2ms\n",
      "video 1/1 (frame 1105/1264) /home/gerdson/projetos/FIAP-Hackathon-Grupo2/assets/video.mp4: 384x640 2 armas, 5.7ms\n",
      "video 1/1 (frame 1106/1264) /home/gerdson/projetos/FIAP-Hackathon-Grupo2/assets/video.mp4: 384x640 2 armas, 5.3ms\n",
      "video 1/1 (frame 1107/1264) /home/gerdson/projetos/FIAP-Hackathon-Grupo2/assets/video.mp4: 384x640 2 armas, 5.5ms\n",
      "video 1/1 (frame 1108/1264) /home/gerdson/projetos/FIAP-Hackathon-Grupo2/assets/video.mp4: 384x640 2 armas, 5.3ms\n",
      "video 1/1 (frame 1109/1264) /home/gerdson/projetos/FIAP-Hackathon-Grupo2/assets/video.mp4: 384x640 2 armas, 5.3ms\n",
      "video 1/1 (frame 1110/1264) /home/gerdson/projetos/FIAP-Hackathon-Grupo2/assets/video.mp4: 384x640 2 armas, 5.7ms\n",
      "video 1/1 (frame 1111/1264) /home/gerdson/projetos/FIAP-Hackathon-Grupo2/assets/video.mp4: 384x640 2 armas, 5.3ms\n",
      "video 1/1 (frame 1112/1264) /home/gerdson/projetos/FIAP-Hackathon-Grupo2/assets/video.mp4: 384x640 2 armas, 5.7ms\n",
      "video 1/1 (frame 1113/1264) /home/gerdson/projetos/FIAP-Hackathon-Grupo2/assets/video.mp4: 384x640 1 arma, 5.3ms\n",
      "video 1/1 (frame 1114/1264) /home/gerdson/projetos/FIAP-Hackathon-Grupo2/assets/video.mp4: 384x640 2 armas, 5.3ms\n",
      "video 1/1 (frame 1115/1264) /home/gerdson/projetos/FIAP-Hackathon-Grupo2/assets/video.mp4: 384x640 2 armas, 5.3ms\n",
      "video 1/1 (frame 1116/1264) /home/gerdson/projetos/FIAP-Hackathon-Grupo2/assets/video.mp4: 384x640 2 armas, 5.3ms\n",
      "video 1/1 (frame 1117/1264) /home/gerdson/projetos/FIAP-Hackathon-Grupo2/assets/video.mp4: 384x640 (no detections), 5.7ms\n",
      "video 1/1 (frame 1118/1264) /home/gerdson/projetos/FIAP-Hackathon-Grupo2/assets/video.mp4: 384x640 (no detections), 5.7ms\n",
      "video 1/1 (frame 1119/1264) /home/gerdson/projetos/FIAP-Hackathon-Grupo2/assets/video.mp4: 384x640 (no detections), 5.4ms\n",
      "video 1/1 (frame 1120/1264) /home/gerdson/projetos/FIAP-Hackathon-Grupo2/assets/video.mp4: 384x640 (no detections), 5.3ms\n",
      "video 1/1 (frame 1121/1264) /home/gerdson/projetos/FIAP-Hackathon-Grupo2/assets/video.mp4: 384x640 (no detections), 5.3ms\n",
      "video 1/1 (frame 1122/1264) /home/gerdson/projetos/FIAP-Hackathon-Grupo2/assets/video.mp4: 384x640 (no detections), 5.2ms\n",
      "video 1/1 (frame 1123/1264) /home/gerdson/projetos/FIAP-Hackathon-Grupo2/assets/video.mp4: 384x640 (no detections), 5.2ms\n",
      "video 1/1 (frame 1124/1264) /home/gerdson/projetos/FIAP-Hackathon-Grupo2/assets/video.mp4: 384x640 (no detections), 5.2ms\n",
      "video 1/1 (frame 1125/1264) /home/gerdson/projetos/FIAP-Hackathon-Grupo2/assets/video.mp4: 384x640 (no detections), 5.3ms\n",
      "video 1/1 (frame 1126/1264) /home/gerdson/projetos/FIAP-Hackathon-Grupo2/assets/video.mp4: 384x640 (no detections), 5.7ms\n",
      "video 1/1 (frame 1127/1264) /home/gerdson/projetos/FIAP-Hackathon-Grupo2/assets/video.mp4: 384x640 (no detections), 5.7ms\n",
      "video 1/1 (frame 1128/1264) /home/gerdson/projetos/FIAP-Hackathon-Grupo2/assets/video.mp4: 384x640 (no detections), 5.5ms\n",
      "video 1/1 (frame 1129/1264) /home/gerdson/projetos/FIAP-Hackathon-Grupo2/assets/video.mp4: 384x640 (no detections), 5.2ms\n",
      "video 1/1 (frame 1130/1264) /home/gerdson/projetos/FIAP-Hackathon-Grupo2/assets/video.mp4: 384x640 (no detections), 5.2ms\n",
      "video 1/1 (frame 1131/1264) /home/gerdson/projetos/FIAP-Hackathon-Grupo2/assets/video.mp4: 384x640 (no detections), 5.2ms\n",
      "video 1/1 (frame 1132/1264) /home/gerdson/projetos/FIAP-Hackathon-Grupo2/assets/video.mp4: 384x640 (no detections), 5.3ms\n",
      "video 1/1 (frame 1133/1264) /home/gerdson/projetos/FIAP-Hackathon-Grupo2/assets/video.mp4: 384x640 (no detections), 5.6ms\n",
      "video 1/1 (frame 1134/1264) /home/gerdson/projetos/FIAP-Hackathon-Grupo2/assets/video.mp4: 384x640 (no detections), 7.0ms\n",
      "video 1/1 (frame 1135/1264) /home/gerdson/projetos/FIAP-Hackathon-Grupo2/assets/video.mp4: 384x640 (no detections), 5.4ms\n",
      "video 1/1 (frame 1136/1264) /home/gerdson/projetos/FIAP-Hackathon-Grupo2/assets/video.mp4: 384x640 (no detections), 5.3ms\n",
      "video 1/1 (frame 1137/1264) /home/gerdson/projetos/FIAP-Hackathon-Grupo2/assets/video.mp4: 384x640 (no detections), 5.3ms\n",
      "video 1/1 (frame 1138/1264) /home/gerdson/projetos/FIAP-Hackathon-Grupo2/assets/video.mp4: 384x640 (no detections), 5.2ms\n",
      "video 1/1 (frame 1139/1264) /home/gerdson/projetos/FIAP-Hackathon-Grupo2/assets/video.mp4: 384x640 (no detections), 5.2ms\n",
      "video 1/1 (frame 1140/1264) /home/gerdson/projetos/FIAP-Hackathon-Grupo2/assets/video.mp4: 384x640 (no detections), 5.2ms\n",
      "video 1/1 (frame 1141/1264) /home/gerdson/projetos/FIAP-Hackathon-Grupo2/assets/video.mp4: 384x640 (no detections), 5.6ms\n",
      "video 1/1 (frame 1142/1264) /home/gerdson/projetos/FIAP-Hackathon-Grupo2/assets/video.mp4: 384x640 (no detections), 5.5ms\n",
      "video 1/1 (frame 1143/1264) /home/gerdson/projetos/FIAP-Hackathon-Grupo2/assets/video.mp4: 384x640 (no detections), 5.5ms\n",
      "video 1/1 (frame 1144/1264) /home/gerdson/projetos/FIAP-Hackathon-Grupo2/assets/video.mp4: 384x640 (no detections), 5.2ms\n",
      "video 1/1 (frame 1145/1264) /home/gerdson/projetos/FIAP-Hackathon-Grupo2/assets/video.mp4: 384x640 (no detections), 5.4ms\n",
      "video 1/1 (frame 1146/1264) /home/gerdson/projetos/FIAP-Hackathon-Grupo2/assets/video.mp4: 384x640 (no detections), 5.2ms\n",
      "video 1/1 (frame 1147/1264) /home/gerdson/projetos/FIAP-Hackathon-Grupo2/assets/video.mp4: 384x640 (no detections), 5.2ms\n",
      "video 1/1 (frame 1148/1264) /home/gerdson/projetos/FIAP-Hackathon-Grupo2/assets/video.mp4: 384x640 (no detections), 5.1ms\n",
      "video 1/1 (frame 1149/1264) /home/gerdson/projetos/FIAP-Hackathon-Grupo2/assets/video.mp4: 384x640 (no detections), 5.2ms\n",
      "video 1/1 (frame 1150/1264) /home/gerdson/projetos/FIAP-Hackathon-Grupo2/assets/video.mp4: 384x640 (no detections), 5.6ms\n",
      "video 1/1 (frame 1151/1264) /home/gerdson/projetos/FIAP-Hackathon-Grupo2/assets/video.mp4: 384x640 (no detections), 5.4ms\n",
      "video 1/1 (frame 1152/1264) /home/gerdson/projetos/FIAP-Hackathon-Grupo2/assets/video.mp4: 384x640 (no detections), 5.4ms\n",
      "video 1/1 (frame 1153/1264) /home/gerdson/projetos/FIAP-Hackathon-Grupo2/assets/video.mp4: 384x640 (no detections), 5.3ms\n",
      "video 1/1 (frame 1154/1264) /home/gerdson/projetos/FIAP-Hackathon-Grupo2/assets/video.mp4: 384x640 (no detections), 5.3ms\n",
      "video 1/1 (frame 1155/1264) /home/gerdson/projetos/FIAP-Hackathon-Grupo2/assets/video.mp4: 384x640 (no detections), 5.2ms\n",
      "video 1/1 (frame 1156/1264) /home/gerdson/projetos/FIAP-Hackathon-Grupo2/assets/video.mp4: 384x640 (no detections), 5.2ms\n",
      "video 1/1 (frame 1157/1264) /home/gerdson/projetos/FIAP-Hackathon-Grupo2/assets/video.mp4: 384x640 (no detections), 5.2ms\n",
      "video 1/1 (frame 1158/1264) /home/gerdson/projetos/FIAP-Hackathon-Grupo2/assets/video.mp4: 384x640 (no detections), 5.3ms\n",
      "video 1/1 (frame 1159/1264) /home/gerdson/projetos/FIAP-Hackathon-Grupo2/assets/video.mp4: 384x640 (no detections), 5.4ms\n",
      "video 1/1 (frame 1160/1264) /home/gerdson/projetos/FIAP-Hackathon-Grupo2/assets/video.mp4: 384x640 (no detections), 5.4ms\n",
      "video 1/1 (frame 1161/1264) /home/gerdson/projetos/FIAP-Hackathon-Grupo2/assets/video.mp4: 384x640 (no detections), 5.3ms\n",
      "video 1/1 (frame 1162/1264) /home/gerdson/projetos/FIAP-Hackathon-Grupo2/assets/video.mp4: 384x640 (no detections), 5.2ms\n",
      "video 1/1 (frame 1163/1264) /home/gerdson/projetos/FIAP-Hackathon-Grupo2/assets/video.mp4: 384x640 (no detections), 5.2ms\n",
      "video 1/1 (frame 1164/1264) /home/gerdson/projetos/FIAP-Hackathon-Grupo2/assets/video.mp4: 384x640 (no detections), 5.2ms\n",
      "video 1/1 (frame 1165/1264) /home/gerdson/projetos/FIAP-Hackathon-Grupo2/assets/video.mp4: 384x640 (no detections), 5.2ms\n",
      "video 1/1 (frame 1166/1264) /home/gerdson/projetos/FIAP-Hackathon-Grupo2/assets/video.mp4: 384x640 (no detections), 5.2ms\n",
      "video 1/1 (frame 1167/1264) /home/gerdson/projetos/FIAP-Hackathon-Grupo2/assets/video.mp4: 384x640 (no detections), 5.2ms\n",
      "video 1/1 (frame 1168/1264) /home/gerdson/projetos/FIAP-Hackathon-Grupo2/assets/video.mp4: 384x640 (no detections), 5.3ms\n",
      "video 1/1 (frame 1169/1264) /home/gerdson/projetos/FIAP-Hackathon-Grupo2/assets/video.mp4: 384x640 (no detections), 5.4ms\n",
      "video 1/1 (frame 1170/1264) /home/gerdson/projetos/FIAP-Hackathon-Grupo2/assets/video.mp4: 384x640 (no detections), 5.4ms\n",
      "video 1/1 (frame 1171/1264) /home/gerdson/projetos/FIAP-Hackathon-Grupo2/assets/video.mp4: 384x640 (no detections), 5.4ms\n",
      "video 1/1 (frame 1172/1264) /home/gerdson/projetos/FIAP-Hackathon-Grupo2/assets/video.mp4: 384x640 (no detections), 5.3ms\n",
      "video 1/1 (frame 1173/1264) /home/gerdson/projetos/FIAP-Hackathon-Grupo2/assets/video.mp4: 384x640 (no detections), 5.2ms\n",
      "video 1/1 (frame 1174/1264) /home/gerdson/projetos/FIAP-Hackathon-Grupo2/assets/video.mp4: 384x640 (no detections), 5.2ms\n",
      "video 1/1 (frame 1175/1264) /home/gerdson/projetos/FIAP-Hackathon-Grupo2/assets/video.mp4: 384x640 (no detections), 5.2ms\n",
      "video 1/1 (frame 1176/1264) /home/gerdson/projetos/FIAP-Hackathon-Grupo2/assets/video.mp4: 384x640 (no detections), 5.2ms\n",
      "video 1/1 (frame 1177/1264) /home/gerdson/projetos/FIAP-Hackathon-Grupo2/assets/video.mp4: 384x640 (no detections), 5.4ms\n",
      "video 1/1 (frame 1178/1264) /home/gerdson/projetos/FIAP-Hackathon-Grupo2/assets/video.mp4: 384x640 (no detections), 5.4ms\n",
      "video 1/1 (frame 1179/1264) /home/gerdson/projetos/FIAP-Hackathon-Grupo2/assets/video.mp4: 384x640 (no detections), 5.4ms\n",
      "video 1/1 (frame 1180/1264) /home/gerdson/projetos/FIAP-Hackathon-Grupo2/assets/video.mp4: 384x640 (no detections), 5.2ms\n",
      "video 1/1 (frame 1181/1264) /home/gerdson/projetos/FIAP-Hackathon-Grupo2/assets/video.mp4: 384x640 (no detections), 5.2ms\n",
      "video 1/1 (frame 1182/1264) /home/gerdson/projetos/FIAP-Hackathon-Grupo2/assets/video.mp4: 384x640 (no detections), 5.3ms\n",
      "video 1/1 (frame 1183/1264) /home/gerdson/projetos/FIAP-Hackathon-Grupo2/assets/video.mp4: 384x640 (no detections), 5.2ms\n",
      "video 1/1 (frame 1184/1264) /home/gerdson/projetos/FIAP-Hackathon-Grupo2/assets/video.mp4: 384x640 (no detections), 5.3ms\n",
      "video 1/1 (frame 1185/1264) /home/gerdson/projetos/FIAP-Hackathon-Grupo2/assets/video.mp4: 384x640 (no detections), 5.4ms\n",
      "video 1/1 (frame 1186/1264) /home/gerdson/projetos/FIAP-Hackathon-Grupo2/assets/video.mp4: 384x640 (no detections), 5.4ms\n",
      "video 1/1 (frame 1187/1264) /home/gerdson/projetos/FIAP-Hackathon-Grupo2/assets/video.mp4: 384x640 (no detections), 5.4ms\n",
      "video 1/1 (frame 1188/1264) /home/gerdson/projetos/FIAP-Hackathon-Grupo2/assets/video.mp4: 384x640 (no detections), 5.2ms\n",
      "video 1/1 (frame 1189/1264) /home/gerdson/projetos/FIAP-Hackathon-Grupo2/assets/video.mp4: 384x640 (no detections), 5.2ms\n",
      "video 1/1 (frame 1190/1264) /home/gerdson/projetos/FIAP-Hackathon-Grupo2/assets/video.mp4: 384x640 (no detections), 5.2ms\n",
      "video 1/1 (frame 1191/1264) /home/gerdson/projetos/FIAP-Hackathon-Grupo2/assets/video.mp4: 384x640 (no detections), 5.2ms\n",
      "video 1/1 (frame 1192/1264) /home/gerdson/projetos/FIAP-Hackathon-Grupo2/assets/video.mp4: 384x640 (no detections), 5.2ms\n",
      "video 1/1 (frame 1193/1264) /home/gerdson/projetos/FIAP-Hackathon-Grupo2/assets/video.mp4: 384x640 (no detections), 5.3ms\n",
      "video 1/1 (frame 1194/1264) /home/gerdson/projetos/FIAP-Hackathon-Grupo2/assets/video.mp4: 384x640 (no detections), 5.4ms\n",
      "video 1/1 (frame 1195/1264) /home/gerdson/projetos/FIAP-Hackathon-Grupo2/assets/video.mp4: 384x640 (no detections), 5.4ms\n",
      "video 1/1 (frame 1196/1264) /home/gerdson/projetos/FIAP-Hackathon-Grupo2/assets/video.mp4: 384x640 (no detections), 5.3ms\n",
      "video 1/1 (frame 1197/1264) /home/gerdson/projetos/FIAP-Hackathon-Grupo2/assets/video.mp4: 384x640 (no detections), 5.4ms\n",
      "video 1/1 (frame 1198/1264) /home/gerdson/projetos/FIAP-Hackathon-Grupo2/assets/video.mp4: 384x640 (no detections), 5.3ms\n",
      "video 1/1 (frame 1199/1264) /home/gerdson/projetos/FIAP-Hackathon-Grupo2/assets/video.mp4: 384x640 (no detections), 5.3ms\n",
      "video 1/1 (frame 1200/1264) /home/gerdson/projetos/FIAP-Hackathon-Grupo2/assets/video.mp4: 384x640 (no detections), 5.2ms\n",
      "video 1/1 (frame 1201/1264) /home/gerdson/projetos/FIAP-Hackathon-Grupo2/assets/video.mp4: 384x640 (no detections), 5.3ms\n",
      "video 1/1 (frame 1202/1264) /home/gerdson/projetos/FIAP-Hackathon-Grupo2/assets/video.mp4: 384x640 (no detections), 5.5ms\n",
      "video 1/1 (frame 1203/1264) /home/gerdson/projetos/FIAP-Hackathon-Grupo2/assets/video.mp4: 384x640 (no detections), 5.5ms\n",
      "video 1/1 (frame 1204/1264) /home/gerdson/projetos/FIAP-Hackathon-Grupo2/assets/video.mp4: 384x640 (no detections), 5.5ms\n",
      "video 1/1 (frame 1205/1264) /home/gerdson/projetos/FIAP-Hackathon-Grupo2/assets/video.mp4: 384x640 (no detections), 5.2ms\n",
      "video 1/1 (frame 1206/1264) /home/gerdson/projetos/FIAP-Hackathon-Grupo2/assets/video.mp4: 384x640 (no detections), 5.2ms\n",
      "video 1/1 (frame 1207/1264) /home/gerdson/projetos/FIAP-Hackathon-Grupo2/assets/video.mp4: 384x640 (no detections), 5.2ms\n",
      "video 1/1 (frame 1208/1264) /home/gerdson/projetos/FIAP-Hackathon-Grupo2/assets/video.mp4: 384x640 (no detections), 5.2ms\n",
      "video 1/1 (frame 1209/1264) /home/gerdson/projetos/FIAP-Hackathon-Grupo2/assets/video.mp4: 384x640 (no detections), 5.4ms\n",
      "video 1/1 (frame 1210/1264) /home/gerdson/projetos/FIAP-Hackathon-Grupo2/assets/video.mp4: 384x640 (no detections), 5.5ms\n",
      "video 1/1 (frame 1211/1264) /home/gerdson/projetos/FIAP-Hackathon-Grupo2/assets/video.mp4: 384x640 (no detections), 5.5ms\n",
      "video 1/1 (frame 1212/1264) /home/gerdson/projetos/FIAP-Hackathon-Grupo2/assets/video.mp4: 384x640 (no detections), 5.2ms\n",
      "video 1/1 (frame 1213/1264) /home/gerdson/projetos/FIAP-Hackathon-Grupo2/assets/video.mp4: 384x640 (no detections), 5.3ms\n",
      "video 1/1 (frame 1214/1264) /home/gerdson/projetos/FIAP-Hackathon-Grupo2/assets/video.mp4: 384x640 (no detections), 5.3ms\n",
      "video 1/1 (frame 1215/1264) /home/gerdson/projetos/FIAP-Hackathon-Grupo2/assets/video.mp4: 384x640 (no detections), 5.3ms\n",
      "video 1/1 (frame 1216/1264) /home/gerdson/projetos/FIAP-Hackathon-Grupo2/assets/video.mp4: 384x640 (no detections), 5.2ms\n",
      "video 1/1 (frame 1217/1264) /home/gerdson/projetos/FIAP-Hackathon-Grupo2/assets/video.mp4: 384x640 (no detections), 5.3ms\n",
      "video 1/1 (frame 1218/1264) /home/gerdson/projetos/FIAP-Hackathon-Grupo2/assets/video.mp4: 384x640 (no detections), 5.5ms\n",
      "video 1/1 (frame 1219/1264) /home/gerdson/projetos/FIAP-Hackathon-Grupo2/assets/video.mp4: 384x640 (no detections), 5.5ms\n",
      "video 1/1 (frame 1220/1264) /home/gerdson/projetos/FIAP-Hackathon-Grupo2/assets/video.mp4: 384x640 (no detections), 5.3ms\n",
      "video 1/1 (frame 1221/1264) /home/gerdson/projetos/FIAP-Hackathon-Grupo2/assets/video.mp4: 384x640 (no detections), 5.8ms\n",
      "video 1/1 (frame 1222/1264) /home/gerdson/projetos/FIAP-Hackathon-Grupo2/assets/video.mp4: 384x640 (no detections), 5.9ms\n",
      "video 1/1 (frame 1223/1264) /home/gerdson/projetos/FIAP-Hackathon-Grupo2/assets/video.mp4: 384x640 (no detections), 5.8ms\n",
      "video 1/1 (frame 1224/1264) /home/gerdson/projetos/FIAP-Hackathon-Grupo2/assets/video.mp4: 384x640 (no detections), 5.7ms\n",
      "video 1/1 (frame 1225/1264) /home/gerdson/projetos/FIAP-Hackathon-Grupo2/assets/video.mp4: 384x640 (no detections), 5.2ms\n",
      "video 1/1 (frame 1226/1264) /home/gerdson/projetos/FIAP-Hackathon-Grupo2/assets/video.mp4: 384x640 (no detections), 5.1ms\n",
      "video 1/1 (frame 1227/1264) /home/gerdson/projetos/FIAP-Hackathon-Grupo2/assets/video.mp4: 384x640 (no detections), 5.1ms\n",
      "video 1/1 (frame 1228/1264) /home/gerdson/projetos/FIAP-Hackathon-Grupo2/assets/video.mp4: 384x640 (no detections), 5.1ms\n",
      "video 1/1 (frame 1229/1264) /home/gerdson/projetos/FIAP-Hackathon-Grupo2/assets/video.mp4: 384x640 (no detections), 5.1ms\n",
      "video 1/1 (frame 1230/1264) /home/gerdson/projetos/FIAP-Hackathon-Grupo2/assets/video.mp4: 384x640 (no detections), 5.2ms\n",
      "video 1/1 (frame 1231/1264) /home/gerdson/projetos/FIAP-Hackathon-Grupo2/assets/video.mp4: 384x640 (no detections), 5.6ms\n",
      "video 1/1 (frame 1232/1264) /home/gerdson/projetos/FIAP-Hackathon-Grupo2/assets/video.mp4: 384x640 (no detections), 5.7ms\n",
      "video 1/1 (frame 1233/1264) /home/gerdson/projetos/FIAP-Hackathon-Grupo2/assets/video.mp4: 384x640 (no detections), 5.7ms\n",
      "video 1/1 (frame 1234/1264) /home/gerdson/projetos/FIAP-Hackathon-Grupo2/assets/video.mp4: 384x640 (no detections), 5.3ms\n",
      "video 1/1 (frame 1235/1264) /home/gerdson/projetos/FIAP-Hackathon-Grupo2/assets/video.mp4: 384x640 (no detections), 5.2ms\n",
      "video 1/1 (frame 1236/1264) /home/gerdson/projetos/FIAP-Hackathon-Grupo2/assets/video.mp4: 384x640 (no detections), 5.2ms\n",
      "video 1/1 (frame 1237/1264) /home/gerdson/projetos/FIAP-Hackathon-Grupo2/assets/video.mp4: 384x640 (no detections), 5.3ms\n",
      "video 1/1 (frame 1238/1264) /home/gerdson/projetos/FIAP-Hackathon-Grupo2/assets/video.mp4: 384x640 (no detections), 5.6ms\n",
      "video 1/1 (frame 1239/1264) /home/gerdson/projetos/FIAP-Hackathon-Grupo2/assets/video.mp4: 384x640 (no detections), 5.4ms\n",
      "video 1/1 (frame 1240/1264) /home/gerdson/projetos/FIAP-Hackathon-Grupo2/assets/video.mp4: 384x640 (no detections), 5.4ms\n",
      "video 1/1 (frame 1241/1264) /home/gerdson/projetos/FIAP-Hackathon-Grupo2/assets/video.mp4: 384x640 (no detections), 5.2ms\n",
      "video 1/1 (frame 1242/1264) /home/gerdson/projetos/FIAP-Hackathon-Grupo2/assets/video.mp4: 384x640 (no detections), 5.3ms\n",
      "video 1/1 (frame 1243/1264) /home/gerdson/projetos/FIAP-Hackathon-Grupo2/assets/video.mp4: 384x640 (no detections), 5.3ms\n",
      "video 1/1 (frame 1244/1264) /home/gerdson/projetos/FIAP-Hackathon-Grupo2/assets/video.mp4: 384x640 (no detections), 5.3ms\n",
      "video 1/1 (frame 1245/1264) /home/gerdson/projetos/FIAP-Hackathon-Grupo2/assets/video.mp4: 384x640 (no detections), 5.3ms\n",
      "video 1/1 (frame 1246/1264) /home/gerdson/projetos/FIAP-Hackathon-Grupo2/assets/video.mp4: 384x640 (no detections), 5.5ms\n",
      "video 1/1 (frame 1247/1264) /home/gerdson/projetos/FIAP-Hackathon-Grupo2/assets/video.mp4: 384x640 (no detections), 5.7ms\n",
      "video 1/1 (frame 1248/1264) /home/gerdson/projetos/FIAP-Hackathon-Grupo2/assets/video.mp4: 384x640 (no detections), 5.6ms\n",
      "video 1/1 (frame 1249/1264) /home/gerdson/projetos/FIAP-Hackathon-Grupo2/assets/video.mp4: 384x640 (no detections), 5.4ms\n",
      "video 1/1 (frame 1250/1264) /home/gerdson/projetos/FIAP-Hackathon-Grupo2/assets/video.mp4: 384x640 (no detections), 5.2ms\n",
      "video 1/1 (frame 1251/1264) /home/gerdson/projetos/FIAP-Hackathon-Grupo2/assets/video.mp4: 384x640 (no detections), 5.3ms\n",
      "video 1/1 (frame 1252/1264) /home/gerdson/projetos/FIAP-Hackathon-Grupo2/assets/video.mp4: 384x640 (no detections), 5.3ms\n",
      "video 1/1 (frame 1253/1264) /home/gerdson/projetos/FIAP-Hackathon-Grupo2/assets/video.mp4: 384x640 (no detections), 5.2ms\n",
      "video 1/1 (frame 1254/1264) /home/gerdson/projetos/FIAP-Hackathon-Grupo2/assets/video.mp4: 384x640 (no detections), 5.5ms\n",
      "video 1/1 (frame 1255/1264) /home/gerdson/projetos/FIAP-Hackathon-Grupo2/assets/video.mp4: 384x640 (no detections), 5.4ms\n",
      "video 1/1 (frame 1256/1264) /home/gerdson/projetos/FIAP-Hackathon-Grupo2/assets/video.mp4: 384x640 (no detections), 5.4ms\n",
      "video 1/1 (frame 1257/1264) /home/gerdson/projetos/FIAP-Hackathon-Grupo2/assets/video.mp4: 384x640 (no detections), 5.3ms\n",
      "video 1/1 (frame 1258/1264) /home/gerdson/projetos/FIAP-Hackathon-Grupo2/assets/video.mp4: 384x640 (no detections), 5.2ms\n",
      "video 1/1 (frame 1259/1264) /home/gerdson/projetos/FIAP-Hackathon-Grupo2/assets/video.mp4: 384x640 (no detections), 5.3ms\n",
      "video 1/1 (frame 1260/1264) /home/gerdson/projetos/FIAP-Hackathon-Grupo2/assets/video.mp4: 384x640 (no detections), 5.3ms\n",
      "video 1/1 (frame 1261/1264) /home/gerdson/projetos/FIAP-Hackathon-Grupo2/assets/video.mp4: 384x640 (no detections), 5.2ms\n",
      "video 1/1 (frame 1262/1264) /home/gerdson/projetos/FIAP-Hackathon-Grupo2/assets/video.mp4: 384x640 (no detections), 5.3ms\n",
      "video 1/1 (frame 1263/1264) /home/gerdson/projetos/FIAP-Hackathon-Grupo2/assets/video.mp4: 384x640 (no detections), 5.6ms\n",
      "video 1/1 (frame 1264/1264) /home/gerdson/projetos/FIAP-Hackathon-Grupo2/assets/video.mp4: 384x640 (no detections), 5.6ms\n",
      "Speed: 1.0ms preprocess, 5.4ms inference, 0.4ms postprocess per image at shape (1, 3, 384, 640)\n",
      "Results saved to \u001b[1m/home/gerdson/projetos/FIAP-Hackathon-Grupo2/runs/detect/predict\u001b[0m\n"
     ]
    }
   ],
   "source": [
    "for result in results_video:\n",
    "    # Do something with results...\n",
    "    pass\n",
    "    # boxes = result.boxes  # Boxes object for bbox outputs\n",
    "    # masks = result.masks  # Masks object for segmentation masks outputs\n",
    "    # keypoints = result.keypoints  # Keypoints object for pose outputs\n",
    "    # probs = result.probs  # Probs object for classification outputs"
   ]
  }
 ],
 "metadata": {
  "accelerator": "GPU",
  "colab": {
   "gpuType": "A100",
   "machine_shape": "hm",
   "provenance": []
  },
  "kernelspec": {
   "display_name": "fiap-hackathon",
   "language": "python",
   "name": "python3"
  },
  "language_info": {
   "codemirror_mode": {
    "name": "ipython",
    "version": 3
   },
   "file_extension": ".py",
   "mimetype": "text/x-python",
   "name": "python",
   "nbconvert_exporter": "python",
   "pygments_lexer": "ipython3",
   "version": "3.12.8"
  }
 },
 "nbformat": 4,
 "nbformat_minor": 4
}
