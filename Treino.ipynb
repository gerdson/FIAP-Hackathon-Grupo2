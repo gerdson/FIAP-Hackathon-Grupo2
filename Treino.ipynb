{
 "cells": [
  {
   "cell_type": "markdown",
   "metadata": {},
   "source": [
    "# Configs"
   ]
  },
  {
   "cell_type": "code",
   "execution_count": 1,
   "metadata": {},
   "outputs": [
    {
     "data": {
      "text/plain": [
       "{'settings_version': '0.0.6',\n",
       " 'datasets_dir': '/home/gerdson/projetos/FIAP-Hackathon-Grupo2/datasets',\n",
       " 'weights_dir': '/home/gerdson/projetos/FIAP-Hackathon-Grupo2/weights',\n",
       " 'runs_dir': '/home/gerdson/projetos/FIAP-Hackathon-Grupo2/runs',\n",
       " 'uuid': '765bacf433b23056de58d9ce6fef2008d6ad1b127e866ab4c974826f73d3d1e8',\n",
       " 'sync': True,\n",
       " 'api_key': '',\n",
       " 'openai_api_key': '',\n",
       " 'clearml': True,\n",
       " 'comet': True,\n",
       " 'dvc': True,\n",
       " 'hub': True,\n",
       " 'mlflow': True,\n",
       " 'neptune': True,\n",
       " 'raytune': True,\n",
       " 'tensorboard': True,\n",
       " 'wandb': False,\n",
       " 'vscode_msg': True}"
      ]
     },
     "execution_count": 1,
     "metadata": {},
     "output_type": "execute_result"
    }
   ],
   "source": [
    "from ultralytics import YOLO, settings\n",
    "settings"
   ]
  },
  {
   "cell_type": "code",
   "execution_count": 2,
   "metadata": {},
   "outputs": [
    {
     "data": {
      "text/plain": [
       "{'settings_version': '0.0.6',\n",
       " 'datasets_dir': '/home/gerdson/projetos/FIAP-Hackathon-Grupo2/datasets',\n",
       " 'weights_dir': '/home/gerdson/projetos/FIAP-Hackathon-Grupo2/weights',\n",
       " 'runs_dir': '/home/gerdson/projetos/FIAP-Hackathon-Grupo2/runs',\n",
       " 'uuid': '765bacf433b23056de58d9ce6fef2008d6ad1b127e866ab4c974826f73d3d1e8',\n",
       " 'sync': True,\n",
       " 'api_key': '',\n",
       " 'openai_api_key': '',\n",
       " 'clearml': True,\n",
       " 'comet': True,\n",
       " 'dvc': True,\n",
       " 'hub': True,\n",
       " 'mlflow': True,\n",
       " 'neptune': True,\n",
       " 'raytune': True,\n",
       " 'tensorboard': True,\n",
       " 'wandb': False,\n",
       " 'vscode_msg': True}"
      ]
     },
     "execution_count": 2,
     "metadata": {},
     "output_type": "execute_result"
    }
   ],
   "source": [
    "settings.update({'datasets_dir': '/home/gerdson/projetos/FIAP-Hackathon-Grupo2/datasets'})\n",
    "settings.update({'weights_dir': '/home/gerdson/projetos/FIAP-Hackathon-Grupo2/weights'})\n",
    "settings.update({'runs_dir': '/home/gerdson/projetos/FIAP-Hackathon-Grupo2/runs'})\n",
    "settings"
   ]
  },
  {
   "cell_type": "markdown",
   "metadata": {},
   "source": [
    "# Treinamento"
   ]
  },
  {
   "cell_type": "code",
   "execution_count": 16,
   "metadata": {},
   "outputs": [],
   "source": [
    "#model = YOLO('yolov8m-worldv2')\n",
    "model = YOLO('yolo11m')"
   ]
  },
  {
   "cell_type": "code",
   "execution_count": 17,
   "metadata": {},
   "outputs": [
    {
     "name": "stdout",
     "output_type": "stream",
     "text": [
      "PyTorch: GPU está disponível!\n",
      "GPU: NVIDIA GeForce RTX 4090\n"
     ]
    },
    {
     "data": {
      "text/plain": [
       "True"
      ]
     },
     "execution_count": 17,
     "metadata": {},
     "output_type": "execute_result"
    }
   ],
   "source": [
    "import torch\n",
    "\n",
    "def check_gpu_pytorch():\n",
    "    \"\"\"Verifica se a GPU está disponível para PyTorch.\"\"\"\n",
    "    if torch.cuda.is_available():\n",
    "        print(\"PyTorch: GPU está disponível!\")\n",
    "        gpu_index = torch.cuda.current_device()\n",
    "        gpu_name = torch.cuda.get_device_name(gpu_index)\n",
    "        print(f\"GPU: {gpu_name}\")\n",
    "        return True\n",
    "    else:\n",
    "        print(\"PyTorch: GPU não está disponível.\")\n",
    "        return False\n",
    "    \n",
    "check_gpu_pytorch()"
   ]
  },
  {
   "cell_type": "code",
   "execution_count": 10,
   "metadata": {},
   "outputs": [],
   "source": [
    "#config = './config.yaml'\n",
    "#model.train(data=config, epochs=10, batch=64)"
   ]
  },
  {
   "cell_type": "code",
   "execution_count": 18,
   "metadata": {},
   "outputs": [
    {
     "name": "stdout",
     "output_type": "stream",
     "text": [
      "New https://pypi.org/project/ultralytics/8.3.71 available 😃 Update with 'pip install -U ultralytics'\n",
      "Ultralytics 8.3.70 🚀 Python-3.12.8 torch-2.6.0+cu124 CUDA:0 (NVIDIA GeForce RTX 4090, 24069MiB)\n",
      "\u001b[34m\u001b[1mengine/trainer: \u001b[0mtask=detect, mode=train, model=yolo11m.pt, data=./config.yaml, epochs=30, time=None, patience=8, batch=32, imgsz=640, save=True, save_period=-1, cache=False, device=None, workers=8, project=None, name=train8, exist_ok=False, pretrained=True, optimizer=AdamW, verbose=True, seed=0, deterministic=True, single_cls=False, rect=False, cos_lr=False, close_mosaic=10, resume=False, amp=True, fraction=1.0, profile=False, freeze=None, multi_scale=False, overlap_mask=True, mask_ratio=4, dropout=0.0, val=True, split=val, save_json=False, save_hybrid=False, conf=None, iou=0.7, max_det=300, half=False, dnn=False, plots=True, source=None, vid_stride=1, stream_buffer=False, visualize=False, augment=False, agnostic_nms=False, classes=None, retina_masks=False, embed=None, show=False, save_frames=False, save_txt=False, save_conf=False, save_crop=False, show_labels=True, show_conf=True, show_boxes=True, line_width=None, format=torchscript, keras=False, optimize=False, int8=False, dynamic=False, simplify=True, opset=None, workspace=None, nms=False, lr0=0.001, lrf=0.01, momentum=0.937, weight_decay=0.0005, warmup_epochs=3.0, warmup_momentum=0.8, warmup_bias_lr=0.1, box=7.5, cls=0.5, dfl=1.5, pose=12.0, kobj=1.0, nbs=64, hsv_h=0.015, hsv_s=0.3, hsv_v=0.3, degrees=0.3, translate=0.1, scale=0.5, shear=0.0, perspective=0.0, flipud=0.0, fliplr=0.5, bgr=0.0, mosaic=1.0, mixup=0.0, copy_paste=0.0, copy_paste_mode=flip, auto_augment=randaugment, erasing=0.4, crop_fraction=1.0, cfg=None, tracker=botsort.yaml, save_dir=/home/gerdson/projetos/FIAP-Hackathon-Grupo2/runs/detect/train8\n",
      "Overriding model.yaml nc=80 with nc=1\n",
      "\n",
      "                   from  n    params  module                                       arguments                     \n",
      "  0                  -1  1      1856  ultralytics.nn.modules.conv.Conv             [3, 64, 3, 2]                 \n",
      "  1                  -1  1     73984  ultralytics.nn.modules.conv.Conv             [64, 128, 3, 2]               \n",
      "  2                  -1  1    111872  ultralytics.nn.modules.block.C3k2            [128, 256, 1, True, 0.25]     \n",
      "  3                  -1  1    590336  ultralytics.nn.modules.conv.Conv             [256, 256, 3, 2]              \n",
      "  4                  -1  1    444928  ultralytics.nn.modules.block.C3k2            [256, 512, 1, True, 0.25]     \n",
      "  5                  -1  1   2360320  ultralytics.nn.modules.conv.Conv             [512, 512, 3, 2]              \n",
      "  6                  -1  1   1380352  ultralytics.nn.modules.block.C3k2            [512, 512, 1, True]           \n",
      "  7                  -1  1   2360320  ultralytics.nn.modules.conv.Conv             [512, 512, 3, 2]              \n",
      "  8                  -1  1   1380352  ultralytics.nn.modules.block.C3k2            [512, 512, 1, True]           \n",
      "  9                  -1  1    656896  ultralytics.nn.modules.block.SPPF            [512, 512, 5]                 \n",
      " 10                  -1  1    990976  ultralytics.nn.modules.block.C2PSA           [512, 512, 1]                 \n",
      " 11                  -1  1         0  torch.nn.modules.upsampling.Upsample         [None, 2, 'nearest']          \n",
      " 12             [-1, 6]  1         0  ultralytics.nn.modules.conv.Concat           [1]                           \n",
      " 13                  -1  1   1642496  ultralytics.nn.modules.block.C3k2            [1024, 512, 1, True]          \n",
      " 14                  -1  1         0  torch.nn.modules.upsampling.Upsample         [None, 2, 'nearest']          \n",
      " 15             [-1, 4]  1         0  ultralytics.nn.modules.conv.Concat           [1]                           \n",
      " 16                  -1  1    542720  ultralytics.nn.modules.block.C3k2            [1024, 256, 1, True]          \n",
      " 17                  -1  1    590336  ultralytics.nn.modules.conv.Conv             [256, 256, 3, 2]              \n",
      " 18            [-1, 13]  1         0  ultralytics.nn.modules.conv.Concat           [1]                           \n",
      " 19                  -1  1   1511424  ultralytics.nn.modules.block.C3k2            [768, 512, 1, True]           \n",
      " 20                  -1  1   2360320  ultralytics.nn.modules.conv.Conv             [512, 512, 3, 2]              \n",
      " 21            [-1, 10]  1         0  ultralytics.nn.modules.conv.Concat           [1]                           \n",
      " 22                  -1  1   1642496  ultralytics.nn.modules.block.C3k2            [1024, 512, 1, True]          \n",
      " 23        [16, 19, 22]  1   1411795  ultralytics.nn.modules.head.Detect           [1, [256, 512, 512]]          \n",
      "YOLO11m summary: 409 layers, 20,053,779 parameters, 20,053,763 gradients, 68.2 GFLOPs\n",
      "\n",
      "Transferred 643/649 items from pretrained weights\n",
      "Freezing layer 'model.23.dfl.conv.weight'\n",
      "\u001b[34m\u001b[1mAMP: \u001b[0mrunning Automatic Mixed Precision (AMP) checks...\n",
      "\u001b[34m\u001b[1mAMP: \u001b[0mchecks passed ✅\n"
     ]
    },
    {
     "name": "stderr",
     "output_type": "stream",
     "text": [
      "\u001b[34m\u001b[1mtrain: \u001b[0mScanning /home/gerdson/projetos/FIAP-Hackathon-Grupo2/datasets/cortantes/train/labels.cache... 19333 images, 232 backgrounds, 0 corrupt: 100%|██████████| 19333/19333 [00:00<?, ?it/s]"
     ]
    },
    {
     "name": "stdout",
     "output_type": "stream",
     "text": [
      "WARNING ⚠️ Box and segment counts should be equal, but got len(segments) = 3, len(boxes) = 27833. To resolve this only boxes will be used and all segments will be removed. To avoid this please supply either a detect or segment dataset, not a detect-segment mixed dataset.\n"
     ]
    },
    {
     "name": "stderr",
     "output_type": "stream",
     "text": [
      "\n",
      "\u001b[34m\u001b[1mval: \u001b[0mScanning /home/gerdson/projetos/FIAP-Hackathon-Grupo2/datasets/cortantes/valid/labels.cache... 2597 images, 65 backgrounds, 0 corrupt: 100%|██████████| 2597/2597 [00:00<?, ?it/s]\n"
     ]
    },
    {
     "name": "stdout",
     "output_type": "stream",
     "text": [
      "Plotting labels to /home/gerdson/projetos/FIAP-Hackathon-Grupo2/runs/detect/train8/labels.jpg... \n",
      "\u001b[34m\u001b[1moptimizer:\u001b[0m AdamW(lr=0.001, momentum=0.937) with parameter groups 106 weight(decay=0.0), 113 weight(decay=0.0005), 112 bias(decay=0.0)\n",
      "Image sizes 640 train, 640 val\n",
      "Using 8 dataloader workers\n",
      "Logging results to \u001b[1m/home/gerdson/projetos/FIAP-Hackathon-Grupo2/runs/detect/train8\u001b[0m\n",
      "Starting training for 30 epochs...\n",
      "\n",
      "      Epoch    GPU_mem   box_loss   cls_loss   dfl_loss  Instances       Size\n"
     ]
    },
    {
     "name": "stderr",
     "output_type": "stream",
     "text": [
      "       1/30      16.6G      1.456      1.819      1.566         15        640: 100%|██████████| 605/605 [02:35<00:00,  3.89it/s]\n",
      "                 Class     Images  Instances      Box(P          R      mAP50  mAP50-95): 100%|██████████| 41/41 [00:10<00:00,  4.09it/s]\n"
     ]
    },
    {
     "name": "stdout",
     "output_type": "stream",
     "text": [
      "                   all       2597       2932       0.36      0.261      0.239      0.103\n",
      "\n",
      "      Epoch    GPU_mem   box_loss   cls_loss   dfl_loss  Instances       Size\n"
     ]
    },
    {
     "name": "stderr",
     "output_type": "stream",
     "text": [
      "       2/30      16.8G      1.454      1.821      1.606         10        640: 100%|██████████| 605/605 [02:31<00:00,  4.00it/s]\n",
      "                 Class     Images  Instances      Box(P          R      mAP50  mAP50-95): 100%|██████████| 41/41 [00:09<00:00,  4.18it/s]\n"
     ]
    },
    {
     "name": "stdout",
     "output_type": "stream",
     "text": [
      "                   all       2597       2932       0.57      0.456      0.485      0.235\n",
      "\n",
      "      Epoch    GPU_mem   box_loss   cls_loss   dfl_loss  Instances       Size\n"
     ]
    },
    {
     "name": "stderr",
     "output_type": "stream",
     "text": [
      "       3/30      16.8G      1.364      1.644      1.527         11        640: 100%|██████████| 605/605 [02:29<00:00,  4.05it/s]\n",
      "                 Class     Images  Instances      Box(P          R      mAP50  mAP50-95): 100%|██████████| 41/41 [00:09<00:00,  4.21it/s]\n"
     ]
    },
    {
     "name": "stdout",
     "output_type": "stream",
     "text": [
      "                   all       2597       2932      0.647      0.597      0.616      0.317\n",
      "\n",
      "      Epoch    GPU_mem   box_loss   cls_loss   dfl_loss  Instances       Size\n"
     ]
    },
    {
     "name": "stderr",
     "output_type": "stream",
     "text": [
      "       4/30      16.9G      1.317      1.536      1.492         16        640: 100%|██████████| 605/605 [02:29<00:00,  4.05it/s]\n",
      "                 Class     Images  Instances      Box(P          R      mAP50  mAP50-95): 100%|██████████| 41/41 [00:09<00:00,  4.18it/s]"
     ]
    },
    {
     "name": "stdout",
     "output_type": "stream",
     "text": [
      "                   all       2597       2932      0.757       0.65      0.741      0.406\n"
     ]
    },
    {
     "name": "stderr",
     "output_type": "stream",
     "text": [
      "\n"
     ]
    },
    {
     "name": "stdout",
     "output_type": "stream",
     "text": [
      "\n",
      "      Epoch    GPU_mem   box_loss   cls_loss   dfl_loss  Instances       Size\n"
     ]
    },
    {
     "name": "stderr",
     "output_type": "stream",
     "text": [
      "       5/30      16.8G      1.245       1.41      1.439         14        640: 100%|██████████| 605/605 [02:28<00:00,  4.06it/s]\n",
      "                 Class     Images  Instances      Box(P          R      mAP50  mAP50-95): 100%|██████████| 41/41 [00:09<00:00,  4.28it/s]"
     ]
    },
    {
     "name": "stdout",
     "output_type": "stream",
     "text": [
      "                   all       2597       2932      0.773      0.703      0.771      0.428\n"
     ]
    },
    {
     "name": "stderr",
     "output_type": "stream",
     "text": [
      "\n"
     ]
    },
    {
     "name": "stdout",
     "output_type": "stream",
     "text": [
      "\n",
      "      Epoch    GPU_mem   box_loss   cls_loss   dfl_loss  Instances       Size\n"
     ]
    },
    {
     "name": "stderr",
     "output_type": "stream",
     "text": [
      "       6/30      16.9G      1.206      1.317      1.406         18        640: 100%|██████████| 605/605 [02:29<00:00,  4.05it/s]\n",
      "                 Class     Images  Instances      Box(P          R      mAP50  mAP50-95): 100%|██████████| 41/41 [00:09<00:00,  4.26it/s]"
     ]
    },
    {
     "name": "stdout",
     "output_type": "stream",
     "text": [
      "                   all       2597       2932      0.765      0.711       0.77       0.43\n"
     ]
    },
    {
     "name": "stderr",
     "output_type": "stream",
     "text": [
      "\n"
     ]
    },
    {
     "name": "stdout",
     "output_type": "stream",
     "text": [
      "\n",
      "      Epoch    GPU_mem   box_loss   cls_loss   dfl_loss  Instances       Size\n"
     ]
    },
    {
     "name": "stderr",
     "output_type": "stream",
     "text": [
      "       7/30      16.8G      1.175      1.258      1.378         14        640: 100%|██████████| 605/605 [02:29<00:00,  4.06it/s]\n",
      "                 Class     Images  Instances      Box(P          R      mAP50  mAP50-95): 100%|██████████| 41/41 [00:09<00:00,  4.15it/s]"
     ]
    },
    {
     "name": "stdout",
     "output_type": "stream",
     "text": [
      "                   all       2597       2932      0.844      0.789      0.871      0.534\n"
     ]
    },
    {
     "name": "stderr",
     "output_type": "stream",
     "text": [
      "\n"
     ]
    },
    {
     "name": "stdout",
     "output_type": "stream",
     "text": [
      "\n",
      "      Epoch    GPU_mem   box_loss   cls_loss   dfl_loss  Instances       Size\n"
     ]
    },
    {
     "name": "stderr",
     "output_type": "stream",
     "text": [
      "       8/30      16.8G      1.145      1.204       1.36          9        640: 100%|██████████| 605/605 [02:29<00:00,  4.06it/s]\n",
      "                 Class     Images  Instances      Box(P          R      mAP50  mAP50-95): 100%|██████████| 41/41 [00:09<00:00,  4.28it/s]"
     ]
    },
    {
     "name": "stdout",
     "output_type": "stream",
     "text": [
      "                   all       2597       2932      0.843      0.807      0.878      0.548\n"
     ]
    },
    {
     "name": "stderr",
     "output_type": "stream",
     "text": [
      "\n"
     ]
    },
    {
     "name": "stdout",
     "output_type": "stream",
     "text": [
      "\n",
      "      Epoch    GPU_mem   box_loss   cls_loss   dfl_loss  Instances       Size\n"
     ]
    },
    {
     "name": "stderr",
     "output_type": "stream",
     "text": [
      "       9/30      16.7G      1.121      1.155      1.342          9        640: 100%|██████████| 605/605 [02:29<00:00,  4.05it/s]\n",
      "                 Class     Images  Instances      Box(P          R      mAP50  mAP50-95): 100%|██████████| 41/41 [00:09<00:00,  4.28it/s]"
     ]
    },
    {
     "name": "stdout",
     "output_type": "stream",
     "text": [
      "                   all       2597       2932      0.856      0.849      0.892      0.567\n"
     ]
    },
    {
     "name": "stderr",
     "output_type": "stream",
     "text": [
      "\n"
     ]
    },
    {
     "name": "stdout",
     "output_type": "stream",
     "text": [
      "\n",
      "      Epoch    GPU_mem   box_loss   cls_loss   dfl_loss  Instances       Size\n"
     ]
    },
    {
     "name": "stderr",
     "output_type": "stream",
     "text": [
      "      10/30      16.8G      1.099      1.108      1.323         12        640: 100%|██████████| 605/605 [02:29<00:00,  4.06it/s]\n",
      "                 Class     Images  Instances      Box(P          R      mAP50  mAP50-95): 100%|██████████| 41/41 [00:09<00:00,  4.34it/s]"
     ]
    },
    {
     "name": "stdout",
     "output_type": "stream",
     "text": [
      "                   all       2597       2932      0.856      0.833      0.884      0.567\n"
     ]
    },
    {
     "name": "stderr",
     "output_type": "stream",
     "text": [
      "\n"
     ]
    },
    {
     "name": "stdout",
     "output_type": "stream",
     "text": [
      "\n",
      "      Epoch    GPU_mem   box_loss   cls_loss   dfl_loss  Instances       Size\n"
     ]
    },
    {
     "name": "stderr",
     "output_type": "stream",
     "text": [
      "      11/30      16.7G      1.084      1.088       1.31         14        640: 100%|██████████| 605/605 [02:28<00:00,  4.07it/s]\n",
      "                 Class     Images  Instances      Box(P          R      mAP50  mAP50-95): 100%|██████████| 41/41 [00:09<00:00,  4.23it/s]"
     ]
    },
    {
     "name": "stdout",
     "output_type": "stream",
     "text": [
      "                   all       2597       2932       0.88      0.855      0.905      0.583\n"
     ]
    },
    {
     "name": "stderr",
     "output_type": "stream",
     "text": [
      "\n"
     ]
    },
    {
     "name": "stdout",
     "output_type": "stream",
     "text": [
      "\n",
      "      Epoch    GPU_mem   box_loss   cls_loss   dfl_loss  Instances       Size\n"
     ]
    },
    {
     "name": "stderr",
     "output_type": "stream",
     "text": [
      "      12/30      16.8G      1.062      1.037      1.293         16        640: 100%|██████████| 605/605 [02:29<00:00,  4.06it/s]\n",
      "                 Class     Images  Instances      Box(P          R      mAP50  mAP50-95): 100%|██████████| 41/41 [00:09<00:00,  4.34it/s]"
     ]
    },
    {
     "name": "stdout",
     "output_type": "stream",
     "text": [
      "                   all       2597       2932      0.897      0.848       0.92      0.609\n"
     ]
    },
    {
     "name": "stderr",
     "output_type": "stream",
     "text": [
      "\n"
     ]
    },
    {
     "name": "stdout",
     "output_type": "stream",
     "text": [
      "\n",
      "      Epoch    GPU_mem   box_loss   cls_loss   dfl_loss  Instances       Size\n"
     ]
    },
    {
     "name": "stderr",
     "output_type": "stream",
     "text": [
      "      13/30      16.8G       1.04      1.014      1.285         10        640: 100%|██████████| 605/605 [02:29<00:00,  4.05it/s]\n",
      "                 Class     Images  Instances      Box(P          R      mAP50  mAP50-95): 100%|██████████| 41/41 [00:09<00:00,  4.23it/s]"
     ]
    },
    {
     "name": "stdout",
     "output_type": "stream",
     "text": [
      "                   all       2597       2932      0.894      0.885       0.93      0.627\n"
     ]
    },
    {
     "name": "stderr",
     "output_type": "stream",
     "text": [
      "\n"
     ]
    },
    {
     "name": "stdout",
     "output_type": "stream",
     "text": [
      "\n",
      "      Epoch    GPU_mem   box_loss   cls_loss   dfl_loss  Instances       Size\n"
     ]
    },
    {
     "name": "stderr",
     "output_type": "stream",
     "text": [
      "      14/30      16.8G      1.032     0.9907      1.276         12        640: 100%|██████████| 605/605 [02:29<00:00,  4.05it/s]\n",
      "                 Class     Images  Instances      Box(P          R      mAP50  mAP50-95): 100%|██████████| 41/41 [00:09<00:00,  4.31it/s]"
     ]
    },
    {
     "name": "stdout",
     "output_type": "stream",
     "text": [
      "                   all       2597       2932      0.892      0.891      0.934      0.637\n"
     ]
    },
    {
     "name": "stderr",
     "output_type": "stream",
     "text": [
      "\n"
     ]
    },
    {
     "name": "stdout",
     "output_type": "stream",
     "text": [
      "\n",
      "      Epoch    GPU_mem   box_loss   cls_loss   dfl_loss  Instances       Size\n"
     ]
    },
    {
     "name": "stderr",
     "output_type": "stream",
     "text": [
      "      15/30      16.8G      1.016      0.964      1.269         13        640: 100%|██████████| 605/605 [02:29<00:00,  4.06it/s]\n",
      "                 Class     Images  Instances      Box(P          R      mAP50  mAP50-95): 100%|██████████| 41/41 [00:09<00:00,  4.34it/s]"
     ]
    },
    {
     "name": "stdout",
     "output_type": "stream",
     "text": [
      "                   all       2597       2932      0.905      0.911      0.943      0.643\n"
     ]
    },
    {
     "name": "stderr",
     "output_type": "stream",
     "text": [
      "\n"
     ]
    },
    {
     "name": "stdout",
     "output_type": "stream",
     "text": [
      "\n",
      "      Epoch    GPU_mem   box_loss   cls_loss   dfl_loss  Instances       Size\n"
     ]
    },
    {
     "name": "stderr",
     "output_type": "stream",
     "text": [
      "      16/30      16.9G     0.9981     0.9411      1.251          6        640: 100%|██████████| 605/605 [02:29<00:00,  4.05it/s]\n",
      "                 Class     Images  Instances      Box(P          R      mAP50  mAP50-95): 100%|██████████| 41/41 [00:09<00:00,  4.29it/s]"
     ]
    },
    {
     "name": "stdout",
     "output_type": "stream",
     "text": [
      "                   all       2597       2932      0.922      0.904      0.948      0.651\n"
     ]
    },
    {
     "name": "stderr",
     "output_type": "stream",
     "text": [
      "\n"
     ]
    },
    {
     "name": "stdout",
     "output_type": "stream",
     "text": [
      "\n",
      "      Epoch    GPU_mem   box_loss   cls_loss   dfl_loss  Instances       Size\n"
     ]
    },
    {
     "name": "stderr",
     "output_type": "stream",
     "text": [
      "      17/30      16.8G     0.9886     0.9216      1.244         18        640: 100%|██████████| 605/605 [02:29<00:00,  4.06it/s]\n",
      "                 Class     Images  Instances      Box(P          R      mAP50  mAP50-95): 100%|██████████| 41/41 [00:09<00:00,  4.34it/s]"
     ]
    },
    {
     "name": "stdout",
     "output_type": "stream",
     "text": [
      "                   all       2597       2932      0.933      0.909      0.948      0.662\n"
     ]
    },
    {
     "name": "stderr",
     "output_type": "stream",
     "text": [
      "\n"
     ]
    },
    {
     "name": "stdout",
     "output_type": "stream",
     "text": [
      "\n",
      "      Epoch    GPU_mem   box_loss   cls_loss   dfl_loss  Instances       Size\n"
     ]
    },
    {
     "name": "stderr",
     "output_type": "stream",
     "text": [
      "      18/30      16.9G     0.9651     0.8802      1.231         11        640: 100%|██████████| 605/605 [02:29<00:00,  4.05it/s]\n",
      "                 Class     Images  Instances      Box(P          R      mAP50  mAP50-95): 100%|██████████| 41/41 [00:09<00:00,  4.25it/s]"
     ]
    },
    {
     "name": "stdout",
     "output_type": "stream",
     "text": [
      "                   all       2597       2932       0.92      0.924      0.952      0.668\n"
     ]
    },
    {
     "name": "stderr",
     "output_type": "stream",
     "text": [
      "\n"
     ]
    },
    {
     "name": "stdout",
     "output_type": "stream",
     "text": [
      "\n",
      "      Epoch    GPU_mem   box_loss   cls_loss   dfl_loss  Instances       Size\n"
     ]
    },
    {
     "name": "stderr",
     "output_type": "stream",
     "text": [
      "      19/30      16.8G     0.9653     0.8738      1.225         18        640: 100%|██████████| 605/605 [02:29<00:00,  4.06it/s]\n",
      "                 Class     Images  Instances      Box(P          R      mAP50  mAP50-95): 100%|██████████| 41/41 [00:09<00:00,  4.34it/s]"
     ]
    },
    {
     "name": "stdout",
     "output_type": "stream",
     "text": [
      "                   all       2597       2932      0.932       0.92      0.957       0.68\n"
     ]
    },
    {
     "name": "stderr",
     "output_type": "stream",
     "text": [
      "\n"
     ]
    },
    {
     "name": "stdout",
     "output_type": "stream",
     "text": [
      "\n",
      "      Epoch    GPU_mem   box_loss   cls_loss   dfl_loss  Instances       Size\n"
     ]
    },
    {
     "name": "stderr",
     "output_type": "stream",
     "text": [
      "      20/30      16.9G     0.9487     0.8618      1.216         12        640: 100%|██████████| 605/605 [02:29<00:00,  4.05it/s]\n",
      "                 Class     Images  Instances      Box(P          R      mAP50  mAP50-95): 100%|██████████| 41/41 [00:09<00:00,  4.34it/s]"
     ]
    },
    {
     "name": "stdout",
     "output_type": "stream",
     "text": [
      "                   all       2597       2932      0.934      0.924      0.959      0.683\n"
     ]
    },
    {
     "name": "stderr",
     "output_type": "stream",
     "text": [
      "\n"
     ]
    },
    {
     "name": "stdout",
     "output_type": "stream",
     "text": [
      "Closing dataloader mosaic\n",
      "\n",
      "      Epoch    GPU_mem   box_loss   cls_loss   dfl_loss  Instances       Size\n"
     ]
    },
    {
     "name": "stderr",
     "output_type": "stream",
     "text": [
      "      21/30      16.7G     0.9305     0.7121      1.206          7        640: 100%|██████████| 605/605 [02:28<00:00,  4.07it/s]\n",
      "                 Class     Images  Instances      Box(P          R      mAP50  mAP50-95): 100%|██████████| 41/41 [00:09<00:00,  4.35it/s]"
     ]
    },
    {
     "name": "stdout",
     "output_type": "stream",
     "text": [
      "                   all       2597       2932      0.937      0.931      0.962      0.696\n"
     ]
    },
    {
     "name": "stderr",
     "output_type": "stream",
     "text": [
      "\n"
     ]
    },
    {
     "name": "stdout",
     "output_type": "stream",
     "text": [
      "\n",
      "      Epoch    GPU_mem   box_loss   cls_loss   dfl_loss  Instances       Size\n"
     ]
    },
    {
     "name": "stderr",
     "output_type": "stream",
     "text": [
      "      22/30      16.8G     0.9116     0.6769      1.194          6        640: 100%|██████████| 605/605 [02:28<00:00,  4.07it/s]\n",
      "                 Class     Images  Instances      Box(P          R      mAP50  mAP50-95): 100%|██████████| 41/41 [00:09<00:00,  4.36it/s]"
     ]
    },
    {
     "name": "stdout",
     "output_type": "stream",
     "text": [
      "                   all       2597       2932      0.947      0.935      0.964      0.702\n"
     ]
    },
    {
     "name": "stderr",
     "output_type": "stream",
     "text": [
      "\n"
     ]
    },
    {
     "name": "stdout",
     "output_type": "stream",
     "text": [
      "\n",
      "      Epoch    GPU_mem   box_loss   cls_loss   dfl_loss  Instances       Size\n"
     ]
    },
    {
     "name": "stderr",
     "output_type": "stream",
     "text": [
      "      23/30      16.7G     0.8901     0.6525      1.176          6        640: 100%|██████████| 605/605 [02:28<00:00,  4.09it/s]\n",
      "                 Class     Images  Instances      Box(P          R      mAP50  mAP50-95): 100%|██████████| 41/41 [00:09<00:00,  4.41it/s]"
     ]
    },
    {
     "name": "stdout",
     "output_type": "stream",
     "text": [
      "                   all       2597       2932      0.948      0.936      0.968      0.712\n"
     ]
    },
    {
     "name": "stderr",
     "output_type": "stream",
     "text": [
      "\n"
     ]
    },
    {
     "name": "stdout",
     "output_type": "stream",
     "text": [
      "\n",
      "      Epoch    GPU_mem   box_loss   cls_loss   dfl_loss  Instances       Size\n"
     ]
    },
    {
     "name": "stderr",
     "output_type": "stream",
     "text": [
      "      24/30      16.8G     0.8689     0.6304      1.164          5        640: 100%|██████████| 605/605 [02:27<00:00,  4.11it/s]\n",
      "                 Class     Images  Instances      Box(P          R      mAP50  mAP50-95): 100%|██████████| 41/41 [00:09<00:00,  4.36it/s]"
     ]
    },
    {
     "name": "stdout",
     "output_type": "stream",
     "text": [
      "                   all       2597       2932      0.947      0.942      0.969      0.715\n"
     ]
    },
    {
     "name": "stderr",
     "output_type": "stream",
     "text": [
      "\n"
     ]
    },
    {
     "name": "stdout",
     "output_type": "stream",
     "text": [
      "\n",
      "      Epoch    GPU_mem   box_loss   cls_loss   dfl_loss  Instances       Size\n"
     ]
    },
    {
     "name": "stderr",
     "output_type": "stream",
     "text": [
      "      25/30      16.7G     0.8498     0.6107       1.15          5        640: 100%|██████████| 605/605 [02:28<00:00,  4.07it/s]\n",
      "                 Class     Images  Instances      Box(P          R      mAP50  mAP50-95): 100%|██████████| 41/41 [00:09<00:00,  4.33it/s]"
     ]
    },
    {
     "name": "stdout",
     "output_type": "stream",
     "text": [
      "                   all       2597       2932      0.948      0.945      0.969      0.717\n"
     ]
    },
    {
     "name": "stderr",
     "output_type": "stream",
     "text": [
      "\n"
     ]
    },
    {
     "name": "stdout",
     "output_type": "stream",
     "text": [
      "\n",
      "      Epoch    GPU_mem   box_loss   cls_loss   dfl_loss  Instances       Size\n"
     ]
    },
    {
     "name": "stderr",
     "output_type": "stream",
     "text": [
      "      26/30      16.8G     0.8378     0.5913      1.139          6        640: 100%|██████████| 605/605 [02:27<00:00,  4.09it/s]\n",
      "                 Class     Images  Instances      Box(P          R      mAP50  mAP50-95): 100%|██████████| 41/41 [00:09<00:00,  4.41it/s]"
     ]
    },
    {
     "name": "stdout",
     "output_type": "stream",
     "text": [
      "                   all       2597       2932      0.954      0.942       0.97      0.726\n"
     ]
    },
    {
     "name": "stderr",
     "output_type": "stream",
     "text": [
      "\n"
     ]
    },
    {
     "name": "stdout",
     "output_type": "stream",
     "text": [
      "\n",
      "      Epoch    GPU_mem   box_loss   cls_loss   dfl_loss  Instances       Size\n"
     ]
    },
    {
     "name": "stderr",
     "output_type": "stream",
     "text": [
      "      27/30      16.7G      0.818     0.5692      1.132          5        640: 100%|██████████| 605/605 [02:27<00:00,  4.11it/s]\n",
      "                 Class     Images  Instances      Box(P          R      mAP50  mAP50-95): 100%|██████████| 41/41 [00:09<00:00,  4.36it/s]"
     ]
    },
    {
     "name": "stdout",
     "output_type": "stream",
     "text": [
      "                   all       2597       2932      0.957      0.942      0.971      0.731\n"
     ]
    },
    {
     "name": "stderr",
     "output_type": "stream",
     "text": [
      "\n"
     ]
    },
    {
     "name": "stdout",
     "output_type": "stream",
     "text": [
      "\n",
      "      Epoch    GPU_mem   box_loss   cls_loss   dfl_loss  Instances       Size\n"
     ]
    },
    {
     "name": "stderr",
     "output_type": "stream",
     "text": [
      "      28/30      16.8G     0.7993     0.5584      1.119          5        640: 100%|██████████| 605/605 [02:27<00:00,  4.10it/s]\n",
      "                 Class     Images  Instances      Box(P          R      mAP50  mAP50-95): 100%|██████████| 41/41 [00:09<00:00,  4.34it/s]"
     ]
    },
    {
     "name": "stdout",
     "output_type": "stream",
     "text": [
      "                   all       2597       2932      0.954      0.944       0.97      0.734\n"
     ]
    },
    {
     "name": "stderr",
     "output_type": "stream",
     "text": [
      "\n"
     ]
    },
    {
     "name": "stdout",
     "output_type": "stream",
     "text": [
      "\n",
      "      Epoch    GPU_mem   box_loss   cls_loss   dfl_loss  Instances       Size\n"
     ]
    },
    {
     "name": "stderr",
     "output_type": "stream",
     "text": [
      "      29/30      16.7G     0.7867     0.5382      1.107          6        640: 100%|██████████| 605/605 [02:28<00:00,  4.08it/s]\n",
      "                 Class     Images  Instances      Box(P          R      mAP50  mAP50-95): 100%|██████████| 41/41 [00:09<00:00,  4.40it/s]"
     ]
    },
    {
     "name": "stdout",
     "output_type": "stream",
     "text": [
      "                   all       2597       2932      0.955       0.95      0.974      0.738\n"
     ]
    },
    {
     "name": "stderr",
     "output_type": "stream",
     "text": [
      "\n"
     ]
    },
    {
     "name": "stdout",
     "output_type": "stream",
     "text": [
      "\n",
      "      Epoch    GPU_mem   box_loss   cls_loss   dfl_loss  Instances       Size\n"
     ]
    },
    {
     "name": "stderr",
     "output_type": "stream",
     "text": [
      "      30/30      16.8G      0.773     0.5341      1.103         10        640: 100%|██████████| 605/605 [02:28<00:00,  4.07it/s]\n",
      "                 Class     Images  Instances      Box(P          R      mAP50  mAP50-95): 100%|██████████| 41/41 [00:09<00:00,  4.41it/s]"
     ]
    },
    {
     "name": "stdout",
     "output_type": "stream",
     "text": [
      "                   all       2597       2932      0.962      0.945      0.974       0.74\n"
     ]
    },
    {
     "name": "stderr",
     "output_type": "stream",
     "text": [
      "\n"
     ]
    },
    {
     "name": "stdout",
     "output_type": "stream",
     "text": [
      "\n",
      "30 epochs completed in 1.334 hours.\n",
      "Optimizer stripped from /home/gerdson/projetos/FIAP-Hackathon-Grupo2/runs/detect/train8/weights/last.pt, 40.5MB\n",
      "Optimizer stripped from /home/gerdson/projetos/FIAP-Hackathon-Grupo2/runs/detect/train8/weights/best.pt, 40.5MB\n",
      "\n",
      "Validating /home/gerdson/projetos/FIAP-Hackathon-Grupo2/runs/detect/train8/weights/best.pt...\n",
      "Ultralytics 8.3.70 🚀 Python-3.12.8 torch-2.6.0+cu124 CUDA:0 (NVIDIA GeForce RTX 4090, 24069MiB)\n",
      "YOLO11m summary (fused): 303 layers, 20,030,803 parameters, 0 gradients, 67.6 GFLOPs\n"
     ]
    },
    {
     "name": "stderr",
     "output_type": "stream",
     "text": [
      "                 Class     Images  Instances      Box(P          R      mAP50  mAP50-95): 100%|██████████| 41/41 [00:10<00:00,  4.02it/s]\n"
     ]
    },
    {
     "name": "stdout",
     "output_type": "stream",
     "text": [
      "                   all       2597       2932      0.963      0.945      0.974      0.739\n",
      "Speed: 0.1ms preprocess, 1.8ms inference, 0.0ms loss, 0.5ms postprocess per image\n",
      "Results saved to \u001b[1m/home/gerdson/projetos/FIAP-Hackathon-Grupo2/runs/detect/train8\u001b[0m\n"
     ]
    },
    {
     "data": {
      "text/plain": [
       "ultralytics.utils.metrics.DetMetrics object with attributes:\n",
       "\n",
       "ap_class_index: array([0])\n",
       "box: ultralytics.utils.metrics.Metric object\n",
       "confusion_matrix: <ultralytics.utils.metrics.ConfusionMatrix object at 0x7301dc1d0ef0>\n",
       "curves: ['Precision-Recall(B)', 'F1-Confidence(B)', 'Precision-Confidence(B)', 'Recall-Confidence(B)']\n",
       "curves_results: [[array([          0,    0.001001,    0.002002,    0.003003,    0.004004,    0.005005,    0.006006,    0.007007,    0.008008,    0.009009,     0.01001,    0.011011,    0.012012,    0.013013,    0.014014,    0.015015,    0.016016,    0.017017,    0.018018,    0.019019,     0.02002,    0.021021,    0.022022,    0.023023,\n",
       "          0.024024,    0.025025,    0.026026,    0.027027,    0.028028,    0.029029,     0.03003,    0.031031,    0.032032,    0.033033,    0.034034,    0.035035,    0.036036,    0.037037,    0.038038,    0.039039,     0.04004,    0.041041,    0.042042,    0.043043,    0.044044,    0.045045,    0.046046,    0.047047,\n",
       "          0.048048,    0.049049,     0.05005,    0.051051,    0.052052,    0.053053,    0.054054,    0.055055,    0.056056,    0.057057,    0.058058,    0.059059,     0.06006,    0.061061,    0.062062,    0.063063,    0.064064,    0.065065,    0.066066,    0.067067,    0.068068,    0.069069,     0.07007,    0.071071,\n",
       "          0.072072,    0.073073,    0.074074,    0.075075,    0.076076,    0.077077,    0.078078,    0.079079,     0.08008,    0.081081,    0.082082,    0.083083,    0.084084,    0.085085,    0.086086,    0.087087,    0.088088,    0.089089,     0.09009,    0.091091,    0.092092,    0.093093,    0.094094,    0.095095,\n",
       "          0.096096,    0.097097,    0.098098,    0.099099,      0.1001,      0.1011,      0.1021,      0.1031,      0.1041,     0.10511,     0.10611,     0.10711,     0.10811,     0.10911,     0.11011,     0.11111,     0.11211,     0.11311,     0.11411,     0.11512,     0.11612,     0.11712,     0.11812,     0.11912,\n",
       "           0.12012,     0.12112,     0.12212,     0.12312,     0.12412,     0.12513,     0.12613,     0.12713,     0.12813,     0.12913,     0.13013,     0.13113,     0.13213,     0.13313,     0.13413,     0.13514,     0.13614,     0.13714,     0.13814,     0.13914,     0.14014,     0.14114,     0.14214,     0.14314,\n",
       "           0.14414,     0.14515,     0.14615,     0.14715,     0.14815,     0.14915,     0.15015,     0.15115,     0.15215,     0.15315,     0.15415,     0.15516,     0.15616,     0.15716,     0.15816,     0.15916,     0.16016,     0.16116,     0.16216,     0.16316,     0.16416,     0.16517,     0.16617,     0.16717,\n",
       "           0.16817,     0.16917,     0.17017,     0.17117,     0.17217,     0.17317,     0.17417,     0.17518,     0.17618,     0.17718,     0.17818,     0.17918,     0.18018,     0.18118,     0.18218,     0.18318,     0.18418,     0.18519,     0.18619,     0.18719,     0.18819,     0.18919,     0.19019,     0.19119,\n",
       "           0.19219,     0.19319,     0.19419,      0.1952,      0.1962,      0.1972,      0.1982,      0.1992,      0.2002,      0.2012,      0.2022,      0.2032,      0.2042,     0.20521,     0.20621,     0.20721,     0.20821,     0.20921,     0.21021,     0.21121,     0.21221,     0.21321,     0.21421,     0.21522,\n",
       "           0.21622,     0.21722,     0.21822,     0.21922,     0.22022,     0.22122,     0.22222,     0.22322,     0.22422,     0.22523,     0.22623,     0.22723,     0.22823,     0.22923,     0.23023,     0.23123,     0.23223,     0.23323,     0.23423,     0.23524,     0.23624,     0.23724,     0.23824,     0.23924,\n",
       "           0.24024,     0.24124,     0.24224,     0.24324,     0.24424,     0.24525,     0.24625,     0.24725,     0.24825,     0.24925,     0.25025,     0.25125,     0.25225,     0.25325,     0.25425,     0.25526,     0.25626,     0.25726,     0.25826,     0.25926,     0.26026,     0.26126,     0.26226,     0.26326,\n",
       "           0.26426,     0.26527,     0.26627,     0.26727,     0.26827,     0.26927,     0.27027,     0.27127,     0.27227,     0.27327,     0.27427,     0.27528,     0.27628,     0.27728,     0.27828,     0.27928,     0.28028,     0.28128,     0.28228,     0.28328,     0.28428,     0.28529,     0.28629,     0.28729,\n",
       "           0.28829,     0.28929,     0.29029,     0.29129,     0.29229,     0.29329,     0.29429,      0.2953,      0.2963,      0.2973,      0.2983,      0.2993,      0.3003,      0.3013,      0.3023,      0.3033,      0.3043,     0.30531,     0.30631,     0.30731,     0.30831,     0.30931,     0.31031,     0.31131,\n",
       "           0.31231,     0.31331,     0.31431,     0.31532,     0.31632,     0.31732,     0.31832,     0.31932,     0.32032,     0.32132,     0.32232,     0.32332,     0.32432,     0.32533,     0.32633,     0.32733,     0.32833,     0.32933,     0.33033,     0.33133,     0.33233,     0.33333,     0.33433,     0.33534,\n",
       "           0.33634,     0.33734,     0.33834,     0.33934,     0.34034,     0.34134,     0.34234,     0.34334,     0.34434,     0.34535,     0.34635,     0.34735,     0.34835,     0.34935,     0.35035,     0.35135,     0.35235,     0.35335,     0.35435,     0.35536,     0.35636,     0.35736,     0.35836,     0.35936,\n",
       "           0.36036,     0.36136,     0.36236,     0.36336,     0.36436,     0.36537,     0.36637,     0.36737,     0.36837,     0.36937,     0.37037,     0.37137,     0.37237,     0.37337,     0.37437,     0.37538,     0.37638,     0.37738,     0.37838,     0.37938,     0.38038,     0.38138,     0.38238,     0.38338,\n",
       "           0.38438,     0.38539,     0.38639,     0.38739,     0.38839,     0.38939,     0.39039,     0.39139,     0.39239,     0.39339,     0.39439,      0.3954,      0.3964,      0.3974,      0.3984,      0.3994,      0.4004,      0.4014,      0.4024,      0.4034,      0.4044,     0.40541,     0.40641,     0.40741,\n",
       "           0.40841,     0.40941,     0.41041,     0.41141,     0.41241,     0.41341,     0.41441,     0.41542,     0.41642,     0.41742,     0.41842,     0.41942,     0.42042,     0.42142,     0.42242,     0.42342,     0.42442,     0.42543,     0.42643,     0.42743,     0.42843,     0.42943,     0.43043,     0.43143,\n",
       "           0.43243,     0.43343,     0.43443,     0.43544,     0.43644,     0.43744,     0.43844,     0.43944,     0.44044,     0.44144,     0.44244,     0.44344,     0.44444,     0.44545,     0.44645,     0.44745,     0.44845,     0.44945,     0.45045,     0.45145,     0.45245,     0.45345,     0.45445,     0.45546,\n",
       "           0.45646,     0.45746,     0.45846,     0.45946,     0.46046,     0.46146,     0.46246,     0.46346,     0.46446,     0.46547,     0.46647,     0.46747,     0.46847,     0.46947,     0.47047,     0.47147,     0.47247,     0.47347,     0.47447,     0.47548,     0.47648,     0.47748,     0.47848,     0.47948,\n",
       "           0.48048,     0.48148,     0.48248,     0.48348,     0.48448,     0.48549,     0.48649,     0.48749,     0.48849,     0.48949,     0.49049,     0.49149,     0.49249,     0.49349,     0.49449,      0.4955,      0.4965,      0.4975,      0.4985,      0.4995,      0.5005,      0.5015,      0.5025,      0.5035,\n",
       "            0.5045,     0.50551,     0.50651,     0.50751,     0.50851,     0.50951,     0.51051,     0.51151,     0.51251,     0.51351,     0.51451,     0.51552,     0.51652,     0.51752,     0.51852,     0.51952,     0.52052,     0.52152,     0.52252,     0.52352,     0.52452,     0.52553,     0.52653,     0.52753,\n",
       "           0.52853,     0.52953,     0.53053,     0.53153,     0.53253,     0.53353,     0.53453,     0.53554,     0.53654,     0.53754,     0.53854,     0.53954,     0.54054,     0.54154,     0.54254,     0.54354,     0.54454,     0.54555,     0.54655,     0.54755,     0.54855,     0.54955,     0.55055,     0.55155,\n",
       "           0.55255,     0.55355,     0.55455,     0.55556,     0.55656,     0.55756,     0.55856,     0.55956,     0.56056,     0.56156,     0.56256,     0.56356,     0.56456,     0.56557,     0.56657,     0.56757,     0.56857,     0.56957,     0.57057,     0.57157,     0.57257,     0.57357,     0.57457,     0.57558,\n",
       "           0.57658,     0.57758,     0.57858,     0.57958,     0.58058,     0.58158,     0.58258,     0.58358,     0.58458,     0.58559,     0.58659,     0.58759,     0.58859,     0.58959,     0.59059,     0.59159,     0.59259,     0.59359,     0.59459,      0.5956,      0.5966,      0.5976,      0.5986,      0.5996,\n",
       "            0.6006,      0.6016,      0.6026,      0.6036,      0.6046,     0.60561,     0.60661,     0.60761,     0.60861,     0.60961,     0.61061,     0.61161,     0.61261,     0.61361,     0.61461,     0.61562,     0.61662,     0.61762,     0.61862,     0.61962,     0.62062,     0.62162,     0.62262,     0.62362,\n",
       "           0.62462,     0.62563,     0.62663,     0.62763,     0.62863,     0.62963,     0.63063,     0.63163,     0.63263,     0.63363,     0.63463,     0.63564,     0.63664,     0.63764,     0.63864,     0.63964,     0.64064,     0.64164,     0.64264,     0.64364,     0.64464,     0.64565,     0.64665,     0.64765,\n",
       "           0.64865,     0.64965,     0.65065,     0.65165,     0.65265,     0.65365,     0.65465,     0.65566,     0.65666,     0.65766,     0.65866,     0.65966,     0.66066,     0.66166,     0.66266,     0.66366,     0.66466,     0.66567,     0.66667,     0.66767,     0.66867,     0.66967,     0.67067,     0.67167,\n",
       "           0.67267,     0.67367,     0.67467,     0.67568,     0.67668,     0.67768,     0.67868,     0.67968,     0.68068,     0.68168,     0.68268,     0.68368,     0.68468,     0.68569,     0.68669,     0.68769,     0.68869,     0.68969,     0.69069,     0.69169,     0.69269,     0.69369,     0.69469,      0.6957,\n",
       "            0.6967,      0.6977,      0.6987,      0.6997,      0.7007,      0.7017,      0.7027,      0.7037,      0.7047,     0.70571,     0.70671,     0.70771,     0.70871,     0.70971,     0.71071,     0.71171,     0.71271,     0.71371,     0.71471,     0.71572,     0.71672,     0.71772,     0.71872,     0.71972,\n",
       "           0.72072,     0.72172,     0.72272,     0.72372,     0.72472,     0.72573,     0.72673,     0.72773,     0.72873,     0.72973,     0.73073,     0.73173,     0.73273,     0.73373,     0.73473,     0.73574,     0.73674,     0.73774,     0.73874,     0.73974,     0.74074,     0.74174,     0.74274,     0.74374,\n",
       "           0.74474,     0.74575,     0.74675,     0.74775,     0.74875,     0.74975,     0.75075,     0.75175,     0.75275,     0.75375,     0.75475,     0.75576,     0.75676,     0.75776,     0.75876,     0.75976,     0.76076,     0.76176,     0.76276,     0.76376,     0.76476,     0.76577,     0.76677,     0.76777,\n",
       "           0.76877,     0.76977,     0.77077,     0.77177,     0.77277,     0.77377,     0.77477,     0.77578,     0.77678,     0.77778,     0.77878,     0.77978,     0.78078,     0.78178,     0.78278,     0.78378,     0.78478,     0.78579,     0.78679,     0.78779,     0.78879,     0.78979,     0.79079,     0.79179,\n",
       "           0.79279,     0.79379,     0.79479,      0.7958,      0.7968,      0.7978,      0.7988,      0.7998,      0.8008,      0.8018,      0.8028,      0.8038,      0.8048,     0.80581,     0.80681,     0.80781,     0.80881,     0.80981,     0.81081,     0.81181,     0.81281,     0.81381,     0.81481,     0.81582,\n",
       "           0.81682,     0.81782,     0.81882,     0.81982,     0.82082,     0.82182,     0.82282,     0.82382,     0.82482,     0.82583,     0.82683,     0.82783,     0.82883,     0.82983,     0.83083,     0.83183,     0.83283,     0.83383,     0.83483,     0.83584,     0.83684,     0.83784,     0.83884,     0.83984,\n",
       "           0.84084,     0.84184,     0.84284,     0.84384,     0.84484,     0.84585,     0.84685,     0.84785,     0.84885,     0.84985,     0.85085,     0.85185,     0.85285,     0.85385,     0.85485,     0.85586,     0.85686,     0.85786,     0.85886,     0.85986,     0.86086,     0.86186,     0.86286,     0.86386,\n",
       "           0.86486,     0.86587,     0.86687,     0.86787,     0.86887,     0.86987,     0.87087,     0.87187,     0.87287,     0.87387,     0.87487,     0.87588,     0.87688,     0.87788,     0.87888,     0.87988,     0.88088,     0.88188,     0.88288,     0.88388,     0.88488,     0.88589,     0.88689,     0.88789,\n",
       "           0.88889,     0.88989,     0.89089,     0.89189,     0.89289,     0.89389,     0.89489,      0.8959,      0.8969,      0.8979,      0.8989,      0.8999,      0.9009,      0.9019,      0.9029,      0.9039,      0.9049,     0.90591,     0.90691,     0.90791,     0.90891,     0.90991,     0.91091,     0.91191,\n",
       "           0.91291,     0.91391,     0.91491,     0.91592,     0.91692,     0.91792,     0.91892,     0.91992,     0.92092,     0.92192,     0.92292,     0.92392,     0.92492,     0.92593,     0.92693,     0.92793,     0.92893,     0.92993,     0.93093,     0.93193,     0.93293,     0.93393,     0.93493,     0.93594,\n",
       "           0.93694,     0.93794,     0.93894,     0.93994,     0.94094,     0.94194,     0.94294,     0.94394,     0.94494,     0.94595,     0.94695,     0.94795,     0.94895,     0.94995,     0.95095,     0.95195,     0.95295,     0.95395,     0.95495,     0.95596,     0.95696,     0.95796,     0.95896,     0.95996,\n",
       "           0.96096,     0.96196,     0.96296,     0.96396,     0.96496,     0.96597,     0.96697,     0.96797,     0.96897,     0.96997,     0.97097,     0.97197,     0.97297,     0.97397,     0.97497,     0.97598,     0.97698,     0.97798,     0.97898,     0.97998,     0.98098,     0.98198,     0.98298,     0.98398,\n",
       "           0.98498,     0.98599,     0.98699,     0.98799,     0.98899,     0.98999,     0.99099,     0.99199,     0.99299,     0.99399,     0.99499,       0.996,       0.997,       0.998,       0.999,           1]), array([[          1,           1,           1,           1,           1,           1,           1,           1,           1,           1,           1,           1,           1,           1,           1,           1,           1,           1,           1,           1,           1,           1,           1,\n",
       "                  1,           1,           1,           1,           1,           1,           1,           1,           1,           1,           1,           1,           1,           1,           1,           1,           1,           1,           1,           1,           1,           1,           1,\n",
       "                  1,           1,           1,           1,           1,           1,           1,           1,           1,           1,           1,           1,           1,           1,           1,           1,           1,           1,           1,           1,           1,           1,           1,\n",
       "                  1,           1,           1,           1,           1,           1,           1,           1,           1,           1,           1,           1,           1,           1,           1,           1,           1,           1,           1,           1,           1,           1,           1,\n",
       "                  1,           1,           1,           1,           1,           1,           1,           1,           1,           1,           1,           1,           1,           1,           1,           1,           1,           1,           1,           1,           1,           1,           1,\n",
       "                  1,           1,           1,           1,           1,           1,           1,           1,           1,           1,           1,           1,           1,           1,           1,           1,           1,           1,           1,           1,           1,           1,           1,\n",
       "                  1,           1,           1,           1,           1,           1,           1,           1,           1,           1,           1,           1,           1,           1,           1,           1,           1,           1,           1,           1,           1,           1,           1,\n",
       "                  1,           1,           1,           1,           1,           1,           1,           1,           1,           1,           1,           1,           1,           1,           1,           1,           1,           1,           1,           1,           1,           1,           1,\n",
       "                  1,           1,           1,           1,           1,           1,           1,           1,           1,           1,           1,           1,           1,           1,           1,           1,           1,           1,           1,           1,           1,           1,           1,\n",
       "                  1,           1,           1,           1,           1,           1,           1,           1,           1,           1,           1,           1,           1,           1,     0.99854,     0.99854,     0.99854,     0.99854,     0.99854,     0.99854,     0.99854,     0.99854,     0.99854,\n",
       "            0.99854,     0.99854,     0.99854,     0.99854,     0.99723,     0.99723,     0.99723,     0.99723,     0.99723,     0.99723,     0.99723,     0.99723,     0.99723,     0.99723,     0.99723,     0.99589,     0.99589,     0.99589,     0.99461,     0.99461,     0.99461,     0.99461,     0.99365,\n",
       "            0.99365,     0.99365,     0.99365,     0.99365,     0.99365,     0.99365,     0.99365,     0.99365,     0.99365,     0.99365,     0.99365,     0.99365,     0.99365,     0.99365,     0.99295,     0.99295,     0.99295,     0.99295,     0.99295,     0.99295,     0.99295,     0.99295,     0.99295,\n",
       "            0.99295,     0.99295,     0.99295,     0.99295,     0.99295,     0.99295,     0.99295,     0.99295,     0.99295,     0.99295,     0.99295,     0.99295,     0.99255,     0.99255,     0.99255,     0.99255,     0.99255,     0.99255,     0.99255,     0.99255,     0.99255,     0.99255,     0.99255,\n",
       "            0.99255,     0.99255,     0.99255,     0.99255,     0.99255,     0.99255,     0.99255,     0.99255,     0.99255,     0.99255,     0.99255,     0.99255,     0.99255,     0.99255,     0.99255,     0.99255,     0.99255,     0.99255,     0.99255,     0.99153,     0.99153,     0.99153,     0.99153,\n",
       "            0.99153,     0.99153,     0.99153,     0.99153,     0.99153,     0.99153,     0.99153,     0.99153,     0.99153,     0.99153,     0.99153,     0.99153,     0.99153,     0.99153,     0.99153,     0.99153,     0.99153,     0.99153,     0.99153,     0.99153,     0.99153,     0.99153,     0.99153,\n",
       "            0.99153,     0.99153,     0.99153,     0.99153,     0.99153,     0.99153,     0.99153,     0.99153,     0.99153,     0.99153,     0.99153,     0.99153,     0.99153,     0.99153,     0.99094,     0.99094,     0.99094,     0.99094,     0.99094,     0.99094,     0.99094,     0.99094,     0.99094,\n",
       "            0.99094,     0.99094,     0.99094,     0.99094,     0.99094,     0.99094,     0.99094,     0.99094,     0.99094,     0.99094,     0.99094,     0.99094,     0.99094,     0.99094,     0.99094,     0.99094,     0.99094,     0.99094,     0.99094,     0.99094,     0.99094,     0.99094,     0.99094,\n",
       "            0.99094,     0.99094,     0.99094,     0.99094,     0.99094,     0.99094,     0.99094,     0.99094,     0.99094,     0.99094,     0.99094,     0.99094,     0.99094,     0.99094,     0.99094,     0.99094,     0.99094,     0.99094,     0.99094,     0.99015,     0.98961,     0.98961,     0.98961,\n",
       "            0.98961,     0.98961,     0.98961,     0.98961,     0.98961,     0.98961,     0.98961,     0.98961,     0.98915,     0.98915,     0.98915,     0.98915,     0.98915,     0.98915,     0.98915,     0.98915,     0.98915,     0.98915,     0.98915,     0.98915,     0.98915,     0.98853,     0.98853,\n",
       "            0.98853,     0.98853,     0.98853,     0.98853,     0.98853,     0.98853,     0.98853,     0.98853,     0.98853,     0.98853,     0.98853,     0.98853,     0.98853,     0.98853,     0.98853,     0.98853,     0.98853,     0.98853,     0.98853,     0.98853,     0.98853,     0.98853,     0.98853,\n",
       "            0.98853,     0.98853,     0.98853,     0.98853,     0.98853,     0.98853,     0.98853,     0.98853,     0.98853,     0.98853,     0.98853,     0.98853,     0.98853,     0.98853,     0.98853,     0.98853,     0.98853,     0.98853,     0.98853,     0.98853,     0.98853,     0.98853,     0.98853,\n",
       "            0.98853,     0.98853,     0.98853,     0.98853,     0.98853,     0.98853,     0.98853,     0.98853,     0.98853,     0.98853,     0.98853,     0.98853,     0.98853,     0.98853,     0.98853,     0.98853,     0.98853,     0.98793,     0.98793,      0.9878,      0.9878,      0.9878,      0.9878,\n",
       "             0.9878,      0.9878,      0.9878,      0.9878,      0.9878,      0.9878,      0.9878,      0.9878,      0.9878,      0.9878,      0.9878,      0.9878,      0.9878,      0.9878,      0.9878,      0.9878,      0.9878,      0.9878,      0.9878,      0.9878,      0.9878,      0.9878,      0.9878,\n",
       "             0.9878,      0.9878,      0.9878,      0.9878,      0.9878,      0.9878,      0.9878,      0.9878,      0.9878,      0.9878,      0.9878,      0.9878,      0.9878,      0.9878,      0.9878,      0.9878,      0.9878,      0.9878,      0.9878,      0.9878,      0.9878,      0.9878,      0.9878,\n",
       "            0.98767,     0.98767,     0.98767,     0.98767,     0.98767,     0.98767,     0.98767,     0.98767,     0.98767,     0.98767,     0.98767,     0.98767,     0.98767,     0.98767,     0.98767,     0.98767,     0.98767,     0.98767,     0.98767,     0.98767,     0.98767,     0.98767,     0.98767,\n",
       "            0.98767,     0.98767,     0.98767,     0.98767,     0.98767,     0.98767,     0.98767,     0.98767,     0.98767,     0.98767,     0.98767,     0.98767,     0.98767,     0.98767,     0.98767,     0.98767,     0.98767,     0.98767,     0.98767,     0.98767,     0.98767,     0.98767,     0.98767,\n",
       "            0.98767,     0.98767,     0.98767,     0.98767,     0.98767,     0.98767,     0.98767,     0.98767,     0.98767,     0.98767,     0.98767,     0.98767,     0.98767,     0.98767,     0.98767,     0.98767,     0.98767,     0.98767,     0.98767,     0.98767,     0.98767,     0.98767,     0.98767,\n",
       "            0.98767,     0.98767,     0.98767,     0.98767,     0.98767,     0.98767,     0.98767,     0.98767,     0.98767,     0.98767,     0.98767,     0.98767,     0.98767,     0.98767,     0.98767,     0.98767,     0.98767,     0.98767,     0.98767,     0.98767,     0.98767,     0.98767,     0.98767,\n",
       "            0.98767,     0.98767,     0.98767,     0.98767,     0.98767,     0.98767,     0.98767,     0.98767,     0.98767,     0.98767,     0.98767,     0.98767,     0.98767,     0.98767,     0.98767,     0.98767,     0.98767,     0.98767,     0.98767,     0.98767,     0.98767,     0.98767,     0.98767,\n",
       "            0.98767,     0.98767,     0.98767,     0.98767,     0.98767,     0.98767,     0.98767,     0.98767,     0.98767,     0.98767,     0.98767,     0.98767,     0.98767,     0.98767,     0.98767,     0.98767,     0.98767,     0.98767,     0.98767,     0.98767,     0.98767,     0.98767,     0.98767,\n",
       "            0.98767,     0.98767,     0.98767,     0.98767,     0.98767,     0.98767,     0.98767,     0.98767,     0.98767,     0.98767,     0.98767,     0.98767,     0.98767,     0.98767,     0.98767,     0.98767,     0.98767,     0.98767,     0.98767,     0.98767,     0.98767,     0.98767,     0.98767,\n",
       "            0.98767,     0.98767,     0.98767,     0.98767,     0.98767,     0.98767,     0.98767,     0.98767,     0.98767,     0.98767,     0.98767,     0.98767,     0.98767,     0.98767,     0.98767,     0.98767,     0.98767,     0.98767,     0.98767,     0.98767,     0.98767,     0.98767,     0.98767,\n",
       "            0.98767,     0.98723,     0.98688,     0.98688,     0.98688,     0.98688,     0.98688,     0.98688,      0.9868,      0.9868,      0.9868,      0.9868,      0.9868,      0.9868,      0.9868,      0.9868,      0.9868,      0.9868,      0.9868,      0.9868,      0.9868,      0.9868,      0.9868,\n",
       "             0.9868,      0.9868,      0.9868,      0.9868,      0.9868,      0.9868,     0.98656,     0.98656,     0.98656,     0.98656,     0.98656,     0.98656,     0.98656,     0.98656,     0.98656,     0.98656,     0.98656,     0.98618,     0.98618,      0.9858,      0.9858,      0.9858,     0.98545,\n",
       "            0.98545,     0.98545,     0.98545,     0.98508,     0.98508,     0.98508,      0.9848,      0.9848,      0.9848,      0.9848,      0.9848,      0.9848,      0.9848,     0.98445,     0.98445,     0.98445,     0.98445,     0.98407,     0.98384,     0.98384,     0.98384,     0.98384,     0.98384,\n",
       "            0.98384,     0.98384,     0.98384,     0.98384,     0.98384,     0.98348,     0.98348,     0.98309,     0.98276,     0.98276,     0.98276,     0.98246,     0.98246,     0.98246,     0.98246,     0.98246,     0.98246,     0.98246,     0.98246,     0.98246,     0.98246,     0.98246,     0.98246,\n",
       "            0.98246,     0.98246,     0.98246,     0.98246,     0.98246,     0.98246,     0.98246,     0.98246,     0.98246,     0.98246,     0.98246,     0.98246,     0.98228,     0.98228,     0.98228,     0.98228,     0.98228,     0.98228,     0.98228,     0.98228,     0.98228,     0.98228,     0.98228,\n",
       "            0.98154,     0.98117,     0.98081,     0.97972,     0.97972,     0.97946,     0.97946,     0.97946,     0.97946,     0.97946,     0.97946,     0.97946,     0.97946,     0.97946,     0.97946,     0.97946,     0.97946,     0.97946,     0.97946,     0.97946,     0.97946,     0.97946,     0.97946,\n",
       "            0.97946,     0.97946,     0.97946,     0.97946,     0.97837,      0.9781,      0.9781,      0.9781,      0.9781,     0.97751,     0.97751,     0.97751,     0.97751,     0.97751,     0.97751,     0.97719,     0.97719,     0.97687,     0.97687,     0.97621,     0.97621,     0.97585,     0.97556,\n",
       "            0.97556,     0.97523,     0.97498,     0.97498,     0.97498,     0.97498,     0.97466,     0.97466,     0.97435,     0.97405,     0.97405,     0.97405,     0.97373,     0.97344,     0.97344,     0.97311,     0.97279,      0.9723,      0.9723,      0.9723,      0.9723,      0.9723,      0.9723,\n",
       "             0.9723,     0.97199,     0.97199,     0.97166,     0.97146,     0.97146,     0.97146,     0.97146,     0.97112,     0.97048,     0.97018,     0.97018,     0.96954,     0.96921,     0.96824,     0.96791,     0.96698,     0.96698,     0.96698,     0.96671,     0.96671,     0.96608,     0.96577,\n",
       "             0.9648,      0.9615,     0.95953,     0.95825,     0.95697,     0.95472,     0.95381,      0.9535,     0.95225,     0.95036,     0.94814,     0.94692,     0.94568,     0.94418,     0.94325,     0.93957,     0.93927,     0.93746,     0.93534,     0.93171,     0.92386,     0.91704,     0.91328,\n",
       "            0.90988,     0.90732,     0.90423,     0.90086,     0.88885,      0.8737,     0.86849,     0.86677,     0.86192,     0.84004,     0.80704,     0.78813,     0.74224,     0.71724,      0.6896,     0.66651,     0.63418,     0.59813,     0.55041,     0.46652,      0.3978,     0.34117,     0.31274,\n",
       "            0.28431,     0.25588,     0.22745,     0.19902,     0.17059,     0.14216,     0.11372,    0.085294,    0.056862,    0.028431,           0]]), 'Recall', 'Precision'], [array([          0,    0.001001,    0.002002,    0.003003,    0.004004,    0.005005,    0.006006,    0.007007,    0.008008,    0.009009,     0.01001,    0.011011,    0.012012,    0.013013,    0.014014,    0.015015,    0.016016,    0.017017,    0.018018,    0.019019,     0.02002,    0.021021,    0.022022,    0.023023,\n",
       "          0.024024,    0.025025,    0.026026,    0.027027,    0.028028,    0.029029,     0.03003,    0.031031,    0.032032,    0.033033,    0.034034,    0.035035,    0.036036,    0.037037,    0.038038,    0.039039,     0.04004,    0.041041,    0.042042,    0.043043,    0.044044,    0.045045,    0.046046,    0.047047,\n",
       "          0.048048,    0.049049,     0.05005,    0.051051,    0.052052,    0.053053,    0.054054,    0.055055,    0.056056,    0.057057,    0.058058,    0.059059,     0.06006,    0.061061,    0.062062,    0.063063,    0.064064,    0.065065,    0.066066,    0.067067,    0.068068,    0.069069,     0.07007,    0.071071,\n",
       "          0.072072,    0.073073,    0.074074,    0.075075,    0.076076,    0.077077,    0.078078,    0.079079,     0.08008,    0.081081,    0.082082,    0.083083,    0.084084,    0.085085,    0.086086,    0.087087,    0.088088,    0.089089,     0.09009,    0.091091,    0.092092,    0.093093,    0.094094,    0.095095,\n",
       "          0.096096,    0.097097,    0.098098,    0.099099,      0.1001,      0.1011,      0.1021,      0.1031,      0.1041,     0.10511,     0.10611,     0.10711,     0.10811,     0.10911,     0.11011,     0.11111,     0.11211,     0.11311,     0.11411,     0.11512,     0.11612,     0.11712,     0.11812,     0.11912,\n",
       "           0.12012,     0.12112,     0.12212,     0.12312,     0.12412,     0.12513,     0.12613,     0.12713,     0.12813,     0.12913,     0.13013,     0.13113,     0.13213,     0.13313,     0.13413,     0.13514,     0.13614,     0.13714,     0.13814,     0.13914,     0.14014,     0.14114,     0.14214,     0.14314,\n",
       "           0.14414,     0.14515,     0.14615,     0.14715,     0.14815,     0.14915,     0.15015,     0.15115,     0.15215,     0.15315,     0.15415,     0.15516,     0.15616,     0.15716,     0.15816,     0.15916,     0.16016,     0.16116,     0.16216,     0.16316,     0.16416,     0.16517,     0.16617,     0.16717,\n",
       "           0.16817,     0.16917,     0.17017,     0.17117,     0.17217,     0.17317,     0.17417,     0.17518,     0.17618,     0.17718,     0.17818,     0.17918,     0.18018,     0.18118,     0.18218,     0.18318,     0.18418,     0.18519,     0.18619,     0.18719,     0.18819,     0.18919,     0.19019,     0.19119,\n",
       "           0.19219,     0.19319,     0.19419,      0.1952,      0.1962,      0.1972,      0.1982,      0.1992,      0.2002,      0.2012,      0.2022,      0.2032,      0.2042,     0.20521,     0.20621,     0.20721,     0.20821,     0.20921,     0.21021,     0.21121,     0.21221,     0.21321,     0.21421,     0.21522,\n",
       "           0.21622,     0.21722,     0.21822,     0.21922,     0.22022,     0.22122,     0.22222,     0.22322,     0.22422,     0.22523,     0.22623,     0.22723,     0.22823,     0.22923,     0.23023,     0.23123,     0.23223,     0.23323,     0.23423,     0.23524,     0.23624,     0.23724,     0.23824,     0.23924,\n",
       "           0.24024,     0.24124,     0.24224,     0.24324,     0.24424,     0.24525,     0.24625,     0.24725,     0.24825,     0.24925,     0.25025,     0.25125,     0.25225,     0.25325,     0.25425,     0.25526,     0.25626,     0.25726,     0.25826,     0.25926,     0.26026,     0.26126,     0.26226,     0.26326,\n",
       "           0.26426,     0.26527,     0.26627,     0.26727,     0.26827,     0.26927,     0.27027,     0.27127,     0.27227,     0.27327,     0.27427,     0.27528,     0.27628,     0.27728,     0.27828,     0.27928,     0.28028,     0.28128,     0.28228,     0.28328,     0.28428,     0.28529,     0.28629,     0.28729,\n",
       "           0.28829,     0.28929,     0.29029,     0.29129,     0.29229,     0.29329,     0.29429,      0.2953,      0.2963,      0.2973,      0.2983,      0.2993,      0.3003,      0.3013,      0.3023,      0.3033,      0.3043,     0.30531,     0.30631,     0.30731,     0.30831,     0.30931,     0.31031,     0.31131,\n",
       "           0.31231,     0.31331,     0.31431,     0.31532,     0.31632,     0.31732,     0.31832,     0.31932,     0.32032,     0.32132,     0.32232,     0.32332,     0.32432,     0.32533,     0.32633,     0.32733,     0.32833,     0.32933,     0.33033,     0.33133,     0.33233,     0.33333,     0.33433,     0.33534,\n",
       "           0.33634,     0.33734,     0.33834,     0.33934,     0.34034,     0.34134,     0.34234,     0.34334,     0.34434,     0.34535,     0.34635,     0.34735,     0.34835,     0.34935,     0.35035,     0.35135,     0.35235,     0.35335,     0.35435,     0.35536,     0.35636,     0.35736,     0.35836,     0.35936,\n",
       "           0.36036,     0.36136,     0.36236,     0.36336,     0.36436,     0.36537,     0.36637,     0.36737,     0.36837,     0.36937,     0.37037,     0.37137,     0.37237,     0.37337,     0.37437,     0.37538,     0.37638,     0.37738,     0.37838,     0.37938,     0.38038,     0.38138,     0.38238,     0.38338,\n",
       "           0.38438,     0.38539,     0.38639,     0.38739,     0.38839,     0.38939,     0.39039,     0.39139,     0.39239,     0.39339,     0.39439,      0.3954,      0.3964,      0.3974,      0.3984,      0.3994,      0.4004,      0.4014,      0.4024,      0.4034,      0.4044,     0.40541,     0.40641,     0.40741,\n",
       "           0.40841,     0.40941,     0.41041,     0.41141,     0.41241,     0.41341,     0.41441,     0.41542,     0.41642,     0.41742,     0.41842,     0.41942,     0.42042,     0.42142,     0.42242,     0.42342,     0.42442,     0.42543,     0.42643,     0.42743,     0.42843,     0.42943,     0.43043,     0.43143,\n",
       "           0.43243,     0.43343,     0.43443,     0.43544,     0.43644,     0.43744,     0.43844,     0.43944,     0.44044,     0.44144,     0.44244,     0.44344,     0.44444,     0.44545,     0.44645,     0.44745,     0.44845,     0.44945,     0.45045,     0.45145,     0.45245,     0.45345,     0.45445,     0.45546,\n",
       "           0.45646,     0.45746,     0.45846,     0.45946,     0.46046,     0.46146,     0.46246,     0.46346,     0.46446,     0.46547,     0.46647,     0.46747,     0.46847,     0.46947,     0.47047,     0.47147,     0.47247,     0.47347,     0.47447,     0.47548,     0.47648,     0.47748,     0.47848,     0.47948,\n",
       "           0.48048,     0.48148,     0.48248,     0.48348,     0.48448,     0.48549,     0.48649,     0.48749,     0.48849,     0.48949,     0.49049,     0.49149,     0.49249,     0.49349,     0.49449,      0.4955,      0.4965,      0.4975,      0.4985,      0.4995,      0.5005,      0.5015,      0.5025,      0.5035,\n",
       "            0.5045,     0.50551,     0.50651,     0.50751,     0.50851,     0.50951,     0.51051,     0.51151,     0.51251,     0.51351,     0.51451,     0.51552,     0.51652,     0.51752,     0.51852,     0.51952,     0.52052,     0.52152,     0.52252,     0.52352,     0.52452,     0.52553,     0.52653,     0.52753,\n",
       "           0.52853,     0.52953,     0.53053,     0.53153,     0.53253,     0.53353,     0.53453,     0.53554,     0.53654,     0.53754,     0.53854,     0.53954,     0.54054,     0.54154,     0.54254,     0.54354,     0.54454,     0.54555,     0.54655,     0.54755,     0.54855,     0.54955,     0.55055,     0.55155,\n",
       "           0.55255,     0.55355,     0.55455,     0.55556,     0.55656,     0.55756,     0.55856,     0.55956,     0.56056,     0.56156,     0.56256,     0.56356,     0.56456,     0.56557,     0.56657,     0.56757,     0.56857,     0.56957,     0.57057,     0.57157,     0.57257,     0.57357,     0.57457,     0.57558,\n",
       "           0.57658,     0.57758,     0.57858,     0.57958,     0.58058,     0.58158,     0.58258,     0.58358,     0.58458,     0.58559,     0.58659,     0.58759,     0.58859,     0.58959,     0.59059,     0.59159,     0.59259,     0.59359,     0.59459,      0.5956,      0.5966,      0.5976,      0.5986,      0.5996,\n",
       "            0.6006,      0.6016,      0.6026,      0.6036,      0.6046,     0.60561,     0.60661,     0.60761,     0.60861,     0.60961,     0.61061,     0.61161,     0.61261,     0.61361,     0.61461,     0.61562,     0.61662,     0.61762,     0.61862,     0.61962,     0.62062,     0.62162,     0.62262,     0.62362,\n",
       "           0.62462,     0.62563,     0.62663,     0.62763,     0.62863,     0.62963,     0.63063,     0.63163,     0.63263,     0.63363,     0.63463,     0.63564,     0.63664,     0.63764,     0.63864,     0.63964,     0.64064,     0.64164,     0.64264,     0.64364,     0.64464,     0.64565,     0.64665,     0.64765,\n",
       "           0.64865,     0.64965,     0.65065,     0.65165,     0.65265,     0.65365,     0.65465,     0.65566,     0.65666,     0.65766,     0.65866,     0.65966,     0.66066,     0.66166,     0.66266,     0.66366,     0.66466,     0.66567,     0.66667,     0.66767,     0.66867,     0.66967,     0.67067,     0.67167,\n",
       "           0.67267,     0.67367,     0.67467,     0.67568,     0.67668,     0.67768,     0.67868,     0.67968,     0.68068,     0.68168,     0.68268,     0.68368,     0.68468,     0.68569,     0.68669,     0.68769,     0.68869,     0.68969,     0.69069,     0.69169,     0.69269,     0.69369,     0.69469,      0.6957,\n",
       "            0.6967,      0.6977,      0.6987,      0.6997,      0.7007,      0.7017,      0.7027,      0.7037,      0.7047,     0.70571,     0.70671,     0.70771,     0.70871,     0.70971,     0.71071,     0.71171,     0.71271,     0.71371,     0.71471,     0.71572,     0.71672,     0.71772,     0.71872,     0.71972,\n",
       "           0.72072,     0.72172,     0.72272,     0.72372,     0.72472,     0.72573,     0.72673,     0.72773,     0.72873,     0.72973,     0.73073,     0.73173,     0.73273,     0.73373,     0.73473,     0.73574,     0.73674,     0.73774,     0.73874,     0.73974,     0.74074,     0.74174,     0.74274,     0.74374,\n",
       "           0.74474,     0.74575,     0.74675,     0.74775,     0.74875,     0.74975,     0.75075,     0.75175,     0.75275,     0.75375,     0.75475,     0.75576,     0.75676,     0.75776,     0.75876,     0.75976,     0.76076,     0.76176,     0.76276,     0.76376,     0.76476,     0.76577,     0.76677,     0.76777,\n",
       "           0.76877,     0.76977,     0.77077,     0.77177,     0.77277,     0.77377,     0.77477,     0.77578,     0.77678,     0.77778,     0.77878,     0.77978,     0.78078,     0.78178,     0.78278,     0.78378,     0.78478,     0.78579,     0.78679,     0.78779,     0.78879,     0.78979,     0.79079,     0.79179,\n",
       "           0.79279,     0.79379,     0.79479,      0.7958,      0.7968,      0.7978,      0.7988,      0.7998,      0.8008,      0.8018,      0.8028,      0.8038,      0.8048,     0.80581,     0.80681,     0.80781,     0.80881,     0.80981,     0.81081,     0.81181,     0.81281,     0.81381,     0.81481,     0.81582,\n",
       "           0.81682,     0.81782,     0.81882,     0.81982,     0.82082,     0.82182,     0.82282,     0.82382,     0.82482,     0.82583,     0.82683,     0.82783,     0.82883,     0.82983,     0.83083,     0.83183,     0.83283,     0.83383,     0.83483,     0.83584,     0.83684,     0.83784,     0.83884,     0.83984,\n",
       "           0.84084,     0.84184,     0.84284,     0.84384,     0.84484,     0.84585,     0.84685,     0.84785,     0.84885,     0.84985,     0.85085,     0.85185,     0.85285,     0.85385,     0.85485,     0.85586,     0.85686,     0.85786,     0.85886,     0.85986,     0.86086,     0.86186,     0.86286,     0.86386,\n",
       "           0.86486,     0.86587,     0.86687,     0.86787,     0.86887,     0.86987,     0.87087,     0.87187,     0.87287,     0.87387,     0.87487,     0.87588,     0.87688,     0.87788,     0.87888,     0.87988,     0.88088,     0.88188,     0.88288,     0.88388,     0.88488,     0.88589,     0.88689,     0.88789,\n",
       "           0.88889,     0.88989,     0.89089,     0.89189,     0.89289,     0.89389,     0.89489,      0.8959,      0.8969,      0.8979,      0.8989,      0.8999,      0.9009,      0.9019,      0.9029,      0.9039,      0.9049,     0.90591,     0.90691,     0.90791,     0.90891,     0.90991,     0.91091,     0.91191,\n",
       "           0.91291,     0.91391,     0.91491,     0.91592,     0.91692,     0.91792,     0.91892,     0.91992,     0.92092,     0.92192,     0.92292,     0.92392,     0.92492,     0.92593,     0.92693,     0.92793,     0.92893,     0.92993,     0.93093,     0.93193,     0.93293,     0.93393,     0.93493,     0.93594,\n",
       "           0.93694,     0.93794,     0.93894,     0.93994,     0.94094,     0.94194,     0.94294,     0.94394,     0.94494,     0.94595,     0.94695,     0.94795,     0.94895,     0.94995,     0.95095,     0.95195,     0.95295,     0.95395,     0.95495,     0.95596,     0.95696,     0.95796,     0.95896,     0.95996,\n",
       "           0.96096,     0.96196,     0.96296,     0.96396,     0.96496,     0.96597,     0.96697,     0.96797,     0.96897,     0.96997,     0.97097,     0.97197,     0.97297,     0.97397,     0.97497,     0.97598,     0.97698,     0.97798,     0.97898,     0.97998,     0.98098,     0.98198,     0.98298,     0.98398,\n",
       "           0.98498,     0.98599,     0.98699,     0.98799,     0.98899,     0.98999,     0.99099,     0.99199,     0.99299,     0.99399,     0.99499,       0.996,       0.997,       0.998,       0.999,           1]), array([[    0.52593,     0.52593,     0.61282,     0.65883,     0.69131,     0.71259,     0.73027,     0.74655,     0.75889,     0.77041,     0.77907,     0.78702,     0.79438,      0.8011,     0.80748,     0.81392,     0.81932,      0.8251,     0.82823,     0.83231,     0.83525,     0.83867,     0.84229,\n",
       "            0.84592,     0.84923,     0.85222,     0.85435,     0.85595,     0.85844,     0.86107,     0.86435,     0.86651,      0.8688,     0.87057,     0.87181,     0.87387,     0.87467,     0.87615,     0.87795,     0.87949,     0.88051,     0.88166,     0.88282,     0.88411,     0.88594,     0.88693,\n",
       "            0.88838,     0.88927,     0.89003,     0.89042,     0.89124,      0.8926,     0.89375,     0.89475,      0.8957,      0.8963,     0.89739,     0.89888,     0.89973,     0.89984,     0.90051,     0.90138,     0.90236,     0.90296,     0.90337,     0.90384,     0.90437,     0.90484,     0.90535,\n",
       "            0.90567,     0.90614,     0.90695,     0.90729,     0.90747,     0.90892,     0.90999,     0.91032,     0.91112,     0.91188,     0.91251,     0.91318,     0.91372,     0.91415,     0.91475,     0.91501,     0.91544,     0.91605,     0.91628,       0.917,     0.91726,     0.91695,     0.91768,\n",
       "            0.91765,     0.91832,     0.91857,     0.91941,     0.91983,     0.91993,        0.92,     0.92018,     0.92017,     0.92053,     0.92096,     0.92159,     0.92185,     0.92218,     0.92236,     0.92292,     0.92329,     0.92369,     0.92393,     0.92443,       0.925,     0.92541,     0.92583,\n",
       "            0.92598,      0.9268,     0.92698,     0.92696,      0.9279,     0.92808,     0.92814,     0.92845,     0.92857,     0.92865,     0.92879,     0.92904,     0.92936,     0.92969,     0.92998,     0.93047,     0.93072,     0.93102,     0.93123,     0.93151,     0.93204,     0.93215,      0.9327,\n",
       "            0.93267,     0.93272,     0.93333,     0.93355,     0.93361,     0.93368,      0.9339,     0.93404,     0.93408,     0.93395,     0.93406,     0.93435,     0.93461,     0.93475,      0.9352,     0.93533,     0.93539,     0.93545,     0.93559,     0.93598,     0.93636,     0.93636,     0.93639,\n",
       "             0.9368,     0.93673,     0.93665,     0.93713,     0.93744,     0.93767,     0.93776,     0.93778,     0.93781,     0.93769,     0.93753,     0.93766,     0.93786,     0.93807,     0.93815,     0.93818,     0.93822,     0.93826,     0.93818,     0.93829,     0.93866,      0.9386,     0.93869,\n",
       "            0.93901,     0.93896,      0.9389,     0.93885,     0.93906,     0.93914,     0.93918,     0.93921,     0.93925,     0.93935,     0.93969,     0.94011,     0.94025,     0.94034,     0.94042,      0.9405,     0.94045,     0.94038,     0.94068,     0.94098,     0.94124,     0.94116,     0.94139,\n",
       "            0.94163,      0.9417,     0.94213,     0.94253,     0.94257,     0.94261,     0.94266,     0.94319,     0.94342,     0.94329,     0.94352,     0.94345,     0.94362,     0.94379,     0.94393,     0.94411,     0.94422,     0.94428,     0.94435,     0.94422,     0.94437,     0.94443,      0.9445,\n",
       "            0.94474,     0.94483,     0.94489,     0.94494,     0.94505,     0.94519,      0.9453,      0.9455,     0.94558,     0.94573,      0.9458,     0.94585,     0.94589,     0.94588,     0.94576,     0.94579,     0.94585,      0.9459,     0.94625,     0.94636,      0.9466,     0.94667,     0.94682,\n",
       "            0.94698,     0.94684,     0.94689,     0.94695,     0.94723,     0.94737,     0.94747,     0.94755,     0.94762,     0.94766,      0.9477,     0.94774,     0.94778,     0.94786,     0.94793,     0.94807,     0.94797,     0.94797,     0.94808,     0.94842,     0.94852,     0.94851,     0.94843,\n",
       "            0.94841,     0.94851,     0.94861,     0.94875,      0.9489,       0.949,     0.94908,     0.94912,     0.94902,     0.94912,     0.94903,       0.949,      0.9491,     0.94896,     0.94898,     0.94901,     0.94903,     0.94905,     0.94907,     0.94909,     0.94919,     0.94945,     0.94949,\n",
       "            0.94953,     0.94957,     0.94946,     0.94954,     0.94954,     0.94944,     0.94929,     0.94916,     0.94911,     0.94906,     0.94903,     0.94907,     0.94911,     0.94915,     0.94916,     0.94906,      0.9495,     0.94955,      0.9496,     0.94964,     0.94976,     0.94964,     0.94967,\n",
       "             0.9497,     0.94973,     0.94976,     0.94996,     0.95006,      0.9502,      0.9505,     0.95059,     0.95058,     0.95078,     0.95088,      0.9508,     0.95073,     0.95064,     0.95055,     0.95031,     0.95018,     0.95024,      0.9503,     0.95038,     0.95047,     0.95081,     0.95074,\n",
       "            0.95068,      0.9507,     0.95089,     0.95099,     0.95101,      0.9511,     0.95108,     0.95105,     0.95102,     0.95099,     0.95096,     0.95093,     0.95086,     0.95075,     0.95083,     0.95073,      0.9506,     0.95074,     0.95084,     0.95092,     0.95101,      0.9509,     0.95096,\n",
       "            0.95102,     0.95118,     0.95128,     0.95139,     0.95145,      0.9514,     0.95176,     0.95167,     0.95168,     0.95175,     0.95181,     0.95185,     0.95189,     0.95197,      0.9522,     0.95213,     0.95221,     0.95214,     0.95208,     0.95217,     0.95233,     0.95225,     0.95219,\n",
       "            0.95234,     0.95217,     0.95213,     0.95209,     0.95205,     0.95201,     0.95179,     0.95172,     0.95166,     0.95158,     0.95148,     0.95158,     0.95175,     0.95192,     0.95188,     0.95182,     0.95159,     0.95163,     0.95167,     0.95172,     0.95176,     0.95182,     0.95187,\n",
       "            0.95194,     0.95204,     0.95218,     0.95235,     0.95251,     0.95249,      0.9524,     0.95247,     0.95238,     0.95273,     0.95277,     0.95282,     0.95283,     0.95264,     0.95253,     0.95249,     0.95253,     0.95257,     0.95261,     0.95266,     0.95272,     0.95278,     0.95269,\n",
       "            0.95265,     0.95268,     0.95272,     0.95275,     0.95278,     0.95276,     0.95272,     0.95269,     0.95265,     0.95261,     0.95269,      0.9526,     0.95265,      0.9527,     0.95276,     0.95293,      0.9531,     0.95327,     0.95334,     0.95327,     0.95335,     0.95317,     0.95308,\n",
       "            0.95323,     0.95328,     0.95334,     0.95356,     0.95362,     0.95367,     0.95365,     0.95359,     0.95353,     0.95347,     0.95341,     0.95334,     0.95363,     0.95371,     0.95376,     0.95382,     0.95414,     0.95431,     0.95414,     0.95396,     0.95378,     0.95427,     0.95421,\n",
       "            0.95415,     0.95407,     0.95393,     0.95407,     0.95402,     0.95397,     0.95393,     0.95369,      0.9536,     0.95338,     0.95346,     0.95355,     0.95363,     0.95361,     0.95342,     0.95329,     0.95323,     0.95317,     0.95309,       0.953,     0.95285,     0.95267,     0.95263,\n",
       "            0.95269,     0.95274,      0.9527,      0.9526,     0.95251,     0.95242,     0.95232,     0.95223,     0.95188,     0.95169,     0.95151,     0.95148,     0.95155,     0.95164,     0.95167,     0.95171,     0.95174,     0.95177,     0.95163,     0.95167,     0.95171,     0.95175,     0.95175,\n",
       "            0.95158,     0.95149,     0.95137,     0.95129,     0.95139,     0.95132,     0.95126,     0.95128,     0.95111,     0.95103,     0.95109,     0.95115,     0.95112,     0.95103,     0.95088,      0.9507,     0.95055,     0.95066,     0.95075,     0.95028,     0.95009,     0.95017,     0.95006,\n",
       "            0.94988,     0.94955,     0.94963,     0.94961,     0.94946,     0.94934,     0.94916,     0.94897,     0.94883,     0.94873,     0.94848,     0.94843,     0.94839,     0.94834,      0.9479,      0.9478,     0.94716,     0.94706,     0.94697,     0.94691,     0.94685,     0.94685,     0.94647,\n",
       "            0.94628,     0.94634,     0.94642,     0.94551,     0.94532,     0.94486,     0.94476,     0.94463,     0.94453,     0.94443,     0.94372,     0.94335,     0.94297,     0.94278,     0.94247,     0.94238,     0.94265,     0.94235,      0.9422,     0.94228,       0.942,     0.94182,     0.94163,\n",
       "            0.94144,     0.94106,      0.9409,      0.9408,     0.94035,     0.94029,     0.94023,     0.94031,     0.94024,     0.93996,     0.93958,     0.93899,     0.93861,     0.93861,     0.93851,     0.93794,      0.9378,     0.93704,     0.93658,      0.9358,     0.93559,     0.93518,     0.93499,\n",
       "            0.93489,     0.93441,     0.93419,     0.93379,     0.93366,      0.9333,     0.93314,     0.93312,     0.93303,     0.93266,     0.93247,     0.93233,     0.93177,     0.93138,     0.93097,     0.93039,     0.92973,     0.92914,     0.92875,     0.92837,     0.92827,     0.92833,     0.92818,\n",
       "            0.92781,     0.92762,     0.92723,     0.92703,     0.92649,     0.92583,       0.926,     0.92606,     0.92598,     0.92557,     0.92535,     0.92476,     0.92456,     0.92442,     0.92407,     0.92387,     0.92348,     0.92328,     0.92253,      0.9222,       0.922,     0.92083,     0.92059,\n",
       "            0.91961,     0.91951,     0.91934,     0.91846,     0.91825,     0.91747,      0.9172,     0.91696,     0.91669,     0.91614,     0.91544,     0.91485,     0.91425,     0.91372,     0.91332,     0.91309,      0.9131,     0.91252,     0.91232,     0.91209,     0.91205,     0.91167,     0.91023,\n",
       "            0.91005,     0.90994,     0.90976,     0.90926,     0.90825,     0.90797,     0.90743,     0.90733,     0.90643,     0.90602,     0.90487,     0.90446,     0.90404,     0.90375,     0.90334,     0.90263,     0.90222,     0.90197,     0.90109,     0.90048,     0.89935,     0.89874,     0.89785,\n",
       "             0.8972,     0.89658,     0.89565,     0.89536,     0.89513,     0.89451,     0.89333,      0.8925,     0.89153,     0.89068,     0.89044,     0.89034,     0.88991,     0.88948,     0.88862,      0.8868,     0.88555,     0.88381,     0.88279,     0.88213,      0.8821,     0.88134,     0.88091,\n",
       "             0.8797,     0.87939,     0.87895,     0.87757,     0.87639,     0.87556,     0.87474,      0.8743,     0.87372,     0.87304,      0.8721,     0.87129,     0.87038,      0.8694,     0.86875,     0.86723,     0.86696,     0.86533,     0.86503,     0.86369,     0.86168,     0.86034,     0.85913,\n",
       "            0.85726,     0.85636,     0.85603,      0.8537,     0.85234,     0.84991,     0.84964,     0.84822,     0.84692,     0.84507,     0.84363,     0.84334,      0.8426,      0.8409,     0.84013,     0.83816,     0.83692,     0.83575,     0.83323,     0.83275,     0.83136,     0.82973,     0.82846,\n",
       "             0.8253,     0.82402,     0.82106,     0.82002,     0.81656,     0.81624,     0.81345,     0.81099,     0.80937,     0.80907,     0.80694,     0.80569,     0.80306,     0.80253,     0.79963,     0.79607,     0.79447,     0.79138,     0.78819,     0.78396,     0.78193,     0.77897,     0.77684,\n",
       "            0.77312,     0.77111,     0.76952,     0.76565,     0.76273,      0.7581,     0.75477,     0.75336,     0.75061,     0.74805,     0.74554,     0.74099,      0.7371,     0.73691,     0.73312,     0.72738,     0.72627,     0.72145,     0.71671,     0.71492,     0.71124,     0.70687,     0.69979,\n",
       "            0.69599,     0.69135,     0.68638,     0.68256,     0.67866,     0.67484,     0.67035,     0.66643,     0.66354,     0.65758,     0.65467,     0.65127,     0.64412,      0.6391,     0.63119,     0.62447,     0.62156,     0.61577,     0.61408,     0.60996,     0.60298,     0.59765,     0.59361,\n",
       "            0.58631,     0.58153,     0.57974,     0.57491,     0.56761,     0.56023,     0.55562,     0.55027,     0.54271,     0.52862,     0.51984,     0.51347,     0.50703,     0.50054,     0.49592,     0.49128,     0.48543,     0.47663,     0.47345,     0.46546,     0.46102,     0.45249,     0.44756,\n",
       "            0.44314,     0.43649,      0.4281,     0.42513,     0.42045,     0.41244,     0.40465,     0.39273,     0.38607,     0.38026,     0.37271,     0.36679,     0.35219,     0.34425,     0.33954,     0.33101,     0.31854,     0.30882,      0.3044,     0.29003,       0.284,     0.27894,     0.26948,\n",
       "            0.26617,     0.26203,     0.25268,     0.24586,     0.23846,     0.22832,     0.22239,     0.21641,     0.20985,     0.20581,     0.19714,     0.19322,     0.18424,     0.17687,     0.17458,     0.17132,     0.16825,     0.16133,     0.15725,     0.14674,     0.14492,     0.13963,     0.13605,\n",
       "            0.12591,     0.12286,     0.11317,     0.11071,     0.10702,      0.1027,    0.095271,    0.087787,    0.081499,    0.077064,    0.074507,    0.066858,    0.061073,     0.05783,    0.054576,    0.051893,    0.044129,    0.041484,    0.039486,    0.036171,    0.032184,    0.026886,    0.026156,\n",
       "           0.024127,    0.019423,     0.01748,    0.014662,    0.012069,    0.011228,   0.0091682,   0.0071046,   0.0044923,   0.0041443,   0.0039196,   0.0037206,   0.0035216,   0.0028283,   0.0025403,   0.0023411,   0.0021417,   0.0016875,   0.0013058,   0.0011984,   0.0010909,  0.00098345,  0.00087598,\n",
       "          0.0007685,           0,           0,           0,           0,           0,           0,           0,           0,           0,           0,           0,           0,           0,           0,           0,           0,           0,           0,           0,           0,           0,           0,\n",
       "                  0,           0,           0,           0,           0,           0,           0,           0,           0,           0,           0]]), 'Confidence', 'F1'], [array([          0,    0.001001,    0.002002,    0.003003,    0.004004,    0.005005,    0.006006,    0.007007,    0.008008,    0.009009,     0.01001,    0.011011,    0.012012,    0.013013,    0.014014,    0.015015,    0.016016,    0.017017,    0.018018,    0.019019,     0.02002,    0.021021,    0.022022,    0.023023,\n",
       "          0.024024,    0.025025,    0.026026,    0.027027,    0.028028,    0.029029,     0.03003,    0.031031,    0.032032,    0.033033,    0.034034,    0.035035,    0.036036,    0.037037,    0.038038,    0.039039,     0.04004,    0.041041,    0.042042,    0.043043,    0.044044,    0.045045,    0.046046,    0.047047,\n",
       "          0.048048,    0.049049,     0.05005,    0.051051,    0.052052,    0.053053,    0.054054,    0.055055,    0.056056,    0.057057,    0.058058,    0.059059,     0.06006,    0.061061,    0.062062,    0.063063,    0.064064,    0.065065,    0.066066,    0.067067,    0.068068,    0.069069,     0.07007,    0.071071,\n",
       "          0.072072,    0.073073,    0.074074,    0.075075,    0.076076,    0.077077,    0.078078,    0.079079,     0.08008,    0.081081,    0.082082,    0.083083,    0.084084,    0.085085,    0.086086,    0.087087,    0.088088,    0.089089,     0.09009,    0.091091,    0.092092,    0.093093,    0.094094,    0.095095,\n",
       "          0.096096,    0.097097,    0.098098,    0.099099,      0.1001,      0.1011,      0.1021,      0.1031,      0.1041,     0.10511,     0.10611,     0.10711,     0.10811,     0.10911,     0.11011,     0.11111,     0.11211,     0.11311,     0.11411,     0.11512,     0.11612,     0.11712,     0.11812,     0.11912,\n",
       "           0.12012,     0.12112,     0.12212,     0.12312,     0.12412,     0.12513,     0.12613,     0.12713,     0.12813,     0.12913,     0.13013,     0.13113,     0.13213,     0.13313,     0.13413,     0.13514,     0.13614,     0.13714,     0.13814,     0.13914,     0.14014,     0.14114,     0.14214,     0.14314,\n",
       "           0.14414,     0.14515,     0.14615,     0.14715,     0.14815,     0.14915,     0.15015,     0.15115,     0.15215,     0.15315,     0.15415,     0.15516,     0.15616,     0.15716,     0.15816,     0.15916,     0.16016,     0.16116,     0.16216,     0.16316,     0.16416,     0.16517,     0.16617,     0.16717,\n",
       "           0.16817,     0.16917,     0.17017,     0.17117,     0.17217,     0.17317,     0.17417,     0.17518,     0.17618,     0.17718,     0.17818,     0.17918,     0.18018,     0.18118,     0.18218,     0.18318,     0.18418,     0.18519,     0.18619,     0.18719,     0.18819,     0.18919,     0.19019,     0.19119,\n",
       "           0.19219,     0.19319,     0.19419,      0.1952,      0.1962,      0.1972,      0.1982,      0.1992,      0.2002,      0.2012,      0.2022,      0.2032,      0.2042,     0.20521,     0.20621,     0.20721,     0.20821,     0.20921,     0.21021,     0.21121,     0.21221,     0.21321,     0.21421,     0.21522,\n",
       "           0.21622,     0.21722,     0.21822,     0.21922,     0.22022,     0.22122,     0.22222,     0.22322,     0.22422,     0.22523,     0.22623,     0.22723,     0.22823,     0.22923,     0.23023,     0.23123,     0.23223,     0.23323,     0.23423,     0.23524,     0.23624,     0.23724,     0.23824,     0.23924,\n",
       "           0.24024,     0.24124,     0.24224,     0.24324,     0.24424,     0.24525,     0.24625,     0.24725,     0.24825,     0.24925,     0.25025,     0.25125,     0.25225,     0.25325,     0.25425,     0.25526,     0.25626,     0.25726,     0.25826,     0.25926,     0.26026,     0.26126,     0.26226,     0.26326,\n",
       "           0.26426,     0.26527,     0.26627,     0.26727,     0.26827,     0.26927,     0.27027,     0.27127,     0.27227,     0.27327,     0.27427,     0.27528,     0.27628,     0.27728,     0.27828,     0.27928,     0.28028,     0.28128,     0.28228,     0.28328,     0.28428,     0.28529,     0.28629,     0.28729,\n",
       "           0.28829,     0.28929,     0.29029,     0.29129,     0.29229,     0.29329,     0.29429,      0.2953,      0.2963,      0.2973,      0.2983,      0.2993,      0.3003,      0.3013,      0.3023,      0.3033,      0.3043,     0.30531,     0.30631,     0.30731,     0.30831,     0.30931,     0.31031,     0.31131,\n",
       "           0.31231,     0.31331,     0.31431,     0.31532,     0.31632,     0.31732,     0.31832,     0.31932,     0.32032,     0.32132,     0.32232,     0.32332,     0.32432,     0.32533,     0.32633,     0.32733,     0.32833,     0.32933,     0.33033,     0.33133,     0.33233,     0.33333,     0.33433,     0.33534,\n",
       "           0.33634,     0.33734,     0.33834,     0.33934,     0.34034,     0.34134,     0.34234,     0.34334,     0.34434,     0.34535,     0.34635,     0.34735,     0.34835,     0.34935,     0.35035,     0.35135,     0.35235,     0.35335,     0.35435,     0.35536,     0.35636,     0.35736,     0.35836,     0.35936,\n",
       "           0.36036,     0.36136,     0.36236,     0.36336,     0.36436,     0.36537,     0.36637,     0.36737,     0.36837,     0.36937,     0.37037,     0.37137,     0.37237,     0.37337,     0.37437,     0.37538,     0.37638,     0.37738,     0.37838,     0.37938,     0.38038,     0.38138,     0.38238,     0.38338,\n",
       "           0.38438,     0.38539,     0.38639,     0.38739,     0.38839,     0.38939,     0.39039,     0.39139,     0.39239,     0.39339,     0.39439,      0.3954,      0.3964,      0.3974,      0.3984,      0.3994,      0.4004,      0.4014,      0.4024,      0.4034,      0.4044,     0.40541,     0.40641,     0.40741,\n",
       "           0.40841,     0.40941,     0.41041,     0.41141,     0.41241,     0.41341,     0.41441,     0.41542,     0.41642,     0.41742,     0.41842,     0.41942,     0.42042,     0.42142,     0.42242,     0.42342,     0.42442,     0.42543,     0.42643,     0.42743,     0.42843,     0.42943,     0.43043,     0.43143,\n",
       "           0.43243,     0.43343,     0.43443,     0.43544,     0.43644,     0.43744,     0.43844,     0.43944,     0.44044,     0.44144,     0.44244,     0.44344,     0.44444,     0.44545,     0.44645,     0.44745,     0.44845,     0.44945,     0.45045,     0.45145,     0.45245,     0.45345,     0.45445,     0.45546,\n",
       "           0.45646,     0.45746,     0.45846,     0.45946,     0.46046,     0.46146,     0.46246,     0.46346,     0.46446,     0.46547,     0.46647,     0.46747,     0.46847,     0.46947,     0.47047,     0.47147,     0.47247,     0.47347,     0.47447,     0.47548,     0.47648,     0.47748,     0.47848,     0.47948,\n",
       "           0.48048,     0.48148,     0.48248,     0.48348,     0.48448,     0.48549,     0.48649,     0.48749,     0.48849,     0.48949,     0.49049,     0.49149,     0.49249,     0.49349,     0.49449,      0.4955,      0.4965,      0.4975,      0.4985,      0.4995,      0.5005,      0.5015,      0.5025,      0.5035,\n",
       "            0.5045,     0.50551,     0.50651,     0.50751,     0.50851,     0.50951,     0.51051,     0.51151,     0.51251,     0.51351,     0.51451,     0.51552,     0.51652,     0.51752,     0.51852,     0.51952,     0.52052,     0.52152,     0.52252,     0.52352,     0.52452,     0.52553,     0.52653,     0.52753,\n",
       "           0.52853,     0.52953,     0.53053,     0.53153,     0.53253,     0.53353,     0.53453,     0.53554,     0.53654,     0.53754,     0.53854,     0.53954,     0.54054,     0.54154,     0.54254,     0.54354,     0.54454,     0.54555,     0.54655,     0.54755,     0.54855,     0.54955,     0.55055,     0.55155,\n",
       "           0.55255,     0.55355,     0.55455,     0.55556,     0.55656,     0.55756,     0.55856,     0.55956,     0.56056,     0.56156,     0.56256,     0.56356,     0.56456,     0.56557,     0.56657,     0.56757,     0.56857,     0.56957,     0.57057,     0.57157,     0.57257,     0.57357,     0.57457,     0.57558,\n",
       "           0.57658,     0.57758,     0.57858,     0.57958,     0.58058,     0.58158,     0.58258,     0.58358,     0.58458,     0.58559,     0.58659,     0.58759,     0.58859,     0.58959,     0.59059,     0.59159,     0.59259,     0.59359,     0.59459,      0.5956,      0.5966,      0.5976,      0.5986,      0.5996,\n",
       "            0.6006,      0.6016,      0.6026,      0.6036,      0.6046,     0.60561,     0.60661,     0.60761,     0.60861,     0.60961,     0.61061,     0.61161,     0.61261,     0.61361,     0.61461,     0.61562,     0.61662,     0.61762,     0.61862,     0.61962,     0.62062,     0.62162,     0.62262,     0.62362,\n",
       "           0.62462,     0.62563,     0.62663,     0.62763,     0.62863,     0.62963,     0.63063,     0.63163,     0.63263,     0.63363,     0.63463,     0.63564,     0.63664,     0.63764,     0.63864,     0.63964,     0.64064,     0.64164,     0.64264,     0.64364,     0.64464,     0.64565,     0.64665,     0.64765,\n",
       "           0.64865,     0.64965,     0.65065,     0.65165,     0.65265,     0.65365,     0.65465,     0.65566,     0.65666,     0.65766,     0.65866,     0.65966,     0.66066,     0.66166,     0.66266,     0.66366,     0.66466,     0.66567,     0.66667,     0.66767,     0.66867,     0.66967,     0.67067,     0.67167,\n",
       "           0.67267,     0.67367,     0.67467,     0.67568,     0.67668,     0.67768,     0.67868,     0.67968,     0.68068,     0.68168,     0.68268,     0.68368,     0.68468,     0.68569,     0.68669,     0.68769,     0.68869,     0.68969,     0.69069,     0.69169,     0.69269,     0.69369,     0.69469,      0.6957,\n",
       "            0.6967,      0.6977,      0.6987,      0.6997,      0.7007,      0.7017,      0.7027,      0.7037,      0.7047,     0.70571,     0.70671,     0.70771,     0.70871,     0.70971,     0.71071,     0.71171,     0.71271,     0.71371,     0.71471,     0.71572,     0.71672,     0.71772,     0.71872,     0.71972,\n",
       "           0.72072,     0.72172,     0.72272,     0.72372,     0.72472,     0.72573,     0.72673,     0.72773,     0.72873,     0.72973,     0.73073,     0.73173,     0.73273,     0.73373,     0.73473,     0.73574,     0.73674,     0.73774,     0.73874,     0.73974,     0.74074,     0.74174,     0.74274,     0.74374,\n",
       "           0.74474,     0.74575,     0.74675,     0.74775,     0.74875,     0.74975,     0.75075,     0.75175,     0.75275,     0.75375,     0.75475,     0.75576,     0.75676,     0.75776,     0.75876,     0.75976,     0.76076,     0.76176,     0.76276,     0.76376,     0.76476,     0.76577,     0.76677,     0.76777,\n",
       "           0.76877,     0.76977,     0.77077,     0.77177,     0.77277,     0.77377,     0.77477,     0.77578,     0.77678,     0.77778,     0.77878,     0.77978,     0.78078,     0.78178,     0.78278,     0.78378,     0.78478,     0.78579,     0.78679,     0.78779,     0.78879,     0.78979,     0.79079,     0.79179,\n",
       "           0.79279,     0.79379,     0.79479,      0.7958,      0.7968,      0.7978,      0.7988,      0.7998,      0.8008,      0.8018,      0.8028,      0.8038,      0.8048,     0.80581,     0.80681,     0.80781,     0.80881,     0.80981,     0.81081,     0.81181,     0.81281,     0.81381,     0.81481,     0.81582,\n",
       "           0.81682,     0.81782,     0.81882,     0.81982,     0.82082,     0.82182,     0.82282,     0.82382,     0.82482,     0.82583,     0.82683,     0.82783,     0.82883,     0.82983,     0.83083,     0.83183,     0.83283,     0.83383,     0.83483,     0.83584,     0.83684,     0.83784,     0.83884,     0.83984,\n",
       "           0.84084,     0.84184,     0.84284,     0.84384,     0.84484,     0.84585,     0.84685,     0.84785,     0.84885,     0.84985,     0.85085,     0.85185,     0.85285,     0.85385,     0.85485,     0.85586,     0.85686,     0.85786,     0.85886,     0.85986,     0.86086,     0.86186,     0.86286,     0.86386,\n",
       "           0.86486,     0.86587,     0.86687,     0.86787,     0.86887,     0.86987,     0.87087,     0.87187,     0.87287,     0.87387,     0.87487,     0.87588,     0.87688,     0.87788,     0.87888,     0.87988,     0.88088,     0.88188,     0.88288,     0.88388,     0.88488,     0.88589,     0.88689,     0.88789,\n",
       "           0.88889,     0.88989,     0.89089,     0.89189,     0.89289,     0.89389,     0.89489,      0.8959,      0.8969,      0.8979,      0.8989,      0.8999,      0.9009,      0.9019,      0.9029,      0.9039,      0.9049,     0.90591,     0.90691,     0.90791,     0.90891,     0.90991,     0.91091,     0.91191,\n",
       "           0.91291,     0.91391,     0.91491,     0.91592,     0.91692,     0.91792,     0.91892,     0.91992,     0.92092,     0.92192,     0.92292,     0.92392,     0.92492,     0.92593,     0.92693,     0.92793,     0.92893,     0.92993,     0.93093,     0.93193,     0.93293,     0.93393,     0.93493,     0.93594,\n",
       "           0.93694,     0.93794,     0.93894,     0.93994,     0.94094,     0.94194,     0.94294,     0.94394,     0.94494,     0.94595,     0.94695,     0.94795,     0.94895,     0.94995,     0.95095,     0.95195,     0.95295,     0.95395,     0.95495,     0.95596,     0.95696,     0.95796,     0.95896,     0.95996,\n",
       "           0.96096,     0.96196,     0.96296,     0.96396,     0.96496,     0.96597,     0.96697,     0.96797,     0.96897,     0.96997,     0.97097,     0.97197,     0.97297,     0.97397,     0.97497,     0.97598,     0.97698,     0.97798,     0.97898,     0.97998,     0.98098,     0.98198,     0.98298,     0.98398,\n",
       "           0.98498,     0.98599,     0.98699,     0.98799,     0.98899,     0.98999,     0.99099,     0.99199,     0.99299,     0.99399,     0.99499,       0.996,       0.997,       0.998,       0.999,           1]), array([[    0.35843,     0.35843,     0.44456,     0.49477,     0.53254,     0.55833,     0.58046,     0.60156,     0.61788,     0.63331,     0.64539,     0.65653,     0.66714,     0.67668,       0.686,     0.69553,     0.70361,     0.71237,     0.71705,     0.72346,     0.72801,     0.73342,     0.73897,\n",
       "            0.74477,     0.74992,      0.7546,     0.75815,     0.76067,     0.76461,       0.769,     0.77425,     0.77773,     0.78143,      0.7843,      0.7863,     0.78989,     0.79121,     0.79363,     0.79681,     0.79935,     0.80104,     0.80294,      0.8051,     0.80748,     0.81054,      0.8122,\n",
       "            0.81463,     0.81613,     0.81742,     0.81807,     0.81946,     0.82176,     0.82371,     0.82566,     0.82727,      0.8283,     0.83016,     0.83272,     0.83418,     0.83462,     0.83576,     0.83726,     0.83897,     0.84024,     0.84097,     0.84178,     0.84269,     0.84377,     0.84466,\n",
       "            0.84522,     0.84603,     0.84744,     0.84804,     0.84835,     0.85089,     0.85277,     0.85362,     0.85502,     0.85636,     0.85747,     0.85866,      0.8596,     0.86036,     0.86144,     0.86215,     0.86293,       0.864,     0.86441,     0.86571,     0.86653,     0.86669,       0.868,\n",
       "            0.86875,     0.86996,     0.87041,     0.87192,     0.87268,     0.87286,     0.87326,     0.87368,     0.87384,     0.87448,     0.87526,      0.8764,     0.87688,     0.87775,     0.87808,     0.87909,     0.87976,     0.88049,     0.88092,     0.88183,     0.88288,     0.88361,     0.88438,\n",
       "            0.88466,     0.88617,     0.88648,     0.88673,     0.88845,     0.88879,     0.88919,     0.88975,     0.88996,     0.89013,     0.89037,     0.89084,     0.89142,     0.89203,     0.89257,     0.89347,     0.89422,     0.89477,     0.89516,     0.89567,     0.89665,     0.89686,     0.89787,\n",
       "            0.89802,     0.89822,     0.89934,     0.89975,     0.89987,     0.89999,     0.90039,     0.90067,      0.9011,     0.90109,     0.90128,     0.90182,     0.90231,     0.90257,     0.90342,     0.90367,     0.90378,     0.90389,     0.90415,     0.90517,     0.90588,     0.90618,     0.90646,\n",
       "            0.90732,      0.9073,     0.90729,     0.90822,      0.9088,     0.90924,      0.9096,     0.90974,     0.90987,     0.90985,     0.90983,     0.91013,      0.9105,      0.9109,     0.91104,     0.91111,     0.91118,     0.91125,     0.91127,     0.91161,     0.91231,     0.91251,     0.91267,\n",
       "            0.91327,     0.91327,     0.91326,     0.91326,     0.91398,     0.91444,     0.91451,     0.91458,     0.91465,     0.91484,     0.91549,     0.91628,     0.91655,     0.91672,     0.91687,     0.91702,     0.91704,     0.91702,     0.91768,     0.91825,     0.91874,      0.9189,     0.91934,\n",
       "             0.9198,     0.91993,     0.92074,      0.9215,     0.92159,     0.92167,     0.92176,     0.92277,     0.92327,     0.92325,     0.92385,     0.92389,     0.92423,     0.92455,     0.92481,     0.92516,     0.92537,     0.92549,     0.92562,     0.92563,     0.92598,      0.9261,     0.92623,\n",
       "            0.92669,     0.92687,     0.92698,     0.92708,     0.92729,     0.92755,     0.92778,     0.92815,      0.9283,     0.92861,     0.92874,     0.92883,     0.92891,     0.92897,     0.92895,     0.92904,     0.92914,     0.92925,     0.92991,     0.93014,     0.93059,     0.93072,     0.93101,\n",
       "            0.93168,      0.9317,      0.9318,     0.93191,     0.93245,     0.93273,     0.93292,     0.93306,      0.9332,     0.93328,     0.93336,     0.93344,     0.93353,     0.93367,     0.93381,     0.93413,     0.93411,     0.93421,     0.93443,     0.93509,     0.93527,     0.93534,     0.93533,\n",
       "             0.9354,     0.93558,     0.93578,     0.93604,     0.93635,     0.93653,     0.93702,     0.93716,     0.93715,     0.93741,     0.93745,     0.93751,      0.9377,     0.93776,      0.9378,     0.93784,     0.93789,     0.93793,     0.93797,     0.93802,     0.93821,     0.93872,     0.93879,\n",
       "            0.93887,     0.93894,     0.93897,     0.93921,     0.93956,     0.93955,     0.93954,     0.93952,     0.93952,     0.93951,     0.93952,      0.9396,     0.93967,     0.93975,     0.93982,     0.93991,     0.94078,     0.94087,     0.94096,     0.94105,     0.94137,     0.94137,     0.94143,\n",
       "            0.94149,     0.94155,     0.94162,     0.94201,     0.94219,     0.94248,     0.94306,     0.94325,     0.94355,     0.94396,     0.94418,     0.94417,     0.94417,     0.94416,     0.94415,     0.94442,     0.94443,     0.94455,     0.94467,     0.94482,     0.94501,     0.94568,     0.94567,\n",
       "            0.94567,     0.94579,     0.94617,     0.94661,     0.94674,     0.94692,     0.94692,     0.94692,     0.94692,     0.94691,     0.94691,     0.94691,      0.9469,     0.94689,     0.94705,     0.94719,     0.94726,     0.94755,     0.94774,     0.94791,     0.94808,      0.9482,     0.94831,\n",
       "            0.94843,     0.94876,     0.94895,     0.94918,      0.9494,     0.94953,     0.95035,     0.95034,     0.95065,     0.95125,     0.95136,     0.95145,     0.95154,     0.95169,     0.95225,     0.95234,     0.95256,     0.95255,     0.95255,     0.95277,      0.9531,     0.95318,     0.95349,\n",
       "            0.95381,      0.9538,      0.9538,     0.95379,     0.95379,     0.95378,     0.95376,     0.95376,     0.95375,     0.95375,     0.95374,       0.954,     0.95434,     0.95467,     0.95471,     0.95471,      0.9547,     0.95479,     0.95487,     0.95495,     0.95504,     0.95516,     0.95527,\n",
       "            0.95541,      0.9556,     0.95589,     0.95622,     0.95656,     0.95665,     0.95664,     0.95696,     0.95696,     0.95769,     0.95778,     0.95787,     0.95794,     0.95793,     0.95799,     0.95825,     0.95834,     0.95842,     0.95851,      0.9586,     0.95873,     0.95885,     0.95889,\n",
       "            0.95893,     0.95899,     0.95906,     0.95913,      0.9592,     0.95921,     0.95921,      0.9592,      0.9592,      0.9592,     0.95952,     0.95952,     0.95962,     0.95974,     0.95986,      0.9602,     0.96054,     0.96089,     0.96117,     0.96123,      0.9614,     0.96148,     0.96148,\n",
       "            0.96186,     0.96198,     0.96209,     0.96254,     0.96265,     0.96277,     0.96281,      0.9628,      0.9628,     0.96279,     0.96279,     0.96278,     0.96339,     0.96355,     0.96366,     0.96378,     0.96443,     0.96477,     0.96478,     0.96477,     0.96476,     0.96577,     0.96577,\n",
       "            0.96576,     0.96576,     0.96579,     0.96608,     0.96608,     0.96608,     0.96607,     0.96606,     0.96605,     0.96609,     0.96626,     0.96644,     0.96661,     0.96671,      0.9667,     0.96669,     0.96668,     0.96668,     0.96668,     0.96667,     0.96666,     0.96665,     0.96672,\n",
       "            0.96683,     0.96695,     0.96698,     0.96697,     0.96697,     0.96696,     0.96695,     0.96695,     0.96693,     0.96691,      0.9669,     0.96723,     0.96739,     0.96757,     0.96764,     0.96771,     0.96778,     0.96785,     0.96791,       0.968,     0.96809,     0.96817,     0.96824,\n",
       "            0.96823,     0.96822,     0.96822,     0.96832,     0.96855,     0.96855,     0.96854,     0.96901,      0.9692,     0.96925,     0.96936,     0.96948,     0.96953,     0.96953,     0.96952,     0.96951,     0.96971,     0.96995,     0.97013,     0.97015,     0.97014,      0.9704,     0.97048,\n",
       "            0.97046,     0.97059,     0.97076,     0.97108,     0.97111,     0.97144,     0.97143,     0.97142,     0.97142,     0.97141,      0.9714,     0.97139,     0.97139,     0.97139,     0.97136,     0.97136,     0.97132,     0.97132,     0.97165,     0.97165,     0.97164,     0.97198,     0.97196,\n",
       "            0.97195,     0.97211,     0.97229,     0.97225,     0.97224,     0.97222,     0.97221,     0.97221,      0.9722,     0.97219,     0.97216,     0.97214,     0.97211,      0.9721,     0.97209,     0.97208,     0.97271,     0.97277,     0.97291,     0.97309,     0.97309,     0.97343,     0.97342,\n",
       "            0.97341,     0.97339,     0.97373,     0.97372,      0.9737,      0.9737,      0.9737,     0.97392,     0.97404,     0.97403,     0.97401,     0.97433,     0.97431,     0.97466,     0.97465,     0.97475,     0.97497,     0.97493,     0.97491,     0.97487,     0.97521,     0.97555,     0.97554,\n",
       "            0.97553,     0.97551,     0.97585,     0.97619,     0.97618,     0.97617,     0.97676,     0.97687,     0.97687,     0.97685,     0.97684,     0.97684,     0.97717,     0.97715,     0.97749,     0.97747,     0.97744,     0.97741,     0.97739,     0.97738,     0.97737,     0.97774,     0.97779,\n",
       "            0.97808,     0.97807,     0.97805,     0.97804,     0.97802,     0.97844,     0.97882,     0.97909,     0.97921,     0.97944,     0.97943,     0.97941,      0.9794,     0.97939,     0.97938,     0.97937,     0.97935,     0.97935,     0.97932,      0.9793,     0.97929,     0.97925,     0.97924,\n",
       "             0.9792,     0.97919,     0.97918,     0.97915,     0.97914,     0.97911,      0.9791,     0.97909,     0.97941,     0.97943,      0.9794,     0.97937,     0.97935,      0.9797,     0.97969,     0.98005,      0.9805,     0.98079,      0.9814,     0.98178,     0.98191,     0.98227,     0.98222,\n",
       "            0.98222,     0.98221,     0.98221,     0.98219,     0.98215,     0.98214,     0.98213,     0.98212,     0.98209,     0.98208,     0.98242,     0.98241,     0.98239,     0.98238,     0.98237,     0.98234,     0.98233,     0.98232,     0.98229,     0.98227,     0.98223,     0.98221,     0.98217,\n",
       "            0.98215,     0.98213,      0.9821,     0.98209,     0.98208,     0.98206,     0.98241,     0.98238,     0.98274,     0.98272,     0.98271,      0.9827,     0.98275,     0.98321,     0.98345,     0.98379,     0.98375,     0.98369,     0.98398,     0.98404,     0.98432,     0.98443,     0.98442,\n",
       "            0.98479,     0.98478,     0.98477,     0.98472,     0.98469,      0.9847,     0.98505,     0.98504,     0.98544,     0.98542,     0.98539,     0.98579,     0.98576,     0.98615,     0.98625,     0.98652,     0.98651,     0.98647,     0.98646,     0.98642,      0.9868,     0.98676,     0.98673,\n",
       "            0.98668,     0.98665,     0.98665,     0.98658,     0.98655,     0.98648,     0.98647,     0.98643,     0.98684,     0.98679,     0.98765,     0.98764,     0.98762,     0.98758,     0.98756,     0.98751,     0.98748,     0.98745,     0.98738,     0.98737,     0.98734,     0.98729,     0.98726,\n",
       "            0.98718,     0.98715,     0.98707,     0.98704,     0.98695,     0.98694,     0.98686,      0.9868,     0.98675,     0.98675,     0.98669,     0.98665,     0.98658,     0.98657,     0.98649,     0.98639,     0.98634,     0.98626,     0.98667,     0.98655,     0.98649,     0.98743,     0.98738,\n",
       "            0.98728,     0.98723,     0.98718,     0.98708,       0.987,     0.98687,     0.98678,     0.98674,     0.98721,     0.98714,     0.98707,     0.98695,     0.98684,     0.98683,     0.98673,     0.98657,     0.98653,     0.98697,     0.98684,     0.98679,     0.98728,     0.98776,     0.98757,\n",
       "            0.98747,     0.98734,      0.9872,     0.98709,     0.98698,     0.98687,     0.98674,     0.98662,     0.98852,     0.98837,     0.98829,      0.9882,     0.98801,     0.98787,     0.98765,     0.98746,     0.98738,     0.98721,     0.98716,     0.98778,     0.98911,     0.98897,     0.98887,\n",
       "            0.98947,     0.98935,     0.99093,     0.99082,     0.99066,     0.99049,     0.99038,     0.99025,     0.99006,     0.99063,     0.99136,     0.99122,     0.99107,     0.99092,      0.9908,     0.99069,     0.99054,     0.99245,     0.99238,     0.99221,     0.99211,     0.99192,     0.99181,\n",
       "            0.99288,     0.99274,     0.99256,     0.99249,     0.99239,     0.99349,     0.99333,     0.99722,     0.99716,      0.9971,     0.99851,     0.99848,           1,           1,           1,           1,           1,           1,           1,           1,           1,           1,           1,\n",
       "                  1,           1,           1,           1,           1,           1,           1,           1,           1,           1,           1,           1,           1,           1,           1,           1,           1,           1,           1,           1,           1,           1,           1,\n",
       "                  1,           1,           1,           1,           1,           1,           1,           1,           1,           1,           1,           1,           1,           1,           1,           1,           1,           1,           1,           1,           1,           1,           1,\n",
       "                  1,           1,           1,           1,           1,           1,           1,           1,           1,           1,           1,           1,           1,           1,           1,           1,           1,           1,           1,           1,           1,           1,           1,\n",
       "                  1,           1,           1,           1,           1,           1,           1,           1,           1,           1,           1,           1,           1,           1,           1,           1,           1,           1,           1,           1,           1,           1,           1,\n",
       "                  1,           1,           1,           1,           1,           1,           1,           1,           1,           1,           1]]), 'Confidence', 'Precision'], [array([          0,    0.001001,    0.002002,    0.003003,    0.004004,    0.005005,    0.006006,    0.007007,    0.008008,    0.009009,     0.01001,    0.011011,    0.012012,    0.013013,    0.014014,    0.015015,    0.016016,    0.017017,    0.018018,    0.019019,     0.02002,    0.021021,    0.022022,    0.023023,\n",
       "          0.024024,    0.025025,    0.026026,    0.027027,    0.028028,    0.029029,     0.03003,    0.031031,    0.032032,    0.033033,    0.034034,    0.035035,    0.036036,    0.037037,    0.038038,    0.039039,     0.04004,    0.041041,    0.042042,    0.043043,    0.044044,    0.045045,    0.046046,    0.047047,\n",
       "          0.048048,    0.049049,     0.05005,    0.051051,    0.052052,    0.053053,    0.054054,    0.055055,    0.056056,    0.057057,    0.058058,    0.059059,     0.06006,    0.061061,    0.062062,    0.063063,    0.064064,    0.065065,    0.066066,    0.067067,    0.068068,    0.069069,     0.07007,    0.071071,\n",
       "          0.072072,    0.073073,    0.074074,    0.075075,    0.076076,    0.077077,    0.078078,    0.079079,     0.08008,    0.081081,    0.082082,    0.083083,    0.084084,    0.085085,    0.086086,    0.087087,    0.088088,    0.089089,     0.09009,    0.091091,    0.092092,    0.093093,    0.094094,    0.095095,\n",
       "          0.096096,    0.097097,    0.098098,    0.099099,      0.1001,      0.1011,      0.1021,      0.1031,      0.1041,     0.10511,     0.10611,     0.10711,     0.10811,     0.10911,     0.11011,     0.11111,     0.11211,     0.11311,     0.11411,     0.11512,     0.11612,     0.11712,     0.11812,     0.11912,\n",
       "           0.12012,     0.12112,     0.12212,     0.12312,     0.12412,     0.12513,     0.12613,     0.12713,     0.12813,     0.12913,     0.13013,     0.13113,     0.13213,     0.13313,     0.13413,     0.13514,     0.13614,     0.13714,     0.13814,     0.13914,     0.14014,     0.14114,     0.14214,     0.14314,\n",
       "           0.14414,     0.14515,     0.14615,     0.14715,     0.14815,     0.14915,     0.15015,     0.15115,     0.15215,     0.15315,     0.15415,     0.15516,     0.15616,     0.15716,     0.15816,     0.15916,     0.16016,     0.16116,     0.16216,     0.16316,     0.16416,     0.16517,     0.16617,     0.16717,\n",
       "           0.16817,     0.16917,     0.17017,     0.17117,     0.17217,     0.17317,     0.17417,     0.17518,     0.17618,     0.17718,     0.17818,     0.17918,     0.18018,     0.18118,     0.18218,     0.18318,     0.18418,     0.18519,     0.18619,     0.18719,     0.18819,     0.18919,     0.19019,     0.19119,\n",
       "           0.19219,     0.19319,     0.19419,      0.1952,      0.1962,      0.1972,      0.1982,      0.1992,      0.2002,      0.2012,      0.2022,      0.2032,      0.2042,     0.20521,     0.20621,     0.20721,     0.20821,     0.20921,     0.21021,     0.21121,     0.21221,     0.21321,     0.21421,     0.21522,\n",
       "           0.21622,     0.21722,     0.21822,     0.21922,     0.22022,     0.22122,     0.22222,     0.22322,     0.22422,     0.22523,     0.22623,     0.22723,     0.22823,     0.22923,     0.23023,     0.23123,     0.23223,     0.23323,     0.23423,     0.23524,     0.23624,     0.23724,     0.23824,     0.23924,\n",
       "           0.24024,     0.24124,     0.24224,     0.24324,     0.24424,     0.24525,     0.24625,     0.24725,     0.24825,     0.24925,     0.25025,     0.25125,     0.25225,     0.25325,     0.25425,     0.25526,     0.25626,     0.25726,     0.25826,     0.25926,     0.26026,     0.26126,     0.26226,     0.26326,\n",
       "           0.26426,     0.26527,     0.26627,     0.26727,     0.26827,     0.26927,     0.27027,     0.27127,     0.27227,     0.27327,     0.27427,     0.27528,     0.27628,     0.27728,     0.27828,     0.27928,     0.28028,     0.28128,     0.28228,     0.28328,     0.28428,     0.28529,     0.28629,     0.28729,\n",
       "           0.28829,     0.28929,     0.29029,     0.29129,     0.29229,     0.29329,     0.29429,      0.2953,      0.2963,      0.2973,      0.2983,      0.2993,      0.3003,      0.3013,      0.3023,      0.3033,      0.3043,     0.30531,     0.30631,     0.30731,     0.30831,     0.30931,     0.31031,     0.31131,\n",
       "           0.31231,     0.31331,     0.31431,     0.31532,     0.31632,     0.31732,     0.31832,     0.31932,     0.32032,     0.32132,     0.32232,     0.32332,     0.32432,     0.32533,     0.32633,     0.32733,     0.32833,     0.32933,     0.33033,     0.33133,     0.33233,     0.33333,     0.33433,     0.33534,\n",
       "           0.33634,     0.33734,     0.33834,     0.33934,     0.34034,     0.34134,     0.34234,     0.34334,     0.34434,     0.34535,     0.34635,     0.34735,     0.34835,     0.34935,     0.35035,     0.35135,     0.35235,     0.35335,     0.35435,     0.35536,     0.35636,     0.35736,     0.35836,     0.35936,\n",
       "           0.36036,     0.36136,     0.36236,     0.36336,     0.36436,     0.36537,     0.36637,     0.36737,     0.36837,     0.36937,     0.37037,     0.37137,     0.37237,     0.37337,     0.37437,     0.37538,     0.37638,     0.37738,     0.37838,     0.37938,     0.38038,     0.38138,     0.38238,     0.38338,\n",
       "           0.38438,     0.38539,     0.38639,     0.38739,     0.38839,     0.38939,     0.39039,     0.39139,     0.39239,     0.39339,     0.39439,      0.3954,      0.3964,      0.3974,      0.3984,      0.3994,      0.4004,      0.4014,      0.4024,      0.4034,      0.4044,     0.40541,     0.40641,     0.40741,\n",
       "           0.40841,     0.40941,     0.41041,     0.41141,     0.41241,     0.41341,     0.41441,     0.41542,     0.41642,     0.41742,     0.41842,     0.41942,     0.42042,     0.42142,     0.42242,     0.42342,     0.42442,     0.42543,     0.42643,     0.42743,     0.42843,     0.42943,     0.43043,     0.43143,\n",
       "           0.43243,     0.43343,     0.43443,     0.43544,     0.43644,     0.43744,     0.43844,     0.43944,     0.44044,     0.44144,     0.44244,     0.44344,     0.44444,     0.44545,     0.44645,     0.44745,     0.44845,     0.44945,     0.45045,     0.45145,     0.45245,     0.45345,     0.45445,     0.45546,\n",
       "           0.45646,     0.45746,     0.45846,     0.45946,     0.46046,     0.46146,     0.46246,     0.46346,     0.46446,     0.46547,     0.46647,     0.46747,     0.46847,     0.46947,     0.47047,     0.47147,     0.47247,     0.47347,     0.47447,     0.47548,     0.47648,     0.47748,     0.47848,     0.47948,\n",
       "           0.48048,     0.48148,     0.48248,     0.48348,     0.48448,     0.48549,     0.48649,     0.48749,     0.48849,     0.48949,     0.49049,     0.49149,     0.49249,     0.49349,     0.49449,      0.4955,      0.4965,      0.4975,      0.4985,      0.4995,      0.5005,      0.5015,      0.5025,      0.5035,\n",
       "            0.5045,     0.50551,     0.50651,     0.50751,     0.50851,     0.50951,     0.51051,     0.51151,     0.51251,     0.51351,     0.51451,     0.51552,     0.51652,     0.51752,     0.51852,     0.51952,     0.52052,     0.52152,     0.52252,     0.52352,     0.52452,     0.52553,     0.52653,     0.52753,\n",
       "           0.52853,     0.52953,     0.53053,     0.53153,     0.53253,     0.53353,     0.53453,     0.53554,     0.53654,     0.53754,     0.53854,     0.53954,     0.54054,     0.54154,     0.54254,     0.54354,     0.54454,     0.54555,     0.54655,     0.54755,     0.54855,     0.54955,     0.55055,     0.55155,\n",
       "           0.55255,     0.55355,     0.55455,     0.55556,     0.55656,     0.55756,     0.55856,     0.55956,     0.56056,     0.56156,     0.56256,     0.56356,     0.56456,     0.56557,     0.56657,     0.56757,     0.56857,     0.56957,     0.57057,     0.57157,     0.57257,     0.57357,     0.57457,     0.57558,\n",
       "           0.57658,     0.57758,     0.57858,     0.57958,     0.58058,     0.58158,     0.58258,     0.58358,     0.58458,     0.58559,     0.58659,     0.58759,     0.58859,     0.58959,     0.59059,     0.59159,     0.59259,     0.59359,     0.59459,      0.5956,      0.5966,      0.5976,      0.5986,      0.5996,\n",
       "            0.6006,      0.6016,      0.6026,      0.6036,      0.6046,     0.60561,     0.60661,     0.60761,     0.60861,     0.60961,     0.61061,     0.61161,     0.61261,     0.61361,     0.61461,     0.61562,     0.61662,     0.61762,     0.61862,     0.61962,     0.62062,     0.62162,     0.62262,     0.62362,\n",
       "           0.62462,     0.62563,     0.62663,     0.62763,     0.62863,     0.62963,     0.63063,     0.63163,     0.63263,     0.63363,     0.63463,     0.63564,     0.63664,     0.63764,     0.63864,     0.63964,     0.64064,     0.64164,     0.64264,     0.64364,     0.64464,     0.64565,     0.64665,     0.64765,\n",
       "           0.64865,     0.64965,     0.65065,     0.65165,     0.65265,     0.65365,     0.65465,     0.65566,     0.65666,     0.65766,     0.65866,     0.65966,     0.66066,     0.66166,     0.66266,     0.66366,     0.66466,     0.66567,     0.66667,     0.66767,     0.66867,     0.66967,     0.67067,     0.67167,\n",
       "           0.67267,     0.67367,     0.67467,     0.67568,     0.67668,     0.67768,     0.67868,     0.67968,     0.68068,     0.68168,     0.68268,     0.68368,     0.68468,     0.68569,     0.68669,     0.68769,     0.68869,     0.68969,     0.69069,     0.69169,     0.69269,     0.69369,     0.69469,      0.6957,\n",
       "            0.6967,      0.6977,      0.6987,      0.6997,      0.7007,      0.7017,      0.7027,      0.7037,      0.7047,     0.70571,     0.70671,     0.70771,     0.70871,     0.70971,     0.71071,     0.71171,     0.71271,     0.71371,     0.71471,     0.71572,     0.71672,     0.71772,     0.71872,     0.71972,\n",
       "           0.72072,     0.72172,     0.72272,     0.72372,     0.72472,     0.72573,     0.72673,     0.72773,     0.72873,     0.72973,     0.73073,     0.73173,     0.73273,     0.73373,     0.73473,     0.73574,     0.73674,     0.73774,     0.73874,     0.73974,     0.74074,     0.74174,     0.74274,     0.74374,\n",
       "           0.74474,     0.74575,     0.74675,     0.74775,     0.74875,     0.74975,     0.75075,     0.75175,     0.75275,     0.75375,     0.75475,     0.75576,     0.75676,     0.75776,     0.75876,     0.75976,     0.76076,     0.76176,     0.76276,     0.76376,     0.76476,     0.76577,     0.76677,     0.76777,\n",
       "           0.76877,     0.76977,     0.77077,     0.77177,     0.77277,     0.77377,     0.77477,     0.77578,     0.77678,     0.77778,     0.77878,     0.77978,     0.78078,     0.78178,     0.78278,     0.78378,     0.78478,     0.78579,     0.78679,     0.78779,     0.78879,     0.78979,     0.79079,     0.79179,\n",
       "           0.79279,     0.79379,     0.79479,      0.7958,      0.7968,      0.7978,      0.7988,      0.7998,      0.8008,      0.8018,      0.8028,      0.8038,      0.8048,     0.80581,     0.80681,     0.80781,     0.80881,     0.80981,     0.81081,     0.81181,     0.81281,     0.81381,     0.81481,     0.81582,\n",
       "           0.81682,     0.81782,     0.81882,     0.81982,     0.82082,     0.82182,     0.82282,     0.82382,     0.82482,     0.82583,     0.82683,     0.82783,     0.82883,     0.82983,     0.83083,     0.83183,     0.83283,     0.83383,     0.83483,     0.83584,     0.83684,     0.83784,     0.83884,     0.83984,\n",
       "           0.84084,     0.84184,     0.84284,     0.84384,     0.84484,     0.84585,     0.84685,     0.84785,     0.84885,     0.84985,     0.85085,     0.85185,     0.85285,     0.85385,     0.85485,     0.85586,     0.85686,     0.85786,     0.85886,     0.85986,     0.86086,     0.86186,     0.86286,     0.86386,\n",
       "           0.86486,     0.86587,     0.86687,     0.86787,     0.86887,     0.86987,     0.87087,     0.87187,     0.87287,     0.87387,     0.87487,     0.87588,     0.87688,     0.87788,     0.87888,     0.87988,     0.88088,     0.88188,     0.88288,     0.88388,     0.88488,     0.88589,     0.88689,     0.88789,\n",
       "           0.88889,     0.88989,     0.89089,     0.89189,     0.89289,     0.89389,     0.89489,      0.8959,      0.8969,      0.8979,      0.8989,      0.8999,      0.9009,      0.9019,      0.9029,      0.9039,      0.9049,     0.90591,     0.90691,     0.90791,     0.90891,     0.90991,     0.91091,     0.91191,\n",
       "           0.91291,     0.91391,     0.91491,     0.91592,     0.91692,     0.91792,     0.91892,     0.91992,     0.92092,     0.92192,     0.92292,     0.92392,     0.92492,     0.92593,     0.92693,     0.92793,     0.92893,     0.92993,     0.93093,     0.93193,     0.93293,     0.93393,     0.93493,     0.93594,\n",
       "           0.93694,     0.93794,     0.93894,     0.93994,     0.94094,     0.94194,     0.94294,     0.94394,     0.94494,     0.94595,     0.94695,     0.94795,     0.94895,     0.94995,     0.95095,     0.95195,     0.95295,     0.95395,     0.95495,     0.95596,     0.95696,     0.95796,     0.95896,     0.95996,\n",
       "           0.96096,     0.96196,     0.96296,     0.96396,     0.96496,     0.96597,     0.96697,     0.96797,     0.96897,     0.96997,     0.97097,     0.97197,     0.97297,     0.97397,     0.97497,     0.97598,     0.97698,     0.97798,     0.97898,     0.97998,     0.98098,     0.98198,     0.98298,     0.98398,\n",
       "           0.98498,     0.98599,     0.98699,     0.98799,     0.98899,     0.98999,     0.99099,     0.99199,     0.99299,     0.99399,     0.99499,       0.996,       0.997,       0.998,       0.999,           1]), array([[    0.98738,     0.98738,     0.98602,     0.98568,     0.98499,     0.98465,     0.98431,     0.98363,     0.98329,     0.98329,     0.98261,     0.98226,     0.98158,     0.98158,     0.98124,      0.9809,     0.98056,     0.98022,     0.98022,     0.97971,     0.97954,      0.9792,      0.9792,\n",
       "            0.97885,     0.97885,     0.97885,     0.97851,     0.97851,     0.97851,     0.97817,     0.97817,     0.97817,     0.97817,     0.97817,     0.97817,     0.97783,     0.97783,     0.97783,     0.97749,     0.97749,     0.97749,     0.97749,     0.97715,     0.97681,     0.97681,     0.97681,\n",
       "            0.97681,     0.97681,     0.97681,     0.97681,     0.97681,     0.97681,     0.97681,     0.97647,     0.97647,     0.97647,     0.97647,     0.97647,     0.97647,     0.97613,     0.97613,     0.97613,     0.97613,     0.97578,     0.97578,     0.97578,     0.97578,     0.97544,     0.97544,\n",
       "            0.97544,     0.97544,     0.97544,     0.97544,     0.97544,     0.97544,     0.97544,      0.9751,      0.9751,      0.9751,      0.9751,      0.9751,      0.9751,      0.9751,      0.9751,     0.97476,     0.97476,     0.97476,     0.97476,     0.97476,      0.9743,      0.9734,     0.97338,\n",
       "            0.97237,     0.97237,     0.97237,     0.97237,     0.97237,     0.97237,     0.97203,      0.9719,     0.97169,     0.97169,     0.97169,     0.97169,     0.97169,     0.97135,     0.97135,     0.97135,     0.97135,     0.97135,     0.97135,     0.97135,     0.97135,     0.97135,     0.97135,\n",
       "            0.97135,     0.97135,     0.97135,     0.97101,     0.97101,     0.97101,     0.97067,     0.97067,     0.97067,     0.97067,     0.97067,     0.97067,     0.97067,     0.97067,     0.97067,     0.97067,     0.97033,     0.97033,     0.97033,     0.97033,     0.97033,     0.97033,     0.97033,\n",
       "             0.9701,     0.96999,     0.96999,     0.96999,     0.96999,     0.96999,     0.96999,     0.96999,     0.96957,      0.9693,      0.9693,      0.9693,      0.9693,      0.9693,      0.9693,      0.9693,      0.9693,      0.9693,      0.9693,     0.96896,     0.96896,     0.96862,     0.96836,\n",
       "            0.96826,     0.96812,     0.96798,     0.96794,     0.96794,     0.96794,     0.96772,      0.9676,     0.96752,     0.96729,     0.96698,     0.96692,     0.96692,     0.96692,     0.96692,     0.96692,     0.96692,     0.96692,     0.96673,     0.96658,     0.96658,     0.96623,     0.96623,\n",
       "            0.96623,     0.96613,     0.96602,     0.96591,     0.96555,     0.96521,     0.96521,     0.96521,     0.96521,     0.96521,     0.96521,     0.96521,     0.96521,     0.96521,     0.96521,     0.96521,     0.96509,     0.96495,     0.96487,     0.96487,     0.96487,     0.96453,     0.96453,\n",
       "            0.96453,     0.96453,     0.96453,     0.96453,     0.96453,     0.96453,     0.96453,     0.96453,     0.96447,     0.96421,     0.96405,     0.96385,     0.96385,     0.96385,     0.96385,     0.96385,     0.96385,     0.96385,     0.96385,     0.96358,     0.96351,     0.96351,     0.96351,\n",
       "            0.96351,     0.96351,     0.96351,     0.96351,     0.96351,     0.96351,     0.96351,     0.96351,     0.96351,     0.96351,     0.96351,     0.96351,     0.96351,     0.96343,      0.9632,     0.96317,     0.96317,     0.96317,     0.96317,     0.96317,     0.96317,     0.96317,     0.96317,\n",
       "            0.96279,     0.96248,     0.96248,     0.96248,     0.96248,     0.96248,     0.96248,     0.96248,     0.96248,     0.96248,     0.96248,     0.96248,     0.96248,     0.96248,     0.96248,     0.96244,     0.96224,     0.96214,     0.96214,     0.96214,     0.96214,     0.96205,     0.96189,\n",
       "             0.9618,      0.9618,      0.9618,      0.9618,      0.9618,      0.9618,     0.96146,      0.9614,      0.9612,     0.96112,     0.96091,     0.96078,     0.96078,     0.96044,     0.96044,     0.96044,     0.96044,     0.96044,     0.96044,     0.96044,     0.96044,     0.96044,     0.96044,\n",
       "            0.96044,     0.96044,     0.96019,      0.9601,     0.95974,     0.95954,     0.95924,     0.95901,     0.95891,     0.95881,     0.95873,     0.95873,     0.95873,     0.95873,     0.95869,     0.95839,     0.95839,     0.95839,     0.95839,     0.95839,     0.95831,     0.95805,     0.95805,\n",
       "            0.95805,     0.95805,     0.95805,     0.95805,     0.95805,     0.95805,     0.95805,     0.95805,     0.95771,     0.95771,     0.95767,     0.95753,     0.95739,     0.95722,     0.95704,     0.95628,       0.956,       0.956,       0.956,       0.956,       0.956,     0.95599,     0.95587,\n",
       "            0.95574,     0.95566,     0.95566,     0.95542,     0.95532,     0.95532,     0.95527,     0.95521,     0.95516,     0.95511,     0.95505,       0.955,     0.95485,     0.95465,     0.95464,     0.95429,     0.95396,     0.95396,     0.95396,     0.95396,     0.95396,     0.95362,     0.95362,\n",
       "            0.95362,     0.95362,     0.95362,     0.95362,     0.95351,     0.95327,     0.95317,       0.953,     0.95271,     0.95225,     0.95225,     0.95225,     0.95225,     0.95225,     0.95215,     0.95191,     0.95187,     0.95174,     0.95161,     0.95157,     0.95157,     0.95132,     0.95089,\n",
       "            0.95087,     0.95054,     0.95047,     0.95039,     0.95032,     0.95025,     0.94981,      0.9497,     0.94958,     0.94942,     0.94922,     0.94918,     0.94918,     0.94918,     0.94907,     0.94894,      0.9485,      0.9485,      0.9485,      0.9485,      0.9485,      0.9485,      0.9485,\n",
       "             0.9485,      0.9485,      0.9485,      0.9485,      0.9485,     0.94837,      0.9482,     0.94802,     0.94785,     0.94782,     0.94782,     0.94782,     0.94776,     0.94741,     0.94714,     0.94679,     0.94679,     0.94679,     0.94679,     0.94679,     0.94679,     0.94679,     0.94657,\n",
       "            0.94645,     0.94645,     0.94645,     0.94645,     0.94645,      0.9464,     0.94633,     0.94626,     0.94619,     0.94612,     0.94595,     0.94578,     0.94577,     0.94577,     0.94577,     0.94577,     0.94577,     0.94577,     0.94564,     0.94543,     0.94543,     0.94501,     0.94484,\n",
       "            0.94475,     0.94475,     0.94475,     0.94475,     0.94475,     0.94475,     0.94467,     0.94456,     0.94444,     0.94432,     0.94421,     0.94409,     0.94407,     0.94407,     0.94407,     0.94407,     0.94407,     0.94407,     0.94374,     0.94339,     0.94304,     0.94304,     0.94292,\n",
       "            0.94281,     0.94266,     0.94236,     0.94235,     0.94226,     0.94217,     0.94208,     0.94163,     0.94146,       0.941,       0.941,       0.941,       0.941,     0.94086,     0.94051,     0.94026,     0.94014,     0.94003,     0.93988,     0.93971,     0.93943,     0.93908,     0.93895,\n",
       "            0.93895,     0.93895,     0.93883,     0.93865,     0.93848,      0.9383,     0.93813,     0.93795,     0.93729,     0.93694,     0.93659,     0.93624,     0.93622,     0.93622,     0.93622,     0.93622,     0.93622,     0.93622,     0.93588,     0.93588,     0.93588,     0.93588,     0.93581,\n",
       "             0.9355,     0.93532,      0.9351,     0.93486,     0.93482,      0.9347,     0.93459,     0.93417,     0.93368,     0.93349,     0.93349,     0.93349,      0.9334,     0.93323,     0.93295,      0.9326,     0.93213,     0.93213,     0.93213,      0.9312,     0.93085,     0.93076,     0.93049,\n",
       "            0.93015,      0.9294,      0.9294,     0.92906,     0.92875,     0.92823,     0.92788,     0.92753,     0.92727,     0.92709,     0.92662,     0.92654,     0.92645,     0.92636,     0.92553,     0.92536,     0.92416,     0.92399,     0.92351,      0.9234,     0.92328,     0.92297,     0.92228,\n",
       "            0.92193,      0.9219,      0.9219,      0.9202,     0.91985,     0.91899,     0.91882,     0.91858,     0.91839,     0.91821,      0.9169,     0.91621,     0.91552,     0.91517,     0.91461,     0.91443,     0.91439,     0.91377,     0.91337,     0.91337,     0.91283,     0.91221,     0.91186,\n",
       "            0.91151,     0.91082,     0.91021,     0.91004,     0.90921,      0.9091,     0.90898,     0.90894,     0.90871,     0.90819,      0.9075,     0.90613,     0.90543,     0.90513,     0.90496,     0.90382,     0.90335,     0.90198,     0.90115,     0.89975,     0.89906,     0.89803,     0.89768,\n",
       "             0.8975,     0.89664,     0.89594,     0.89493,     0.89469,     0.89404,     0.89325,     0.89312,     0.89295,      0.8923,     0.89195,      0.8917,      0.8904,     0.88971,     0.88868,     0.88765,     0.88647,     0.88541,     0.88472,     0.88404,     0.88386,     0.88367,     0.88336,\n",
       "            0.88246,     0.88211,     0.88142,     0.88107,     0.88012,     0.87858,     0.87858,     0.87848,     0.87824,     0.87733,     0.87692,     0.87589,     0.87554,      0.8753,     0.87467,     0.87432,     0.87363,     0.87328,     0.87197,     0.87139,     0.87104,     0.86898,     0.86858,\n",
       "            0.86687,     0.86669,     0.86639,     0.86485,      0.8645,     0.86313,     0.86266,     0.86226,     0.86153,     0.86053,     0.85933,      0.8583,     0.85727,     0.85607,     0.85537,     0.85468,     0.85437,     0.85313,     0.85232,     0.85164,     0.85148,     0.85054,     0.84806,\n",
       "            0.84775,     0.84758,     0.84727,      0.8464,     0.84469,     0.84421,      0.8433,     0.84312,     0.84159,      0.8409,     0.83867,     0.83798,     0.83727,     0.83677,     0.83608,     0.83488,     0.83419,     0.83377,     0.83229,     0.83126,     0.82938,     0.82834,     0.82686,\n",
       "            0.82577,     0.82474,     0.82319,      0.8227,     0.82233,     0.82129,     0.81907,      0.8177,     0.81581,     0.81441,     0.81402,     0.81384,      0.8131,     0.81207,     0.81047,     0.80722,     0.80517,     0.80234,     0.80048,     0.79935,     0.79911,     0.79779,      0.7971,\n",
       "            0.79488,     0.79438,     0.79367,     0.79144,     0.78956,      0.7882,     0.78664,     0.78595,     0.78475,     0.78367,     0.78217,     0.78063,     0.77918,     0.77737,     0.77626,     0.77367,     0.77325,     0.77069,     0.77021,     0.76811,     0.76472,     0.76264,     0.76075,\n",
       "            0.75785,     0.75647,     0.75595,     0.75236,     0.75028,     0.74655,     0.74615,     0.74397,     0.74175,     0.73894,     0.73627,     0.73583,     0.73472,     0.73216,     0.73101,     0.72805,      0.7262,     0.72445,     0.72071,        0.72,     0.71794,     0.71554,     0.71366,\n",
       "            0.70902,     0.70716,     0.70285,     0.70135,     0.69634,     0.69587,     0.69187,     0.68835,     0.68604,     0.68561,     0.68259,     0.68082,      0.6771,     0.67637,     0.67229,     0.66731,      0.6651,     0.66081,     0.65619,     0.65039,     0.64763,     0.64318,     0.64031,\n",
       "             0.6353,     0.63262,     0.63049,     0.62536,     0.62151,     0.61544,     0.61109,     0.60926,     0.60549,     0.60219,     0.59898,     0.59316,     0.58823,       0.588,     0.58322,     0.57605,     0.57466,     0.56851,     0.56269,      0.5605,     0.55584,     0.55036,     0.54188,\n",
       "            0.53737,     0.53189,     0.52608,     0.52163,     0.51711,     0.51272,     0.50759,     0.50314,     0.49937,     0.49269,     0.48945,     0.48568,     0.47782,     0.47234,      0.4638,     0.45662,     0.45353,     0.44743,     0.44565,      0.4412,     0.43368,     0.42821,      0.4241,\n",
       "            0.41658,     0.41179,     0.40972,     0.40493,     0.39775,     0.39057,     0.38612,     0.38099,     0.37381,     0.36049,     0.35229,     0.34647,     0.34066,     0.33484,     0.33073,     0.32662,     0.32149,     0.31363,     0.31088,     0.30404,     0.30028,      0.2931,     0.28899,\n",
       "            0.28522,     0.27974,      0.2729,      0.2705,     0.26673,     0.26023,     0.25408,     0.24451,     0.23938,     0.23493,     0.22911,     0.22466,     0.21373,     0.20791,     0.20449,     0.19833,     0.18945,     0.18261,     0.17952,     0.16961,      0.1655,     0.16208,     0.15572,\n",
       "            0.15351,     0.15077,     0.14461,     0.14016,     0.13537,     0.12887,      0.1251,     0.12134,     0.11723,     0.11471,     0.10935,     0.10694,     0.10147,    0.097017,    0.095636,    0.093683,     0.09185,     0.08774,    0.085336,    0.079179,    0.078121,    0.075053,    0.072989,\n",
       "           0.067182,    0.065452,    0.059977,    0.058596,    0.056533,    0.054128,    0.050018,    0.045908,    0.042481,    0.040076,    0.038695,    0.034585,    0.031498,    0.029776,    0.028054,    0.026638,    0.022562,    0.021181,    0.020141,    0.018418,    0.016355,    0.013626,    0.013251,\n",
       "           0.012211,   0.0098065,    0.008817,   0.0073849,   0.0060714,   0.0056455,   0.0046052,    0.003565,   0.0022512,   0.0020764,   0.0019637,   0.0018638,   0.0017639,   0.0014162,   0.0012718,   0.0011719,    0.001072,  0.00084447,  0.00065332,  0.00059953,  0.00054575,  0.00049197,  0.00043818,\n",
       "          0.0003844,           0,           0,           0,           0,           0,           0,           0,           0,           0,           0,           0,           0,           0,           0,           0,           0,           0,           0,           0,           0,           0,           0,\n",
       "                  0,           0,           0,           0,           0,           0,           0,           0,           0,           0,           0]]), 'Confidence', 'Recall']]\n",
       "fitness: np.float64(0.7629019064465488)\n",
       "keys: ['metrics/precision(B)', 'metrics/recall(B)', 'metrics/mAP50(B)', 'metrics/mAP50-95(B)']\n",
       "maps: array([     0.7395])\n",
       "names: {0: 'cortante'}\n",
       "plot: True\n",
       "results_dict: {'metrics/precision(B)': np.float64(0.9626536568598366), 'metrics/recall(B)': np.float64(0.9447476125511596), 'metrics/mAP50(B)': np.float64(0.9735429162776018), 'metrics/mAP50-95(B)': np.float64(0.7394973497986539), 'fitness': np.float64(0.7629019064465488)}\n",
       "save_dir: PosixPath('/home/gerdson/projetos/FIAP-Hackathon-Grupo2/runs/detect/train8')\n",
       "speed: {'preprocess': 0.07165281599101353, 'inference': 1.8152157802236597, 'loss': 0.00032278772588413313, 'postprocess': 0.5133230960685838}\n",
       "task: 'detect'"
      ]
     },
     "execution_count": 18,
     "metadata": {},
     "output_type": "execute_result"
    }
   ],
   "source": [
    "config = './config.yaml'\n",
    "model.train(data=config,\n",
    "            epochs=30,\n",
    "            patience=8,\n",
    "            batch=32,  # number of images per batch (-1 for AutoBatch)\n",
    "            optimizer=\"AdamW\",\n",
    "            lr0=0.001,\n",
    "            imgsz=640,\n",
    "            workers=8,\n",
    "            pretrained=True,\n",
    "            resume=False,  # resume training from last checkpoint\n",
    "            single_cls=False,  # Whether all classes will be the same (just one class)\n",
    "            # project='runs/detect',  # Default = /home/{user}/Documents/ultralytics/runs\n",
    "            box=7.5,  # More recall, better IoU, less precission, \n",
    "            cls=0.5,  # Bbox class better\n",
    "            dfl=1.5,  # Distribution Focal Loss. Better bbox boundaries\n",
    "            val=True,\n",
    "            # Augmentations\n",
    "            degrees=0.3,\n",
    "            hsv_s=0.3,\n",
    "            hsv_v=0.3,\n",
    "            scale=0.5,\n",
    "            fliplr=0.5\n",
    "            )"
   ]
  },
  {
   "cell_type": "markdown",
   "metadata": {},
   "source": [
    "# Inferência"
   ]
  },
  {
   "cell_type": "code",
   "execution_count": 19,
   "metadata": {},
   "outputs": [],
   "source": [
    "model = YOLO('runs/detect/train8/weights/best.pt')"
   ]
  },
  {
   "cell_type": "markdown",
   "metadata": {},
   "source": [
    "## Imagem"
   ]
  },
  {
   "cell_type": "code",
   "execution_count": 20,
   "metadata": {},
   "outputs": [
    {
     "name": "stdout",
     "output_type": "stream",
     "text": [
      "\n",
      "image 1/1 /home/gerdson/projetos/FIAP-Hackathon-Grupo2/assets/faca.png: 640x640 1 cortante, 6.4ms\n",
      "Speed: 1.4ms preprocess, 6.4ms inference, 0.8ms postprocess per image at shape (1, 3, 640, 640)\n",
      "Results saved to \u001b[1m/home/gerdson/projetos/FIAP-Hackathon-Grupo2/runs/detect/predict3\u001b[0m\n",
      "1 label saved to /home/gerdson/projetos/FIAP-Hackathon-Grupo2/runs/detect/predict3/labels\n"
     ]
    }
   ],
   "source": [
    "results_img = model.predict(source='assets/faca.png',  # image or video; single value or a list; URL, PIL (RGB), CV2 (BGR), ...\n",
    "                        conf=0.25,\n",
    "                        iou=0.7,  # Non-Maximum Supression (NMS)\n",
    "                        imgsz=640,\n",
    "                        show=False,\n",
    "                        save=True,\n",
    "                        save_txt=True,  # Save bbox coordenation\n",
    "                        save_conf=True,  # save_txt must be True\n",
    "                        save_crop=True,\n",
    "                        # project='runs/detect',\n",
    "                        stream=False  # Do inference now (False) or after (True)\n",
    "                        )"
   ]
  },
  {
   "cell_type": "code",
   "execution_count": 21,
   "metadata": {},
   "outputs": [
    {
     "data": {
      "text/plain": [
       "[ultralytics.engine.results.Results object with attributes:\n",
       " \n",
       " boxes: ultralytics.engine.results.Boxes object\n",
       " keypoints: None\n",
       " masks: None\n",
       " names: {0: 'cortante'}\n",
       " obb: None\n",
       " orig_img: array([[[216, 196, 192],\n",
       "         [216, 196, 192],\n",
       "         [216, 196, 192],\n",
       "         ...,\n",
       "         [194, 171, 166],\n",
       "         [194, 171, 166],\n",
       "         [194, 171, 166]],\n",
       " \n",
       "        [[216, 196, 192],\n",
       "         [216, 196, 192],\n",
       "         [216, 196, 192],\n",
       "         ...,\n",
       "         [194, 171, 166],\n",
       "         [194, 171, 166],\n",
       "         [194, 171, 166]],\n",
       " \n",
       "        [[216, 196, 192],\n",
       "         [216, 196, 192],\n",
       "         [216, 196, 192],\n",
       "         ...,\n",
       "         [194, 171, 166],\n",
       "         [194, 171, 166],\n",
       "         [194, 171, 166]],\n",
       " \n",
       "        ...,\n",
       " \n",
       "        [[221, 200, 198],\n",
       "         [221, 200, 198],\n",
       "         [221, 200, 198],\n",
       "         ...,\n",
       "         [197, 178, 171],\n",
       "         [197, 178, 171],\n",
       "         [197, 178, 171]],\n",
       " \n",
       "        [[221, 201, 196],\n",
       "         [221, 201, 196],\n",
       "         [221, 201, 196],\n",
       "         ...,\n",
       "         [197, 178, 171],\n",
       "         [197, 178, 171],\n",
       "         [197, 178, 171]],\n",
       " \n",
       "        [[221, 201, 196],\n",
       "         [221, 201, 196],\n",
       "         [221, 201, 196],\n",
       "         ...,\n",
       "         [197, 178, 171],\n",
       "         [197, 178, 171],\n",
       "         [197, 178, 171]]], dtype=uint8)\n",
       " orig_shape: (1000, 1000)\n",
       " path: '/home/gerdson/projetos/FIAP-Hackathon-Grupo2/assets/faca.png'\n",
       " probs: None\n",
       " save_dir: '/home/gerdson/projetos/FIAP-Hackathon-Grupo2/runs/detect/predict3'\n",
       " speed: {'preprocess': 1.3539791107177734, 'inference': 6.3610076904296875, 'postprocess': 0.7681846618652344}]"
      ]
     },
     "execution_count": 21,
     "metadata": {},
     "output_type": "execute_result"
    }
   ],
   "source": [
    "results_img"
   ]
  },
  {
   "cell_type": "code",
   "execution_count": 22,
   "metadata": {},
   "outputs": [
    {
     "data": {
      "text/plain": [
       "ultralytics.engine.results.Boxes object with attributes:\n",
       "\n",
       "cls: tensor([0.], device='cuda:0')\n",
       "conf: tensor([0.9063], device='cuda:0')\n",
       "data: tensor([[151.3989, 379.6968, 877.9695, 865.2424,   0.9063,   0.0000]], device='cuda:0')\n",
       "id: None\n",
       "is_track: False\n",
       "orig_shape: (1000, 1000)\n",
       "shape: torch.Size([1, 6])\n",
       "xywh: tensor([[514.6842, 622.4696, 726.5707, 485.5455]], device='cuda:0')\n",
       "xywhn: tensor([[0.5147, 0.6225, 0.7266, 0.4855]], device='cuda:0')\n",
       "xyxy: tensor([[151.3989, 379.6968, 877.9695, 865.2424]], device='cuda:0')\n",
       "xyxyn: tensor([[0.1514, 0.3797, 0.8780, 0.8652]], device='cuda:0')"
      ]
     },
     "execution_count": 22,
     "metadata": {},
     "output_type": "execute_result"
    }
   ],
   "source": [
    "results_img[0].boxes"
   ]
  },
  {
   "cell_type": "markdown",
   "metadata": {},
   "source": [
    "## Vídeo"
   ]
  },
  {
   "cell_type": "markdown",
   "metadata": {},
   "source": [
    "- \"stream=False\": realiza inferência no vídeo completo e armazena todos os resultados em uma lista. Quanto maior o vídeo, maior o consumo de memória RAM para armazenar todos os resultados\n",
    "- \"stream=True\": cria um \"generator\". O que permite executar frame por frame em um loop, podendo inclusive fazer outras operações em tempo real, sem precisar aguardar que todo o vídeo seja processado. Assim como reduzir a utilização de memória RAM, já que os resultados do frame anterior podem ser eliminados."
   ]
  },
  {
   "cell_type": "code",
   "execution_count": 23,
   "metadata": {},
   "outputs": [],
   "source": [
    "# CAUTION: High memory consumption if \"stream=False\"\n",
    "results_video = model.predict(source='assets/video.mp4',  # image or video; single value or a list; URL, PIL (RGB), CV2 (BGR), ...\n",
    "                        conf=0.25,\n",
    "                        iou=0.7,\n",
    "                        imgsz=640,\n",
    "                        show=False,\n",
    "                        save=True,\n",
    "                        save_txt=False,  # Save bbox coordination\n",
    "                        save_conf=False,  # save_txt must be True\n",
    "                        save_crop=False,\n",
    "                        # project='runs/detect',\n",
    "                        stream=True  # Do inference now (False) or after (True)\n",
    "                        )"
   ]
  },
  {
   "cell_type": "code",
   "execution_count": 24,
   "metadata": {},
   "outputs": [
    {
     "data": {
      "text/plain": [
       "<generator object BasePredictor.stream_inference at 0x7301dffc6e60>"
      ]
     },
     "execution_count": 24,
     "metadata": {},
     "output_type": "execute_result"
    }
   ],
   "source": [
    "results_video"
   ]
  },
  {
   "cell_type": "code",
   "execution_count": 25,
   "metadata": {},
   "outputs": [
    {
     "name": "stdout",
     "output_type": "stream",
     "text": [
      "\n",
      "video 1/1 (frame 1/1264) /home/gerdson/projetos/FIAP-Hackathon-Grupo2/assets/video.mp4: 384x640 (no detections), 9.7ms\n",
      "video 1/1 (frame 2/1264) /home/gerdson/projetos/FIAP-Hackathon-Grupo2/assets/video.mp4: 384x640 (no detections), 6.7ms\n",
      "video 1/1 (frame 3/1264) /home/gerdson/projetos/FIAP-Hackathon-Grupo2/assets/video.mp4: 384x640 (no detections), 7.0ms\n",
      "video 1/1 (frame 4/1264) /home/gerdson/projetos/FIAP-Hackathon-Grupo2/assets/video.mp4: 384x640 (no detections), 6.6ms\n",
      "video 1/1 (frame 5/1264) /home/gerdson/projetos/FIAP-Hackathon-Grupo2/assets/video.mp4: 384x640 (no detections), 6.6ms\n",
      "video 1/1 (frame 6/1264) /home/gerdson/projetos/FIAP-Hackathon-Grupo2/assets/video.mp4: 384x640 (no detections), 7.1ms\n",
      "video 1/1 (frame 7/1264) /home/gerdson/projetos/FIAP-Hackathon-Grupo2/assets/video.mp4: 384x640 (no detections), 7.3ms\n",
      "video 1/1 (frame 8/1264) /home/gerdson/projetos/FIAP-Hackathon-Grupo2/assets/video.mp4: 384x640 (no detections), 7.9ms\n",
      "video 1/1 (frame 9/1264) /home/gerdson/projetos/FIAP-Hackathon-Grupo2/assets/video.mp4: 384x640 (no detections), 7.0ms\n",
      "video 1/1 (frame 10/1264) /home/gerdson/projetos/FIAP-Hackathon-Grupo2/assets/video.mp4: 384x640 (no detections), 6.7ms\n",
      "video 1/1 (frame 11/1264) /home/gerdson/projetos/FIAP-Hackathon-Grupo2/assets/video.mp4: 384x640 (no detections), 6.9ms\n",
      "video 1/1 (frame 12/1264) /home/gerdson/projetos/FIAP-Hackathon-Grupo2/assets/video.mp4: 384x640 (no detections), 6.8ms\n",
      "video 1/1 (frame 13/1264) /home/gerdson/projetos/FIAP-Hackathon-Grupo2/assets/video.mp4: 384x640 (no detections), 7.9ms\n",
      "video 1/1 (frame 14/1264) /home/gerdson/projetos/FIAP-Hackathon-Grupo2/assets/video.mp4: 384x640 (no detections), 6.8ms\n",
      "video 1/1 (frame 15/1264) /home/gerdson/projetos/FIAP-Hackathon-Grupo2/assets/video.mp4: 384x640 (no detections), 6.7ms\n",
      "video 1/1 (frame 16/1264) /home/gerdson/projetos/FIAP-Hackathon-Grupo2/assets/video.mp4: 384x640 (no detections), 6.9ms\n",
      "video 1/1 (frame 17/1264) /home/gerdson/projetos/FIAP-Hackathon-Grupo2/assets/video.mp4: 384x640 (no detections), 6.5ms\n",
      "video 1/1 (frame 18/1264) /home/gerdson/projetos/FIAP-Hackathon-Grupo2/assets/video.mp4: 384x640 (no detections), 6.5ms\n",
      "video 1/1 (frame 19/1264) /home/gerdson/projetos/FIAP-Hackathon-Grupo2/assets/video.mp4: 384x640 (no detections), 6.7ms\n",
      "video 1/1 (frame 20/1264) /home/gerdson/projetos/FIAP-Hackathon-Grupo2/assets/video.mp4: 384x640 (no detections), 6.5ms\n",
      "video 1/1 (frame 21/1264) /home/gerdson/projetos/FIAP-Hackathon-Grupo2/assets/video.mp4: 384x640 (no detections), 6.6ms\n",
      "video 1/1 (frame 22/1264) /home/gerdson/projetos/FIAP-Hackathon-Grupo2/assets/video.mp4: 384x640 (no detections), 7.2ms\n",
      "video 1/1 (frame 23/1264) /home/gerdson/projetos/FIAP-Hackathon-Grupo2/assets/video.mp4: 384x640 (no detections), 6.8ms\n",
      "video 1/1 (frame 24/1264) /home/gerdson/projetos/FIAP-Hackathon-Grupo2/assets/video.mp4: 384x640 (no detections), 7.3ms\n",
      "video 1/1 (frame 25/1264) /home/gerdson/projetos/FIAP-Hackathon-Grupo2/assets/video.mp4: 384x640 (no detections), 7.0ms\n",
      "video 1/1 (frame 26/1264) /home/gerdson/projetos/FIAP-Hackathon-Grupo2/assets/video.mp4: 384x640 (no detections), 6.7ms\n",
      "video 1/1 (frame 27/1264) /home/gerdson/projetos/FIAP-Hackathon-Grupo2/assets/video.mp4: 384x640 (no detections), 7.1ms\n",
      "video 1/1 (frame 28/1264) /home/gerdson/projetos/FIAP-Hackathon-Grupo2/assets/video.mp4: 384x640 (no detections), 6.8ms\n",
      "video 1/1 (frame 29/1264) /home/gerdson/projetos/FIAP-Hackathon-Grupo2/assets/video.mp4: 384x640 (no detections), 8.0ms\n",
      "video 1/1 (frame 30/1264) /home/gerdson/projetos/FIAP-Hackathon-Grupo2/assets/video.mp4: 384x640 (no detections), 6.7ms\n",
      "video 1/1 (frame 31/1264) /home/gerdson/projetos/FIAP-Hackathon-Grupo2/assets/video.mp4: 384x640 (no detections), 6.5ms\n",
      "video 1/1 (frame 32/1264) /home/gerdson/projetos/FIAP-Hackathon-Grupo2/assets/video.mp4: 384x640 (no detections), 6.8ms\n",
      "video 1/1 (frame 33/1264) /home/gerdson/projetos/FIAP-Hackathon-Grupo2/assets/video.mp4: 384x640 (no detections), 6.7ms\n",
      "video 1/1 (frame 34/1264) /home/gerdson/projetos/FIAP-Hackathon-Grupo2/assets/video.mp4: 384x640 (no detections), 6.5ms\n",
      "video 1/1 (frame 35/1264) /home/gerdson/projetos/FIAP-Hackathon-Grupo2/assets/video.mp4: 384x640 (no detections), 7.0ms\n",
      "video 1/1 (frame 36/1264) /home/gerdson/projetos/FIAP-Hackathon-Grupo2/assets/video.mp4: 384x640 (no detections), 6.5ms\n",
      "video 1/1 (frame 37/1264) /home/gerdson/projetos/FIAP-Hackathon-Grupo2/assets/video.mp4: 384x640 (no detections), 6.5ms\n",
      "video 1/1 (frame 38/1264) /home/gerdson/projetos/FIAP-Hackathon-Grupo2/assets/video.mp4: 384x640 (no detections), 6.5ms\n",
      "video 1/1 (frame 39/1264) /home/gerdson/projetos/FIAP-Hackathon-Grupo2/assets/video.mp4: 384x640 (no detections), 6.5ms\n",
      "video 1/1 (frame 40/1264) /home/gerdson/projetos/FIAP-Hackathon-Grupo2/assets/video.mp4: 384x640 (no detections), 7.0ms\n",
      "video 1/1 (frame 41/1264) /home/gerdson/projetos/FIAP-Hackathon-Grupo2/assets/video.mp4: 384x640 (no detections), 6.5ms\n",
      "video 1/1 (frame 42/1264) /home/gerdson/projetos/FIAP-Hackathon-Grupo2/assets/video.mp4: 384x640 (no detections), 6.6ms\n",
      "video 1/1 (frame 43/1264) /home/gerdson/projetos/FIAP-Hackathon-Grupo2/assets/video.mp4: 384x640 (no detections), 6.5ms\n",
      "video 1/1 (frame 44/1264) /home/gerdson/projetos/FIAP-Hackathon-Grupo2/assets/video.mp4: 384x640 (no detections), 6.4ms\n",
      "video 1/1 (frame 45/1264) /home/gerdson/projetos/FIAP-Hackathon-Grupo2/assets/video.mp4: 384x640 (no detections), 6.6ms\n",
      "video 1/1 (frame 46/1264) /home/gerdson/projetos/FIAP-Hackathon-Grupo2/assets/video.mp4: 384x640 (no detections), 6.4ms\n",
      "video 1/1 (frame 47/1264) /home/gerdson/projetos/FIAP-Hackathon-Grupo2/assets/video.mp4: 384x640 (no detections), 6.4ms\n",
      "video 1/1 (frame 48/1264) /home/gerdson/projetos/FIAP-Hackathon-Grupo2/assets/video.mp4: 384x640 (no detections), 6.8ms\n",
      "video 1/1 (frame 49/1264) /home/gerdson/projetos/FIAP-Hackathon-Grupo2/assets/video.mp4: 384x640 (no detections), 6.4ms\n",
      "video 1/1 (frame 50/1264) /home/gerdson/projetos/FIAP-Hackathon-Grupo2/assets/video.mp4: 384x640 (no detections), 6.3ms\n",
      "video 1/1 (frame 51/1264) /home/gerdson/projetos/FIAP-Hackathon-Grupo2/assets/video.mp4: 384x640 (no detections), 6.7ms\n",
      "video 1/1 (frame 52/1264) /home/gerdson/projetos/FIAP-Hackathon-Grupo2/assets/video.mp4: 384x640 (no detections), 6.3ms\n",
      "video 1/1 (frame 53/1264) /home/gerdson/projetos/FIAP-Hackathon-Grupo2/assets/video.mp4: 384x640 (no detections), 6.3ms\n",
      "video 1/1 (frame 54/1264) /home/gerdson/projetos/FIAP-Hackathon-Grupo2/assets/video.mp4: 384x640 (no detections), 6.5ms\n",
      "video 1/1 (frame 55/1264) /home/gerdson/projetos/FIAP-Hackathon-Grupo2/assets/video.mp4: 384x640 (no detections), 6.4ms\n",
      "video 1/1 (frame 56/1264) /home/gerdson/projetos/FIAP-Hackathon-Grupo2/assets/video.mp4: 384x640 (no detections), 6.4ms\n",
      "video 1/1 (frame 57/1264) /home/gerdson/projetos/FIAP-Hackathon-Grupo2/assets/video.mp4: 384x640 (no detections), 6.6ms\n",
      "video 1/1 (frame 58/1264) /home/gerdson/projetos/FIAP-Hackathon-Grupo2/assets/video.mp4: 384x640 (no detections), 6.3ms\n",
      "video 1/1 (frame 59/1264) /home/gerdson/projetos/FIAP-Hackathon-Grupo2/assets/video.mp4: 384x640 (no detections), 6.3ms\n",
      "video 1/1 (frame 60/1264) /home/gerdson/projetos/FIAP-Hackathon-Grupo2/assets/video.mp4: 384x640 (no detections), 6.6ms\n",
      "video 1/1 (frame 61/1264) /home/gerdson/projetos/FIAP-Hackathon-Grupo2/assets/video.mp4: 384x640 (no detections), 6.6ms\n",
      "video 1/1 (frame 62/1264) /home/gerdson/projetos/FIAP-Hackathon-Grupo2/assets/video.mp4: 384x640 (no detections), 6.4ms\n",
      "video 1/1 (frame 63/1264) /home/gerdson/projetos/FIAP-Hackathon-Grupo2/assets/video.mp4: 384x640 (no detections), 6.5ms\n",
      "video 1/1 (frame 64/1264) /home/gerdson/projetos/FIAP-Hackathon-Grupo2/assets/video.mp4: 384x640 (no detections), 6.5ms\n",
      "video 1/1 (frame 65/1264) /home/gerdson/projetos/FIAP-Hackathon-Grupo2/assets/video.mp4: 384x640 (no detections), 6.4ms\n",
      "video 1/1 (frame 66/1264) /home/gerdson/projetos/FIAP-Hackathon-Grupo2/assets/video.mp4: 384x640 (no detections), 6.5ms\n",
      "video 1/1 (frame 67/1264) /home/gerdson/projetos/FIAP-Hackathon-Grupo2/assets/video.mp4: 384x640 (no detections), 6.4ms\n",
      "video 1/1 (frame 68/1264) /home/gerdson/projetos/FIAP-Hackathon-Grupo2/assets/video.mp4: 384x640 (no detections), 6.4ms\n",
      "video 1/1 (frame 69/1264) /home/gerdson/projetos/FIAP-Hackathon-Grupo2/assets/video.mp4: 384x640 (no detections), 6.6ms\n",
      "video 1/1 (frame 70/1264) /home/gerdson/projetos/FIAP-Hackathon-Grupo2/assets/video.mp4: 384x640 (no detections), 6.3ms\n",
      "video 1/1 (frame 71/1264) /home/gerdson/projetos/FIAP-Hackathon-Grupo2/assets/video.mp4: 384x640 (no detections), 6.3ms\n",
      "video 1/1 (frame 72/1264) /home/gerdson/projetos/FIAP-Hackathon-Grupo2/assets/video.mp4: 384x640 (no detections), 6.3ms\n",
      "video 1/1 (frame 73/1264) /home/gerdson/projetos/FIAP-Hackathon-Grupo2/assets/video.mp4: 384x640 (no detections), 6.4ms\n",
      "video 1/1 (frame 74/1264) /home/gerdson/projetos/FIAP-Hackathon-Grupo2/assets/video.mp4: 384x640 (no detections), 6.3ms\n",
      "video 1/1 (frame 75/1264) /home/gerdson/projetos/FIAP-Hackathon-Grupo2/assets/video.mp4: 384x640 (no detections), 6.5ms\n",
      "video 1/1 (frame 76/1264) /home/gerdson/projetos/FIAP-Hackathon-Grupo2/assets/video.mp4: 384x640 (no detections), 6.4ms\n",
      "video 1/1 (frame 77/1264) /home/gerdson/projetos/FIAP-Hackathon-Grupo2/assets/video.mp4: 384x640 (no detections), 7.1ms\n",
      "video 1/1 (frame 78/1264) /home/gerdson/projetos/FIAP-Hackathon-Grupo2/assets/video.mp4: 384x640 (no detections), 9.1ms\n",
      "video 1/1 (frame 79/1264) /home/gerdson/projetos/FIAP-Hackathon-Grupo2/assets/video.mp4: 384x640 (no detections), 8.6ms\n",
      "video 1/1 (frame 80/1264) /home/gerdson/projetos/FIAP-Hackathon-Grupo2/assets/video.mp4: 384x640 (no detections), 6.7ms\n",
      "video 1/1 (frame 81/1264) /home/gerdson/projetos/FIAP-Hackathon-Grupo2/assets/video.mp4: 384x640 (no detections), 6.5ms\n",
      "video 1/1 (frame 82/1264) /home/gerdson/projetos/FIAP-Hackathon-Grupo2/assets/video.mp4: 384x640 (no detections), 6.6ms\n",
      "video 1/1 (frame 83/1264) /home/gerdson/projetos/FIAP-Hackathon-Grupo2/assets/video.mp4: 384x640 (no detections), 7.6ms\n",
      "video 1/1 (frame 84/1264) /home/gerdson/projetos/FIAP-Hackathon-Grupo2/assets/video.mp4: 384x640 (no detections), 6.4ms\n",
      "video 1/1 (frame 85/1264) /home/gerdson/projetos/FIAP-Hackathon-Grupo2/assets/video.mp4: 384x640 (no detections), 6.4ms\n",
      "video 1/1 (frame 86/1264) /home/gerdson/projetos/FIAP-Hackathon-Grupo2/assets/video.mp4: 384x640 (no detections), 6.4ms\n",
      "video 1/1 (frame 87/1264) /home/gerdson/projetos/FIAP-Hackathon-Grupo2/assets/video.mp4: 384x640 (no detections), 6.4ms\n",
      "video 1/1 (frame 88/1264) /home/gerdson/projetos/FIAP-Hackathon-Grupo2/assets/video.mp4: 384x640 (no detections), 6.4ms\n",
      "video 1/1 (frame 89/1264) /home/gerdson/projetos/FIAP-Hackathon-Grupo2/assets/video.mp4: 384x640 (no detections), 6.4ms\n",
      "video 1/1 (frame 90/1264) /home/gerdson/projetos/FIAP-Hackathon-Grupo2/assets/video.mp4: 384x640 (no detections), 6.3ms\n",
      "video 1/1 (frame 91/1264) /home/gerdson/projetos/FIAP-Hackathon-Grupo2/assets/video.mp4: 384x640 (no detections), 7.3ms\n",
      "video 1/1 (frame 92/1264) /home/gerdson/projetos/FIAP-Hackathon-Grupo2/assets/video.mp4: 384x640 (no detections), 6.3ms\n",
      "video 1/1 (frame 93/1264) /home/gerdson/projetos/FIAP-Hackathon-Grupo2/assets/video.mp4: 384x640 (no detections), 6.3ms\n",
      "video 1/1 (frame 94/1264) /home/gerdson/projetos/FIAP-Hackathon-Grupo2/assets/video.mp4: 384x640 (no detections), 6.3ms\n",
      "video 1/1 (frame 95/1264) /home/gerdson/projetos/FIAP-Hackathon-Grupo2/assets/video.mp4: 384x640 (no detections), 6.4ms\n",
      "video 1/1 (frame 96/1264) /home/gerdson/projetos/FIAP-Hackathon-Grupo2/assets/video.mp4: 384x640 (no detections), 6.3ms\n",
      "video 1/1 (frame 97/1264) /home/gerdson/projetos/FIAP-Hackathon-Grupo2/assets/video.mp4: 384x640 (no detections), 6.4ms\n",
      "video 1/1 (frame 98/1264) /home/gerdson/projetos/FIAP-Hackathon-Grupo2/assets/video.mp4: 384x640 (no detections), 6.3ms\n",
      "video 1/1 (frame 99/1264) /home/gerdson/projetos/FIAP-Hackathon-Grupo2/assets/video.mp4: 384x640 (no detections), 7.7ms\n",
      "video 1/1 (frame 100/1264) /home/gerdson/projetos/FIAP-Hackathon-Grupo2/assets/video.mp4: 384x640 (no detections), 6.3ms\n",
      "video 1/1 (frame 101/1264) /home/gerdson/projetos/FIAP-Hackathon-Grupo2/assets/video.mp4: 384x640 (no detections), 6.4ms\n",
      "video 1/1 (frame 102/1264) /home/gerdson/projetos/FIAP-Hackathon-Grupo2/assets/video.mp4: 384x640 (no detections), 6.3ms\n",
      "video 1/1 (frame 103/1264) /home/gerdson/projetos/FIAP-Hackathon-Grupo2/assets/video.mp4: 384x640 (no detections), 6.3ms\n",
      "video 1/1 (frame 104/1264) /home/gerdson/projetos/FIAP-Hackathon-Grupo2/assets/video.mp4: 384x640 (no detections), 6.3ms\n",
      "video 1/1 (frame 105/1264) /home/gerdson/projetos/FIAP-Hackathon-Grupo2/assets/video.mp4: 384x640 (no detections), 6.4ms\n",
      "video 1/1 (frame 106/1264) /home/gerdson/projetos/FIAP-Hackathon-Grupo2/assets/video.mp4: 384x640 (no detections), 6.3ms\n",
      "video 1/1 (frame 107/1264) /home/gerdson/projetos/FIAP-Hackathon-Grupo2/assets/video.mp4: 384x640 (no detections), 6.3ms\n",
      "video 1/1 (frame 108/1264) /home/gerdson/projetos/FIAP-Hackathon-Grupo2/assets/video.mp4: 384x640 (no detections), 6.3ms\n",
      "video 1/1 (frame 109/1264) /home/gerdson/projetos/FIAP-Hackathon-Grupo2/assets/video.mp4: 384x640 (no detections), 6.3ms\n",
      "video 1/1 (frame 110/1264) /home/gerdson/projetos/FIAP-Hackathon-Grupo2/assets/video.mp4: 384x640 (no detections), 6.3ms\n",
      "video 1/1 (frame 111/1264) /home/gerdson/projetos/FIAP-Hackathon-Grupo2/assets/video.mp4: 384x640 (no detections), 8.6ms\n",
      "video 1/1 (frame 112/1264) /home/gerdson/projetos/FIAP-Hackathon-Grupo2/assets/video.mp4: 384x640 (no detections), 6.4ms\n",
      "video 1/1 (frame 113/1264) /home/gerdson/projetos/FIAP-Hackathon-Grupo2/assets/video.mp4: 384x640 (no detections), 6.4ms\n",
      "video 1/1 (frame 114/1264) /home/gerdson/projetos/FIAP-Hackathon-Grupo2/assets/video.mp4: 384x640 (no detections), 6.3ms\n",
      "video 1/1 (frame 115/1264) /home/gerdson/projetos/FIAP-Hackathon-Grupo2/assets/video.mp4: 384x640 (no detections), 7.2ms\n",
      "video 1/1 (frame 116/1264) /home/gerdson/projetos/FIAP-Hackathon-Grupo2/assets/video.mp4: 384x640 (no detections), 6.3ms\n",
      "video 1/1 (frame 117/1264) /home/gerdson/projetos/FIAP-Hackathon-Grupo2/assets/video.mp4: 384x640 (no detections), 6.3ms\n",
      "video 1/1 (frame 118/1264) /home/gerdson/projetos/FIAP-Hackathon-Grupo2/assets/video.mp4: 384x640 (no detections), 6.5ms\n",
      "video 1/1 (frame 119/1264) /home/gerdson/projetos/FIAP-Hackathon-Grupo2/assets/video.mp4: 384x640 (no detections), 6.4ms\n",
      "video 1/1 (frame 120/1264) /home/gerdson/projetos/FIAP-Hackathon-Grupo2/assets/video.mp4: 384x640 (no detections), 6.3ms\n",
      "video 1/1 (frame 121/1264) /home/gerdson/projetos/FIAP-Hackathon-Grupo2/assets/video.mp4: 384x640 1 cortante, 6.5ms\n",
      "video 1/1 (frame 122/1264) /home/gerdson/projetos/FIAP-Hackathon-Grupo2/assets/video.mp4: 384x640 (no detections), 6.3ms\n",
      "video 1/1 (frame 123/1264) /home/gerdson/projetos/FIAP-Hackathon-Grupo2/assets/video.mp4: 384x640 (no detections), 6.4ms\n",
      "video 1/1 (frame 124/1264) /home/gerdson/projetos/FIAP-Hackathon-Grupo2/assets/video.mp4: 384x640 (no detections), 6.4ms\n",
      "video 1/1 (frame 125/1264) /home/gerdson/projetos/FIAP-Hackathon-Grupo2/assets/video.mp4: 384x640 (no detections), 6.4ms\n",
      "video 1/1 (frame 126/1264) /home/gerdson/projetos/FIAP-Hackathon-Grupo2/assets/video.mp4: 384x640 (no detections), 6.3ms\n",
      "video 1/1 (frame 127/1264) /home/gerdson/projetos/FIAP-Hackathon-Grupo2/assets/video.mp4: 384x640 (no detections), 6.3ms\n",
      "video 1/1 (frame 128/1264) /home/gerdson/projetos/FIAP-Hackathon-Grupo2/assets/video.mp4: 384x640 (no detections), 6.3ms\n",
      "video 1/1 (frame 129/1264) /home/gerdson/projetos/FIAP-Hackathon-Grupo2/assets/video.mp4: 384x640 (no detections), 6.3ms\n",
      "video 1/1 (frame 130/1264) /home/gerdson/projetos/FIAP-Hackathon-Grupo2/assets/video.mp4: 384x640 (no detections), 6.5ms\n",
      "video 1/1 (frame 131/1264) /home/gerdson/projetos/FIAP-Hackathon-Grupo2/assets/video.mp4: 384x640 (no detections), 6.3ms\n",
      "video 1/1 (frame 132/1264) /home/gerdson/projetos/FIAP-Hackathon-Grupo2/assets/video.mp4: 384x640 (no detections), 6.3ms\n",
      "video 1/1 (frame 133/1264) /home/gerdson/projetos/FIAP-Hackathon-Grupo2/assets/video.mp4: 384x640 (no detections), 6.3ms\n",
      "video 1/1 (frame 134/1264) /home/gerdson/projetos/FIAP-Hackathon-Grupo2/assets/video.mp4: 384x640 (no detections), 6.3ms\n",
      "video 1/1 (frame 135/1264) /home/gerdson/projetos/FIAP-Hackathon-Grupo2/assets/video.mp4: 384x640 (no detections), 6.3ms\n",
      "video 1/1 (frame 136/1264) /home/gerdson/projetos/FIAP-Hackathon-Grupo2/assets/video.mp4: 384x640 (no detections), 6.3ms\n",
      "video 1/1 (frame 137/1264) /home/gerdson/projetos/FIAP-Hackathon-Grupo2/assets/video.mp4: 384x640 (no detections), 6.3ms\n",
      "video 1/1 (frame 138/1264) /home/gerdson/projetos/FIAP-Hackathon-Grupo2/assets/video.mp4: 384x640 (no detections), 6.3ms\n",
      "video 1/1 (frame 139/1264) /home/gerdson/projetos/FIAP-Hackathon-Grupo2/assets/video.mp4: 384x640 (no detections), 6.3ms\n",
      "video 1/1 (frame 140/1264) /home/gerdson/projetos/FIAP-Hackathon-Grupo2/assets/video.mp4: 384x640 (no detections), 6.3ms\n",
      "video 1/1 (frame 141/1264) /home/gerdson/projetos/FIAP-Hackathon-Grupo2/assets/video.mp4: 384x640 (no detections), 6.3ms\n",
      "video 1/1 (frame 142/1264) /home/gerdson/projetos/FIAP-Hackathon-Grupo2/assets/video.mp4: 384x640 (no detections), 6.3ms\n",
      "video 1/1 (frame 143/1264) /home/gerdson/projetos/FIAP-Hackathon-Grupo2/assets/video.mp4: 384x640 (no detections), 6.3ms\n",
      "video 1/1 (frame 144/1264) /home/gerdson/projetos/FIAP-Hackathon-Grupo2/assets/video.mp4: 384x640 (no detections), 6.3ms\n",
      "video 1/1 (frame 145/1264) /home/gerdson/projetos/FIAP-Hackathon-Grupo2/assets/video.mp4: 384x640 (no detections), 6.3ms\n",
      "video 1/1 (frame 146/1264) /home/gerdson/projetos/FIAP-Hackathon-Grupo2/assets/video.mp4: 384x640 (no detections), 6.3ms\n",
      "video 1/1 (frame 147/1264) /home/gerdson/projetos/FIAP-Hackathon-Grupo2/assets/video.mp4: 384x640 (no detections), 6.3ms\n",
      "video 1/1 (frame 148/1264) /home/gerdson/projetos/FIAP-Hackathon-Grupo2/assets/video.mp4: 384x640 (no detections), 6.3ms\n",
      "video 1/1 (frame 149/1264) /home/gerdson/projetos/FIAP-Hackathon-Grupo2/assets/video.mp4: 384x640 (no detections), 6.3ms\n",
      "video 1/1 (frame 150/1264) /home/gerdson/projetos/FIAP-Hackathon-Grupo2/assets/video.mp4: 384x640 (no detections), 7.6ms\n",
      "video 1/1 (frame 151/1264) /home/gerdson/projetos/FIAP-Hackathon-Grupo2/assets/video.mp4: 384x640 (no detections), 6.5ms\n",
      "video 1/1 (frame 152/1264) /home/gerdson/projetos/FIAP-Hackathon-Grupo2/assets/video.mp4: 384x640 (no detections), 6.4ms\n",
      "video 1/1 (frame 153/1264) /home/gerdson/projetos/FIAP-Hackathon-Grupo2/assets/video.mp4: 384x640 (no detections), 6.4ms\n",
      "video 1/1 (frame 154/1264) /home/gerdson/projetos/FIAP-Hackathon-Grupo2/assets/video.mp4: 384x640 (no detections), 6.3ms\n",
      "video 1/1 (frame 155/1264) /home/gerdson/projetos/FIAP-Hackathon-Grupo2/assets/video.mp4: 384x640 (no detections), 7.6ms\n",
      "video 1/1 (frame 156/1264) /home/gerdson/projetos/FIAP-Hackathon-Grupo2/assets/video.mp4: 384x640 (no detections), 6.3ms\n",
      "video 1/1 (frame 157/1264) /home/gerdson/projetos/FIAP-Hackathon-Grupo2/assets/video.mp4: 384x640 (no detections), 6.3ms\n",
      "video 1/1 (frame 158/1264) /home/gerdson/projetos/FIAP-Hackathon-Grupo2/assets/video.mp4: 384x640 (no detections), 6.5ms\n",
      "video 1/1 (frame 159/1264) /home/gerdson/projetos/FIAP-Hackathon-Grupo2/assets/video.mp4: 384x640 (no detections), 6.3ms\n",
      "video 1/1 (frame 160/1264) /home/gerdson/projetos/FIAP-Hackathon-Grupo2/assets/video.mp4: 384x640 (no detections), 6.3ms\n",
      "video 1/1 (frame 161/1264) /home/gerdson/projetos/FIAP-Hackathon-Grupo2/assets/video.mp4: 384x640 (no detections), 6.5ms\n",
      "video 1/1 (frame 162/1264) /home/gerdson/projetos/FIAP-Hackathon-Grupo2/assets/video.mp4: 384x640 (no detections), 6.3ms\n",
      "video 1/1 (frame 163/1264) /home/gerdson/projetos/FIAP-Hackathon-Grupo2/assets/video.mp4: 384x640 (no detections), 7.3ms\n",
      "video 1/1 (frame 164/1264) /home/gerdson/projetos/FIAP-Hackathon-Grupo2/assets/video.mp4: 384x640 (no detections), 6.4ms\n",
      "video 1/1 (frame 165/1264) /home/gerdson/projetos/FIAP-Hackathon-Grupo2/assets/video.mp4: 384x640 (no detections), 6.5ms\n",
      "video 1/1 (frame 166/1264) /home/gerdson/projetos/FIAP-Hackathon-Grupo2/assets/video.mp4: 384x640 (no detections), 6.5ms\n",
      "video 1/1 (frame 167/1264) /home/gerdson/projetos/FIAP-Hackathon-Grupo2/assets/video.mp4: 384x640 1 cortante, 8.4ms\n",
      "video 1/1 (frame 168/1264) /home/gerdson/projetos/FIAP-Hackathon-Grupo2/assets/video.mp4: 384x640 1 cortante, 6.4ms\n",
      "video 1/1 (frame 169/1264) /home/gerdson/projetos/FIAP-Hackathon-Grupo2/assets/video.mp4: 384x640 1 cortante, 6.5ms\n",
      "video 1/1 (frame 170/1264) /home/gerdson/projetos/FIAP-Hackathon-Grupo2/assets/video.mp4: 384x640 1 cortante, 6.4ms\n",
      "video 1/1 (frame 171/1264) /home/gerdson/projetos/FIAP-Hackathon-Grupo2/assets/video.mp4: 384x640 1 cortante, 6.5ms\n",
      "video 1/1 (frame 172/1264) /home/gerdson/projetos/FIAP-Hackathon-Grupo2/assets/video.mp4: 384x640 1 cortante, 6.4ms\n",
      "video 1/1 (frame 173/1264) /home/gerdson/projetos/FIAP-Hackathon-Grupo2/assets/video.mp4: 384x640 1 cortante, 6.5ms\n",
      "video 1/1 (frame 174/1264) /home/gerdson/projetos/FIAP-Hackathon-Grupo2/assets/video.mp4: 384x640 1 cortante, 6.5ms\n",
      "video 1/1 (frame 175/1264) /home/gerdson/projetos/FIAP-Hackathon-Grupo2/assets/video.mp4: 384x640 1 cortante, 6.5ms\n",
      "video 1/1 (frame 176/1264) /home/gerdson/projetos/FIAP-Hackathon-Grupo2/assets/video.mp4: 384x640 1 cortante, 6.4ms\n",
      "video 1/1 (frame 177/1264) /home/gerdson/projetos/FIAP-Hackathon-Grupo2/assets/video.mp4: 384x640 1 cortante, 6.4ms\n",
      "video 1/1 (frame 178/1264) /home/gerdson/projetos/FIAP-Hackathon-Grupo2/assets/video.mp4: 384x640 1 cortante, 6.5ms\n",
      "video 1/1 (frame 179/1264) /home/gerdson/projetos/FIAP-Hackathon-Grupo2/assets/video.mp4: 384x640 1 cortante, 6.5ms\n",
      "video 1/1 (frame 180/1264) /home/gerdson/projetos/FIAP-Hackathon-Grupo2/assets/video.mp4: 384x640 1 cortante, 6.4ms\n",
      "video 1/1 (frame 181/1264) /home/gerdson/projetos/FIAP-Hackathon-Grupo2/assets/video.mp4: 384x640 1 cortante, 6.4ms\n",
      "video 1/1 (frame 182/1264) /home/gerdson/projetos/FIAP-Hackathon-Grupo2/assets/video.mp4: 384x640 1 cortante, 6.4ms\n",
      "video 1/1 (frame 183/1264) /home/gerdson/projetos/FIAP-Hackathon-Grupo2/assets/video.mp4: 384x640 1 cortante, 7.8ms\n",
      "video 1/1 (frame 184/1264) /home/gerdson/projetos/FIAP-Hackathon-Grupo2/assets/video.mp4: 384x640 1 cortante, 6.4ms\n",
      "video 1/1 (frame 185/1264) /home/gerdson/projetos/FIAP-Hackathon-Grupo2/assets/video.mp4: 384x640 1 cortante, 6.8ms\n",
      "video 1/1 (frame 186/1264) /home/gerdson/projetos/FIAP-Hackathon-Grupo2/assets/video.mp4: 384x640 1 cortante, 6.4ms\n",
      "video 1/1 (frame 187/1264) /home/gerdson/projetos/FIAP-Hackathon-Grupo2/assets/video.mp4: 384x640 1 cortante, 6.4ms\n",
      "video 1/1 (frame 188/1264) /home/gerdson/projetos/FIAP-Hackathon-Grupo2/assets/video.mp4: 384x640 1 cortante, 6.4ms\n",
      "video 1/1 (frame 189/1264) /home/gerdson/projetos/FIAP-Hackathon-Grupo2/assets/video.mp4: 384x640 1 cortante, 6.4ms\n",
      "video 1/1 (frame 190/1264) /home/gerdson/projetos/FIAP-Hackathon-Grupo2/assets/video.mp4: 384x640 1 cortante, 7.4ms\n",
      "video 1/1 (frame 191/1264) /home/gerdson/projetos/FIAP-Hackathon-Grupo2/assets/video.mp4: 384x640 1 cortante, 6.6ms\n",
      "video 1/1 (frame 192/1264) /home/gerdson/projetos/FIAP-Hackathon-Grupo2/assets/video.mp4: 384x640 1 cortante, 6.5ms\n",
      "video 1/1 (frame 193/1264) /home/gerdson/projetos/FIAP-Hackathon-Grupo2/assets/video.mp4: 384x640 1 cortante, 6.6ms\n",
      "video 1/1 (frame 194/1264) /home/gerdson/projetos/FIAP-Hackathon-Grupo2/assets/video.mp4: 384x640 1 cortante, 6.5ms\n",
      "video 1/1 (frame 195/1264) /home/gerdson/projetos/FIAP-Hackathon-Grupo2/assets/video.mp4: 384x640 1 cortante, 6.9ms\n",
      "video 1/1 (frame 196/1264) /home/gerdson/projetos/FIAP-Hackathon-Grupo2/assets/video.mp4: 384x640 1 cortante, 6.5ms\n",
      "video 1/1 (frame 197/1264) /home/gerdson/projetos/FIAP-Hackathon-Grupo2/assets/video.mp4: 384x640 1 cortante, 6.4ms\n",
      "video 1/1 (frame 198/1264) /home/gerdson/projetos/FIAP-Hackathon-Grupo2/assets/video.mp4: 384x640 1 cortante, 6.7ms\n",
      "video 1/1 (frame 199/1264) /home/gerdson/projetos/FIAP-Hackathon-Grupo2/assets/video.mp4: 384x640 1 cortante, 9.2ms\n",
      "video 1/1 (frame 200/1264) /home/gerdson/projetos/FIAP-Hackathon-Grupo2/assets/video.mp4: 384x640 (no detections), 6.5ms\n",
      "video 1/1 (frame 201/1264) /home/gerdson/projetos/FIAP-Hackathon-Grupo2/assets/video.mp4: 384x640 1 cortante, 6.5ms\n",
      "video 1/1 (frame 202/1264) /home/gerdson/projetos/FIAP-Hackathon-Grupo2/assets/video.mp4: 384x640 (no detections), 6.5ms\n",
      "video 1/1 (frame 203/1264) /home/gerdson/projetos/FIAP-Hackathon-Grupo2/assets/video.mp4: 384x640 (no detections), 6.6ms\n",
      "video 1/1 (frame 204/1264) /home/gerdson/projetos/FIAP-Hackathon-Grupo2/assets/video.mp4: 384x640 (no detections), 6.5ms\n",
      "video 1/1 (frame 205/1264) /home/gerdson/projetos/FIAP-Hackathon-Grupo2/assets/video.mp4: 384x640 (no detections), 6.4ms\n",
      "video 1/1 (frame 206/1264) /home/gerdson/projetos/FIAP-Hackathon-Grupo2/assets/video.mp4: 384x640 (no detections), 6.8ms\n",
      "video 1/1 (frame 207/1264) /home/gerdson/projetos/FIAP-Hackathon-Grupo2/assets/video.mp4: 384x640 (no detections), 6.5ms\n",
      "video 1/1 (frame 208/1264) /home/gerdson/projetos/FIAP-Hackathon-Grupo2/assets/video.mp4: 384x640 (no detections), 6.6ms\n",
      "video 1/1 (frame 209/1264) /home/gerdson/projetos/FIAP-Hackathon-Grupo2/assets/video.mp4: 384x640 (no detections), 6.8ms\n",
      "video 1/1 (frame 210/1264) /home/gerdson/projetos/FIAP-Hackathon-Grupo2/assets/video.mp4: 384x640 (no detections), 6.6ms\n",
      "video 1/1 (frame 211/1264) /home/gerdson/projetos/FIAP-Hackathon-Grupo2/assets/video.mp4: 384x640 (no detections), 6.5ms\n",
      "video 1/1 (frame 212/1264) /home/gerdson/projetos/FIAP-Hackathon-Grupo2/assets/video.mp4: 384x640 1 cortante, 6.9ms\n",
      "video 1/1 (frame 213/1264) /home/gerdson/projetos/FIAP-Hackathon-Grupo2/assets/video.mp4: 384x640 1 cortante, 6.5ms\n",
      "video 1/1 (frame 214/1264) /home/gerdson/projetos/FIAP-Hackathon-Grupo2/assets/video.mp4: 384x640 1 cortante, 6.6ms\n",
      "video 1/1 (frame 215/1264) /home/gerdson/projetos/FIAP-Hackathon-Grupo2/assets/video.mp4: 384x640 1 cortante, 9.0ms\n",
      "video 1/1 (frame 216/1264) /home/gerdson/projetos/FIAP-Hackathon-Grupo2/assets/video.mp4: 384x640 1 cortante, 6.5ms\n",
      "video 1/1 (frame 217/1264) /home/gerdson/projetos/FIAP-Hackathon-Grupo2/assets/video.mp4: 384x640 1 cortante, 6.6ms\n",
      "video 1/1 (frame 218/1264) /home/gerdson/projetos/FIAP-Hackathon-Grupo2/assets/video.mp4: 384x640 1 cortante, 6.4ms\n",
      "video 1/1 (frame 219/1264) /home/gerdson/projetos/FIAP-Hackathon-Grupo2/assets/video.mp4: 384x640 1 cortante, 6.5ms\n",
      "video 1/1 (frame 220/1264) /home/gerdson/projetos/FIAP-Hackathon-Grupo2/assets/video.mp4: 384x640 1 cortante, 6.5ms\n",
      "video 1/1 (frame 221/1264) /home/gerdson/projetos/FIAP-Hackathon-Grupo2/assets/video.mp4: 384x640 1 cortante, 6.4ms\n",
      "video 1/1 (frame 222/1264) /home/gerdson/projetos/FIAP-Hackathon-Grupo2/assets/video.mp4: 384x640 1 cortante, 6.6ms\n",
      "video 1/1 (frame 223/1264) /home/gerdson/projetos/FIAP-Hackathon-Grupo2/assets/video.mp4: 384x640 1 cortante, 6.5ms\n",
      "video 1/1 (frame 224/1264) /home/gerdson/projetos/FIAP-Hackathon-Grupo2/assets/video.mp4: 384x640 1 cortante, 6.7ms\n",
      "video 1/1 (frame 225/1264) /home/gerdson/projetos/FIAP-Hackathon-Grupo2/assets/video.mp4: 384x640 1 cortante, 6.6ms\n",
      "video 1/1 (frame 226/1264) /home/gerdson/projetos/FIAP-Hackathon-Grupo2/assets/video.mp4: 384x640 1 cortante, 6.4ms\n",
      "video 1/1 (frame 227/1264) /home/gerdson/projetos/FIAP-Hackathon-Grupo2/assets/video.mp4: 384x640 1 cortante, 6.7ms\n",
      "video 1/1 (frame 228/1264) /home/gerdson/projetos/FIAP-Hackathon-Grupo2/assets/video.mp4: 384x640 1 cortante, 6.5ms\n",
      "video 1/1 (frame 229/1264) /home/gerdson/projetos/FIAP-Hackathon-Grupo2/assets/video.mp4: 384x640 1 cortante, 6.7ms\n",
      "video 1/1 (frame 230/1264) /home/gerdson/projetos/FIAP-Hackathon-Grupo2/assets/video.mp4: 384x640 1 cortante, 6.6ms\n",
      "video 1/1 (frame 231/1264) /home/gerdson/projetos/FIAP-Hackathon-Grupo2/assets/video.mp4: 384x640 1 cortante, 8.7ms\n",
      "video 1/1 (frame 232/1264) /home/gerdson/projetos/FIAP-Hackathon-Grupo2/assets/video.mp4: 384x640 1 cortante, 6.4ms\n",
      "video 1/1 (frame 233/1264) /home/gerdson/projetos/FIAP-Hackathon-Grupo2/assets/video.mp4: 384x640 1 cortante, 6.5ms\n",
      "video 1/1 (frame 234/1264) /home/gerdson/projetos/FIAP-Hackathon-Grupo2/assets/video.mp4: 384x640 1 cortante, 7.6ms\n",
      "video 1/1 (frame 235/1264) /home/gerdson/projetos/FIAP-Hackathon-Grupo2/assets/video.mp4: 384x640 1 cortante, 8.6ms\n",
      "video 1/1 (frame 236/1264) /home/gerdson/projetos/FIAP-Hackathon-Grupo2/assets/video.mp4: 384x640 1 cortante, 6.7ms\n",
      "video 1/1 (frame 237/1264) /home/gerdson/projetos/FIAP-Hackathon-Grupo2/assets/video.mp4: 384x640 1 cortante, 6.6ms\n",
      "video 1/1 (frame 238/1264) /home/gerdson/projetos/FIAP-Hackathon-Grupo2/assets/video.mp4: 384x640 1 cortante, 6.5ms\n",
      "video 1/1 (frame 239/1264) /home/gerdson/projetos/FIAP-Hackathon-Grupo2/assets/video.mp4: 384x640 1 cortante, 6.5ms\n",
      "video 1/1 (frame 240/1264) /home/gerdson/projetos/FIAP-Hackathon-Grupo2/assets/video.mp4: 384x640 2 cortantes, 6.5ms\n",
      "video 1/1 (frame 241/1264) /home/gerdson/projetos/FIAP-Hackathon-Grupo2/assets/video.mp4: 384x640 1 cortante, 6.5ms\n",
      "video 1/1 (frame 242/1264) /home/gerdson/projetos/FIAP-Hackathon-Grupo2/assets/video.mp4: 384x640 1 cortante, 7.7ms\n",
      "video 1/1 (frame 243/1264) /home/gerdson/projetos/FIAP-Hackathon-Grupo2/assets/video.mp4: 384x640 1 cortante, 6.5ms\n",
      "video 1/1 (frame 244/1264) /home/gerdson/projetos/FIAP-Hackathon-Grupo2/assets/video.mp4: 384x640 1 cortante, 6.4ms\n",
      "video 1/1 (frame 245/1264) /home/gerdson/projetos/FIAP-Hackathon-Grupo2/assets/video.mp4: 384x640 1 cortante, 6.5ms\n",
      "video 1/1 (frame 246/1264) /home/gerdson/projetos/FIAP-Hackathon-Grupo2/assets/video.mp4: 384x640 1 cortante, 6.5ms\n",
      "video 1/1 (frame 247/1264) /home/gerdson/projetos/FIAP-Hackathon-Grupo2/assets/video.mp4: 384x640 1 cortante, 7.6ms\n",
      "video 1/1 (frame 248/1264) /home/gerdson/projetos/FIAP-Hackathon-Grupo2/assets/video.mp4: 384x640 1 cortante, 6.5ms\n",
      "video 1/1 (frame 249/1264) /home/gerdson/projetos/FIAP-Hackathon-Grupo2/assets/video.mp4: 384x640 1 cortante, 6.4ms\n",
      "video 1/1 (frame 250/1264) /home/gerdson/projetos/FIAP-Hackathon-Grupo2/assets/video.mp4: 384x640 1 cortante, 6.4ms\n",
      "video 1/1 (frame 251/1264) /home/gerdson/projetos/FIAP-Hackathon-Grupo2/assets/video.mp4: 384x640 1 cortante, 6.4ms\n",
      "video 1/1 (frame 252/1264) /home/gerdson/projetos/FIAP-Hackathon-Grupo2/assets/video.mp4: 384x640 1 cortante, 6.5ms\n",
      "video 1/1 (frame 253/1264) /home/gerdson/projetos/FIAP-Hackathon-Grupo2/assets/video.mp4: 384x640 1 cortante, 6.5ms\n",
      "video 1/1 (frame 254/1264) /home/gerdson/projetos/FIAP-Hackathon-Grupo2/assets/video.mp4: 384x640 1 cortante, 6.4ms\n",
      "video 1/1 (frame 255/1264) /home/gerdson/projetos/FIAP-Hackathon-Grupo2/assets/video.mp4: 384x640 1 cortante, 6.5ms\n",
      "video 1/1 (frame 256/1264) /home/gerdson/projetos/FIAP-Hackathon-Grupo2/assets/video.mp4: 384x640 1 cortante, 6.5ms\n",
      "video 1/1 (frame 257/1264) /home/gerdson/projetos/FIAP-Hackathon-Grupo2/assets/video.mp4: 384x640 (no detections), 6.4ms\n",
      "video 1/1 (frame 258/1264) /home/gerdson/projetos/FIAP-Hackathon-Grupo2/assets/video.mp4: 384x640 (no detections), 6.4ms\n",
      "video 1/1 (frame 259/1264) /home/gerdson/projetos/FIAP-Hackathon-Grupo2/assets/video.mp4: 384x640 1 cortante, 6.5ms\n",
      "video 1/1 (frame 260/1264) /home/gerdson/projetos/FIAP-Hackathon-Grupo2/assets/video.mp4: 384x640 1 cortante, 6.5ms\n",
      "video 1/1 (frame 261/1264) /home/gerdson/projetos/FIAP-Hackathon-Grupo2/assets/video.mp4: 384x640 (no detections), 6.5ms\n",
      "video 1/1 (frame 262/1264) /home/gerdson/projetos/FIAP-Hackathon-Grupo2/assets/video.mp4: 384x640 (no detections), 6.4ms\n",
      "video 1/1 (frame 263/1264) /home/gerdson/projetos/FIAP-Hackathon-Grupo2/assets/video.mp4: 384x640 (no detections), 8.7ms\n",
      "video 1/1 (frame 264/1264) /home/gerdson/projetos/FIAP-Hackathon-Grupo2/assets/video.mp4: 384x640 (no detections), 6.6ms\n",
      "video 1/1 (frame 265/1264) /home/gerdson/projetos/FIAP-Hackathon-Grupo2/assets/video.mp4: 384x640 (no detections), 6.4ms\n",
      "video 1/1 (frame 266/1264) /home/gerdson/projetos/FIAP-Hackathon-Grupo2/assets/video.mp4: 384x640 (no detections), 6.4ms\n",
      "video 1/1 (frame 267/1264) /home/gerdson/projetos/FIAP-Hackathon-Grupo2/assets/video.mp4: 384x640 (no detections), 6.4ms\n",
      "video 1/1 (frame 268/1264) /home/gerdson/projetos/FIAP-Hackathon-Grupo2/assets/video.mp4: 384x640 (no detections), 7.6ms\n",
      "video 1/1 (frame 269/1264) /home/gerdson/projetos/FIAP-Hackathon-Grupo2/assets/video.mp4: 384x640 1 cortante, 6.5ms\n",
      "video 1/1 (frame 270/1264) /home/gerdson/projetos/FIAP-Hackathon-Grupo2/assets/video.mp4: 384x640 1 cortante, 6.6ms\n",
      "video 1/1 (frame 271/1264) /home/gerdson/projetos/FIAP-Hackathon-Grupo2/assets/video.mp4: 384x640 1 cortante, 7.7ms\n",
      "video 1/1 (frame 272/1264) /home/gerdson/projetos/FIAP-Hackathon-Grupo2/assets/video.mp4: 384x640 (no detections), 6.5ms\n",
      "video 1/1 (frame 273/1264) /home/gerdson/projetos/FIAP-Hackathon-Grupo2/assets/video.mp4: 384x640 1 cortante, 6.4ms\n",
      "video 1/1 (frame 274/1264) /home/gerdson/projetos/FIAP-Hackathon-Grupo2/assets/video.mp4: 384x640 1 cortante, 7.7ms\n",
      "video 1/1 (frame 275/1264) /home/gerdson/projetos/FIAP-Hackathon-Grupo2/assets/video.mp4: 384x640 2 cortantes, 6.5ms\n",
      "video 1/1 (frame 276/1264) /home/gerdson/projetos/FIAP-Hackathon-Grupo2/assets/video.mp4: 384x640 1 cortante, 6.4ms\n",
      "video 1/1 (frame 277/1264) /home/gerdson/projetos/FIAP-Hackathon-Grupo2/assets/video.mp4: 384x640 (no detections), 6.5ms\n",
      "video 1/1 (frame 278/1264) /home/gerdson/projetos/FIAP-Hackathon-Grupo2/assets/video.mp4: 384x640 (no detections), 6.5ms\n",
      "video 1/1 (frame 279/1264) /home/gerdson/projetos/FIAP-Hackathon-Grupo2/assets/video.mp4: 384x640 (no detections), 6.4ms\n",
      "video 1/1 (frame 280/1264) /home/gerdson/projetos/FIAP-Hackathon-Grupo2/assets/video.mp4: 384x640 1 cortante, 6.4ms\n",
      "video 1/1 (frame 281/1264) /home/gerdson/projetos/FIAP-Hackathon-Grupo2/assets/video.mp4: 384x640 1 cortante, 6.4ms\n",
      "video 1/1 (frame 282/1264) /home/gerdson/projetos/FIAP-Hackathon-Grupo2/assets/video.mp4: 384x640 2 cortantes, 6.4ms\n",
      "video 1/1 (frame 283/1264) /home/gerdson/projetos/FIAP-Hackathon-Grupo2/assets/video.mp4: 384x640 2 cortantes, 6.4ms\n",
      "video 1/1 (frame 284/1264) /home/gerdson/projetos/FIAP-Hackathon-Grupo2/assets/video.mp4: 384x640 2 cortantes, 6.4ms\n",
      "video 1/1 (frame 285/1264) /home/gerdson/projetos/FIAP-Hackathon-Grupo2/assets/video.mp4: 384x640 2 cortantes, 6.4ms\n",
      "video 1/1 (frame 286/1264) /home/gerdson/projetos/FIAP-Hackathon-Grupo2/assets/video.mp4: 384x640 2 cortantes, 6.6ms\n",
      "video 1/1 (frame 287/1264) /home/gerdson/projetos/FIAP-Hackathon-Grupo2/assets/video.mp4: 384x640 1 cortante, 6.5ms\n",
      "video 1/1 (frame 288/1264) /home/gerdson/projetos/FIAP-Hackathon-Grupo2/assets/video.mp4: 384x640 2 cortantes, 7.6ms\n",
      "video 1/1 (frame 289/1264) /home/gerdson/projetos/FIAP-Hackathon-Grupo2/assets/video.mp4: 384x640 2 cortantes, 6.4ms\n",
      "video 1/1 (frame 290/1264) /home/gerdson/projetos/FIAP-Hackathon-Grupo2/assets/video.mp4: 384x640 2 cortantes, 6.4ms\n",
      "video 1/1 (frame 291/1264) /home/gerdson/projetos/FIAP-Hackathon-Grupo2/assets/video.mp4: 384x640 2 cortantes, 6.5ms\n",
      "video 1/1 (frame 292/1264) /home/gerdson/projetos/FIAP-Hackathon-Grupo2/assets/video.mp4: 384x640 1 cortante, 6.4ms\n",
      "video 1/1 (frame 293/1264) /home/gerdson/projetos/FIAP-Hackathon-Grupo2/assets/video.mp4: 384x640 1 cortante, 6.4ms\n",
      "video 1/1 (frame 294/1264) /home/gerdson/projetos/FIAP-Hackathon-Grupo2/assets/video.mp4: 384x640 1 cortante, 6.5ms\n",
      "video 1/1 (frame 295/1264) /home/gerdson/projetos/FIAP-Hackathon-Grupo2/assets/video.mp4: 384x640 (no detections), 6.4ms\n",
      "video 1/1 (frame 296/1264) /home/gerdson/projetos/FIAP-Hackathon-Grupo2/assets/video.mp4: 384x640 (no detections), 6.5ms\n",
      "video 1/1 (frame 297/1264) /home/gerdson/projetos/FIAP-Hackathon-Grupo2/assets/video.mp4: 384x640 (no detections), 6.4ms\n",
      "video 1/1 (frame 298/1264) /home/gerdson/projetos/FIAP-Hackathon-Grupo2/assets/video.mp4: 384x640 (no detections), 6.4ms\n",
      "video 1/1 (frame 299/1264) /home/gerdson/projetos/FIAP-Hackathon-Grupo2/assets/video.mp4: 384x640 (no detections), 6.4ms\n",
      "video 1/1 (frame 300/1264) /home/gerdson/projetos/FIAP-Hackathon-Grupo2/assets/video.mp4: 384x640 (no detections), 6.5ms\n",
      "video 1/1 (frame 301/1264) /home/gerdson/projetos/FIAP-Hackathon-Grupo2/assets/video.mp4: 384x640 (no detections), 6.4ms\n",
      "video 1/1 (frame 302/1264) /home/gerdson/projetos/FIAP-Hackathon-Grupo2/assets/video.mp4: 384x640 (no detections), 6.4ms\n",
      "video 1/1 (frame 303/1264) /home/gerdson/projetos/FIAP-Hackathon-Grupo2/assets/video.mp4: 384x640 (no detections), 6.4ms\n",
      "video 1/1 (frame 304/1264) /home/gerdson/projetos/FIAP-Hackathon-Grupo2/assets/video.mp4: 384x640 (no detections), 6.4ms\n",
      "video 1/1 (frame 305/1264) /home/gerdson/projetos/FIAP-Hackathon-Grupo2/assets/video.mp4: 384x640 (no detections), 6.4ms\n",
      "video 1/1 (frame 306/1264) /home/gerdson/projetos/FIAP-Hackathon-Grupo2/assets/video.mp4: 384x640 (no detections), 6.4ms\n",
      "video 1/1 (frame 307/1264) /home/gerdson/projetos/FIAP-Hackathon-Grupo2/assets/video.mp4: 384x640 (no detections), 6.4ms\n",
      "video 1/1 (frame 308/1264) /home/gerdson/projetos/FIAP-Hackathon-Grupo2/assets/video.mp4: 384x640 1 cortante, 6.4ms\n",
      "video 1/1 (frame 309/1264) /home/gerdson/projetos/FIAP-Hackathon-Grupo2/assets/video.mp4: 384x640 1 cortante, 7.6ms\n",
      "video 1/1 (frame 310/1264) /home/gerdson/projetos/FIAP-Hackathon-Grupo2/assets/video.mp4: 384x640 (no detections), 6.6ms\n",
      "video 1/1 (frame 311/1264) /home/gerdson/projetos/FIAP-Hackathon-Grupo2/assets/video.mp4: 384x640 (no detections), 6.5ms\n",
      "video 1/1 (frame 312/1264) /home/gerdson/projetos/FIAP-Hackathon-Grupo2/assets/video.mp4: 384x640 (no detections), 6.5ms\n",
      "video 1/1 (frame 313/1264) /home/gerdson/projetos/FIAP-Hackathon-Grupo2/assets/video.mp4: 384x640 2 cortantes, 6.5ms\n",
      "video 1/1 (frame 314/1264) /home/gerdson/projetos/FIAP-Hackathon-Grupo2/assets/video.mp4: 384x640 1 cortante, 6.5ms\n",
      "video 1/1 (frame 315/1264) /home/gerdson/projetos/FIAP-Hackathon-Grupo2/assets/video.mp4: 384x640 1 cortante, 6.5ms\n",
      "video 1/1 (frame 316/1264) /home/gerdson/projetos/FIAP-Hackathon-Grupo2/assets/video.mp4: 384x640 1 cortante, 6.4ms\n",
      "video 1/1 (frame 317/1264) /home/gerdson/projetos/FIAP-Hackathon-Grupo2/assets/video.mp4: 384x640 1 cortante, 6.4ms\n",
      "video 1/1 (frame 318/1264) /home/gerdson/projetos/FIAP-Hackathon-Grupo2/assets/video.mp4: 384x640 (no detections), 6.8ms\n",
      "video 1/1 (frame 319/1264) /home/gerdson/projetos/FIAP-Hackathon-Grupo2/assets/video.mp4: 384x640 (no detections), 6.4ms\n",
      "video 1/1 (frame 320/1264) /home/gerdson/projetos/FIAP-Hackathon-Grupo2/assets/video.mp4: 384x640 (no detections), 6.4ms\n",
      "video 1/1 (frame 321/1264) /home/gerdson/projetos/FIAP-Hackathon-Grupo2/assets/video.mp4: 384x640 (no detections), 6.5ms\n",
      "video 1/1 (frame 322/1264) /home/gerdson/projetos/FIAP-Hackathon-Grupo2/assets/video.mp4: 384x640 (no detections), 7.3ms\n",
      "video 1/1 (frame 323/1264) /home/gerdson/projetos/FIAP-Hackathon-Grupo2/assets/video.mp4: 384x640 (no detections), 6.4ms\n",
      "video 1/1 (frame 324/1264) /home/gerdson/projetos/FIAP-Hackathon-Grupo2/assets/video.mp4: 384x640 (no detections), 6.4ms\n",
      "video 1/1 (frame 325/1264) /home/gerdson/projetos/FIAP-Hackathon-Grupo2/assets/video.mp4: 384x640 (no detections), 6.5ms\n",
      "video 1/1 (frame 326/1264) /home/gerdson/projetos/FIAP-Hackathon-Grupo2/assets/video.mp4: 384x640 (no detections), 7.8ms\n",
      "video 1/1 (frame 327/1264) /home/gerdson/projetos/FIAP-Hackathon-Grupo2/assets/video.mp4: 384x640 (no detections), 8.6ms\n",
      "video 1/1 (frame 328/1264) /home/gerdson/projetos/FIAP-Hackathon-Grupo2/assets/video.mp4: 384x640 1 cortante, 6.6ms\n",
      "video 1/1 (frame 329/1264) /home/gerdson/projetos/FIAP-Hackathon-Grupo2/assets/video.mp4: 384x640 2 cortantes, 6.5ms\n",
      "video 1/1 (frame 330/1264) /home/gerdson/projetos/FIAP-Hackathon-Grupo2/assets/video.mp4: 384x640 1 cortante, 6.5ms\n",
      "video 1/1 (frame 331/1264) /home/gerdson/projetos/FIAP-Hackathon-Grupo2/assets/video.mp4: 384x640 1 cortante, 6.4ms\n",
      "video 1/1 (frame 332/1264) /home/gerdson/projetos/FIAP-Hackathon-Grupo2/assets/video.mp4: 384x640 1 cortante, 6.8ms\n",
      "video 1/1 (frame 333/1264) /home/gerdson/projetos/FIAP-Hackathon-Grupo2/assets/video.mp4: 384x640 (no detections), 6.5ms\n",
      "video 1/1 (frame 334/1264) /home/gerdson/projetos/FIAP-Hackathon-Grupo2/assets/video.mp4: 384x640 (no detections), 6.4ms\n",
      "video 1/1 (frame 335/1264) /home/gerdson/projetos/FIAP-Hackathon-Grupo2/assets/video.mp4: 384x640 (no detections), 6.5ms\n",
      "video 1/1 (frame 336/1264) /home/gerdson/projetos/FIAP-Hackathon-Grupo2/assets/video.mp4: 384x640 (no detections), 6.5ms\n",
      "video 1/1 (frame 337/1264) /home/gerdson/projetos/FIAP-Hackathon-Grupo2/assets/video.mp4: 384x640 (no detections), 6.4ms\n",
      "video 1/1 (frame 338/1264) /home/gerdson/projetos/FIAP-Hackathon-Grupo2/assets/video.mp4: 384x640 1 cortante, 6.4ms\n",
      "video 1/1 (frame 339/1264) /home/gerdson/projetos/FIAP-Hackathon-Grupo2/assets/video.mp4: 384x640 (no detections), 6.4ms\n",
      "video 1/1 (frame 340/1264) /home/gerdson/projetos/FIAP-Hackathon-Grupo2/assets/video.mp4: 384x640 1 cortante, 6.9ms\n",
      "video 1/1 (frame 341/1264) /home/gerdson/projetos/FIAP-Hackathon-Grupo2/assets/video.mp4: 384x640 1 cortante, 8.3ms\n",
      "video 1/1 (frame 342/1264) /home/gerdson/projetos/FIAP-Hackathon-Grupo2/assets/video.mp4: 384x640 (no detections), 7.0ms\n",
      "video 1/1 (frame 343/1264) /home/gerdson/projetos/FIAP-Hackathon-Grupo2/assets/video.mp4: 384x640 (no detections), 6.7ms\n",
      "video 1/1 (frame 344/1264) /home/gerdson/projetos/FIAP-Hackathon-Grupo2/assets/video.mp4: 384x640 (no detections), 6.7ms\n",
      "video 1/1 (frame 345/1264) /home/gerdson/projetos/FIAP-Hackathon-Grupo2/assets/video.mp4: 384x640 (no detections), 6.6ms\n",
      "video 1/1 (frame 346/1264) /home/gerdson/projetos/FIAP-Hackathon-Grupo2/assets/video.mp4: 384x640 (no detections), 6.5ms\n",
      "video 1/1 (frame 347/1264) /home/gerdson/projetos/FIAP-Hackathon-Grupo2/assets/video.mp4: 384x640 (no detections), 6.5ms\n",
      "video 1/1 (frame 348/1264) /home/gerdson/projetos/FIAP-Hackathon-Grupo2/assets/video.mp4: 384x640 (no detections), 6.5ms\n",
      "video 1/1 (frame 349/1264) /home/gerdson/projetos/FIAP-Hackathon-Grupo2/assets/video.mp4: 384x640 (no detections), 6.7ms\n",
      "video 1/1 (frame 350/1264) /home/gerdson/projetos/FIAP-Hackathon-Grupo2/assets/video.mp4: 384x640 (no detections), 6.5ms\n",
      "video 1/1 (frame 351/1264) /home/gerdson/projetos/FIAP-Hackathon-Grupo2/assets/video.mp4: 384x640 (no detections), 6.5ms\n",
      "video 1/1 (frame 352/1264) /home/gerdson/projetos/FIAP-Hackathon-Grupo2/assets/video.mp4: 384x640 (no detections), 7.1ms\n",
      "video 1/1 (frame 353/1264) /home/gerdson/projetos/FIAP-Hackathon-Grupo2/assets/video.mp4: 384x640 (no detections), 6.5ms\n",
      "video 1/1 (frame 354/1264) /home/gerdson/projetos/FIAP-Hackathon-Grupo2/assets/video.mp4: 384x640 (no detections), 6.5ms\n",
      "video 1/1 (frame 355/1264) /home/gerdson/projetos/FIAP-Hackathon-Grupo2/assets/video.mp4: 384x640 (no detections), 6.5ms\n",
      "video 1/1 (frame 356/1264) /home/gerdson/projetos/FIAP-Hackathon-Grupo2/assets/video.mp4: 384x640 (no detections), 6.8ms\n",
      "video 1/1 (frame 357/1264) /home/gerdson/projetos/FIAP-Hackathon-Grupo2/assets/video.mp4: 384x640 (no detections), 6.6ms\n",
      "video 1/1 (frame 358/1264) /home/gerdson/projetos/FIAP-Hackathon-Grupo2/assets/video.mp4: 384x640 (no detections), 6.5ms\n",
      "video 1/1 (frame 359/1264) /home/gerdson/projetos/FIAP-Hackathon-Grupo2/assets/video.mp4: 384x640 (no detections), 6.4ms\n",
      "video 1/1 (frame 360/1264) /home/gerdson/projetos/FIAP-Hackathon-Grupo2/assets/video.mp4: 384x640 (no detections), 6.5ms\n",
      "video 1/1 (frame 361/1264) /home/gerdson/projetos/FIAP-Hackathon-Grupo2/assets/video.mp4: 384x640 (no detections), 6.5ms\n",
      "video 1/1 (frame 362/1264) /home/gerdson/projetos/FIAP-Hackathon-Grupo2/assets/video.mp4: 384x640 (no detections), 6.4ms\n",
      "video 1/1 (frame 363/1264) /home/gerdson/projetos/FIAP-Hackathon-Grupo2/assets/video.mp4: 384x640 (no detections), 7.8ms\n",
      "video 1/1 (frame 364/1264) /home/gerdson/projetos/FIAP-Hackathon-Grupo2/assets/video.mp4: 384x640 (no detections), 6.6ms\n",
      "video 1/1 (frame 365/1264) /home/gerdson/projetos/FIAP-Hackathon-Grupo2/assets/video.mp4: 384x640 (no detections), 6.4ms\n",
      "video 1/1 (frame 366/1264) /home/gerdson/projetos/FIAP-Hackathon-Grupo2/assets/video.mp4: 384x640 (no detections), 6.5ms\n",
      "video 1/1 (frame 367/1264) /home/gerdson/projetos/FIAP-Hackathon-Grupo2/assets/video.mp4: 384x640 (no detections), 6.9ms\n",
      "video 1/1 (frame 368/1264) /home/gerdson/projetos/FIAP-Hackathon-Grupo2/assets/video.mp4: 384x640 (no detections), 6.7ms\n",
      "video 1/1 (frame 369/1264) /home/gerdson/projetos/FIAP-Hackathon-Grupo2/assets/video.mp4: 384x640 (no detections), 6.4ms\n",
      "video 1/1 (frame 370/1264) /home/gerdson/projetos/FIAP-Hackathon-Grupo2/assets/video.mp4: 384x640 (no detections), 6.4ms\n",
      "video 1/1 (frame 371/1264) /home/gerdson/projetos/FIAP-Hackathon-Grupo2/assets/video.mp4: 384x640 (no detections), 6.5ms\n",
      "video 1/1 (frame 372/1264) /home/gerdson/projetos/FIAP-Hackathon-Grupo2/assets/video.mp4: 384x640 (no detections), 6.4ms\n",
      "video 1/1 (frame 373/1264) /home/gerdson/projetos/FIAP-Hackathon-Grupo2/assets/video.mp4: 384x640 (no detections), 6.4ms\n",
      "video 1/1 (frame 374/1264) /home/gerdson/projetos/FIAP-Hackathon-Grupo2/assets/video.mp4: 384x640 (no detections), 6.4ms\n",
      "video 1/1 (frame 375/1264) /home/gerdson/projetos/FIAP-Hackathon-Grupo2/assets/video.mp4: 384x640 (no detections), 6.9ms\n",
      "video 1/1 (frame 376/1264) /home/gerdson/projetos/FIAP-Hackathon-Grupo2/assets/video.mp4: 384x640 (no detections), 6.5ms\n",
      "video 1/1 (frame 377/1264) /home/gerdson/projetos/FIAP-Hackathon-Grupo2/assets/video.mp4: 384x640 (no detections), 6.4ms\n",
      "video 1/1 (frame 378/1264) /home/gerdson/projetos/FIAP-Hackathon-Grupo2/assets/video.mp4: 384x640 (no detections), 6.5ms\n",
      "video 1/1 (frame 379/1264) /home/gerdson/projetos/FIAP-Hackathon-Grupo2/assets/video.mp4: 384x640 (no detections), 6.4ms\n",
      "video 1/1 (frame 380/1264) /home/gerdson/projetos/FIAP-Hackathon-Grupo2/assets/video.mp4: 384x640 (no detections), 6.5ms\n",
      "video 1/1 (frame 381/1264) /home/gerdson/projetos/FIAP-Hackathon-Grupo2/assets/video.mp4: 384x640 (no detections), 6.5ms\n",
      "video 1/1 (frame 382/1264) /home/gerdson/projetos/FIAP-Hackathon-Grupo2/assets/video.mp4: 384x640 (no detections), 6.4ms\n",
      "video 1/1 (frame 383/1264) /home/gerdson/projetos/FIAP-Hackathon-Grupo2/assets/video.mp4: 384x640 (no detections), 6.4ms\n",
      "video 1/1 (frame 384/1264) /home/gerdson/projetos/FIAP-Hackathon-Grupo2/assets/video.mp4: 384x640 (no detections), 6.4ms\n",
      "video 1/1 (frame 385/1264) /home/gerdson/projetos/FIAP-Hackathon-Grupo2/assets/video.mp4: 384x640 (no detections), 6.4ms\n",
      "video 1/1 (frame 386/1264) /home/gerdson/projetos/FIAP-Hackathon-Grupo2/assets/video.mp4: 384x640 (no detections), 6.9ms\n",
      "video 1/1 (frame 387/1264) /home/gerdson/projetos/FIAP-Hackathon-Grupo2/assets/video.mp4: 384x640 (no detections), 6.6ms\n",
      "video 1/1 (frame 388/1264) /home/gerdson/projetos/FIAP-Hackathon-Grupo2/assets/video.mp4: 384x640 (no detections), 6.5ms\n",
      "video 1/1 (frame 389/1264) /home/gerdson/projetos/FIAP-Hackathon-Grupo2/assets/video.mp4: 384x640 (no detections), 7.4ms\n",
      "video 1/1 (frame 390/1264) /home/gerdson/projetos/FIAP-Hackathon-Grupo2/assets/video.mp4: 384x640 (no detections), 6.5ms\n",
      "video 1/1 (frame 391/1264) /home/gerdson/projetos/FIAP-Hackathon-Grupo2/assets/video.mp4: 384x640 (no detections), 6.5ms\n",
      "video 1/1 (frame 392/1264) /home/gerdson/projetos/FIAP-Hackathon-Grupo2/assets/video.mp4: 384x640 (no detections), 6.5ms\n",
      "video 1/1 (frame 393/1264) /home/gerdson/projetos/FIAP-Hackathon-Grupo2/assets/video.mp4: 384x640 (no detections), 6.7ms\n",
      "video 1/1 (frame 394/1264) /home/gerdson/projetos/FIAP-Hackathon-Grupo2/assets/video.mp4: 384x640 (no detections), 6.5ms\n",
      "video 1/1 (frame 395/1264) /home/gerdson/projetos/FIAP-Hackathon-Grupo2/assets/video.mp4: 384x640 (no detections), 6.5ms\n",
      "video 1/1 (frame 396/1264) /home/gerdson/projetos/FIAP-Hackathon-Grupo2/assets/video.mp4: 384x640 (no detections), 6.4ms\n",
      "video 1/1 (frame 397/1264) /home/gerdson/projetos/FIAP-Hackathon-Grupo2/assets/video.mp4: 384x640 (no detections), 6.8ms\n",
      "video 1/1 (frame 398/1264) /home/gerdson/projetos/FIAP-Hackathon-Grupo2/assets/video.mp4: 384x640 (no detections), 6.4ms\n",
      "video 1/1 (frame 399/1264) /home/gerdson/projetos/FIAP-Hackathon-Grupo2/assets/video.mp4: 384x640 (no detections), 6.4ms\n",
      "video 1/1 (frame 400/1264) /home/gerdson/projetos/FIAP-Hackathon-Grupo2/assets/video.mp4: 384x640 (no detections), 6.4ms\n",
      "video 1/1 (frame 401/1264) /home/gerdson/projetos/FIAP-Hackathon-Grupo2/assets/video.mp4: 384x640 (no detections), 6.7ms\n",
      "video 1/1 (frame 402/1264) /home/gerdson/projetos/FIAP-Hackathon-Grupo2/assets/video.mp4: 384x640 (no detections), 6.4ms\n",
      "video 1/1 (frame 403/1264) /home/gerdson/projetos/FIAP-Hackathon-Grupo2/assets/video.mp4: 384x640 (no detections), 6.4ms\n",
      "video 1/1 (frame 404/1264) /home/gerdson/projetos/FIAP-Hackathon-Grupo2/assets/video.mp4: 384x640 (no detections), 6.4ms\n",
      "video 1/1 (frame 405/1264) /home/gerdson/projetos/FIAP-Hackathon-Grupo2/assets/video.mp4: 384x640 (no detections), 6.9ms\n",
      "video 1/1 (frame 406/1264) /home/gerdson/projetos/FIAP-Hackathon-Grupo2/assets/video.mp4: 384x640 (no detections), 6.4ms\n",
      "video 1/1 (frame 407/1264) /home/gerdson/projetos/FIAP-Hackathon-Grupo2/assets/video.mp4: 384x640 (no detections), 6.4ms\n",
      "video 1/1 (frame 408/1264) /home/gerdson/projetos/FIAP-Hackathon-Grupo2/assets/video.mp4: 384x640 (no detections), 6.4ms\n",
      "video 1/1 (frame 409/1264) /home/gerdson/projetos/FIAP-Hackathon-Grupo2/assets/video.mp4: 384x640 (no detections), 6.7ms\n",
      "video 1/1 (frame 410/1264) /home/gerdson/projetos/FIAP-Hackathon-Grupo2/assets/video.mp4: 384x640 (no detections), 6.4ms\n",
      "video 1/1 (frame 411/1264) /home/gerdson/projetos/FIAP-Hackathon-Grupo2/assets/video.mp4: 384x640 (no detections), 6.4ms\n",
      "video 1/1 (frame 412/1264) /home/gerdson/projetos/FIAP-Hackathon-Grupo2/assets/video.mp4: 384x640 (no detections), 6.4ms\n",
      "video 1/1 (frame 413/1264) /home/gerdson/projetos/FIAP-Hackathon-Grupo2/assets/video.mp4: 384x640 (no detections), 7.3ms\n",
      "video 1/1 (frame 414/1264) /home/gerdson/projetos/FIAP-Hackathon-Grupo2/assets/video.mp4: 384x640 (no detections), 6.4ms\n",
      "video 1/1 (frame 415/1264) /home/gerdson/projetos/FIAP-Hackathon-Grupo2/assets/video.mp4: 384x640 (no detections), 6.4ms\n",
      "video 1/1 (frame 416/1264) /home/gerdson/projetos/FIAP-Hackathon-Grupo2/assets/video.mp4: 384x640 (no detections), 6.5ms\n",
      "video 1/1 (frame 417/1264) /home/gerdson/projetos/FIAP-Hackathon-Grupo2/assets/video.mp4: 384x640 (no detections), 7.0ms\n",
      "video 1/1 (frame 418/1264) /home/gerdson/projetos/FIAP-Hackathon-Grupo2/assets/video.mp4: 384x640 (no detections), 6.4ms\n",
      "video 1/1 (frame 419/1264) /home/gerdson/projetos/FIAP-Hackathon-Grupo2/assets/video.mp4: 384x640 (no detections), 6.4ms\n",
      "video 1/1 (frame 420/1264) /home/gerdson/projetos/FIAP-Hackathon-Grupo2/assets/video.mp4: 384x640 (no detections), 6.4ms\n",
      "video 1/1 (frame 421/1264) /home/gerdson/projetos/FIAP-Hackathon-Grupo2/assets/video.mp4: 384x640 (no detections), 7.5ms\n",
      "video 1/1 (frame 422/1264) /home/gerdson/projetos/FIAP-Hackathon-Grupo2/assets/video.mp4: 384x640 (no detections), 6.7ms\n",
      "video 1/1 (frame 423/1264) /home/gerdson/projetos/FIAP-Hackathon-Grupo2/assets/video.mp4: 384x640 (no detections), 6.5ms\n",
      "video 1/1 (frame 424/1264) /home/gerdson/projetos/FIAP-Hackathon-Grupo2/assets/video.mp4: 384x640 (no detections), 6.5ms\n",
      "video 1/1 (frame 425/1264) /home/gerdson/projetos/FIAP-Hackathon-Grupo2/assets/video.mp4: 384x640 (no detections), 6.5ms\n",
      "video 1/1 (frame 426/1264) /home/gerdson/projetos/FIAP-Hackathon-Grupo2/assets/video.mp4: 384x640 (no detections), 6.5ms\n",
      "video 1/1 (frame 427/1264) /home/gerdson/projetos/FIAP-Hackathon-Grupo2/assets/video.mp4: 384x640 (no detections), 6.4ms\n",
      "video 1/1 (frame 428/1264) /home/gerdson/projetos/FIAP-Hackathon-Grupo2/assets/video.mp4: 384x640 (no detections), 6.4ms\n",
      "video 1/1 (frame 429/1264) /home/gerdson/projetos/FIAP-Hackathon-Grupo2/assets/video.mp4: 384x640 (no detections), 6.4ms\n",
      "video 1/1 (frame 430/1264) /home/gerdson/projetos/FIAP-Hackathon-Grupo2/assets/video.mp4: 384x640 (no detections), 6.4ms\n",
      "video 1/1 (frame 431/1264) /home/gerdson/projetos/FIAP-Hackathon-Grupo2/assets/video.mp4: 384x640 (no detections), 6.4ms\n",
      "video 1/1 (frame 432/1264) /home/gerdson/projetos/FIAP-Hackathon-Grupo2/assets/video.mp4: 384x640 (no detections), 6.4ms\n",
      "video 1/1 (frame 433/1264) /home/gerdson/projetos/FIAP-Hackathon-Grupo2/assets/video.mp4: 384x640 (no detections), 6.4ms\n",
      "video 1/1 (frame 434/1264) /home/gerdson/projetos/FIAP-Hackathon-Grupo2/assets/video.mp4: 384x640 (no detections), 6.4ms\n",
      "video 1/1 (frame 435/1264) /home/gerdson/projetos/FIAP-Hackathon-Grupo2/assets/video.mp4: 384x640 (no detections), 6.4ms\n",
      "video 1/1 (frame 436/1264) /home/gerdson/projetos/FIAP-Hackathon-Grupo2/assets/video.mp4: 384x640 (no detections), 7.2ms\n",
      "video 1/1 (frame 437/1264) /home/gerdson/projetos/FIAP-Hackathon-Grupo2/assets/video.mp4: 384x640 (no detections), 6.4ms\n",
      "video 1/1 (frame 438/1264) /home/gerdson/projetos/FIAP-Hackathon-Grupo2/assets/video.mp4: 384x640 (no detections), 6.4ms\n",
      "video 1/1 (frame 439/1264) /home/gerdson/projetos/FIAP-Hackathon-Grupo2/assets/video.mp4: 384x640 (no detections), 6.4ms\n",
      "video 1/1 (frame 440/1264) /home/gerdson/projetos/FIAP-Hackathon-Grupo2/assets/video.mp4: 384x640 (no detections), 7.2ms\n",
      "video 1/1 (frame 441/1264) /home/gerdson/projetos/FIAP-Hackathon-Grupo2/assets/video.mp4: 384x640 (no detections), 6.4ms\n",
      "video 1/1 (frame 442/1264) /home/gerdson/projetos/FIAP-Hackathon-Grupo2/assets/video.mp4: 384x640 (no detections), 6.4ms\n",
      "video 1/1 (frame 443/1264) /home/gerdson/projetos/FIAP-Hackathon-Grupo2/assets/video.mp4: 384x640 (no detections), 6.4ms\n",
      "video 1/1 (frame 444/1264) /home/gerdson/projetos/FIAP-Hackathon-Grupo2/assets/video.mp4: 384x640 (no detections), 6.6ms\n",
      "video 1/1 (frame 445/1264) /home/gerdson/projetos/FIAP-Hackathon-Grupo2/assets/video.mp4: 384x640 (no detections), 6.4ms\n",
      "video 1/1 (frame 446/1264) /home/gerdson/projetos/FIAP-Hackathon-Grupo2/assets/video.mp4: 384x640 (no detections), 6.4ms\n",
      "video 1/1 (frame 447/1264) /home/gerdson/projetos/FIAP-Hackathon-Grupo2/assets/video.mp4: 384x640 (no detections), 6.9ms\n",
      "video 1/1 (frame 448/1264) /home/gerdson/projetos/FIAP-Hackathon-Grupo2/assets/video.mp4: 384x640 (no detections), 6.5ms\n",
      "video 1/1 (frame 449/1264) /home/gerdson/projetos/FIAP-Hackathon-Grupo2/assets/video.mp4: 384x640 (no detections), 6.4ms\n",
      "video 1/1 (frame 450/1264) /home/gerdson/projetos/FIAP-Hackathon-Grupo2/assets/video.mp4: 384x640 (no detections), 6.9ms\n",
      "video 1/1 (frame 451/1264) /home/gerdson/projetos/FIAP-Hackathon-Grupo2/assets/video.mp4: 384x640 (no detections), 6.4ms\n",
      "video 1/1 (frame 452/1264) /home/gerdson/projetos/FIAP-Hackathon-Grupo2/assets/video.mp4: 384x640 (no detections), 6.4ms\n",
      "video 1/1 (frame 453/1264) /home/gerdson/projetos/FIAP-Hackathon-Grupo2/assets/video.mp4: 384x640 (no detections), 7.1ms\n",
      "video 1/1 (frame 454/1264) /home/gerdson/projetos/FIAP-Hackathon-Grupo2/assets/video.mp4: 384x640 (no detections), 6.7ms\n",
      "video 1/1 (frame 455/1264) /home/gerdson/projetos/FIAP-Hackathon-Grupo2/assets/video.mp4: 384x640 1 cortante, 6.5ms\n",
      "video 1/1 (frame 456/1264) /home/gerdson/projetos/FIAP-Hackathon-Grupo2/assets/video.mp4: 384x640 1 cortante, 6.8ms\n",
      "video 1/1 (frame 457/1264) /home/gerdson/projetos/FIAP-Hackathon-Grupo2/assets/video.mp4: 384x640 1 cortante, 6.4ms\n",
      "video 1/1 (frame 458/1264) /home/gerdson/projetos/FIAP-Hackathon-Grupo2/assets/video.mp4: 384x640 1 cortante, 6.4ms\n",
      "video 1/1 (frame 459/1264) /home/gerdson/projetos/FIAP-Hackathon-Grupo2/assets/video.mp4: 384x640 1 cortante, 6.4ms\n",
      "video 1/1 (frame 460/1264) /home/gerdson/projetos/FIAP-Hackathon-Grupo2/assets/video.mp4: 384x640 1 cortante, 7.0ms\n",
      "video 1/1 (frame 461/1264) /home/gerdson/projetos/FIAP-Hackathon-Grupo2/assets/video.mp4: 384x640 1 cortante, 7.8ms\n",
      "video 1/1 (frame 462/1264) /home/gerdson/projetos/FIAP-Hackathon-Grupo2/assets/video.mp4: 384x640 1 cortante, 6.6ms\n",
      "video 1/1 (frame 463/1264) /home/gerdson/projetos/FIAP-Hackathon-Grupo2/assets/video.mp4: 384x640 1 cortante, 7.0ms\n",
      "video 1/1 (frame 464/1264) /home/gerdson/projetos/FIAP-Hackathon-Grupo2/assets/video.mp4: 384x640 1 cortante, 6.9ms\n",
      "video 1/1 (frame 465/1264) /home/gerdson/projetos/FIAP-Hackathon-Grupo2/assets/video.mp4: 384x640 1 cortante, 6.4ms\n",
      "video 1/1 (frame 466/1264) /home/gerdson/projetos/FIAP-Hackathon-Grupo2/assets/video.mp4: 384x640 1 cortante, 6.8ms\n",
      "video 1/1 (frame 467/1264) /home/gerdson/projetos/FIAP-Hackathon-Grupo2/assets/video.mp4: 384x640 1 cortante, 6.3ms\n",
      "video 1/1 (frame 468/1264) /home/gerdson/projetos/FIAP-Hackathon-Grupo2/assets/video.mp4: 384x640 1 cortante, 7.2ms\n",
      "video 1/1 (frame 469/1264) /home/gerdson/projetos/FIAP-Hackathon-Grupo2/assets/video.mp4: 384x640 1 cortante, 6.7ms\n",
      "video 1/1 (frame 470/1264) /home/gerdson/projetos/FIAP-Hackathon-Grupo2/assets/video.mp4: 384x640 (no detections), 6.3ms\n",
      "video 1/1 (frame 471/1264) /home/gerdson/projetos/FIAP-Hackathon-Grupo2/assets/video.mp4: 384x640 1 cortante, 6.8ms\n",
      "video 1/1 (frame 472/1264) /home/gerdson/projetos/FIAP-Hackathon-Grupo2/assets/video.mp4: 384x640 1 cortante, 6.3ms\n",
      "video 1/1 (frame 473/1264) /home/gerdson/projetos/FIAP-Hackathon-Grupo2/assets/video.mp4: 384x640 (no detections), 6.3ms\n",
      "video 1/1 (frame 474/1264) /home/gerdson/projetos/FIAP-Hackathon-Grupo2/assets/video.mp4: 384x640 (no detections), 6.7ms\n",
      "video 1/1 (frame 475/1264) /home/gerdson/projetos/FIAP-Hackathon-Grupo2/assets/video.mp4: 384x640 (no detections), 6.3ms\n",
      "video 1/1 (frame 476/1264) /home/gerdson/projetos/FIAP-Hackathon-Grupo2/assets/video.mp4: 384x640 (no detections), 6.4ms\n",
      "video 1/1 (frame 477/1264) /home/gerdson/projetos/FIAP-Hackathon-Grupo2/assets/video.mp4: 384x640 (no detections), 7.2ms\n",
      "video 1/1 (frame 478/1264) /home/gerdson/projetos/FIAP-Hackathon-Grupo2/assets/video.mp4: 384x640 (no detections), 6.4ms\n",
      "video 1/1 (frame 479/1264) /home/gerdson/projetos/FIAP-Hackathon-Grupo2/assets/video.mp4: 384x640 1 cortante, 6.3ms\n",
      "video 1/1 (frame 480/1264) /home/gerdson/projetos/FIAP-Hackathon-Grupo2/assets/video.mp4: 384x640 1 cortante, 7.0ms\n",
      "video 1/1 (frame 481/1264) /home/gerdson/projetos/FIAP-Hackathon-Grupo2/assets/video.mp4: 384x640 1 cortante, 6.4ms\n",
      "video 1/1 (frame 482/1264) /home/gerdson/projetos/FIAP-Hackathon-Grupo2/assets/video.mp4: 384x640 1 cortante, 7.2ms\n",
      "video 1/1 (frame 483/1264) /home/gerdson/projetos/FIAP-Hackathon-Grupo2/assets/video.mp4: 384x640 (no detections), 6.6ms\n",
      "video 1/1 (frame 484/1264) /home/gerdson/projetos/FIAP-Hackathon-Grupo2/assets/video.mp4: 384x640 1 cortante, 6.4ms\n",
      "video 1/1 (frame 485/1264) /home/gerdson/projetos/FIAP-Hackathon-Grupo2/assets/video.mp4: 384x640 (no detections), 6.4ms\n",
      "video 1/1 (frame 486/1264) /home/gerdson/projetos/FIAP-Hackathon-Grupo2/assets/video.mp4: 384x640 (no detections), 6.4ms\n",
      "video 1/1 (frame 487/1264) /home/gerdson/projetos/FIAP-Hackathon-Grupo2/assets/video.mp4: 384x640 (no detections), 6.7ms\n",
      "video 1/1 (frame 488/1264) /home/gerdson/projetos/FIAP-Hackathon-Grupo2/assets/video.mp4: 384x640 1 cortante, 6.3ms\n",
      "video 1/1 (frame 489/1264) /home/gerdson/projetos/FIAP-Hackathon-Grupo2/assets/video.mp4: 384x640 (no detections), 6.3ms\n",
      "video 1/1 (frame 490/1264) /home/gerdson/projetos/FIAP-Hackathon-Grupo2/assets/video.mp4: 384x640 1 cortante, 7.2ms\n",
      "video 1/1 (frame 491/1264) /home/gerdson/projetos/FIAP-Hackathon-Grupo2/assets/video.mp4: 384x640 1 cortante, 6.3ms\n",
      "video 1/1 (frame 492/1264) /home/gerdson/projetos/FIAP-Hackathon-Grupo2/assets/video.mp4: 384x640 1 cortante, 7.6ms\n",
      "video 1/1 (frame 493/1264) /home/gerdson/projetos/FIAP-Hackathon-Grupo2/assets/video.mp4: 384x640 1 cortante, 6.4ms\n",
      "video 1/1 (frame 494/1264) /home/gerdson/projetos/FIAP-Hackathon-Grupo2/assets/video.mp4: 384x640 1 cortante, 6.4ms\n",
      "video 1/1 (frame 495/1264) /home/gerdson/projetos/FIAP-Hackathon-Grupo2/assets/video.mp4: 384x640 1 cortante, 7.1ms\n",
      "video 1/1 (frame 496/1264) /home/gerdson/projetos/FIAP-Hackathon-Grupo2/assets/video.mp4: 384x640 (no detections), 6.3ms\n",
      "video 1/1 (frame 497/1264) /home/gerdson/projetos/FIAP-Hackathon-Grupo2/assets/video.mp4: 384x640 1 cortante, 7.0ms\n",
      "video 1/1 (frame 498/1264) /home/gerdson/projetos/FIAP-Hackathon-Grupo2/assets/video.mp4: 384x640 1 cortante, 6.4ms\n",
      "video 1/1 (frame 499/1264) /home/gerdson/projetos/FIAP-Hackathon-Grupo2/assets/video.mp4: 384x640 1 cortante, 6.3ms\n",
      "video 1/1 (frame 500/1264) /home/gerdson/projetos/FIAP-Hackathon-Grupo2/assets/video.mp4: 384x640 1 cortante, 6.6ms\n",
      "video 1/1 (frame 501/1264) /home/gerdson/projetos/FIAP-Hackathon-Grupo2/assets/video.mp4: 384x640 1 cortante, 6.3ms\n",
      "video 1/1 (frame 502/1264) /home/gerdson/projetos/FIAP-Hackathon-Grupo2/assets/video.mp4: 384x640 1 cortante, 6.8ms\n",
      "video 1/1 (frame 503/1264) /home/gerdson/projetos/FIAP-Hackathon-Grupo2/assets/video.mp4: 384x640 1 cortante, 6.3ms\n",
      "video 1/1 (frame 504/1264) /home/gerdson/projetos/FIAP-Hackathon-Grupo2/assets/video.mp4: 384x640 1 cortante, 6.3ms\n",
      "video 1/1 (frame 505/1264) /home/gerdson/projetos/FIAP-Hackathon-Grupo2/assets/video.mp4: 384x640 1 cortante, 6.6ms\n",
      "video 1/1 (frame 506/1264) /home/gerdson/projetos/FIAP-Hackathon-Grupo2/assets/video.mp4: 384x640 1 cortante, 6.3ms\n",
      "video 1/1 (frame 507/1264) /home/gerdson/projetos/FIAP-Hackathon-Grupo2/assets/video.mp4: 384x640 1 cortante, 7.1ms\n",
      "video 1/1 (frame 508/1264) /home/gerdson/projetos/FIAP-Hackathon-Grupo2/assets/video.mp4: 384x640 1 cortante, 6.3ms\n",
      "video 1/1 (frame 509/1264) /home/gerdson/projetos/FIAP-Hackathon-Grupo2/assets/video.mp4: 384x640 1 cortante, 6.6ms\n",
      "video 1/1 (frame 510/1264) /home/gerdson/projetos/FIAP-Hackathon-Grupo2/assets/video.mp4: 384x640 1 cortante, 6.4ms\n",
      "video 1/1 (frame 511/1264) /home/gerdson/projetos/FIAP-Hackathon-Grupo2/assets/video.mp4: 384x640 1 cortante, 6.3ms\n",
      "video 1/1 (frame 512/1264) /home/gerdson/projetos/FIAP-Hackathon-Grupo2/assets/video.mp4: 384x640 1 cortante, 7.3ms\n",
      "video 1/1 (frame 513/1264) /home/gerdson/projetos/FIAP-Hackathon-Grupo2/assets/video.mp4: 384x640 1 cortante, 6.3ms\n",
      "video 1/1 (frame 514/1264) /home/gerdson/projetos/FIAP-Hackathon-Grupo2/assets/video.mp4: 384x640 1 cortante, 6.8ms\n",
      "video 1/1 (frame 515/1264) /home/gerdson/projetos/FIAP-Hackathon-Grupo2/assets/video.mp4: 384x640 1 cortante, 6.4ms\n",
      "video 1/1 (frame 516/1264) /home/gerdson/projetos/FIAP-Hackathon-Grupo2/assets/video.mp4: 384x640 1 cortante, 7.4ms\n",
      "video 1/1 (frame 517/1264) /home/gerdson/projetos/FIAP-Hackathon-Grupo2/assets/video.mp4: 384x640 1 cortante, 6.6ms\n",
      "video 1/1 (frame 518/1264) /home/gerdson/projetos/FIAP-Hackathon-Grupo2/assets/video.mp4: 384x640 (no detections), 6.4ms\n",
      "video 1/1 (frame 519/1264) /home/gerdson/projetos/FIAP-Hackathon-Grupo2/assets/video.mp4: 384x640 (no detections), 6.6ms\n",
      "video 1/1 (frame 520/1264) /home/gerdson/projetos/FIAP-Hackathon-Grupo2/assets/video.mp4: 384x640 (no detections), 7.2ms\n",
      "video 1/1 (frame 521/1264) /home/gerdson/projetos/FIAP-Hackathon-Grupo2/assets/video.mp4: 384x640 (no detections), 6.3ms\n",
      "video 1/1 (frame 522/1264) /home/gerdson/projetos/FIAP-Hackathon-Grupo2/assets/video.mp4: 384x640 (no detections), 6.7ms\n",
      "video 1/1 (frame 523/1264) /home/gerdson/projetos/FIAP-Hackathon-Grupo2/assets/video.mp4: 384x640 (no detections), 6.8ms\n",
      "video 1/1 (frame 524/1264) /home/gerdson/projetos/FIAP-Hackathon-Grupo2/assets/video.mp4: 384x640 (no detections), 6.3ms\n",
      "video 1/1 (frame 525/1264) /home/gerdson/projetos/FIAP-Hackathon-Grupo2/assets/video.mp4: 384x640 (no detections), 7.0ms\n",
      "video 1/1 (frame 526/1264) /home/gerdson/projetos/FIAP-Hackathon-Grupo2/assets/video.mp4: 384x640 (no detections), 6.3ms\n",
      "video 1/1 (frame 527/1264) /home/gerdson/projetos/FIAP-Hackathon-Grupo2/assets/video.mp4: 384x640 (no detections), 6.3ms\n",
      "video 1/1 (frame 528/1264) /home/gerdson/projetos/FIAP-Hackathon-Grupo2/assets/video.mp4: 384x640 1 cortante, 6.5ms\n",
      "video 1/1 (frame 529/1264) /home/gerdson/projetos/FIAP-Hackathon-Grupo2/assets/video.mp4: 384x640 (no detections), 6.3ms\n",
      "video 1/1 (frame 530/1264) /home/gerdson/projetos/FIAP-Hackathon-Grupo2/assets/video.mp4: 384x640 1 cortante, 6.3ms\n",
      "video 1/1 (frame 531/1264) /home/gerdson/projetos/FIAP-Hackathon-Grupo2/assets/video.mp4: 384x640 1 cortante, 6.5ms\n",
      "video 1/1 (frame 532/1264) /home/gerdson/projetos/FIAP-Hackathon-Grupo2/assets/video.mp4: 384x640 1 cortante, 6.3ms\n",
      "video 1/1 (frame 533/1264) /home/gerdson/projetos/FIAP-Hackathon-Grupo2/assets/video.mp4: 384x640 (no detections), 6.3ms\n",
      "video 1/1 (frame 534/1264) /home/gerdson/projetos/FIAP-Hackathon-Grupo2/assets/video.mp4: 384x640 (no detections), 6.3ms\n",
      "video 1/1 (frame 535/1264) /home/gerdson/projetos/FIAP-Hackathon-Grupo2/assets/video.mp4: 384x640 (no detections), 6.3ms\n",
      "video 1/1 (frame 536/1264) /home/gerdson/projetos/FIAP-Hackathon-Grupo2/assets/video.mp4: 384x640 (no detections), 6.4ms\n",
      "video 1/1 (frame 537/1264) /home/gerdson/projetos/FIAP-Hackathon-Grupo2/assets/video.mp4: 384x640 (no detections), 6.9ms\n",
      "video 1/1 (frame 538/1264) /home/gerdson/projetos/FIAP-Hackathon-Grupo2/assets/video.mp4: 384x640 1 cortante, 6.3ms\n",
      "video 1/1 (frame 539/1264) /home/gerdson/projetos/FIAP-Hackathon-Grupo2/assets/video.mp4: 384x640 (no detections), 6.3ms\n",
      "video 1/1 (frame 540/1264) /home/gerdson/projetos/FIAP-Hackathon-Grupo2/assets/video.mp4: 384x640 (no detections), 6.3ms\n",
      "video 1/1 (frame 541/1264) /home/gerdson/projetos/FIAP-Hackathon-Grupo2/assets/video.mp4: 384x640 1 cortante, 6.3ms\n",
      "video 1/1 (frame 542/1264) /home/gerdson/projetos/FIAP-Hackathon-Grupo2/assets/video.mp4: 384x640 (no detections), 6.3ms\n",
      "video 1/1 (frame 543/1264) /home/gerdson/projetos/FIAP-Hackathon-Grupo2/assets/video.mp4: 384x640 (no detections), 6.4ms\n",
      "video 1/1 (frame 544/1264) /home/gerdson/projetos/FIAP-Hackathon-Grupo2/assets/video.mp4: 384x640 (no detections), 6.3ms\n",
      "video 1/1 (frame 545/1264) /home/gerdson/projetos/FIAP-Hackathon-Grupo2/assets/video.mp4: 384x640 1 cortante, 6.3ms\n",
      "video 1/1 (frame 546/1264) /home/gerdson/projetos/FIAP-Hackathon-Grupo2/assets/video.mp4: 384x640 1 cortante, 6.7ms\n",
      "video 1/1 (frame 547/1264) /home/gerdson/projetos/FIAP-Hackathon-Grupo2/assets/video.mp4: 384x640 1 cortante, 6.3ms\n",
      "video 1/1 (frame 548/1264) /home/gerdson/projetos/FIAP-Hackathon-Grupo2/assets/video.mp4: 384x640 1 cortante, 6.4ms\n",
      "video 1/1 (frame 549/1264) /home/gerdson/projetos/FIAP-Hackathon-Grupo2/assets/video.mp4: 384x640 (no detections), 6.3ms\n",
      "video 1/1 (frame 550/1264) /home/gerdson/projetos/FIAP-Hackathon-Grupo2/assets/video.mp4: 384x640 1 cortante, 6.4ms\n",
      "video 1/1 (frame 551/1264) /home/gerdson/projetos/FIAP-Hackathon-Grupo2/assets/video.mp4: 384x640 1 cortante, 6.3ms\n",
      "video 1/1 (frame 552/1264) /home/gerdson/projetos/FIAP-Hackathon-Grupo2/assets/video.mp4: 384x640 1 cortante, 6.3ms\n",
      "video 1/1 (frame 553/1264) /home/gerdson/projetos/FIAP-Hackathon-Grupo2/assets/video.mp4: 384x640 1 cortante, 6.3ms\n",
      "video 1/1 (frame 554/1264) /home/gerdson/projetos/FIAP-Hackathon-Grupo2/assets/video.mp4: 384x640 1 cortante, 6.3ms\n",
      "video 1/1 (frame 555/1264) /home/gerdson/projetos/FIAP-Hackathon-Grupo2/assets/video.mp4: 384x640 1 cortante, 6.3ms\n",
      "video 1/1 (frame 556/1264) /home/gerdson/projetos/FIAP-Hackathon-Grupo2/assets/video.mp4: 384x640 1 cortante, 6.3ms\n",
      "video 1/1 (frame 557/1264) /home/gerdson/projetos/FIAP-Hackathon-Grupo2/assets/video.mp4: 384x640 (no detections), 6.3ms\n",
      "video 1/1 (frame 558/1264) /home/gerdson/projetos/FIAP-Hackathon-Grupo2/assets/video.mp4: 384x640 1 cortante, 6.3ms\n",
      "video 1/1 (frame 559/1264) /home/gerdson/projetos/FIAP-Hackathon-Grupo2/assets/video.mp4: 384x640 1 cortante, 6.3ms\n",
      "video 1/1 (frame 560/1264) /home/gerdson/projetos/FIAP-Hackathon-Grupo2/assets/video.mp4: 384x640 1 cortante, 6.3ms\n",
      "video 1/1 (frame 561/1264) /home/gerdson/projetos/FIAP-Hackathon-Grupo2/assets/video.mp4: 384x640 1 cortante, 6.3ms\n",
      "video 1/1 (frame 562/1264) /home/gerdson/projetos/FIAP-Hackathon-Grupo2/assets/video.mp4: 384x640 (no detections), 6.5ms\n",
      "video 1/1 (frame 563/1264) /home/gerdson/projetos/FIAP-Hackathon-Grupo2/assets/video.mp4: 384x640 2 cortantes, 6.4ms\n",
      "video 1/1 (frame 564/1264) /home/gerdson/projetos/FIAP-Hackathon-Grupo2/assets/video.mp4: 384x640 2 cortantes, 6.4ms\n",
      "video 1/1 (frame 565/1264) /home/gerdson/projetos/FIAP-Hackathon-Grupo2/assets/video.mp4: 384x640 1 cortante, 6.3ms\n",
      "video 1/1 (frame 566/1264) /home/gerdson/projetos/FIAP-Hackathon-Grupo2/assets/video.mp4: 384x640 1 cortante, 6.5ms\n",
      "video 1/1 (frame 567/1264) /home/gerdson/projetos/FIAP-Hackathon-Grupo2/assets/video.mp4: 384x640 1 cortante, 6.3ms\n",
      "video 1/1 (frame 568/1264) /home/gerdson/projetos/FIAP-Hackathon-Grupo2/assets/video.mp4: 384x640 1 cortante, 6.3ms\n",
      "video 1/1 (frame 569/1264) /home/gerdson/projetos/FIAP-Hackathon-Grupo2/assets/video.mp4: 384x640 (no detections), 6.4ms\n",
      "video 1/1 (frame 570/1264) /home/gerdson/projetos/FIAP-Hackathon-Grupo2/assets/video.mp4: 384x640 1 cortante, 6.3ms\n",
      "video 1/1 (frame 571/1264) /home/gerdson/projetos/FIAP-Hackathon-Grupo2/assets/video.mp4: 384x640 1 cortante, 6.4ms\n",
      "video 1/1 (frame 572/1264) /home/gerdson/projetos/FIAP-Hackathon-Grupo2/assets/video.mp4: 384x640 2 cortantes, 6.5ms\n",
      "video 1/1 (frame 573/1264) /home/gerdson/projetos/FIAP-Hackathon-Grupo2/assets/video.mp4: 384x640 2 cortantes, 6.3ms\n",
      "video 1/1 (frame 574/1264) /home/gerdson/projetos/FIAP-Hackathon-Grupo2/assets/video.mp4: 384x640 1 cortante, 7.7ms\n",
      "video 1/1 (frame 575/1264) /home/gerdson/projetos/FIAP-Hackathon-Grupo2/assets/video.mp4: 384x640 1 cortante, 6.4ms\n",
      "video 1/1 (frame 576/1264) /home/gerdson/projetos/FIAP-Hackathon-Grupo2/assets/video.mp4: 384x640 1 cortante, 6.3ms\n",
      "video 1/1 (frame 577/1264) /home/gerdson/projetos/FIAP-Hackathon-Grupo2/assets/video.mp4: 384x640 1 cortante, 6.4ms\n",
      "video 1/1 (frame 578/1264) /home/gerdson/projetos/FIAP-Hackathon-Grupo2/assets/video.mp4: 384x640 1 cortante, 6.4ms\n",
      "video 1/1 (frame 579/1264) /home/gerdson/projetos/FIAP-Hackathon-Grupo2/assets/video.mp4: 384x640 1 cortante, 6.3ms\n",
      "video 1/1 (frame 580/1264) /home/gerdson/projetos/FIAP-Hackathon-Grupo2/assets/video.mp4: 384x640 1 cortante, 6.4ms\n",
      "video 1/1 (frame 581/1264) /home/gerdson/projetos/FIAP-Hackathon-Grupo2/assets/video.mp4: 384x640 1 cortante, 6.3ms\n",
      "video 1/1 (frame 582/1264) /home/gerdson/projetos/FIAP-Hackathon-Grupo2/assets/video.mp4: 384x640 1 cortante, 6.3ms\n",
      "video 1/1 (frame 583/1264) /home/gerdson/projetos/FIAP-Hackathon-Grupo2/assets/video.mp4: 384x640 1 cortante, 6.4ms\n",
      "video 1/1 (frame 584/1264) /home/gerdson/projetos/FIAP-Hackathon-Grupo2/assets/video.mp4: 384x640 1 cortante, 6.3ms\n",
      "video 1/1 (frame 585/1264) /home/gerdson/projetos/FIAP-Hackathon-Grupo2/assets/video.mp4: 384x640 (no detections), 6.9ms\n",
      "video 1/1 (frame 586/1264) /home/gerdson/projetos/FIAP-Hackathon-Grupo2/assets/video.mp4: 384x640 (no detections), 8.6ms\n",
      "video 1/1 (frame 587/1264) /home/gerdson/projetos/FIAP-Hackathon-Grupo2/assets/video.mp4: 384x640 (no detections), 6.9ms\n",
      "video 1/1 (frame 588/1264) /home/gerdson/projetos/FIAP-Hackathon-Grupo2/assets/video.mp4: 384x640 1 cortante, 6.5ms\n",
      "video 1/1 (frame 589/1264) /home/gerdson/projetos/FIAP-Hackathon-Grupo2/assets/video.mp4: 384x640 1 cortante, 6.4ms\n",
      "video 1/1 (frame 590/1264) /home/gerdson/projetos/FIAP-Hackathon-Grupo2/assets/video.mp4: 384x640 1 cortante, 6.4ms\n",
      "video 1/1 (frame 591/1264) /home/gerdson/projetos/FIAP-Hackathon-Grupo2/assets/video.mp4: 384x640 1 cortante, 6.4ms\n",
      "video 1/1 (frame 592/1264) /home/gerdson/projetos/FIAP-Hackathon-Grupo2/assets/video.mp4: 384x640 1 cortante, 6.5ms\n",
      "video 1/1 (frame 593/1264) /home/gerdson/projetos/FIAP-Hackathon-Grupo2/assets/video.mp4: 384x640 1 cortante, 6.4ms\n",
      "video 1/1 (frame 594/1264) /home/gerdson/projetos/FIAP-Hackathon-Grupo2/assets/video.mp4: 384x640 1 cortante, 6.4ms\n",
      "video 1/1 (frame 595/1264) /home/gerdson/projetos/FIAP-Hackathon-Grupo2/assets/video.mp4: 384x640 1 cortante, 6.4ms\n",
      "video 1/1 (frame 596/1264) /home/gerdson/projetos/FIAP-Hackathon-Grupo2/assets/video.mp4: 384x640 1 cortante, 6.4ms\n",
      "video 1/1 (frame 597/1264) /home/gerdson/projetos/FIAP-Hackathon-Grupo2/assets/video.mp4: 384x640 1 cortante, 6.4ms\n",
      "video 1/1 (frame 598/1264) /home/gerdson/projetos/FIAP-Hackathon-Grupo2/assets/video.mp4: 384x640 1 cortante, 6.3ms\n",
      "video 1/1 (frame 599/1264) /home/gerdson/projetos/FIAP-Hackathon-Grupo2/assets/video.mp4: 384x640 1 cortante, 6.4ms\n",
      "video 1/1 (frame 600/1264) /home/gerdson/projetos/FIAP-Hackathon-Grupo2/assets/video.mp4: 384x640 1 cortante, 6.3ms\n",
      "video 1/1 (frame 601/1264) /home/gerdson/projetos/FIAP-Hackathon-Grupo2/assets/video.mp4: 384x640 1 cortante, 6.3ms\n",
      "video 1/1 (frame 602/1264) /home/gerdson/projetos/FIAP-Hackathon-Grupo2/assets/video.mp4: 384x640 1 cortante, 8.4ms\n",
      "video 1/1 (frame 603/1264) /home/gerdson/projetos/FIAP-Hackathon-Grupo2/assets/video.mp4: 384x640 1 cortante, 7.3ms\n",
      "video 1/1 (frame 604/1264) /home/gerdson/projetos/FIAP-Hackathon-Grupo2/assets/video.mp4: 384x640 1 cortante, 6.4ms\n",
      "video 1/1 (frame 605/1264) /home/gerdson/projetos/FIAP-Hackathon-Grupo2/assets/video.mp4: 384x640 1 cortante, 6.4ms\n",
      "video 1/1 (frame 606/1264) /home/gerdson/projetos/FIAP-Hackathon-Grupo2/assets/video.mp4: 384x640 1 cortante, 6.4ms\n",
      "video 1/1 (frame 607/1264) /home/gerdson/projetos/FIAP-Hackathon-Grupo2/assets/video.mp4: 384x640 1 cortante, 6.3ms\n",
      "video 1/1 (frame 608/1264) /home/gerdson/projetos/FIAP-Hackathon-Grupo2/assets/video.mp4: 384x640 1 cortante, 6.4ms\n",
      "video 1/1 (frame 609/1264) /home/gerdson/projetos/FIAP-Hackathon-Grupo2/assets/video.mp4: 384x640 1 cortante, 6.4ms\n",
      "video 1/1 (frame 610/1264) /home/gerdson/projetos/FIAP-Hackathon-Grupo2/assets/video.mp4: 384x640 1 cortante, 6.4ms\n",
      "video 1/1 (frame 611/1264) /home/gerdson/projetos/FIAP-Hackathon-Grupo2/assets/video.mp4: 384x640 1 cortante, 6.5ms\n",
      "video 1/1 (frame 612/1264) /home/gerdson/projetos/FIAP-Hackathon-Grupo2/assets/video.mp4: 384x640 (no detections), 6.5ms\n",
      "video 1/1 (frame 613/1264) /home/gerdson/projetos/FIAP-Hackathon-Grupo2/assets/video.mp4: 384x640 (no detections), 6.4ms\n",
      "video 1/1 (frame 614/1264) /home/gerdson/projetos/FIAP-Hackathon-Grupo2/assets/video.mp4: 384x640 (no detections), 6.4ms\n",
      "video 1/1 (frame 615/1264) /home/gerdson/projetos/FIAP-Hackathon-Grupo2/assets/video.mp4: 384x640 (no detections), 6.3ms\n",
      "video 1/1 (frame 616/1264) /home/gerdson/projetos/FIAP-Hackathon-Grupo2/assets/video.mp4: 384x640 (no detections), 6.3ms\n",
      "video 1/1 (frame 617/1264) /home/gerdson/projetos/FIAP-Hackathon-Grupo2/assets/video.mp4: 384x640 (no detections), 6.3ms\n",
      "video 1/1 (frame 618/1264) /home/gerdson/projetos/FIAP-Hackathon-Grupo2/assets/video.mp4: 384x640 (no detections), 6.3ms\n",
      "video 1/1 (frame 619/1264) /home/gerdson/projetos/FIAP-Hackathon-Grupo2/assets/video.mp4: 384x640 (no detections), 6.3ms\n",
      "video 1/1 (frame 620/1264) /home/gerdson/projetos/FIAP-Hackathon-Grupo2/assets/video.mp4: 384x640 (no detections), 6.4ms\n",
      "video 1/1 (frame 621/1264) /home/gerdson/projetos/FIAP-Hackathon-Grupo2/assets/video.mp4: 384x640 (no detections), 6.3ms\n",
      "video 1/1 (frame 622/1264) /home/gerdson/projetos/FIAP-Hackathon-Grupo2/assets/video.mp4: 384x640 (no detections), 6.3ms\n",
      "video 1/1 (frame 623/1264) /home/gerdson/projetos/FIAP-Hackathon-Grupo2/assets/video.mp4: 384x640 (no detections), 6.3ms\n",
      "video 1/1 (frame 624/1264) /home/gerdson/projetos/FIAP-Hackathon-Grupo2/assets/video.mp4: 384x640 (no detections), 6.3ms\n",
      "video 1/1 (frame 625/1264) /home/gerdson/projetos/FIAP-Hackathon-Grupo2/assets/video.mp4: 384x640 (no detections), 6.3ms\n",
      "video 1/1 (frame 626/1264) /home/gerdson/projetos/FIAP-Hackathon-Grupo2/assets/video.mp4: 384x640 (no detections), 6.3ms\n",
      "video 1/1 (frame 627/1264) /home/gerdson/projetos/FIAP-Hackathon-Grupo2/assets/video.mp4: 384x640 (no detections), 6.4ms\n",
      "video 1/1 (frame 628/1264) /home/gerdson/projetos/FIAP-Hackathon-Grupo2/assets/video.mp4: 384x640 (no detections), 6.3ms\n",
      "video 1/1 (frame 629/1264) /home/gerdson/projetos/FIAP-Hackathon-Grupo2/assets/video.mp4: 384x640 (no detections), 6.3ms\n",
      "video 1/1 (frame 630/1264) /home/gerdson/projetos/FIAP-Hackathon-Grupo2/assets/video.mp4: 384x640 (no detections), 6.6ms\n",
      "video 1/1 (frame 631/1264) /home/gerdson/projetos/FIAP-Hackathon-Grupo2/assets/video.mp4: 384x640 (no detections), 6.3ms\n",
      "video 1/1 (frame 632/1264) /home/gerdson/projetos/FIAP-Hackathon-Grupo2/assets/video.mp4: 384x640 (no detections), 7.6ms\n",
      "video 1/1 (frame 633/1264) /home/gerdson/projetos/FIAP-Hackathon-Grupo2/assets/video.mp4: 384x640 (no detections), 6.3ms\n",
      "video 1/1 (frame 634/1264) /home/gerdson/projetos/FIAP-Hackathon-Grupo2/assets/video.mp4: 384x640 (no detections), 9.0ms\n",
      "video 1/1 (frame 635/1264) /home/gerdson/projetos/FIAP-Hackathon-Grupo2/assets/video.mp4: 384x640 (no detections), 6.4ms\n",
      "video 1/1 (frame 636/1264) /home/gerdson/projetos/FIAP-Hackathon-Grupo2/assets/video.mp4: 384x640 (no detections), 6.4ms\n",
      "video 1/1 (frame 637/1264) /home/gerdson/projetos/FIAP-Hackathon-Grupo2/assets/video.mp4: 384x640 (no detections), 6.3ms\n",
      "video 1/1 (frame 638/1264) /home/gerdson/projetos/FIAP-Hackathon-Grupo2/assets/video.mp4: 384x640 (no detections), 6.4ms\n",
      "video 1/1 (frame 639/1264) /home/gerdson/projetos/FIAP-Hackathon-Grupo2/assets/video.mp4: 384x640 (no detections), 6.3ms\n",
      "video 1/1 (frame 640/1264) /home/gerdson/projetos/FIAP-Hackathon-Grupo2/assets/video.mp4: 384x640 (no detections), 6.3ms\n",
      "video 1/1 (frame 641/1264) /home/gerdson/projetos/FIAP-Hackathon-Grupo2/assets/video.mp4: 384x640 (no detections), 6.3ms\n",
      "video 1/1 (frame 642/1264) /home/gerdson/projetos/FIAP-Hackathon-Grupo2/assets/video.mp4: 384x640 (no detections), 6.3ms\n",
      "video 1/1 (frame 643/1264) /home/gerdson/projetos/FIAP-Hackathon-Grupo2/assets/video.mp4: 384x640 (no detections), 6.5ms\n",
      "video 1/1 (frame 644/1264) /home/gerdson/projetos/FIAP-Hackathon-Grupo2/assets/video.mp4: 384x640 (no detections), 6.3ms\n",
      "video 1/1 (frame 645/1264) /home/gerdson/projetos/FIAP-Hackathon-Grupo2/assets/video.mp4: 384x640 (no detections), 7.5ms\n",
      "video 1/1 (frame 646/1264) /home/gerdson/projetos/FIAP-Hackathon-Grupo2/assets/video.mp4: 384x640 (no detections), 6.5ms\n",
      "video 1/1 (frame 647/1264) /home/gerdson/projetos/FIAP-Hackathon-Grupo2/assets/video.mp4: 384x640 (no detections), 6.3ms\n",
      "video 1/1 (frame 648/1264) /home/gerdson/projetos/FIAP-Hackathon-Grupo2/assets/video.mp4: 384x640 (no detections), 6.5ms\n",
      "video 1/1 (frame 649/1264) /home/gerdson/projetos/FIAP-Hackathon-Grupo2/assets/video.mp4: 384x640 (no detections), 6.3ms\n",
      "video 1/1 (frame 650/1264) /home/gerdson/projetos/FIAP-Hackathon-Grupo2/assets/video.mp4: 384x640 (no detections), 9.1ms\n",
      "video 1/1 (frame 651/1264) /home/gerdson/projetos/FIAP-Hackathon-Grupo2/assets/video.mp4: 384x640 (no detections), 6.3ms\n",
      "video 1/1 (frame 652/1264) /home/gerdson/projetos/FIAP-Hackathon-Grupo2/assets/video.mp4: 384x640 (no detections), 6.3ms\n",
      "video 1/1 (frame 653/1264) /home/gerdson/projetos/FIAP-Hackathon-Grupo2/assets/video.mp4: 384x640 (no detections), 6.3ms\n",
      "video 1/1 (frame 654/1264) /home/gerdson/projetos/FIAP-Hackathon-Grupo2/assets/video.mp4: 384x640 (no detections), 6.3ms\n",
      "video 1/1 (frame 655/1264) /home/gerdson/projetos/FIAP-Hackathon-Grupo2/assets/video.mp4: 384x640 (no detections), 7.7ms\n",
      "video 1/1 (frame 656/1264) /home/gerdson/projetos/FIAP-Hackathon-Grupo2/assets/video.mp4: 384x640 (no detections), 6.5ms\n",
      "video 1/1 (frame 657/1264) /home/gerdson/projetos/FIAP-Hackathon-Grupo2/assets/video.mp4: 384x640 (no detections), 6.4ms\n",
      "video 1/1 (frame 658/1264) /home/gerdson/projetos/FIAP-Hackathon-Grupo2/assets/video.mp4: 384x640 (no detections), 6.4ms\n",
      "video 1/1 (frame 659/1264) /home/gerdson/projetos/FIAP-Hackathon-Grupo2/assets/video.mp4: 384x640 (no detections), 6.4ms\n",
      "video 1/1 (frame 660/1264) /home/gerdson/projetos/FIAP-Hackathon-Grupo2/assets/video.mp4: 384x640 (no detections), 7.5ms\n",
      "video 1/1 (frame 661/1264) /home/gerdson/projetos/FIAP-Hackathon-Grupo2/assets/video.mp4: 384x640 (no detections), 6.4ms\n",
      "video 1/1 (frame 662/1264) /home/gerdson/projetos/FIAP-Hackathon-Grupo2/assets/video.mp4: 384x640 (no detections), 6.3ms\n",
      "video 1/1 (frame 663/1264) /home/gerdson/projetos/FIAP-Hackathon-Grupo2/assets/video.mp4: 384x640 (no detections), 6.3ms\n",
      "video 1/1 (frame 664/1264) /home/gerdson/projetos/FIAP-Hackathon-Grupo2/assets/video.mp4: 384x640 (no detections), 6.3ms\n",
      "video 1/1 (frame 665/1264) /home/gerdson/projetos/FIAP-Hackathon-Grupo2/assets/video.mp4: 384x640 (no detections), 6.4ms\n",
      "video 1/1 (frame 666/1264) /home/gerdson/projetos/FIAP-Hackathon-Grupo2/assets/video.mp4: 384x640 (no detections), 8.4ms\n",
      "video 1/1 (frame 667/1264) /home/gerdson/projetos/FIAP-Hackathon-Grupo2/assets/video.mp4: 384x640 (no detections), 6.3ms\n",
      "video 1/1 (frame 668/1264) /home/gerdson/projetos/FIAP-Hackathon-Grupo2/assets/video.mp4: 384x640 (no detections), 6.3ms\n",
      "video 1/1 (frame 669/1264) /home/gerdson/projetos/FIAP-Hackathon-Grupo2/assets/video.mp4: 384x640 (no detections), 6.3ms\n",
      "video 1/1 (frame 670/1264) /home/gerdson/projetos/FIAP-Hackathon-Grupo2/assets/video.mp4: 384x640 (no detections), 6.3ms\n",
      "video 1/1 (frame 671/1264) /home/gerdson/projetos/FIAP-Hackathon-Grupo2/assets/video.mp4: 384x640 (no detections), 6.4ms\n",
      "video 1/1 (frame 672/1264) /home/gerdson/projetos/FIAP-Hackathon-Grupo2/assets/video.mp4: 384x640 (no detections), 6.4ms\n",
      "video 1/1 (frame 673/1264) /home/gerdson/projetos/FIAP-Hackathon-Grupo2/assets/video.mp4: 384x640 (no detections), 6.4ms\n",
      "video 1/1 (frame 674/1264) /home/gerdson/projetos/FIAP-Hackathon-Grupo2/assets/video.mp4: 384x640 (no detections), 6.4ms\n",
      "video 1/1 (frame 675/1264) /home/gerdson/projetos/FIAP-Hackathon-Grupo2/assets/video.mp4: 384x640 (no detections), 6.3ms\n",
      "video 1/1 (frame 676/1264) /home/gerdson/projetos/FIAP-Hackathon-Grupo2/assets/video.mp4: 384x640 (no detections), 6.4ms\n",
      "video 1/1 (frame 677/1264) /home/gerdson/projetos/FIAP-Hackathon-Grupo2/assets/video.mp4: 384x640 (no detections), 6.4ms\n",
      "video 1/1 (frame 678/1264) /home/gerdson/projetos/FIAP-Hackathon-Grupo2/assets/video.mp4: 384x640 (no detections), 6.5ms\n",
      "video 1/1 (frame 679/1264) /home/gerdson/projetos/FIAP-Hackathon-Grupo2/assets/video.mp4: 384x640 (no detections), 6.4ms\n",
      "video 1/1 (frame 680/1264) /home/gerdson/projetos/FIAP-Hackathon-Grupo2/assets/video.mp4: 384x640 (no detections), 6.3ms\n",
      "video 1/1 (frame 681/1264) /home/gerdson/projetos/FIAP-Hackathon-Grupo2/assets/video.mp4: 384x640 (no detections), 6.3ms\n",
      "video 1/1 (frame 682/1264) /home/gerdson/projetos/FIAP-Hackathon-Grupo2/assets/video.mp4: 384x640 (no detections), 9.0ms\n",
      "video 1/1 (frame 683/1264) /home/gerdson/projetos/FIAP-Hackathon-Grupo2/assets/video.mp4: 384x640 (no detections), 6.9ms\n",
      "video 1/1 (frame 684/1264) /home/gerdson/projetos/FIAP-Hackathon-Grupo2/assets/video.mp4: 384x640 (no detections), 6.3ms\n",
      "video 1/1 (frame 685/1264) /home/gerdson/projetos/FIAP-Hackathon-Grupo2/assets/video.mp4: 384x640 (no detections), 6.3ms\n",
      "video 1/1 (frame 686/1264) /home/gerdson/projetos/FIAP-Hackathon-Grupo2/assets/video.mp4: 384x640 (no detections), 6.4ms\n",
      "video 1/1 (frame 687/1264) /home/gerdson/projetos/FIAP-Hackathon-Grupo2/assets/video.mp4: 384x640 (no detections), 6.3ms\n",
      "video 1/1 (frame 688/1264) /home/gerdson/projetos/FIAP-Hackathon-Grupo2/assets/video.mp4: 384x640 (no detections), 6.3ms\n",
      "video 1/1 (frame 689/1264) /home/gerdson/projetos/FIAP-Hackathon-Grupo2/assets/video.mp4: 384x640 (no detections), 6.3ms\n",
      "video 1/1 (frame 690/1264) /home/gerdson/projetos/FIAP-Hackathon-Grupo2/assets/video.mp4: 384x640 (no detections), 6.3ms\n",
      "video 1/1 (frame 691/1264) /home/gerdson/projetos/FIAP-Hackathon-Grupo2/assets/video.mp4: 384x640 (no detections), 6.3ms\n",
      "video 1/1 (frame 692/1264) /home/gerdson/projetos/FIAP-Hackathon-Grupo2/assets/video.mp4: 384x640 (no detections), 6.3ms\n",
      "video 1/1 (frame 693/1264) /home/gerdson/projetos/FIAP-Hackathon-Grupo2/assets/video.mp4: 384x640 (no detections), 6.3ms\n",
      "video 1/1 (frame 694/1264) /home/gerdson/projetos/FIAP-Hackathon-Grupo2/assets/video.mp4: 384x640 (no detections), 6.3ms\n",
      "video 1/1 (frame 695/1264) /home/gerdson/projetos/FIAP-Hackathon-Grupo2/assets/video.mp4: 384x640 (no detections), 6.4ms\n",
      "video 1/1 (frame 696/1264) /home/gerdson/projetos/FIAP-Hackathon-Grupo2/assets/video.mp4: 384x640 (no detections), 6.3ms\n",
      "video 1/1 (frame 697/1264) /home/gerdson/projetos/FIAP-Hackathon-Grupo2/assets/video.mp4: 384x640 (no detections), 7.4ms\n",
      "video 1/1 (frame 698/1264) /home/gerdson/projetos/FIAP-Hackathon-Grupo2/assets/video.mp4: 384x640 (no detections), 8.1ms\n",
      "video 1/1 (frame 699/1264) /home/gerdson/projetos/FIAP-Hackathon-Grupo2/assets/video.mp4: 384x640 (no detections), 7.3ms\n",
      "video 1/1 (frame 700/1264) /home/gerdson/projetos/FIAP-Hackathon-Grupo2/assets/video.mp4: 384x640 1 cortante, 6.4ms\n",
      "video 1/1 (frame 701/1264) /home/gerdson/projetos/FIAP-Hackathon-Grupo2/assets/video.mp4: 384x640 1 cortante, 6.3ms\n",
      "video 1/1 (frame 702/1264) /home/gerdson/projetos/FIAP-Hackathon-Grupo2/assets/video.mp4: 384x640 1 cortante, 6.4ms\n",
      "video 1/1 (frame 703/1264) /home/gerdson/projetos/FIAP-Hackathon-Grupo2/assets/video.mp4: 384x640 1 cortante, 6.3ms\n",
      "video 1/1 (frame 704/1264) /home/gerdson/projetos/FIAP-Hackathon-Grupo2/assets/video.mp4: 384x640 1 cortante, 6.4ms\n",
      "video 1/1 (frame 705/1264) /home/gerdson/projetos/FIAP-Hackathon-Grupo2/assets/video.mp4: 384x640 1 cortante, 6.4ms\n",
      "video 1/1 (frame 706/1264) /home/gerdson/projetos/FIAP-Hackathon-Grupo2/assets/video.mp4: 384x640 1 cortante, 6.3ms\n",
      "video 1/1 (frame 707/1264) /home/gerdson/projetos/FIAP-Hackathon-Grupo2/assets/video.mp4: 384x640 1 cortante, 6.4ms\n",
      "video 1/1 (frame 708/1264) /home/gerdson/projetos/FIAP-Hackathon-Grupo2/assets/video.mp4: 384x640 (no detections), 6.3ms\n",
      "video 1/1 (frame 709/1264) /home/gerdson/projetos/FIAP-Hackathon-Grupo2/assets/video.mp4: 384x640 (no detections), 7.3ms\n",
      "video 1/1 (frame 710/1264) /home/gerdson/projetos/FIAP-Hackathon-Grupo2/assets/video.mp4: 384x640 (no detections), 6.9ms\n",
      "video 1/1 (frame 711/1264) /home/gerdson/projetos/FIAP-Hackathon-Grupo2/assets/video.mp4: 384x640 (no detections), 8.1ms\n",
      "video 1/1 (frame 712/1264) /home/gerdson/projetos/FIAP-Hackathon-Grupo2/assets/video.mp4: 384x640 (no detections), 6.6ms\n",
      "video 1/1 (frame 713/1264) /home/gerdson/projetos/FIAP-Hackathon-Grupo2/assets/video.mp4: 384x640 (no detections), 6.5ms\n",
      "video 1/1 (frame 714/1264) /home/gerdson/projetos/FIAP-Hackathon-Grupo2/assets/video.mp4: 384x640 (no detections), 8.0ms\n",
      "video 1/1 (frame 715/1264) /home/gerdson/projetos/FIAP-Hackathon-Grupo2/assets/video.mp4: 384x640 (no detections), 6.4ms\n",
      "video 1/1 (frame 716/1264) /home/gerdson/projetos/FIAP-Hackathon-Grupo2/assets/video.mp4: 384x640 (no detections), 6.5ms\n",
      "video 1/1 (frame 717/1264) /home/gerdson/projetos/FIAP-Hackathon-Grupo2/assets/video.mp4: 384x640 (no detections), 7.5ms\n",
      "video 1/1 (frame 718/1264) /home/gerdson/projetos/FIAP-Hackathon-Grupo2/assets/video.mp4: 384x640 (no detections), 6.5ms\n",
      "video 1/1 (frame 719/1264) /home/gerdson/projetos/FIAP-Hackathon-Grupo2/assets/video.mp4: 384x640 (no detections), 6.4ms\n",
      "video 1/1 (frame 720/1264) /home/gerdson/projetos/FIAP-Hackathon-Grupo2/assets/video.mp4: 384x640 (no detections), 6.4ms\n",
      "video 1/1 (frame 721/1264) /home/gerdson/projetos/FIAP-Hackathon-Grupo2/assets/video.mp4: 384x640 (no detections), 6.4ms\n",
      "video 1/1 (frame 722/1264) /home/gerdson/projetos/FIAP-Hackathon-Grupo2/assets/video.mp4: 384x640 (no detections), 6.3ms\n",
      "video 1/1 (frame 723/1264) /home/gerdson/projetos/FIAP-Hackathon-Grupo2/assets/video.mp4: 384x640 (no detections), 6.3ms\n",
      "video 1/1 (frame 724/1264) /home/gerdson/projetos/FIAP-Hackathon-Grupo2/assets/video.mp4: 384x640 (no detections), 6.3ms\n",
      "video 1/1 (frame 725/1264) /home/gerdson/projetos/FIAP-Hackathon-Grupo2/assets/video.mp4: 384x640 (no detections), 6.6ms\n",
      "video 1/1 (frame 726/1264) /home/gerdson/projetos/FIAP-Hackathon-Grupo2/assets/video.mp4: 384x640 (no detections), 6.3ms\n",
      "video 1/1 (frame 727/1264) /home/gerdson/projetos/FIAP-Hackathon-Grupo2/assets/video.mp4: 384x640 (no detections), 6.3ms\n",
      "video 1/1 (frame 728/1264) /home/gerdson/projetos/FIAP-Hackathon-Grupo2/assets/video.mp4: 384x640 (no detections), 6.3ms\n",
      "video 1/1 (frame 729/1264) /home/gerdson/projetos/FIAP-Hackathon-Grupo2/assets/video.mp4: 384x640 (no detections), 6.4ms\n",
      "video 1/1 (frame 730/1264) /home/gerdson/projetos/FIAP-Hackathon-Grupo2/assets/video.mp4: 384x640 (no detections), 6.3ms\n",
      "video 1/1 (frame 731/1264) /home/gerdson/projetos/FIAP-Hackathon-Grupo2/assets/video.mp4: 384x640 (no detections), 6.3ms\n",
      "video 1/1 (frame 732/1264) /home/gerdson/projetos/FIAP-Hackathon-Grupo2/assets/video.mp4: 384x640 (no detections), 6.3ms\n",
      "video 1/1 (frame 733/1264) /home/gerdson/projetos/FIAP-Hackathon-Grupo2/assets/video.mp4: 384x640 (no detections), 6.3ms\n",
      "video 1/1 (frame 734/1264) /home/gerdson/projetos/FIAP-Hackathon-Grupo2/assets/video.mp4: 384x640 (no detections), 6.4ms\n",
      "video 1/1 (frame 735/1264) /home/gerdson/projetos/FIAP-Hackathon-Grupo2/assets/video.mp4: 384x640 (no detections), 6.4ms\n",
      "video 1/1 (frame 736/1264) /home/gerdson/projetos/FIAP-Hackathon-Grupo2/assets/video.mp4: 384x640 (no detections), 6.3ms\n",
      "video 1/1 (frame 737/1264) /home/gerdson/projetos/FIAP-Hackathon-Grupo2/assets/video.mp4: 384x640 (no detections), 6.3ms\n",
      "video 1/1 (frame 738/1264) /home/gerdson/projetos/FIAP-Hackathon-Grupo2/assets/video.mp4: 384x640 (no detections), 7.2ms\n",
      "video 1/1 (frame 739/1264) /home/gerdson/projetos/FIAP-Hackathon-Grupo2/assets/video.mp4: 384x640 (no detections), 6.4ms\n",
      "video 1/1 (frame 740/1264) /home/gerdson/projetos/FIAP-Hackathon-Grupo2/assets/video.mp4: 384x640 (no detections), 6.3ms\n",
      "video 1/1 (frame 741/1264) /home/gerdson/projetos/FIAP-Hackathon-Grupo2/assets/video.mp4: 384x640 (no detections), 6.3ms\n",
      "video 1/1 (frame 742/1264) /home/gerdson/projetos/FIAP-Hackathon-Grupo2/assets/video.mp4: 384x640 (no detections), 7.6ms\n",
      "video 1/1 (frame 743/1264) /home/gerdson/projetos/FIAP-Hackathon-Grupo2/assets/video.mp4: 384x640 (no detections), 6.3ms\n",
      "video 1/1 (frame 744/1264) /home/gerdson/projetos/FIAP-Hackathon-Grupo2/assets/video.mp4: 384x640 (no detections), 6.3ms\n",
      "video 1/1 (frame 745/1264) /home/gerdson/projetos/FIAP-Hackathon-Grupo2/assets/video.mp4: 384x640 (no detections), 6.3ms\n",
      "video 1/1 (frame 746/1264) /home/gerdson/projetos/FIAP-Hackathon-Grupo2/assets/video.mp4: 384x640 (no detections), 6.3ms\n",
      "video 1/1 (frame 747/1264) /home/gerdson/projetos/FIAP-Hackathon-Grupo2/assets/video.mp4: 384x640 (no detections), 6.4ms\n",
      "video 1/1 (frame 748/1264) /home/gerdson/projetos/FIAP-Hackathon-Grupo2/assets/video.mp4: 384x640 (no detections), 6.3ms\n",
      "video 1/1 (frame 749/1264) /home/gerdson/projetos/FIAP-Hackathon-Grupo2/assets/video.mp4: 384x640 (no detections), 6.3ms\n",
      "video 1/1 (frame 750/1264) /home/gerdson/projetos/FIAP-Hackathon-Grupo2/assets/video.mp4: 384x640 (no detections), 6.3ms\n",
      "video 1/1 (frame 751/1264) /home/gerdson/projetos/FIAP-Hackathon-Grupo2/assets/video.mp4: 384x640 (no detections), 7.8ms\n",
      "video 1/1 (frame 752/1264) /home/gerdson/projetos/FIAP-Hackathon-Grupo2/assets/video.mp4: 384x640 (no detections), 6.4ms\n",
      "video 1/1 (frame 753/1264) /home/gerdson/projetos/FIAP-Hackathon-Grupo2/assets/video.mp4: 384x640 (no detections), 6.3ms\n",
      "video 1/1 (frame 754/1264) /home/gerdson/projetos/FIAP-Hackathon-Grupo2/assets/video.mp4: 384x640 (no detections), 6.3ms\n",
      "video 1/1 (frame 755/1264) /home/gerdson/projetos/FIAP-Hackathon-Grupo2/assets/video.mp4: 384x640 (no detections), 6.3ms\n",
      "video 1/1 (frame 756/1264) /home/gerdson/projetos/FIAP-Hackathon-Grupo2/assets/video.mp4: 384x640 (no detections), 6.4ms\n",
      "video 1/1 (frame 757/1264) /home/gerdson/projetos/FIAP-Hackathon-Grupo2/assets/video.mp4: 384x640 (no detections), 6.5ms\n",
      "video 1/1 (frame 758/1264) /home/gerdson/projetos/FIAP-Hackathon-Grupo2/assets/video.mp4: 384x640 (no detections), 6.4ms\n",
      "video 1/1 (frame 759/1264) /home/gerdson/projetos/FIAP-Hackathon-Grupo2/assets/video.mp4: 384x640 (no detections), 6.6ms\n",
      "video 1/1 (frame 760/1264) /home/gerdson/projetos/FIAP-Hackathon-Grupo2/assets/video.mp4: 384x640 (no detections), 6.5ms\n",
      "video 1/1 (frame 761/1264) /home/gerdson/projetos/FIAP-Hackathon-Grupo2/assets/video.mp4: 384x640 (no detections), 6.4ms\n",
      "video 1/1 (frame 762/1264) /home/gerdson/projetos/FIAP-Hackathon-Grupo2/assets/video.mp4: 384x640 (no detections), 6.4ms\n",
      "video 1/1 (frame 763/1264) /home/gerdson/projetos/FIAP-Hackathon-Grupo2/assets/video.mp4: 384x640 (no detections), 6.4ms\n",
      "video 1/1 (frame 764/1264) /home/gerdson/projetos/FIAP-Hackathon-Grupo2/assets/video.mp4: 384x640 (no detections), 6.9ms\n",
      "video 1/1 (frame 765/1264) /home/gerdson/projetos/FIAP-Hackathon-Grupo2/assets/video.mp4: 384x640 (no detections), 6.4ms\n",
      "video 1/1 (frame 766/1264) /home/gerdson/projetos/FIAP-Hackathon-Grupo2/assets/video.mp4: 384x640 (no detections), 6.3ms\n",
      "video 1/1 (frame 767/1264) /home/gerdson/projetos/FIAP-Hackathon-Grupo2/assets/video.mp4: 384x640 (no detections), 6.3ms\n",
      "video 1/1 (frame 768/1264) /home/gerdson/projetos/FIAP-Hackathon-Grupo2/assets/video.mp4: 384x640 (no detections), 6.3ms\n",
      "video 1/1 (frame 769/1264) /home/gerdson/projetos/FIAP-Hackathon-Grupo2/assets/video.mp4: 384x640 (no detections), 6.4ms\n",
      "video 1/1 (frame 770/1264) /home/gerdson/projetos/FIAP-Hackathon-Grupo2/assets/video.mp4: 384x640 (no detections), 6.3ms\n",
      "video 1/1 (frame 771/1264) /home/gerdson/projetos/FIAP-Hackathon-Grupo2/assets/video.mp4: 384x640 (no detections), 6.3ms\n",
      "video 1/1 (frame 772/1264) /home/gerdson/projetos/FIAP-Hackathon-Grupo2/assets/video.mp4: 384x640 (no detections), 6.3ms\n",
      "video 1/1 (frame 773/1264) /home/gerdson/projetos/FIAP-Hackathon-Grupo2/assets/video.mp4: 384x640 (no detections), 6.5ms\n",
      "video 1/1 (frame 774/1264) /home/gerdson/projetos/FIAP-Hackathon-Grupo2/assets/video.mp4: 384x640 (no detections), 6.4ms\n",
      "video 1/1 (frame 775/1264) /home/gerdson/projetos/FIAP-Hackathon-Grupo2/assets/video.mp4: 384x640 (no detections), 6.3ms\n",
      "video 1/1 (frame 776/1264) /home/gerdson/projetos/FIAP-Hackathon-Grupo2/assets/video.mp4: 384x640 (no detections), 6.3ms\n",
      "video 1/1 (frame 777/1264) /home/gerdson/projetos/FIAP-Hackathon-Grupo2/assets/video.mp4: 384x640 (no detections), 7.3ms\n",
      "video 1/1 (frame 778/1264) /home/gerdson/projetos/FIAP-Hackathon-Grupo2/assets/video.mp4: 384x640 (no detections), 6.4ms\n",
      "video 1/1 (frame 779/1264) /home/gerdson/projetos/FIAP-Hackathon-Grupo2/assets/video.mp4: 384x640 (no detections), 6.3ms\n",
      "video 1/1 (frame 780/1264) /home/gerdson/projetos/FIAP-Hackathon-Grupo2/assets/video.mp4: 384x640 (no detections), 6.4ms\n",
      "video 1/1 (frame 781/1264) /home/gerdson/projetos/FIAP-Hackathon-Grupo2/assets/video.mp4: 384x640 (no detections), 7.5ms\n",
      "video 1/1 (frame 782/1264) /home/gerdson/projetos/FIAP-Hackathon-Grupo2/assets/video.mp4: 384x640 (no detections), 6.4ms\n",
      "video 1/1 (frame 783/1264) /home/gerdson/projetos/FIAP-Hackathon-Grupo2/assets/video.mp4: 384x640 (no detections), 6.3ms\n",
      "video 1/1 (frame 784/1264) /home/gerdson/projetos/FIAP-Hackathon-Grupo2/assets/video.mp4: 384x640 (no detections), 6.3ms\n",
      "video 1/1 (frame 785/1264) /home/gerdson/projetos/FIAP-Hackathon-Grupo2/assets/video.mp4: 384x640 (no detections), 6.3ms\n",
      "video 1/1 (frame 786/1264) /home/gerdson/projetos/FIAP-Hackathon-Grupo2/assets/video.mp4: 384x640 (no detections), 6.3ms\n",
      "video 1/1 (frame 787/1264) /home/gerdson/projetos/FIAP-Hackathon-Grupo2/assets/video.mp4: 384x640 (no detections), 6.3ms\n",
      "video 1/1 (frame 788/1264) /home/gerdson/projetos/FIAP-Hackathon-Grupo2/assets/video.mp4: 384x640 (no detections), 6.3ms\n",
      "video 1/1 (frame 789/1264) /home/gerdson/projetos/FIAP-Hackathon-Grupo2/assets/video.mp4: 384x640 (no detections), 7.0ms\n",
      "video 1/1 (frame 790/1264) /home/gerdson/projetos/FIAP-Hackathon-Grupo2/assets/video.mp4: 384x640 (no detections), 6.4ms\n",
      "video 1/1 (frame 791/1264) /home/gerdson/projetos/FIAP-Hackathon-Grupo2/assets/video.mp4: 384x640 (no detections), 6.3ms\n",
      "video 1/1 (frame 792/1264) /home/gerdson/projetos/FIAP-Hackathon-Grupo2/assets/video.mp4: 384x640 (no detections), 7.4ms\n",
      "video 1/1 (frame 793/1264) /home/gerdson/projetos/FIAP-Hackathon-Grupo2/assets/video.mp4: 384x640 (no detections), 7.0ms\n",
      "video 1/1 (frame 794/1264) /home/gerdson/projetos/FIAP-Hackathon-Grupo2/assets/video.mp4: 384x640 (no detections), 6.3ms\n",
      "video 1/1 (frame 795/1264) /home/gerdson/projetos/FIAP-Hackathon-Grupo2/assets/video.mp4: 384x640 (no detections), 7.3ms\n",
      "video 1/1 (frame 796/1264) /home/gerdson/projetos/FIAP-Hackathon-Grupo2/assets/video.mp4: 384x640 (no detections), 6.5ms\n",
      "video 1/1 (frame 797/1264) /home/gerdson/projetos/FIAP-Hackathon-Grupo2/assets/video.mp4: 384x640 (no detections), 6.3ms\n",
      "video 1/1 (frame 798/1264) /home/gerdson/projetos/FIAP-Hackathon-Grupo2/assets/video.mp4: 384x640 (no detections), 7.4ms\n",
      "video 1/1 (frame 799/1264) /home/gerdson/projetos/FIAP-Hackathon-Grupo2/assets/video.mp4: 384x640 (no detections), 8.8ms\n",
      "video 1/1 (frame 800/1264) /home/gerdson/projetos/FIAP-Hackathon-Grupo2/assets/video.mp4: 384x640 (no detections), 6.7ms\n",
      "video 1/1 (frame 801/1264) /home/gerdson/projetos/FIAP-Hackathon-Grupo2/assets/video.mp4: 384x640 (no detections), 6.5ms\n",
      "video 1/1 (frame 802/1264) /home/gerdson/projetos/FIAP-Hackathon-Grupo2/assets/video.mp4: 384x640 (no detections), 6.4ms\n",
      "video 1/1 (frame 803/1264) /home/gerdson/projetos/FIAP-Hackathon-Grupo2/assets/video.mp4: 384x640 (no detections), 6.4ms\n",
      "video 1/1 (frame 804/1264) /home/gerdson/projetos/FIAP-Hackathon-Grupo2/assets/video.mp4: 384x640 1 cortante, 6.4ms\n",
      "video 1/1 (frame 805/1264) /home/gerdson/projetos/FIAP-Hackathon-Grupo2/assets/video.mp4: 384x640 1 cortante, 6.4ms\n",
      "video 1/1 (frame 806/1264) /home/gerdson/projetos/FIAP-Hackathon-Grupo2/assets/video.mp4: 384x640 (no detections), 6.3ms\n",
      "video 1/1 (frame 807/1264) /home/gerdson/projetos/FIAP-Hackathon-Grupo2/assets/video.mp4: 384x640 (no detections), 7.2ms\n",
      "video 1/1 (frame 808/1264) /home/gerdson/projetos/FIAP-Hackathon-Grupo2/assets/video.mp4: 384x640 (no detections), 6.4ms\n",
      "video 1/1 (frame 809/1264) /home/gerdson/projetos/FIAP-Hackathon-Grupo2/assets/video.mp4: 384x640 1 cortante, 6.3ms\n",
      "video 1/1 (frame 810/1264) /home/gerdson/projetos/FIAP-Hackathon-Grupo2/assets/video.mp4: 384x640 2 cortantes, 6.4ms\n",
      "video 1/1 (frame 811/1264) /home/gerdson/projetos/FIAP-Hackathon-Grupo2/assets/video.mp4: 384x640 1 cortante, 6.3ms\n",
      "video 1/1 (frame 812/1264) /home/gerdson/projetos/FIAP-Hackathon-Grupo2/assets/video.mp4: 384x640 1 cortante, 6.4ms\n",
      "video 1/1 (frame 813/1264) /home/gerdson/projetos/FIAP-Hackathon-Grupo2/assets/video.mp4: 384x640 1 cortante, 6.5ms\n",
      "video 1/1 (frame 814/1264) /home/gerdson/projetos/FIAP-Hackathon-Grupo2/assets/video.mp4: 384x640 1 cortante, 7.9ms\n",
      "video 1/1 (frame 815/1264) /home/gerdson/projetos/FIAP-Hackathon-Grupo2/assets/video.mp4: 384x640 1 cortante, 6.4ms\n",
      "video 1/1 (frame 816/1264) /home/gerdson/projetos/FIAP-Hackathon-Grupo2/assets/video.mp4: 384x640 1 cortante, 6.4ms\n",
      "video 1/1 (frame 817/1264) /home/gerdson/projetos/FIAP-Hackathon-Grupo2/assets/video.mp4: 384x640 1 cortante, 6.8ms\n",
      "video 1/1 (frame 818/1264) /home/gerdson/projetos/FIAP-Hackathon-Grupo2/assets/video.mp4: 384x640 1 cortante, 6.3ms\n",
      "video 1/1 (frame 819/1264) /home/gerdson/projetos/FIAP-Hackathon-Grupo2/assets/video.mp4: 384x640 1 cortante, 7.7ms\n",
      "video 1/1 (frame 820/1264) /home/gerdson/projetos/FIAP-Hackathon-Grupo2/assets/video.mp4: 384x640 1 cortante, 6.3ms\n",
      "video 1/1 (frame 821/1264) /home/gerdson/projetos/FIAP-Hackathon-Grupo2/assets/video.mp4: 384x640 1 cortante, 6.3ms\n",
      "video 1/1 (frame 822/1264) /home/gerdson/projetos/FIAP-Hackathon-Grupo2/assets/video.mp4: 384x640 1 cortante, 7.8ms\n",
      "video 1/1 (frame 823/1264) /home/gerdson/projetos/FIAP-Hackathon-Grupo2/assets/video.mp4: 384x640 1 cortante, 6.3ms\n",
      "video 1/1 (frame 824/1264) /home/gerdson/projetos/FIAP-Hackathon-Grupo2/assets/video.mp4: 384x640 1 cortante, 6.3ms\n",
      "video 1/1 (frame 825/1264) /home/gerdson/projetos/FIAP-Hackathon-Grupo2/assets/video.mp4: 384x640 1 cortante, 6.6ms\n",
      "video 1/1 (frame 826/1264) /home/gerdson/projetos/FIAP-Hackathon-Grupo2/assets/video.mp4: 384x640 1 cortante, 6.4ms\n",
      "video 1/1 (frame 827/1264) /home/gerdson/projetos/FIAP-Hackathon-Grupo2/assets/video.mp4: 384x640 1 cortante, 7.8ms\n",
      "video 1/1 (frame 828/1264) /home/gerdson/projetos/FIAP-Hackathon-Grupo2/assets/video.mp4: 384x640 (no detections), 6.3ms\n",
      "video 1/1 (frame 829/1264) /home/gerdson/projetos/FIAP-Hackathon-Grupo2/assets/video.mp4: 384x640 (no detections), 6.4ms\n",
      "video 1/1 (frame 830/1264) /home/gerdson/projetos/FIAP-Hackathon-Grupo2/assets/video.mp4: 384x640 (no detections), 6.6ms\n",
      "video 1/1 (frame 831/1264) /home/gerdson/projetos/FIAP-Hackathon-Grupo2/assets/video.mp4: 384x640 1 cortante, 6.9ms\n",
      "video 1/1 (frame 832/1264) /home/gerdson/projetos/FIAP-Hackathon-Grupo2/assets/video.mp4: 384x640 1 cortante, 6.4ms\n",
      "video 1/1 (frame 833/1264) /home/gerdson/projetos/FIAP-Hackathon-Grupo2/assets/video.mp4: 384x640 1 cortante, 6.4ms\n",
      "video 1/1 (frame 834/1264) /home/gerdson/projetos/FIAP-Hackathon-Grupo2/assets/video.mp4: 384x640 1 cortante, 6.3ms\n",
      "video 1/1 (frame 835/1264) /home/gerdson/projetos/FIAP-Hackathon-Grupo2/assets/video.mp4: 384x640 1 cortante, 6.3ms\n",
      "video 1/1 (frame 836/1264) /home/gerdson/projetos/FIAP-Hackathon-Grupo2/assets/video.mp4: 384x640 1 cortante, 6.5ms\n",
      "video 1/1 (frame 837/1264) /home/gerdson/projetos/FIAP-Hackathon-Grupo2/assets/video.mp4: 384x640 1 cortante, 6.3ms\n",
      "video 1/1 (frame 838/1264) /home/gerdson/projetos/FIAP-Hackathon-Grupo2/assets/video.mp4: 384x640 1 cortante, 6.3ms\n",
      "video 1/1 (frame 839/1264) /home/gerdson/projetos/FIAP-Hackathon-Grupo2/assets/video.mp4: 384x640 1 cortante, 6.4ms\n",
      "video 1/1 (frame 840/1264) /home/gerdson/projetos/FIAP-Hackathon-Grupo2/assets/video.mp4: 384x640 (no detections), 6.3ms\n",
      "video 1/1 (frame 841/1264) /home/gerdson/projetos/FIAP-Hackathon-Grupo2/assets/video.mp4: 384x640 1 cortante, 6.3ms\n",
      "video 1/1 (frame 842/1264) /home/gerdson/projetos/FIAP-Hackathon-Grupo2/assets/video.mp4: 384x640 1 cortante, 7.4ms\n",
      "video 1/1 (frame 843/1264) /home/gerdson/projetos/FIAP-Hackathon-Grupo2/assets/video.mp4: 384x640 1 cortante, 7.1ms\n",
      "video 1/1 (frame 844/1264) /home/gerdson/projetos/FIAP-Hackathon-Grupo2/assets/video.mp4: 384x640 1 cortante, 6.3ms\n",
      "video 1/1 (frame 845/1264) /home/gerdson/projetos/FIAP-Hackathon-Grupo2/assets/video.mp4: 384x640 1 cortante, 6.8ms\n",
      "video 1/1 (frame 846/1264) /home/gerdson/projetos/FIAP-Hackathon-Grupo2/assets/video.mp4: 384x640 (no detections), 6.3ms\n",
      "video 1/1 (frame 847/1264) /home/gerdson/projetos/FIAP-Hackathon-Grupo2/assets/video.mp4: 384x640 1 cortante, 6.3ms\n",
      "video 1/1 (frame 848/1264) /home/gerdson/projetos/FIAP-Hackathon-Grupo2/assets/video.mp4: 384x640 (no detections), 6.9ms\n",
      "video 1/1 (frame 849/1264) /home/gerdson/projetos/FIAP-Hackathon-Grupo2/assets/video.mp4: 384x640 (no detections), 6.7ms\n",
      "video 1/1 (frame 850/1264) /home/gerdson/projetos/FIAP-Hackathon-Grupo2/assets/video.mp4: 384x640 (no detections), 6.4ms\n",
      "video 1/1 (frame 851/1264) /home/gerdson/projetos/FIAP-Hackathon-Grupo2/assets/video.mp4: 384x640 (no detections), 7.4ms\n",
      "video 1/1 (frame 852/1264) /home/gerdson/projetos/FIAP-Hackathon-Grupo2/assets/video.mp4: 384x640 (no detections), 7.1ms\n",
      "video 1/1 (frame 853/1264) /home/gerdson/projetos/FIAP-Hackathon-Grupo2/assets/video.mp4: 384x640 (no detections), 6.4ms\n",
      "video 1/1 (frame 854/1264) /home/gerdson/projetos/FIAP-Hackathon-Grupo2/assets/video.mp4: 384x640 (no detections), 7.5ms\n",
      "video 1/1 (frame 855/1264) /home/gerdson/projetos/FIAP-Hackathon-Grupo2/assets/video.mp4: 384x640 (no detections), 6.7ms\n",
      "video 1/1 (frame 856/1264) /home/gerdson/projetos/FIAP-Hackathon-Grupo2/assets/video.mp4: 384x640 (no detections), 6.6ms\n",
      "video 1/1 (frame 857/1264) /home/gerdson/projetos/FIAP-Hackathon-Grupo2/assets/video.mp4: 384x640 (no detections), 6.4ms\n",
      "video 1/1 (frame 858/1264) /home/gerdson/projetos/FIAP-Hackathon-Grupo2/assets/video.mp4: 384x640 (no detections), 6.8ms\n",
      "video 1/1 (frame 859/1264) /home/gerdson/projetos/FIAP-Hackathon-Grupo2/assets/video.mp4: 384x640 1 cortante, 6.4ms\n",
      "video 1/1 (frame 860/1264) /home/gerdson/projetos/FIAP-Hackathon-Grupo2/assets/video.mp4: 384x640 1 cortante, 6.4ms\n",
      "video 1/1 (frame 861/1264) /home/gerdson/projetos/FIAP-Hackathon-Grupo2/assets/video.mp4: 384x640 1 cortante, 7.3ms\n",
      "video 1/1 (frame 862/1264) /home/gerdson/projetos/FIAP-Hackathon-Grupo2/assets/video.mp4: 384x640 1 cortante, 6.4ms\n",
      "video 1/1 (frame 863/1264) /home/gerdson/projetos/FIAP-Hackathon-Grupo2/assets/video.mp4: 384x640 (no detections), 6.4ms\n",
      "video 1/1 (frame 864/1264) /home/gerdson/projetos/FIAP-Hackathon-Grupo2/assets/video.mp4: 384x640 (no detections), 7.3ms\n",
      "video 1/1 (frame 865/1264) /home/gerdson/projetos/FIAP-Hackathon-Grupo2/assets/video.mp4: 384x640 (no detections), 6.5ms\n",
      "video 1/1 (frame 866/1264) /home/gerdson/projetos/FIAP-Hackathon-Grupo2/assets/video.mp4: 384x640 (no detections), 6.4ms\n",
      "video 1/1 (frame 867/1264) /home/gerdson/projetos/FIAP-Hackathon-Grupo2/assets/video.mp4: 384x640 (no detections), 6.4ms\n",
      "video 1/1 (frame 868/1264) /home/gerdson/projetos/FIAP-Hackathon-Grupo2/assets/video.mp4: 384x640 (no detections), 7.2ms\n",
      "video 1/1 (frame 869/1264) /home/gerdson/projetos/FIAP-Hackathon-Grupo2/assets/video.mp4: 384x640 (no detections), 6.3ms\n",
      "video 1/1 (frame 870/1264) /home/gerdson/projetos/FIAP-Hackathon-Grupo2/assets/video.mp4: 384x640 (no detections), 6.3ms\n",
      "video 1/1 (frame 871/1264) /home/gerdson/projetos/FIAP-Hackathon-Grupo2/assets/video.mp4: 384x640 (no detections), 6.3ms\n",
      "video 1/1 (frame 872/1264) /home/gerdson/projetos/FIAP-Hackathon-Grupo2/assets/video.mp4: 384x640 (no detections), 6.5ms\n",
      "video 1/1 (frame 873/1264) /home/gerdson/projetos/FIAP-Hackathon-Grupo2/assets/video.mp4: 384x640 (no detections), 6.4ms\n",
      "video 1/1 (frame 874/1264) /home/gerdson/projetos/FIAP-Hackathon-Grupo2/assets/video.mp4: 384x640 (no detections), 6.4ms\n",
      "video 1/1 (frame 875/1264) /home/gerdson/projetos/FIAP-Hackathon-Grupo2/assets/video.mp4: 384x640 (no detections), 6.4ms\n",
      "video 1/1 (frame 876/1264) /home/gerdson/projetos/FIAP-Hackathon-Grupo2/assets/video.mp4: 384x640 (no detections), 6.3ms\n",
      "video 1/1 (frame 877/1264) /home/gerdson/projetos/FIAP-Hackathon-Grupo2/assets/video.mp4: 384x640 (no detections), 6.5ms\n",
      "video 1/1 (frame 878/1264) /home/gerdson/projetos/FIAP-Hackathon-Grupo2/assets/video.mp4: 384x640 (no detections), 6.3ms\n",
      "video 1/1 (frame 879/1264) /home/gerdson/projetos/FIAP-Hackathon-Grupo2/assets/video.mp4: 384x640 (no detections), 6.3ms\n",
      "video 1/1 (frame 880/1264) /home/gerdson/projetos/FIAP-Hackathon-Grupo2/assets/video.mp4: 384x640 1 cortante, 6.3ms\n",
      "video 1/1 (frame 881/1264) /home/gerdson/projetos/FIAP-Hackathon-Grupo2/assets/video.mp4: 384x640 1 cortante, 6.4ms\n",
      "video 1/1 (frame 882/1264) /home/gerdson/projetos/FIAP-Hackathon-Grupo2/assets/video.mp4: 384x640 1 cortante, 6.7ms\n",
      "video 1/1 (frame 883/1264) /home/gerdson/projetos/FIAP-Hackathon-Grupo2/assets/video.mp4: 384x640 (no detections), 6.4ms\n",
      "video 1/1 (frame 884/1264) /home/gerdson/projetos/FIAP-Hackathon-Grupo2/assets/video.mp4: 384x640 1 cortante, 6.4ms\n",
      "video 1/1 (frame 885/1264) /home/gerdson/projetos/FIAP-Hackathon-Grupo2/assets/video.mp4: 384x640 (no detections), 6.3ms\n",
      "video 1/1 (frame 886/1264) /home/gerdson/projetos/FIAP-Hackathon-Grupo2/assets/video.mp4: 384x640 (no detections), 6.4ms\n",
      "video 1/1 (frame 887/1264) /home/gerdson/projetos/FIAP-Hackathon-Grupo2/assets/video.mp4: 384x640 (no detections), 6.9ms\n",
      "video 1/1 (frame 888/1264) /home/gerdson/projetos/FIAP-Hackathon-Grupo2/assets/video.mp4: 384x640 (no detections), 8.4ms\n",
      "video 1/1 (frame 889/1264) /home/gerdson/projetos/FIAP-Hackathon-Grupo2/assets/video.mp4: 384x640 (no detections), 7.0ms\n",
      "video 1/1 (frame 890/1264) /home/gerdson/projetos/FIAP-Hackathon-Grupo2/assets/video.mp4: 384x640 (no detections), 6.9ms\n",
      "video 1/1 (frame 891/1264) /home/gerdson/projetos/FIAP-Hackathon-Grupo2/assets/video.mp4: 384x640 (no detections), 6.5ms\n",
      "video 1/1 (frame 892/1264) /home/gerdson/projetos/FIAP-Hackathon-Grupo2/assets/video.mp4: 384x640 (no detections), 7.3ms\n",
      "video 1/1 (frame 893/1264) /home/gerdson/projetos/FIAP-Hackathon-Grupo2/assets/video.mp4: 384x640 (no detections), 7.1ms\n",
      "video 1/1 (frame 894/1264) /home/gerdson/projetos/FIAP-Hackathon-Grupo2/assets/video.mp4: 384x640 (no detections), 6.5ms\n",
      "video 1/1 (frame 895/1264) /home/gerdson/projetos/FIAP-Hackathon-Grupo2/assets/video.mp4: 384x640 (no detections), 6.5ms\n",
      "video 1/1 (frame 896/1264) /home/gerdson/projetos/FIAP-Hackathon-Grupo2/assets/video.mp4: 384x640 (no detections), 6.8ms\n",
      "video 1/1 (frame 897/1264) /home/gerdson/projetos/FIAP-Hackathon-Grupo2/assets/video.mp4: 384x640 (no detections), 7.1ms\n",
      "video 1/1 (frame 898/1264) /home/gerdson/projetos/FIAP-Hackathon-Grupo2/assets/video.mp4: 384x640 1 cortante, 6.7ms\n",
      "video 1/1 (frame 899/1264) /home/gerdson/projetos/FIAP-Hackathon-Grupo2/assets/video.mp4: 384x640 1 cortante, 6.6ms\n",
      "video 1/1 (frame 900/1264) /home/gerdson/projetos/FIAP-Hackathon-Grupo2/assets/video.mp4: 384x640 (no detections), 6.5ms\n",
      "video 1/1 (frame 901/1264) /home/gerdson/projetos/FIAP-Hackathon-Grupo2/assets/video.mp4: 384x640 (no detections), 6.5ms\n",
      "video 1/1 (frame 902/1264) /home/gerdson/projetos/FIAP-Hackathon-Grupo2/assets/video.mp4: 384x640 (no detections), 6.6ms\n",
      "video 1/1 (frame 903/1264) /home/gerdson/projetos/FIAP-Hackathon-Grupo2/assets/video.mp4: 384x640 (no detections), 6.6ms\n",
      "video 1/1 (frame 904/1264) /home/gerdson/projetos/FIAP-Hackathon-Grupo2/assets/video.mp4: 384x640 (no detections), 6.5ms\n",
      "video 1/1 (frame 905/1264) /home/gerdson/projetos/FIAP-Hackathon-Grupo2/assets/video.mp4: 384x640 (no detections), 6.4ms\n",
      "video 1/1 (frame 906/1264) /home/gerdson/projetos/FIAP-Hackathon-Grupo2/assets/video.mp4: 384x640 (no detections), 7.2ms\n",
      "video 1/1 (frame 907/1264) /home/gerdson/projetos/FIAP-Hackathon-Grupo2/assets/video.mp4: 384x640 (no detections), 6.7ms\n",
      "video 1/1 (frame 908/1264) /home/gerdson/projetos/FIAP-Hackathon-Grupo2/assets/video.mp4: 384x640 (no detections), 6.5ms\n",
      "video 1/1 (frame 909/1264) /home/gerdson/projetos/FIAP-Hackathon-Grupo2/assets/video.mp4: 384x640 (no detections), 6.5ms\n",
      "video 1/1 (frame 910/1264) /home/gerdson/projetos/FIAP-Hackathon-Grupo2/assets/video.mp4: 384x640 (no detections), 6.6ms\n",
      "video 1/1 (frame 911/1264) /home/gerdson/projetos/FIAP-Hackathon-Grupo2/assets/video.mp4: 384x640 (no detections), 7.0ms\n",
      "video 1/1 (frame 912/1264) /home/gerdson/projetos/FIAP-Hackathon-Grupo2/assets/video.mp4: 384x640 (no detections), 6.5ms\n",
      "video 1/1 (frame 913/1264) /home/gerdson/projetos/FIAP-Hackathon-Grupo2/assets/video.mp4: 384x640 (no detections), 6.4ms\n",
      "video 1/1 (frame 914/1264) /home/gerdson/projetos/FIAP-Hackathon-Grupo2/assets/video.mp4: 384x640 (no detections), 6.8ms\n",
      "video 1/1 (frame 915/1264) /home/gerdson/projetos/FIAP-Hackathon-Grupo2/assets/video.mp4: 384x640 (no detections), 6.5ms\n",
      "video 1/1 (frame 916/1264) /home/gerdson/projetos/FIAP-Hackathon-Grupo2/assets/video.mp4: 384x640 (no detections), 6.4ms\n",
      "video 1/1 (frame 917/1264) /home/gerdson/projetos/FIAP-Hackathon-Grupo2/assets/video.mp4: 384x640 (no detections), 6.5ms\n",
      "video 1/1 (frame 918/1264) /home/gerdson/projetos/FIAP-Hackathon-Grupo2/assets/video.mp4: 384x640 (no detections), 6.9ms\n",
      "video 1/1 (frame 919/1264) /home/gerdson/projetos/FIAP-Hackathon-Grupo2/assets/video.mp4: 384x640 (no detections), 6.5ms\n",
      "video 1/1 (frame 920/1264) /home/gerdson/projetos/FIAP-Hackathon-Grupo2/assets/video.mp4: 384x640 (no detections), 6.6ms\n",
      "video 1/1 (frame 921/1264) /home/gerdson/projetos/FIAP-Hackathon-Grupo2/assets/video.mp4: 384x640 (no detections), 6.4ms\n",
      "video 1/1 (frame 922/1264) /home/gerdson/projetos/FIAP-Hackathon-Grupo2/assets/video.mp4: 384x640 (no detections), 6.4ms\n",
      "video 1/1 (frame 923/1264) /home/gerdson/projetos/FIAP-Hackathon-Grupo2/assets/video.mp4: 384x640 (no detections), 7.6ms\n",
      "video 1/1 (frame 924/1264) /home/gerdson/projetos/FIAP-Hackathon-Grupo2/assets/video.mp4: 384x640 (no detections), 6.6ms\n",
      "video 1/1 (frame 925/1264) /home/gerdson/projetos/FIAP-Hackathon-Grupo2/assets/video.mp4: 384x640 (no detections), 6.5ms\n",
      "video 1/1 (frame 926/1264) /home/gerdson/projetos/FIAP-Hackathon-Grupo2/assets/video.mp4: 384x640 (no detections), 6.4ms\n",
      "video 1/1 (frame 927/1264) /home/gerdson/projetos/FIAP-Hackathon-Grupo2/assets/video.mp4: 384x640 (no detections), 6.4ms\n",
      "video 1/1 (frame 928/1264) /home/gerdson/projetos/FIAP-Hackathon-Grupo2/assets/video.mp4: 384x640 (no detections), 7.5ms\n",
      "video 1/1 (frame 929/1264) /home/gerdson/projetos/FIAP-Hackathon-Grupo2/assets/video.mp4: 384x640 (no detections), 6.5ms\n",
      "video 1/1 (frame 930/1264) /home/gerdson/projetos/FIAP-Hackathon-Grupo2/assets/video.mp4: 384x640 (no detections), 6.6ms\n",
      "video 1/1 (frame 931/1264) /home/gerdson/projetos/FIAP-Hackathon-Grupo2/assets/video.mp4: 384x640 (no detections), 6.5ms\n",
      "video 1/1 (frame 932/1264) /home/gerdson/projetos/FIAP-Hackathon-Grupo2/assets/video.mp4: 384x640 (no detections), 6.5ms\n",
      "video 1/1 (frame 933/1264) /home/gerdson/projetos/FIAP-Hackathon-Grupo2/assets/video.mp4: 384x640 (no detections), 6.9ms\n",
      "video 1/1 (frame 934/1264) /home/gerdson/projetos/FIAP-Hackathon-Grupo2/assets/video.mp4: 384x640 (no detections), 6.7ms\n",
      "video 1/1 (frame 935/1264) /home/gerdson/projetos/FIAP-Hackathon-Grupo2/assets/video.mp4: 384x640 (no detections), 6.5ms\n",
      "video 1/1 (frame 936/1264) /home/gerdson/projetos/FIAP-Hackathon-Grupo2/assets/video.mp4: 384x640 (no detections), 6.6ms\n",
      "video 1/1 (frame 937/1264) /home/gerdson/projetos/FIAP-Hackathon-Grupo2/assets/video.mp4: 384x640 (no detections), 6.4ms\n",
      "video 1/1 (frame 938/1264) /home/gerdson/projetos/FIAP-Hackathon-Grupo2/assets/video.mp4: 384x640 (no detections), 7.0ms\n",
      "video 1/1 (frame 939/1264) /home/gerdson/projetos/FIAP-Hackathon-Grupo2/assets/video.mp4: 384x640 (no detections), 6.7ms\n",
      "video 1/1 (frame 940/1264) /home/gerdson/projetos/FIAP-Hackathon-Grupo2/assets/video.mp4: 384x640 (no detections), 6.5ms\n",
      "video 1/1 (frame 941/1264) /home/gerdson/projetos/FIAP-Hackathon-Grupo2/assets/video.mp4: 384x640 (no detections), 6.5ms\n",
      "video 1/1 (frame 942/1264) /home/gerdson/projetos/FIAP-Hackathon-Grupo2/assets/video.mp4: 384x640 (no detections), 6.5ms\n",
      "video 1/1 (frame 943/1264) /home/gerdson/projetos/FIAP-Hackathon-Grupo2/assets/video.mp4: 384x640 (no detections), 6.9ms\n",
      "video 1/1 (frame 944/1264) /home/gerdson/projetos/FIAP-Hackathon-Grupo2/assets/video.mp4: 384x640 (no detections), 6.4ms\n",
      "video 1/1 (frame 945/1264) /home/gerdson/projetos/FIAP-Hackathon-Grupo2/assets/video.mp4: 384x640 (no detections), 6.4ms\n",
      "video 1/1 (frame 946/1264) /home/gerdson/projetos/FIAP-Hackathon-Grupo2/assets/video.mp4: 384x640 (no detections), 6.6ms\n",
      "video 1/1 (frame 947/1264) /home/gerdson/projetos/FIAP-Hackathon-Grupo2/assets/video.mp4: 384x640 (no detections), 6.5ms\n",
      "video 1/1 (frame 948/1264) /home/gerdson/projetos/FIAP-Hackathon-Grupo2/assets/video.mp4: 384x640 (no detections), 6.7ms\n",
      "video 1/1 (frame 949/1264) /home/gerdson/projetos/FIAP-Hackathon-Grupo2/assets/video.mp4: 384x640 (no detections), 6.8ms\n",
      "video 1/1 (frame 950/1264) /home/gerdson/projetos/FIAP-Hackathon-Grupo2/assets/video.mp4: 384x640 (no detections), 6.5ms\n",
      "video 1/1 (frame 951/1264) /home/gerdson/projetos/FIAP-Hackathon-Grupo2/assets/video.mp4: 384x640 (no detections), 6.5ms\n",
      "video 1/1 (frame 952/1264) /home/gerdson/projetos/FIAP-Hackathon-Grupo2/assets/video.mp4: 384x640 (no detections), 6.5ms\n",
      "video 1/1 (frame 953/1264) /home/gerdson/projetos/FIAP-Hackathon-Grupo2/assets/video.mp4: 384x640 (no detections), 6.9ms\n",
      "video 1/1 (frame 954/1264) /home/gerdson/projetos/FIAP-Hackathon-Grupo2/assets/video.mp4: 384x640 (no detections), 6.7ms\n",
      "video 1/1 (frame 955/1264) /home/gerdson/projetos/FIAP-Hackathon-Grupo2/assets/video.mp4: 384x640 (no detections), 6.5ms\n",
      "video 1/1 (frame 956/1264) /home/gerdson/projetos/FIAP-Hackathon-Grupo2/assets/video.mp4: 384x640 (no detections), 6.5ms\n",
      "video 1/1 (frame 957/1264) /home/gerdson/projetos/FIAP-Hackathon-Grupo2/assets/video.mp4: 384x640 (no detections), 6.4ms\n",
      "video 1/1 (frame 958/1264) /home/gerdson/projetos/FIAP-Hackathon-Grupo2/assets/video.mp4: 384x640 (no detections), 7.3ms\n",
      "video 1/1 (frame 959/1264) /home/gerdson/projetos/FIAP-Hackathon-Grupo2/assets/video.mp4: 384x640 (no detections), 6.7ms\n",
      "video 1/1 (frame 960/1264) /home/gerdson/projetos/FIAP-Hackathon-Grupo2/assets/video.mp4: 384x640 (no detections), 6.5ms\n",
      "video 1/1 (frame 961/1264) /home/gerdson/projetos/FIAP-Hackathon-Grupo2/assets/video.mp4: 384x640 (no detections), 6.5ms\n",
      "video 1/1 (frame 962/1264) /home/gerdson/projetos/FIAP-Hackathon-Grupo2/assets/video.mp4: 384x640 (no detections), 6.5ms\n",
      "video 1/1 (frame 963/1264) /home/gerdson/projetos/FIAP-Hackathon-Grupo2/assets/video.mp4: 384x640 (no detections), 6.9ms\n",
      "video 1/1 (frame 964/1264) /home/gerdson/projetos/FIAP-Hackathon-Grupo2/assets/video.mp4: 384x640 (no detections), 6.8ms\n",
      "video 1/1 (frame 965/1264) /home/gerdson/projetos/FIAP-Hackathon-Grupo2/assets/video.mp4: 384x640 (no detections), 6.6ms\n",
      "video 1/1 (frame 966/1264) /home/gerdson/projetos/FIAP-Hackathon-Grupo2/assets/video.mp4: 384x640 (no detections), 6.6ms\n",
      "video 1/1 (frame 967/1264) /home/gerdson/projetos/FIAP-Hackathon-Grupo2/assets/video.mp4: 384x640 (no detections), 6.4ms\n",
      "video 1/1 (frame 968/1264) /home/gerdson/projetos/FIAP-Hackathon-Grupo2/assets/video.mp4: 384x640 (no detections), 6.8ms\n",
      "video 1/1 (frame 969/1264) /home/gerdson/projetos/FIAP-Hackathon-Grupo2/assets/video.mp4: 384x640 (no detections), 6.7ms\n",
      "video 1/1 (frame 970/1264) /home/gerdson/projetos/FIAP-Hackathon-Grupo2/assets/video.mp4: 384x640 (no detections), 6.5ms\n",
      "video 1/1 (frame 971/1264) /home/gerdson/projetos/FIAP-Hackathon-Grupo2/assets/video.mp4: 384x640 (no detections), 6.4ms\n",
      "video 1/1 (frame 972/1264) /home/gerdson/projetos/FIAP-Hackathon-Grupo2/assets/video.mp4: 384x640 (no detections), 6.5ms\n",
      "video 1/1 (frame 973/1264) /home/gerdson/projetos/FIAP-Hackathon-Grupo2/assets/video.mp4: 384x640 (no detections), 7.2ms\n",
      "video 1/1 (frame 974/1264) /home/gerdson/projetos/FIAP-Hackathon-Grupo2/assets/video.mp4: 384x640 (no detections), 6.7ms\n",
      "video 1/1 (frame 975/1264) /home/gerdson/projetos/FIAP-Hackathon-Grupo2/assets/video.mp4: 384x640 (no detections), 6.4ms\n",
      "video 1/1 (frame 976/1264) /home/gerdson/projetos/FIAP-Hackathon-Grupo2/assets/video.mp4: 384x640 (no detections), 6.6ms\n",
      "video 1/1 (frame 977/1264) /home/gerdson/projetos/FIAP-Hackathon-Grupo2/assets/video.mp4: 384x640 (no detections), 8.0ms\n",
      "video 1/1 (frame 978/1264) /home/gerdson/projetos/FIAP-Hackathon-Grupo2/assets/video.mp4: 384x640 (no detections), 7.4ms\n",
      "video 1/1 (frame 979/1264) /home/gerdson/projetos/FIAP-Hackathon-Grupo2/assets/video.mp4: 384x640 (no detections), 6.7ms\n",
      "video 1/1 (frame 980/1264) /home/gerdson/projetos/FIAP-Hackathon-Grupo2/assets/video.mp4: 384x640 (no detections), 6.6ms\n",
      "video 1/1 (frame 981/1264) /home/gerdson/projetos/FIAP-Hackathon-Grupo2/assets/video.mp4: 384x640 (no detections), 7.3ms\n",
      "video 1/1 (frame 982/1264) /home/gerdson/projetos/FIAP-Hackathon-Grupo2/assets/video.mp4: 384x640 (no detections), 6.8ms\n",
      "video 1/1 (frame 983/1264) /home/gerdson/projetos/FIAP-Hackathon-Grupo2/assets/video.mp4: 384x640 (no detections), 6.5ms\n",
      "video 1/1 (frame 984/1264) /home/gerdson/projetos/FIAP-Hackathon-Grupo2/assets/video.mp4: 384x640 (no detections), 6.5ms\n",
      "video 1/1 (frame 985/1264) /home/gerdson/projetos/FIAP-Hackathon-Grupo2/assets/video.mp4: 384x640 (no detections), 6.5ms\n",
      "video 1/1 (frame 986/1264) /home/gerdson/projetos/FIAP-Hackathon-Grupo2/assets/video.mp4: 384x640 (no detections), 7.4ms\n",
      "video 1/1 (frame 987/1264) /home/gerdson/projetos/FIAP-Hackathon-Grupo2/assets/video.mp4: 384x640 (no detections), 6.8ms\n",
      "video 1/1 (frame 988/1264) /home/gerdson/projetos/FIAP-Hackathon-Grupo2/assets/video.mp4: 384x640 (no detections), 6.5ms\n",
      "video 1/1 (frame 989/1264) /home/gerdson/projetos/FIAP-Hackathon-Grupo2/assets/video.mp4: 384x640 (no detections), 6.5ms\n",
      "video 1/1 (frame 990/1264) /home/gerdson/projetos/FIAP-Hackathon-Grupo2/assets/video.mp4: 384x640 (no detections), 6.5ms\n",
      "video 1/1 (frame 991/1264) /home/gerdson/projetos/FIAP-Hackathon-Grupo2/assets/video.mp4: 384x640 (no detections), 6.8ms\n",
      "video 1/1 (frame 992/1264) /home/gerdson/projetos/FIAP-Hackathon-Grupo2/assets/video.mp4: 384x640 (no detections), 6.7ms\n",
      "video 1/1 (frame 993/1264) /home/gerdson/projetos/FIAP-Hackathon-Grupo2/assets/video.mp4: 384x640 (no detections), 6.5ms\n",
      "video 1/1 (frame 994/1264) /home/gerdson/projetos/FIAP-Hackathon-Grupo2/assets/video.mp4: 384x640 (no detections), 6.5ms\n",
      "video 1/1 (frame 995/1264) /home/gerdson/projetos/FIAP-Hackathon-Grupo2/assets/video.mp4: 384x640 (no detections), 6.5ms\n",
      "video 1/1 (frame 996/1264) /home/gerdson/projetos/FIAP-Hackathon-Grupo2/assets/video.mp4: 384x640 (no detections), 6.9ms\n",
      "video 1/1 (frame 997/1264) /home/gerdson/projetos/FIAP-Hackathon-Grupo2/assets/video.mp4: 384x640 (no detections), 6.7ms\n",
      "video 1/1 (frame 998/1264) /home/gerdson/projetos/FIAP-Hackathon-Grupo2/assets/video.mp4: 384x640 (no detections), 6.5ms\n",
      "video 1/1 (frame 999/1264) /home/gerdson/projetos/FIAP-Hackathon-Grupo2/assets/video.mp4: 384x640 (no detections), 6.5ms\n",
      "video 1/1 (frame 1000/1264) /home/gerdson/projetos/FIAP-Hackathon-Grupo2/assets/video.mp4: 384x640 (no detections), 6.5ms\n",
      "video 1/1 (frame 1001/1264) /home/gerdson/projetos/FIAP-Hackathon-Grupo2/assets/video.mp4: 384x640 (no detections), 7.3ms\n",
      "video 1/1 (frame 1002/1264) /home/gerdson/projetos/FIAP-Hackathon-Grupo2/assets/video.mp4: 384x640 (no detections), 6.6ms\n",
      "video 1/1 (frame 1003/1264) /home/gerdson/projetos/FIAP-Hackathon-Grupo2/assets/video.mp4: 384x640 (no detections), 6.5ms\n",
      "video 1/1 (frame 1004/1264) /home/gerdson/projetos/FIAP-Hackathon-Grupo2/assets/video.mp4: 384x640 (no detections), 6.5ms\n",
      "video 1/1 (frame 1005/1264) /home/gerdson/projetos/FIAP-Hackathon-Grupo2/assets/video.mp4: 384x640 (no detections), 6.5ms\n",
      "video 1/1 (frame 1006/1264) /home/gerdson/projetos/FIAP-Hackathon-Grupo2/assets/video.mp4: 384x640 (no detections), 7.2ms\n",
      "video 1/1 (frame 1007/1264) /home/gerdson/projetos/FIAP-Hackathon-Grupo2/assets/video.mp4: 384x640 (no detections), 8.5ms\n",
      "video 1/1 (frame 1008/1264) /home/gerdson/projetos/FIAP-Hackathon-Grupo2/assets/video.mp4: 384x640 (no detections), 8.7ms\n",
      "video 1/1 (frame 1009/1264) /home/gerdson/projetos/FIAP-Hackathon-Grupo2/assets/video.mp4: 384x640 (no detections), 6.4ms\n",
      "video 1/1 (frame 1010/1264) /home/gerdson/projetos/FIAP-Hackathon-Grupo2/assets/video.mp4: 384x640 (no detections), 6.4ms\n",
      "video 1/1 (frame 1011/1264) /home/gerdson/projetos/FIAP-Hackathon-Grupo2/assets/video.mp4: 384x640 (no detections), 6.5ms\n",
      "video 1/1 (frame 1012/1264) /home/gerdson/projetos/FIAP-Hackathon-Grupo2/assets/video.mp4: 384x640 (no detections), 6.5ms\n",
      "video 1/1 (frame 1013/1264) /home/gerdson/projetos/FIAP-Hackathon-Grupo2/assets/video.mp4: 384x640 (no detections), 7.3ms\n",
      "video 1/1 (frame 1014/1264) /home/gerdson/projetos/FIAP-Hackathon-Grupo2/assets/video.mp4: 384x640 (no detections), 6.7ms\n",
      "video 1/1 (frame 1015/1264) /home/gerdson/projetos/FIAP-Hackathon-Grupo2/assets/video.mp4: 384x640 (no detections), 6.5ms\n",
      "video 1/1 (frame 1016/1264) /home/gerdson/projetos/FIAP-Hackathon-Grupo2/assets/video.mp4: 384x640 (no detections), 6.4ms\n",
      "video 1/1 (frame 1017/1264) /home/gerdson/projetos/FIAP-Hackathon-Grupo2/assets/video.mp4: 384x640 (no detections), 6.4ms\n",
      "video 1/1 (frame 1018/1264) /home/gerdson/projetos/FIAP-Hackathon-Grupo2/assets/video.mp4: 384x640 (no detections), 7.6ms\n",
      "video 1/1 (frame 1019/1264) /home/gerdson/projetos/FIAP-Hackathon-Grupo2/assets/video.mp4: 384x640 (no detections), 6.8ms\n",
      "video 1/1 (frame 1020/1264) /home/gerdson/projetos/FIAP-Hackathon-Grupo2/assets/video.mp4: 384x640 (no detections), 6.5ms\n",
      "video 1/1 (frame 1021/1264) /home/gerdson/projetos/FIAP-Hackathon-Grupo2/assets/video.mp4: 384x640 (no detections), 6.6ms\n",
      "video 1/1 (frame 1022/1264) /home/gerdson/projetos/FIAP-Hackathon-Grupo2/assets/video.mp4: 384x640 (no detections), 6.6ms\n",
      "video 1/1 (frame 1023/1264) /home/gerdson/projetos/FIAP-Hackathon-Grupo2/assets/video.mp4: 384x640 (no detections), 7.9ms\n",
      "video 1/1 (frame 1024/1264) /home/gerdson/projetos/FIAP-Hackathon-Grupo2/assets/video.mp4: 384x640 (no detections), 6.4ms\n",
      "video 1/1 (frame 1025/1264) /home/gerdson/projetos/FIAP-Hackathon-Grupo2/assets/video.mp4: 384x640 (no detections), 6.5ms\n",
      "video 1/1 (frame 1026/1264) /home/gerdson/projetos/FIAP-Hackathon-Grupo2/assets/video.mp4: 384x640 (no detections), 6.5ms\n",
      "video 1/1 (frame 1027/1264) /home/gerdson/projetos/FIAP-Hackathon-Grupo2/assets/video.mp4: 384x640 (no detections), 6.5ms\n",
      "video 1/1 (frame 1028/1264) /home/gerdson/projetos/FIAP-Hackathon-Grupo2/assets/video.mp4: 384x640 (no detections), 6.5ms\n",
      "video 1/1 (frame 1029/1264) /home/gerdson/projetos/FIAP-Hackathon-Grupo2/assets/video.mp4: 384x640 (no detections), 6.5ms\n",
      "video 1/1 (frame 1030/1264) /home/gerdson/projetos/FIAP-Hackathon-Grupo2/assets/video.mp4: 384x640 (no detections), 6.5ms\n",
      "video 1/1 (frame 1031/1264) /home/gerdson/projetos/FIAP-Hackathon-Grupo2/assets/video.mp4: 384x640 (no detections), 7.4ms\n",
      "video 1/1 (frame 1032/1264) /home/gerdson/projetos/FIAP-Hackathon-Grupo2/assets/video.mp4: 384x640 (no detections), 6.5ms\n",
      "video 1/1 (frame 1033/1264) /home/gerdson/projetos/FIAP-Hackathon-Grupo2/assets/video.mp4: 384x640 (no detections), 6.6ms\n",
      "video 1/1 (frame 1034/1264) /home/gerdson/projetos/FIAP-Hackathon-Grupo2/assets/video.mp4: 384x640 (no detections), 6.4ms\n",
      "video 1/1 (frame 1035/1264) /home/gerdson/projetos/FIAP-Hackathon-Grupo2/assets/video.mp4: 384x640 (no detections), 6.9ms\n",
      "video 1/1 (frame 1036/1264) /home/gerdson/projetos/FIAP-Hackathon-Grupo2/assets/video.mp4: 384x640 (no detections), 6.4ms\n",
      "video 1/1 (frame 1037/1264) /home/gerdson/projetos/FIAP-Hackathon-Grupo2/assets/video.mp4: 384x640 (no detections), 6.4ms\n",
      "video 1/1 (frame 1038/1264) /home/gerdson/projetos/FIAP-Hackathon-Grupo2/assets/video.mp4: 384x640 (no detections), 7.3ms\n",
      "video 1/1 (frame 1039/1264) /home/gerdson/projetos/FIAP-Hackathon-Grupo2/assets/video.mp4: 384x640 (no detections), 6.3ms\n",
      "video 1/1 (frame 1040/1264) /home/gerdson/projetos/FIAP-Hackathon-Grupo2/assets/video.mp4: 384x640 (no detections), 6.6ms\n",
      "video 1/1 (frame 1041/1264) /home/gerdson/projetos/FIAP-Hackathon-Grupo2/assets/video.mp4: 384x640 (no detections), 6.4ms\n",
      "video 1/1 (frame 1042/1264) /home/gerdson/projetos/FIAP-Hackathon-Grupo2/assets/video.mp4: 384x640 (no detections), 6.9ms\n",
      "video 1/1 (frame 1043/1264) /home/gerdson/projetos/FIAP-Hackathon-Grupo2/assets/video.mp4: 384x640 (no detections), 6.3ms\n",
      "video 1/1 (frame 1044/1264) /home/gerdson/projetos/FIAP-Hackathon-Grupo2/assets/video.mp4: 384x640 (no detections), 6.4ms\n",
      "video 1/1 (frame 1045/1264) /home/gerdson/projetos/FIAP-Hackathon-Grupo2/assets/video.mp4: 384x640 (no detections), 6.4ms\n",
      "video 1/1 (frame 1046/1264) /home/gerdson/projetos/FIAP-Hackathon-Grupo2/assets/video.mp4: 384x640 (no detections), 7.2ms\n",
      "video 1/1 (frame 1047/1264) /home/gerdson/projetos/FIAP-Hackathon-Grupo2/assets/video.mp4: 384x640 (no detections), 7.1ms\n",
      "video 1/1 (frame 1048/1264) /home/gerdson/projetos/FIAP-Hackathon-Grupo2/assets/video.mp4: 384x640 (no detections), 6.4ms\n",
      "video 1/1 (frame 1049/1264) /home/gerdson/projetos/FIAP-Hackathon-Grupo2/assets/video.mp4: 384x640 (no detections), 6.9ms\n",
      "video 1/1 (frame 1050/1264) /home/gerdson/projetos/FIAP-Hackathon-Grupo2/assets/video.mp4: 384x640 (no detections), 6.4ms\n",
      "video 1/1 (frame 1051/1264) /home/gerdson/projetos/FIAP-Hackathon-Grupo2/assets/video.mp4: 384x640 (no detections), 6.7ms\n",
      "video 1/1 (frame 1052/1264) /home/gerdson/projetos/FIAP-Hackathon-Grupo2/assets/video.mp4: 384x640 (no detections), 6.4ms\n",
      "video 1/1 (frame 1053/1264) /home/gerdson/projetos/FIAP-Hackathon-Grupo2/assets/video.mp4: 384x640 (no detections), 6.5ms\n",
      "video 1/1 (frame 1054/1264) /home/gerdson/projetos/FIAP-Hackathon-Grupo2/assets/video.mp4: 384x640 (no detections), 9.0ms\n",
      "video 1/1 (frame 1055/1264) /home/gerdson/projetos/FIAP-Hackathon-Grupo2/assets/video.mp4: 384x640 (no detections), 6.4ms\n",
      "video 1/1 (frame 1056/1264) /home/gerdson/projetos/FIAP-Hackathon-Grupo2/assets/video.mp4: 384x640 (no detections), 6.6ms\n",
      "video 1/1 (frame 1057/1264) /home/gerdson/projetos/FIAP-Hackathon-Grupo2/assets/video.mp4: 384x640 (no detections), 6.4ms\n",
      "video 1/1 (frame 1058/1264) /home/gerdson/projetos/FIAP-Hackathon-Grupo2/assets/video.mp4: 384x640 (no detections), 6.4ms\n",
      "video 1/1 (frame 1059/1264) /home/gerdson/projetos/FIAP-Hackathon-Grupo2/assets/video.mp4: 384x640 (no detections), 8.1ms\n",
      "video 1/1 (frame 1060/1264) /home/gerdson/projetos/FIAP-Hackathon-Grupo2/assets/video.mp4: 384x640 (no detections), 8.7ms\n",
      "video 1/1 (frame 1061/1264) /home/gerdson/projetos/FIAP-Hackathon-Grupo2/assets/video.mp4: 384x640 (no detections), 6.8ms\n",
      "video 1/1 (frame 1062/1264) /home/gerdson/projetos/FIAP-Hackathon-Grupo2/assets/video.mp4: 384x640 (no detections), 6.6ms\n",
      "video 1/1 (frame 1063/1264) /home/gerdson/projetos/FIAP-Hackathon-Grupo2/assets/video.mp4: 384x640 (no detections), 6.8ms\n",
      "video 1/1 (frame 1064/1264) /home/gerdson/projetos/FIAP-Hackathon-Grupo2/assets/video.mp4: 384x640 (no detections), 6.6ms\n",
      "video 1/1 (frame 1065/1264) /home/gerdson/projetos/FIAP-Hackathon-Grupo2/assets/video.mp4: 384x640 (no detections), 6.6ms\n",
      "video 1/1 (frame 1066/1264) /home/gerdson/projetos/FIAP-Hackathon-Grupo2/assets/video.mp4: 384x640 (no detections), 6.5ms\n",
      "video 1/1 (frame 1067/1264) /home/gerdson/projetos/FIAP-Hackathon-Grupo2/assets/video.mp4: 384x640 (no detections), 6.5ms\n",
      "video 1/1 (frame 1068/1264) /home/gerdson/projetos/FIAP-Hackathon-Grupo2/assets/video.mp4: 384x640 (no detections), 7.5ms\n",
      "video 1/1 (frame 1069/1264) /home/gerdson/projetos/FIAP-Hackathon-Grupo2/assets/video.mp4: 384x640 (no detections), 6.5ms\n",
      "video 1/1 (frame 1070/1264) /home/gerdson/projetos/FIAP-Hackathon-Grupo2/assets/video.mp4: 384x640 (no detections), 6.5ms\n",
      "video 1/1 (frame 1071/1264) /home/gerdson/projetos/FIAP-Hackathon-Grupo2/assets/video.mp4: 384x640 (no detections), 7.4ms\n",
      "video 1/1 (frame 1072/1264) /home/gerdson/projetos/FIAP-Hackathon-Grupo2/assets/video.mp4: 384x640 (no detections), 6.5ms\n",
      "video 1/1 (frame 1073/1264) /home/gerdson/projetos/FIAP-Hackathon-Grupo2/assets/video.mp4: 384x640 (no detections), 7.6ms\n",
      "video 1/1 (frame 1074/1264) /home/gerdson/projetos/FIAP-Hackathon-Grupo2/assets/video.mp4: 384x640 (no detections), 6.5ms\n",
      "video 1/1 (frame 1075/1264) /home/gerdson/projetos/FIAP-Hackathon-Grupo2/assets/video.mp4: 384x640 (no detections), 6.4ms\n",
      "video 1/1 (frame 1076/1264) /home/gerdson/projetos/FIAP-Hackathon-Grupo2/assets/video.mp4: 384x640 (no detections), 6.5ms\n",
      "video 1/1 (frame 1077/1264) /home/gerdson/projetos/FIAP-Hackathon-Grupo2/assets/video.mp4: 384x640 (no detections), 6.6ms\n",
      "video 1/1 (frame 1078/1264) /home/gerdson/projetos/FIAP-Hackathon-Grupo2/assets/video.mp4: 384x640 (no detections), 6.5ms\n",
      "video 1/1 (frame 1079/1264) /home/gerdson/projetos/FIAP-Hackathon-Grupo2/assets/video.mp4: 384x640 (no detections), 6.5ms\n",
      "video 1/1 (frame 1080/1264) /home/gerdson/projetos/FIAP-Hackathon-Grupo2/assets/video.mp4: 384x640 (no detections), 7.5ms\n",
      "video 1/1 (frame 1081/1264) /home/gerdson/projetos/FIAP-Hackathon-Grupo2/assets/video.mp4: 384x640 (no detections), 6.5ms\n",
      "video 1/1 (frame 1082/1264) /home/gerdson/projetos/FIAP-Hackathon-Grupo2/assets/video.mp4: 384x640 (no detections), 6.6ms\n",
      "video 1/1 (frame 1083/1264) /home/gerdson/projetos/FIAP-Hackathon-Grupo2/assets/video.mp4: 384x640 (no detections), 6.5ms\n",
      "video 1/1 (frame 1084/1264) /home/gerdson/projetos/FIAP-Hackathon-Grupo2/assets/video.mp4: 384x640 (no detections), 6.5ms\n",
      "video 1/1 (frame 1085/1264) /home/gerdson/projetos/FIAP-Hackathon-Grupo2/assets/video.mp4: 384x640 (no detections), 6.4ms\n",
      "video 1/1 (frame 1086/1264) /home/gerdson/projetos/FIAP-Hackathon-Grupo2/assets/video.mp4: 384x640 (no detections), 6.5ms\n",
      "video 1/1 (frame 1087/1264) /home/gerdson/projetos/FIAP-Hackathon-Grupo2/assets/video.mp4: 384x640 (no detections), 8.3ms\n",
      "video 1/1 (frame 1088/1264) /home/gerdson/projetos/FIAP-Hackathon-Grupo2/assets/video.mp4: 384x640 (no detections), 6.5ms\n",
      "video 1/1 (frame 1089/1264) /home/gerdson/projetos/FIAP-Hackathon-Grupo2/assets/video.mp4: 384x640 (no detections), 6.6ms\n",
      "video 1/1 (frame 1090/1264) /home/gerdson/projetos/FIAP-Hackathon-Grupo2/assets/video.mp4: 384x640 (no detections), 6.5ms\n",
      "video 1/1 (frame 1091/1264) /home/gerdson/projetos/FIAP-Hackathon-Grupo2/assets/video.mp4: 384x640 (no detections), 6.9ms\n",
      "video 1/1 (frame 1092/1264) /home/gerdson/projetos/FIAP-Hackathon-Grupo2/assets/video.mp4: 384x640 (no detections), 6.5ms\n",
      "video 1/1 (frame 1093/1264) /home/gerdson/projetos/FIAP-Hackathon-Grupo2/assets/video.mp4: 384x640 (no detections), 7.9ms\n",
      "video 1/1 (frame 1094/1264) /home/gerdson/projetos/FIAP-Hackathon-Grupo2/assets/video.mp4: 384x640 (no detections), 7.9ms\n",
      "video 1/1 (frame 1095/1264) /home/gerdson/projetos/FIAP-Hackathon-Grupo2/assets/video.mp4: 384x640 (no detections), 6.5ms\n",
      "video 1/1 (frame 1096/1264) /home/gerdson/projetos/FIAP-Hackathon-Grupo2/assets/video.mp4: 384x640 (no detections), 7.9ms\n",
      "video 1/1 (frame 1097/1264) /home/gerdson/projetos/FIAP-Hackathon-Grupo2/assets/video.mp4: 384x640 (no detections), 6.5ms\n",
      "video 1/1 (frame 1098/1264) /home/gerdson/projetos/FIAP-Hackathon-Grupo2/assets/video.mp4: 384x640 (no detections), 6.8ms\n",
      "video 1/1 (frame 1099/1264) /home/gerdson/projetos/FIAP-Hackathon-Grupo2/assets/video.mp4: 384x640 (no detections), 7.3ms\n",
      "video 1/1 (frame 1100/1264) /home/gerdson/projetos/FIAP-Hackathon-Grupo2/assets/video.mp4: 384x640 (no detections), 6.5ms\n",
      "video 1/1 (frame 1101/1264) /home/gerdson/projetos/FIAP-Hackathon-Grupo2/assets/video.mp4: 384x640 (no detections), 7.9ms\n",
      "video 1/1 (frame 1102/1264) /home/gerdson/projetos/FIAP-Hackathon-Grupo2/assets/video.mp4: 384x640 (no detections), 6.5ms\n",
      "video 1/1 (frame 1103/1264) /home/gerdson/projetos/FIAP-Hackathon-Grupo2/assets/video.mp4: 384x640 (no detections), 6.5ms\n",
      "video 1/1 (frame 1104/1264) /home/gerdson/projetos/FIAP-Hackathon-Grupo2/assets/video.mp4: 384x640 (no detections), 7.5ms\n",
      "video 1/1 (frame 1105/1264) /home/gerdson/projetos/FIAP-Hackathon-Grupo2/assets/video.mp4: 384x640 (no detections), 6.6ms\n",
      "video 1/1 (frame 1106/1264) /home/gerdson/projetos/FIAP-Hackathon-Grupo2/assets/video.mp4: 384x640 (no detections), 6.8ms\n",
      "video 1/1 (frame 1107/1264) /home/gerdson/projetos/FIAP-Hackathon-Grupo2/assets/video.mp4: 384x640 (no detections), 6.5ms\n",
      "video 1/1 (frame 1108/1264) /home/gerdson/projetos/FIAP-Hackathon-Grupo2/assets/video.mp4: 384x640 (no detections), 6.8ms\n",
      "video 1/1 (frame 1109/1264) /home/gerdson/projetos/FIAP-Hackathon-Grupo2/assets/video.mp4: 384x640 (no detections), 6.5ms\n",
      "video 1/1 (frame 1110/1264) /home/gerdson/projetos/FIAP-Hackathon-Grupo2/assets/video.mp4: 384x640 (no detections), 6.5ms\n",
      "video 1/1 (frame 1111/1264) /home/gerdson/projetos/FIAP-Hackathon-Grupo2/assets/video.mp4: 384x640 (no detections), 7.5ms\n",
      "video 1/1 (frame 1112/1264) /home/gerdson/projetos/FIAP-Hackathon-Grupo2/assets/video.mp4: 384x640 (no detections), 6.6ms\n",
      "video 1/1 (frame 1113/1264) /home/gerdson/projetos/FIAP-Hackathon-Grupo2/assets/video.mp4: 384x640 (no detections), 6.7ms\n",
      "video 1/1 (frame 1114/1264) /home/gerdson/projetos/FIAP-Hackathon-Grupo2/assets/video.mp4: 384x640 (no detections), 6.5ms\n",
      "video 1/1 (frame 1115/1264) /home/gerdson/projetos/FIAP-Hackathon-Grupo2/assets/video.mp4: 384x640 (no detections), 6.7ms\n",
      "video 1/1 (frame 1116/1264) /home/gerdson/projetos/FIAP-Hackathon-Grupo2/assets/video.mp4: 384x640 (no detections), 6.5ms\n",
      "video 1/1 (frame 1117/1264) /home/gerdson/projetos/FIAP-Hackathon-Grupo2/assets/video.mp4: 384x640 (no detections), 6.9ms\n",
      "video 1/1 (frame 1118/1264) /home/gerdson/projetos/FIAP-Hackathon-Grupo2/assets/video.mp4: 384x640 (no detections), 6.5ms\n",
      "video 1/1 (frame 1119/1264) /home/gerdson/projetos/FIAP-Hackathon-Grupo2/assets/video.mp4: 384x640 (no detections), 6.5ms\n",
      "video 1/1 (frame 1120/1264) /home/gerdson/projetos/FIAP-Hackathon-Grupo2/assets/video.mp4: 384x640 (no detections), 7.2ms\n",
      "video 1/1 (frame 1121/1264) /home/gerdson/projetos/FIAP-Hackathon-Grupo2/assets/video.mp4: 384x640 (no detections), 6.7ms\n",
      "video 1/1 (frame 1122/1264) /home/gerdson/projetos/FIAP-Hackathon-Grupo2/assets/video.mp4: 384x640 (no detections), 6.7ms\n",
      "video 1/1 (frame 1123/1264) /home/gerdson/projetos/FIAP-Hackathon-Grupo2/assets/video.mp4: 384x640 (no detections), 6.4ms\n",
      "video 1/1 (frame 1124/1264) /home/gerdson/projetos/FIAP-Hackathon-Grupo2/assets/video.mp4: 384x640 (no detections), 6.5ms\n",
      "video 1/1 (frame 1125/1264) /home/gerdson/projetos/FIAP-Hackathon-Grupo2/assets/video.mp4: 384x640 (no detections), 6.5ms\n",
      "video 1/1 (frame 1126/1264) /home/gerdson/projetos/FIAP-Hackathon-Grupo2/assets/video.mp4: 384x640 (no detections), 6.8ms\n",
      "video 1/1 (frame 1127/1264) /home/gerdson/projetos/FIAP-Hackathon-Grupo2/assets/video.mp4: 384x640 (no detections), 6.7ms\n",
      "video 1/1 (frame 1128/1264) /home/gerdson/projetos/FIAP-Hackathon-Grupo2/assets/video.mp4: 384x640 (no detections), 6.5ms\n",
      "video 1/1 (frame 1129/1264) /home/gerdson/projetos/FIAP-Hackathon-Grupo2/assets/video.mp4: 384x640 (no detections), 6.4ms\n",
      "video 1/1 (frame 1130/1264) /home/gerdson/projetos/FIAP-Hackathon-Grupo2/assets/video.mp4: 384x640 (no detections), 7.4ms\n",
      "video 1/1 (frame 1131/1264) /home/gerdson/projetos/FIAP-Hackathon-Grupo2/assets/video.mp4: 384x640 (no detections), 6.4ms\n",
      "video 1/1 (frame 1132/1264) /home/gerdson/projetos/FIAP-Hackathon-Grupo2/assets/video.mp4: 384x640 (no detections), 6.4ms\n",
      "video 1/1 (frame 1133/1264) /home/gerdson/projetos/FIAP-Hackathon-Grupo2/assets/video.mp4: 384x640 (no detections), 6.4ms\n",
      "video 1/1 (frame 1134/1264) /home/gerdson/projetos/FIAP-Hackathon-Grupo2/assets/video.mp4: 384x640 (no detections), 6.4ms\n",
      "video 1/1 (frame 1135/1264) /home/gerdson/projetos/FIAP-Hackathon-Grupo2/assets/video.mp4: 384x640 (no detections), 6.4ms\n",
      "video 1/1 (frame 1136/1264) /home/gerdson/projetos/FIAP-Hackathon-Grupo2/assets/video.mp4: 384x640 (no detections), 6.4ms\n",
      "video 1/1 (frame 1137/1264) /home/gerdson/projetos/FIAP-Hackathon-Grupo2/assets/video.mp4: 384x640 (no detections), 6.4ms\n",
      "video 1/1 (frame 1138/1264) /home/gerdson/projetos/FIAP-Hackathon-Grupo2/assets/video.mp4: 384x640 (no detections), 6.4ms\n",
      "video 1/1 (frame 1139/1264) /home/gerdson/projetos/FIAP-Hackathon-Grupo2/assets/video.mp4: 384x640 (no detections), 6.4ms\n",
      "video 1/1 (frame 1140/1264) /home/gerdson/projetos/FIAP-Hackathon-Grupo2/assets/video.mp4: 384x640 (no detections), 6.4ms\n",
      "video 1/1 (frame 1141/1264) /home/gerdson/projetos/FIAP-Hackathon-Grupo2/assets/video.mp4: 384x640 (no detections), 6.4ms\n",
      "video 1/1 (frame 1142/1264) /home/gerdson/projetos/FIAP-Hackathon-Grupo2/assets/video.mp4: 384x640 (no detections), 6.4ms\n",
      "video 1/1 (frame 1143/1264) /home/gerdson/projetos/FIAP-Hackathon-Grupo2/assets/video.mp4: 384x640 (no detections), 6.5ms\n",
      "video 1/1 (frame 1144/1264) /home/gerdson/projetos/FIAP-Hackathon-Grupo2/assets/video.mp4: 384x640 (no detections), 6.4ms\n",
      "video 1/1 (frame 1145/1264) /home/gerdson/projetos/FIAP-Hackathon-Grupo2/assets/video.mp4: 384x640 (no detections), 6.4ms\n",
      "video 1/1 (frame 1146/1264) /home/gerdson/projetos/FIAP-Hackathon-Grupo2/assets/video.mp4: 384x640 (no detections), 7.9ms\n",
      "video 1/1 (frame 1147/1264) /home/gerdson/projetos/FIAP-Hackathon-Grupo2/assets/video.mp4: 384x640 (no detections), 9.5ms\n",
      "video 1/1 (frame 1148/1264) /home/gerdson/projetos/FIAP-Hackathon-Grupo2/assets/video.mp4: 384x640 (no detections), 7.8ms\n",
      "video 1/1 (frame 1149/1264) /home/gerdson/projetos/FIAP-Hackathon-Grupo2/assets/video.mp4: 384x640 (no detections), 6.7ms\n",
      "video 1/1 (frame 1150/1264) /home/gerdson/projetos/FIAP-Hackathon-Grupo2/assets/video.mp4: 384x640 (no detections), 6.5ms\n",
      "video 1/1 (frame 1151/1264) /home/gerdson/projetos/FIAP-Hackathon-Grupo2/assets/video.mp4: 384x640 (no detections), 6.5ms\n",
      "video 1/1 (frame 1152/1264) /home/gerdson/projetos/FIAP-Hackathon-Grupo2/assets/video.mp4: 384x640 (no detections), 6.6ms\n",
      "video 1/1 (frame 1153/1264) /home/gerdson/projetos/FIAP-Hackathon-Grupo2/assets/video.mp4: 384x640 (no detections), 7.0ms\n",
      "video 1/1 (frame 1154/1264) /home/gerdson/projetos/FIAP-Hackathon-Grupo2/assets/video.mp4: 384x640 (no detections), 6.4ms\n",
      "video 1/1 (frame 1155/1264) /home/gerdson/projetos/FIAP-Hackathon-Grupo2/assets/video.mp4: 384x640 (no detections), 6.4ms\n",
      "video 1/1 (frame 1156/1264) /home/gerdson/projetos/FIAP-Hackathon-Grupo2/assets/video.mp4: 384x640 (no detections), 6.5ms\n",
      "video 1/1 (frame 1157/1264) /home/gerdson/projetos/FIAP-Hackathon-Grupo2/assets/video.mp4: 384x640 (no detections), 6.5ms\n",
      "video 1/1 (frame 1158/1264) /home/gerdson/projetos/FIAP-Hackathon-Grupo2/assets/video.mp4: 384x640 (no detections), 7.2ms\n",
      "video 1/1 (frame 1159/1264) /home/gerdson/projetos/FIAP-Hackathon-Grupo2/assets/video.mp4: 384x640 (no detections), 6.4ms\n",
      "video 1/1 (frame 1160/1264) /home/gerdson/projetos/FIAP-Hackathon-Grupo2/assets/video.mp4: 384x640 (no detections), 6.4ms\n",
      "video 1/1 (frame 1161/1264) /home/gerdson/projetos/FIAP-Hackathon-Grupo2/assets/video.mp4: 384x640 (no detections), 6.4ms\n",
      "video 1/1 (frame 1162/1264) /home/gerdson/projetos/FIAP-Hackathon-Grupo2/assets/video.mp4: 384x640 (no detections), 6.4ms\n",
      "video 1/1 (frame 1163/1264) /home/gerdson/projetos/FIAP-Hackathon-Grupo2/assets/video.mp4: 384x640 (no detections), 6.4ms\n",
      "video 1/1 (frame 1164/1264) /home/gerdson/projetos/FIAP-Hackathon-Grupo2/assets/video.mp4: 384x640 (no detections), 6.4ms\n",
      "video 1/1 (frame 1165/1264) /home/gerdson/projetos/FIAP-Hackathon-Grupo2/assets/video.mp4: 384x640 (no detections), 6.5ms\n",
      "video 1/1 (frame 1166/1264) /home/gerdson/projetos/FIAP-Hackathon-Grupo2/assets/video.mp4: 384x640 (no detections), 6.4ms\n",
      "video 1/1 (frame 1167/1264) /home/gerdson/projetos/FIAP-Hackathon-Grupo2/assets/video.mp4: 384x640 (no detections), 6.7ms\n",
      "video 1/1 (frame 1168/1264) /home/gerdson/projetos/FIAP-Hackathon-Grupo2/assets/video.mp4: 384x640 (no detections), 6.4ms\n",
      "video 1/1 (frame 1169/1264) /home/gerdson/projetos/FIAP-Hackathon-Grupo2/assets/video.mp4: 384x640 (no detections), 6.5ms\n",
      "video 1/1 (frame 1170/1264) /home/gerdson/projetos/FIAP-Hackathon-Grupo2/assets/video.mp4: 384x640 (no detections), 6.4ms\n",
      "video 1/1 (frame 1171/1264) /home/gerdson/projetos/FIAP-Hackathon-Grupo2/assets/video.mp4: 384x640 (no detections), 6.5ms\n",
      "video 1/1 (frame 1172/1264) /home/gerdson/projetos/FIAP-Hackathon-Grupo2/assets/video.mp4: 384x640 (no detections), 6.6ms\n",
      "video 1/1 (frame 1173/1264) /home/gerdson/projetos/FIAP-Hackathon-Grupo2/assets/video.mp4: 384x640 (no detections), 6.9ms\n",
      "video 1/1 (frame 1174/1264) /home/gerdson/projetos/FIAP-Hackathon-Grupo2/assets/video.mp4: 384x640 (no detections), 6.4ms\n",
      "video 1/1 (frame 1175/1264) /home/gerdson/projetos/FIAP-Hackathon-Grupo2/assets/video.mp4: 384x640 (no detections), 6.5ms\n",
      "video 1/1 (frame 1176/1264) /home/gerdson/projetos/FIAP-Hackathon-Grupo2/assets/video.mp4: 384x640 (no detections), 6.4ms\n",
      "video 1/1 (frame 1177/1264) /home/gerdson/projetos/FIAP-Hackathon-Grupo2/assets/video.mp4: 384x640 (no detections), 6.9ms\n",
      "video 1/1 (frame 1178/1264) /home/gerdson/projetos/FIAP-Hackathon-Grupo2/assets/video.mp4: 384x640 (no detections), 6.7ms\n",
      "video 1/1 (frame 1179/1264) /home/gerdson/projetos/FIAP-Hackathon-Grupo2/assets/video.mp4: 384x640 (no detections), 6.5ms\n",
      "video 1/1 (frame 1180/1264) /home/gerdson/projetos/FIAP-Hackathon-Grupo2/assets/video.mp4: 384x640 (no detections), 6.4ms\n",
      "video 1/1 (frame 1181/1264) /home/gerdson/projetos/FIAP-Hackathon-Grupo2/assets/video.mp4: 384x640 (no detections), 6.4ms\n",
      "video 1/1 (frame 1182/1264) /home/gerdson/projetos/FIAP-Hackathon-Grupo2/assets/video.mp4: 384x640 (no detections), 6.7ms\n",
      "video 1/1 (frame 1183/1264) /home/gerdson/projetos/FIAP-Hackathon-Grupo2/assets/video.mp4: 384x640 (no detections), 6.7ms\n",
      "video 1/1 (frame 1184/1264) /home/gerdson/projetos/FIAP-Hackathon-Grupo2/assets/video.mp4: 384x640 (no detections), 6.4ms\n",
      "video 1/1 (frame 1185/1264) /home/gerdson/projetos/FIAP-Hackathon-Grupo2/assets/video.mp4: 384x640 (no detections), 6.4ms\n",
      "video 1/1 (frame 1186/1264) /home/gerdson/projetos/FIAP-Hackathon-Grupo2/assets/video.mp4: 384x640 (no detections), 6.4ms\n",
      "video 1/1 (frame 1187/1264) /home/gerdson/projetos/FIAP-Hackathon-Grupo2/assets/video.mp4: 384x640 (no detections), 7.3ms\n",
      "video 1/1 (frame 1188/1264) /home/gerdson/projetos/FIAP-Hackathon-Grupo2/assets/video.mp4: 384x640 (no detections), 6.7ms\n",
      "video 1/1 (frame 1189/1264) /home/gerdson/projetos/FIAP-Hackathon-Grupo2/assets/video.mp4: 384x640 (no detections), 6.4ms\n",
      "video 1/1 (frame 1190/1264) /home/gerdson/projetos/FIAP-Hackathon-Grupo2/assets/video.mp4: 384x640 (no detections), 6.4ms\n",
      "video 1/1 (frame 1191/1264) /home/gerdson/projetos/FIAP-Hackathon-Grupo2/assets/video.mp4: 384x640 (no detections), 6.4ms\n",
      "video 1/1 (frame 1192/1264) /home/gerdson/projetos/FIAP-Hackathon-Grupo2/assets/video.mp4: 384x640 (no detections), 7.6ms\n",
      "video 1/1 (frame 1193/1264) /home/gerdson/projetos/FIAP-Hackathon-Grupo2/assets/video.mp4: 384x640 (no detections), 6.4ms\n",
      "video 1/1 (frame 1194/1264) /home/gerdson/projetos/FIAP-Hackathon-Grupo2/assets/video.mp4: 384x640 (no detections), 6.4ms\n",
      "video 1/1 (frame 1195/1264) /home/gerdson/projetos/FIAP-Hackathon-Grupo2/assets/video.mp4: 384x640 (no detections), 6.5ms\n",
      "video 1/1 (frame 1196/1264) /home/gerdson/projetos/FIAP-Hackathon-Grupo2/assets/video.mp4: 384x640 (no detections), 6.4ms\n",
      "video 1/1 (frame 1197/1264) /home/gerdson/projetos/FIAP-Hackathon-Grupo2/assets/video.mp4: 384x640 (no detections), 6.7ms\n",
      "video 1/1 (frame 1198/1264) /home/gerdson/projetos/FIAP-Hackathon-Grupo2/assets/video.mp4: 384x640 (no detections), 6.6ms\n",
      "video 1/1 (frame 1199/1264) /home/gerdson/projetos/FIAP-Hackathon-Grupo2/assets/video.mp4: 384x640 (no detections), 6.5ms\n",
      "video 1/1 (frame 1200/1264) /home/gerdson/projetos/FIAP-Hackathon-Grupo2/assets/video.mp4: 384x640 (no detections), 6.4ms\n",
      "video 1/1 (frame 1201/1264) /home/gerdson/projetos/FIAP-Hackathon-Grupo2/assets/video.mp4: 384x640 (no detections), 6.4ms\n",
      "video 1/1 (frame 1202/1264) /home/gerdson/projetos/FIAP-Hackathon-Grupo2/assets/video.mp4: 384x640 (no detections), 7.1ms\n",
      "video 1/1 (frame 1203/1264) /home/gerdson/projetos/FIAP-Hackathon-Grupo2/assets/video.mp4: 384x640 (no detections), 6.6ms\n",
      "video 1/1 (frame 1204/1264) /home/gerdson/projetos/FIAP-Hackathon-Grupo2/assets/video.mp4: 384x640 (no detections), 6.4ms\n",
      "video 1/1 (frame 1205/1264) /home/gerdson/projetos/FIAP-Hackathon-Grupo2/assets/video.mp4: 384x640 (no detections), 6.6ms\n",
      "video 1/1 (frame 1206/1264) /home/gerdson/projetos/FIAP-Hackathon-Grupo2/assets/video.mp4: 384x640 (no detections), 6.6ms\n",
      "video 1/1 (frame 1207/1264) /home/gerdson/projetos/FIAP-Hackathon-Grupo2/assets/video.mp4: 384x640 (no detections), 7.0ms\n",
      "video 1/1 (frame 1208/1264) /home/gerdson/projetos/FIAP-Hackathon-Grupo2/assets/video.mp4: 384x640 (no detections), 7.0ms\n",
      "video 1/1 (frame 1209/1264) /home/gerdson/projetos/FIAP-Hackathon-Grupo2/assets/video.mp4: 384x640 (no detections), 6.9ms\n",
      "video 1/1 (frame 1210/1264) /home/gerdson/projetos/FIAP-Hackathon-Grupo2/assets/video.mp4: 384x640 (no detections), 6.9ms\n",
      "video 1/1 (frame 1211/1264) /home/gerdson/projetos/FIAP-Hackathon-Grupo2/assets/video.mp4: 384x640 (no detections), 6.6ms\n",
      "video 1/1 (frame 1212/1264) /home/gerdson/projetos/FIAP-Hackathon-Grupo2/assets/video.mp4: 384x640 (no detections), 6.5ms\n",
      "video 1/1 (frame 1213/1264) /home/gerdson/projetos/FIAP-Hackathon-Grupo2/assets/video.mp4: 384x640 (no detections), 6.5ms\n",
      "video 1/1 (frame 1214/1264) /home/gerdson/projetos/FIAP-Hackathon-Grupo2/assets/video.mp4: 384x640 (no detections), 6.4ms\n",
      "video 1/1 (frame 1215/1264) /home/gerdson/projetos/FIAP-Hackathon-Grupo2/assets/video.mp4: 384x640 (no detections), 7.0ms\n",
      "video 1/1 (frame 1216/1264) /home/gerdson/projetos/FIAP-Hackathon-Grupo2/assets/video.mp4: 384x640 (no detections), 6.4ms\n",
      "video 1/1 (frame 1217/1264) /home/gerdson/projetos/FIAP-Hackathon-Grupo2/assets/video.mp4: 384x640 (no detections), 6.4ms\n",
      "video 1/1 (frame 1218/1264) /home/gerdson/projetos/FIAP-Hackathon-Grupo2/assets/video.mp4: 384x640 (no detections), 6.4ms\n",
      "video 1/1 (frame 1219/1264) /home/gerdson/projetos/FIAP-Hackathon-Grupo2/assets/video.mp4: 384x640 (no detections), 6.5ms\n",
      "video 1/1 (frame 1220/1264) /home/gerdson/projetos/FIAP-Hackathon-Grupo2/assets/video.mp4: 384x640 (no detections), 7.2ms\n",
      "video 1/1 (frame 1221/1264) /home/gerdson/projetos/FIAP-Hackathon-Grupo2/assets/video.mp4: 384x640 (no detections), 6.5ms\n",
      "video 1/1 (frame 1222/1264) /home/gerdson/projetos/FIAP-Hackathon-Grupo2/assets/video.mp4: 384x640 (no detections), 6.4ms\n",
      "video 1/1 (frame 1223/1264) /home/gerdson/projetos/FIAP-Hackathon-Grupo2/assets/video.mp4: 384x640 (no detections), 6.4ms\n",
      "video 1/1 (frame 1224/1264) /home/gerdson/projetos/FIAP-Hackathon-Grupo2/assets/video.mp4: 384x640 (no detections), 6.4ms\n",
      "video 1/1 (frame 1225/1264) /home/gerdson/projetos/FIAP-Hackathon-Grupo2/assets/video.mp4: 384x640 (no detections), 7.5ms\n",
      "video 1/1 (frame 1226/1264) /home/gerdson/projetos/FIAP-Hackathon-Grupo2/assets/video.mp4: 384x640 (no detections), 6.4ms\n",
      "video 1/1 (frame 1227/1264) /home/gerdson/projetos/FIAP-Hackathon-Grupo2/assets/video.mp4: 384x640 (no detections), 6.4ms\n",
      "video 1/1 (frame 1228/1264) /home/gerdson/projetos/FIAP-Hackathon-Grupo2/assets/video.mp4: 384x640 (no detections), 6.4ms\n",
      "video 1/1 (frame 1229/1264) /home/gerdson/projetos/FIAP-Hackathon-Grupo2/assets/video.mp4: 384x640 (no detections), 9.6ms\n",
      "video 1/1 (frame 1230/1264) /home/gerdson/projetos/FIAP-Hackathon-Grupo2/assets/video.mp4: 384x640 (no detections), 7.0ms\n",
      "video 1/1 (frame 1231/1264) /home/gerdson/projetos/FIAP-Hackathon-Grupo2/assets/video.mp4: 384x640 (no detections), 6.7ms\n",
      "video 1/1 (frame 1232/1264) /home/gerdson/projetos/FIAP-Hackathon-Grupo2/assets/video.mp4: 384x640 (no detections), 7.9ms\n",
      "video 1/1 (frame 1233/1264) /home/gerdson/projetos/FIAP-Hackathon-Grupo2/assets/video.mp4: 384x640 (no detections), 6.6ms\n",
      "video 1/1 (frame 1234/1264) /home/gerdson/projetos/FIAP-Hackathon-Grupo2/assets/video.mp4: 384x640 (no detections), 6.5ms\n",
      "video 1/1 (frame 1235/1264) /home/gerdson/projetos/FIAP-Hackathon-Grupo2/assets/video.mp4: 384x640 (no detections), 6.4ms\n",
      "video 1/1 (frame 1236/1264) /home/gerdson/projetos/FIAP-Hackathon-Grupo2/assets/video.mp4: 384x640 (no detections), 7.8ms\n",
      "video 1/1 (frame 1237/1264) /home/gerdson/projetos/FIAP-Hackathon-Grupo2/assets/video.mp4: 384x640 (no detections), 6.5ms\n",
      "video 1/1 (frame 1238/1264) /home/gerdson/projetos/FIAP-Hackathon-Grupo2/assets/video.mp4: 384x640 (no detections), 6.4ms\n",
      "video 1/1 (frame 1239/1264) /home/gerdson/projetos/FIAP-Hackathon-Grupo2/assets/video.mp4: 384x640 (no detections), 6.4ms\n",
      "video 1/1 (frame 1240/1264) /home/gerdson/projetos/FIAP-Hackathon-Grupo2/assets/video.mp4: 384x640 (no detections), 6.5ms\n",
      "video 1/1 (frame 1241/1264) /home/gerdson/projetos/FIAP-Hackathon-Grupo2/assets/video.mp4: 384x640 (no detections), 7.9ms\n",
      "video 1/1 (frame 1242/1264) /home/gerdson/projetos/FIAP-Hackathon-Grupo2/assets/video.mp4: 384x640 (no detections), 6.5ms\n",
      "video 1/1 (frame 1243/1264) /home/gerdson/projetos/FIAP-Hackathon-Grupo2/assets/video.mp4: 384x640 (no detections), 6.6ms\n",
      "video 1/1 (frame 1244/1264) /home/gerdson/projetos/FIAP-Hackathon-Grupo2/assets/video.mp4: 384x640 (no detections), 6.5ms\n",
      "video 1/1 (frame 1245/1264) /home/gerdson/projetos/FIAP-Hackathon-Grupo2/assets/video.mp4: 384x640 (no detections), 7.9ms\n",
      "video 1/1 (frame 1246/1264) /home/gerdson/projetos/FIAP-Hackathon-Grupo2/assets/video.mp4: 384x640 (no detections), 6.7ms\n",
      "video 1/1 (frame 1247/1264) /home/gerdson/projetos/FIAP-Hackathon-Grupo2/assets/video.mp4: 384x640 (no detections), 6.4ms\n",
      "video 1/1 (frame 1248/1264) /home/gerdson/projetos/FIAP-Hackathon-Grupo2/assets/video.mp4: 384x640 (no detections), 6.5ms\n",
      "video 1/1 (frame 1249/1264) /home/gerdson/projetos/FIAP-Hackathon-Grupo2/assets/video.mp4: 384x640 (no detections), 6.6ms\n",
      "video 1/1 (frame 1250/1264) /home/gerdson/projetos/FIAP-Hackathon-Grupo2/assets/video.mp4: 384x640 (no detections), 6.7ms\n",
      "video 1/1 (frame 1251/1264) /home/gerdson/projetos/FIAP-Hackathon-Grupo2/assets/video.mp4: 384x640 (no detections), 6.6ms\n",
      "video 1/1 (frame 1252/1264) /home/gerdson/projetos/FIAP-Hackathon-Grupo2/assets/video.mp4: 384x640 (no detections), 6.4ms\n",
      "video 1/1 (frame 1253/1264) /home/gerdson/projetos/FIAP-Hackathon-Grupo2/assets/video.mp4: 384x640 (no detections), 6.4ms\n",
      "video 1/1 (frame 1254/1264) /home/gerdson/projetos/FIAP-Hackathon-Grupo2/assets/video.mp4: 384x640 (no detections), 7.4ms\n",
      "video 1/1 (frame 1255/1264) /home/gerdson/projetos/FIAP-Hackathon-Grupo2/assets/video.mp4: 384x640 (no detections), 8.1ms\n",
      "video 1/1 (frame 1256/1264) /home/gerdson/projetos/FIAP-Hackathon-Grupo2/assets/video.mp4: 384x640 (no detections), 6.5ms\n",
      "video 1/1 (frame 1257/1264) /home/gerdson/projetos/FIAP-Hackathon-Grupo2/assets/video.mp4: 384x640 (no detections), 6.5ms\n",
      "video 1/1 (frame 1258/1264) /home/gerdson/projetos/FIAP-Hackathon-Grupo2/assets/video.mp4: 384x640 (no detections), 6.5ms\n",
      "video 1/1 (frame 1259/1264) /home/gerdson/projetos/FIAP-Hackathon-Grupo2/assets/video.mp4: 384x640 (no detections), 7.8ms\n",
      "video 1/1 (frame 1260/1264) /home/gerdson/projetos/FIAP-Hackathon-Grupo2/assets/video.mp4: 384x640 (no detections), 6.4ms\n",
      "video 1/1 (frame 1261/1264) /home/gerdson/projetos/FIAP-Hackathon-Grupo2/assets/video.mp4: 384x640 (no detections), 6.5ms\n",
      "video 1/1 (frame 1262/1264) /home/gerdson/projetos/FIAP-Hackathon-Grupo2/assets/video.mp4: 384x640 (no detections), 6.5ms\n",
      "video 1/1 (frame 1263/1264) /home/gerdson/projetos/FIAP-Hackathon-Grupo2/assets/video.mp4: 384x640 (no detections), 7.3ms\n",
      "video 1/1 (frame 1264/1264) /home/gerdson/projetos/FIAP-Hackathon-Grupo2/assets/video.mp4: 384x640 (no detections), 7.9ms\n",
      "Speed: 1.0ms preprocess, 6.6ms inference, 0.4ms postprocess per image at shape (1, 3, 384, 640)\n",
      "Results saved to \u001b[1m/home/gerdson/projetos/FIAP-Hackathon-Grupo2/runs/detect/predict3\u001b[0m\n"
     ]
    }
   ],
   "source": [
    "for result in results_video:\n",
    "    # Do something with results...\n",
    "    pass\n",
    "    # boxes = result.boxes  # Boxes object for bbox outputs\n",
    "    # masks = result.masks  # Masks object for segmentation masks outputs\n",
    "    # keypoints = result.keypoints  # Keypoints object for pose outputs\n",
    "    # probs = result.probs  # Probs object for classification outputs"
   ]
  }
 ],
 "metadata": {
  "accelerator": "GPU",
  "colab": {
   "gpuType": "A100",
   "machine_shape": "hm",
   "provenance": []
  },
  "kernelspec": {
   "display_name": "streamlit2",
   "language": "python",
   "name": "python3"
  },
  "language_info": {
   "codemirror_mode": {
    "name": "ipython",
    "version": 3
   },
   "file_extension": ".py",
   "mimetype": "text/x-python",
   "name": "python",
   "nbconvert_exporter": "python",
   "pygments_lexer": "ipython3",
   "version": "3.12.8"
  }
 },
 "nbformat": 4,
 "nbformat_minor": 4
}
