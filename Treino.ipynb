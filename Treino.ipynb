{
 "cells": [
  {
   "cell_type": "markdown",
   "metadata": {},
   "source": [
    "# Configs"
   ]
  },
  {
   "cell_type": "code",
   "execution_count": 1,
   "metadata": {},
   "outputs": [
    {
     "data": {
      "text/plain": [
       "{'settings_version': '0.0.6',\n",
       " 'datasets_dir': '/home/gerdson/projetos/FIAP-Hackathon-Grupo2/datasets',\n",
       " 'weights_dir': '/home/gerdson/projetos/FIAP-Hackathon-Grupo2/weights',\n",
       " 'runs_dir': '/home/gerdson/projetos/FIAP-Hackathon-Grupo2/runs',\n",
       " 'uuid': '765bacf433b23056de58d9ce6fef2008d6ad1b127e866ab4c974826f73d3d1e8',\n",
       " 'sync': True,\n",
       " 'api_key': '',\n",
       " 'openai_api_key': '',\n",
       " 'clearml': True,\n",
       " 'comet': True,\n",
       " 'dvc': True,\n",
       " 'hub': True,\n",
       " 'mlflow': True,\n",
       " 'neptune': True,\n",
       " 'raytune': True,\n",
       " 'tensorboard': True,\n",
       " 'wandb': False,\n",
       " 'vscode_msg': True}"
      ]
     },
     "execution_count": 1,
     "metadata": {},
     "output_type": "execute_result"
    }
   ],
   "source": [
    "from ultralytics import YOLO, settings\n",
    "settings"
   ]
  },
  {
   "cell_type": "code",
   "execution_count": 2,
   "metadata": {},
   "outputs": [
    {
     "data": {
      "text/plain": [
       "{'settings_version': '0.0.6',\n",
       " 'datasets_dir': '/home/gerdson/projetos/FIAP-Hackathon-Grupo2/datasets',\n",
       " 'weights_dir': '/home/gerdson/projetos/FIAP-Hackathon-Grupo2/weights',\n",
       " 'runs_dir': '/home/gerdson/projetos/FIAP-Hackathon-Grupo2/runs',\n",
       " 'uuid': '765bacf433b23056de58d9ce6fef2008d6ad1b127e866ab4c974826f73d3d1e8',\n",
       " 'sync': True,\n",
       " 'api_key': '',\n",
       " 'openai_api_key': '',\n",
       " 'clearml': True,\n",
       " 'comet': True,\n",
       " 'dvc': True,\n",
       " 'hub': True,\n",
       " 'mlflow': True,\n",
       " 'neptune': True,\n",
       " 'raytune': True,\n",
       " 'tensorboard': True,\n",
       " 'wandb': False,\n",
       " 'vscode_msg': True}"
      ]
     },
     "execution_count": 2,
     "metadata": {},
     "output_type": "execute_result"
    }
   ],
   "source": [
    "settings.update({'datasets_dir': '/home/gerdson/projetos/FIAP-Hackathon-Grupo2/datasets'})\n",
    "settings.update({'weights_dir': '/home/gerdson/projetos/FIAP-Hackathon-Grupo2/weights'})\n",
    "settings.update({'runs_dir': '/home/gerdson/projetos/FIAP-Hackathon-Grupo2/runs'})\n",
    "settings"
   ]
  },
  {
   "cell_type": "markdown",
   "metadata": {},
   "source": [
    "# Treinamento"
   ]
  },
  {
   "cell_type": "code",
   "execution_count": 3,
   "metadata": {},
   "outputs": [],
   "source": [
    "#model = YOLO('yolov8m-worldv2')\n",
    "model = YOLO('yolo11m')"
   ]
  },
  {
   "cell_type": "code",
   "execution_count": 4,
   "metadata": {},
   "outputs": [
    {
     "name": "stdout",
     "output_type": "stream",
     "text": [
      "PyTorch: GPU está disponível!\n",
      "GPU: NVIDIA GeForce RTX 4090\n"
     ]
    },
    {
     "data": {
      "text/plain": [
       "True"
      ]
     },
     "execution_count": 4,
     "metadata": {},
     "output_type": "execute_result"
    }
   ],
   "source": [
    "import torch\n",
    "\n",
    "def check_gpu_pytorch():\n",
    "    \"\"\"Verifica se a GPU está disponível para PyTorch.\"\"\"\n",
    "    if torch.cuda.is_available():\n",
    "        print(\"PyTorch: GPU está disponível!\")\n",
    "        gpu_index = torch.cuda.current_device()\n",
    "        gpu_name = torch.cuda.get_device_name(gpu_index)\n",
    "        print(f\"GPU: {gpu_name}\")\n",
    "        return True\n",
    "    else:\n",
    "        print(\"PyTorch: GPU não está disponível.\")\n",
    "        return False\n",
    "    \n",
    "check_gpu_pytorch()"
   ]
  },
  {
   "cell_type": "code",
   "execution_count": 10,
   "metadata": {},
   "outputs": [],
   "source": [
    "#config = './config.yaml'\n",
    "#model.train(data=config, epochs=10, batch=64)"
   ]
  },
  {
   "cell_type": "code",
   "execution_count": 5,
   "metadata": {},
   "outputs": [
    {
     "name": "stdout",
     "output_type": "stream",
     "text": [
      "New https://pypi.org/project/ultralytics/8.3.73 available 😃 Update with 'pip install -U ultralytics'\n",
      "Ultralytics 8.3.70 🚀 Python-3.12.8 torch-2.6.0+cu124 CUDA:0 (NVIDIA GeForce RTX 4090, 24069MiB)\n",
      "\u001b[34m\u001b[1mengine/trainer: \u001b[0mtask=detect, mode=train, model=yolo11m.pt, data=./config.yaml, epochs=100, time=None, patience=8, batch=32, imgsz=640, save=True, save_period=-1, cache=False, device=None, workers=8, project=None, name=train, exist_ok=False, pretrained=True, optimizer=AdamW, verbose=True, seed=0, deterministic=True, single_cls=False, rect=False, cos_lr=False, close_mosaic=10, resume=False, amp=True, fraction=1.0, profile=False, freeze=None, multi_scale=False, overlap_mask=True, mask_ratio=4, dropout=0.0, val=True, split=val, save_json=False, save_hybrid=False, conf=None, iou=0.7, max_det=300, half=False, dnn=False, plots=True, source=None, vid_stride=1, stream_buffer=False, visualize=False, augment=False, agnostic_nms=False, classes=None, retina_masks=False, embed=None, show=False, save_frames=False, save_txt=False, save_conf=False, save_crop=False, show_labels=True, show_conf=True, show_boxes=True, line_width=None, format=torchscript, keras=False, optimize=False, int8=False, dynamic=False, simplify=True, opset=None, workspace=None, nms=False, lr0=0.001, lrf=0.01, momentum=0.937, weight_decay=0.0005, warmup_epochs=3.0, warmup_momentum=0.8, warmup_bias_lr=0.1, box=7.5, cls=0.5, dfl=1.5, pose=12.0, kobj=1.0, nbs=64, hsv_h=0.015, hsv_s=0.3, hsv_v=0.3, degrees=0.3, translate=0.1, scale=0.5, shear=0.0, perspective=0.0, flipud=0.0, fliplr=0.5, bgr=0.0, mosaic=1.0, mixup=0.0, copy_paste=0.0, copy_paste_mode=flip, auto_augment=randaugment, erasing=0.4, crop_fraction=1.0, cfg=None, tracker=botsort.yaml, save_dir=/home/gerdson/projetos/FIAP-Hackathon-Grupo2/runs/detect/train\n",
      "Overriding model.yaml nc=80 with nc=1\n",
      "\n",
      "                   from  n    params  module                                       arguments                     \n",
      "  0                  -1  1      1856  ultralytics.nn.modules.conv.Conv             [3, 64, 3, 2]                 \n",
      "  1                  -1  1     73984  ultralytics.nn.modules.conv.Conv             [64, 128, 3, 2]               \n",
      "  2                  -1  1    111872  ultralytics.nn.modules.block.C3k2            [128, 256, 1, True, 0.25]     \n",
      "  3                  -1  1    590336  ultralytics.nn.modules.conv.Conv             [256, 256, 3, 2]              \n",
      "  4                  -1  1    444928  ultralytics.nn.modules.block.C3k2            [256, 512, 1, True, 0.25]     \n",
      "  5                  -1  1   2360320  ultralytics.nn.modules.conv.Conv             [512, 512, 3, 2]              \n",
      "  6                  -1  1   1380352  ultralytics.nn.modules.block.C3k2            [512, 512, 1, True]           \n",
      "  7                  -1  1   2360320  ultralytics.nn.modules.conv.Conv             [512, 512, 3, 2]              \n",
      "  8                  -1  1   1380352  ultralytics.nn.modules.block.C3k2            [512, 512, 1, True]           \n",
      "  9                  -1  1    656896  ultralytics.nn.modules.block.SPPF            [512, 512, 5]                 \n",
      " 10                  -1  1    990976  ultralytics.nn.modules.block.C2PSA           [512, 512, 1]                 \n",
      " 11                  -1  1         0  torch.nn.modules.upsampling.Upsample         [None, 2, 'nearest']          \n",
      " 12             [-1, 6]  1         0  ultralytics.nn.modules.conv.Concat           [1]                           \n",
      " 13                  -1  1   1642496  ultralytics.nn.modules.block.C3k2            [1024, 512, 1, True]          \n",
      " 14                  -1  1         0  torch.nn.modules.upsampling.Upsample         [None, 2, 'nearest']          \n",
      " 15             [-1, 4]  1         0  ultralytics.nn.modules.conv.Concat           [1]                           \n",
      " 16                  -1  1    542720  ultralytics.nn.modules.block.C3k2            [1024, 256, 1, True]          \n",
      " 17                  -1  1    590336  ultralytics.nn.modules.conv.Conv             [256, 256, 3, 2]              \n",
      " 18            [-1, 13]  1         0  ultralytics.nn.modules.conv.Concat           [1]                           \n",
      " 19                  -1  1   1511424  ultralytics.nn.modules.block.C3k2            [768, 512, 1, True]           \n",
      " 20                  -1  1   2360320  ultralytics.nn.modules.conv.Conv             [512, 512, 3, 2]              \n",
      " 21            [-1, 10]  1         0  ultralytics.nn.modules.conv.Concat           [1]                           \n",
      " 22                  -1  1   1642496  ultralytics.nn.modules.block.C3k2            [1024, 512, 1, True]          \n",
      " 23        [16, 19, 22]  1   1411795  ultralytics.nn.modules.head.Detect           [1, [256, 512, 512]]          \n",
      "YOLO11m summary: 409 layers, 20,053,779 parameters, 20,053,763 gradients, 68.2 GFLOPs\n",
      "\n",
      "Transferred 643/649 items from pretrained weights\n",
      "Freezing layer 'model.23.dfl.conv.weight'\n",
      "\u001b[34m\u001b[1mAMP: \u001b[0mrunning Automatic Mixed Precision (AMP) checks...\n",
      "\u001b[34m\u001b[1mAMP: \u001b[0mchecks passed ✅\n"
     ]
    },
    {
     "name": "stderr",
     "output_type": "stream",
     "text": [
      "\u001b[34m\u001b[1mtrain: \u001b[0mScanning /home/gerdson/projetos/FIAP-Hackathon-Grupo2/datasets/cortantes/train/labels.cache... 19413 images, 254 backgrounds, 0 corrupt: 100%|██████████| 19413/19413 [00:00<?, ?it/s]"
     ]
    },
    {
     "name": "stdout",
     "output_type": "stream",
     "text": [
      "WARNING ⚠️ Box and segment counts should be equal, but got len(segments) = 3, len(boxes) = 27925. To resolve this only boxes will be used and all segments will be removed. To avoid this please supply either a detect or segment dataset, not a detect-segment mixed dataset.\n"
     ]
    },
    {
     "name": "stderr",
     "output_type": "stream",
     "text": [
      "\n",
      "\u001b[34m\u001b[1mval: \u001b[0mScanning /home/gerdson/projetos/FIAP-Hackathon-Grupo2/datasets/cortantes/valid/labels.cache... 2617 images, 75 backgrounds, 0 corrupt: 100%|██████████| 2617/2617 [00:00<?, ?it/s]\n"
     ]
    },
    {
     "name": "stdout",
     "output_type": "stream",
     "text": [
      "Plotting labels to /home/gerdson/projetos/FIAP-Hackathon-Grupo2/runs/detect/train/labels.jpg... \n",
      "\u001b[34m\u001b[1moptimizer:\u001b[0m AdamW(lr=0.001, momentum=0.937) with parameter groups 106 weight(decay=0.0), 113 weight(decay=0.0005), 112 bias(decay=0.0)\n",
      "Image sizes 640 train, 640 val\n",
      "Using 8 dataloader workers\n",
      "Logging results to \u001b[1m/home/gerdson/projetos/FIAP-Hackathon-Grupo2/runs/detect/train\u001b[0m\n",
      "Starting training for 100 epochs...\n",
      "\n",
      "      Epoch    GPU_mem   box_loss   cls_loss   dfl_loss  Instances       Size\n"
     ]
    },
    {
     "name": "stderr",
     "output_type": "stream",
     "text": [
      "      1/100      16.5G      1.458      1.815      1.563         57        640: 100%|██████████| 607/607 [02:25<00:00,  4.17it/s]\n",
      "                 Class     Images  Instances      Box(P          R      mAP50  mAP50-95): 100%|██████████| 41/41 [00:09<00:00,  4.40it/s]\n"
     ]
    },
    {
     "name": "stdout",
     "output_type": "stream",
     "text": [
      "                   all       2617       2956      0.307      0.376       0.25      0.111\n",
      "\n",
      "      Epoch    GPU_mem   box_loss   cls_loss   dfl_loss  Instances       Size\n"
     ]
    },
    {
     "name": "stderr",
     "output_type": "stream",
     "text": [
      "      2/100      16.7G      1.461      1.831        1.6         48        640: 100%|██████████| 607/607 [02:22<00:00,  4.25it/s]\n",
      "                 Class     Images  Instances      Box(P          R      mAP50  mAP50-95): 100%|██████████| 41/41 [00:09<00:00,  4.50it/s]\n"
     ]
    },
    {
     "name": "stdout",
     "output_type": "stream",
     "text": [
      "                   all       2617       2956      0.476      0.518      0.418      0.201\n",
      "\n",
      "      Epoch    GPU_mem   box_loss   cls_loss   dfl_loss  Instances       Size\n"
     ]
    },
    {
     "name": "stderr",
     "output_type": "stream",
     "text": [
      "      3/100      16.7G       1.38      1.669      1.541         62        640: 100%|██████████| 607/607 [02:19<00:00,  4.35it/s]\n",
      "                 Class     Images  Instances      Box(P          R      mAP50  mAP50-95): 100%|██████████| 41/41 [00:09<00:00,  4.55it/s]\n"
     ]
    },
    {
     "name": "stdout",
     "output_type": "stream",
     "text": [
      "                   all       2617       2956      0.636       0.56      0.587      0.292\n",
      "\n",
      "      Epoch    GPU_mem   box_loss   cls_loss   dfl_loss  Instances       Size\n"
     ]
    },
    {
     "name": "stderr",
     "output_type": "stream",
     "text": [
      "      4/100      16.7G       1.32      1.564      1.507         51        640: 100%|██████████| 607/607 [02:18<00:00,  4.39it/s]\n",
      "                 Class     Images  Instances      Box(P          R      mAP50  mAP50-95): 100%|██████████| 41/41 [00:08<00:00,  4.57it/s]\n"
     ]
    },
    {
     "name": "stdout",
     "output_type": "stream",
     "text": [
      "                   all       2617       2956      0.654      0.571      0.605      0.324\n",
      "\n",
      "      Epoch    GPU_mem   box_loss   cls_loss   dfl_loss  Instances       Size\n"
     ]
    },
    {
     "name": "stderr",
     "output_type": "stream",
     "text": [
      "      5/100      16.8G      1.261      1.435      1.451         40        640: 100%|██████████| 607/607 [02:19<00:00,  4.34it/s]\n",
      "                 Class     Images  Instances      Box(P          R      mAP50  mAP50-95): 100%|██████████| 41/41 [00:09<00:00,  4.54it/s]\n"
     ]
    },
    {
     "name": "stdout",
     "output_type": "stream",
     "text": [
      "                   all       2617       2956      0.789      0.693      0.764      0.437\n",
      "\n",
      "      Epoch    GPU_mem   box_loss   cls_loss   dfl_loss  Instances       Size\n"
     ]
    },
    {
     "name": "stderr",
     "output_type": "stream",
     "text": [
      "      6/100      16.7G      1.227      1.356      1.423         50        640: 100%|██████████| 607/607 [02:19<00:00,  4.34it/s]\n",
      "                 Class     Images  Instances      Box(P          R      mAP50  mAP50-95): 100%|██████████| 41/41 [00:09<00:00,  4.50it/s]\n"
     ]
    },
    {
     "name": "stdout",
     "output_type": "stream",
     "text": [
      "                   all       2617       2956      0.805       0.76      0.815      0.485\n",
      "\n",
      "      Epoch    GPU_mem   box_loss   cls_loss   dfl_loss  Instances       Size\n"
     ]
    },
    {
     "name": "stderr",
     "output_type": "stream",
     "text": [
      "      7/100      16.8G      1.193      1.295      1.399         47        640: 100%|██████████| 607/607 [02:19<00:00,  4.34it/s]\n",
      "                 Class     Images  Instances      Box(P          R      mAP50  mAP50-95): 100%|██████████| 41/41 [00:08<00:00,  4.59it/s]\n"
     ]
    },
    {
     "name": "stdout",
     "output_type": "stream",
     "text": [
      "                   all       2617       2956      0.797      0.739      0.797       0.47\n",
      "\n",
      "      Epoch    GPU_mem   box_loss   cls_loss   dfl_loss  Instances       Size\n"
     ]
    },
    {
     "name": "stderr",
     "output_type": "stream",
     "text": [
      "      8/100      16.7G      1.162      1.227      1.375         42        640: 100%|██████████| 607/607 [02:19<00:00,  4.36it/s]\n",
      "                 Class     Images  Instances      Box(P          R      mAP50  mAP50-95): 100%|██████████| 41/41 [00:08<00:00,  4.57it/s]\n"
     ]
    },
    {
     "name": "stdout",
     "output_type": "stream",
     "text": [
      "                   all       2617       2956      0.827      0.797      0.849       0.52\n",
      "\n",
      "      Epoch    GPU_mem   box_loss   cls_loss   dfl_loss  Instances       Size\n"
     ]
    },
    {
     "name": "stderr",
     "output_type": "stream",
     "text": [
      "      9/100      16.8G      1.144      1.196      1.364         51        640: 100%|██████████| 607/607 [02:18<00:00,  4.39it/s]\n",
      "                 Class     Images  Instances      Box(P          R      mAP50  mAP50-95): 100%|██████████| 41/41 [00:08<00:00,  4.63it/s]\n"
     ]
    },
    {
     "name": "stdout",
     "output_type": "stream",
     "text": [
      "                   all       2617       2956      0.833      0.785      0.857      0.527\n",
      "\n",
      "      Epoch    GPU_mem   box_loss   cls_loss   dfl_loss  Instances       Size\n"
     ]
    },
    {
     "name": "stderr",
     "output_type": "stream",
     "text": [
      "     10/100      16.7G      1.125      1.157      1.353         75        640: 100%|██████████| 607/607 [02:19<00:00,  4.36it/s]\n",
      "                 Class     Images  Instances      Box(P          R      mAP50  mAP50-95): 100%|██████████| 41/41 [00:09<00:00,  4.54it/s]\n"
     ]
    },
    {
     "name": "stdout",
     "output_type": "stream",
     "text": [
      "                   all       2617       2956      0.863      0.819      0.873      0.529\n",
      "\n",
      "      Epoch    GPU_mem   box_loss   cls_loss   dfl_loss  Instances       Size\n"
     ]
    },
    {
     "name": "stderr",
     "output_type": "stream",
     "text": [
      "     11/100      16.7G      1.107      1.121      1.336         55        640: 100%|██████████| 607/607 [02:20<00:00,  4.33it/s]\n",
      "                 Class     Images  Instances      Box(P          R      mAP50  mAP50-95): 100%|██████████| 41/41 [00:08<00:00,  4.60it/s]\n"
     ]
    },
    {
     "name": "stdout",
     "output_type": "stream",
     "text": [
      "                   all       2617       2956      0.864      0.855      0.889      0.566\n",
      "\n",
      "      Epoch    GPU_mem   box_loss   cls_loss   dfl_loss  Instances       Size\n"
     ]
    },
    {
     "name": "stderr",
     "output_type": "stream",
     "text": [
      "     12/100      16.7G      1.088      1.084      1.317         41        640: 100%|██████████| 607/607 [02:20<00:00,  4.33it/s]\n",
      "                 Class     Images  Instances      Box(P          R      mAP50  mAP50-95): 100%|██████████| 41/41 [00:08<00:00,  4.58it/s]\n"
     ]
    },
    {
     "name": "stdout",
     "output_type": "stream",
     "text": [
      "                   all       2617       2956      0.886      0.864      0.915      0.604\n",
      "\n",
      "      Epoch    GPU_mem   box_loss   cls_loss   dfl_loss  Instances       Size\n"
     ]
    },
    {
     "name": "stderr",
     "output_type": "stream",
     "text": [
      "     13/100      16.7G      1.088      1.078      1.322         64        640: 100%|██████████| 607/607 [02:20<00:00,  4.33it/s]\n",
      "                 Class     Images  Instances      Box(P          R      mAP50  mAP50-95): 100%|██████████| 41/41 [00:08<00:00,  4.59it/s]\n"
     ]
    },
    {
     "name": "stdout",
     "output_type": "stream",
     "text": [
      "                   all       2617       2956      0.899      0.856      0.917      0.605\n",
      "\n",
      "      Epoch    GPU_mem   box_loss   cls_loss   dfl_loss  Instances       Size\n"
     ]
    },
    {
     "name": "stderr",
     "output_type": "stream",
     "text": [
      "     14/100      16.7G      1.067      1.041      1.302         42        640: 100%|██████████| 607/607 [02:19<00:00,  4.34it/s]\n",
      "                 Class     Images  Instances      Box(P          R      mAP50  mAP50-95): 100%|██████████| 41/41 [00:09<00:00,  4.53it/s]\n"
     ]
    },
    {
     "name": "stdout",
     "output_type": "stream",
     "text": [
      "                   all       2617       2956      0.897      0.879      0.924      0.615\n",
      "\n",
      "      Epoch    GPU_mem   box_loss   cls_loss   dfl_loss  Instances       Size\n"
     ]
    },
    {
     "name": "stderr",
     "output_type": "stream",
     "text": [
      "     15/100      16.8G      1.055       1.02      1.293         78        640: 100%|██████████| 607/607 [02:20<00:00,  4.33it/s]\n",
      "                 Class     Images  Instances      Box(P          R      mAP50  mAP50-95): 100%|██████████| 41/41 [00:08<00:00,  4.60it/s]\n"
     ]
    },
    {
     "name": "stdout",
     "output_type": "stream",
     "text": [
      "                   all       2617       2956      0.906      0.888      0.934      0.625\n",
      "\n",
      "      Epoch    GPU_mem   box_loss   cls_loss   dfl_loss  Instances       Size\n"
     ]
    },
    {
     "name": "stderr",
     "output_type": "stream",
     "text": [
      "     16/100      16.7G      1.038      1.007      1.284         50        640: 100%|██████████| 607/607 [02:19<00:00,  4.34it/s]\n",
      "                 Class     Images  Instances      Box(P          R      mAP50  mAP50-95): 100%|██████████| 41/41 [00:09<00:00,  4.51it/s]\n"
     ]
    },
    {
     "name": "stdout",
     "output_type": "stream",
     "text": [
      "                   all       2617       2956      0.914      0.892      0.936      0.628\n",
      "\n",
      "      Epoch    GPU_mem   box_loss   cls_loss   dfl_loss  Instances       Size\n"
     ]
    },
    {
     "name": "stderr",
     "output_type": "stream",
     "text": [
      "     17/100      16.7G      1.037     0.9908      1.283         53        640: 100%|██████████| 607/607 [02:20<00:00,  4.34it/s]\n",
      "                 Class     Images  Instances      Box(P          R      mAP50  mAP50-95): 100%|██████████| 41/41 [00:08<00:00,  4.60it/s]\n"
     ]
    },
    {
     "name": "stdout",
     "output_type": "stream",
     "text": [
      "                   all       2617       2956      0.932      0.895      0.944      0.647\n",
      "\n",
      "      Epoch    GPU_mem   box_loss   cls_loss   dfl_loss  Instances       Size\n"
     ]
    },
    {
     "name": "stderr",
     "output_type": "stream",
     "text": [
      "     18/100      16.7G      1.026     0.9733      1.276         59        640: 100%|██████████| 607/607 [02:19<00:00,  4.34it/s]\n",
      "                 Class     Images  Instances      Box(P          R      mAP50  mAP50-95): 100%|██████████| 41/41 [00:08<00:00,  4.57it/s]\n"
     ]
    },
    {
     "name": "stdout",
     "output_type": "stream",
     "text": [
      "                   all       2617       2956      0.919      0.904      0.948      0.657\n",
      "\n",
      "      Epoch    GPU_mem   box_loss   cls_loss   dfl_loss  Instances       Size\n"
     ]
    },
    {
     "name": "stderr",
     "output_type": "stream",
     "text": [
      "     19/100      16.8G      1.013     0.9547      1.268         60        640: 100%|██████████| 607/607 [02:19<00:00,  4.34it/s]\n",
      "                 Class     Images  Instances      Box(P          R      mAP50  mAP50-95): 100%|██████████| 41/41 [00:08<00:00,  4.60it/s]"
     ]
    },
    {
     "name": "stdout",
     "output_type": "stream",
     "text": [
      "                   all       2617       2956      0.925      0.904      0.946      0.663\n"
     ]
    },
    {
     "name": "stderr",
     "output_type": "stream",
     "text": [
      "\n"
     ]
    },
    {
     "name": "stdout",
     "output_type": "stream",
     "text": [
      "\n",
      "      Epoch    GPU_mem   box_loss   cls_loss   dfl_loss  Instances       Size\n"
     ]
    },
    {
     "name": "stderr",
     "output_type": "stream",
     "text": [
      "     20/100      16.7G      1.013     0.9454      1.264         50        640: 100%|██████████| 607/607 [02:19<00:00,  4.34it/s]\n",
      "                 Class     Images  Instances      Box(P          R      mAP50  mAP50-95): 100%|██████████| 41/41 [00:08<00:00,  4.60it/s]"
     ]
    },
    {
     "name": "stdout",
     "output_type": "stream",
     "text": [
      "                   all       2617       2956      0.928      0.904      0.946      0.656\n"
     ]
    },
    {
     "name": "stderr",
     "output_type": "stream",
     "text": [
      "\n"
     ]
    },
    {
     "name": "stdout",
     "output_type": "stream",
     "text": [
      "\n",
      "      Epoch    GPU_mem   box_loss   cls_loss   dfl_loss  Instances       Size\n"
     ]
    },
    {
     "name": "stderr",
     "output_type": "stream",
     "text": [
      "     21/100      16.8G     0.9992     0.9234      1.253         46        640: 100%|██████████| 607/607 [02:19<00:00,  4.36it/s]\n",
      "                 Class     Images  Instances      Box(P          R      mAP50  mAP50-95): 100%|██████████| 41/41 [00:08<00:00,  4.68it/s]"
     ]
    },
    {
     "name": "stdout",
     "output_type": "stream",
     "text": [
      "                   all       2617       2956      0.933      0.914      0.953      0.676\n"
     ]
    },
    {
     "name": "stderr",
     "output_type": "stream",
     "text": [
      "\n"
     ]
    },
    {
     "name": "stdout",
     "output_type": "stream",
     "text": [
      "\n",
      "      Epoch    GPU_mem   box_loss   cls_loss   dfl_loss  Instances       Size\n"
     ]
    },
    {
     "name": "stderr",
     "output_type": "stream",
     "text": [
      "     22/100      16.7G     0.9927     0.9103      1.245         49        640: 100%|██████████| 607/607 [02:19<00:00,  4.36it/s]\n",
      "                 Class     Images  Instances      Box(P          R      mAP50  mAP50-95): 100%|██████████| 41/41 [00:08<00:00,  4.67it/s]"
     ]
    },
    {
     "name": "stdout",
     "output_type": "stream",
     "text": [
      "                   all       2617       2956       0.93      0.914      0.953      0.676\n"
     ]
    },
    {
     "name": "stderr",
     "output_type": "stream",
     "text": [
      "\n"
     ]
    },
    {
     "name": "stdout",
     "output_type": "stream",
     "text": [
      "\n",
      "      Epoch    GPU_mem   box_loss   cls_loss   dfl_loss  Instances       Size\n"
     ]
    },
    {
     "name": "stderr",
     "output_type": "stream",
     "text": [
      "     23/100      16.7G     0.9758     0.8983      1.241         39        640: 100%|██████████| 607/607 [02:18<00:00,  4.37it/s]\n",
      "                 Class     Images  Instances      Box(P          R      mAP50  mAP50-95): 100%|██████████| 41/41 [00:08<00:00,  4.67it/s]"
     ]
    },
    {
     "name": "stdout",
     "output_type": "stream",
     "text": [
      "                   all       2617       2956      0.928       0.92      0.954      0.685\n"
     ]
    },
    {
     "name": "stderr",
     "output_type": "stream",
     "text": [
      "\n"
     ]
    },
    {
     "name": "stdout",
     "output_type": "stream",
     "text": [
      "\n",
      "      Epoch    GPU_mem   box_loss   cls_loss   dfl_loss  Instances       Size\n"
     ]
    },
    {
     "name": "stderr",
     "output_type": "stream",
     "text": [
      "     24/100      16.7G     0.9776     0.8872      1.236         46        640: 100%|██████████| 607/607 [02:18<00:00,  4.38it/s]\n",
      "                 Class     Images  Instances      Box(P          R      mAP50  mAP50-95): 100%|██████████| 41/41 [00:08<00:00,  4.57it/s]"
     ]
    },
    {
     "name": "stdout",
     "output_type": "stream",
     "text": [
      "                   all       2617       2956      0.936      0.918      0.958      0.687\n"
     ]
    },
    {
     "name": "stderr",
     "output_type": "stream",
     "text": [
      "\n"
     ]
    },
    {
     "name": "stdout",
     "output_type": "stream",
     "text": [
      "\n",
      "      Epoch    GPU_mem   box_loss   cls_loss   dfl_loss  Instances       Size\n"
     ]
    },
    {
     "name": "stderr",
     "output_type": "stream",
     "text": [
      "     25/100      16.7G     0.9648     0.8673      1.225         47        640: 100%|██████████| 607/607 [02:18<00:00,  4.37it/s]\n",
      "                 Class     Images  Instances      Box(P          R      mAP50  mAP50-95): 100%|██████████| 41/41 [00:08<00:00,  4.68it/s]"
     ]
    },
    {
     "name": "stdout",
     "output_type": "stream",
     "text": [
      "                   all       2617       2956      0.943      0.921      0.958       0.69\n"
     ]
    },
    {
     "name": "stderr",
     "output_type": "stream",
     "text": [
      "\n"
     ]
    },
    {
     "name": "stdout",
     "output_type": "stream",
     "text": [
      "\n",
      "      Epoch    GPU_mem   box_loss   cls_loss   dfl_loss  Instances       Size\n"
     ]
    },
    {
     "name": "stderr",
     "output_type": "stream",
     "text": [
      "     26/100      16.7G     0.9542      0.861      1.224         44        640: 100%|██████████| 607/607 [02:18<00:00,  4.37it/s]\n",
      "                 Class     Images  Instances      Box(P          R      mAP50  mAP50-95): 100%|██████████| 41/41 [00:08<00:00,  4.58it/s]"
     ]
    },
    {
     "name": "stdout",
     "output_type": "stream",
     "text": [
      "                   all       2617       2956      0.943      0.929       0.96      0.697\n"
     ]
    },
    {
     "name": "stderr",
     "output_type": "stream",
     "text": [
      "\n"
     ]
    },
    {
     "name": "stdout",
     "output_type": "stream",
     "text": [
      "\n",
      "      Epoch    GPU_mem   box_loss   cls_loss   dfl_loss  Instances       Size\n"
     ]
    },
    {
     "name": "stderr",
     "output_type": "stream",
     "text": [
      "     27/100      16.8G     0.9518     0.8404      1.219         49        640: 100%|██████████| 607/607 [02:20<00:00,  4.33it/s]\n",
      "                 Class     Images  Instances      Box(P          R      mAP50  mAP50-95): 100%|██████████| 41/41 [00:08<00:00,  4.65it/s]"
     ]
    },
    {
     "name": "stdout",
     "output_type": "stream",
     "text": [
      "                   all       2617       2956       0.94      0.933      0.959      0.697\n"
     ]
    },
    {
     "name": "stderr",
     "output_type": "stream",
     "text": [
      "\n"
     ]
    },
    {
     "name": "stdout",
     "output_type": "stream",
     "text": [
      "\n",
      "      Epoch    GPU_mem   box_loss   cls_loss   dfl_loss  Instances       Size\n"
     ]
    },
    {
     "name": "stderr",
     "output_type": "stream",
     "text": [
      "     28/100      16.7G     0.9424     0.8345       1.21         48        640: 100%|██████████| 607/607 [02:20<00:00,  4.33it/s]\n",
      "                 Class     Images  Instances      Box(P          R      mAP50  mAP50-95): 100%|██████████| 41/41 [00:08<00:00,  4.67it/s]"
     ]
    },
    {
     "name": "stdout",
     "output_type": "stream",
     "text": [
      "                   all       2617       2956      0.936      0.938      0.959        0.7\n"
     ]
    },
    {
     "name": "stderr",
     "output_type": "stream",
     "text": [
      "\n"
     ]
    },
    {
     "name": "stdout",
     "output_type": "stream",
     "text": [
      "\n",
      "      Epoch    GPU_mem   box_loss   cls_loss   dfl_loss  Instances       Size\n"
     ]
    },
    {
     "name": "stderr",
     "output_type": "stream",
     "text": [
      "     29/100      16.7G     0.9348     0.8258      1.207         37        640: 100%|██████████| 607/607 [02:19<00:00,  4.34it/s]\n",
      "                 Class     Images  Instances      Box(P          R      mAP50  mAP50-95): 100%|██████████| 41/41 [00:08<00:00,  4.63it/s]"
     ]
    },
    {
     "name": "stdout",
     "output_type": "stream",
     "text": [
      "                   all       2617       2956      0.948      0.934      0.963      0.709\n"
     ]
    },
    {
     "name": "stderr",
     "output_type": "stream",
     "text": [
      "\n"
     ]
    },
    {
     "name": "stdout",
     "output_type": "stream",
     "text": [
      "\n",
      "      Epoch    GPU_mem   box_loss   cls_loss   dfl_loss  Instances       Size\n"
     ]
    },
    {
     "name": "stderr",
     "output_type": "stream",
     "text": [
      "     30/100      16.7G     0.9243     0.8238      1.202         44        640: 100%|██████████| 607/607 [02:19<00:00,  4.35it/s]\n",
      "                 Class     Images  Instances      Box(P          R      mAP50  mAP50-95): 100%|██████████| 41/41 [00:08<00:00,  4.67it/s]"
     ]
    },
    {
     "name": "stdout",
     "output_type": "stream",
     "text": [
      "                   all       2617       2956      0.948      0.929      0.961      0.709\n"
     ]
    },
    {
     "name": "stderr",
     "output_type": "stream",
     "text": [
      "\n"
     ]
    },
    {
     "name": "stdout",
     "output_type": "stream",
     "text": [
      "\n",
      "      Epoch    GPU_mem   box_loss   cls_loss   dfl_loss  Instances       Size\n"
     ]
    },
    {
     "name": "stderr",
     "output_type": "stream",
     "text": [
      "     31/100      16.7G      0.924     0.8121      1.198         49        640: 100%|██████████| 607/607 [02:19<00:00,  4.34it/s]\n",
      "                 Class     Images  Instances      Box(P          R      mAP50  mAP50-95): 100%|██████████| 41/41 [00:08<00:00,  4.68it/s]"
     ]
    },
    {
     "name": "stdout",
     "output_type": "stream",
     "text": [
      "                   all       2617       2956      0.949      0.935      0.965      0.717\n"
     ]
    },
    {
     "name": "stderr",
     "output_type": "stream",
     "text": [
      "\n"
     ]
    },
    {
     "name": "stdout",
     "output_type": "stream",
     "text": [
      "\n",
      "      Epoch    GPU_mem   box_loss   cls_loss   dfl_loss  Instances       Size\n"
     ]
    },
    {
     "name": "stderr",
     "output_type": "stream",
     "text": [
      "     32/100      16.7G      0.914     0.7962      1.194         53        640: 100%|██████████| 607/607 [02:19<00:00,  4.36it/s]\n",
      "                 Class     Images  Instances      Box(P          R      mAP50  mAP50-95): 100%|██████████| 41/41 [00:08<00:00,  4.57it/s]"
     ]
    },
    {
     "name": "stdout",
     "output_type": "stream",
     "text": [
      "                   all       2617       2956       0.95      0.938      0.965      0.717\n"
     ]
    },
    {
     "name": "stderr",
     "output_type": "stream",
     "text": [
      "\n"
     ]
    },
    {
     "name": "stdout",
     "output_type": "stream",
     "text": [
      "\n",
      "      Epoch    GPU_mem   box_loss   cls_loss   dfl_loss  Instances       Size\n"
     ]
    },
    {
     "name": "stderr",
     "output_type": "stream",
     "text": [
      "     33/100      16.8G     0.9102     0.7919      1.192         48        640: 100%|██████████| 607/607 [02:20<00:00,  4.33it/s]\n",
      "                 Class     Images  Instances      Box(P          R      mAP50  mAP50-95): 100%|██████████| 41/41 [00:08<00:00,  4.60it/s]"
     ]
    },
    {
     "name": "stdout",
     "output_type": "stream",
     "text": [
      "                   all       2617       2956      0.954      0.937      0.966      0.716\n"
     ]
    },
    {
     "name": "stderr",
     "output_type": "stream",
     "text": [
      "\n"
     ]
    },
    {
     "name": "stdout",
     "output_type": "stream",
     "text": [
      "\n",
      "      Epoch    GPU_mem   box_loss   cls_loss   dfl_loss  Instances       Size\n"
     ]
    },
    {
     "name": "stderr",
     "output_type": "stream",
     "text": [
      "     34/100      16.7G     0.9044      0.779      1.187         51        640: 100%|██████████| 607/607 [02:20<00:00,  4.33it/s]\n",
      "                 Class     Images  Instances      Box(P          R      mAP50  mAP50-95): 100%|██████████| 41/41 [00:08<00:00,  4.66it/s]"
     ]
    },
    {
     "name": "stdout",
     "output_type": "stream",
     "text": [
      "                   all       2617       2956      0.951      0.941      0.966      0.722\n"
     ]
    },
    {
     "name": "stderr",
     "output_type": "stream",
     "text": [
      "\n"
     ]
    },
    {
     "name": "stdout",
     "output_type": "stream",
     "text": [
      "\n",
      "      Epoch    GPU_mem   box_loss   cls_loss   dfl_loss  Instances       Size\n"
     ]
    },
    {
     "name": "stderr",
     "output_type": "stream",
     "text": [
      "     35/100      16.7G     0.8962     0.7697       1.18         64        640: 100%|██████████| 607/607 [02:19<00:00,  4.36it/s]\n",
      "                 Class     Images  Instances      Box(P          R      mAP50  mAP50-95): 100%|██████████| 41/41 [00:08<00:00,  4.67it/s]"
     ]
    },
    {
     "name": "stdout",
     "output_type": "stream",
     "text": [
      "                   all       2617       2956      0.951      0.944      0.966      0.724\n"
     ]
    },
    {
     "name": "stderr",
     "output_type": "stream",
     "text": [
      "\n"
     ]
    },
    {
     "name": "stdout",
     "output_type": "stream",
     "text": [
      "\n",
      "      Epoch    GPU_mem   box_loss   cls_loss   dfl_loss  Instances       Size\n"
     ]
    },
    {
     "name": "stderr",
     "output_type": "stream",
     "text": [
      "     36/100      16.7G     0.8876     0.7597      1.173         60        640: 100%|██████████| 607/607 [02:19<00:00,  4.34it/s]\n",
      "                 Class     Images  Instances      Box(P          R      mAP50  mAP50-95): 100%|██████████| 41/41 [00:08<00:00,  4.59it/s]"
     ]
    },
    {
     "name": "stdout",
     "output_type": "stream",
     "text": [
      "                   all       2617       2956      0.952      0.941      0.965      0.726\n"
     ]
    },
    {
     "name": "stderr",
     "output_type": "stream",
     "text": [
      "\n"
     ]
    },
    {
     "name": "stdout",
     "output_type": "stream",
     "text": [
      "\n",
      "      Epoch    GPU_mem   box_loss   cls_loss   dfl_loss  Instances       Size\n"
     ]
    },
    {
     "name": "stderr",
     "output_type": "stream",
     "text": [
      "     37/100      16.8G     0.8841     0.7601       1.17         60        640: 100%|██████████| 607/607 [02:18<00:00,  4.37it/s]\n",
      "                 Class     Images  Instances      Box(P          R      mAP50  mAP50-95): 100%|██████████| 41/41 [00:08<00:00,  4.66it/s]"
     ]
    },
    {
     "name": "stdout",
     "output_type": "stream",
     "text": [
      "                   all       2617       2956      0.958       0.94      0.966      0.728\n"
     ]
    },
    {
     "name": "stderr",
     "output_type": "stream",
     "text": [
      "\n"
     ]
    },
    {
     "name": "stdout",
     "output_type": "stream",
     "text": [
      "\n",
      "      Epoch    GPU_mem   box_loss   cls_loss   dfl_loss  Instances       Size\n"
     ]
    },
    {
     "name": "stderr",
     "output_type": "stream",
     "text": [
      "     38/100      16.7G     0.8764     0.7472      1.168         57        640: 100%|██████████| 607/607 [02:18<00:00,  4.38it/s]\n",
      "                 Class     Images  Instances      Box(P          R      mAP50  mAP50-95): 100%|██████████| 41/41 [00:08<00:00,  4.65it/s]"
     ]
    },
    {
     "name": "stdout",
     "output_type": "stream",
     "text": [
      "                   all       2617       2956      0.952      0.945      0.966      0.731\n"
     ]
    },
    {
     "name": "stderr",
     "output_type": "stream",
     "text": [
      "\n"
     ]
    },
    {
     "name": "stdout",
     "output_type": "stream",
     "text": [
      "\n",
      "      Epoch    GPU_mem   box_loss   cls_loss   dfl_loss  Instances       Size\n"
     ]
    },
    {
     "name": "stderr",
     "output_type": "stream",
     "text": [
      "     39/100      16.7G     0.8783     0.7437      1.169         49        640: 100%|██████████| 607/607 [02:19<00:00,  4.34it/s]\n",
      "                 Class     Images  Instances      Box(P          R      mAP50  mAP50-95): 100%|██████████| 41/41 [00:08<00:00,  4.65it/s]"
     ]
    },
    {
     "name": "stdout",
     "output_type": "stream",
     "text": [
      "                   all       2617       2956      0.952      0.945      0.967      0.732\n"
     ]
    },
    {
     "name": "stderr",
     "output_type": "stream",
     "text": [
      "\n"
     ]
    },
    {
     "name": "stdout",
     "output_type": "stream",
     "text": [
      "\n",
      "      Epoch    GPU_mem   box_loss   cls_loss   dfl_loss  Instances       Size\n"
     ]
    },
    {
     "name": "stderr",
     "output_type": "stream",
     "text": [
      "     40/100      16.7G     0.8698     0.7337      1.163         43        640: 100%|██████████| 607/607 [02:20<00:00,  4.33it/s]\n",
      "                 Class     Images  Instances      Box(P          R      mAP50  mAP50-95): 100%|██████████| 41/41 [00:08<00:00,  4.62it/s]"
     ]
    },
    {
     "name": "stdout",
     "output_type": "stream",
     "text": [
      "                   all       2617       2956      0.951      0.948      0.967      0.733\n"
     ]
    },
    {
     "name": "stderr",
     "output_type": "stream",
     "text": [
      "\n"
     ]
    },
    {
     "name": "stdout",
     "output_type": "stream",
     "text": [
      "\n",
      "      Epoch    GPU_mem   box_loss   cls_loss   dfl_loss  Instances       Size\n"
     ]
    },
    {
     "name": "stderr",
     "output_type": "stream",
     "text": [
      "     41/100      16.7G      0.867     0.7251      1.159         48        640: 100%|██████████| 607/607 [02:19<00:00,  4.36it/s]\n",
      "                 Class     Images  Instances      Box(P          R      mAP50  mAP50-95): 100%|██████████| 41/41 [00:08<00:00,  4.65it/s]"
     ]
    },
    {
     "name": "stdout",
     "output_type": "stream",
     "text": [
      "                   all       2617       2956      0.951      0.948      0.967      0.734\n"
     ]
    },
    {
     "name": "stderr",
     "output_type": "stream",
     "text": [
      "\n"
     ]
    },
    {
     "name": "stdout",
     "output_type": "stream",
     "text": [
      "\n",
      "      Epoch    GPU_mem   box_loss   cls_loss   dfl_loss  Instances       Size\n"
     ]
    },
    {
     "name": "stderr",
     "output_type": "stream",
     "text": [
      "     42/100      16.7G     0.8567       0.72      1.155         43        640: 100%|██████████| 607/607 [02:19<00:00,  4.34it/s]\n",
      "                 Class     Images  Instances      Box(P          R      mAP50  mAP50-95): 100%|██████████| 41/41 [00:08<00:00,  4.62it/s]"
     ]
    },
    {
     "name": "stdout",
     "output_type": "stream",
     "text": [
      "                   all       2617       2956      0.951      0.949      0.966      0.735\n"
     ]
    },
    {
     "name": "stderr",
     "output_type": "stream",
     "text": [
      "\n"
     ]
    },
    {
     "name": "stdout",
     "output_type": "stream",
     "text": [
      "\n",
      "      Epoch    GPU_mem   box_loss   cls_loss   dfl_loss  Instances       Size\n"
     ]
    },
    {
     "name": "stderr",
     "output_type": "stream",
     "text": [
      "     43/100      16.8G     0.8562     0.7128      1.153         53        640: 100%|██████████| 607/607 [02:19<00:00,  4.36it/s]\n",
      "                 Class     Images  Instances      Box(P          R      mAP50  mAP50-95): 100%|██████████| 41/41 [00:08<00:00,  4.65it/s]"
     ]
    },
    {
     "name": "stdout",
     "output_type": "stream",
     "text": [
      "                   all       2617       2956      0.952      0.952      0.967      0.738\n"
     ]
    },
    {
     "name": "stderr",
     "output_type": "stream",
     "text": [
      "\n"
     ]
    },
    {
     "name": "stdout",
     "output_type": "stream",
     "text": [
      "\n",
      "      Epoch    GPU_mem   box_loss   cls_loss   dfl_loss  Instances       Size\n"
     ]
    },
    {
     "name": "stderr",
     "output_type": "stream",
     "text": [
      "     44/100      16.7G     0.8453     0.7012       1.15         61        640: 100%|██████████| 607/607 [02:19<00:00,  4.36it/s]\n",
      "                 Class     Images  Instances      Box(P          R      mAP50  mAP50-95): 100%|██████████| 41/41 [00:08<00:00,  4.62it/s]"
     ]
    },
    {
     "name": "stdout",
     "output_type": "stream",
     "text": [
      "                   all       2617       2956      0.949      0.955      0.968      0.739\n"
     ]
    },
    {
     "name": "stderr",
     "output_type": "stream",
     "text": [
      "\n"
     ]
    },
    {
     "name": "stdout",
     "output_type": "stream",
     "text": [
      "\n",
      "      Epoch    GPU_mem   box_loss   cls_loss   dfl_loss  Instances       Size\n"
     ]
    },
    {
     "name": "stderr",
     "output_type": "stream",
     "text": [
      "     45/100      16.7G     0.8423     0.6983      1.144         38        640: 100%|██████████| 607/607 [02:19<00:00,  4.35it/s]\n",
      "                 Class     Images  Instances      Box(P          R      mAP50  mAP50-95): 100%|██████████| 41/41 [00:08<00:00,  4.70it/s]"
     ]
    },
    {
     "name": "stdout",
     "output_type": "stream",
     "text": [
      "                   all       2617       2956      0.953      0.954      0.969      0.741\n"
     ]
    },
    {
     "name": "stderr",
     "output_type": "stream",
     "text": [
      "\n"
     ]
    },
    {
     "name": "stdout",
     "output_type": "stream",
     "text": [
      "\n",
      "      Epoch    GPU_mem   box_loss   cls_loss   dfl_loss  Instances       Size\n"
     ]
    },
    {
     "name": "stderr",
     "output_type": "stream",
     "text": [
      "     46/100      16.7G     0.8363     0.6936       1.14         48        640: 100%|██████████| 607/607 [02:18<00:00,  4.39it/s]\n",
      "                 Class     Images  Instances      Box(P          R      mAP50  mAP50-95): 100%|██████████| 41/41 [00:08<00:00,  4.64it/s]"
     ]
    },
    {
     "name": "stdout",
     "output_type": "stream",
     "text": [
      "                   all       2617       2956      0.958      0.949      0.969      0.742\n"
     ]
    },
    {
     "name": "stderr",
     "output_type": "stream",
     "text": [
      "\n"
     ]
    },
    {
     "name": "stdout",
     "output_type": "stream",
     "text": [
      "\n",
      "      Epoch    GPU_mem   box_loss   cls_loss   dfl_loss  Instances       Size\n"
     ]
    },
    {
     "name": "stderr",
     "output_type": "stream",
     "text": [
      "     47/100      16.8G     0.8267     0.6834      1.136         56        640: 100%|██████████| 607/607 [02:18<00:00,  4.37it/s]\n",
      "                 Class     Images  Instances      Box(P          R      mAP50  mAP50-95): 100%|██████████| 41/41 [00:08<00:00,  4.67it/s]"
     ]
    },
    {
     "name": "stdout",
     "output_type": "stream",
     "text": [
      "                   all       2617       2956      0.957      0.951       0.97      0.744\n"
     ]
    },
    {
     "name": "stderr",
     "output_type": "stream",
     "text": [
      "\n"
     ]
    },
    {
     "name": "stdout",
     "output_type": "stream",
     "text": [
      "\n",
      "      Epoch    GPU_mem   box_loss   cls_loss   dfl_loss  Instances       Size\n"
     ]
    },
    {
     "name": "stderr",
     "output_type": "stream",
     "text": [
      "     48/100      16.7G     0.8232     0.6737      1.129         48        640: 100%|██████████| 607/607 [02:18<00:00,  4.38it/s]\n",
      "                 Class     Images  Instances      Box(P          R      mAP50  mAP50-95): 100%|██████████| 41/41 [00:08<00:00,  4.58it/s]"
     ]
    },
    {
     "name": "stdout",
     "output_type": "stream",
     "text": [
      "                   all       2617       2956      0.958       0.95       0.97      0.745\n"
     ]
    },
    {
     "name": "stderr",
     "output_type": "stream",
     "text": [
      "\n"
     ]
    },
    {
     "name": "stdout",
     "output_type": "stream",
     "text": [
      "\n",
      "      Epoch    GPU_mem   box_loss   cls_loss   dfl_loss  Instances       Size\n"
     ]
    },
    {
     "name": "stderr",
     "output_type": "stream",
     "text": [
      "     49/100      16.8G     0.8202     0.6751      1.131         62        640: 100%|██████████| 607/607 [02:19<00:00,  4.34it/s]\n",
      "                 Class     Images  Instances      Box(P          R      mAP50  mAP50-95): 100%|██████████| 41/41 [00:08<00:00,  4.65it/s]"
     ]
    },
    {
     "name": "stdout",
     "output_type": "stream",
     "text": [
      "                   all       2617       2956       0.96       0.95      0.971      0.747\n"
     ]
    },
    {
     "name": "stderr",
     "output_type": "stream",
     "text": [
      "\n"
     ]
    },
    {
     "name": "stdout",
     "output_type": "stream",
     "text": [
      "\n",
      "      Epoch    GPU_mem   box_loss   cls_loss   dfl_loss  Instances       Size\n"
     ]
    },
    {
     "name": "stderr",
     "output_type": "stream",
     "text": [
      "     50/100      16.7G     0.8163      0.666      1.128         63        640: 100%|██████████| 607/607 [02:19<00:00,  4.35it/s]\n",
      "                 Class     Images  Instances      Box(P          R      mAP50  mAP50-95): 100%|██████████| 41/41 [00:08<00:00,  4.66it/s]"
     ]
    },
    {
     "name": "stdout",
     "output_type": "stream",
     "text": [
      "                   all       2617       2956       0.96      0.951      0.971      0.749\n"
     ]
    },
    {
     "name": "stderr",
     "output_type": "stream",
     "text": [
      "\n"
     ]
    },
    {
     "name": "stdout",
     "output_type": "stream",
     "text": [
      "\n",
      "      Epoch    GPU_mem   box_loss   cls_loss   dfl_loss  Instances       Size\n"
     ]
    },
    {
     "name": "stderr",
     "output_type": "stream",
     "text": [
      "     51/100      16.7G     0.8163     0.6656      1.128         51        640: 100%|██████████| 607/607 [02:19<00:00,  4.35it/s]\n",
      "                 Class     Images  Instances      Box(P          R      mAP50  mAP50-95): 100%|██████████| 41/41 [00:08<00:00,  4.69it/s]"
     ]
    },
    {
     "name": "stdout",
     "output_type": "stream",
     "text": [
      "                   all       2617       2956      0.959      0.951      0.971      0.749\n"
     ]
    },
    {
     "name": "stderr",
     "output_type": "stream",
     "text": [
      "\n"
     ]
    },
    {
     "name": "stdout",
     "output_type": "stream",
     "text": [
      "\n",
      "      Epoch    GPU_mem   box_loss   cls_loss   dfl_loss  Instances       Size\n"
     ]
    },
    {
     "name": "stderr",
     "output_type": "stream",
     "text": [
      "     52/100      16.7G     0.8026     0.6538      1.123         39        640: 100%|██████████| 607/607 [02:19<00:00,  4.34it/s]\n",
      "                 Class     Images  Instances      Box(P          R      mAP50  mAP50-95): 100%|██████████| 41/41 [00:08<00:00,  4.68it/s]"
     ]
    },
    {
     "name": "stdout",
     "output_type": "stream",
     "text": [
      "                   all       2617       2956      0.959      0.952      0.972       0.75\n"
     ]
    },
    {
     "name": "stderr",
     "output_type": "stream",
     "text": [
      "\n"
     ]
    },
    {
     "name": "stdout",
     "output_type": "stream",
     "text": [
      "\n",
      "      Epoch    GPU_mem   box_loss   cls_loss   dfl_loss  Instances       Size\n"
     ]
    },
    {
     "name": "stderr",
     "output_type": "stream",
     "text": [
      "     53/100      16.8G     0.7985     0.6486      1.119         74        640: 100%|██████████| 607/607 [02:20<00:00,  4.33it/s]\n",
      "                 Class     Images  Instances      Box(P          R      mAP50  mAP50-95): 100%|██████████| 41/41 [00:08<00:00,  4.66it/s]"
     ]
    },
    {
     "name": "stdout",
     "output_type": "stream",
     "text": [
      "                   all       2617       2956      0.959      0.953      0.972      0.751\n"
     ]
    },
    {
     "name": "stderr",
     "output_type": "stream",
     "text": [
      "\n"
     ]
    },
    {
     "name": "stdout",
     "output_type": "stream",
     "text": [
      "\n",
      "      Epoch    GPU_mem   box_loss   cls_loss   dfl_loss  Instances       Size\n"
     ]
    },
    {
     "name": "stderr",
     "output_type": "stream",
     "text": [
      "     54/100      16.7G     0.7957     0.6453      1.117         44        640: 100%|██████████| 607/607 [02:20<00:00,  4.34it/s]\n",
      "                 Class     Images  Instances      Box(P          R      mAP50  mAP50-95): 100%|██████████| 41/41 [00:08<00:00,  4.64it/s]"
     ]
    },
    {
     "name": "stdout",
     "output_type": "stream",
     "text": [
      "                   all       2617       2956      0.959      0.953      0.972      0.751\n"
     ]
    },
    {
     "name": "stderr",
     "output_type": "stream",
     "text": [
      "\n"
     ]
    },
    {
     "name": "stdout",
     "output_type": "stream",
     "text": [
      "\n",
      "      Epoch    GPU_mem   box_loss   cls_loss   dfl_loss  Instances       Size\n"
     ]
    },
    {
     "name": "stderr",
     "output_type": "stream",
     "text": [
      "     55/100      16.7G     0.7922     0.6363      1.111         44        640: 100%|██████████| 607/607 [02:19<00:00,  4.34it/s]\n",
      "                 Class     Images  Instances      Box(P          R      mAP50  mAP50-95): 100%|██████████| 41/41 [00:08<00:00,  4.68it/s]"
     ]
    },
    {
     "name": "stdout",
     "output_type": "stream",
     "text": [
      "                   all       2617       2956      0.957      0.954      0.972      0.753\n"
     ]
    },
    {
     "name": "stderr",
     "output_type": "stream",
     "text": [
      "\n"
     ]
    },
    {
     "name": "stdout",
     "output_type": "stream",
     "text": [
      "\n",
      "      Epoch    GPU_mem   box_loss   cls_loss   dfl_loss  Instances       Size\n"
     ]
    },
    {
     "name": "stderr",
     "output_type": "stream",
     "text": [
      "     56/100      16.7G     0.7887     0.6342      1.111         68        640: 100%|██████████| 607/607 [02:20<00:00,  4.34it/s]\n",
      "                 Class     Images  Instances      Box(P          R      mAP50  mAP50-95): 100%|██████████| 41/41 [00:08<00:00,  4.62it/s]"
     ]
    },
    {
     "name": "stdout",
     "output_type": "stream",
     "text": [
      "                   all       2617       2956      0.959      0.955      0.972      0.754\n"
     ]
    },
    {
     "name": "stderr",
     "output_type": "stream",
     "text": [
      "\n"
     ]
    },
    {
     "name": "stdout",
     "output_type": "stream",
     "text": [
      "\n",
      "      Epoch    GPU_mem   box_loss   cls_loss   dfl_loss  Instances       Size\n"
     ]
    },
    {
     "name": "stderr",
     "output_type": "stream",
     "text": [
      "     57/100      16.8G     0.7819      0.626      1.109         42        640: 100%|██████████| 607/607 [02:19<00:00,  4.34it/s]\n",
      "                 Class     Images  Instances      Box(P          R      mAP50  mAP50-95): 100%|██████████| 41/41 [00:08<00:00,  4.64it/s]"
     ]
    },
    {
     "name": "stdout",
     "output_type": "stream",
     "text": [
      "                   all       2617       2956      0.957      0.956      0.972      0.755\n"
     ]
    },
    {
     "name": "stderr",
     "output_type": "stream",
     "text": [
      "\n"
     ]
    },
    {
     "name": "stdout",
     "output_type": "stream",
     "text": [
      "\n",
      "      Epoch    GPU_mem   box_loss   cls_loss   dfl_loss  Instances       Size\n"
     ]
    },
    {
     "name": "stderr",
     "output_type": "stream",
     "text": [
      "     58/100      16.7G     0.7761     0.6219      1.104         54        640: 100%|██████████| 607/607 [02:19<00:00,  4.34it/s]\n",
      "                 Class     Images  Instances      Box(P          R      mAP50  mAP50-95): 100%|██████████| 41/41 [00:08<00:00,  4.71it/s]"
     ]
    },
    {
     "name": "stdout",
     "output_type": "stream",
     "text": [
      "                   all       2617       2956      0.958      0.956      0.972      0.756\n"
     ]
    },
    {
     "name": "stderr",
     "output_type": "stream",
     "text": [
      "\n"
     ]
    },
    {
     "name": "stdout",
     "output_type": "stream",
     "text": [
      "\n",
      "      Epoch    GPU_mem   box_loss   cls_loss   dfl_loss  Instances       Size\n"
     ]
    },
    {
     "name": "stderr",
     "output_type": "stream",
     "text": [
      "     59/100      16.8G     0.7756      0.618      1.103         42        640: 100%|██████████| 607/607 [02:18<00:00,  4.39it/s]\n",
      "                 Class     Images  Instances      Box(P          R      mAP50  mAP50-95): 100%|██████████| 41/41 [00:08<00:00,  4.70it/s]"
     ]
    },
    {
     "name": "stdout",
     "output_type": "stream",
     "text": [
      "                   all       2617       2956      0.959      0.954      0.972      0.756\n"
     ]
    },
    {
     "name": "stderr",
     "output_type": "stream",
     "text": [
      "\n"
     ]
    },
    {
     "name": "stdout",
     "output_type": "stream",
     "text": [
      "\n",
      "      Epoch    GPU_mem   box_loss   cls_loss   dfl_loss  Instances       Size\n"
     ]
    },
    {
     "name": "stderr",
     "output_type": "stream",
     "text": [
      "     60/100      16.7G     0.7698     0.6128      1.097         34        640: 100%|██████████| 607/607 [02:18<00:00,  4.38it/s]\n",
      "                 Class     Images  Instances      Box(P          R      mAP50  mAP50-95): 100%|██████████| 41/41 [00:08<00:00,  4.65it/s]"
     ]
    },
    {
     "name": "stdout",
     "output_type": "stream",
     "text": [
      "                   all       2617       2956      0.959      0.955      0.973      0.757\n"
     ]
    },
    {
     "name": "stderr",
     "output_type": "stream",
     "text": [
      "\n"
     ]
    },
    {
     "name": "stdout",
     "output_type": "stream",
     "text": [
      "\n",
      "      Epoch    GPU_mem   box_loss   cls_loss   dfl_loss  Instances       Size\n"
     ]
    },
    {
     "name": "stderr",
     "output_type": "stream",
     "text": [
      "     61/100      16.8G     0.7709     0.6037      1.097         53        640: 100%|██████████| 607/607 [02:19<00:00,  4.36it/s]\n",
      "                 Class     Images  Instances      Box(P          R      mAP50  mAP50-95): 100%|██████████| 41/41 [00:08<00:00,  4.71it/s]"
     ]
    },
    {
     "name": "stdout",
     "output_type": "stream",
     "text": [
      "                   all       2617       2956      0.959      0.954      0.973      0.758\n"
     ]
    },
    {
     "name": "stderr",
     "output_type": "stream",
     "text": [
      "\n"
     ]
    },
    {
     "name": "stdout",
     "output_type": "stream",
     "text": [
      "\n",
      "      Epoch    GPU_mem   box_loss   cls_loss   dfl_loss  Instances       Size\n"
     ]
    },
    {
     "name": "stderr",
     "output_type": "stream",
     "text": [
      "     62/100      16.7G     0.7578     0.5938      1.092         41        640: 100%|██████████| 607/607 [02:19<00:00,  4.36it/s]\n",
      "                 Class     Images  Instances      Box(P          R      mAP50  mAP50-95): 100%|██████████| 41/41 [00:08<00:00,  4.66it/s]"
     ]
    },
    {
     "name": "stdout",
     "output_type": "stream",
     "text": [
      "                   all       2617       2956       0.96      0.954      0.973      0.759\n"
     ]
    },
    {
     "name": "stderr",
     "output_type": "stream",
     "text": [
      "\n"
     ]
    },
    {
     "name": "stdout",
     "output_type": "stream",
     "text": [
      "\n",
      "      Epoch    GPU_mem   box_loss   cls_loss   dfl_loss  Instances       Size\n"
     ]
    },
    {
     "name": "stderr",
     "output_type": "stream",
     "text": [
      "     63/100      16.7G     0.7601     0.5997      1.093         50        640: 100%|██████████| 607/607 [02:20<00:00,  4.33it/s]\n",
      "                 Class     Images  Instances      Box(P          R      mAP50  mAP50-95): 100%|██████████| 41/41 [00:08<00:00,  4.66it/s]"
     ]
    },
    {
     "name": "stdout",
     "output_type": "stream",
     "text": [
      "                   all       2617       2956      0.958      0.955      0.973      0.759\n"
     ]
    },
    {
     "name": "stderr",
     "output_type": "stream",
     "text": [
      "\n"
     ]
    },
    {
     "name": "stdout",
     "output_type": "stream",
     "text": [
      "\n",
      "      Epoch    GPU_mem   box_loss   cls_loss   dfl_loss  Instances       Size\n"
     ]
    },
    {
     "name": "stderr",
     "output_type": "stream",
     "text": [
      "     64/100      16.7G     0.7523     0.5904      1.091         52        640: 100%|██████████| 607/607 [02:20<00:00,  4.33it/s]\n",
      "                 Class     Images  Instances      Box(P          R      mAP50  mAP50-95): 100%|██████████| 41/41 [00:08<00:00,  4.63it/s]"
     ]
    },
    {
     "name": "stdout",
     "output_type": "stream",
     "text": [
      "                   all       2617       2956      0.961      0.954      0.973      0.759\n"
     ]
    },
    {
     "name": "stderr",
     "output_type": "stream",
     "text": [
      "\n"
     ]
    },
    {
     "name": "stdout",
     "output_type": "stream",
     "text": [
      "\n",
      "      Epoch    GPU_mem   box_loss   cls_loss   dfl_loss  Instances       Size\n"
     ]
    },
    {
     "name": "stderr",
     "output_type": "stream",
     "text": [
      "     65/100      16.8G     0.7517     0.5901      1.087         89        640: 100%|██████████| 607/607 [02:19<00:00,  4.35it/s]\n",
      "                 Class     Images  Instances      Box(P          R      mAP50  mAP50-95): 100%|██████████| 41/41 [00:08<00:00,  4.64it/s]"
     ]
    },
    {
     "name": "stdout",
     "output_type": "stream",
     "text": [
      "                   all       2617       2956      0.961      0.954      0.973       0.76\n"
     ]
    },
    {
     "name": "stderr",
     "output_type": "stream",
     "text": [
      "\n"
     ]
    },
    {
     "name": "stdout",
     "output_type": "stream",
     "text": [
      "\n",
      "      Epoch    GPU_mem   box_loss   cls_loss   dfl_loss  Instances       Size\n"
     ]
    },
    {
     "name": "stderr",
     "output_type": "stream",
     "text": [
      "     66/100      16.7G     0.7428     0.5815      1.084         59        640: 100%|██████████| 607/607 [02:20<00:00,  4.33it/s]\n",
      "                 Class     Images  Instances      Box(P          R      mAP50  mAP50-95): 100%|██████████| 41/41 [00:08<00:00,  4.57it/s]"
     ]
    },
    {
     "name": "stdout",
     "output_type": "stream",
     "text": [
      "                   all       2617       2956      0.962      0.951      0.972       0.76\n"
     ]
    },
    {
     "name": "stderr",
     "output_type": "stream",
     "text": [
      "\n"
     ]
    },
    {
     "name": "stdout",
     "output_type": "stream",
     "text": [
      "\n",
      "      Epoch    GPU_mem   box_loss   cls_loss   dfl_loss  Instances       Size\n"
     ]
    },
    {
     "name": "stderr",
     "output_type": "stream",
     "text": [
      "     67/100      16.7G     0.7444     0.5787      1.087         51        640: 100%|██████████| 607/607 [02:20<00:00,  4.33it/s]\n",
      "                 Class     Images  Instances      Box(P          R      mAP50  mAP50-95): 100%|██████████| 41/41 [00:08<00:00,  4.65it/s]"
     ]
    },
    {
     "name": "stdout",
     "output_type": "stream",
     "text": [
      "                   all       2617       2956      0.962      0.951      0.973      0.761\n"
     ]
    },
    {
     "name": "stderr",
     "output_type": "stream",
     "text": [
      "\n"
     ]
    },
    {
     "name": "stdout",
     "output_type": "stream",
     "text": [
      "\n",
      "      Epoch    GPU_mem   box_loss   cls_loss   dfl_loss  Instances       Size\n"
     ]
    },
    {
     "name": "stderr",
     "output_type": "stream",
     "text": [
      "     68/100      16.7G     0.7322     0.5704      1.079         38        640: 100%|██████████| 607/607 [02:20<00:00,  4.33it/s]\n",
      "                 Class     Images  Instances      Box(P          R      mAP50  mAP50-95): 100%|██████████| 41/41 [00:08<00:00,  4.56it/s]"
     ]
    },
    {
     "name": "stdout",
     "output_type": "stream",
     "text": [
      "                   all       2617       2956      0.963      0.952      0.973      0.762\n"
     ]
    },
    {
     "name": "stderr",
     "output_type": "stream",
     "text": [
      "\n"
     ]
    },
    {
     "name": "stdout",
     "output_type": "stream",
     "text": [
      "\n",
      "      Epoch    GPU_mem   box_loss   cls_loss   dfl_loss  Instances       Size\n"
     ]
    },
    {
     "name": "stderr",
     "output_type": "stream",
     "text": [
      "     69/100      16.8G     0.7368      0.574      1.079         62        640: 100%|██████████| 607/607 [02:18<00:00,  4.38it/s]\n",
      "                 Class     Images  Instances      Box(P          R      mAP50  mAP50-95): 100%|██████████| 41/41 [00:08<00:00,  4.72it/s]"
     ]
    },
    {
     "name": "stdout",
     "output_type": "stream",
     "text": [
      "                   all       2617       2956      0.963      0.951      0.973      0.763\n"
     ]
    },
    {
     "name": "stderr",
     "output_type": "stream",
     "text": [
      "\n"
     ]
    },
    {
     "name": "stdout",
     "output_type": "stream",
     "text": [
      "\n",
      "      Epoch    GPU_mem   box_loss   cls_loss   dfl_loss  Instances       Size\n"
     ]
    },
    {
     "name": "stderr",
     "output_type": "stream",
     "text": [
      "     70/100      16.7G     0.7269      0.562      1.072         51        640: 100%|██████████| 607/607 [02:18<00:00,  4.37it/s]\n",
      "                 Class     Images  Instances      Box(P          R      mAP50  mAP50-95): 100%|██████████| 41/41 [00:08<00:00,  4.64it/s]"
     ]
    },
    {
     "name": "stdout",
     "output_type": "stream",
     "text": [
      "                   all       2617       2956      0.963      0.951      0.973      0.763\n"
     ]
    },
    {
     "name": "stderr",
     "output_type": "stream",
     "text": [
      "\n"
     ]
    },
    {
     "name": "stdout",
     "output_type": "stream",
     "text": [
      "\n",
      "      Epoch    GPU_mem   box_loss   cls_loss   dfl_loss  Instances       Size\n"
     ]
    },
    {
     "name": "stderr",
     "output_type": "stream",
     "text": [
      "     71/100      16.8G      0.724     0.5627      1.074         60        640: 100%|██████████| 607/607 [02:19<00:00,  4.35it/s]\n",
      "                 Class     Images  Instances      Box(P          R      mAP50  mAP50-95): 100%|██████████| 41/41 [00:08<00:00,  4.69it/s]"
     ]
    },
    {
     "name": "stdout",
     "output_type": "stream",
     "text": [
      "                   all       2617       2956      0.963      0.951      0.973      0.764\n"
     ]
    },
    {
     "name": "stderr",
     "output_type": "stream",
     "text": [
      "\n"
     ]
    },
    {
     "name": "stdout",
     "output_type": "stream",
     "text": [
      "\n",
      "      Epoch    GPU_mem   box_loss   cls_loss   dfl_loss  Instances       Size\n"
     ]
    },
    {
     "name": "stderr",
     "output_type": "stream",
     "text": [
      "     72/100      16.7G     0.7163     0.5545      1.065         44        640: 100%|██████████| 607/607 [02:19<00:00,  4.36it/s]\n",
      "                 Class     Images  Instances      Box(P          R      mAP50  mAP50-95): 100%|██████████| 41/41 [00:08<00:00,  4.63it/s]"
     ]
    },
    {
     "name": "stdout",
     "output_type": "stream",
     "text": [
      "                   all       2617       2956      0.964       0.95      0.973      0.764\n"
     ]
    },
    {
     "name": "stderr",
     "output_type": "stream",
     "text": [
      "\n"
     ]
    },
    {
     "name": "stdout",
     "output_type": "stream",
     "text": [
      "\n",
      "      Epoch    GPU_mem   box_loss   cls_loss   dfl_loss  Instances       Size\n"
     ]
    },
    {
     "name": "stderr",
     "output_type": "stream",
     "text": [
      "     73/100      16.8G      0.713     0.5514      1.069         67        640: 100%|██████████| 607/607 [02:19<00:00,  4.34it/s]\n",
      "                 Class     Images  Instances      Box(P          R      mAP50  mAP50-95): 100%|██████████| 41/41 [00:08<00:00,  4.67it/s]"
     ]
    },
    {
     "name": "stdout",
     "output_type": "stream",
     "text": [
      "                   all       2617       2956      0.961      0.953      0.973      0.766\n"
     ]
    },
    {
     "name": "stderr",
     "output_type": "stream",
     "text": [
      "\n"
     ]
    },
    {
     "name": "stdout",
     "output_type": "stream",
     "text": [
      "\n",
      "      Epoch    GPU_mem   box_loss   cls_loss   dfl_loss  Instances       Size\n"
     ]
    },
    {
     "name": "stderr",
     "output_type": "stream",
     "text": [
      "     74/100      16.7G     0.7131     0.5486      1.067         40        640: 100%|██████████| 607/607 [02:20<00:00,  4.33it/s]\n",
      "                 Class     Images  Instances      Box(P          R      mAP50  mAP50-95): 100%|██████████| 41/41 [00:08<00:00,  4.59it/s]"
     ]
    },
    {
     "name": "stdout",
     "output_type": "stream",
     "text": [
      "                   all       2617       2956      0.964       0.95      0.973      0.766\n"
     ]
    },
    {
     "name": "stderr",
     "output_type": "stream",
     "text": [
      "\n"
     ]
    },
    {
     "name": "stdout",
     "output_type": "stream",
     "text": [
      "\n",
      "      Epoch    GPU_mem   box_loss   cls_loss   dfl_loss  Instances       Size\n"
     ]
    },
    {
     "name": "stderr",
     "output_type": "stream",
     "text": [
      "     75/100      16.7G     0.7056     0.5394      1.061         55        640: 100%|██████████| 607/607 [02:19<00:00,  4.34it/s]\n",
      "                 Class     Images  Instances      Box(P          R      mAP50  mAP50-95): 100%|██████████| 41/41 [00:08<00:00,  4.67it/s]"
     ]
    },
    {
     "name": "stdout",
     "output_type": "stream",
     "text": [
      "                   all       2617       2956      0.965      0.949      0.974      0.767\n"
     ]
    },
    {
     "name": "stderr",
     "output_type": "stream",
     "text": [
      "\n"
     ]
    },
    {
     "name": "stdout",
     "output_type": "stream",
     "text": [
      "\n",
      "      Epoch    GPU_mem   box_loss   cls_loss   dfl_loss  Instances       Size\n"
     ]
    },
    {
     "name": "stderr",
     "output_type": "stream",
     "text": [
      "     76/100      16.7G     0.7032     0.5397      1.058         53        640: 100%|██████████| 607/607 [02:19<00:00,  4.34it/s]\n",
      "                 Class     Images  Instances      Box(P          R      mAP50  mAP50-95): 100%|██████████| 41/41 [00:08<00:00,  4.68it/s]"
     ]
    },
    {
     "name": "stdout",
     "output_type": "stream",
     "text": [
      "                   all       2617       2956      0.964      0.951      0.974      0.768\n"
     ]
    },
    {
     "name": "stderr",
     "output_type": "stream",
     "text": [
      "\n"
     ]
    },
    {
     "name": "stdout",
     "output_type": "stream",
     "text": [
      "\n",
      "      Epoch    GPU_mem   box_loss   cls_loss   dfl_loss  Instances       Size\n"
     ]
    },
    {
     "name": "stderr",
     "output_type": "stream",
     "text": [
      "     77/100      16.8G     0.6988     0.5355      1.057         49        640: 100%|██████████| 607/607 [02:19<00:00,  4.34it/s]\n",
      "                 Class     Images  Instances      Box(P          R      mAP50  mAP50-95): 100%|██████████| 41/41 [00:08<00:00,  4.67it/s]"
     ]
    },
    {
     "name": "stdout",
     "output_type": "stream",
     "text": [
      "                   all       2617       2956      0.964       0.95      0.974      0.768\n"
     ]
    },
    {
     "name": "stderr",
     "output_type": "stream",
     "text": [
      "\n"
     ]
    },
    {
     "name": "stdout",
     "output_type": "stream",
     "text": [
      "\n",
      "      Epoch    GPU_mem   box_loss   cls_loss   dfl_loss  Instances       Size\n"
     ]
    },
    {
     "name": "stderr",
     "output_type": "stream",
     "text": [
      "     78/100      16.7G     0.6943     0.5315      1.055         62        640: 100%|██████████| 607/607 [02:19<00:00,  4.34it/s]\n",
      "                 Class     Images  Instances      Box(P          R      mAP50  mAP50-95): 100%|██████████| 41/41 [00:08<00:00,  4.60it/s]"
     ]
    },
    {
     "name": "stdout",
     "output_type": "stream",
     "text": [
      "                   all       2617       2956      0.961      0.953      0.973      0.768\n"
     ]
    },
    {
     "name": "stderr",
     "output_type": "stream",
     "text": [
      "\n"
     ]
    },
    {
     "name": "stdout",
     "output_type": "stream",
     "text": [
      "\n",
      "      Epoch    GPU_mem   box_loss   cls_loss   dfl_loss  Instances       Size\n"
     ]
    },
    {
     "name": "stderr",
     "output_type": "stream",
     "text": [
      "     79/100      16.7G     0.6912     0.5305      1.055         43        640: 100%|██████████| 607/607 [02:20<00:00,  4.34it/s]\n",
      "                 Class     Images  Instances      Box(P          R      mAP50  mAP50-95): 100%|██████████| 41/41 [00:08<00:00,  4.67it/s]"
     ]
    },
    {
     "name": "stdout",
     "output_type": "stream",
     "text": [
      "                   all       2617       2956      0.961      0.955      0.974      0.769\n"
     ]
    },
    {
     "name": "stderr",
     "output_type": "stream",
     "text": [
      "\n"
     ]
    },
    {
     "name": "stdout",
     "output_type": "stream",
     "text": [
      "\n",
      "      Epoch    GPU_mem   box_loss   cls_loss   dfl_loss  Instances       Size\n"
     ]
    },
    {
     "name": "stderr",
     "output_type": "stream",
     "text": [
      "     80/100      16.7G     0.6811     0.5197      1.049         40        640: 100%|██████████| 607/607 [02:19<00:00,  4.35it/s]\n",
      "                 Class     Images  Instances      Box(P          R      mAP50  mAP50-95): 100%|██████████| 41/41 [00:08<00:00,  4.68it/s]"
     ]
    },
    {
     "name": "stdout",
     "output_type": "stream",
     "text": [
      "                   all       2617       2956      0.961      0.954      0.974      0.769\n"
     ]
    },
    {
     "name": "stderr",
     "output_type": "stream",
     "text": [
      "\n"
     ]
    },
    {
     "name": "stdout",
     "output_type": "stream",
     "text": [
      "\n",
      "      Epoch    GPU_mem   box_loss   cls_loss   dfl_loss  Instances       Size\n"
     ]
    },
    {
     "name": "stderr",
     "output_type": "stream",
     "text": [
      "     81/100      16.8G     0.6807     0.5154      1.049         58        640: 100%|██████████| 607/607 [02:19<00:00,  4.34it/s]\n",
      "                 Class     Images  Instances      Box(P          R      mAP50  mAP50-95): 100%|██████████| 41/41 [00:08<00:00,  4.68it/s]"
     ]
    },
    {
     "name": "stdout",
     "output_type": "stream",
     "text": [
      "                   all       2617       2956      0.961      0.954      0.974       0.77\n"
     ]
    },
    {
     "name": "stderr",
     "output_type": "stream",
     "text": [
      "\n"
     ]
    },
    {
     "name": "stdout",
     "output_type": "stream",
     "text": [
      "\n",
      "      Epoch    GPU_mem   box_loss   cls_loss   dfl_loss  Instances       Size\n"
     ]
    },
    {
     "name": "stderr",
     "output_type": "stream",
     "text": [
      "     82/100      16.7G      0.679     0.5142      1.048         47        640: 100%|██████████| 607/607 [02:18<00:00,  4.37it/s]\n",
      "                 Class     Images  Instances      Box(P          R      mAP50  mAP50-95): 100%|██████████| 41/41 [00:08<00:00,  4.64it/s]"
     ]
    },
    {
     "name": "stdout",
     "output_type": "stream",
     "text": [
      "                   all       2617       2956      0.961      0.956      0.974       0.77\n"
     ]
    },
    {
     "name": "stderr",
     "output_type": "stream",
     "text": [
      "\n"
     ]
    },
    {
     "name": "stdout",
     "output_type": "stream",
     "text": [
      "\n",
      "      Epoch    GPU_mem   box_loss   cls_loss   dfl_loss  Instances       Size\n"
     ]
    },
    {
     "name": "stderr",
     "output_type": "stream",
     "text": [
      "     83/100      16.8G     0.6761     0.5175      1.045         47        640: 100%|██████████| 607/607 [02:18<00:00,  4.37it/s]\n",
      "                 Class     Images  Instances      Box(P          R      mAP50  mAP50-95): 100%|██████████| 41/41 [00:08<00:00,  4.69it/s]"
     ]
    },
    {
     "name": "stdout",
     "output_type": "stream",
     "text": [
      "                   all       2617       2956      0.961      0.955      0.974       0.77\n"
     ]
    },
    {
     "name": "stderr",
     "output_type": "stream",
     "text": [
      "\n"
     ]
    },
    {
     "name": "stdout",
     "output_type": "stream",
     "text": [
      "\n",
      "      Epoch    GPU_mem   box_loss   cls_loss   dfl_loss  Instances       Size\n"
     ]
    },
    {
     "name": "stderr",
     "output_type": "stream",
     "text": [
      "     84/100      16.8G      0.672     0.5077      1.042         36        640: 100%|██████████| 607/607 [02:18<00:00,  4.37it/s]\n",
      "                 Class     Images  Instances      Box(P          R      mAP50  mAP50-95): 100%|██████████| 41/41 [00:08<00:00,  4.61it/s]"
     ]
    },
    {
     "name": "stdout",
     "output_type": "stream",
     "text": [
      "                   all       2617       2956       0.96      0.955      0.974       0.77\n"
     ]
    },
    {
     "name": "stderr",
     "output_type": "stream",
     "text": [
      "\n"
     ]
    },
    {
     "name": "stdout",
     "output_type": "stream",
     "text": [
      "\n",
      "      Epoch    GPU_mem   box_loss   cls_loss   dfl_loss  Instances       Size\n"
     ]
    },
    {
     "name": "stderr",
     "output_type": "stream",
     "text": [
      "     85/100      16.8G     0.6679      0.506       1.04         62        640: 100%|██████████| 607/607 [02:20<00:00,  4.33it/s]\n",
      "                 Class     Images  Instances      Box(P          R      mAP50  mAP50-95): 100%|██████████| 41/41 [00:08<00:00,  4.64it/s]"
     ]
    },
    {
     "name": "stdout",
     "output_type": "stream",
     "text": [
      "                   all       2617       2956       0.96      0.955      0.974      0.771\n"
     ]
    },
    {
     "name": "stderr",
     "output_type": "stream",
     "text": [
      "\n"
     ]
    },
    {
     "name": "stdout",
     "output_type": "stream",
     "text": [
      "\n",
      "      Epoch    GPU_mem   box_loss   cls_loss   dfl_loss  Instances       Size\n"
     ]
    },
    {
     "name": "stderr",
     "output_type": "stream",
     "text": [
      "     86/100      16.7G     0.6684     0.5042       1.04         55        640: 100%|██████████| 607/607 [02:19<00:00,  4.35it/s]\n",
      "                 Class     Images  Instances      Box(P          R      mAP50  mAP50-95): 100%|██████████| 41/41 [00:08<00:00,  4.60it/s]"
     ]
    },
    {
     "name": "stdout",
     "output_type": "stream",
     "text": [
      "                   all       2617       2956      0.961      0.956      0.974      0.772\n"
     ]
    },
    {
     "name": "stderr",
     "output_type": "stream",
     "text": [
      "\n"
     ]
    },
    {
     "name": "stdout",
     "output_type": "stream",
     "text": [
      "\n",
      "      Epoch    GPU_mem   box_loss   cls_loss   dfl_loss  Instances       Size\n"
     ]
    },
    {
     "name": "stderr",
     "output_type": "stream",
     "text": [
      "     87/100      16.8G     0.6622     0.4967      1.037         51        640: 100%|██████████| 607/607 [02:19<00:00,  4.34it/s]\n",
      "                 Class     Images  Instances      Box(P          R      mAP50  mAP50-95): 100%|██████████| 41/41 [00:08<00:00,  4.68it/s]"
     ]
    },
    {
     "name": "stdout",
     "output_type": "stream",
     "text": [
      "                   all       2617       2956      0.961      0.955      0.974      0.772\n"
     ]
    },
    {
     "name": "stderr",
     "output_type": "stream",
     "text": [
      "\n"
     ]
    },
    {
     "name": "stdout",
     "output_type": "stream",
     "text": [
      "\n",
      "      Epoch    GPU_mem   box_loss   cls_loss   dfl_loss  Instances       Size\n"
     ]
    },
    {
     "name": "stderr",
     "output_type": "stream",
     "text": [
      "     88/100      16.7G     0.6588      0.493      1.033         47        640: 100%|██████████| 607/607 [02:19<00:00,  4.36it/s]\n",
      "                 Class     Images  Instances      Box(P          R      mAP50  mAP50-95): 100%|██████████| 41/41 [00:08<00:00,  4.61it/s]"
     ]
    },
    {
     "name": "stdout",
     "output_type": "stream",
     "text": [
      "                   all       2617       2956      0.962      0.955      0.974      0.772\n"
     ]
    },
    {
     "name": "stderr",
     "output_type": "stream",
     "text": [
      "\n"
     ]
    },
    {
     "name": "stdout",
     "output_type": "stream",
     "text": [
      "\n",
      "      Epoch    GPU_mem   box_loss   cls_loss   dfl_loss  Instances       Size\n"
     ]
    },
    {
     "name": "stderr",
     "output_type": "stream",
     "text": [
      "     89/100      16.8G     0.6546     0.4949      1.033         38        640: 100%|██████████| 607/607 [02:19<00:00,  4.35it/s]\n",
      "                 Class     Images  Instances      Box(P          R      mAP50  mAP50-95): 100%|██████████| 41/41 [00:08<00:00,  4.67it/s]"
     ]
    },
    {
     "name": "stdout",
     "output_type": "stream",
     "text": [
      "                   all       2617       2956      0.961      0.954      0.974      0.772\n"
     ]
    },
    {
     "name": "stderr",
     "output_type": "stream",
     "text": [
      "\n"
     ]
    },
    {
     "name": "stdout",
     "output_type": "stream",
     "text": [
      "\n",
      "      Epoch    GPU_mem   box_loss   cls_loss   dfl_loss  Instances       Size\n"
     ]
    },
    {
     "name": "stderr",
     "output_type": "stream",
     "text": [
      "     90/100      16.7G     0.6492     0.4879       1.03         44        640: 100%|██████████| 607/607 [02:18<00:00,  4.38it/s]\n",
      "                 Class     Images  Instances      Box(P          R      mAP50  mAP50-95): 100%|██████████| 41/41 [00:08<00:00,  4.69it/s]"
     ]
    },
    {
     "name": "stdout",
     "output_type": "stream",
     "text": [
      "                   all       2617       2956      0.961      0.955      0.974      0.773\n"
     ]
    },
    {
     "name": "stderr",
     "output_type": "stream",
     "text": [
      "\n"
     ]
    },
    {
     "name": "stdout",
     "output_type": "stream",
     "text": [
      "Closing dataloader mosaic\n",
      "\n",
      "      Epoch    GPU_mem   box_loss   cls_loss   dfl_loss  Instances       Size\n"
     ]
    },
    {
     "name": "stderr",
     "output_type": "stream",
     "text": [
      "     91/100      16.7G     0.6066     0.3801     0.9946         31        640: 100%|██████████| 607/607 [02:19<00:00,  4.35it/s]\n",
      "                 Class     Images  Instances      Box(P          R      mAP50  mAP50-95): 100%|██████████| 41/41 [00:08<00:00,  4.67it/s]"
     ]
    },
    {
     "name": "stdout",
     "output_type": "stream",
     "text": [
      "                   all       2617       2956      0.962      0.953      0.974      0.774\n"
     ]
    },
    {
     "name": "stderr",
     "output_type": "stream",
     "text": [
      "\n"
     ]
    },
    {
     "name": "stdout",
     "output_type": "stream",
     "text": [
      "\n",
      "      Epoch    GPU_mem   box_loss   cls_loss   dfl_loss  Instances       Size\n"
     ]
    },
    {
     "name": "stderr",
     "output_type": "stream",
     "text": [
      "     92/100      16.7G     0.5923      0.367     0.9837         35        640: 100%|██████████| 607/607 [02:18<00:00,  4.39it/s]\n",
      "                 Class     Images  Instances      Box(P          R      mAP50  mAP50-95): 100%|██████████| 41/41 [00:08<00:00,  4.66it/s]"
     ]
    },
    {
     "name": "stdout",
     "output_type": "stream",
     "text": [
      "                   all       2617       2956      0.961      0.954      0.974      0.774\n"
     ]
    },
    {
     "name": "stderr",
     "output_type": "stream",
     "text": [
      "\n"
     ]
    },
    {
     "name": "stdout",
     "output_type": "stream",
     "text": [
      "\n",
      "      Epoch    GPU_mem   box_loss   cls_loss   dfl_loss  Instances       Size\n"
     ]
    },
    {
     "name": "stderr",
     "output_type": "stream",
     "text": [
      "     93/100      16.7G     0.5819     0.3581     0.9797         26        640: 100%|██████████| 607/607 [02:18<00:00,  4.38it/s]\n",
      "                 Class     Images  Instances      Box(P          R      mAP50  mAP50-95): 100%|██████████| 41/41 [00:08<00:00,  4.67it/s]"
     ]
    },
    {
     "name": "stdout",
     "output_type": "stream",
     "text": [
      "                   all       2617       2956      0.961      0.954      0.974      0.774\n"
     ]
    },
    {
     "name": "stderr",
     "output_type": "stream",
     "text": [
      "\n"
     ]
    },
    {
     "name": "stdout",
     "output_type": "stream",
     "text": [
      "\n",
      "      Epoch    GPU_mem   box_loss   cls_loss   dfl_loss  Instances       Size\n"
     ]
    },
    {
     "name": "stderr",
     "output_type": "stream",
     "text": [
      "     94/100      16.7G     0.5793     0.3565     0.9786         34        640: 100%|██████████| 607/607 [02:18<00:00,  4.39it/s]\n",
      "                 Class     Images  Instances      Box(P          R      mAP50  mAP50-95): 100%|██████████| 41/41 [00:08<00:00,  4.64it/s]"
     ]
    },
    {
     "name": "stdout",
     "output_type": "stream",
     "text": [
      "                   all       2617       2956       0.96      0.954      0.974      0.775\n"
     ]
    },
    {
     "name": "stderr",
     "output_type": "stream",
     "text": [
      "\n"
     ]
    },
    {
     "name": "stdout",
     "output_type": "stream",
     "text": [
      "\n",
      "      Epoch    GPU_mem   box_loss   cls_loss   dfl_loss  Instances       Size\n"
     ]
    },
    {
     "name": "stderr",
     "output_type": "stream",
     "text": [
      "     95/100      16.7G     0.5706     0.3512     0.9732         24        640: 100%|██████████| 607/607 [02:19<00:00,  4.35it/s]\n",
      "                 Class     Images  Instances      Box(P          R      mAP50  mAP50-95): 100%|██████████| 41/41 [00:08<00:00,  4.65it/s]"
     ]
    },
    {
     "name": "stdout",
     "output_type": "stream",
     "text": [
      "                   all       2617       2956      0.962      0.954      0.974      0.775\n"
     ]
    },
    {
     "name": "stderr",
     "output_type": "stream",
     "text": [
      "\n"
     ]
    },
    {
     "name": "stdout",
     "output_type": "stream",
     "text": [
      "\n",
      "      Epoch    GPU_mem   box_loss   cls_loss   dfl_loss  Instances       Size\n"
     ]
    },
    {
     "name": "stderr",
     "output_type": "stream",
     "text": [
      "     96/100      16.7G     0.5654     0.3454     0.9711         39        640: 100%|██████████| 607/607 [02:20<00:00,  4.33it/s]\n",
      "                 Class     Images  Instances      Box(P          R      mAP50  mAP50-95): 100%|██████████| 41/41 [00:08<00:00,  4.64it/s]"
     ]
    },
    {
     "name": "stdout",
     "output_type": "stream",
     "text": [
      "                   all       2617       2956      0.961      0.954      0.974      0.776\n"
     ]
    },
    {
     "name": "stderr",
     "output_type": "stream",
     "text": [
      "\n"
     ]
    },
    {
     "name": "stdout",
     "output_type": "stream",
     "text": [
      "\n",
      "      Epoch    GPU_mem   box_loss   cls_loss   dfl_loss  Instances       Size\n"
     ]
    },
    {
     "name": "stderr",
     "output_type": "stream",
     "text": [
      "     97/100      16.7G     0.5681     0.3455     0.9724         36        640: 100%|██████████| 607/607 [02:18<00:00,  4.38it/s]\n",
      "                 Class     Images  Instances      Box(P          R      mAP50  mAP50-95): 100%|██████████| 41/41 [00:08<00:00,  4.62it/s]"
     ]
    },
    {
     "name": "stdout",
     "output_type": "stream",
     "text": [
      "                   all       2617       2956      0.962      0.953      0.974      0.776\n"
     ]
    },
    {
     "name": "stderr",
     "output_type": "stream",
     "text": [
      "\n"
     ]
    },
    {
     "name": "stdout",
     "output_type": "stream",
     "text": [
      "\n",
      "      Epoch    GPU_mem   box_loss   cls_loss   dfl_loss  Instances       Size\n"
     ]
    },
    {
     "name": "stderr",
     "output_type": "stream",
     "text": [
      "     98/100      16.7G     0.5622     0.3421     0.9687         23        640: 100%|██████████| 607/607 [02:19<00:00,  4.34it/s]\n",
      "                 Class     Images  Instances      Box(P          R      mAP50  mAP50-95): 100%|██████████| 41/41 [00:08<00:00,  4.65it/s]"
     ]
    },
    {
     "name": "stdout",
     "output_type": "stream",
     "text": [
      "                   all       2617       2956       0.96      0.957      0.974      0.777\n"
     ]
    },
    {
     "name": "stderr",
     "output_type": "stream",
     "text": [
      "\n"
     ]
    },
    {
     "name": "stdout",
     "output_type": "stream",
     "text": [
      "\n",
      "      Epoch    GPU_mem   box_loss   cls_loss   dfl_loss  Instances       Size\n"
     ]
    },
    {
     "name": "stderr",
     "output_type": "stream",
     "text": [
      "     99/100      16.7G     0.5562     0.3406     0.9674         39        640: 100%|██████████| 607/607 [02:19<00:00,  4.35it/s]\n",
      "                 Class     Images  Instances      Box(P          R      mAP50  mAP50-95): 100%|██████████| 41/41 [00:08<00:00,  4.69it/s]"
     ]
    },
    {
     "name": "stdout",
     "output_type": "stream",
     "text": [
      "                   all       2617       2956       0.96      0.958      0.975      0.778\n"
     ]
    },
    {
     "name": "stderr",
     "output_type": "stream",
     "text": [
      "\n"
     ]
    },
    {
     "name": "stdout",
     "output_type": "stream",
     "text": [
      "\n",
      "      Epoch    GPU_mem   box_loss   cls_loss   dfl_loss  Instances       Size\n"
     ]
    },
    {
     "name": "stderr",
     "output_type": "stream",
     "text": [
      "    100/100      16.7G     0.5528     0.3379     0.9637         25        640: 100%|██████████| 607/607 [02:18<00:00,  4.38it/s]\n",
      "                 Class     Images  Instances      Box(P          R      mAP50  mAP50-95): 100%|██████████| 41/41 [00:08<00:00,  4.60it/s]"
     ]
    },
    {
     "name": "stdout",
     "output_type": "stream",
     "text": [
      "                   all       2617       2956      0.959      0.958      0.975      0.779\n"
     ]
    },
    {
     "name": "stderr",
     "output_type": "stream",
     "text": [
      "\n"
     ]
    },
    {
     "name": "stdout",
     "output_type": "stream",
     "text": [
      "\n",
      "100 epochs completed in 4.162 hours.\n",
      "Optimizer stripped from /home/gerdson/projetos/FIAP-Hackathon-Grupo2/runs/detect/train/weights/last.pt, 40.5MB\n",
      "Optimizer stripped from /home/gerdson/projetos/FIAP-Hackathon-Grupo2/runs/detect/train/weights/best.pt, 40.5MB\n",
      "\n",
      "Validating /home/gerdson/projetos/FIAP-Hackathon-Grupo2/runs/detect/train/weights/best.pt...\n",
      "Ultralytics 8.3.70 🚀 Python-3.12.8 torch-2.6.0+cu124 CUDA:0 (NVIDIA GeForce RTX 4090, 24069MiB)\n",
      "YOLO11m summary (fused): 303 layers, 20,030,803 parameters, 0 gradients, 67.6 GFLOPs\n"
     ]
    },
    {
     "name": "stderr",
     "output_type": "stream",
     "text": [
      "                 Class     Images  Instances      Box(P          R      mAP50  mAP50-95): 100%|██████████| 41/41 [00:09<00:00,  4.42it/s]\n"
     ]
    },
    {
     "name": "stdout",
     "output_type": "stream",
     "text": [
      "                   all       2617       2956      0.959      0.958      0.975      0.778\n",
      "Speed: 0.1ms preprocess, 1.7ms inference, 0.0ms loss, 0.4ms postprocess per image\n",
      "Results saved to \u001b[1m/home/gerdson/projetos/FIAP-Hackathon-Grupo2/runs/detect/train\u001b[0m\n"
     ]
    },
    {
     "data": {
      "text/plain": [
       "ultralytics.utils.metrics.DetMetrics object with attributes:\n",
       "\n",
       "ap_class_index: array([0])\n",
       "box: ultralytics.utils.metrics.Metric object\n",
       "confusion_matrix: <ultralytics.utils.metrics.ConfusionMatrix object at 0x74b9ab5d0440>\n",
       "curves: ['Precision-Recall(B)', 'F1-Confidence(B)', 'Precision-Confidence(B)', 'Recall-Confidence(B)']\n",
       "curves_results: [[array([          0,    0.001001,    0.002002,    0.003003,    0.004004,    0.005005,    0.006006,    0.007007,    0.008008,    0.009009,     0.01001,    0.011011,    0.012012,    0.013013,    0.014014,    0.015015,    0.016016,    0.017017,    0.018018,    0.019019,     0.02002,    0.021021,    0.022022,    0.023023,\n",
       "          0.024024,    0.025025,    0.026026,    0.027027,    0.028028,    0.029029,     0.03003,    0.031031,    0.032032,    0.033033,    0.034034,    0.035035,    0.036036,    0.037037,    0.038038,    0.039039,     0.04004,    0.041041,    0.042042,    0.043043,    0.044044,    0.045045,    0.046046,    0.047047,\n",
       "          0.048048,    0.049049,     0.05005,    0.051051,    0.052052,    0.053053,    0.054054,    0.055055,    0.056056,    0.057057,    0.058058,    0.059059,     0.06006,    0.061061,    0.062062,    0.063063,    0.064064,    0.065065,    0.066066,    0.067067,    0.068068,    0.069069,     0.07007,    0.071071,\n",
       "          0.072072,    0.073073,    0.074074,    0.075075,    0.076076,    0.077077,    0.078078,    0.079079,     0.08008,    0.081081,    0.082082,    0.083083,    0.084084,    0.085085,    0.086086,    0.087087,    0.088088,    0.089089,     0.09009,    0.091091,    0.092092,    0.093093,    0.094094,    0.095095,\n",
       "          0.096096,    0.097097,    0.098098,    0.099099,      0.1001,      0.1011,      0.1021,      0.1031,      0.1041,     0.10511,     0.10611,     0.10711,     0.10811,     0.10911,     0.11011,     0.11111,     0.11211,     0.11311,     0.11411,     0.11512,     0.11612,     0.11712,     0.11812,     0.11912,\n",
       "           0.12012,     0.12112,     0.12212,     0.12312,     0.12412,     0.12513,     0.12613,     0.12713,     0.12813,     0.12913,     0.13013,     0.13113,     0.13213,     0.13313,     0.13413,     0.13514,     0.13614,     0.13714,     0.13814,     0.13914,     0.14014,     0.14114,     0.14214,     0.14314,\n",
       "           0.14414,     0.14515,     0.14615,     0.14715,     0.14815,     0.14915,     0.15015,     0.15115,     0.15215,     0.15315,     0.15415,     0.15516,     0.15616,     0.15716,     0.15816,     0.15916,     0.16016,     0.16116,     0.16216,     0.16316,     0.16416,     0.16517,     0.16617,     0.16717,\n",
       "           0.16817,     0.16917,     0.17017,     0.17117,     0.17217,     0.17317,     0.17417,     0.17518,     0.17618,     0.17718,     0.17818,     0.17918,     0.18018,     0.18118,     0.18218,     0.18318,     0.18418,     0.18519,     0.18619,     0.18719,     0.18819,     0.18919,     0.19019,     0.19119,\n",
       "           0.19219,     0.19319,     0.19419,      0.1952,      0.1962,      0.1972,      0.1982,      0.1992,      0.2002,      0.2012,      0.2022,      0.2032,      0.2042,     0.20521,     0.20621,     0.20721,     0.20821,     0.20921,     0.21021,     0.21121,     0.21221,     0.21321,     0.21421,     0.21522,\n",
       "           0.21622,     0.21722,     0.21822,     0.21922,     0.22022,     0.22122,     0.22222,     0.22322,     0.22422,     0.22523,     0.22623,     0.22723,     0.22823,     0.22923,     0.23023,     0.23123,     0.23223,     0.23323,     0.23423,     0.23524,     0.23624,     0.23724,     0.23824,     0.23924,\n",
       "           0.24024,     0.24124,     0.24224,     0.24324,     0.24424,     0.24525,     0.24625,     0.24725,     0.24825,     0.24925,     0.25025,     0.25125,     0.25225,     0.25325,     0.25425,     0.25526,     0.25626,     0.25726,     0.25826,     0.25926,     0.26026,     0.26126,     0.26226,     0.26326,\n",
       "           0.26426,     0.26527,     0.26627,     0.26727,     0.26827,     0.26927,     0.27027,     0.27127,     0.27227,     0.27327,     0.27427,     0.27528,     0.27628,     0.27728,     0.27828,     0.27928,     0.28028,     0.28128,     0.28228,     0.28328,     0.28428,     0.28529,     0.28629,     0.28729,\n",
       "           0.28829,     0.28929,     0.29029,     0.29129,     0.29229,     0.29329,     0.29429,      0.2953,      0.2963,      0.2973,      0.2983,      0.2993,      0.3003,      0.3013,      0.3023,      0.3033,      0.3043,     0.30531,     0.30631,     0.30731,     0.30831,     0.30931,     0.31031,     0.31131,\n",
       "           0.31231,     0.31331,     0.31431,     0.31532,     0.31632,     0.31732,     0.31832,     0.31932,     0.32032,     0.32132,     0.32232,     0.32332,     0.32432,     0.32533,     0.32633,     0.32733,     0.32833,     0.32933,     0.33033,     0.33133,     0.33233,     0.33333,     0.33433,     0.33534,\n",
       "           0.33634,     0.33734,     0.33834,     0.33934,     0.34034,     0.34134,     0.34234,     0.34334,     0.34434,     0.34535,     0.34635,     0.34735,     0.34835,     0.34935,     0.35035,     0.35135,     0.35235,     0.35335,     0.35435,     0.35536,     0.35636,     0.35736,     0.35836,     0.35936,\n",
       "           0.36036,     0.36136,     0.36236,     0.36336,     0.36436,     0.36537,     0.36637,     0.36737,     0.36837,     0.36937,     0.37037,     0.37137,     0.37237,     0.37337,     0.37437,     0.37538,     0.37638,     0.37738,     0.37838,     0.37938,     0.38038,     0.38138,     0.38238,     0.38338,\n",
       "           0.38438,     0.38539,     0.38639,     0.38739,     0.38839,     0.38939,     0.39039,     0.39139,     0.39239,     0.39339,     0.39439,      0.3954,      0.3964,      0.3974,      0.3984,      0.3994,      0.4004,      0.4014,      0.4024,      0.4034,      0.4044,     0.40541,     0.40641,     0.40741,\n",
       "           0.40841,     0.40941,     0.41041,     0.41141,     0.41241,     0.41341,     0.41441,     0.41542,     0.41642,     0.41742,     0.41842,     0.41942,     0.42042,     0.42142,     0.42242,     0.42342,     0.42442,     0.42543,     0.42643,     0.42743,     0.42843,     0.42943,     0.43043,     0.43143,\n",
       "           0.43243,     0.43343,     0.43443,     0.43544,     0.43644,     0.43744,     0.43844,     0.43944,     0.44044,     0.44144,     0.44244,     0.44344,     0.44444,     0.44545,     0.44645,     0.44745,     0.44845,     0.44945,     0.45045,     0.45145,     0.45245,     0.45345,     0.45445,     0.45546,\n",
       "           0.45646,     0.45746,     0.45846,     0.45946,     0.46046,     0.46146,     0.46246,     0.46346,     0.46446,     0.46547,     0.46647,     0.46747,     0.46847,     0.46947,     0.47047,     0.47147,     0.47247,     0.47347,     0.47447,     0.47548,     0.47648,     0.47748,     0.47848,     0.47948,\n",
       "           0.48048,     0.48148,     0.48248,     0.48348,     0.48448,     0.48549,     0.48649,     0.48749,     0.48849,     0.48949,     0.49049,     0.49149,     0.49249,     0.49349,     0.49449,      0.4955,      0.4965,      0.4975,      0.4985,      0.4995,      0.5005,      0.5015,      0.5025,      0.5035,\n",
       "            0.5045,     0.50551,     0.50651,     0.50751,     0.50851,     0.50951,     0.51051,     0.51151,     0.51251,     0.51351,     0.51451,     0.51552,     0.51652,     0.51752,     0.51852,     0.51952,     0.52052,     0.52152,     0.52252,     0.52352,     0.52452,     0.52553,     0.52653,     0.52753,\n",
       "           0.52853,     0.52953,     0.53053,     0.53153,     0.53253,     0.53353,     0.53453,     0.53554,     0.53654,     0.53754,     0.53854,     0.53954,     0.54054,     0.54154,     0.54254,     0.54354,     0.54454,     0.54555,     0.54655,     0.54755,     0.54855,     0.54955,     0.55055,     0.55155,\n",
       "           0.55255,     0.55355,     0.55455,     0.55556,     0.55656,     0.55756,     0.55856,     0.55956,     0.56056,     0.56156,     0.56256,     0.56356,     0.56456,     0.56557,     0.56657,     0.56757,     0.56857,     0.56957,     0.57057,     0.57157,     0.57257,     0.57357,     0.57457,     0.57558,\n",
       "           0.57658,     0.57758,     0.57858,     0.57958,     0.58058,     0.58158,     0.58258,     0.58358,     0.58458,     0.58559,     0.58659,     0.58759,     0.58859,     0.58959,     0.59059,     0.59159,     0.59259,     0.59359,     0.59459,      0.5956,      0.5966,      0.5976,      0.5986,      0.5996,\n",
       "            0.6006,      0.6016,      0.6026,      0.6036,      0.6046,     0.60561,     0.60661,     0.60761,     0.60861,     0.60961,     0.61061,     0.61161,     0.61261,     0.61361,     0.61461,     0.61562,     0.61662,     0.61762,     0.61862,     0.61962,     0.62062,     0.62162,     0.62262,     0.62362,\n",
       "           0.62462,     0.62563,     0.62663,     0.62763,     0.62863,     0.62963,     0.63063,     0.63163,     0.63263,     0.63363,     0.63463,     0.63564,     0.63664,     0.63764,     0.63864,     0.63964,     0.64064,     0.64164,     0.64264,     0.64364,     0.64464,     0.64565,     0.64665,     0.64765,\n",
       "           0.64865,     0.64965,     0.65065,     0.65165,     0.65265,     0.65365,     0.65465,     0.65566,     0.65666,     0.65766,     0.65866,     0.65966,     0.66066,     0.66166,     0.66266,     0.66366,     0.66466,     0.66567,     0.66667,     0.66767,     0.66867,     0.66967,     0.67067,     0.67167,\n",
       "           0.67267,     0.67367,     0.67467,     0.67568,     0.67668,     0.67768,     0.67868,     0.67968,     0.68068,     0.68168,     0.68268,     0.68368,     0.68468,     0.68569,     0.68669,     0.68769,     0.68869,     0.68969,     0.69069,     0.69169,     0.69269,     0.69369,     0.69469,      0.6957,\n",
       "            0.6967,      0.6977,      0.6987,      0.6997,      0.7007,      0.7017,      0.7027,      0.7037,      0.7047,     0.70571,     0.70671,     0.70771,     0.70871,     0.70971,     0.71071,     0.71171,     0.71271,     0.71371,     0.71471,     0.71572,     0.71672,     0.71772,     0.71872,     0.71972,\n",
       "           0.72072,     0.72172,     0.72272,     0.72372,     0.72472,     0.72573,     0.72673,     0.72773,     0.72873,     0.72973,     0.73073,     0.73173,     0.73273,     0.73373,     0.73473,     0.73574,     0.73674,     0.73774,     0.73874,     0.73974,     0.74074,     0.74174,     0.74274,     0.74374,\n",
       "           0.74474,     0.74575,     0.74675,     0.74775,     0.74875,     0.74975,     0.75075,     0.75175,     0.75275,     0.75375,     0.75475,     0.75576,     0.75676,     0.75776,     0.75876,     0.75976,     0.76076,     0.76176,     0.76276,     0.76376,     0.76476,     0.76577,     0.76677,     0.76777,\n",
       "           0.76877,     0.76977,     0.77077,     0.77177,     0.77277,     0.77377,     0.77477,     0.77578,     0.77678,     0.77778,     0.77878,     0.77978,     0.78078,     0.78178,     0.78278,     0.78378,     0.78478,     0.78579,     0.78679,     0.78779,     0.78879,     0.78979,     0.79079,     0.79179,\n",
       "           0.79279,     0.79379,     0.79479,      0.7958,      0.7968,      0.7978,      0.7988,      0.7998,      0.8008,      0.8018,      0.8028,      0.8038,      0.8048,     0.80581,     0.80681,     0.80781,     0.80881,     0.80981,     0.81081,     0.81181,     0.81281,     0.81381,     0.81481,     0.81582,\n",
       "           0.81682,     0.81782,     0.81882,     0.81982,     0.82082,     0.82182,     0.82282,     0.82382,     0.82482,     0.82583,     0.82683,     0.82783,     0.82883,     0.82983,     0.83083,     0.83183,     0.83283,     0.83383,     0.83483,     0.83584,     0.83684,     0.83784,     0.83884,     0.83984,\n",
       "           0.84084,     0.84184,     0.84284,     0.84384,     0.84484,     0.84585,     0.84685,     0.84785,     0.84885,     0.84985,     0.85085,     0.85185,     0.85285,     0.85385,     0.85485,     0.85586,     0.85686,     0.85786,     0.85886,     0.85986,     0.86086,     0.86186,     0.86286,     0.86386,\n",
       "           0.86486,     0.86587,     0.86687,     0.86787,     0.86887,     0.86987,     0.87087,     0.87187,     0.87287,     0.87387,     0.87487,     0.87588,     0.87688,     0.87788,     0.87888,     0.87988,     0.88088,     0.88188,     0.88288,     0.88388,     0.88488,     0.88589,     0.88689,     0.88789,\n",
       "           0.88889,     0.88989,     0.89089,     0.89189,     0.89289,     0.89389,     0.89489,      0.8959,      0.8969,      0.8979,      0.8989,      0.8999,      0.9009,      0.9019,      0.9029,      0.9039,      0.9049,     0.90591,     0.90691,     0.90791,     0.90891,     0.90991,     0.91091,     0.91191,\n",
       "           0.91291,     0.91391,     0.91491,     0.91592,     0.91692,     0.91792,     0.91892,     0.91992,     0.92092,     0.92192,     0.92292,     0.92392,     0.92492,     0.92593,     0.92693,     0.92793,     0.92893,     0.92993,     0.93093,     0.93193,     0.93293,     0.93393,     0.93493,     0.93594,\n",
       "           0.93694,     0.93794,     0.93894,     0.93994,     0.94094,     0.94194,     0.94294,     0.94394,     0.94494,     0.94595,     0.94695,     0.94795,     0.94895,     0.94995,     0.95095,     0.95195,     0.95295,     0.95395,     0.95495,     0.95596,     0.95696,     0.95796,     0.95896,     0.95996,\n",
       "           0.96096,     0.96196,     0.96296,     0.96396,     0.96496,     0.96597,     0.96697,     0.96797,     0.96897,     0.96997,     0.97097,     0.97197,     0.97297,     0.97397,     0.97497,     0.97598,     0.97698,     0.97798,     0.97898,     0.97998,     0.98098,     0.98198,     0.98298,     0.98398,\n",
       "           0.98498,     0.98599,     0.98699,     0.98799,     0.98899,     0.98999,     0.99099,     0.99199,     0.99299,     0.99399,     0.99499,       0.996,       0.997,       0.998,       0.999,           1]), array([[          1,           1,           1,           1,           1,           1,           1,           1,           1,           1,           1,           1,           1,           1,           1,           1,           1,           1,           1,           1,           1,           1,           1,\n",
       "                  1,           1,           1,           1,           1,           1,           1,           1,           1,           1,           1,           1,           1,           1,           1,           1,           1,           1,           1,           1,           1,           1,           1,\n",
       "                  1,           1,           1,           1,           1,           1,           1,           1,           1,           1,           1,           1,           1,           1,           1,           1,           1,           1,           1,           1,           1,           1,           1,\n",
       "                  1,           1,           1,           1,           1,           1,           1,           1,           1,           1,           1,           1,           1,           1,           1,           1,           1,           1,           1,           1,           1,           1,           1,\n",
       "                  1,           1,           1,           1,           1,           1,           1,           1,           1,           1,           1,           1,           1,           1,           1,           1,           1,           1,           1,     0.99811,     0.99811,     0.99811,     0.99811,\n",
       "            0.99811,     0.99811,     0.99811,     0.99811,     0.99811,     0.99811,     0.99811,     0.99811,     0.99811,     0.99811,     0.99811,     0.99811,     0.99811,     0.99811,     0.99811,     0.99811,     0.99811,     0.99811,     0.99811,     0.99811,     0.99811,     0.99811,     0.99811,\n",
       "            0.99811,     0.99811,     0.99811,     0.99811,     0.99811,     0.99811,     0.99811,     0.99811,     0.99811,     0.99811,     0.99811,     0.99811,     0.99811,     0.99811,     0.99811,     0.99811,     0.99811,     0.99811,     0.99811,     0.99811,     0.99811,     0.99811,     0.99811,\n",
       "            0.99811,     0.99811,     0.99811,     0.99811,     0.99811,     0.99811,     0.99811,     0.99811,     0.99811,     0.99811,     0.99811,     0.99811,     0.99811,     0.99811,     0.99811,     0.99811,     0.99811,     0.99811,     0.99675,     0.99675,     0.99675,     0.99675,     0.99675,\n",
       "            0.99675,     0.99675,     0.99675,     0.99675,     0.99675,     0.99675,     0.99675,     0.99675,     0.99675,     0.99675,     0.99675,     0.99675,     0.99675,     0.99675,     0.99675,     0.99675,     0.99675,     0.99675,     0.99675,     0.99675,     0.99675,     0.99675,     0.99675,\n",
       "            0.99675,     0.99522,     0.99522,     0.99522,     0.99465,     0.99465,     0.99465,     0.99465,     0.99465,     0.99465,     0.99465,     0.99465,     0.99465,     0.99465,     0.99465,     0.99465,     0.99465,     0.99465,     0.99465,     0.99465,     0.99465,     0.99465,     0.99465,\n",
       "            0.99465,     0.99465,     0.99465,     0.99465,     0.99465,     0.99465,     0.99465,     0.99465,     0.99465,     0.99465,     0.99465,     0.99465,     0.99465,     0.99465,     0.99465,     0.99465,     0.99465,     0.99465,     0.99465,     0.99465,     0.99465,     0.99465,     0.99347,\n",
       "            0.99347,     0.99347,     0.99347,     0.99347,     0.99347,     0.99256,     0.99256,     0.99256,     0.99256,     0.99256,     0.99256,     0.99256,     0.99256,     0.99256,     0.99256,     0.99256,     0.99256,     0.99256,     0.99256,     0.99256,     0.99256,     0.99256,     0.99256,\n",
       "            0.99256,     0.99256,     0.99256,     0.99256,     0.99256,     0.99256,     0.99256,     0.99256,     0.99256,     0.99256,     0.99256,     0.99256,     0.99256,     0.99256,     0.99256,     0.99256,     0.99256,     0.99256,     0.99256,     0.99256,     0.99256,     0.99256,     0.99256,\n",
       "            0.99256,     0.99256,     0.99256,     0.99256,     0.99256,     0.99256,     0.99256,     0.99256,     0.99256,     0.99256,     0.99256,     0.99256,     0.99256,     0.99256,     0.99256,     0.99256,     0.99256,     0.99256,     0.99256,     0.99256,     0.99256,     0.99256,     0.99256,\n",
       "            0.99256,     0.99256,     0.99256,     0.99256,     0.99256,     0.99256,     0.99256,     0.99256,     0.99256,     0.99256,     0.99256,     0.99256,     0.99256,     0.99256,     0.99256,     0.99256,     0.99256,     0.99256,     0.99256,     0.99256,     0.99256,     0.99256,     0.99256,\n",
       "            0.99256,     0.99256,     0.99256,     0.99256,     0.99256,     0.99256,     0.99256,     0.99256,     0.99256,     0.99256,     0.99256,     0.99256,     0.99256,     0.99256,     0.99256,     0.99256,     0.99256,     0.99256,     0.99256,     0.99256,     0.99256,     0.99256,     0.99256,\n",
       "            0.99256,     0.99256,     0.99256,     0.99256,     0.99256,     0.99256,     0.99256,     0.99256,     0.99256,     0.99256,     0.99256,     0.99256,     0.99256,     0.99256,     0.99256,     0.99256,     0.99256,     0.99256,     0.99256,     0.99256,     0.99256,     0.99256,     0.99256,\n",
       "            0.99256,     0.99256,     0.99256,     0.99256,     0.99256,     0.99256,     0.99256,     0.99256,     0.99256,     0.99256,     0.99256,     0.99256,     0.99256,     0.99256,     0.99256,     0.99201,     0.99201,     0.99201,     0.99201,     0.99201,     0.99201,     0.99201,     0.99201,\n",
       "            0.99201,     0.99201,     0.99201,     0.99201,     0.99201,     0.99201,     0.99174,     0.99174,     0.99174,     0.99174,     0.99174,     0.99174,     0.99174,     0.99174,     0.99174,     0.99174,     0.99174,     0.99174,     0.99174,     0.99174,     0.99174,     0.99174,     0.99174,\n",
       "            0.99174,     0.99174,     0.99174,     0.99174,     0.99174,     0.99174,     0.99174,     0.99174,     0.99174,     0.99174,     0.99121,     0.99121,     0.99121,     0.99121,     0.99121,     0.99121,     0.99121,     0.99121,     0.99121,     0.99121,     0.99121,     0.99066,     0.99066,\n",
       "            0.99066,     0.99066,     0.99066,     0.99066,     0.99066,     0.99066,     0.99066,     0.99028,     0.99028,     0.99028,     0.99028,     0.99028,     0.99028,     0.99028,     0.99028,     0.99028,     0.99028,     0.99028,     0.99028,     0.99028,     0.99028,     0.99028,     0.98981,\n",
       "            0.98981,     0.98981,     0.98981,     0.98981,     0.98981,     0.98981,     0.98981,     0.98981,     0.98981,     0.98981,     0.98945,     0.98945,     0.98945,     0.98945,     0.98945,     0.98945,     0.98945,     0.98945,     0.98945,     0.98945,     0.98945,     0.98945,     0.98945,\n",
       "            0.98945,     0.98945,     0.98943,     0.98943,     0.98943,     0.98943,     0.98943,     0.98943,     0.98943,     0.98943,     0.98943,     0.98943,     0.98943,     0.98943,     0.98943,     0.98943,     0.98943,     0.98943,     0.98943,     0.98943,     0.98943,     0.98943,     0.98943,\n",
       "            0.98943,     0.98943,     0.98943,     0.98943,     0.98943,     0.98943,     0.98943,     0.98943,     0.98943,     0.98893,     0.98893,     0.98893,     0.98893,     0.98893,     0.98893,     0.98864,     0.98864,     0.98864,     0.98864,     0.98864,     0.98864,     0.98864,     0.98864,\n",
       "            0.98864,     0.98864,     0.98864,     0.98864,     0.98864,     0.98864,     0.98864,     0.98863,     0.98863,     0.98863,     0.98863,     0.98863,     0.98863,     0.98863,     0.98863,     0.98863,     0.98863,     0.98863,     0.98863,     0.98863,     0.98863,     0.98863,     0.98863,\n",
       "            0.98863,     0.98863,     0.98863,     0.98863,     0.98863,     0.98863,     0.98863,     0.98863,     0.98863,     0.98863,     0.98863,     0.98863,     0.98863,     0.98841,     0.98841,     0.98841,     0.98841,     0.98841,     0.98841,     0.98841,     0.98841,     0.98841,     0.98841,\n",
       "            0.98841,     0.98841,     0.98841,     0.98841,     0.98841,     0.98841,     0.98841,     0.98841,     0.98836,     0.98836,     0.98836,     0.98836,     0.98836,     0.98836,     0.98836,     0.98836,     0.98836,     0.98836,     0.98836,     0.98836,     0.98836,     0.98836,     0.98836,\n",
       "            0.98836,     0.98836,     0.98836,     0.98836,     0.98836,     0.98836,     0.98836,     0.98836,     0.98836,     0.98836,     0.98836,     0.98796,     0.98796,     0.98796,     0.98796,     0.98796,     0.98796,     0.98796,     0.98755,     0.98755,     0.98755,     0.98755,     0.98755,\n",
       "            0.98723,     0.98723,     0.98723,     0.98723,     0.98723,     0.98723,     0.98723,     0.98723,     0.98723,     0.98701,     0.98701,     0.98701,     0.98701,     0.98701,     0.98701,     0.98701,     0.98701,     0.98701,     0.98701,     0.98701,     0.98701,     0.98701,     0.98701,\n",
       "            0.98701,     0.98673,     0.98673,     0.98673,     0.98673,     0.98673,     0.98673,     0.98673,     0.98673,     0.98673,     0.98673,     0.98673,     0.98673,     0.98673,     0.98673,     0.98673,     0.98673,     0.98673,     0.98673,     0.98673,     0.98673,     0.98673,     0.98673,\n",
       "            0.98673,     0.98673,     0.98673,     0.98673,     0.98673,     0.98673,     0.98673,     0.98673,     0.98673,     0.98673,     0.98673,     0.98673,     0.98673,     0.98673,     0.98641,     0.98641,     0.98641,     0.98641,     0.98641,     0.98641,     0.98641,     0.98641,       0.986,\n",
       "              0.986,       0.986,     0.98556,     0.98556,     0.98556,     0.98556,     0.98556,     0.98556,     0.98556,     0.98556,     0.98556,     0.98556,     0.98556,     0.98556,     0.98556,     0.98556,     0.98556,     0.98556,     0.98556,     0.98556,     0.98556,     0.98556,     0.98556,\n",
       "            0.98556,     0.98556,     0.98556,     0.98515,     0.98471,      0.9843,     0.98393,     0.98393,     0.98393,     0.98393,     0.98393,     0.98393,     0.98393,     0.98393,     0.98393,     0.98393,     0.98393,     0.98393,     0.98393,     0.98393,     0.98393,     0.98393,     0.98393,\n",
       "            0.98393,     0.98393,     0.98393,     0.98393,     0.98393,     0.98393,     0.98393,     0.98393,     0.98393,     0.98393,     0.98393,     0.98393,     0.98393,     0.98393,     0.98393,     0.98393,     0.98393,     0.98393,     0.98393,     0.98393,     0.98393,     0.98393,     0.98393,\n",
       "            0.98393,     0.98393,     0.98393,     0.98393,     0.98393,     0.98393,     0.98393,     0.98393,     0.98393,     0.98393,     0.98393,     0.98393,     0.98393,     0.98393,     0.98393,     0.98393,     0.98393,     0.98393,     0.98393,     0.98393,     0.98393,     0.98393,     0.98393,\n",
       "            0.98393,     0.98393,     0.98393,     0.98335,     0.98335,     0.98335,     0.98335,     0.98335,     0.98335,     0.98335,     0.98335,     0.98335,     0.98335,     0.98335,     0.98273,     0.98273,     0.98273,     0.98273,     0.98273,     0.98273,     0.98273,     0.98273,     0.98234,\n",
       "            0.98219,     0.98219,     0.98219,     0.98219,     0.98219,     0.98219,     0.98219,     0.98219,     0.98219,     0.98219,     0.98219,     0.98183,     0.98183,     0.98158,     0.98158,     0.98158,     0.98158,     0.98158,     0.98158,     0.98128,     0.98128,     0.98128,     0.98128,\n",
       "            0.98123,     0.98123,     0.98123,     0.98123,     0.98123,     0.98123,     0.98123,     0.98123,     0.98123,     0.98123,     0.98123,     0.98123,     0.98123,     0.98123,     0.98123,     0.98102,     0.98102,     0.98102,     0.98102,     0.98102,     0.98102,     0.98102,     0.98102,\n",
       "            0.98068,     0.98035,     0.98035,     0.98007,     0.98007,     0.98007,     0.98007,     0.97979,     0.97979,     0.97979,     0.97979,     0.97945,     0.97918,     0.97918,     0.97918,     0.97918,     0.97918,     0.97885,     0.97868,     0.97868,     0.97868,     0.97868,     0.97868,\n",
       "            0.97868,     0.97868,     0.97868,     0.97835,     0.97801,     0.97766,     0.97742,     0.97742,     0.97742,     0.97742,     0.97742,     0.97684,     0.97684,     0.97684,     0.97684,     0.97684,     0.97628,     0.97628,     0.97628,     0.97628,     0.97628,     0.97596,     0.97596,\n",
       "            0.97581,     0.97581,     0.97581,     0.97581,     0.97581,     0.97581,     0.97581,     0.97581,     0.97556,     0.97556,     0.97556,     0.97492,     0.97492,      0.9748,      0.9748,      0.9748,      0.9748,      0.9748,      0.9748,      0.9748,      0.9748,      0.9748,     0.97449,\n",
       "            0.97418,     0.97352,     0.97187,     0.97022,     0.96957,     0.96725,     0.96629,     0.96272,     0.96272,     0.96248,     0.96248,     0.96217,     0.96124,     0.96094,     0.96033,     0.95907,     0.95684,     0.95528,      0.9534,     0.94932,     0.94812,     0.94252,     0.94071,\n",
       "            0.93768,     0.93346,     0.92419,     0.91425,     0.89806,     0.88704,       0.875,     0.85587,     0.84422,     0.84086,     0.80648,     0.78903,      0.7646,     0.73491,     0.72157,     0.66385,     0.59403,       0.539,     0.50531,     0.47162,     0.43794,     0.40425,     0.37056,\n",
       "            0.33687,     0.30319,      0.2695,     0.23581,     0.20212,     0.16844,     0.13475,     0.10106,    0.067375,    0.033687,           0]]), 'Recall', 'Precision'], [array([          0,    0.001001,    0.002002,    0.003003,    0.004004,    0.005005,    0.006006,    0.007007,    0.008008,    0.009009,     0.01001,    0.011011,    0.012012,    0.013013,    0.014014,    0.015015,    0.016016,    0.017017,    0.018018,    0.019019,     0.02002,    0.021021,    0.022022,    0.023023,\n",
       "          0.024024,    0.025025,    0.026026,    0.027027,    0.028028,    0.029029,     0.03003,    0.031031,    0.032032,    0.033033,    0.034034,    0.035035,    0.036036,    0.037037,    0.038038,    0.039039,     0.04004,    0.041041,    0.042042,    0.043043,    0.044044,    0.045045,    0.046046,    0.047047,\n",
       "          0.048048,    0.049049,     0.05005,    0.051051,    0.052052,    0.053053,    0.054054,    0.055055,    0.056056,    0.057057,    0.058058,    0.059059,     0.06006,    0.061061,    0.062062,    0.063063,    0.064064,    0.065065,    0.066066,    0.067067,    0.068068,    0.069069,     0.07007,    0.071071,\n",
       "          0.072072,    0.073073,    0.074074,    0.075075,    0.076076,    0.077077,    0.078078,    0.079079,     0.08008,    0.081081,    0.082082,    0.083083,    0.084084,    0.085085,    0.086086,    0.087087,    0.088088,    0.089089,     0.09009,    0.091091,    0.092092,    0.093093,    0.094094,    0.095095,\n",
       "          0.096096,    0.097097,    0.098098,    0.099099,      0.1001,      0.1011,      0.1021,      0.1031,      0.1041,     0.10511,     0.10611,     0.10711,     0.10811,     0.10911,     0.11011,     0.11111,     0.11211,     0.11311,     0.11411,     0.11512,     0.11612,     0.11712,     0.11812,     0.11912,\n",
       "           0.12012,     0.12112,     0.12212,     0.12312,     0.12412,     0.12513,     0.12613,     0.12713,     0.12813,     0.12913,     0.13013,     0.13113,     0.13213,     0.13313,     0.13413,     0.13514,     0.13614,     0.13714,     0.13814,     0.13914,     0.14014,     0.14114,     0.14214,     0.14314,\n",
       "           0.14414,     0.14515,     0.14615,     0.14715,     0.14815,     0.14915,     0.15015,     0.15115,     0.15215,     0.15315,     0.15415,     0.15516,     0.15616,     0.15716,     0.15816,     0.15916,     0.16016,     0.16116,     0.16216,     0.16316,     0.16416,     0.16517,     0.16617,     0.16717,\n",
       "           0.16817,     0.16917,     0.17017,     0.17117,     0.17217,     0.17317,     0.17417,     0.17518,     0.17618,     0.17718,     0.17818,     0.17918,     0.18018,     0.18118,     0.18218,     0.18318,     0.18418,     0.18519,     0.18619,     0.18719,     0.18819,     0.18919,     0.19019,     0.19119,\n",
       "           0.19219,     0.19319,     0.19419,      0.1952,      0.1962,      0.1972,      0.1982,      0.1992,      0.2002,      0.2012,      0.2022,      0.2032,      0.2042,     0.20521,     0.20621,     0.20721,     0.20821,     0.20921,     0.21021,     0.21121,     0.21221,     0.21321,     0.21421,     0.21522,\n",
       "           0.21622,     0.21722,     0.21822,     0.21922,     0.22022,     0.22122,     0.22222,     0.22322,     0.22422,     0.22523,     0.22623,     0.22723,     0.22823,     0.22923,     0.23023,     0.23123,     0.23223,     0.23323,     0.23423,     0.23524,     0.23624,     0.23724,     0.23824,     0.23924,\n",
       "           0.24024,     0.24124,     0.24224,     0.24324,     0.24424,     0.24525,     0.24625,     0.24725,     0.24825,     0.24925,     0.25025,     0.25125,     0.25225,     0.25325,     0.25425,     0.25526,     0.25626,     0.25726,     0.25826,     0.25926,     0.26026,     0.26126,     0.26226,     0.26326,\n",
       "           0.26426,     0.26527,     0.26627,     0.26727,     0.26827,     0.26927,     0.27027,     0.27127,     0.27227,     0.27327,     0.27427,     0.27528,     0.27628,     0.27728,     0.27828,     0.27928,     0.28028,     0.28128,     0.28228,     0.28328,     0.28428,     0.28529,     0.28629,     0.28729,\n",
       "           0.28829,     0.28929,     0.29029,     0.29129,     0.29229,     0.29329,     0.29429,      0.2953,      0.2963,      0.2973,      0.2983,      0.2993,      0.3003,      0.3013,      0.3023,      0.3033,      0.3043,     0.30531,     0.30631,     0.30731,     0.30831,     0.30931,     0.31031,     0.31131,\n",
       "           0.31231,     0.31331,     0.31431,     0.31532,     0.31632,     0.31732,     0.31832,     0.31932,     0.32032,     0.32132,     0.32232,     0.32332,     0.32432,     0.32533,     0.32633,     0.32733,     0.32833,     0.32933,     0.33033,     0.33133,     0.33233,     0.33333,     0.33433,     0.33534,\n",
       "           0.33634,     0.33734,     0.33834,     0.33934,     0.34034,     0.34134,     0.34234,     0.34334,     0.34434,     0.34535,     0.34635,     0.34735,     0.34835,     0.34935,     0.35035,     0.35135,     0.35235,     0.35335,     0.35435,     0.35536,     0.35636,     0.35736,     0.35836,     0.35936,\n",
       "           0.36036,     0.36136,     0.36236,     0.36336,     0.36436,     0.36537,     0.36637,     0.36737,     0.36837,     0.36937,     0.37037,     0.37137,     0.37237,     0.37337,     0.37437,     0.37538,     0.37638,     0.37738,     0.37838,     0.37938,     0.38038,     0.38138,     0.38238,     0.38338,\n",
       "           0.38438,     0.38539,     0.38639,     0.38739,     0.38839,     0.38939,     0.39039,     0.39139,     0.39239,     0.39339,     0.39439,      0.3954,      0.3964,      0.3974,      0.3984,      0.3994,      0.4004,      0.4014,      0.4024,      0.4034,      0.4044,     0.40541,     0.40641,     0.40741,\n",
       "           0.40841,     0.40941,     0.41041,     0.41141,     0.41241,     0.41341,     0.41441,     0.41542,     0.41642,     0.41742,     0.41842,     0.41942,     0.42042,     0.42142,     0.42242,     0.42342,     0.42442,     0.42543,     0.42643,     0.42743,     0.42843,     0.42943,     0.43043,     0.43143,\n",
       "           0.43243,     0.43343,     0.43443,     0.43544,     0.43644,     0.43744,     0.43844,     0.43944,     0.44044,     0.44144,     0.44244,     0.44344,     0.44444,     0.44545,     0.44645,     0.44745,     0.44845,     0.44945,     0.45045,     0.45145,     0.45245,     0.45345,     0.45445,     0.45546,\n",
       "           0.45646,     0.45746,     0.45846,     0.45946,     0.46046,     0.46146,     0.46246,     0.46346,     0.46446,     0.46547,     0.46647,     0.46747,     0.46847,     0.46947,     0.47047,     0.47147,     0.47247,     0.47347,     0.47447,     0.47548,     0.47648,     0.47748,     0.47848,     0.47948,\n",
       "           0.48048,     0.48148,     0.48248,     0.48348,     0.48448,     0.48549,     0.48649,     0.48749,     0.48849,     0.48949,     0.49049,     0.49149,     0.49249,     0.49349,     0.49449,      0.4955,      0.4965,      0.4975,      0.4985,      0.4995,      0.5005,      0.5015,      0.5025,      0.5035,\n",
       "            0.5045,     0.50551,     0.50651,     0.50751,     0.50851,     0.50951,     0.51051,     0.51151,     0.51251,     0.51351,     0.51451,     0.51552,     0.51652,     0.51752,     0.51852,     0.51952,     0.52052,     0.52152,     0.52252,     0.52352,     0.52452,     0.52553,     0.52653,     0.52753,\n",
       "           0.52853,     0.52953,     0.53053,     0.53153,     0.53253,     0.53353,     0.53453,     0.53554,     0.53654,     0.53754,     0.53854,     0.53954,     0.54054,     0.54154,     0.54254,     0.54354,     0.54454,     0.54555,     0.54655,     0.54755,     0.54855,     0.54955,     0.55055,     0.55155,\n",
       "           0.55255,     0.55355,     0.55455,     0.55556,     0.55656,     0.55756,     0.55856,     0.55956,     0.56056,     0.56156,     0.56256,     0.56356,     0.56456,     0.56557,     0.56657,     0.56757,     0.56857,     0.56957,     0.57057,     0.57157,     0.57257,     0.57357,     0.57457,     0.57558,\n",
       "           0.57658,     0.57758,     0.57858,     0.57958,     0.58058,     0.58158,     0.58258,     0.58358,     0.58458,     0.58559,     0.58659,     0.58759,     0.58859,     0.58959,     0.59059,     0.59159,     0.59259,     0.59359,     0.59459,      0.5956,      0.5966,      0.5976,      0.5986,      0.5996,\n",
       "            0.6006,      0.6016,      0.6026,      0.6036,      0.6046,     0.60561,     0.60661,     0.60761,     0.60861,     0.60961,     0.61061,     0.61161,     0.61261,     0.61361,     0.61461,     0.61562,     0.61662,     0.61762,     0.61862,     0.61962,     0.62062,     0.62162,     0.62262,     0.62362,\n",
       "           0.62462,     0.62563,     0.62663,     0.62763,     0.62863,     0.62963,     0.63063,     0.63163,     0.63263,     0.63363,     0.63463,     0.63564,     0.63664,     0.63764,     0.63864,     0.63964,     0.64064,     0.64164,     0.64264,     0.64364,     0.64464,     0.64565,     0.64665,     0.64765,\n",
       "           0.64865,     0.64965,     0.65065,     0.65165,     0.65265,     0.65365,     0.65465,     0.65566,     0.65666,     0.65766,     0.65866,     0.65966,     0.66066,     0.66166,     0.66266,     0.66366,     0.66466,     0.66567,     0.66667,     0.66767,     0.66867,     0.66967,     0.67067,     0.67167,\n",
       "           0.67267,     0.67367,     0.67467,     0.67568,     0.67668,     0.67768,     0.67868,     0.67968,     0.68068,     0.68168,     0.68268,     0.68368,     0.68468,     0.68569,     0.68669,     0.68769,     0.68869,     0.68969,     0.69069,     0.69169,     0.69269,     0.69369,     0.69469,      0.6957,\n",
       "            0.6967,      0.6977,      0.6987,      0.6997,      0.7007,      0.7017,      0.7027,      0.7037,      0.7047,     0.70571,     0.70671,     0.70771,     0.70871,     0.70971,     0.71071,     0.71171,     0.71271,     0.71371,     0.71471,     0.71572,     0.71672,     0.71772,     0.71872,     0.71972,\n",
       "           0.72072,     0.72172,     0.72272,     0.72372,     0.72472,     0.72573,     0.72673,     0.72773,     0.72873,     0.72973,     0.73073,     0.73173,     0.73273,     0.73373,     0.73473,     0.73574,     0.73674,     0.73774,     0.73874,     0.73974,     0.74074,     0.74174,     0.74274,     0.74374,\n",
       "           0.74474,     0.74575,     0.74675,     0.74775,     0.74875,     0.74975,     0.75075,     0.75175,     0.75275,     0.75375,     0.75475,     0.75576,     0.75676,     0.75776,     0.75876,     0.75976,     0.76076,     0.76176,     0.76276,     0.76376,     0.76476,     0.76577,     0.76677,     0.76777,\n",
       "           0.76877,     0.76977,     0.77077,     0.77177,     0.77277,     0.77377,     0.77477,     0.77578,     0.77678,     0.77778,     0.77878,     0.77978,     0.78078,     0.78178,     0.78278,     0.78378,     0.78478,     0.78579,     0.78679,     0.78779,     0.78879,     0.78979,     0.79079,     0.79179,\n",
       "           0.79279,     0.79379,     0.79479,      0.7958,      0.7968,      0.7978,      0.7988,      0.7998,      0.8008,      0.8018,      0.8028,      0.8038,      0.8048,     0.80581,     0.80681,     0.80781,     0.80881,     0.80981,     0.81081,     0.81181,     0.81281,     0.81381,     0.81481,     0.81582,\n",
       "           0.81682,     0.81782,     0.81882,     0.81982,     0.82082,     0.82182,     0.82282,     0.82382,     0.82482,     0.82583,     0.82683,     0.82783,     0.82883,     0.82983,     0.83083,     0.83183,     0.83283,     0.83383,     0.83483,     0.83584,     0.83684,     0.83784,     0.83884,     0.83984,\n",
       "           0.84084,     0.84184,     0.84284,     0.84384,     0.84484,     0.84585,     0.84685,     0.84785,     0.84885,     0.84985,     0.85085,     0.85185,     0.85285,     0.85385,     0.85485,     0.85586,     0.85686,     0.85786,     0.85886,     0.85986,     0.86086,     0.86186,     0.86286,     0.86386,\n",
       "           0.86486,     0.86587,     0.86687,     0.86787,     0.86887,     0.86987,     0.87087,     0.87187,     0.87287,     0.87387,     0.87487,     0.87588,     0.87688,     0.87788,     0.87888,     0.87988,     0.88088,     0.88188,     0.88288,     0.88388,     0.88488,     0.88589,     0.88689,     0.88789,\n",
       "           0.88889,     0.88989,     0.89089,     0.89189,     0.89289,     0.89389,     0.89489,      0.8959,      0.8969,      0.8979,      0.8989,      0.8999,      0.9009,      0.9019,      0.9029,      0.9039,      0.9049,     0.90591,     0.90691,     0.90791,     0.90891,     0.90991,     0.91091,     0.91191,\n",
       "           0.91291,     0.91391,     0.91491,     0.91592,     0.91692,     0.91792,     0.91892,     0.91992,     0.92092,     0.92192,     0.92292,     0.92392,     0.92492,     0.92593,     0.92693,     0.92793,     0.92893,     0.92993,     0.93093,     0.93193,     0.93293,     0.93393,     0.93493,     0.93594,\n",
       "           0.93694,     0.93794,     0.93894,     0.93994,     0.94094,     0.94194,     0.94294,     0.94394,     0.94494,     0.94595,     0.94695,     0.94795,     0.94895,     0.94995,     0.95095,     0.95195,     0.95295,     0.95395,     0.95495,     0.95596,     0.95696,     0.95796,     0.95896,     0.95996,\n",
       "           0.96096,     0.96196,     0.96296,     0.96396,     0.96496,     0.96597,     0.96697,     0.96797,     0.96897,     0.96997,     0.97097,     0.97197,     0.97297,     0.97397,     0.97497,     0.97598,     0.97698,     0.97798,     0.97898,     0.97998,     0.98098,     0.98198,     0.98298,     0.98398,\n",
       "           0.98498,     0.98599,     0.98699,     0.98799,     0.98899,     0.98999,     0.99099,     0.99199,     0.99299,     0.99399,     0.99499,       0.996,       0.997,       0.998,       0.999,           1]), array([[    0.71189,     0.71189,     0.77377,      0.8001,     0.81856,     0.83195,     0.84193,     0.85103,     0.85924,     0.86556,     0.86987,     0.87437,     0.87808,     0.88081,     0.88357,     0.88735,     0.88885,     0.89099,     0.89384,     0.89626,     0.89806,     0.90052,     0.90248,\n",
       "            0.90371,     0.90443,     0.90542,     0.90608,     0.90748,     0.90878,     0.90951,     0.91091,     0.91187,     0.91326,     0.91337,     0.91437,     0.91507,     0.91561,     0.91618,     0.91742,     0.91758,     0.91826,     0.91904,     0.91956,     0.92007,     0.92028,     0.92081,\n",
       "            0.92142,     0.92152,       0.922,     0.92259,     0.92347,     0.92393,     0.92426,     0.92497,     0.92559,     0.92577,     0.92627,     0.92667,     0.92692,     0.92753,     0.92755,     0.92883,     0.92899,     0.92939,     0.92967,     0.92994,     0.93013,      0.9305,     0.93096,\n",
       "            0.93127,     0.93153,      0.9322,     0.93258,     0.93284,     0.93296,     0.93332,     0.93321,     0.93354,     0.93384,     0.93444,     0.93483,     0.93548,     0.93605,     0.93649,     0.93677,     0.93712,     0.93738,     0.93796,     0.93821,      0.9386,     0.93884,     0.93893,\n",
       "            0.93948,     0.93992,     0.94019,     0.94037,     0.94064,     0.94069,     0.94075,     0.94081,      0.9409,     0.94117,     0.94133,     0.94125,     0.94139,     0.94153,     0.94209,     0.94238,     0.94259,     0.94272,     0.94298,     0.94316,     0.94373,     0.94398,     0.94415,\n",
       "            0.94417,     0.94425,     0.94444,     0.94432,      0.9445,     0.94462,     0.94467,     0.94472,     0.94484,     0.94526,     0.94533,     0.94542,     0.94562,     0.94577,       0.946,     0.94615,     0.94605,     0.94608,     0.94637,      0.9464,      0.9463,     0.94653,     0.94665,\n",
       "            0.94694,     0.94702,     0.94711,     0.94724,     0.94729,     0.94734,     0.94738,      0.9477,     0.94774,     0.94777,     0.94781,     0.94784,     0.94806,     0.94813,      0.9482,     0.94827,     0.94834,     0.94844,     0.94857,     0.94868,     0.94876,     0.94887,     0.94908,\n",
       "            0.94922,     0.94945,     0.94953,     0.94945,     0.94992,     0.95024,     0.95031,     0.95044,     0.95049,     0.95044,      0.9504,     0.95035,     0.95057,     0.95066,     0.95071,     0.95076,     0.95081,     0.95086,     0.95091,     0.95096,     0.95104,     0.95113,     0.95117,\n",
       "            0.95121,     0.95125,     0.95128,     0.95164,     0.95175,     0.95187,     0.95185,     0.95164,     0.95174,     0.95178,     0.95182,     0.95185,      0.9519,      0.9522,     0.95212,     0.95204,     0.95236,     0.95238,     0.95241,     0.95244,     0.95247,      0.9525,     0.95258,\n",
       "            0.95271,     0.95284,     0.95282,     0.95291,     0.95302,     0.95304,     0.95302,      0.9531,     0.95311,     0.95314,     0.95317,      0.9532,     0.95323,     0.95331,     0.95347,     0.95357,      0.9536,     0.95364,     0.95368,      0.9537,     0.95357,     0.95363,      0.9536,\n",
       "            0.95356,     0.95361,     0.95365,     0.95369,     0.95371,     0.95373,     0.95375,     0.95377,     0.95379,     0.95382,     0.95384,      0.9539,     0.95401,     0.95412,      0.9542,     0.95425,     0.95431,     0.95447,     0.95481,     0.95486,      0.9549,     0.95494,     0.95513,\n",
       "            0.95515,     0.95516,     0.95518,     0.95519,     0.95521,     0.95522,     0.95524,     0.95525,     0.95527,     0.95529,     0.95536,     0.95543,     0.95543,     0.95547,      0.9555,     0.95554,     0.95557,      0.9558,     0.95592,     0.95614,     0.95613,     0.95598,     0.95589,\n",
       "            0.95595,     0.95602,     0.95606,     0.95609,     0.95612,     0.95615,     0.95618,     0.95619,     0.95614,      0.9561,     0.95605,     0.95609,     0.95617,     0.95612,     0.95608,     0.95603,     0.95603,     0.95607,     0.95611,     0.95615,     0.95612,       0.956,     0.95584,\n",
       "            0.95586,     0.95588,      0.9559,     0.95593,     0.95595,     0.95597,     0.95606,     0.95617,     0.95622,     0.95627,     0.95631,     0.95635,     0.95639,     0.95643,     0.95648,     0.95668,      0.9568,     0.95685,      0.9569,     0.95694,     0.95696,     0.95697,     0.95699,\n",
       "              0.957,     0.95702,     0.95703,     0.95705,     0.95706,     0.95708,     0.95709,     0.95711,     0.95707,     0.95704,       0.957,     0.95697,     0.95694,     0.95694,     0.95696,     0.95697,     0.95698,     0.95699,     0.95701,     0.95702,     0.95703,     0.95705,     0.95706,\n",
       "            0.95707,     0.95708,     0.95735,     0.95745,     0.95749,     0.95753,     0.95758,     0.95761,     0.95765,     0.95769,     0.95772,     0.95773,     0.95771,      0.9577,     0.95768,     0.95767,     0.95765,     0.95764,     0.95762,     0.95761,     0.95759,     0.95758,     0.95756,\n",
       "             0.9576,     0.95765,     0.95769,     0.95777,     0.95799,     0.95779,     0.95771,     0.95773,     0.95775,     0.95777,      0.9578,     0.95782,     0.95784,     0.95788,     0.95796,     0.95815,     0.95806,     0.95791,     0.95785,     0.95787,      0.9579,     0.95793,     0.95796,\n",
       "            0.95799,     0.95814,     0.95798,     0.95808,     0.95831,     0.95836,      0.9584,     0.95844,     0.95844,      0.9584,     0.95837,     0.95833,     0.95829,     0.95831,     0.95835,     0.95838,     0.95842,     0.95848,     0.95861,     0.95863,     0.95865,     0.95867,     0.95869,\n",
       "            0.95871,     0.95873,     0.95875,     0.95876,     0.95864,     0.95862,     0.95867,     0.95871,     0.95875,     0.95878,     0.95881,     0.95884,     0.95887,      0.9589,     0.95894,     0.95906,     0.95903,       0.959,     0.95897,     0.95894,     0.95891,      0.9589,     0.95894,\n",
       "            0.95897,     0.95901,     0.95904,     0.95899,      0.9589,     0.95886,     0.95884,     0.95881,     0.95879,     0.95877,     0.95875,     0.95872,      0.9587,     0.95874,     0.95878,     0.95882,     0.95887,     0.95897,     0.95904,     0.95907,      0.9591,     0.95914,     0.95917,\n",
       "            0.95916,     0.95912,     0.95907,     0.95903,      0.9589,     0.95886,      0.9589,     0.95894,     0.95899,     0.95893,     0.95884,     0.95895,      0.9589,     0.95886,     0.95881,     0.95875,     0.95869,     0.95863,     0.95879,     0.95857,     0.95853,     0.95848,     0.95843,\n",
       "            0.95827,     0.95831,     0.95835,     0.95839,     0.95839,     0.95827,     0.95835,     0.95845,     0.95852,     0.95841,     0.95845,     0.95849,     0.95853,     0.95854,      0.9585,     0.95845,     0.95841,     0.95835,     0.95829,     0.95823,      0.9581,     0.95799,     0.95793,\n",
       "            0.95787,     0.95779,      0.9577,     0.95765,     0.95761,     0.95758,     0.95754,      0.9575,     0.95734,     0.95736,      0.9574,     0.95744,     0.95748,     0.95713,     0.95704,     0.95694,     0.95678,     0.95686,     0.95695,      0.9571,     0.95715,     0.95719,     0.95723,\n",
       "            0.95743,     0.95748,     0.95752,     0.95756,     0.95778,     0.95786,     0.95794,     0.95799,     0.95805,     0.95815,     0.95815,     0.95797,     0.95797,      0.9581,     0.95818,     0.95818,     0.95812,     0.95805,     0.95806,      0.9581,     0.95815,     0.95819,     0.95808,\n",
       "            0.95817,     0.95803,     0.95805,     0.95811,     0.95817,     0.95812,     0.95807,     0.95802,      0.9582,     0.95828,     0.95837,     0.95845,     0.95859,      0.9585,     0.95867,     0.95872,     0.95878,     0.95892,     0.95886,     0.95879,     0.95871,     0.95862,     0.95875,\n",
       "            0.95891,     0.95885,     0.95876,     0.95867,     0.95858,     0.95848,     0.95856,     0.95854,     0.95851,     0.95849,     0.95846,     0.95844,     0.95841,     0.95839,     0.95877,     0.95886,     0.95894,     0.95903,     0.95879,      0.9587,     0.95873,     0.95877,     0.95882,\n",
       "            0.95892,     0.95903,     0.95905,     0.95908,     0.95911,     0.95914,     0.95917,     0.95913,     0.95906,     0.95899,     0.95903,     0.95908,     0.95912,      0.9591,     0.95891,     0.95901,     0.95906,     0.95875,     0.95872,     0.95868,     0.95865,     0.95862,     0.95859,\n",
       "            0.95867,     0.95874,     0.95855,     0.95838,     0.95831,     0.95824,     0.95815,     0.95806,     0.95806,     0.95798,     0.95793,     0.95787,     0.95782,     0.95776,      0.9577,     0.95741,     0.95725,     0.95712,     0.95685,     0.95676,     0.95657,     0.95621,     0.95609,\n",
       "            0.95581,     0.95571,     0.95556,      0.9552,     0.95506,     0.95492,     0.95473,     0.95403,     0.95394,     0.95384,     0.95371,     0.95384,      0.9537,     0.95357,      0.9531,       0.953,     0.95291,     0.95282,     0.95298,     0.95305,     0.95308,     0.95255,     0.95242,\n",
       "            0.95207,     0.95171,     0.95152,      0.9512,     0.95122,     0.95087,     0.95075,     0.95021,     0.95002,     0.94989,     0.94955,     0.94941,     0.94932,     0.94872,     0.94853,     0.94761,     0.94711,     0.94694,     0.94664,     0.94657,     0.94654,     0.94663,     0.94629,\n",
       "            0.94621,     0.94614,     0.94597,     0.94532,     0.94525,     0.94506,     0.94448,     0.94407,     0.94378,     0.94363,     0.94332,     0.94322,     0.94292,     0.94265,      0.9425,     0.94237,     0.94218,     0.94139,     0.94138,     0.94054,      0.9397,     0.93951,     0.93907,\n",
       "            0.93866,     0.93864,     0.93845,     0.93856,      0.9382,     0.93812,     0.93804,     0.93789,     0.93648,     0.93627,     0.93544,     0.93487,      0.9342,      0.9336,     0.93359,     0.93301,     0.93225,     0.93181,     0.93101,     0.93089,     0.93079,     0.93021,     0.93033,\n",
       "            0.92951,     0.92866,     0.92822,     0.92772,     0.92702,     0.92687,     0.92659,     0.92639,     0.92588,     0.92566,      0.9252,     0.92466,     0.92404,     0.92359,     0.92272,     0.92227,     0.92107,     0.92039,     0.92038,     0.91947,     0.91832,      0.9181,     0.91683,\n",
       "            0.91614,     0.91555,     0.91509,     0.91456,     0.91416,     0.91358,     0.91344,     0.91307,     0.91294,     0.91284,     0.91197,     0.91179,     0.91165,     0.91153,     0.91087,     0.90974,     0.90903,     0.90802,     0.90703,     0.90642,     0.90518,     0.90494,     0.90343,\n",
       "            0.90211,     0.90182,     0.90048,     0.89984,     0.89925,     0.89858,      0.8985,     0.89809,     0.89752,     0.89727,     0.89628,     0.89563,     0.89382,     0.89367,     0.89208,     0.88991,     0.88837,     0.88693,     0.88578,     0.88433,     0.88389,     0.88117,     0.88045,\n",
       "            0.87906,      0.8774,      0.8763,     0.87397,     0.87199,     0.87119,     0.86804,      0.8669,     0.86469,     0.86281,     0.86229,     0.86163,     0.85955,     0.85879,     0.85682,     0.85463,     0.85448,      0.8524,     0.85107,     0.85053,     0.84818,     0.84672,     0.84442,\n",
       "            0.84311,     0.83973,     0.83678,     0.83313,     0.83171,     0.82945,     0.82707,     0.82462,     0.82129,     0.81718,     0.81589,     0.81328,     0.80806,      0.8047,     0.80109,     0.79681,     0.79241,     0.78949,     0.78797,     0.78565,     0.78191,     0.77831,     0.77419,\n",
       "            0.77089,     0.76722,     0.76414,     0.75923,     0.75533,     0.75123,     0.74735,     0.74443,     0.73936,     0.73253,     0.72627,     0.72134,     0.71666,      0.7144,     0.71064,     0.70502,     0.70246,     0.69749,     0.69247,     0.68784,     0.68347,     0.67612,     0.67138,\n",
       "            0.66614,     0.66162,     0.65783,     0.65386,     0.64895,     0.63855,     0.63241,     0.62271,     0.61756,     0.61284,     0.60729,     0.60235,     0.58818,     0.58175,     0.57539,     0.56608,     0.55417,     0.54564,      0.5381,     0.52131,     0.51759,      0.5105,     0.49727,\n",
       "            0.48921,     0.48301,     0.46968,     0.45651,     0.44772,     0.43553,      0.4272,     0.41382,     0.40322,     0.39855,     0.38982,     0.38408,     0.37385,     0.35895,     0.34932,     0.34163,      0.3299,     0.31801,     0.31174,     0.29918,     0.28236,     0.27129,     0.25905,\n",
       "            0.24664,     0.24088,     0.23032,     0.21964,     0.20829,     0.20172,     0.19737,     0.18851,     0.18011,     0.17277,     0.16594,     0.16078,     0.15328,     0.14688,     0.14336,     0.13514,     0.13098,      0.1268,     0.12082,      0.1142,     0.10813,     0.10203,    0.095271,\n",
       "            0.08475,    0.079742,    0.074081,    0.067755,    0.062022,    0.056256,    0.054305,    0.051066,     0.04394,    0.039367,    0.036078,    0.033432,    0.028809,     0.02152,    0.017804,     0.01481,    0.010769,   0.0077345,   0.0053321,   0.0032773,   0.0024332,   0.0018601,  0.00091355,\n",
       "                  0,           0,           0,           0,           0,           0,           0,           0,           0,           0,           0,           0,           0,           0,           0,           0,           0,           0,           0,           0,           0,           0,           0,\n",
       "                  0,           0,           0,           0,           0,           0,           0,           0,           0,           0,           0]]), 'Confidence', 'F1'], [array([          0,    0.001001,    0.002002,    0.003003,    0.004004,    0.005005,    0.006006,    0.007007,    0.008008,    0.009009,     0.01001,    0.011011,    0.012012,    0.013013,    0.014014,    0.015015,    0.016016,    0.017017,    0.018018,    0.019019,     0.02002,    0.021021,    0.022022,    0.023023,\n",
       "          0.024024,    0.025025,    0.026026,    0.027027,    0.028028,    0.029029,     0.03003,    0.031031,    0.032032,    0.033033,    0.034034,    0.035035,    0.036036,    0.037037,    0.038038,    0.039039,     0.04004,    0.041041,    0.042042,    0.043043,    0.044044,    0.045045,    0.046046,    0.047047,\n",
       "          0.048048,    0.049049,     0.05005,    0.051051,    0.052052,    0.053053,    0.054054,    0.055055,    0.056056,    0.057057,    0.058058,    0.059059,     0.06006,    0.061061,    0.062062,    0.063063,    0.064064,    0.065065,    0.066066,    0.067067,    0.068068,    0.069069,     0.07007,    0.071071,\n",
       "          0.072072,    0.073073,    0.074074,    0.075075,    0.076076,    0.077077,    0.078078,    0.079079,     0.08008,    0.081081,    0.082082,    0.083083,    0.084084,    0.085085,    0.086086,    0.087087,    0.088088,    0.089089,     0.09009,    0.091091,    0.092092,    0.093093,    0.094094,    0.095095,\n",
       "          0.096096,    0.097097,    0.098098,    0.099099,      0.1001,      0.1011,      0.1021,      0.1031,      0.1041,     0.10511,     0.10611,     0.10711,     0.10811,     0.10911,     0.11011,     0.11111,     0.11211,     0.11311,     0.11411,     0.11512,     0.11612,     0.11712,     0.11812,     0.11912,\n",
       "           0.12012,     0.12112,     0.12212,     0.12312,     0.12412,     0.12513,     0.12613,     0.12713,     0.12813,     0.12913,     0.13013,     0.13113,     0.13213,     0.13313,     0.13413,     0.13514,     0.13614,     0.13714,     0.13814,     0.13914,     0.14014,     0.14114,     0.14214,     0.14314,\n",
       "           0.14414,     0.14515,     0.14615,     0.14715,     0.14815,     0.14915,     0.15015,     0.15115,     0.15215,     0.15315,     0.15415,     0.15516,     0.15616,     0.15716,     0.15816,     0.15916,     0.16016,     0.16116,     0.16216,     0.16316,     0.16416,     0.16517,     0.16617,     0.16717,\n",
       "           0.16817,     0.16917,     0.17017,     0.17117,     0.17217,     0.17317,     0.17417,     0.17518,     0.17618,     0.17718,     0.17818,     0.17918,     0.18018,     0.18118,     0.18218,     0.18318,     0.18418,     0.18519,     0.18619,     0.18719,     0.18819,     0.18919,     0.19019,     0.19119,\n",
       "           0.19219,     0.19319,     0.19419,      0.1952,      0.1962,      0.1972,      0.1982,      0.1992,      0.2002,      0.2012,      0.2022,      0.2032,      0.2042,     0.20521,     0.20621,     0.20721,     0.20821,     0.20921,     0.21021,     0.21121,     0.21221,     0.21321,     0.21421,     0.21522,\n",
       "           0.21622,     0.21722,     0.21822,     0.21922,     0.22022,     0.22122,     0.22222,     0.22322,     0.22422,     0.22523,     0.22623,     0.22723,     0.22823,     0.22923,     0.23023,     0.23123,     0.23223,     0.23323,     0.23423,     0.23524,     0.23624,     0.23724,     0.23824,     0.23924,\n",
       "           0.24024,     0.24124,     0.24224,     0.24324,     0.24424,     0.24525,     0.24625,     0.24725,     0.24825,     0.24925,     0.25025,     0.25125,     0.25225,     0.25325,     0.25425,     0.25526,     0.25626,     0.25726,     0.25826,     0.25926,     0.26026,     0.26126,     0.26226,     0.26326,\n",
       "           0.26426,     0.26527,     0.26627,     0.26727,     0.26827,     0.26927,     0.27027,     0.27127,     0.27227,     0.27327,     0.27427,     0.27528,     0.27628,     0.27728,     0.27828,     0.27928,     0.28028,     0.28128,     0.28228,     0.28328,     0.28428,     0.28529,     0.28629,     0.28729,\n",
       "           0.28829,     0.28929,     0.29029,     0.29129,     0.29229,     0.29329,     0.29429,      0.2953,      0.2963,      0.2973,      0.2983,      0.2993,      0.3003,      0.3013,      0.3023,      0.3033,      0.3043,     0.30531,     0.30631,     0.30731,     0.30831,     0.30931,     0.31031,     0.31131,\n",
       "           0.31231,     0.31331,     0.31431,     0.31532,     0.31632,     0.31732,     0.31832,     0.31932,     0.32032,     0.32132,     0.32232,     0.32332,     0.32432,     0.32533,     0.32633,     0.32733,     0.32833,     0.32933,     0.33033,     0.33133,     0.33233,     0.33333,     0.33433,     0.33534,\n",
       "           0.33634,     0.33734,     0.33834,     0.33934,     0.34034,     0.34134,     0.34234,     0.34334,     0.34434,     0.34535,     0.34635,     0.34735,     0.34835,     0.34935,     0.35035,     0.35135,     0.35235,     0.35335,     0.35435,     0.35536,     0.35636,     0.35736,     0.35836,     0.35936,\n",
       "           0.36036,     0.36136,     0.36236,     0.36336,     0.36436,     0.36537,     0.36637,     0.36737,     0.36837,     0.36937,     0.37037,     0.37137,     0.37237,     0.37337,     0.37437,     0.37538,     0.37638,     0.37738,     0.37838,     0.37938,     0.38038,     0.38138,     0.38238,     0.38338,\n",
       "           0.38438,     0.38539,     0.38639,     0.38739,     0.38839,     0.38939,     0.39039,     0.39139,     0.39239,     0.39339,     0.39439,      0.3954,      0.3964,      0.3974,      0.3984,      0.3994,      0.4004,      0.4014,      0.4024,      0.4034,      0.4044,     0.40541,     0.40641,     0.40741,\n",
       "           0.40841,     0.40941,     0.41041,     0.41141,     0.41241,     0.41341,     0.41441,     0.41542,     0.41642,     0.41742,     0.41842,     0.41942,     0.42042,     0.42142,     0.42242,     0.42342,     0.42442,     0.42543,     0.42643,     0.42743,     0.42843,     0.42943,     0.43043,     0.43143,\n",
       "           0.43243,     0.43343,     0.43443,     0.43544,     0.43644,     0.43744,     0.43844,     0.43944,     0.44044,     0.44144,     0.44244,     0.44344,     0.44444,     0.44545,     0.44645,     0.44745,     0.44845,     0.44945,     0.45045,     0.45145,     0.45245,     0.45345,     0.45445,     0.45546,\n",
       "           0.45646,     0.45746,     0.45846,     0.45946,     0.46046,     0.46146,     0.46246,     0.46346,     0.46446,     0.46547,     0.46647,     0.46747,     0.46847,     0.46947,     0.47047,     0.47147,     0.47247,     0.47347,     0.47447,     0.47548,     0.47648,     0.47748,     0.47848,     0.47948,\n",
       "           0.48048,     0.48148,     0.48248,     0.48348,     0.48448,     0.48549,     0.48649,     0.48749,     0.48849,     0.48949,     0.49049,     0.49149,     0.49249,     0.49349,     0.49449,      0.4955,      0.4965,      0.4975,      0.4985,      0.4995,      0.5005,      0.5015,      0.5025,      0.5035,\n",
       "            0.5045,     0.50551,     0.50651,     0.50751,     0.50851,     0.50951,     0.51051,     0.51151,     0.51251,     0.51351,     0.51451,     0.51552,     0.51652,     0.51752,     0.51852,     0.51952,     0.52052,     0.52152,     0.52252,     0.52352,     0.52452,     0.52553,     0.52653,     0.52753,\n",
       "           0.52853,     0.52953,     0.53053,     0.53153,     0.53253,     0.53353,     0.53453,     0.53554,     0.53654,     0.53754,     0.53854,     0.53954,     0.54054,     0.54154,     0.54254,     0.54354,     0.54454,     0.54555,     0.54655,     0.54755,     0.54855,     0.54955,     0.55055,     0.55155,\n",
       "           0.55255,     0.55355,     0.55455,     0.55556,     0.55656,     0.55756,     0.55856,     0.55956,     0.56056,     0.56156,     0.56256,     0.56356,     0.56456,     0.56557,     0.56657,     0.56757,     0.56857,     0.56957,     0.57057,     0.57157,     0.57257,     0.57357,     0.57457,     0.57558,\n",
       "           0.57658,     0.57758,     0.57858,     0.57958,     0.58058,     0.58158,     0.58258,     0.58358,     0.58458,     0.58559,     0.58659,     0.58759,     0.58859,     0.58959,     0.59059,     0.59159,     0.59259,     0.59359,     0.59459,      0.5956,      0.5966,      0.5976,      0.5986,      0.5996,\n",
       "            0.6006,      0.6016,      0.6026,      0.6036,      0.6046,     0.60561,     0.60661,     0.60761,     0.60861,     0.60961,     0.61061,     0.61161,     0.61261,     0.61361,     0.61461,     0.61562,     0.61662,     0.61762,     0.61862,     0.61962,     0.62062,     0.62162,     0.62262,     0.62362,\n",
       "           0.62462,     0.62563,     0.62663,     0.62763,     0.62863,     0.62963,     0.63063,     0.63163,     0.63263,     0.63363,     0.63463,     0.63564,     0.63664,     0.63764,     0.63864,     0.63964,     0.64064,     0.64164,     0.64264,     0.64364,     0.64464,     0.64565,     0.64665,     0.64765,\n",
       "           0.64865,     0.64965,     0.65065,     0.65165,     0.65265,     0.65365,     0.65465,     0.65566,     0.65666,     0.65766,     0.65866,     0.65966,     0.66066,     0.66166,     0.66266,     0.66366,     0.66466,     0.66567,     0.66667,     0.66767,     0.66867,     0.66967,     0.67067,     0.67167,\n",
       "           0.67267,     0.67367,     0.67467,     0.67568,     0.67668,     0.67768,     0.67868,     0.67968,     0.68068,     0.68168,     0.68268,     0.68368,     0.68468,     0.68569,     0.68669,     0.68769,     0.68869,     0.68969,     0.69069,     0.69169,     0.69269,     0.69369,     0.69469,      0.6957,\n",
       "            0.6967,      0.6977,      0.6987,      0.6997,      0.7007,      0.7017,      0.7027,      0.7037,      0.7047,     0.70571,     0.70671,     0.70771,     0.70871,     0.70971,     0.71071,     0.71171,     0.71271,     0.71371,     0.71471,     0.71572,     0.71672,     0.71772,     0.71872,     0.71972,\n",
       "           0.72072,     0.72172,     0.72272,     0.72372,     0.72472,     0.72573,     0.72673,     0.72773,     0.72873,     0.72973,     0.73073,     0.73173,     0.73273,     0.73373,     0.73473,     0.73574,     0.73674,     0.73774,     0.73874,     0.73974,     0.74074,     0.74174,     0.74274,     0.74374,\n",
       "           0.74474,     0.74575,     0.74675,     0.74775,     0.74875,     0.74975,     0.75075,     0.75175,     0.75275,     0.75375,     0.75475,     0.75576,     0.75676,     0.75776,     0.75876,     0.75976,     0.76076,     0.76176,     0.76276,     0.76376,     0.76476,     0.76577,     0.76677,     0.76777,\n",
       "           0.76877,     0.76977,     0.77077,     0.77177,     0.77277,     0.77377,     0.77477,     0.77578,     0.77678,     0.77778,     0.77878,     0.77978,     0.78078,     0.78178,     0.78278,     0.78378,     0.78478,     0.78579,     0.78679,     0.78779,     0.78879,     0.78979,     0.79079,     0.79179,\n",
       "           0.79279,     0.79379,     0.79479,      0.7958,      0.7968,      0.7978,      0.7988,      0.7998,      0.8008,      0.8018,      0.8028,      0.8038,      0.8048,     0.80581,     0.80681,     0.80781,     0.80881,     0.80981,     0.81081,     0.81181,     0.81281,     0.81381,     0.81481,     0.81582,\n",
       "           0.81682,     0.81782,     0.81882,     0.81982,     0.82082,     0.82182,     0.82282,     0.82382,     0.82482,     0.82583,     0.82683,     0.82783,     0.82883,     0.82983,     0.83083,     0.83183,     0.83283,     0.83383,     0.83483,     0.83584,     0.83684,     0.83784,     0.83884,     0.83984,\n",
       "           0.84084,     0.84184,     0.84284,     0.84384,     0.84484,     0.84585,     0.84685,     0.84785,     0.84885,     0.84985,     0.85085,     0.85185,     0.85285,     0.85385,     0.85485,     0.85586,     0.85686,     0.85786,     0.85886,     0.85986,     0.86086,     0.86186,     0.86286,     0.86386,\n",
       "           0.86486,     0.86587,     0.86687,     0.86787,     0.86887,     0.86987,     0.87087,     0.87187,     0.87287,     0.87387,     0.87487,     0.87588,     0.87688,     0.87788,     0.87888,     0.87988,     0.88088,     0.88188,     0.88288,     0.88388,     0.88488,     0.88589,     0.88689,     0.88789,\n",
       "           0.88889,     0.88989,     0.89089,     0.89189,     0.89289,     0.89389,     0.89489,      0.8959,      0.8969,      0.8979,      0.8989,      0.8999,      0.9009,      0.9019,      0.9029,      0.9039,      0.9049,     0.90591,     0.90691,     0.90791,     0.90891,     0.90991,     0.91091,     0.91191,\n",
       "           0.91291,     0.91391,     0.91491,     0.91592,     0.91692,     0.91792,     0.91892,     0.91992,     0.92092,     0.92192,     0.92292,     0.92392,     0.92492,     0.92593,     0.92693,     0.92793,     0.92893,     0.92993,     0.93093,     0.93193,     0.93293,     0.93393,     0.93493,     0.93594,\n",
       "           0.93694,     0.93794,     0.93894,     0.93994,     0.94094,     0.94194,     0.94294,     0.94394,     0.94494,     0.94595,     0.94695,     0.94795,     0.94895,     0.94995,     0.95095,     0.95195,     0.95295,     0.95395,     0.95495,     0.95596,     0.95696,     0.95796,     0.95896,     0.95996,\n",
       "           0.96096,     0.96196,     0.96296,     0.96396,     0.96496,     0.96597,     0.96697,     0.96797,     0.96897,     0.96997,     0.97097,     0.97197,     0.97297,     0.97397,     0.97497,     0.97598,     0.97698,     0.97798,     0.97898,     0.97998,     0.98098,     0.98198,     0.98298,     0.98398,\n",
       "           0.98498,     0.98599,     0.98699,     0.98799,     0.98899,     0.98999,     0.99099,     0.99199,     0.99299,     0.99399,     0.99499,       0.996,       0.997,       0.998,       0.999,           1]), array([[    0.55786,     0.55786,     0.63823,     0.67518,     0.70207,     0.72255,     0.73812,     0.75263,     0.76578,      0.7761,     0.78326,     0.79081,     0.79736,     0.80187,     0.80668,     0.81301,     0.81553,     0.81914,     0.82396,     0.82858,     0.83165,     0.83589,     0.83927,\n",
       "            0.84178,     0.84315,     0.84514,     0.84629,     0.84872,     0.85126,     0.85256,     0.85528,     0.85723,     0.85969,     0.85988,     0.86166,      0.8629,     0.86387,     0.86488,     0.86708,     0.86737,     0.86859,     0.86998,     0.87092,     0.87184,      0.8724,     0.87371,\n",
       "            0.87481,     0.87527,     0.87614,     0.87719,     0.87879,     0.87962,     0.88023,      0.8815,     0.88263,     0.88324,     0.88415,     0.88488,     0.88562,     0.88674,     0.88701,     0.88939,     0.88997,     0.89071,     0.89122,     0.89172,     0.89207,     0.89275,      0.8936,\n",
       "            0.89417,     0.89465,     0.89588,     0.89658,     0.89706,      0.8973,     0.89805,     0.89832,     0.89923,     0.89979,     0.90091,     0.90164,     0.90284,      0.9039,     0.90473,     0.90524,     0.90591,     0.90639,     0.90747,     0.90817,     0.90897,     0.90942,     0.90958,\n",
       "            0.91061,     0.91146,     0.91196,      0.9123,      0.9128,      0.9129,       0.913,     0.91311,      0.9133,      0.9138,      0.9141,     0.91424,     0.91451,     0.91477,     0.91585,     0.91638,     0.91678,     0.91703,     0.91751,     0.91787,     0.91894,     0.91943,     0.91973,\n",
       "            0.92007,     0.92024,     0.92065,     0.92068,     0.92101,     0.92123,     0.92134,     0.92144,     0.92166,     0.92245,     0.92259,     0.92276,     0.92315,     0.92344,     0.92387,     0.92416,     0.92418,     0.92433,     0.92489,     0.92506,     0.92504,     0.92551,     0.92573,\n",
       "            0.92628,     0.92643,     0.92661,     0.92686,     0.92695,     0.92704,     0.92714,     0.92774,     0.92781,     0.92788,     0.92794,     0.92801,     0.92842,     0.92856,      0.9287,     0.92883,     0.92896,     0.92915,      0.9294,     0.92962,     0.92977,     0.92998,     0.93038,\n",
       "            0.93065,      0.9311,     0.93125,     0.93142,     0.93231,     0.93293,     0.93308,     0.93332,     0.93346,     0.93345,     0.93345,     0.93344,     0.93388,     0.93406,     0.93416,     0.93425,     0.93435,     0.93445,     0.93454,     0.93464,      0.9348,     0.93497,     0.93504,\n",
       "            0.93512,     0.93519,     0.93527,     0.93595,     0.93616,      0.9364,     0.93649,     0.93646,     0.93678,     0.93686,     0.93693,       0.937,     0.93708,     0.93768,     0.93767,     0.93767,     0.93829,     0.93835,      0.9384,     0.93846,     0.93851,     0.93857,     0.93873,\n",
       "            0.93897,     0.93924,     0.93951,     0.93969,      0.9399,      0.9401,     0.94022,     0.94038,     0.94072,     0.94078,     0.94084,      0.9409,     0.94096,     0.94111,     0.94161,     0.94193,     0.94201,     0.94208,     0.94216,     0.94222,     0.94221,     0.94238,     0.94251,\n",
       "            0.94256,     0.94265,     0.94274,     0.94282,     0.94286,      0.9429,     0.94294,     0.94298,     0.94302,     0.94306,      0.9431,     0.94323,     0.94345,     0.94366,     0.94381,     0.94392,     0.94402,     0.94434,     0.94501,      0.9451,     0.94519,     0.94527,     0.94564,\n",
       "            0.94567,      0.9457,     0.94573,     0.94576,     0.94579,     0.94582,     0.94585,     0.94588,     0.94591,     0.94594,     0.94609,     0.94623,     0.94656,     0.94662,     0.94669,     0.94676,     0.94683,     0.94728,      0.9475,     0.94793,     0.94811,      0.9481,      0.9481,\n",
       "            0.94823,     0.94836,     0.94844,      0.9485,     0.94856,     0.94862,     0.94868,     0.94872,     0.94871,     0.94871,      0.9487,     0.94884,     0.94902,     0.94901,     0.94901,       0.949,     0.94904,     0.94912,     0.94919,     0.94927,     0.94931,      0.9493,     0.94932,\n",
       "            0.94936,     0.94941,     0.94945,     0.94949,     0.94953,     0.94957,     0.94976,     0.94998,     0.95007,     0.95016,     0.95025,     0.95033,      0.9504,     0.95048,     0.95059,     0.95098,     0.95122,     0.95131,     0.95141,      0.9515,     0.95153,     0.95156,     0.95159,\n",
       "            0.95162,     0.95165,     0.95168,     0.95171,     0.95174,     0.95176,     0.95179,     0.95182,     0.95182,     0.95182,     0.95181,     0.95181,     0.95181,     0.95183,     0.95185,     0.95188,     0.95191,     0.95193,     0.95196,     0.95198,     0.95201,     0.95203,     0.95206,\n",
       "            0.95209,     0.95211,     0.95263,     0.95282,     0.95291,       0.953,     0.95309,     0.95316,     0.95323,      0.9533,     0.95338,      0.9534,      0.9534,      0.9534,      0.9534,      0.9534,      0.9534,     0.95339,     0.95339,     0.95339,     0.95339,     0.95339,     0.95339,\n",
       "            0.95347,     0.95356,     0.95364,      0.9538,     0.95434,     0.95432,     0.95434,     0.95439,     0.95443,     0.95447,     0.95452,     0.95456,     0.95461,     0.95468,     0.95485,     0.95528,     0.95527,     0.95526,     0.95529,     0.95534,      0.9554,     0.95546,     0.95552,\n",
       "            0.95558,     0.95589,     0.95589,     0.95608,     0.95655,     0.95664,     0.95672,      0.9568,     0.95684,     0.95684,     0.95684,     0.95683,     0.95683,     0.95689,     0.95696,     0.95703,      0.9571,     0.95722,     0.95748,     0.95752,     0.95756,      0.9576,     0.95764,\n",
       "            0.95767,     0.95771,     0.95775,     0.95779,     0.95779,     0.95784,     0.95793,     0.95801,     0.95809,     0.95816,     0.95821,     0.95827,     0.95833,     0.95839,     0.95881,     0.95907,     0.95906,     0.95906,     0.95906,     0.95906,     0.95905,     0.95908,     0.95915,\n",
       "            0.95922,     0.95929,     0.95936,     0.95937,     0.95936,     0.95936,     0.95936,     0.95936,     0.95936,     0.95935,     0.95935,     0.95935,     0.95935,     0.95943,     0.95952,      0.9596,     0.95969,     0.95988,     0.96003,     0.96009,     0.96016,     0.96023,     0.96029,\n",
       "            0.96032,     0.96032,     0.96032,     0.96031,      0.9603,     0.96035,     0.96043,     0.96052,      0.9606,     0.96062,     0.96061,     0.96093,     0.96093,     0.96093,     0.96092,     0.96092,     0.96092,     0.96091,     0.96123,     0.96122,     0.96122,     0.96121,     0.96121,\n",
       "            0.96121,     0.96129,     0.96137,     0.96146,     0.96152,     0.96155,     0.96171,     0.96193,     0.96216,     0.96218,     0.96226,     0.96235,     0.96243,     0.96248,     0.96248,     0.96248,     0.96247,     0.96247,     0.96246,     0.96246,     0.96245,     0.96244,     0.96244,\n",
       "            0.96243,     0.96243,     0.96242,     0.96242,     0.96241,     0.96241,     0.96241,     0.96241,     0.96239,     0.96247,     0.96255,     0.96263,     0.96272,      0.9627,     0.96269,     0.96268,     0.96268,     0.96285,     0.96304,     0.96334,     0.96343,     0.96351,      0.9636,\n",
       "            0.96401,      0.9641,     0.96418,     0.96427,     0.96471,     0.96488,     0.96503,     0.96514,     0.96525,     0.96547,     0.96564,     0.96563,      0.9658,     0.96605,     0.96622,     0.96629,     0.96628,     0.96628,     0.96633,     0.96642,      0.9665,     0.96659,     0.96673,\n",
       "             0.9669,     0.96692,     0.96702,     0.96713,     0.96724,     0.96725,     0.96725,     0.96724,     0.96766,     0.96783,       0.968,     0.96817,     0.96857,     0.96857,     0.96898,     0.96909,      0.9692,     0.96957,     0.96957,     0.96956,     0.96956,     0.96955,     0.96984,\n",
       "            0.97018,     0.97022,     0.97021,     0.97021,      0.9702,     0.97036,     0.97053,     0.97053,     0.97052,     0.97052,     0.97052,     0.97052,     0.97052,     0.97052,     0.97132,     0.97149,     0.97166,     0.97183,     0.97185,     0.97185,     0.97193,     0.97203,     0.97213,\n",
       "            0.97234,     0.97255,     0.97261,     0.97266,     0.97272,     0.97278,     0.97284,     0.97286,     0.97285,      0.9732,     0.97328,     0.97337,     0.97346,     0.97352,     0.97351,     0.97396,     0.97418,     0.97416,     0.97416,     0.97416,     0.97416,     0.97415,     0.97416,\n",
       "            0.97433,     0.97449,     0.97448,     0.97448,     0.97447,     0.97447,     0.97446,     0.97446,     0.97479,     0.97479,     0.97479,     0.97478,     0.97478,     0.97478,     0.97477,     0.97476,     0.97475,     0.97475,     0.97473,     0.97473,     0.97472,      0.9747,     0.97469,\n",
       "            0.97468,     0.97468,     0.97467,     0.97465,     0.97464,     0.97464,     0.97463,     0.97459,     0.97459,     0.97458,     0.97458,     0.97488,     0.97491,     0.97491,     0.97488,     0.97488,     0.97487,     0.97487,     0.97529,     0.97543,     0.97556,     0.97553,     0.97553,\n",
       "            0.97551,     0.97549,     0.97548,     0.97547,     0.97581,     0.97579,     0.97578,     0.97576,     0.97575,     0.97574,     0.97573,     0.97572,     0.97572,     0.97569,     0.97568,     0.97564,     0.97567,     0.97595,     0.97593,     0.97593,     0.97599,     0.97627,     0.97626,\n",
       "            0.97625,     0.97625,     0.97624,     0.97621,     0.97621,      0.9762,     0.97617,     0.97648,     0.97683,     0.97683,     0.97681,     0.97681,     0.97679,     0.97678,     0.97677,     0.97677,     0.97676,     0.97672,     0.97732,     0.97738,     0.97735,     0.97734,     0.97732,\n",
       "             0.9773,     0.97765,     0.97808,     0.97833,     0.97833,     0.97833,     0.97833,     0.97867,     0.97861,      0.9786,     0.97857,     0.97855,     0.97852,     0.97849,     0.97874,     0.97918,     0.97915,     0.97913,      0.9791,     0.97909,     0.97909,     0.97942,     0.97975,\n",
       "            0.97976,     0.97972,     0.98006,     0.98005,     0.98002,     0.98001,        0.98,        0.98,     0.98034,     0.98033,     0.98031,     0.98102,       0.981,     0.98098,     0.98095,     0.98093,     0.98089,     0.98086,     0.98113,      0.9812,     0.98116,     0.98115,      0.9811,\n",
       "            0.98107,     0.98105,     0.98103,     0.98101,       0.981,     0.98098,     0.98097,     0.98096,     0.98095,     0.98095,     0.98092,     0.98091,     0.98091,     0.98128,     0.98125,     0.98121,     0.98156,     0.98153,     0.98149,     0.98147,      0.9818,     0.98218,     0.98212,\n",
       "            0.98208,     0.98207,     0.98202,       0.982,     0.98198,     0.98195,     0.98273,     0.98271,     0.98269,     0.98268,     0.98265,     0.98263,     0.98256,      0.9833,     0.98329,     0.98322,     0.98317,     0.98392,     0.98388,     0.98384,     0.98382,     0.98374,     0.98371,\n",
       "            0.98367,     0.98361,     0.98358,      0.9835,     0.98343,     0.98341,      0.9833,     0.98326,     0.98361,     0.98355,     0.98353,     0.98351,     0.98344,     0.98341,     0.98335,     0.98327,     0.98327,      0.9832,     0.98315,     0.98314,     0.98306,     0.98388,      0.9852,\n",
       "            0.98552,     0.98542,     0.98533,     0.98522,     0.98518,     0.98511,     0.98629,     0.98634,     0.98671,      0.9866,     0.98656,     0.98649,     0.98635,     0.98625,     0.98615,     0.98701,     0.98689,     0.98681,     0.98677,      0.9872,      0.9871,     0.98752,     0.98792,\n",
       "            0.98784,     0.98827,     0.98819,     0.98807,     0.98797,     0.98832,     0.98831,     0.98824,     0.98812,     0.98851,     0.98835,     0.98823,     0.98811,     0.98805,     0.98855,     0.98841,     0.98834,     0.98882,     0.98932,     0.98921,     0.98911,     0.98893,     0.98881,\n",
       "            0.98934,     0.98923,      0.9898,     0.98971,      0.9896,     0.99005,     0.99062,     0.99114,     0.99103,     0.99168,     0.99157,     0.99147,     0.99197,     0.99185,     0.99254,     0.99237,     0.99214,     0.99197,     0.99182,     0.99146,     0.99138,     0.99122,     0.99091,\n",
       "            0.99071,     0.99056,     0.99021,     0.98984,     0.99073,     0.99159,     0.99138,      0.9923,     0.99336,      0.9946,     0.99445,     0.99435,     0.99416,     0.99386,     0.99365,     0.99673,     0.99659,     0.99644,     0.99635,     0.99808,     0.99795,     0.99785,     0.99773,\n",
       "             0.9976,     0.99754,     0.99741,     0.99727,      0.9971,     0.99699,           1,           1,           1,           1,           1,           1,           1,           1,           1,           1,           1,           1,           1,           1,           1,           1,           1,\n",
       "                  1,           1,           1,           1,           1,           1,           1,           1,           1,           1,           1,           1,           1,           1,           1,           1,           1,           1,           1,           1,           1,           1,           1,\n",
       "                  1,           1,           1,           1,           1,           1,           1,           1,           1,           1,           1,           1,           1,           1,           1,           1,           1,           1,           1,           1,           1,           1,           1,\n",
       "                  1,           1,           1,           1,           1,           1,           1,           1,           1,           1,           1]]), 'Confidence', 'Precision'], [array([          0,    0.001001,    0.002002,    0.003003,    0.004004,    0.005005,    0.006006,    0.007007,    0.008008,    0.009009,     0.01001,    0.011011,    0.012012,    0.013013,    0.014014,    0.015015,    0.016016,    0.017017,    0.018018,    0.019019,     0.02002,    0.021021,    0.022022,    0.023023,\n",
       "          0.024024,    0.025025,    0.026026,    0.027027,    0.028028,    0.029029,     0.03003,    0.031031,    0.032032,    0.033033,    0.034034,    0.035035,    0.036036,    0.037037,    0.038038,    0.039039,     0.04004,    0.041041,    0.042042,    0.043043,    0.044044,    0.045045,    0.046046,    0.047047,\n",
       "          0.048048,    0.049049,     0.05005,    0.051051,    0.052052,    0.053053,    0.054054,    0.055055,    0.056056,    0.057057,    0.058058,    0.059059,     0.06006,    0.061061,    0.062062,    0.063063,    0.064064,    0.065065,    0.066066,    0.067067,    0.068068,    0.069069,     0.07007,    0.071071,\n",
       "          0.072072,    0.073073,    0.074074,    0.075075,    0.076076,    0.077077,    0.078078,    0.079079,     0.08008,    0.081081,    0.082082,    0.083083,    0.084084,    0.085085,    0.086086,    0.087087,    0.088088,    0.089089,     0.09009,    0.091091,    0.092092,    0.093093,    0.094094,    0.095095,\n",
       "          0.096096,    0.097097,    0.098098,    0.099099,      0.1001,      0.1011,      0.1021,      0.1031,      0.1041,     0.10511,     0.10611,     0.10711,     0.10811,     0.10911,     0.11011,     0.11111,     0.11211,     0.11311,     0.11411,     0.11512,     0.11612,     0.11712,     0.11812,     0.11912,\n",
       "           0.12012,     0.12112,     0.12212,     0.12312,     0.12412,     0.12513,     0.12613,     0.12713,     0.12813,     0.12913,     0.13013,     0.13113,     0.13213,     0.13313,     0.13413,     0.13514,     0.13614,     0.13714,     0.13814,     0.13914,     0.14014,     0.14114,     0.14214,     0.14314,\n",
       "           0.14414,     0.14515,     0.14615,     0.14715,     0.14815,     0.14915,     0.15015,     0.15115,     0.15215,     0.15315,     0.15415,     0.15516,     0.15616,     0.15716,     0.15816,     0.15916,     0.16016,     0.16116,     0.16216,     0.16316,     0.16416,     0.16517,     0.16617,     0.16717,\n",
       "           0.16817,     0.16917,     0.17017,     0.17117,     0.17217,     0.17317,     0.17417,     0.17518,     0.17618,     0.17718,     0.17818,     0.17918,     0.18018,     0.18118,     0.18218,     0.18318,     0.18418,     0.18519,     0.18619,     0.18719,     0.18819,     0.18919,     0.19019,     0.19119,\n",
       "           0.19219,     0.19319,     0.19419,      0.1952,      0.1962,      0.1972,      0.1982,      0.1992,      0.2002,      0.2012,      0.2022,      0.2032,      0.2042,     0.20521,     0.20621,     0.20721,     0.20821,     0.20921,     0.21021,     0.21121,     0.21221,     0.21321,     0.21421,     0.21522,\n",
       "           0.21622,     0.21722,     0.21822,     0.21922,     0.22022,     0.22122,     0.22222,     0.22322,     0.22422,     0.22523,     0.22623,     0.22723,     0.22823,     0.22923,     0.23023,     0.23123,     0.23223,     0.23323,     0.23423,     0.23524,     0.23624,     0.23724,     0.23824,     0.23924,\n",
       "           0.24024,     0.24124,     0.24224,     0.24324,     0.24424,     0.24525,     0.24625,     0.24725,     0.24825,     0.24925,     0.25025,     0.25125,     0.25225,     0.25325,     0.25425,     0.25526,     0.25626,     0.25726,     0.25826,     0.25926,     0.26026,     0.26126,     0.26226,     0.26326,\n",
       "           0.26426,     0.26527,     0.26627,     0.26727,     0.26827,     0.26927,     0.27027,     0.27127,     0.27227,     0.27327,     0.27427,     0.27528,     0.27628,     0.27728,     0.27828,     0.27928,     0.28028,     0.28128,     0.28228,     0.28328,     0.28428,     0.28529,     0.28629,     0.28729,\n",
       "           0.28829,     0.28929,     0.29029,     0.29129,     0.29229,     0.29329,     0.29429,      0.2953,      0.2963,      0.2973,      0.2983,      0.2993,      0.3003,      0.3013,      0.3023,      0.3033,      0.3043,     0.30531,     0.30631,     0.30731,     0.30831,     0.30931,     0.31031,     0.31131,\n",
       "           0.31231,     0.31331,     0.31431,     0.31532,     0.31632,     0.31732,     0.31832,     0.31932,     0.32032,     0.32132,     0.32232,     0.32332,     0.32432,     0.32533,     0.32633,     0.32733,     0.32833,     0.32933,     0.33033,     0.33133,     0.33233,     0.33333,     0.33433,     0.33534,\n",
       "           0.33634,     0.33734,     0.33834,     0.33934,     0.34034,     0.34134,     0.34234,     0.34334,     0.34434,     0.34535,     0.34635,     0.34735,     0.34835,     0.34935,     0.35035,     0.35135,     0.35235,     0.35335,     0.35435,     0.35536,     0.35636,     0.35736,     0.35836,     0.35936,\n",
       "           0.36036,     0.36136,     0.36236,     0.36336,     0.36436,     0.36537,     0.36637,     0.36737,     0.36837,     0.36937,     0.37037,     0.37137,     0.37237,     0.37337,     0.37437,     0.37538,     0.37638,     0.37738,     0.37838,     0.37938,     0.38038,     0.38138,     0.38238,     0.38338,\n",
       "           0.38438,     0.38539,     0.38639,     0.38739,     0.38839,     0.38939,     0.39039,     0.39139,     0.39239,     0.39339,     0.39439,      0.3954,      0.3964,      0.3974,      0.3984,      0.3994,      0.4004,      0.4014,      0.4024,      0.4034,      0.4044,     0.40541,     0.40641,     0.40741,\n",
       "           0.40841,     0.40941,     0.41041,     0.41141,     0.41241,     0.41341,     0.41441,     0.41542,     0.41642,     0.41742,     0.41842,     0.41942,     0.42042,     0.42142,     0.42242,     0.42342,     0.42442,     0.42543,     0.42643,     0.42743,     0.42843,     0.42943,     0.43043,     0.43143,\n",
       "           0.43243,     0.43343,     0.43443,     0.43544,     0.43644,     0.43744,     0.43844,     0.43944,     0.44044,     0.44144,     0.44244,     0.44344,     0.44444,     0.44545,     0.44645,     0.44745,     0.44845,     0.44945,     0.45045,     0.45145,     0.45245,     0.45345,     0.45445,     0.45546,\n",
       "           0.45646,     0.45746,     0.45846,     0.45946,     0.46046,     0.46146,     0.46246,     0.46346,     0.46446,     0.46547,     0.46647,     0.46747,     0.46847,     0.46947,     0.47047,     0.47147,     0.47247,     0.47347,     0.47447,     0.47548,     0.47648,     0.47748,     0.47848,     0.47948,\n",
       "           0.48048,     0.48148,     0.48248,     0.48348,     0.48448,     0.48549,     0.48649,     0.48749,     0.48849,     0.48949,     0.49049,     0.49149,     0.49249,     0.49349,     0.49449,      0.4955,      0.4965,      0.4975,      0.4985,      0.4995,      0.5005,      0.5015,      0.5025,      0.5035,\n",
       "            0.5045,     0.50551,     0.50651,     0.50751,     0.50851,     0.50951,     0.51051,     0.51151,     0.51251,     0.51351,     0.51451,     0.51552,     0.51652,     0.51752,     0.51852,     0.51952,     0.52052,     0.52152,     0.52252,     0.52352,     0.52452,     0.52553,     0.52653,     0.52753,\n",
       "           0.52853,     0.52953,     0.53053,     0.53153,     0.53253,     0.53353,     0.53453,     0.53554,     0.53654,     0.53754,     0.53854,     0.53954,     0.54054,     0.54154,     0.54254,     0.54354,     0.54454,     0.54555,     0.54655,     0.54755,     0.54855,     0.54955,     0.55055,     0.55155,\n",
       "           0.55255,     0.55355,     0.55455,     0.55556,     0.55656,     0.55756,     0.55856,     0.55956,     0.56056,     0.56156,     0.56256,     0.56356,     0.56456,     0.56557,     0.56657,     0.56757,     0.56857,     0.56957,     0.57057,     0.57157,     0.57257,     0.57357,     0.57457,     0.57558,\n",
       "           0.57658,     0.57758,     0.57858,     0.57958,     0.58058,     0.58158,     0.58258,     0.58358,     0.58458,     0.58559,     0.58659,     0.58759,     0.58859,     0.58959,     0.59059,     0.59159,     0.59259,     0.59359,     0.59459,      0.5956,      0.5966,      0.5976,      0.5986,      0.5996,\n",
       "            0.6006,      0.6016,      0.6026,      0.6036,      0.6046,     0.60561,     0.60661,     0.60761,     0.60861,     0.60961,     0.61061,     0.61161,     0.61261,     0.61361,     0.61461,     0.61562,     0.61662,     0.61762,     0.61862,     0.61962,     0.62062,     0.62162,     0.62262,     0.62362,\n",
       "           0.62462,     0.62563,     0.62663,     0.62763,     0.62863,     0.62963,     0.63063,     0.63163,     0.63263,     0.63363,     0.63463,     0.63564,     0.63664,     0.63764,     0.63864,     0.63964,     0.64064,     0.64164,     0.64264,     0.64364,     0.64464,     0.64565,     0.64665,     0.64765,\n",
       "           0.64865,     0.64965,     0.65065,     0.65165,     0.65265,     0.65365,     0.65465,     0.65566,     0.65666,     0.65766,     0.65866,     0.65966,     0.66066,     0.66166,     0.66266,     0.66366,     0.66466,     0.66567,     0.66667,     0.66767,     0.66867,     0.66967,     0.67067,     0.67167,\n",
       "           0.67267,     0.67367,     0.67467,     0.67568,     0.67668,     0.67768,     0.67868,     0.67968,     0.68068,     0.68168,     0.68268,     0.68368,     0.68468,     0.68569,     0.68669,     0.68769,     0.68869,     0.68969,     0.69069,     0.69169,     0.69269,     0.69369,     0.69469,      0.6957,\n",
       "            0.6967,      0.6977,      0.6987,      0.6997,      0.7007,      0.7017,      0.7027,      0.7037,      0.7047,     0.70571,     0.70671,     0.70771,     0.70871,     0.70971,     0.71071,     0.71171,     0.71271,     0.71371,     0.71471,     0.71572,     0.71672,     0.71772,     0.71872,     0.71972,\n",
       "           0.72072,     0.72172,     0.72272,     0.72372,     0.72472,     0.72573,     0.72673,     0.72773,     0.72873,     0.72973,     0.73073,     0.73173,     0.73273,     0.73373,     0.73473,     0.73574,     0.73674,     0.73774,     0.73874,     0.73974,     0.74074,     0.74174,     0.74274,     0.74374,\n",
       "           0.74474,     0.74575,     0.74675,     0.74775,     0.74875,     0.74975,     0.75075,     0.75175,     0.75275,     0.75375,     0.75475,     0.75576,     0.75676,     0.75776,     0.75876,     0.75976,     0.76076,     0.76176,     0.76276,     0.76376,     0.76476,     0.76577,     0.76677,     0.76777,\n",
       "           0.76877,     0.76977,     0.77077,     0.77177,     0.77277,     0.77377,     0.77477,     0.77578,     0.77678,     0.77778,     0.77878,     0.77978,     0.78078,     0.78178,     0.78278,     0.78378,     0.78478,     0.78579,     0.78679,     0.78779,     0.78879,     0.78979,     0.79079,     0.79179,\n",
       "           0.79279,     0.79379,     0.79479,      0.7958,      0.7968,      0.7978,      0.7988,      0.7998,      0.8008,      0.8018,      0.8028,      0.8038,      0.8048,     0.80581,     0.80681,     0.80781,     0.80881,     0.80981,     0.81081,     0.81181,     0.81281,     0.81381,     0.81481,     0.81582,\n",
       "           0.81682,     0.81782,     0.81882,     0.81982,     0.82082,     0.82182,     0.82282,     0.82382,     0.82482,     0.82583,     0.82683,     0.82783,     0.82883,     0.82983,     0.83083,     0.83183,     0.83283,     0.83383,     0.83483,     0.83584,     0.83684,     0.83784,     0.83884,     0.83984,\n",
       "           0.84084,     0.84184,     0.84284,     0.84384,     0.84484,     0.84585,     0.84685,     0.84785,     0.84885,     0.84985,     0.85085,     0.85185,     0.85285,     0.85385,     0.85485,     0.85586,     0.85686,     0.85786,     0.85886,     0.85986,     0.86086,     0.86186,     0.86286,     0.86386,\n",
       "           0.86486,     0.86587,     0.86687,     0.86787,     0.86887,     0.86987,     0.87087,     0.87187,     0.87287,     0.87387,     0.87487,     0.87588,     0.87688,     0.87788,     0.87888,     0.87988,     0.88088,     0.88188,     0.88288,     0.88388,     0.88488,     0.88589,     0.88689,     0.88789,\n",
       "           0.88889,     0.88989,     0.89089,     0.89189,     0.89289,     0.89389,     0.89489,      0.8959,      0.8969,      0.8979,      0.8989,      0.8999,      0.9009,      0.9019,      0.9029,      0.9039,      0.9049,     0.90591,     0.90691,     0.90791,     0.90891,     0.90991,     0.91091,     0.91191,\n",
       "           0.91291,     0.91391,     0.91491,     0.91592,     0.91692,     0.91792,     0.91892,     0.91992,     0.92092,     0.92192,     0.92292,     0.92392,     0.92492,     0.92593,     0.92693,     0.92793,     0.92893,     0.92993,     0.93093,     0.93193,     0.93293,     0.93393,     0.93493,     0.93594,\n",
       "           0.93694,     0.93794,     0.93894,     0.93994,     0.94094,     0.94194,     0.94294,     0.94394,     0.94494,     0.94595,     0.94695,     0.94795,     0.94895,     0.94995,     0.95095,     0.95195,     0.95295,     0.95395,     0.95495,     0.95596,     0.95696,     0.95796,     0.95896,     0.95996,\n",
       "           0.96096,     0.96196,     0.96296,     0.96396,     0.96496,     0.96597,     0.96697,     0.96797,     0.96897,     0.96997,     0.97097,     0.97197,     0.97297,     0.97397,     0.97497,     0.97598,     0.97698,     0.97798,     0.97898,     0.97998,     0.98098,     0.98198,     0.98298,     0.98398,\n",
       "           0.98498,     0.98599,     0.98699,     0.98799,     0.98899,     0.98999,     0.99099,     0.99199,     0.99299,     0.99399,     0.99499,       0.996,       0.997,       0.998,       0.999,           1]), array([[    0.98342,     0.98342,     0.98241,     0.98173,     0.98139,     0.98038,      0.9797,     0.97903,     0.97869,     0.97835,     0.97801,     0.97767,       0.977,       0.977,     0.97666,     0.97666,     0.97666,     0.97666,     0.97666,     0.97598,     0.97598,     0.97598,     0.97598,\n",
       "            0.97548,      0.9753,     0.97497,     0.97497,     0.97497,     0.97463,     0.97463,     0.97429,     0.97395,     0.97395,     0.97395,     0.97395,     0.97395,     0.97395,     0.97395,     0.97395,     0.97395,     0.97395,     0.97395,     0.97395,     0.97395,     0.97373,     0.97327,\n",
       "            0.97327,     0.97294,     0.97294,     0.97294,     0.97294,     0.97294,     0.97294,     0.97294,     0.97294,      0.9726,      0.9726,      0.9726,     0.97226,     0.97226,     0.97197,     0.97192,     0.97158,     0.97158,     0.97158,     0.97158,     0.97158,     0.97158,     0.97158,\n",
       "            0.97158,     0.97158,     0.97158,     0.97158,     0.97158,     0.97158,     0.97147,     0.97091,     0.97057,     0.97057,     0.97057,     0.97057,     0.97057,     0.97057,     0.97057,     0.97057,     0.97057,     0.97057,     0.97057,     0.97029,     0.97023,     0.97023,     0.97023,\n",
       "            0.97023,     0.97023,     0.97023,     0.97023,     0.97023,     0.97023,     0.97023,     0.97023,     0.97023,     0.97023,     0.97023,     0.96989,     0.96989,     0.96989,     0.96989,     0.96989,     0.96989,     0.96989,     0.96989,     0.96989,     0.96989,     0.96989,     0.96989,\n",
       "            0.96958,     0.96955,      0.9695,     0.96922,     0.96922,     0.96922,     0.96922,     0.96922,     0.96922,     0.96922,     0.96922,     0.96922,     0.96922,     0.96922,     0.96922,     0.96922,     0.96899,     0.96888,     0.96888,     0.96875,     0.96856,     0.96854,     0.96854,\n",
       "            0.96854,     0.96854,     0.96854,     0.96854,     0.96854,     0.96854,     0.96854,     0.96854,     0.96854,     0.96854,     0.96854,     0.96854,     0.96854,     0.96854,     0.96854,     0.96854,     0.96854,     0.96854,     0.96854,     0.96854,     0.96854,     0.96854,     0.96854,\n",
       "            0.96854,     0.96854,     0.96854,      0.9682,      0.9682,      0.9682,      0.9682,      0.9682,     0.96815,     0.96806,     0.96798,     0.96789,     0.96786,     0.96786,     0.96786,     0.96786,     0.96786,     0.96786,     0.96786,     0.96786,     0.96786,     0.96786,     0.96786,\n",
       "            0.96786,     0.96786,     0.96786,     0.96786,     0.96786,     0.96786,     0.96772,     0.96731,     0.96719,     0.96719,     0.96719,     0.96719,     0.96719,     0.96718,     0.96702,     0.96687,     0.96685,     0.96685,     0.96685,     0.96685,     0.96685,     0.96685,     0.96685,\n",
       "            0.96685,     0.96685,     0.96651,     0.96651,     0.96651,     0.96635,     0.96617,     0.96617,     0.96583,     0.96583,     0.96583,     0.96583,     0.96583,     0.96583,     0.96562,     0.96549,     0.96549,     0.96549,     0.96549,     0.96546,      0.9652,     0.96516,     0.96496,\n",
       "            0.96482,     0.96482,     0.96482,     0.96482,     0.96482,     0.96482,     0.96482,     0.96482,     0.96482,     0.96482,     0.96482,     0.96482,     0.96482,     0.96482,     0.96482,     0.96482,     0.96482,     0.96482,     0.96482,     0.96482,     0.96482,     0.96482,     0.96482,\n",
       "            0.96482,     0.96482,     0.96482,     0.96482,     0.96482,     0.96482,     0.96482,     0.96482,     0.96482,     0.96482,     0.96482,     0.96482,     0.96448,     0.96448,     0.96448,     0.96448,     0.96448,     0.96448,     0.96448,     0.96448,     0.96428,       0.964,      0.9638,\n",
       "             0.9638,      0.9638,      0.9638,      0.9638,      0.9638,      0.9638,      0.9638,     0.96377,     0.96369,      0.9636,     0.96351,     0.96346,     0.96343,     0.96334,     0.96325,     0.96317,     0.96313,     0.96313,     0.96313,     0.96313,     0.96303,      0.9628,     0.96245,\n",
       "            0.96245,     0.96245,     0.96245,     0.96245,     0.96245,     0.96245,     0.96245,     0.96245,     0.96245,     0.96245,     0.96245,     0.96245,     0.96245,     0.96245,     0.96245,     0.96245,     0.96245,     0.96245,     0.96245,     0.96245,     0.96245,     0.96245,     0.96245,\n",
       "            0.96245,     0.96245,     0.96245,     0.96245,     0.96245,     0.96245,     0.96245,     0.96245,     0.96238,     0.96232,     0.96225,     0.96219,     0.96212,     0.96211,     0.96211,     0.96211,     0.96211,     0.96211,     0.96211,     0.96211,     0.96211,     0.96211,     0.96211,\n",
       "            0.96211,     0.96211,     0.96211,     0.96211,     0.96211,     0.96211,     0.96211,     0.96211,     0.96211,     0.96211,     0.96211,     0.96209,     0.96206,     0.96203,     0.96201,     0.96198,     0.96195,     0.96192,     0.96189,     0.96186,     0.96183,      0.9618,     0.96177,\n",
       "            0.96177,     0.96177,     0.96177,     0.96177,     0.96167,     0.96128,      0.9611,      0.9611,      0.9611,      0.9611,      0.9611,      0.9611,      0.9611,      0.9611,      0.9611,     0.96104,     0.96087,     0.96058,     0.96042,     0.96042,     0.96042,     0.96042,     0.96042,\n",
       "            0.96042,      0.9604,     0.96008,     0.96008,     0.96008,     0.96008,     0.96008,     0.96008,     0.96005,     0.95997,      0.9599,     0.95983,     0.95975,     0.95974,     0.95974,     0.95974,     0.95974,     0.95974,     0.95974,     0.95974,     0.95974,     0.95974,     0.95974,\n",
       "            0.95974,     0.95974,     0.95974,     0.95974,      0.9595,      0.9594,      0.9594,      0.9594,      0.9594,      0.9594,      0.9594,      0.9594,      0.9594,      0.9594,     0.95907,     0.95905,       0.959,     0.95894,     0.95888,     0.95882,     0.95876,     0.95873,     0.95873,\n",
       "            0.95873,     0.95873,     0.95873,      0.9586,     0.95843,     0.95836,     0.95831,     0.95827,     0.95823,     0.95818,     0.95814,      0.9581,     0.95805,     0.95805,     0.95805,     0.95805,     0.95805,     0.95805,     0.95805,     0.95805,     0.95805,     0.95805,     0.95805,\n",
       "            0.95801,     0.95792,     0.95783,     0.95775,     0.95751,     0.95737,     0.95737,     0.95737,     0.95737,     0.95725,     0.95708,     0.95697,     0.95688,      0.9568,     0.95671,      0.9566,     0.95648,     0.95637,     0.95636,     0.95594,     0.95585,     0.95576,     0.95566,\n",
       "            0.95535,     0.95535,     0.95535,     0.95535,     0.95528,     0.95501,     0.95501,     0.95501,     0.95491,     0.95467,     0.95467,     0.95467,     0.95467,     0.95463,     0.95455,     0.95446,     0.95437,     0.95427,     0.95416,     0.95404,     0.95379,     0.95358,     0.95347,\n",
       "            0.95335,      0.9532,     0.95303,     0.95293,     0.95286,     0.95279,     0.95272,     0.95265,     0.95235,      0.9523,      0.9523,      0.9523,      0.9523,     0.95163,     0.95145,     0.95127,     0.95095,     0.95095,     0.95095,     0.95095,     0.95095,     0.95095,     0.95095,\n",
       "            0.95095,     0.95095,     0.95095,     0.95095,     0.95095,     0.95095,     0.95095,     0.95095,     0.95095,     0.95095,     0.95078,     0.95044,     0.95027,     0.95027,     0.95027,      0.9502,     0.95009,     0.94997,     0.94993,     0.94993,     0.94993,     0.94993,     0.94959,\n",
       "            0.94959,     0.94931,     0.94926,     0.94926,     0.94926,     0.94916,     0.94907,     0.94897,     0.94892,     0.94892,     0.94892,     0.94892,     0.94881,     0.94864,     0.94858,     0.94858,     0.94858,      0.9485,     0.94838,     0.94826,      0.9481,     0.94793,      0.9479,\n",
       "             0.9479,     0.94775,     0.94757,      0.9474,     0.94723,     0.94689,     0.94689,     0.94684,     0.94679,     0.94675,      0.9467,     0.94665,     0.94661,     0.94656,     0.94655,     0.94655,     0.94655,     0.94655,     0.94607,      0.9459,     0.94587,     0.94587,     0.94587,\n",
       "            0.94587,     0.94587,     0.94587,     0.94587,     0.94587,     0.94587,     0.94587,     0.94579,     0.94565,      0.9452,      0.9452,      0.9452,      0.9452,      0.9451,     0.94475,     0.94452,      0.9444,     0.94382,     0.94376,     0.94369,     0.94363,     0.94357,      0.9435,\n",
       "             0.9435,     0.94348,     0.94314,     0.94281,     0.94267,     0.94254,     0.94237,      0.9422,      0.9419,     0.94174,     0.94164,     0.94154,     0.94144,     0.94132,     0.94121,     0.94066,     0.94036,     0.94013,     0.93962,     0.93944,     0.93909,     0.93842,     0.93818,\n",
       "            0.93765,     0.93748,     0.93719,     0.93651,     0.93624,     0.93598,     0.93563,     0.93432,     0.93415,     0.93396,     0.93372,     0.93369,     0.93338,     0.93314,     0.93226,     0.93209,     0.93192,     0.93174,     0.93166,     0.93166,     0.93162,     0.93062,     0.93039,\n",
       "            0.92974,     0.92905,     0.92871,     0.92811,     0.92784,      0.9272,     0.92696,     0.92596,     0.92561,     0.92537,     0.92475,     0.92448,     0.92431,      0.9232,     0.92285,     0.92115,     0.92016,     0.91962,     0.91906,     0.91892,     0.91881,     0.91874,      0.9181,\n",
       "            0.91796,     0.91782,     0.91752,     0.91633,     0.91619,     0.91584,     0.91478,     0.91373,      0.9129,     0.91261,     0.91204,     0.91187,     0.91132,     0.91083,     0.91055,      0.9103,     0.90996,     0.90853,     0.90798,     0.90638,     0.90485,      0.9045,     0.90371,\n",
       "            0.90296,     0.90262,     0.90189,     0.90189,     0.90124,     0.90109,     0.90095,     0.90037,     0.89782,     0.89745,     0.89594,     0.89492,     0.89373,     0.89265,     0.89242,       0.891,     0.88963,     0.88886,     0.88742,     0.88721,     0.88704,      0.8857,     0.88566,\n",
       "            0.88416,     0.88265,      0.8816,      0.8807,     0.87945,      0.8792,      0.8787,     0.87835,     0.87716,     0.87676,     0.87596,     0.87443,     0.87333,     0.87255,     0.87102,     0.87023,     0.86813,     0.86693,     0.86671,     0.86506,     0.86305,     0.86267,     0.86046,\n",
       "            0.85927,     0.85824,     0.85746,     0.85654,     0.85585,     0.85484,     0.85461,     0.85397,     0.85374,     0.85357,     0.85208,     0.85177,     0.85153,     0.85104,      0.8499,     0.84798,     0.84649,     0.84475,     0.84307,     0.84203,     0.83965,     0.83896,     0.83642,\n",
       "            0.83419,      0.8337,     0.83145,     0.83037,     0.82938,     0.82825,     0.82756,     0.82688,     0.82593,     0.82551,     0.82387,     0.82279,     0.81978,     0.81901,     0.81636,     0.81277,     0.81024,     0.80734,     0.80547,      0.8031,     0.80239,     0.79797,     0.79681,\n",
       "            0.79456,     0.79189,     0.79013,     0.78639,     0.78324,     0.78196,     0.77696,     0.77516,     0.77142,     0.76848,     0.76766,     0.76663,     0.76338,      0.7622,     0.75914,     0.75575,     0.75552,     0.75232,     0.75027,     0.74945,     0.74584,     0.74312,     0.73884,\n",
       "            0.73666,     0.73157,     0.72715,     0.72172,     0.71961,     0.71627,     0.71211,     0.70846,     0.70337,     0.69741,     0.69555,     0.69182,     0.68436,      0.6796,     0.67451,     0.66807,     0.66196,     0.65793,     0.65584,     0.65244,     0.64735,     0.64226,     0.63649,\n",
       "            0.63207,     0.62698,     0.62291,     0.61646,     0.61137,     0.60589,     0.60085,     0.59711,     0.59067,     0.58185,     0.57406,     0.56795,     0.56221,     0.55946,      0.5547,     0.54792,     0.54486,     0.53875,     0.53265,     0.52722,     0.52213,     0.51365,     0.50822,\n",
       "            0.50212,     0.49703,     0.49261,      0.4882,     0.48277,     0.47125,     0.46446,     0.45396,     0.44853,     0.44344,     0.43767,     0.43258,     0.41802,     0.41157,     0.40513,     0.39598,     0.38446,     0.37632,      0.3692,     0.35362,     0.35022,     0.34378,     0.33192,\n",
       "             0.3248,     0.31937,     0.30785,     0.29667,     0.28921,     0.27904,     0.27226,     0.26142,     0.25294,     0.24921,     0.24242,     0.23801,     0.23021,     0.21903,     0.21191,     0.20614,     0.19767,     0.18919,     0.18478,     0.17597,     0.16445,     0.15699,     0.14885,\n",
       "            0.14072,     0.13698,     0.13019,     0.12341,     0.11629,     0.11221,     0.10949,     0.10406,    0.098969,    0.094555,    0.090478,    0.087417,    0.083002,    0.079264,    0.077217,    0.072464,    0.070079,    0.067694,    0.064294,    0.060556,    0.057156,    0.053756,    0.050018,\n",
       "            0.04425,    0.041527,    0.038465,    0.035065,    0.032004,    0.028942,     0.02791,    0.026202,    0.022464,    0.020079,     0.01837,       0.017,    0.014615,    0.010877,   0.0089821,   0.0074601,   0.0054134,   0.0038823,   0.0026732,   0.0016414,   0.0012181,   0.0009309,  0.00045699,\n",
       "                  0,           0,           0,           0,           0,           0,           0,           0,           0,           0,           0,           0,           0,           0,           0,           0,           0,           0,           0,           0,           0,           0,           0,\n",
       "                  0,           0,           0,           0,           0,           0,           0,           0,           0,           0,           0]]), 'Confidence', 'Recall']]\n",
       "fitness: np.float64(0.7980782857134321)\n",
       "keys: ['metrics/precision(B)', 'metrics/recall(B)', 'metrics/mAP50(B)', 'metrics/mAP50-95(B)']\n",
       "maps: array([    0.77844])\n",
       "names: {0: 'cortante'}\n",
       "plot: True\n",
       "results_dict: {'metrics/precision(B)': np.float64(0.9593513809657341), 'metrics/recall(B)': np.float64(0.9580953479697559), 'metrics/mAP50(B)': np.float64(0.9748217949028373), 'metrics/mAP50-95(B)': np.float64(0.7784401180257204), 'fitness': np.float64(0.7980782857134321)}\n",
       "save_dir: PosixPath('/home/gerdson/projetos/FIAP-Hackathon-Grupo2/runs/detect/train')\n",
       "speed: {'preprocess': 0.0687548346222472, 'inference': 1.71602997654123, 'loss': 9.146819007182603e-05, 'postprocess': 0.3975321420240274}\n",
       "task: 'detect'"
      ]
     },
     "execution_count": 5,
     "metadata": {},
     "output_type": "execute_result"
    }
   ],
   "source": [
    "config = './config.yaml'\n",
    "model.train(data=config,\n",
    "            epochs=100,\n",
    "            patience=8,\n",
    "            batch=32,  # number of images per batch (-1 for AutoBatch)\n",
    "            optimizer=\"AdamW\",\n",
    "            lr0=0.001,\n",
    "            imgsz=640,\n",
    "            workers=8,\n",
    "            pretrained=True,\n",
    "            resume=False,  # resume training from last checkpoint\n",
    "            single_cls=False,  # Whether all classes will be the same (just one class)\n",
    "            # project='runs/detect',  # Default = /home/{user}/Documents/ultralytics/runs\n",
    "            box=7.5,  # More recall, better IoU, less precission, \n",
    "            cls=0.5,  # Bbox class better\n",
    "            dfl=1.5,  # Distribution Focal Loss. Better bbox boundaries\n",
    "            val=True,\n",
    "            # Augmentations\n",
    "            degrees=0.3,\n",
    "            hsv_s=0.3,\n",
    "            hsv_v=0.3,\n",
    "            scale=0.5,\n",
    "            fliplr=0.5\n",
    "            )"
   ]
  },
  {
   "cell_type": "markdown",
   "metadata": {},
   "source": [
    "# Inferência"
   ]
  },
  {
   "cell_type": "code",
   "execution_count": 6,
   "metadata": {},
   "outputs": [],
   "source": [
    "model = YOLO('runs/detect/train/weights/best.pt')"
   ]
  },
  {
   "cell_type": "markdown",
   "metadata": {},
   "source": [
    "## Imagem"
   ]
  },
  {
   "cell_type": "code",
   "execution_count": 7,
   "metadata": {},
   "outputs": [
    {
     "name": "stdout",
     "output_type": "stream",
     "text": [
      "\n",
      "image 1/1 /home/gerdson/projetos/FIAP-Hackathon-Grupo2/assets/faca.png: 640x640 1 cortante, 7.1ms\n",
      "Speed: 1.4ms preprocess, 7.1ms inference, 0.8ms postprocess per image at shape (1, 3, 640, 640)\n",
      "Results saved to \u001b[1m/home/gerdson/projetos/FIAP-Hackathon-Grupo2/runs/detect/predict\u001b[0m\n",
      "1 label saved to /home/gerdson/projetos/FIAP-Hackathon-Grupo2/runs/detect/predict/labels\n"
     ]
    }
   ],
   "source": [
    "results_img = model.predict(source='assets/faca.png',  # image or video; single value or a list; URL, PIL (RGB), CV2 (BGR), ...\n",
    "                        conf=0.25,\n",
    "                        iou=0.7,  # Non-Maximum Supression (NMS)\n",
    "                        imgsz=640,\n",
    "                        show=False,\n",
    "                        save=True,\n",
    "                        save_txt=True,  # Save bbox coordenation\n",
    "                        save_conf=True,  # save_txt must be True\n",
    "                        save_crop=True,\n",
    "                        # project='runs/detect',\n",
    "                        stream=False  # Do inference now (False) or after (True)\n",
    "                        )"
   ]
  },
  {
   "cell_type": "code",
   "execution_count": 8,
   "metadata": {},
   "outputs": [
    {
     "data": {
      "text/plain": [
       "[ultralytics.engine.results.Results object with attributes:\n",
       " \n",
       " boxes: ultralytics.engine.results.Boxes object\n",
       " keypoints: None\n",
       " masks: None\n",
       " names: {0: 'cortante'}\n",
       " obb: None\n",
       " orig_img: array([[[216, 196, 192],\n",
       "         [216, 196, 192],\n",
       "         [216, 196, 192],\n",
       "         ...,\n",
       "         [194, 171, 166],\n",
       "         [194, 171, 166],\n",
       "         [194, 171, 166]],\n",
       " \n",
       "        [[216, 196, 192],\n",
       "         [216, 196, 192],\n",
       "         [216, 196, 192],\n",
       "         ...,\n",
       "         [194, 171, 166],\n",
       "         [194, 171, 166],\n",
       "         [194, 171, 166]],\n",
       " \n",
       "        [[216, 196, 192],\n",
       "         [216, 196, 192],\n",
       "         [216, 196, 192],\n",
       "         ...,\n",
       "         [194, 171, 166],\n",
       "         [194, 171, 166],\n",
       "         [194, 171, 166]],\n",
       " \n",
       "        ...,\n",
       " \n",
       "        [[221, 200, 198],\n",
       "         [221, 200, 198],\n",
       "         [221, 200, 198],\n",
       "         ...,\n",
       "         [197, 178, 171],\n",
       "         [197, 178, 171],\n",
       "         [197, 178, 171]],\n",
       " \n",
       "        [[221, 201, 196],\n",
       "         [221, 201, 196],\n",
       "         [221, 201, 196],\n",
       "         ...,\n",
       "         [197, 178, 171],\n",
       "         [197, 178, 171],\n",
       "         [197, 178, 171]],\n",
       " \n",
       "        [[221, 201, 196],\n",
       "         [221, 201, 196],\n",
       "         [221, 201, 196],\n",
       "         ...,\n",
       "         [197, 178, 171],\n",
       "         [197, 178, 171],\n",
       "         [197, 178, 171]]], dtype=uint8)\n",
       " orig_shape: (1000, 1000)\n",
       " path: '/home/gerdson/projetos/FIAP-Hackathon-Grupo2/assets/faca.png'\n",
       " probs: None\n",
       " save_dir: '/home/gerdson/projetos/FIAP-Hackathon-Grupo2/runs/detect/predict'\n",
       " speed: {'preprocess': 1.377105712890625, 'inference': 7.091522216796875, 'postprocess': 0.8265972137451172}]"
      ]
     },
     "execution_count": 8,
     "metadata": {},
     "output_type": "execute_result"
    }
   ],
   "source": [
    "results_img"
   ]
  },
  {
   "cell_type": "code",
   "execution_count": 9,
   "metadata": {},
   "outputs": [
    {
     "data": {
      "text/plain": [
       "ultralytics.engine.results.Boxes object with attributes:\n",
       "\n",
       "cls: tensor([0.], device='cuda:0')\n",
       "conf: tensor([0.9232], device='cuda:0')\n",
       "data: tensor([[153.9328, 383.8145, 871.6057, 863.0958,   0.9232,   0.0000]], device='cuda:0')\n",
       "id: None\n",
       "is_track: False\n",
       "orig_shape: (1000, 1000)\n",
       "shape: torch.Size([1, 6])\n",
       "xywh: tensor([[512.7692, 623.4551, 717.6729, 479.2814]], device='cuda:0')\n",
       "xywhn: tensor([[0.5128, 0.6235, 0.7177, 0.4793]], device='cuda:0')\n",
       "xyxy: tensor([[153.9328, 383.8145, 871.6057, 863.0958]], device='cuda:0')\n",
       "xyxyn: tensor([[0.1539, 0.3838, 0.8716, 0.8631]], device='cuda:0')"
      ]
     },
     "execution_count": 9,
     "metadata": {},
     "output_type": "execute_result"
    }
   ],
   "source": [
    "results_img[0].boxes"
   ]
  },
  {
   "cell_type": "markdown",
   "metadata": {},
   "source": [
    "## Vídeo"
   ]
  },
  {
   "cell_type": "markdown",
   "metadata": {},
   "source": [
    "- \"stream=False\": realiza inferência no vídeo completo e armazena todos os resultados em uma lista. Quanto maior o vídeo, maior o consumo de memória RAM para armazenar todos os resultados\n",
    "- \"stream=True\": cria um \"generator\". O que permite executar frame por frame em um loop, podendo inclusive fazer outras operações em tempo real, sem precisar aguardar que todo o vídeo seja processado. Assim como reduzir a utilização de memória RAM, já que os resultados do frame anterior podem ser eliminados."
   ]
  },
  {
   "cell_type": "code",
   "execution_count": 10,
   "metadata": {},
   "outputs": [],
   "source": [
    "# CAUTION: High memory consumption if \"stream=False\"\n",
    "results_video = model.predict(source='assets/video2.mp4',  # image or video; single value or a list; URL, PIL (RGB), CV2 (BGR), ...\n",
    "                        conf=0.25,\n",
    "                        iou=0.7,\n",
    "                        imgsz=640,\n",
    "                        show=False,\n",
    "                        save=True,\n",
    "                        save_txt=False,  # Save bbox coordination\n",
    "                        save_conf=False,  # save_txt must be True\n",
    "                        save_crop=False,\n",
    "                        # project='runs/detect',\n",
    "                        stream=True  # Do inference now (False) or after (True)\n",
    "                        )"
   ]
  },
  {
   "cell_type": "code",
   "execution_count": 11,
   "metadata": {},
   "outputs": [
    {
     "data": {
      "text/plain": [
       "<generator object BasePredictor.stream_inference at 0x74b9b411b9a0>"
      ]
     },
     "execution_count": 11,
     "metadata": {},
     "output_type": "execute_result"
    }
   ],
   "source": [
    "results_video"
   ]
  },
  {
   "cell_type": "code",
   "execution_count": 12,
   "metadata": {},
   "outputs": [
    {
     "name": "stdout",
     "output_type": "stream",
     "text": [
      "\n",
      "video 1/1 (frame 1/39) /home/gerdson/projetos/FIAP-Hackathon-Grupo2/assets/video2.mp4: 384x640 1 cortante, 41.3ms\n",
      "video 1/1 (frame 2/39) /home/gerdson/projetos/FIAP-Hackathon-Grupo2/assets/video2.mp4: 384x640 2 cortantes, 7.7ms\n",
      "video 1/1 (frame 3/39) /home/gerdson/projetos/FIAP-Hackathon-Grupo2/assets/video2.mp4: 384x640 1 cortante, 6.5ms\n",
      "video 1/1 (frame 4/39) /home/gerdson/projetos/FIAP-Hackathon-Grupo2/assets/video2.mp4: 384x640 (no detections), 6.6ms\n",
      "video 1/1 (frame 5/39) /home/gerdson/projetos/FIAP-Hackathon-Grupo2/assets/video2.mp4: 384x640 (no detections), 6.3ms\n",
      "video 1/1 (frame 6/39) /home/gerdson/projetos/FIAP-Hackathon-Grupo2/assets/video2.mp4: 384x640 1 cortante, 6.6ms\n",
      "video 1/1 (frame 7/39) /home/gerdson/projetos/FIAP-Hackathon-Grupo2/assets/video2.mp4: 384x640 (no detections), 6.2ms\n",
      "video 1/1 (frame 8/39) /home/gerdson/projetos/FIAP-Hackathon-Grupo2/assets/video2.mp4: 384x640 (no detections), 6.8ms\n",
      "video 1/1 (frame 9/39) /home/gerdson/projetos/FIAP-Hackathon-Grupo2/assets/video2.mp4: 384x640 (no detections), 6.2ms\n",
      "video 1/1 (frame 10/39) /home/gerdson/projetos/FIAP-Hackathon-Grupo2/assets/video2.mp4: 384x640 (no detections), 6.4ms\n",
      "video 1/1 (frame 11/39) /home/gerdson/projetos/FIAP-Hackathon-Grupo2/assets/video2.mp4: 384x640 1 cortante, 6.2ms\n",
      "video 1/1 (frame 12/39) /home/gerdson/projetos/FIAP-Hackathon-Grupo2/assets/video2.mp4: 384x640 (no detections), 6.9ms\n",
      "video 1/1 (frame 13/39) /home/gerdson/projetos/FIAP-Hackathon-Grupo2/assets/video2.mp4: 384x640 (no detections), 6.3ms\n",
      "video 1/1 (frame 14/39) /home/gerdson/projetos/FIAP-Hackathon-Grupo2/assets/video2.mp4: 384x640 (no detections), 6.3ms\n",
      "video 1/1 (frame 15/39) /home/gerdson/projetos/FIAP-Hackathon-Grupo2/assets/video2.mp4: 384x640 (no detections), 6.3ms\n",
      "video 1/1 (frame 16/39) /home/gerdson/projetos/FIAP-Hackathon-Grupo2/assets/video2.mp4: 384x640 (no detections), 6.3ms\n",
      "video 1/1 (frame 17/39) /home/gerdson/projetos/FIAP-Hackathon-Grupo2/assets/video2.mp4: 384x640 (no detections), 6.3ms\n",
      "video 1/1 (frame 18/39) /home/gerdson/projetos/FIAP-Hackathon-Grupo2/assets/video2.mp4: 384x640 (no detections), 6.3ms\n",
      "video 1/1 (frame 19/39) /home/gerdson/projetos/FIAP-Hackathon-Grupo2/assets/video2.mp4: 384x640 (no detections), 6.3ms\n",
      "video 1/1 (frame 20/39) /home/gerdson/projetos/FIAP-Hackathon-Grupo2/assets/video2.mp4: 384x640 (no detections), 6.4ms\n",
      "video 1/1 (frame 21/39) /home/gerdson/projetos/FIAP-Hackathon-Grupo2/assets/video2.mp4: 384x640 1 cortante, 6.4ms\n",
      "video 1/1 (frame 22/39) /home/gerdson/projetos/FIAP-Hackathon-Grupo2/assets/video2.mp4: 384x640 (no detections), 6.5ms\n",
      "video 1/1 (frame 23/39) /home/gerdson/projetos/FIAP-Hackathon-Grupo2/assets/video2.mp4: 384x640 1 cortante, 6.4ms\n",
      "video 1/1 (frame 24/39) /home/gerdson/projetos/FIAP-Hackathon-Grupo2/assets/video2.mp4: 384x640 (no detections), 6.2ms\n",
      "video 1/1 (frame 25/39) /home/gerdson/projetos/FIAP-Hackathon-Grupo2/assets/video2.mp4: 384x640 (no detections), 6.2ms\n",
      "video 1/1 (frame 26/39) /home/gerdson/projetos/FIAP-Hackathon-Grupo2/assets/video2.mp4: 384x640 (no detections), 6.5ms\n",
      "video 1/1 (frame 27/39) /home/gerdson/projetos/FIAP-Hackathon-Grupo2/assets/video2.mp4: 384x640 (no detections), 6.3ms\n",
      "video 1/1 (frame 28/39) /home/gerdson/projetos/FIAP-Hackathon-Grupo2/assets/video2.mp4: 384x640 (no detections), 6.7ms\n",
      "video 1/1 (frame 29/39) /home/gerdson/projetos/FIAP-Hackathon-Grupo2/assets/video2.mp4: 384x640 (no detections), 6.5ms\n",
      "video 1/1 (frame 30/39) /home/gerdson/projetos/FIAP-Hackathon-Grupo2/assets/video2.mp4: 384x640 (no detections), 6.6ms\n",
      "video 1/1 (frame 31/39) /home/gerdson/projetos/FIAP-Hackathon-Grupo2/assets/video2.mp4: 384x640 (no detections), 6.2ms\n",
      "video 1/1 (frame 32/39) /home/gerdson/projetos/FIAP-Hackathon-Grupo2/assets/video2.mp4: 384x640 (no detections), 6.6ms\n",
      "video 1/1 (frame 33/39) /home/gerdson/projetos/FIAP-Hackathon-Grupo2/assets/video2.mp4: 384x640 (no detections), 6.2ms\n",
      "video 1/1 (frame 34/39) /home/gerdson/projetos/FIAP-Hackathon-Grupo2/assets/video2.mp4: 384x640 (no detections), 7.1ms\n",
      "video 1/1 (frame 35/39) /home/gerdson/projetos/FIAP-Hackathon-Grupo2/assets/video2.mp4: 384x640 (no detections), 6.3ms\n",
      "video 1/1 (frame 36/39) /home/gerdson/projetos/FIAP-Hackathon-Grupo2/assets/video2.mp4: 384x640 (no detections), 6.9ms\n",
      "video 1/1 (frame 37/39) /home/gerdson/projetos/FIAP-Hackathon-Grupo2/assets/video2.mp4: 384x640 (no detections), 6.2ms\n",
      "video 1/1 (frame 38/39) /home/gerdson/projetos/FIAP-Hackathon-Grupo2/assets/video2.mp4: 384x640 1 cortante, 6.5ms\n",
      "video 1/1 (frame 39/39) /home/gerdson/projetos/FIAP-Hackathon-Grupo2/assets/video2.mp4: 384x640 1 cortante, 6.5ms\n",
      "Speed: 0.9ms preprocess, 7.4ms inference, 0.4ms postprocess per image at shape (1, 3, 384, 640)\n",
      "Results saved to \u001b[1m/home/gerdson/projetos/FIAP-Hackathon-Grupo2/runs/detect/predict\u001b[0m\n"
     ]
    }
   ],
   "source": [
    "for result in results_video:\n",
    "    # Do something with results...\n",
    "    pass\n",
    "    # boxes = result.boxes  # Boxes object for bbox outputs\n",
    "    # masks = result.masks  # Masks object for segmentation masks outputs\n",
    "    # keypoints = result.keypoints  # Keypoints object for pose outputs\n",
    "    # probs = result.probs  # Probs object for classification outputs"
   ]
  }
 ],
 "metadata": {
  "accelerator": "GPU",
  "colab": {
   "gpuType": "A100",
   "machine_shape": "hm",
   "provenance": []
  },
  "kernelspec": {
   "display_name": "streamlit2",
   "language": "python",
   "name": "python3"
  },
  "language_info": {
   "codemirror_mode": {
    "name": "ipython",
    "version": 3
   },
   "file_extension": ".py",
   "mimetype": "text/x-python",
   "name": "python",
   "nbconvert_exporter": "python",
   "pygments_lexer": "ipython3",
   "version": "3.12.8"
  }
 },
 "nbformat": 4,
 "nbformat_minor": 4
}
