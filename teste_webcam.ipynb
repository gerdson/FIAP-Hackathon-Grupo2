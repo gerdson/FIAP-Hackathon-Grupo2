{
 "cells": [
  {
   "cell_type": "code",
   "execution_count": 1,
   "metadata": {},
   "outputs": [],
   "source": [
    "from ultralytics import YOLO\n",
    "import cv2\n",
    "\n",
    "model = YOLO('yolo11n')\n",
    "\n",
    "def detection(image, conf_threshold=0.3):\n",
    "    image = cv2.resize(image, (model.input_width, model.input_height))\n",
    "    new_image = model.detect_objects(image, conf_threshold)\n",
    "    return new_image"
   ]
  },
  {
   "cell_type": "code",
   "execution_count": null,
   "metadata": {},
   "outputs": [],
   "source": [
    "import gradio as gr\n",
    "from gradio_webrtc import WebRTC\n",
    "\n",
    "css = \"\"\".my-group {max-width: 600px !important; max-height: 600px !important;}\n",
    "         .my-column {display: flex !important; justify-content: center !important; align-items: center !important;}\"\"\"\n",
    "\n",
    "with gr.Blocks(css=css) as demo:\n",
    "    gr.HTML(\n",
    "        \"\"\"\n",
    "        <h1 style='text-align: center'>\n",
    "        YOLO11n Webcam Stream (Powered by WebRTC ⚡️)\n",
    "        </h1>\n",
    "        \"\"\"\n",
    "    )\n",
    "    with gr.Column(elem_classes=[\"my-column\"]):\n",
    "        with gr.Group(elem_classes=[\"my-group\"]):\n",
    "            image = WebRTC(label=\"Stream\")\n",
    "            conf_threshold = gr.Slider(\n",
    "                label=\"Confidence Threshold\",\n",
    "                minimum=0.0,\n",
    "                maximum=1.0,\n",
    "                step=0.05,\n",
    "                value=0.30,\n",
    "            )\n",
    "\n",
    "        image.stream(\n",
    "            fn=detection, inputs=[image, conf_threshold], outputs=[image], time_limit=10\n",
    "        )\n",
    "\n",
    "demo.launch()"
   ]
  }
 ],
 "metadata": {
  "kernelspec": {
   "display_name": "fiap-hackathon",
   "language": "python",
   "name": "python3"
  },
  "language_info": {
   "codemirror_mode": {
    "name": "ipython",
    "version": 3
   },
   "file_extension": ".py",
   "mimetype": "text/x-python",
   "name": "python",
   "nbconvert_exporter": "python",
   "pygments_lexer": "ipython3",
   "version": "3.12.8"
  }
 },
 "nbformat": 4,
 "nbformat_minor": 2
}
